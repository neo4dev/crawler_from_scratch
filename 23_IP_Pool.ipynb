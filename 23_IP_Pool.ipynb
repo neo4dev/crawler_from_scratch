{
 "cells": [
  {
   "cell_type": "code",
   "execution_count": null,
   "metadata": {},
   "outputs": [],
   "source": [
    "# default_exp IpPool"
   ]
  },
  {
   "cell_type": "code",
   "execution_count": null,
   "metadata": {},
   "outputs": [],
   "source": [
    "%reload_ext autoreload\n",
    "%autoreload 2"
   ]
  },
  {
   "cell_type": "code",
   "execution_count": null,
   "metadata": {},
   "outputs": [
    {
     "name": "stdout",
     "output_type": "stream",
     "text": [
      "Converted 23_IP_Pool.ipynb.\r\n"
     ]
    }
   ],
   "source": [
    "# hide\n",
    "!nbdev_build_lib --fname 23_IP_Pool.ipynb"
   ]
  },
  {
   "cell_type": "markdown",
   "metadata": {},
   "source": [
    "# 代理池\n",
    "实现效果\n",
    "1. 每10分钟批量抓取一次ip\n",
    "* 每天删除health为0的ip\n"
   ]
  },
  {
   "cell_type": "code",
   "execution_count": null,
   "metadata": {},
   "outputs": [],
   "source": [
    "# export\n",
    "import re,random,time\n",
    "from concurrent.futures import ThreadPoolExecutor\n",
    "\n",
    "import requests,redis \n",
    "from bs4 import BeautifulSoup\n"
   ]
  },
  {
   "cell_type": "markdown",
   "metadata": {},
   "source": [
    "## 获取一个可用ip"
   ]
  },
  {
   "cell_type": "code",
   "execution_count": null,
   "metadata": {},
   "outputs": [],
   "source": [
    "# export\n",
    "def connect_db() -> object:\n",
    "    connection_pool = redis.ConnectionPool(host='localhost', port=6379, decode_responses=True)\n",
    "    rdb = redis.Redis(connection_pool=connection_pool)\n",
    "    return rdb\n",
    "\n",
    "def _get_ip(protocal='http') -> str:\n",
    "    '把health作为权重，随机抽取ip'\n",
    "    rdb = connect_db()\n",
    "    ips = []\n",
    "    healths = []\n",
    "    \n",
    "    for name in rdb.keys():\n",
    "        health_type = 'http_health' if protocal=='http' else 'https_health'\n",
    "        health = rdb.hget(name,health_type)\n",
    "        \n",
    "        ips.append(name)\n",
    "        healths.append(int(health))\n",
    "    return random.choices(ips,healths)[0]"
   ]
  },
  {
   "cell_type": "code",
   "execution_count": null,
   "metadata": {},
   "outputs": [
    {
     "data": {
      "text/plain": [
       "'121.13.252.58:41564'"
      ]
     },
     "execution_count": null,
     "metadata": {},
     "output_type": "execute_result"
    }
   ],
   "source": [
    "_get_ip()"
   ]
  },
  {
   "cell_type": "code",
   "execution_count": null,
   "metadata": {},
   "outputs": [],
   "source": [
    "def make_test_data():\n",
    "    rdb = connect_db()\n",
    "    rdb.hmset('167.172.138.162:8080',{'http_health':51,'https_health':12})\n",
    "    rdb.hmset('128.199.246.10:44344',{'http_health':25,'https_health':102})    "
   ]
  },
  {
   "cell_type": "code",
   "execution_count": null,
   "metadata": {},
   "outputs": [
    {
     "data": {
      "text/plain": [
       "'188.27.137.163:30987'"
      ]
     },
     "execution_count": null,
     "metadata": {},
     "output_type": "execute_result"
    }
   ],
   "source": [
    "make_test_data()\n",
    "_get_ip('https')   "
   ]
  },
  {
   "cell_type": "markdown",
   "metadata": {},
   "source": [
    "## 更新健康值"
   ]
  },
  {
   "cell_type": "code",
   "execution_count": null,
   "metadata": {},
   "outputs": [],
   "source": [
    "# export\n",
    "def update_health(ip,is_health=False,protocal='http'):\n",
    "    rdb = connect_db()\n",
    "    health_type = 'http_health' if protocal=='http' else 'https_health'\n",
    "    \n",
    "    health = int(rdb.hget(ip,health_type))\n",
    "    if is_health:\n",
    "        rdb.hset(ip,health_type,health+1)\n",
    "        print('+ Health',protocal,ip,rdb.hget(ip,health_type))        \n",
    "    else:\n",
    "        rdb.hset(ip,health_type,health//2)\n",
    "#     print('+' if is_health else '-','Health',protocal,ip,rdb.hget(ip,health_type))"
   ]
  },
  {
   "cell_type": "code",
   "execution_count": null,
   "metadata": {},
   "outputs": [
    {
     "name": "stdout",
     "output_type": "stream",
     "text": [
      "+ Health http 128.199.246.10:44344 26\n"
     ]
    }
   ],
   "source": [
    "update_health('128.199.246.10:44344',is_health=True)"
   ]
  },
  {
   "cell_type": "markdown",
   "metadata": {},
   "source": [
    "## 爬取ip"
   ]
  },
  {
   "cell_type": "code",
   "execution_count": null,
   "metadata": {},
   "outputs": [],
   "source": [
    "# export\n",
    "proxy_website_urls = '''\n",
    "https://www.kuaidaili.com/free/inha/\n",
    "http://www.nimadaili.com/gaoni/\n",
    "https://www.xicidaili.com/nn/\n",
    "http://www.xiladaili.com/gaoni/\n",
    "https://ip.jiangxianli.com/?anonymity=2\n",
    "https://www.7yip.cn/free/\n",
    "http://www.ip3366.net/free/\n",
    "https://list.proxylistplus.com/Fresh-HTTP-Proxy-List-1\n",
    "http://proxyslist.com/\n",
    "'''.strip().split('\\n')\n",
    "\n",
    "def match_ip(tag): return re.match(r'^(\\d{1,3}\\.){3}\\d{1,3}$',tag.text.strip())\n",
    "def match_port(tag): return re.match(r'^\\d{2,5}$',tag.text.strip())\n",
    "def match_ip_with_port(tag): return re.match(r'^(\\d{1,3}\\.){3}\\d{1,3}:\\d{2,5}$',tag.text.strip())\n",
    "\n",
    "def find_port(ip_item_soup) -> str:\n",
    "    soup = ip_item_soup\n",
    "    while True:\n",
    "        # 不停的查找包含port的父级\n",
    "        soup = soup.parent\n",
    "        if len(soup.find_all(match_ip)) > 1:\n",
    "#             print('解析port失败',soup)\n",
    "            return \n",
    "        if soup.find(match_port): \n",
    "            return soup.find(match_port).text.strip()\n",
    "\n",
    "def find_ips(soup) -> iter:\n",
    "    '从soup中解析出ip和port'\n",
    "    # 39.137.107.98:80这种情况\n",
    "    if soup.find_all(match_ip_with_port):\n",
    "        for item in soup.find_all(match_ip_with_port):\n",
    "            yield item.text.strip()\n",
    "    # 39.137.107.98 | 80这种情况\n",
    "    elif soup.find_all(match_ip):\n",
    "        for item in soup.find_all(match_ip):\n",
    "            ip = item.text.strip()\n",
    "            port = find_port(item)\n",
    "            if port: yield ip+':'+port\n",
    "    else:\n",
    "        print('解析失败：',soup)\n",
    "        \n",
    "def crawl_ip(url):\n",
    "    '爬取1个页面的ip'\n",
    "    rdb = connect_db()\n",
    "    res = requests.get(url,headers={'user-agent':'Mozilla/5.0'})\n",
    "    stock_before = len(rdb.keys())\n",
    "    \n",
    "    if res.status_code == 200:\n",
    "        soup = BeautifulSoup(res.text,'lxml')\n",
    "        for ip in find_ips(soup):\n",
    "            rdb.hmset(ip,{'http_health':100,'https_health':100})\n",
    "  \n",
    "        stock = len(rdb.keys())\n",
    "        print(f'{url} 新增：{stock-stock_before}，库存更新为：{stock}个')\n",
    "    else:\n",
    "        print(url,res,'requests请求失败')"
   ]
  },
  {
   "cell_type": "code",
   "execution_count": null,
   "metadata": {},
   "outputs": [
    {
     "name": "stdout",
     "output_type": "stream",
     "text": [
      "https://www.xicidaili.com/nn/ 新增：0，库存更新为：1703个\n"
     ]
    }
   ],
   "source": [
    "crawl_ip(proxy_website_urls[2])"
   ]
  },
  {
   "cell_type": "markdown",
   "metadata": {},
   "source": [
    "## 校验IP"
   ]
  },
  {
   "cell_type": "code",
   "execution_count": null,
   "metadata": {},
   "outputs": [],
   "source": [
    "# export\n",
    "def validate(ip,url='http://m.sm.cn/',timeout=5):\n",
    "    protocal = url.split(':')[0]\n",
    "    proxies={protocal: protocal+'://'+ip}\n",
    "    try:\n",
    "        res = requests.get(url,\n",
    "                           headers={'user-agent':'Mozilla/5.0'},\n",
    "                           proxies=proxies,\n",
    "                           timeout=timeout)\n",
    "    except:\n",
    "        update_health(ip,is_health=False,protocal=protocal)\n",
    "    else:\n",
    "        if res and res.status_code == 200:\n",
    "            update_health(ip,is_health=True,protocal=protocal)\n",
    "        else:\n",
    "            update_health(ip,is_health=False,protocal=protocal)\n",
    "        "
   ]
  },
  {
   "cell_type": "code",
   "execution_count": null,
   "metadata": {},
   "outputs": [
    {
     "name": "stdout",
     "output_type": "stream",
     "text": [
      "- Health http 128.199.246.10:44344 13\n"
     ]
    }
   ],
   "source": [
    "validate('128.199.246.10:44344')"
   ]
  },
  {
   "cell_type": "code",
   "execution_count": null,
   "metadata": {},
   "outputs": [],
   "source": [
    "# export\n",
    "def parallel_validate(max_workers=100):\n",
    "    rdb = connect_db()\n",
    "    with ThreadPoolExecutor(max_workers=max_workers) as executor:\n",
    "        executor.map(validate, rdb.keys()) "
   ]
  },
  {
   "cell_type": "code",
   "execution_count": null,
   "metadata": {},
   "outputs": [
    {
     "name": "stdout",
     "output_type": "stream",
     "text": [
      "+ Health http 101.37.118.54:8888 101\n",
      "+ Health http 116.196.87.86:20183 103\n",
      "+ Health http 103.43.75.98:80 101\n",
      "+ Health http 82.119.170.106:8080 51\n",
      "+ Health http 188.40.68.151:3128 101\n",
      "+ Health http 119.41.236.180:8010 101\n",
      "+ Health http 35.183.117.50:80 101\n",
      "+ Health http 140.238.16.90:3128 103\n",
      "+ Health http 59.56.28.254:80 101\n",
      "+ Health http 203.19.88.59:80 101\n",
      "+ Health http 118.172.201.59:39931 26\n",
      "+ Health http 202.5.221.66:80 103\n",
      "+ Health http 103.37.81.92:48248 26\n",
      "+ Health http 182.171.88.245:8080 103\n",
      "+ Health http 94.130.70.42:80 101\n",
      "+ Health http 18.138.91.14:3128 26\n",
      "+ Health http 80.187.140.26:8080 101\n",
      "+ Health http 96.113.183.214:3128 103\n",
      "+ Health http 110.74.195.215:44975 26\n",
      "+ Health http 1.119.166.180:8080 51\n",
      "+ Health http 51.158.119.88:8811 26\n",
      "+ Health http 178.32.6.105:3128 51\n",
      "+ Health http 197.216.2.14:8080 26\n",
      "+ Health http 110.232.81.71:8080 52\n",
      "+ Health http 121.237.148.153:3000 101\n",
      "+ Health http 116.196.85.150:3128 103\n",
      "+ Health http 180.252.181.2:80 103\n",
      "+ Health http 142.93.4.1:3128 101\n",
      "+ Health http 199.247.14.94:8080 101\n",
      "+ Health http 188.40.212.74:8888 101\n",
      "+ Health http 180.183.60.130:8080 51\n",
      "+ Health http 115.223.7.110:80 101\n",
      "+ Health http 202.62.84.210:53281 26\n",
      "+ Health http 46.246.84.3:3128 51\n",
      "+ Health http 202.5.221.69:80 103\n",
      "+ Health http 51.158.111.242:8811 101\n",
      "+ Health http 51.158.180.179:8811 103\n",
      "+ Health http 113.66.6.254:808 52\n",
      "+ Health http 106.14.173.173:8080 101\n",
      "+ Health http 118.69.50.154:443 52\n",
      "+ Health http 202.115.142.147:9200 101\n",
      "+ Health http 203.202.245.62:80 101\n",
      "+ Health http 221.180.170.104:8080 101\n",
      "+ Health http 163.172.146.119:8811 101\n",
      "+ Health http 222.218.122.5:9797 26\n",
      "+ Health http 39.137.69.9:80 101\n",
      "+ Health http 197.95.153.4:8080 51\n",
      "+ Health http 95.54.196.135:3128 26\n",
      "+ Health http 123.168.67.63:8118 51\n",
      "+ Health http 52.80.58.248:3128 103\n",
      "+ Health http 163.172.189.32:8811 103\n",
      "+ Health http 88.199.21.76:80 103\n",
      "+ Health http 200.89.174.216:8080 103\n",
      "+ Health http 181.118.167.104:80 103\n",
      "+ Health http 75.80.242.9:41007 52\n",
      "+ Health http 116.114.19.211:443 101\n",
      "+ Health http 51.158.123.35:8811 26\n",
      "+ Health http 52.179.231.206:80 101\n",
      "+ Health http 117.88.177.76:3000 101\n",
      "+ Health http 201.64.22.51:8081 26\n",
      "+ Health http 39.137.69.10:80 101\n",
      "+ Health http 59.56.28.198:80 101\n",
      "+ Health http 206.189.85.80:8080 103\n",
      "+ Health http 1.20.97.96:54205 26\n",
      "+ Health http 13.232.204.214:80 101\n",
      "+ Health http 203.176.133.38:8080 26\n",
      "+ Health http 39.137.69.7:80 103\n",
      "+ Health http 101.4.136.34:81 101\n",
      "+ Health http 50.226.151.3:80 101\n",
      "+ Health http 45.115.171.252:41945 26\n",
      "+ Health http 45.120.44.113:80 101\n",
      "+ Health http 36.66.98.6:53281 26\n",
      "+ Health http 94.75.76.10:8080 101\n",
      "+ Health http 31.206.54.10:8080 26\n",
      "+ Health http 117.88.176.91:3000 101\n",
      "+ Health http 128.199.252.41:44344 52\n",
      "+ Health http 180.252.181.3:80 101\n",
      "+ Health http 128.199.67.15:8080 103\n",
      "+ Health http 175.106.17.98:8080 52\n",
      "+ Health http 159.138.1.185:80 26\n",
      "+ Health http 39.137.107.98:8080 101\n",
      "+ Health http 132.145.89.166:3128 101\n",
      "+ Health http 42.115.88.12:32503 26\n",
      "+ Health http 116.114.19.204:443 101\n",
      "+ Health http 117.69.153.36:9999 26\n",
      "+ Health http 218.75.158.153:3128 103\n",
      "+ Health http 39.137.107.98:80 101\n",
      "+ Health http 191.240.152.133:80 101\n",
      "+ Health http 200.255.122.170:8080 26\n",
      "+ Health http 163.125.65.233:9797 103\n",
      "+ Health http 51.158.186.242:8811 103\n",
      "+ Health http 119.82.253.24:44060 26\n",
      "+ Health http 117.88.177.28:3000 101\n",
      "+ Health http 101.108.248.118:8080 26\n",
      "+ Health http 34.89.173.90:3128 26\n",
      "+ Health http 118.175.228.155:8080 26\n",
      "+ Health http 89.221.54.114:8080 51\n",
      "+ Health http 39.108.123.4:3128 103\n",
      "+ Health http 51.158.123.250:8811 103\n",
      "+ Health http 101.4.136.34:80 103\n",
      "+ Health http 54.171.243.99:3128 101\n",
      "+ Health http 118.70.144.77:3128 101\n",
      "+ Health http 46.52.214.216:8080 26\n",
      "+ Health http 120.28.218.28:3128 51\n",
      "+ Health http 39.137.69.8:80 101\n",
      "+ Health http 18.208.128.49:8080 101\n",
      "+ Health http 183.89.184.224:8080 26\n",
      "+ Health http 1.0.139.36:8080 26\n",
      "+ Health http 210.71.71.2:8080 51\n",
      "+ Health http 125.69.182.41:30228 51\n",
      "+ Health http 178.128.127.16:8080 103\n",
      "+ Health http 31.204.180.44:53281 51\n",
      "+ Health http 195.122.17.123:3128 103\n",
      "+ Health http 113.119.11.151:3128 26\n",
      "+ Health http 203.175.171.155:3128 101\n",
      "+ Health http 151.253.165.70:8080 101\n",
      "+ Health http 190.144.116.34:36742 26\n",
      "+ Health http 117.197.47.2:47298 51\n",
      "+ Health http 47.106.59.75:3128 103\n",
      "+ Health http 185.54.237.114:3128 51\n",
      "+ Health http 93.175.203.124:56593 51\n",
      "+ Health http 31.40.136.141:53281 26\n",
      "+ Health http 181.62.245.247:8080 51\n",
      "+ Health http 178.128.5.220:80 26\n",
      "+ Health http 52.140.242.103:3128 101\n",
      "+ Health http 128.199.150.150:47503 26\n",
      "+ Health http 5.141.244.97:61288 51\n",
      "+ Health http 122.201.112.114:80 52\n",
      "+ Health http 201.20.106.186:8080 26\n",
      "+ Health http 159.138.20.247:443 101\n",
      "+ Health http 185.138.69.110:39274 101\n",
      "+ Health http 5.149.205.141:8080 26\n",
      "+ Health http 37.120.161.249:3128 51\n",
      "+ Health http 180.87.226.210:83 26\n",
      "+ Health http 51.158.68.133:8811 52\n",
      "+ Health http 62.68.43.67:8080 26\n"
     ]
    }
   ],
   "source": [
    "parallel_validate()"
   ]
  },
  {
   "cell_type": "code",
   "execution_count": null,
   "metadata": {},
   "outputs": [],
   "source": []
  },
  {
   "cell_type": "markdown",
   "metadata": {},
   "source": [
    "## 定期更新IP\n",
    ">10min更新一次"
   ]
  },
  {
   "cell_type": "code",
   "execution_count": null,
   "metadata": {},
   "outputs": [],
   "source": [
    "# export\n",
    "last_crawl = 0\n",
    "def parallel_crawl_ips():\n",
    "    with ThreadPoolExecutor(max_workers=10) as executor:\n",
    "        executor.map(crawl_ip, proxy_website_urls) \n",
    "def repeat_crawl_ips(frequency=600):\n",
    "    global last_crawl\n",
    "    now = time.time()\n",
    "    if last_crawl//frequency != now//frequency:\n",
    "        last_crawl = now\n",
    "        parallel_crawl_ips()"
   ]
  },
  {
   "cell_type": "code",
   "execution_count": null,
   "metadata": {},
   "outputs": [
    {
     "name": "stdout",
     "output_type": "stream",
     "text": [
      "https://www.7yip.cn/free/ 新增：20，库存更新为：1447个\n",
      "http://www.nimadaili.com/gaoni/ 新增：22，库存更新为：1449个\n",
      "http://www.ip3366.net/free/ 新增：23，库存更新为：1450个\n",
      "http://www.xiladaili.com/gaoni/ 新增：33，库存更新为：1460个\n",
      "https://ip.jiangxianli.com/?anonymity=2 新增：14，库存更新为：1460个\n",
      "https://www.kuaidaili.com/free/inha/ 新增：31，库存更新为：1461个\n",
      "https://www.xicidaili.com/nn/ 新增：22，库存更新为：1461个\n",
      "https://list.proxylistplus.com/Fresh-HTTP-Proxy-List-1 新增：0，库存更新为：1461个\n",
      "http://proxyslist.com/ 新增：24，库存更新为：1485个\n"
     ]
    }
   ],
   "source": [
    "repeat_crawl_ips()"
   ]
  },
  {
   "cell_type": "markdown",
   "metadata": {},
   "source": [
    "## 定期删除IP\n",
    "> 每日删除health为0的IP"
   ]
  },
  {
   "cell_type": "code",
   "execution_count": null,
   "metadata": {},
   "outputs": [],
   "source": [
    "# export\n",
    "last_delete = 0\n",
    "def delete_ips():\n",
    "    rdb = connect_db()\n",
    "    count = 0\n",
    "    for name in rdb.keys():\n",
    "        if rdb.hget(name,'http_health') == '0' and rdb.hget(name,'https_health') == '0':\n",
    "            rdb.delete(ip) \n",
    "            count += 1\n",
    "    print(f'删除{count}个无效IP')\n",
    "    \n",
    "def repeat_delete_ips(frequency=24*3600):\n",
    "    global last_delete\n",
    "    now = time.time()\n",
    "    \n",
    "    if last_delete//frequency != now//frequency:\n",
    "        last_delete = now\n",
    "        delete_ips()\n",
    "    "
   ]
  },
  {
   "cell_type": "code",
   "execution_count": null,
   "metadata": {},
   "outputs": [
    {
     "name": "stdout",
     "output_type": "stream",
     "text": [
      "删除0个无效IP\n"
     ]
    }
   ],
   "source": [
    "repeat_delete_ips()"
   ]
  },
  {
   "cell_type": "markdown",
   "metadata": {},
   "source": [
    "## 自动维护IP池"
   ]
  },
  {
   "cell_type": "code",
   "execution_count": null,
   "metadata": {},
   "outputs": [],
   "source": [
    "# export\n",
    "def get_ip(protocal='http') -> str:\n",
    "    repeat_crawl_ips()\n",
    "    repeat_delete_ips()\n",
    "    return _get_ip(protocal)\n",
    "    "
   ]
  },
  {
   "cell_type": "code",
   "execution_count": null,
   "metadata": {},
   "outputs": [
    {
     "data": {
      "text/plain": [
       "'192.41.71.199:3128'"
      ]
     },
     "execution_count": null,
     "metadata": {},
     "output_type": "execute_result"
    }
   ],
   "source": [
    "get_ip()"
   ]
  },
  {
   "cell_type": "code",
   "execution_count": null,
   "metadata": {},
   "outputs": [],
   "source": []
  }
 ],
 "metadata": {
  "kernelspec": {
   "display_name": "Python 3",
   "language": "python",
   "name": "python3"
  }
 },
 "nbformat": 4,
 "nbformat_minor": 2
}
