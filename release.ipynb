{
 "cells": [
  {
   "cell_type": "markdown",
   "metadata": {},
   "source": [
    "# 发布\n",
    "> 将文件打包，上传到github"
   ]
  },
  {
   "cell_type": "code",
   "execution_count": null,
   "metadata": {},
   "outputs": [],
   "source": [
    "# hide\n",
    "!pip install nbdev -U\n",
    "!nbdev_install_git_hooks"
   ]
  },
  {
   "cell_type": "code",
   "execution_count": null,
   "metadata": {},
   "outputs": [
    {
     "name": "stdout",
     "output_type": "stream",
     "text": [
      "Converted 12_Database.ipynb.\r\n"
     ]
    }
   ],
   "source": [
    "# hide\n",
    "!nbdev_build_lib --fname 12_Database.ipynb"
   ]
  },
  {
   "cell_type": "code",
   "execution_count": null,
   "metadata": {},
   "outputs": [],
   "source": [
    "# hide\n",
    "!nbdev_build_docs"
   ]
  },
  {
   "cell_type": "code",
   "execution_count": null,
   "metadata": {},
   "outputs": [],
   "source": [
    "# hide\n",
    "!nbdev_test_nbs --fname 12_Database.ipynb"
   ]
  },
  {
   "cell_type": "code",
   "execution_count": null,
   "metadata": {},
   "outputs": [
    {
     "name": "stdout",
     "output_type": "stream",
     "text": [
      "On branch master\r\n",
      "Your branch is ahead of 'origin/master' by 2 commits.\r\n",
      "  (use \"git push\" to publish your local commits)\r\n",
      "\r\n",
      "Changes not staged for commit:\r\n",
      "  (use \"git add <file>...\" to update what will be committed)\r\n",
      "  (use \"git checkout -- <file>...\" to discard changes in working directory)\r\n",
      "\r\n",
      "\t\u001b[31mmodified:   11_Proxy_Request.ipynb\u001b[m\r\n",
      "\t\u001b[31mmodified:   12_Database.ipynb\u001b[m\r\n",
      "\t\u001b[31mmodified:   README.md\u001b[m\r\n",
      "\t\u001b[31mmodified:   crawler_from_scratch/None.py\u001b[m\r\n",
      "\t\u001b[31mmodified:   crawler_from_scratch/proxy.py\u001b[m\r\n",
      "\t\u001b[31mmodified:   data/11_Proxy.json\u001b[m\r\n",
      "\t\u001b[31mmodified:   docs/Proxy_Request.html\u001b[m\r\n",
      "\t\u001b[31mmodified:   docs/_data/sidebars/home_sidebar.yml\u001b[m\r\n",
      "\t\u001b[31mmodified:   docs/index.html\u001b[m\r\n",
      "\t\u001b[31mmodified:   docs/sidebar.json\u001b[m\r\n",
      "\t\u001b[31mmodified:   index.ipynb\u001b[m\r\n",
      "\t\u001b[31mmodified:   others.ipynb\u001b[m\r\n",
      "\t\u001b[31mmodified:   release.ipynb\u001b[m\r\n",
      "\r\n",
      "Untracked files:\r\n",
      "  (use \"git add <file>...\" to include in what will be committed)\r\n",
      "\r\n",
      "\t\u001b[31m13_Data_Analysis.ipynb\u001b[m\r\n",
      "\t\u001b[31mdocs/Database.html\u001b[m\r\n",
      "\r\n",
      "no changes added to commit (use \"git add\" and/or \"git commit -a\")\r\n"
     ]
    }
   ],
   "source": [
    "# hide\n",
    "!git status"
   ]
  },
  {
   "cell_type": "code",
   "execution_count": null,
   "metadata": {},
   "outputs": [
    {
     "name": "stdout",
     "output_type": "stream",
     "text": [
      "[master 0717cb2] finish database\r\n",
      " 15 files changed, 3263 insertions(+), 12971 deletions(-)\r\n",
      " rewrite 12_Database.ipynb (97%)\r\n",
      " create mode 100644 13_Data_Analysis.ipynb\r\n",
      " rewrite data/11_Proxy.json (93%)\r\n",
      " create mode 100644 docs/Database.html\r\n",
      " rewrite docs/Proxy_Request.html (92%)\r\n"
     ]
    }
   ],
   "source": [
    "# hide\n",
    "# 除了变化的文件，新增的文件也加进去\n",
    "!git add -A\n",
    "# add变化的文件和commit合成一条\n",
    "!git commit -m \"finish database\""
   ]
  },
  {
   "cell_type": "code",
   "execution_count": null,
   "metadata": {},
   "outputs": [
    {
     "name": "stdout",
     "output_type": "stream",
     "text": [
      "Already up to date.\n",
      "Enumerating objects: 57, done.\n",
      "Counting objects: 100% (57/57), done.\n",
      "Delta compression using up to 4 threads\n",
      "Compressing objects: 100% (36/36), done.\n",
      "Writing objects: 100% (37/37), 80.51 KiB | 2.01 MiB/s, done.\n",
      "Total 37 (delta 27), reused 0 (delta 0)\n",
      "remote: Resolving deltas: 100% (27/27), completed with 15 local objects.\u001b[K\n",
      "To https://github.com/neo4dev/crawler_from_scratch.git\n",
      "   cc2ea60..0717cb2  master -> master\n"
     ]
    }
   ],
   "source": [
    "# hide\n",
    "!git pull\n",
    "# 第一次push需要用户名密码，可能需要在terminal输入\n",
    "# 因为国内push总超时，这是用shadowsocks代理的方法\n",
    "!git config --global http.https://github.com.proxy socks5://127.0.0.1:1086\n",
    "!git config --global https.https://github.com.proxy socks5://127.0.0.1:1086\n",
    "!git push"
   ]
  },
  {
   "cell_type": "code",
   "execution_count": null,
   "metadata": {},
   "outputs": [],
   "source": []
  }
 ],
 "metadata": {
  "kernelspec": {
   "display_name": "Python 3",
   "language": "python",
   "name": "python3"
  }
 },
 "nbformat": 4,
 "nbformat_minor": 2
}
