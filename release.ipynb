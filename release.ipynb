{
 "cells": [
  {
   "cell_type": "markdown",
   "metadata": {},
   "source": [
    "# 发布\n",
    "> 将文件打包，上传到github"
   ]
  },
  {
   "cell_type": "code",
   "execution_count": null,
   "metadata": {},
   "outputs": [],
   "source": [
    "# hide\n",
    "!pip install nbdev -U\n",
    "!nbdev_install_git_hooks"
   ]
  },
  {
   "cell_type": "code",
   "execution_count": null,
   "metadata": {},
   "outputs": [
    {
     "name": "stdout",
     "output_type": "stream",
     "text": [
      "converting: /Users/Neo/crawler_from_scratch/11_Proxy_Request.ipynb\n",
      "converting: /Users/Neo/crawler_from_scratch/others.ipynb\n",
      "converting /Users/Neo/crawler_from_scratch/index.ipynb to README.md\n"
     ]
    }
   ],
   "source": [
    "# hide\n",
    "# !nbdev_build_lib\n",
    "!nbdev_build_docs\n",
    "# !nbdev_test_nbs --fname 11_Proxy_Request.ipynb"
   ]
  },
  {
   "cell_type": "code",
   "execution_count": null,
   "metadata": {},
   "outputs": [
    {
     "name": "stdout",
     "output_type": "stream",
     "text": [
      "On branch master\r\n",
      "Your branch is up to date with 'origin/master'.\r\n",
      "\r\n",
      "Changes not staged for commit:\r\n",
      "  (use \"git add <file>...\" to update what will be committed)\r\n",
      "  (use \"git checkout -- <file>...\" to discard changes in working directory)\r\n",
      "\r\n",
      "\t\u001b[31mmodified:   00_Getting_Started.ipynb\u001b[m\r\n",
      "\t\u001b[31mmodified:   01_Advanced_Request.ipynb\u001b[m\r\n",
      "\t\u001b[31mmodified:   data/01_douban.json\u001b[m\r\n",
      "\t\u001b[31mmodified:   index.ipynb\u001b[m\r\n",
      "\r\n",
      "no changes added to commit (use \"git add\" and/or \"git commit -a\")\r\n"
     ]
    }
   ],
   "source": [
    "# hide\n",
    "!git status"
   ]
  },
  {
   "cell_type": "code",
   "execution_count": null,
   "metadata": {},
   "outputs": [
    {
     "name": "stdout",
     "output_type": "stream",
     "text": [
      "[master 86ab231] build lib\r\n",
      " 5 files changed, 239 insertions(+), 26 deletions(-)\r\n",
      " create mode 100644 crawler_from_scratch/None.py\r\n",
      " create mode 100644 crawler_from_scratch/proxy.py\r\n"
     ]
    }
   ],
   "source": [
    "# hide\n",
    "# 除了变化的文件，新增的文件也加进去\n",
    "!git add -A\n",
    "# add变化的文件和commit合成一条\n",
    "!git commit -m \"build lib\""
   ]
  },
  {
   "cell_type": "code",
   "execution_count": null,
   "metadata": {},
   "outputs": [
    {
     "name": "stdout",
     "output_type": "stream",
     "text": [
      "Already up to date.\n",
      "Enumerating objects: 38, done.\n",
      "Counting objects: 100% (38/38), done.\n",
      "Delta compression using up to 4 threads\n",
      "Compressing objects: 100% (27/27), done.\n",
      "Writing objects: 100% (27/27), 225.63 KiB | 4.18 MiB/s, done.\n",
      "Total 27 (delta 14), reused 0 (delta 0)\n",
      "remote: Resolving deltas: 100% (14/14), completed with 9 local objects.\u001b[K\n",
      "To https://github.com/neo4dev/crawler_from_scratch.git\n",
      "   17c3c7a..86ab231  master -> master\n"
     ]
    }
   ],
   "source": [
    "# hide\n",
    "!git pull\n",
    "# 第一次push需要用户名密码，可能需要在terminal输入\n",
    "# 因为国内push总超时，这是用shadowsocks代理的方法\n",
    "!git config --global http.https://github.com.proxy socks5://127.0.0.1:1086\n",
    "!git config --global https.https://github.com.proxy socks5://127.0.0.1:1086\n",
    "!git push"
   ]
  },
  {
   "cell_type": "code",
   "execution_count": null,
   "metadata": {},
   "outputs": [],
   "source": []
  }
 ],
 "metadata": {
  "kernelspec": {
   "display_name": "Python 3",
   "language": "python",
   "name": "python3"
  }
 },
 "nbformat": 4,
 "nbformat_minor": 2
}
