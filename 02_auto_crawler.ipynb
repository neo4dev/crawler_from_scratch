{
 "cells": [
  {
   "cell_type": "markdown",
   "metadata": {},
   "source": [
    "# 批量爬取网页\n",
    "> 1. 比如批量爬豆瓣这个类别下的所有书\n",
    "* 要把id拿到，可以先手动"
   ]
  },
  {
   "cell_type": "markdown",
   "metadata": {},
   "source": [
    "improve：每天的进度能反应出来，可以git commit 标注出来，并且在这里也记录下，然后同步到git commit，然后定期git push\n",
    "强化版本和进度的概念，以形成一种使命感\n",
    "同时可以更加明确方向\n",
    "\n",
    "养成代码习惯，总结，为什么要代码习惯，就是完整，像清单一样比如定义函数\n",
    "\n",
    "\n",
    "notebook插件，比如目录树"
   ]
  },
  {
   "cell_type": "code",
   "execution_count": null,
   "metadata": {},
   "outputs": [],
   "source": [
    "# default_exp auto\n",
    "# export\n",
    "import requests,json,re\n",
    "from bs4 import BeautifulSoup,Tag,NavigableString\n",
    "from collections import Counter"
   ]
  },
  {
   "cell_type": "code",
   "execution_count": null,
   "metadata": {},
   "outputs": [],
   "source": [
    "from crawler_from_scratch.utils import *"
   ]
  },
  {
   "cell_type": "code",
   "execution_count": null,
   "metadata": {},
   "outputs": [],
   "source": [
    "url = 'https://book.douban.com/tag/%E5%A4%96%E5%9B%BD%E6%96%87%E5%AD%A6'"
   ]
  },
  {
   "cell_type": "code",
   "execution_count": null,
   "metadata": {},
   "outputs": [],
   "source": [
    "res = requests.get(url,headers={'user-agent':'Mozilla/5.0'})\n",
    "if res.status_code == 200:\n",
    "    soup = BeautifulSoup(res.text,'lxml')\n",
    "else:\n",
    "    print(res,res.text)"
   ]
  },
  {
   "cell_type": "code",
   "execution_count": null,
   "metadata": {},
   "outputs": [],
   "source": [
    "# find_main_list(soup.body)"
   ]
  },
  {
   "cell_type": "code",
   "execution_count": null,
   "metadata": {},
   "outputs": [],
   "source": []
  }
 ],
 "metadata": {
  "kernelspec": {
   "display_name": "Python 3",
   "language": "python",
   "name": "python3"
  }
 },
 "nbformat": 4,
 "nbformat_minor": 2
}
