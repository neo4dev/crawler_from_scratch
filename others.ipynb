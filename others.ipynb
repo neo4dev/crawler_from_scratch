{
 "cells": [
  {
   "cell_type": "markdown",
   "metadata": {},
   "source": [
    "# TODO\n",
    "- [ ] 并行任务 [ThreadPoolExecutor](https://docs.python.org/3/library/concurrent.futures.html)"
   ]
  },
  {
   "cell_type": "code",
   "execution_count": null,
   "metadata": {},
   "outputs": [],
   "source": []
  },
  {
   "cell_type": "markdown",
   "metadata": {},
   "source": [
    "# 代码习惯\n",
    "> 总结怎么写，可以让代码更少出错，更容易调试，更容易被复用"
   ]
  },
  {
   "cell_type": "markdown",
   "metadata": {},
   "source": []
  },
  {
   "cell_type": "markdown",
   "metadata": {},
   "source": []
  },
  {
   "cell_type": "markdown",
   "metadata": {},
   "source": [
    "# Jupyter 插件\n",
    "\n",
    "https://www.jiqizhixin.com/articles/2018-12-20-12"
   ]
  },
  {
   "cell_type": "markdown",
   "metadata": {},
   "source": [
    "## Table of Contents：更容易导航\n",
    "<img src=\"https://image.jiqizhixin.com/uploads/editor/b2a4db3e-242d-4ec1-91c1-772ae4dc5084/1545285490504.png\" width=\"50%\">"
   ]
  },
  {
   "cell_type": "code",
   "execution_count": null,
   "metadata": {},
   "outputs": [],
   "source": []
  }
 ],
 "metadata": {
  "kernelspec": {
   "display_name": "Python 3",
   "language": "python",
   "name": "python3"
  }
 },
 "nbformat": 4,
 "nbformat_minor": 4
}
