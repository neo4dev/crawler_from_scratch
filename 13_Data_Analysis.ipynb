{
 "cells": [
  {
   "cell_type": "code",
   "execution_count": null,
   "metadata": {},
   "outputs": [],
   "source": [
    "%reload_ext autoreload\n",
    "%autoreload 2"
   ]
  },
  {
   "attachments": {
    "image.png": {
     "image/png": "[encoded data removed]"
    }
   },
   "cell_type": "markdown",
   "metadata": {},
   "source": [
    "# 数据分析\n",
    "> Pandas：处理表格数据，相当于一个python版的excel\n",
    "\n",
    "![image.png](attachment:image.png)\n",
    "https://pandas.pydata.org/docs/getting_started/index.html#getting-started"
   ]
  },
  {
   "cell_type": "code",
   "execution_count": null,
   "metadata": {},
   "outputs": [],
   "source": [
    "# export\n",
    "import requests,json,re,random,sys\n",
    "from bs4 import BeautifulSoup,Tag,NavigableString\n",
    "\n",
    "from crawler_from_scratch.proxy import *\n",
    "\n",
    "from concurrent.futures import ThreadPoolExecutor\n",
    "import pandas as pd\n"
   ]
  },
  {
   "cell_type": "markdown",
   "metadata": {},
   "source": [
    "## 数据分析"
   ]
  },
  {
   "cell_type": "markdown",
   "metadata": {},
   "source": [
    "### 核心概念\n",
    "* DataFrame：二维数据，类似于tabular data表格\n",
    "* Series：一维数据，类似于array数组\n",
    "\n",
    "* Index：索引\n",
    "* Column：列名"
   ]
  },
  {
   "cell_type": "code",
   "execution_count": null,
   "metadata": {},
   "outputs": [
    {
     "name": "stdout",
     "output_type": "stream",
     "text": [
      "2959\n"
     ]
    }
   ],
   "source": [
    "with open('./data/recipe_data.json','r') as f:\n",
    "    recipe_data = json.load(f)\n",
    "print(len(recipe_data))"
   ]
  },
  {
   "cell_type": "code",
   "execution_count": null,
   "metadata": {},
   "outputs": [
    {
     "data": {
      "text/plain": [
       "(pandas.core.frame.DataFrame, pandas.core.series.Series)"
      ]
     },
     "execution_count": null,
     "metadata": {},
     "output_type": "execute_result"
    }
   ],
   "source": [
    "df = pd.DataFrame.from_dict(recipe_data,orient='index')\n",
    "\n",
    "type(df),type(df.title)"
   ]
  },
  {
   "cell_type": "code",
   "execution_count": null,
   "metadata": {},
   "outputs": [
    {
     "data": {
      "text/plain": [
       "(Index(['1093978', '263674', '245958', '103965340', '101865764', '100422462',\n",
       "        '1102340', '1002365', '1003015', '9909',\n",
       "        ...\n",
       "        '102264090', '1072145', '1000073', '100621783', '101766242', '1012115',\n",
       "        '37624', '1007871', '21562', '101769582'],\n",
       "       dtype='object', length=2959),\n",
       " Index(['title', 'author_link', 'author_name', 'created_at', 'category', 'ings',\n",
       "        'score', 'cooked'],\n",
       "       dtype='object'),\n",
       " array([['无节操穿肠意面', '/cook/10492957/', '局局', '2013-05-11 09:16:52', '面条',\n",
       "         list(['香肠', '意面']), '8.1', '1165'],\n",
       "        ['香橙蛋糕', '/cook/10094685/', '八卦兔JadeCw', '2012-12-14 22:33:36',\n",
       "         '蛋糕', list(['橙子', '细砂糖', '柠檬', '盐']), '7.9', '753']], dtype=object))"
      ]
     },
     "execution_count": null,
     "metadata": {},
     "output_type": "execute_result"
    }
   ],
   "source": [
    "df.index,df.columns,df.values[:2]"
   ]
  },
  {
   "cell_type": "markdown",
   "metadata": {},
   "source": [
    "### 数据类型\n",
    "> 1.0版本增加了convert_dtype函数，可以自动识别，这里用的老版本，所以手动转换一下"
   ]
  },
  {
   "cell_type": "code",
   "execution_count": null,
   "metadata": {},
   "outputs": [
    {
     "data": {
      "text/html": [
       "<div>\n",
       "<style scoped>\n",
       "    .dataframe tbody tr th:only-of-type {\n",
       "        vertical-align: middle;\n",
       "    }\n",
       "\n",
       "    .dataframe tbody tr th {\n",
       "        vertical-align: top;\n",
       "    }\n",
       "\n",
       "    .dataframe thead th {\n",
       "        text-align: right;\n",
       "    }\n",
       "</style>\n",
       "<table border=\"1\" class=\"dataframe\">\n",
       "  <thead>\n",
       "    <tr style=\"text-align: right;\">\n",
       "      <th></th>\n",
       "      <th>title</th>\n",
       "      <th>author_link</th>\n",
       "      <th>author_name</th>\n",
       "      <th>created_at</th>\n",
       "      <th>category</th>\n",
       "      <th>ings</th>\n",
       "      <th>score</th>\n",
       "      <th>cooked</th>\n",
       "    </tr>\n",
       "  </thead>\n",
       "  <tbody>\n",
       "    <tr>\n",
       "      <td>1093978</td>\n",
       "      <td>无节操穿肠意面</td>\n",
       "      <td>/cook/10492957/</td>\n",
       "      <td>局局</td>\n",
       "      <td>2013-05-11 09:16:52</td>\n",
       "      <td>面条</td>\n",
       "      <td>[香肠, 意面]</td>\n",
       "      <td>8.1</td>\n",
       "      <td>1165</td>\n",
       "    </tr>\n",
       "    <tr>\n",
       "      <td>263674</td>\n",
       "      <td>香橙蛋糕</td>\n",
       "      <td>/cook/10094685/</td>\n",
       "      <td>八卦兔JadeCw</td>\n",
       "      <td>2012-12-14 22:33:36</td>\n",
       "      <td>蛋糕</td>\n",
       "      <td>[橙子, 细砂糖, 柠檬, 盐]</td>\n",
       "      <td>7.9</td>\n",
       "      <td>753</td>\n",
       "    </tr>\n",
       "    <tr>\n",
       "      <td>245958</td>\n",
       "      <td>红烧牛肉面</td>\n",
       "      <td>/cook/10007303/</td>\n",
       "      <td>tony小屋</td>\n",
       "      <td>2012-03-25 18:16:51</td>\n",
       "      <td>面</td>\n",
       "      <td>[辣椒丝, 牛肉, 面条, 青菜, 番茄, 大蒜, 生姜, 香叶, 陈皮, 八角, 小茴香,...</td>\n",
       "      <td>8.4</td>\n",
       "      <td>6307</td>\n",
       "    </tr>\n",
       "    <tr>\n",
       "      <td>103965340</td>\n",
       "      <td>比肉还好吃的金针菇豆皮卷</td>\n",
       "      <td>/cook/115728870/</td>\n",
       "      <td>糖宝麻麻-木木</td>\n",
       "      <td>2019-08-04 20:25:52</td>\n",
       "      <td>家常菜</td>\n",
       "      <td>[金针菇, 豆皮, 蒜瓣, 葱花, 牙签]</td>\n",
       "      <td>7.2</td>\n",
       "      <td>789</td>\n",
       "    </tr>\n",
       "    <tr>\n",
       "      <td>101865764</td>\n",
       "      <td>广式月饼（3种口味的）</td>\n",
       "      <td>/cook/106283994/</td>\n",
       "      <td>Jin小厨一级公共营养师</td>\n",
       "      <td>2016-07-30 16:42:21</td>\n",
       "      <td>月饼</td>\n",
       "      <td>[中筋面粉, 转化糖浆, 花生油, 枧水, 蛋黄, 白莲蓉馅十红莲蓉十红豆沙馅, 新鲜的蛋黄...</td>\n",
       "      <td>8.4</td>\n",
       "      <td>665</td>\n",
       "    </tr>\n",
       "  </tbody>\n",
       "</table>\n",
       "</div>"
      ],
      "text/plain": [
       "                  title       author_link   author_name           created_at  \\\n",
       "1093978         无节操穿肠意面   /cook/10492957/            局局  2013-05-11 09:16:52   \n",
       "263674             香橙蛋糕   /cook/10094685/     八卦兔JadeCw  2012-12-14 22:33:36   \n",
       "245958            红烧牛肉面   /cook/10007303/        tony小屋  2012-03-25 18:16:51   \n",
       "103965340  比肉还好吃的金针菇豆皮卷  /cook/115728870/       糖宝麻麻-木木  2019-08-04 20:25:52   \n",
       "101865764   广式月饼（3种口味的）  /cook/106283994/  Jin小厨一级公共营养师  2016-07-30 16:42:21   \n",
       "\n",
       "          category                                               ings score  \\\n",
       "1093978         面条                                           [香肠, 意面]   8.1   \n",
       "263674          蛋糕                                   [橙子, 细砂糖, 柠檬, 盐]   7.9   \n",
       "245958           面  [辣椒丝, 牛肉, 面条, 青菜, 番茄, 大蒜, 生姜, 香叶, 陈皮, 八角, 小茴香,...   8.4   \n",
       "103965340      家常菜                              [金针菇, 豆皮, 蒜瓣, 葱花, 牙签]   7.2   \n",
       "101865764       月饼  [中筋面粉, 转化糖浆, 花生油, 枧水, 蛋黄, 白莲蓉馅十红莲蓉十红豆沙馅, 新鲜的蛋黄...   8.4   \n",
       "\n",
       "          cooked  \n",
       "1093978     1165  \n",
       "263674       753  \n",
       "245958      6307  \n",
       "103965340    789  \n",
       "101865764    665  "
      ]
     },
     "execution_count": null,
     "metadata": {},
     "output_type": "execute_result"
    }
   ],
   "source": [
    "df.head()"
   ]
  },
  {
   "cell_type": "code",
   "execution_count": null,
   "metadata": {},
   "outputs": [
    {
     "data": {
      "text/plain": [
       "title          object\n",
       "author_link    object\n",
       "author_name    object\n",
       "created_at     object\n",
       "category       object\n",
       "ings           object\n",
       "score          object\n",
       "cooked         object\n",
       "dtype: object"
      ]
     },
     "execution_count": null,
     "metadata": {},
     "output_type": "execute_result"
    }
   ],
   "source": [
    "# hide\n",
    "df.dtypes"
   ]
  },
  {
   "cell_type": "code",
   "execution_count": null,
   "metadata": {},
   "outputs": [
    {
     "data": {
      "text/plain": [
       "title                  object\n",
       "author_link            object\n",
       "author_name            object\n",
       "created_at     datetime64[ns]\n",
       "category               object\n",
       "ings                   object\n",
       "score                 float64\n",
       "cooked                  int64\n",
       "dtype: object"
      ]
     },
     "execution_count": null,
     "metadata": {},
     "output_type": "execute_result"
    }
   ],
   "source": [
    "df = df.astype({'score':'float','cooked':'int','created_at':'datetime64'})\n",
    "df.dtypes"
   ]
  },
  {
   "cell_type": "markdown",
   "metadata": {},
   "source": [
    "### 统计菜谱作者数据\n",
    "> 这里运用到：\n",
    "* 聚类 groupby\n",
    "* 表单增加列\n",
    "* 表单数据运算\n",
    "* 筛选数据"
   ]
  },
  {
   "cell_type": "code",
   "execution_count": null,
   "metadata": {},
   "outputs": [],
   "source": [
    "author_df = df.groupby('author_name').sum()\n",
    "author_df['count'] = df.groupby('author_name').count().title\n",
    "\n",
    "author_df['avg_score'] = author_df['score']/author_df['count']\n",
    "author_df['avg_cooked'] = author_df['cooked']/author_df['count']"
   ]
  },
  {
   "cell_type": "code",
   "execution_count": null,
   "metadata": {},
   "outputs": [
    {
     "data": {
      "text/html": [
       "<div>\n",
       "<style scoped>\n",
       "    .dataframe tbody tr th:only-of-type {\n",
       "        vertical-align: middle;\n",
       "    }\n",
       "\n",
       "    .dataframe tbody tr th {\n",
       "        vertical-align: top;\n",
       "    }\n",
       "\n",
       "    .dataframe thead th {\n",
       "        text-align: right;\n",
       "    }\n",
       "</style>\n",
       "<table border=\"1\" class=\"dataframe\">\n",
       "  <thead>\n",
       "    <tr style=\"text-align: right;\">\n",
       "      <th></th>\n",
       "      <th>score</th>\n",
       "      <th>cooked</th>\n",
       "      <th>count</th>\n",
       "      <th>avg_score</th>\n",
       "      <th>avg_cooked</th>\n",
       "    </tr>\n",
       "    <tr>\n",
       "      <th>author_name</th>\n",
       "      <th></th>\n",
       "      <th></th>\n",
       "      <th></th>\n",
       "      <th></th>\n",
       "      <th></th>\n",
       "    </tr>\n",
       "  </thead>\n",
       "  <tbody>\n",
       "    <tr>\n",
       "      <td>小白素食记录</td>\n",
       "      <td>558.6</td>\n",
       "      <td>81172</td>\n",
       "      <td>70</td>\n",
       "      <td>7.980000</td>\n",
       "      <td>1159.600000</td>\n",
       "    </tr>\n",
       "    <tr>\n",
       "      <td>啊呜511</td>\n",
       "      <td>487.1</td>\n",
       "      <td>101009</td>\n",
       "      <td>57</td>\n",
       "      <td>8.545614</td>\n",
       "      <td>1772.087719</td>\n",
       "    </tr>\n",
       "    <tr>\n",
       "      <td>Tinrry甜悦</td>\n",
       "      <td>460.1</td>\n",
       "      <td>254958</td>\n",
       "      <td>54</td>\n",
       "      <td>8.520370</td>\n",
       "      <td>4721.444444</td>\n",
       "    </tr>\n",
       "    <tr>\n",
       "      <td>君之</td>\n",
       "      <td>389.3</td>\n",
       "      <td>194279</td>\n",
       "      <td>49</td>\n",
       "      <td>7.944898</td>\n",
       "      <td>3964.877551</td>\n",
       "    </tr>\n",
       "    <tr>\n",
       "      <td>红叶99</td>\n",
       "      <td>390.7</td>\n",
       "      <td>204965</td>\n",
       "      <td>46</td>\n",
       "      <td>8.493478</td>\n",
       "      <td>4455.760870</td>\n",
       "    </tr>\n",
       "  </tbody>\n",
       "</table>\n",
       "</div>"
      ],
      "text/plain": [
       "             score  cooked  count  avg_score   avg_cooked\n",
       "author_name                                              \n",
       "小白素食记录       558.6   81172     70   7.980000  1159.600000\n",
       "啊呜511        487.1  101009     57   8.545614  1772.087719\n",
       "Tinrry甜悦     460.1  254958     54   8.520370  4721.444444\n",
       "君之           389.3  194279     49   7.944898  3964.877551\n",
       "红叶99         390.7  204965     46   8.493478  4455.760870"
      ]
     },
     "execution_count": null,
     "metadata": {},
     "output_type": "execute_result"
    }
   ],
   "source": [
    "author_df.sort_values(by='count',ascending=False).head()"
   ]
  },
  {
   "cell_type": "markdown",
   "metadata": {},
   "source": [
    "#### 行列选择"
   ]
  },
  {
   "cell_type": "code",
   "execution_count": null,
   "metadata": {},
   "outputs": [
    {
     "data": {
      "text/plain": [
       "(             score  cooked  count  avg_score  avg_cooked\n",
       " author_name                                             \n",
       " -kitkat-       8.0    1102      1        8.0      1102.0,\n",
       " pandas.core.frame.DataFrame)"
      ]
     },
     "execution_count": null,
     "metadata": {},
     "output_type": "execute_result"
    }
   ],
   "source": [
    "# 类似于list slice的操作方式，只能用列名选择列，或者用数字区间选择行\n",
    "author_df['score'],type(author_df['score'])\n",
    "author_df[:1],type(author_df[:1])"
   ]
  },
  {
   "cell_type": "code",
   "execution_count": null,
   "metadata": {},
   "outputs": [
    {
     "data": {
      "text/html": [
       "<div>\n",
       "<style scoped>\n",
       "    .dataframe tbody tr th:only-of-type {\n",
       "        vertical-align: middle;\n",
       "    }\n",
       "\n",
       "    .dataframe tbody tr th {\n",
       "        vertical-align: top;\n",
       "    }\n",
       "\n",
       "    .dataframe thead th {\n",
       "        text-align: right;\n",
       "    }\n",
       "</style>\n",
       "<table border=\"1\" class=\"dataframe\">\n",
       "  <thead>\n",
       "    <tr style=\"text-align: right;\">\n",
       "      <th></th>\n",
       "      <th>score</th>\n",
       "      <th>count</th>\n",
       "    </tr>\n",
       "    <tr>\n",
       "      <th>author_name</th>\n",
       "      <th></th>\n",
       "      <th></th>\n",
       "    </tr>\n",
       "  </thead>\n",
       "  <tbody>\n",
       "    <tr>\n",
       "      <td>黄长脖</td>\n",
       "      <td>8.1</td>\n",
       "      <td>1</td>\n",
       "    </tr>\n",
       "    <tr>\n",
       "      <td>黄黄美食123</td>\n",
       "      <td>7.3</td>\n",
       "      <td>1</td>\n",
       "    </tr>\n",
       "    <tr>\n",
       "      <td>黑Black</td>\n",
       "      <td>7.8</td>\n",
       "      <td>1</td>\n",
       "    </tr>\n",
       "    <tr>\n",
       "      <td>黑芝麻吐司</td>\n",
       "      <td>8.2</td>\n",
       "      <td>1</td>\n",
       "    </tr>\n",
       "  </tbody>\n",
       "</table>\n",
       "</div>"
      ],
      "text/plain": [
       "             score  count\n",
       "author_name              \n",
       "黄长脖            8.1      1\n",
       "黄黄美食123        7.3      1\n",
       "黑Black         7.8      1\n",
       "黑芝麻吐司          8.2      1"
      ]
     },
     "execution_count": null,
     "metadata": {},
     "output_type": "execute_result"
    }
   ],
   "source": [
    "# 按标签筛选，：是区间选择，[]是多选\n",
    "author_df.loc['黄长脖':'黑芝麻吐司',['score','count']]"
   ]
  },
  {
   "cell_type": "code",
   "execution_count": null,
   "metadata": {},
   "outputs": [
    {
     "data": {
      "text/html": [
       "<div>\n",
       "<style scoped>\n",
       "    .dataframe tbody tr th:only-of-type {\n",
       "        vertical-align: middle;\n",
       "    }\n",
       "\n",
       "    .dataframe tbody tr th {\n",
       "        vertical-align: top;\n",
       "    }\n",
       "\n",
       "    .dataframe thead th {\n",
       "        text-align: right;\n",
       "    }\n",
       "</style>\n",
       "<table border=\"1\" class=\"dataframe\">\n",
       "  <thead>\n",
       "    <tr style=\"text-align: right;\">\n",
       "      <th></th>\n",
       "      <th>avg_score</th>\n",
       "      <th>cooked</th>\n",
       "    </tr>\n",
       "    <tr>\n",
       "      <th>author_name</th>\n",
       "      <th></th>\n",
       "      <th></th>\n",
       "    </tr>\n",
       "  </thead>\n",
       "  <tbody>\n",
       "    <tr>\n",
       "      <td>-kitkat-</td>\n",
       "      <td>8.000</td>\n",
       "      <td>1102</td>\n",
       "    </tr>\n",
       "    <tr>\n",
       "      <td>._ltpz</td>\n",
       "      <td>8.400</td>\n",
       "      <td>1730</td>\n",
       "    </tr>\n",
       "    <tr>\n",
       "      <td>00怡然00</td>\n",
       "      <td>8.500</td>\n",
       "      <td>948</td>\n",
       "    </tr>\n",
       "    <tr>\n",
       "      <td>0夏天0</td>\n",
       "      <td>8.105</td>\n",
       "      <td>54304</td>\n",
       "    </tr>\n",
       "    <tr>\n",
       "      <td>0李大呆0</td>\n",
       "      <td>8.200</td>\n",
       "      <td>19152</td>\n",
       "    </tr>\n",
       "  </tbody>\n",
       "</table>\n",
       "</div>"
      ],
      "text/plain": [
       "             avg_score  cooked\n",
       "author_name                   \n",
       "-kitkat-         8.000    1102\n",
       "._ltpz           8.400    1730\n",
       "00怡然00           8.500     948\n",
       "0夏天0             8.105   54304\n",
       "0李大呆0            8.200   19152"
      ]
     },
     "execution_count": null,
     "metadata": {},
     "output_type": "execute_result"
    }
   ],
   "source": [
    "# 按照位置数字选择\n",
    "author_df.iloc[:5,[3,1]]"
   ]
  },
  {
   "cell_type": "markdown",
   "metadata": {},
   "source": [
    "#### 数据筛选"
   ]
  },
  {
   "cell_type": "code",
   "execution_count": null,
   "metadata": {},
   "outputs": [
    {
     "data": {
      "text/html": [
       "<div>\n",
       "<style scoped>\n",
       "    .dataframe tbody tr th:only-of-type {\n",
       "        vertical-align: middle;\n",
       "    }\n",
       "\n",
       "    .dataframe tbody tr th {\n",
       "        vertical-align: top;\n",
       "    }\n",
       "\n",
       "    .dataframe thead th {\n",
       "        text-align: right;\n",
       "    }\n",
       "</style>\n",
       "<table border=\"1\" class=\"dataframe\">\n",
       "  <thead>\n",
       "    <tr style=\"text-align: right;\">\n",
       "      <th></th>\n",
       "      <th>score</th>\n",
       "      <th>cooked</th>\n",
       "      <th>count</th>\n",
       "      <th>avg_score</th>\n",
       "      <th>avg_cooked</th>\n",
       "    </tr>\n",
       "    <tr>\n",
       "      <th>author_name</th>\n",
       "      <th></th>\n",
       "      <th></th>\n",
       "      <th></th>\n",
       "      <th></th>\n",
       "      <th></th>\n",
       "    </tr>\n",
       "  </thead>\n",
       "  <tbody>\n",
       "    <tr>\n",
       "      <td>0夏天0</td>\n",
       "      <td>162.1</td>\n",
       "      <td>54304</td>\n",
       "      <td>20</td>\n",
       "      <td>8.105000</td>\n",
       "      <td>2715.200000</td>\n",
       "    </tr>\n",
       "    <tr>\n",
       "      <td>0李大呆0</td>\n",
       "      <td>8.2</td>\n",
       "      <td>19152</td>\n",
       "      <td>1</td>\n",
       "      <td>8.200000</td>\n",
       "      <td>19152.000000</td>\n",
       "    </tr>\n",
       "    <tr>\n",
       "      <td>Amanda曼达</td>\n",
       "      <td>140.7</td>\n",
       "      <td>28164</td>\n",
       "      <td>17</td>\n",
       "      <td>8.276471</td>\n",
       "      <td>1656.705882</td>\n",
       "    </tr>\n",
       "    <tr>\n",
       "      <td>E路拾缘</td>\n",
       "      <td>25.4</td>\n",
       "      <td>30315</td>\n",
       "      <td>3</td>\n",
       "      <td>8.466667</td>\n",
       "      <td>10105.000000</td>\n",
       "    </tr>\n",
       "    <tr>\n",
       "      <td>FeEl</td>\n",
       "      <td>8.7</td>\n",
       "      <td>68693</td>\n",
       "      <td>1</td>\n",
       "      <td>8.700000</td>\n",
       "      <td>68693.000000</td>\n",
       "    </tr>\n",
       "  </tbody>\n",
       "</table>\n",
       "</div>"
      ],
      "text/plain": [
       "             score  cooked  count  avg_score    avg_cooked\n",
       "author_name                                               \n",
       "0夏天0         162.1   54304     20   8.105000   2715.200000\n",
       "0李大呆0          8.2   19152      1   8.200000  19152.000000\n",
       "Amanda曼达     140.7   28164     17   8.276471   1656.705882\n",
       "E路拾缘          25.4   30315      3   8.466667  10105.000000\n",
       "FeEl           8.7   68693      1   8.700000  68693.000000"
      ]
     },
     "execution_count": null,
     "metadata": {},
     "output_type": "execute_result"
    }
   ],
   "source": [
    "author_df[(author_df.avg_score > 8) & (author_df.cooked > 10000)].head()"
   ]
  },
  {
   "cell_type": "markdown",
   "metadata": {},
   "source": [
    "### 统计热门用料\n",
    "> 主要是清洗数据，比如去掉NaN项，抽取汉字词语"
   ]
  },
  {
   "cell_type": "code",
   "execution_count": null,
   "metadata": {},
   "outputs": [],
   "source": [
    "def count_ings(df_raw,column_name):\n",
    "    df = df_raw.dropna()\n",
    "    ings_list = []\n",
    "    for l in df[column_name]:\n",
    "        for i in l: \n",
    "            # 这里可以将所有汉字抽取出来\n",
    "            words  = re.findall(r'([\\u4e00-\\u9fa5]+)',i)\n",
    "            # 清洗\n",
    "            words = list(set(words))\n",
    "            for n in ['克','水']:\n",
    "                if n in words:\n",
    "                    words.remove(n)\n",
    "                \n",
    "            ings_list += words\n",
    "            \n",
    "    ings_sr = pd.Series(ings_list)\n",
    "    return ings_sr.value_counts()\n",
    "     "
   ]
  },
  {
   "cell_type": "code",
   "execution_count": null,
   "metadata": {},
   "outputs": [
    {
     "data": {
      "text/plain": [
       "盐       1378\n",
       "鸡蛋       693\n",
       "糖        570\n",
       "细砂糖      542\n",
       "黄油       531\n",
       "牛奶       526\n",
       "生抽       514\n",
       "低筋面粉     386\n",
       "白糖       356\n",
       "料酒       355\n",
       "dtype: int64"
      ]
     },
     "execution_count": null,
     "metadata": {},
     "output_type": "execute_result"
    }
   ],
   "source": [
    "count_ings(df,'ings').head(10)"
   ]
  },
  {
   "cell_type": "markdown",
   "metadata": {},
   "source": [
    "#### 统计不同类别下的热门用料"
   ]
  },
  {
   "cell_type": "code",
   "execution_count": null,
   "metadata": {},
   "outputs": [
    {
     "data": {
      "text/html": [
       "<div>\n",
       "<style scoped>\n",
       "    .dataframe tbody tr th:only-of-type {\n",
       "        vertical-align: middle;\n",
       "    }\n",
       "\n",
       "    .dataframe tbody tr th {\n",
       "        vertical-align: top;\n",
       "    }\n",
       "\n",
       "    .dataframe thead th {\n",
       "        text-align: right;\n",
       "    }\n",
       "</style>\n",
       "<table border=\"1\" class=\"dataframe\">\n",
       "  <thead>\n",
       "    <tr style=\"text-align: right;\">\n",
       "      <th></th>\n",
       "      <th>title</th>\n",
       "      <th>author_link</th>\n",
       "      <th>author_name</th>\n",
       "      <th>created_at</th>\n",
       "      <th>ings</th>\n",
       "      <th>score</th>\n",
       "      <th>cooked</th>\n",
       "    </tr>\n",
       "    <tr>\n",
       "      <th>category</th>\n",
       "      <th></th>\n",
       "      <th></th>\n",
       "      <th></th>\n",
       "      <th></th>\n",
       "      <th></th>\n",
       "      <th></th>\n",
       "      <th></th>\n",
       "    </tr>\n",
       "  </thead>\n",
       "  <tbody>\n",
       "    <tr>\n",
       "      <td>菜谱</td>\n",
       "      <td>464</td>\n",
       "      <td>464</td>\n",
       "      <td>464</td>\n",
       "      <td>464</td>\n",
       "      <td>464</td>\n",
       "      <td>431</td>\n",
       "      <td>464</td>\n",
       "    </tr>\n",
       "    <tr>\n",
       "      <td>家常菜</td>\n",
       "      <td>347</td>\n",
       "      <td>347</td>\n",
       "      <td>347</td>\n",
       "      <td>347</td>\n",
       "      <td>347</td>\n",
       "      <td>330</td>\n",
       "      <td>347</td>\n",
       "    </tr>\n",
       "    <tr>\n",
       "      <td>蛋糕</td>\n",
       "      <td>256</td>\n",
       "      <td>256</td>\n",
       "      <td>256</td>\n",
       "      <td>256</td>\n",
       "      <td>256</td>\n",
       "      <td>254</td>\n",
       "      <td>256</td>\n",
       "    </tr>\n",
       "    <tr>\n",
       "      <td>面包</td>\n",
       "      <td>183</td>\n",
       "      <td>183</td>\n",
       "      <td>183</td>\n",
       "      <td>183</td>\n",
       "      <td>183</td>\n",
       "      <td>183</td>\n",
       "      <td>183</td>\n",
       "    </tr>\n",
       "    <tr>\n",
       "      <td>甜品</td>\n",
       "      <td>112</td>\n",
       "      <td>112</td>\n",
       "      <td>112</td>\n",
       "      <td>112</td>\n",
       "      <td>112</td>\n",
       "      <td>108</td>\n",
       "      <td>112</td>\n",
       "    </tr>\n",
       "    <tr>\n",
       "      <td>饼干</td>\n",
       "      <td>95</td>\n",
       "      <td>95</td>\n",
       "      <td>95</td>\n",
       "      <td>95</td>\n",
       "      <td>95</td>\n",
       "      <td>95</td>\n",
       "      <td>95</td>\n",
       "    </tr>\n",
       "    <tr>\n",
       "      <td>早餐</td>\n",
       "      <td>88</td>\n",
       "      <td>88</td>\n",
       "      <td>88</td>\n",
       "      <td>88</td>\n",
       "      <td>88</td>\n",
       "      <td>87</td>\n",
       "      <td>88</td>\n",
       "    </tr>\n",
       "    <tr>\n",
       "      <td>饼</td>\n",
       "      <td>77</td>\n",
       "      <td>77</td>\n",
       "      <td>77</td>\n",
       "      <td>77</td>\n",
       "      <td>77</td>\n",
       "      <td>74</td>\n",
       "      <td>77</td>\n",
       "    </tr>\n",
       "    <tr>\n",
       "      <td>月饼</td>\n",
       "      <td>73</td>\n",
       "      <td>73</td>\n",
       "      <td>73</td>\n",
       "      <td>73</td>\n",
       "      <td>73</td>\n",
       "      <td>72</td>\n",
       "      <td>73</td>\n",
       "    </tr>\n",
       "    <tr>\n",
       "      <td>零食</td>\n",
       "      <td>66</td>\n",
       "      <td>66</td>\n",
       "      <td>66</td>\n",
       "      <td>66</td>\n",
       "      <td>66</td>\n",
       "      <td>65</td>\n",
       "      <td>66</td>\n",
       "    </tr>\n",
       "  </tbody>\n",
       "</table>\n",
       "</div>"
      ],
      "text/plain": [
       "          title  author_link  author_name  created_at  ings  score  cooked\n",
       "category                                                                  \n",
       "菜谱          464          464          464         464   464    431     464\n",
       "家常菜         347          347          347         347   347    330     347\n",
       "蛋糕          256          256          256         256   256    254     256\n",
       "面包          183          183          183         183   183    183     183\n",
       "甜品          112          112          112         112   112    108     112\n",
       "饼干           95           95           95          95    95     95      95\n",
       "早餐           88           88           88          88    88     87      88\n",
       "饼            77           77           77          77    77     74      77\n",
       "月饼           73           73           73          73    73     72      73\n",
       "零食           66           66           66          66    66     65      66"
      ]
     },
     "execution_count": null,
     "metadata": {},
     "output_type": "execute_result"
    }
   ],
   "source": [
    "df.groupby('category').count().sort_values(by='title',ascending=False).head(10)"
   ]
  },
  {
   "cell_type": "code",
   "execution_count": null,
   "metadata": {},
   "outputs": [
    {
     "data": {
      "text/plain": [
       "盐     202\n",
       "糖      92\n",
       "生抽     81\n",
       "鸡蛋     78\n",
       "黄油     73\n",
       "dtype: int64"
      ]
     },
     "execution_count": null,
     "metadata": {},
     "output_type": "execute_result"
    }
   ],
   "source": [
    "count_ings(df[df.category == '菜谱'],'ings').head(5)"
   ]
  },
  {
   "cell_type": "code",
   "execution_count": null,
   "metadata": {},
   "outputs": [
    {
     "data": {
      "text/plain": [
       "鸡蛋    46\n",
       "盐     45\n",
       "牛奶    19\n",
       "酵母    15\n",
       "面粉    14\n",
       "dtype: int64"
      ]
     },
     "execution_count": null,
     "metadata": {},
     "output_type": "execute_result"
    }
   ],
   "source": [
    "count_ings(df[df.category == '早餐'],'ings').head(5)"
   ]
  },
  {
   "cell_type": "code",
   "execution_count": null,
   "metadata": {},
   "outputs": [
    {
     "data": {
      "text/plain": [
       "盐     231\n",
       "生抽    135\n",
       "料酒    127\n",
       "姜      79\n",
       "葱      76\n",
       "dtype: int64"
      ]
     },
     "execution_count": null,
     "metadata": {},
     "output_type": "execute_result"
    }
   ],
   "source": [
    "count_ings(df[df.category == '家常菜'],'ings').head(5)"
   ]
  },
  {
   "cell_type": "code",
   "execution_count": null,
   "metadata": {},
   "outputs": [],
   "source": []
  }
 ],
 "metadata": {
  "kernelspec": {
   "display_name": "Python 3",
   "language": "python",
   "name": "python3"
  }
 },
 "nbformat": 4,
 "nbformat_minor": 2
}
