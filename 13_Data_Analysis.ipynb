{
 "cells": [
  {
   "cell_type": "code",
   "execution_count": null,
   "metadata": {},
   "outputs": [],
   "source": [
    "%reload_ext autoreload\n",
    "%autoreload 2"
   ]
  },
  {
   "cell_type": "markdown",
   "metadata": {},
   "source": [
    "# 数据分析\n",
    "> Numpy Pandas Matplot的区别\n",
    "\n"
   ]
  },
  {
   "cell_type": "code",
   "execution_count": null,
   "metadata": {},
   "outputs": [],
   "source": [
    "# export\n",
    "import redis "
   ]
  },
  {
   "cell_type": "code",
   "execution_count": null,
   "metadata": {},
   "outputs": [],
   "source": [
    "# export\n",
    "import requests,json,re,random,sys\n",
    "from bs4 import BeautifulSoup,Tag,NavigableString\n",
    "\n",
    "from crawler_from_scratch.proxy import *\n",
    "\n",
    "from concurrent.futures import ThreadPoolExecutor\n",
    "import pandas as pd\n"
   ]
  },
  {
   "cell_type": "code",
   "execution_count": null,
   "metadata": {},
   "outputs": [],
   "source": [
    "pool = redis.ConnectionPool(host='localhost', port=6379, decode_responses=True)\n",
    "rdb = redis.Redis(connection_pool=pool)"
   ]
  },
  {
   "cell_type": "code",
   "execution_count": null,
   "metadata": {},
   "outputs": [
    {
     "data": {
      "text/plain": [
       "{'name': 'neo', 'age': '30', 'sex': 'male'}"
      ]
     },
     "execution_count": null,
     "metadata": {},
     "output_type": "execute_result"
    }
   ],
   "source": [
    "rdb.hmset(\"001\", {\"name\": \"neo\", \"age\": \"30\"})\n",
    "rdb.hmset(\"001\", {\"sex\": \"male\"})\n",
    "rdb.hgetall('001')"
   ]
  },
  {
   "cell_type": "code",
   "execution_count": null,
   "metadata": {},
   "outputs": [
    {
     "data": {
      "text/plain": [
       "1"
      ]
     },
     "execution_count": null,
     "metadata": {},
     "output_type": "execute_result"
    }
   ],
   "source": [
    "rdb.delete('001')"
   ]
  },
  {
   "cell_type": "code",
   "execution_count": null,
   "metadata": {},
   "outputs": [
    {
     "data": {
      "text/plain": [
       "{}"
      ]
     },
     "execution_count": null,
     "metadata": {},
     "output_type": "execute_result"
    }
   ],
   "source": [
    "rdb.hgetall('001')"
   ]
  },
  {
   "cell_type": "code",
   "execution_count": null,
   "metadata": {},
   "outputs": [],
   "source": [
    "# hide\n",
    "all_htmls = rdb.hgetall('html')\n",
    "recipe_data = {}\n",
    "for k in all_htmls:\n",
    "    if k not in recipe_data:\n",
    "        html = all_htmls[k]\n",
    "        recipe_data[k] = parse_recipe_data(html)\n",
    "\n",
    "len(recipe_data)"
   ]
  },
  {
   "cell_type": "markdown",
   "metadata": {},
   "source": [
    "### 分析数据"
   ]
  },
  {
   "cell_type": "code",
   "execution_count": null,
   "metadata": {},
   "outputs": [
    {
     "data": {
      "text/html": [
       "<div>\n",
       "<style scoped>\n",
       "    .dataframe tbody tr th:only-of-type {\n",
       "        vertical-align: middle;\n",
       "    }\n",
       "\n",
       "    .dataframe tbody tr th {\n",
       "        vertical-align: top;\n",
       "    }\n",
       "\n",
       "    .dataframe thead th {\n",
       "        text-align: right;\n",
       "    }\n",
       "</style>\n",
       "<table border=\"1\" class=\"dataframe\">\n",
       "  <thead>\n",
       "    <tr style=\"text-align: right;\">\n",
       "      <th></th>\n",
       "      <th>title</th>\n",
       "      <th>author_link</th>\n",
       "      <th>author_name</th>\n",
       "      <th>created_at</th>\n",
       "      <th>ings</th>\n",
       "      <th>score</th>\n",
       "      <th>cooked</th>\n",
       "    </tr>\n",
       "  </thead>\n",
       "  <tbody>\n",
       "    <tr>\n",
       "      <td>1093978</td>\n",
       "      <td>无节操穿肠意面</td>\n",
       "      <td>/cook/10492957/</td>\n",
       "      <td>局局</td>\n",
       "      <td>2013-05-11 09:16:52</td>\n",
       "      <td>[香肠, 意面]</td>\n",
       "      <td>8.1</td>\n",
       "      <td>1165</td>\n",
       "    </tr>\n",
       "    <tr>\n",
       "      <td>263674</td>\n",
       "      <td>香橙蛋糕</td>\n",
       "      <td>/cook/10094685/</td>\n",
       "      <td>八卦兔JadeCw</td>\n",
       "      <td>2012-12-14 22:33:36</td>\n",
       "      <td>[橙子, 细砂糖, 柠檬, 盐]</td>\n",
       "      <td>7.9</td>\n",
       "      <td>753</td>\n",
       "    </tr>\n",
       "    <tr>\n",
       "      <td>245958</td>\n",
       "      <td>红烧牛肉面</td>\n",
       "      <td>/cook/10007303/</td>\n",
       "      <td>tony小屋</td>\n",
       "      <td>2012-03-25 18:16:51</td>\n",
       "      <td>[辣椒丝, 牛肉, 面条, 青菜, 番茄, 大蒜, 生姜, 香叶, 陈皮, 八角, 小茴香,...</td>\n",
       "      <td>8.4</td>\n",
       "      <td>6301</td>\n",
       "    </tr>\n",
       "    <tr>\n",
       "      <td>103965340</td>\n",
       "      <td>比肉还好吃的金针菇豆皮卷</td>\n",
       "      <td>/cook/115728870/</td>\n",
       "      <td>糖宝麻麻-木木</td>\n",
       "      <td>2019-08-04 20:25:52</td>\n",
       "      <td>[金针菇, 豆皮, 蒜瓣, 葱花, 牙签]</td>\n",
       "      <td>7.2</td>\n",
       "      <td>783</td>\n",
       "    </tr>\n",
       "    <tr>\n",
       "      <td>17851</td>\n",
       "      <td>朝鲜辣白菜</td>\n",
       "      <td>/cook/10007463/</td>\n",
       "      <td>summer的家</td>\n",
       "      <td>2011-03-11 19:10:20</td>\n",
       "      <td>[白菜, 盐, 姜, 蒜, 苹果, 梨, 辣椒面, 味精]</td>\n",
       "      <td>8.3</td>\n",
       "      <td>464</td>\n",
       "    </tr>\n",
       "  </tbody>\n",
       "</table>\n",
       "</div>"
      ],
      "text/plain": [
       "                  title       author_link author_name           created_at  \\\n",
       "1093978         无节操穿肠意面   /cook/10492957/          局局  2013-05-11 09:16:52   \n",
       "263674             香橙蛋糕   /cook/10094685/   八卦兔JadeCw  2012-12-14 22:33:36   \n",
       "245958            红烧牛肉面   /cook/10007303/      tony小屋  2012-03-25 18:16:51   \n",
       "103965340  比肉还好吃的金针菇豆皮卷  /cook/115728870/     糖宝麻麻-木木  2019-08-04 20:25:52   \n",
       "17851             朝鲜辣白菜   /cook/10007463/    summer的家  2011-03-11 19:10:20   \n",
       "\n",
       "                                                        ings score cooked  \n",
       "1093978                                             [香肠, 意面]   8.1   1165  \n",
       "263674                                      [橙子, 细砂糖, 柠檬, 盐]   7.9    753  \n",
       "245958     [辣椒丝, 牛肉, 面条, 青菜, 番茄, 大蒜, 生姜, 香叶, 陈皮, 八角, 小茴香,...   8.4   6301  \n",
       "103965340                              [金针菇, 豆皮, 蒜瓣, 葱花, 牙签]   7.2    783  \n",
       "17851                          [白菜, 盐, 姜, 蒜, 苹果, 梨, 辣椒面, 味精]   8.3    464  "
      ]
     },
     "execution_count": null,
     "metadata": {},
     "output_type": "execute_result"
    }
   ],
   "source": [
    "# hide\n",
    "dataframe = pd.DataFrame.from_dict(recipe_data,orient='index')\n",
    "dataframe.head()"
   ]
  },
  {
   "cell_type": "markdown",
   "metadata": {},
   "source": [
    "结论是可乐鸡翅的出镜率比较高，小白素食记录的菜谱获奖次数最多"
   ]
  },
  {
   "cell_type": "code",
   "execution_count": null,
   "metadata": {},
   "outputs": [
    {
     "data": {
      "text/html": [
       "<div>\n",
       "<style scoped>\n",
       "    .dataframe tbody tr th:only-of-type {\n",
       "        vertical-align: middle;\n",
       "    }\n",
       "\n",
       "    .dataframe tbody tr th {\n",
       "        vertical-align: top;\n",
       "    }\n",
       "\n",
       "    .dataframe thead th {\n",
       "        text-align: right;\n",
       "    }\n",
       "</style>\n",
       "<table border=\"1\" class=\"dataframe\">\n",
       "  <thead>\n",
       "    <tr style=\"text-align: right;\">\n",
       "      <th></th>\n",
       "      <th>title</th>\n",
       "      <th>author_link</th>\n",
       "      <th>author_name</th>\n",
       "      <th>created_at</th>\n",
       "      <th>ings</th>\n",
       "      <th>score</th>\n",
       "      <th>cooked</th>\n",
       "    </tr>\n",
       "  </thead>\n",
       "  <tbody>\n",
       "    <tr>\n",
       "      <td>count</td>\n",
       "      <td>3301</td>\n",
       "      <td>3301</td>\n",
       "      <td>3301</td>\n",
       "      <td>3301</td>\n",
       "      <td>3300</td>\n",
       "      <td>3184</td>\n",
       "      <td>3301</td>\n",
       "    </tr>\n",
       "    <tr>\n",
       "      <td>unique</td>\n",
       "      <td>3058</td>\n",
       "      <td>1378</td>\n",
       "      <td>1378</td>\n",
       "      <td>3290</td>\n",
       "      <td>3289</td>\n",
       "      <td>35</td>\n",
       "      <td>2355</td>\n",
       "    </tr>\n",
       "    <tr>\n",
       "      <td>top</td>\n",
       "      <td>可乐鸡翅</td>\n",
       "      <td>/cook/10001975/</td>\n",
       "      <td>小白素食记录</td>\n",
       "      <td>2011-02-16 18:51:38</td>\n",
       "      <td>[鸡蛋]</td>\n",
       "      <td>8.1</td>\n",
       "      <td>2</td>\n",
       "    </tr>\n",
       "    <tr>\n",
       "      <td>freq</td>\n",
       "      <td>10</td>\n",
       "      <td>75</td>\n",
       "      <td>75</td>\n",
       "      <td>5</td>\n",
       "      <td>4</td>\n",
       "      <td>299</td>\n",
       "      <td>12</td>\n",
       "    </tr>\n",
       "  </tbody>\n",
       "</table>\n",
       "</div>"
      ],
      "text/plain": [
       "       title      author_link author_name           created_at  ings score  \\\n",
       "count   3301             3301        3301                 3301  3300  3184   \n",
       "unique  3058             1378        1378                 3290  3289    35   \n",
       "top     可乐鸡翅  /cook/10001975/      小白素食记录  2011-02-16 18:51:38  [鸡蛋]   8.1   \n",
       "freq      10               75          75                    5     4   299   \n",
       "\n",
       "       cooked  \n",
       "count    3301  \n",
       "unique   2355  \n",
       "top         2  \n",
       "freq       12  "
      ]
     },
     "execution_count": null,
     "metadata": {},
     "output_type": "execute_result"
    }
   ],
   "source": [
    "# hide\n",
    "dataframe.describe()"
   ]
  },
  {
   "cell_type": "markdown",
   "metadata": {},
   "source": [
    "暂时还不会用pandas分析用料数据，因为每个元素都是列表，所以先用原始一点的方法，将ings数据单独抽取出来"
   ]
  },
  {
   "cell_type": "code",
   "execution_count": null,
   "metadata": {},
   "outputs": [],
   "source": [
    "# hide\n",
    "ings_list = []\n",
    "for _id in recipe_data:\n",
    "    if 'ings' in recipe_data[_id]:\n",
    "        ings_list += recipe_data[_id]['ings']\n",
    "\n",
    "len(ings_list)"
   ]
  },
  {
   "cell_type": "markdown",
   "metadata": {},
   "source": [
    "根据热门菜谱分析出了，最常用的20种用料，之后可以统计不同类别的菜系最常见的用料"
   ]
  },
  {
   "cell_type": "code",
   "execution_count": null,
   "metadata": {},
   "outputs": [
    {
     "data": {
      "text/plain": [
       "[('盐', 1470),\n",
       " ('鸡蛋', 727),\n",
       " ('糖', 565),\n",
       " ('生抽', 550),\n",
       " ('黄油', 530),\n",
       " ('牛奶', 522),\n",
       " ('细砂糖', 513),\n",
       " ('水', 456),\n",
       " ('低筋面粉', 393),\n",
       " ('白糖', 361),\n",
       " ('料酒', 358),\n",
       " ('淡奶油', 262),\n",
       " ('酵母', 254),\n",
       " ('姜', 244),\n",
       " ('葱', 238),\n",
       " ('糖粉', 225),\n",
       " ('老抽', 223),\n",
       " ('蒜', 214),\n",
       " ('油', 214),\n",
       " ('奶粉', 190)]"
      ]
     },
     "execution_count": null,
     "metadata": {},
     "output_type": "execute_result"
    }
   ],
   "source": [
    "# hide\n",
    "from collections import Counter\n",
    "Counter(ings_list).most_common(20)"
   ]
  }
 ],
 "metadata": {
  "kernelspec": {
   "display_name": "Python 3",
   "language": "python",
   "name": "python3"
  }
 },
 "nbformat": 4,
 "nbformat_minor": 2
}
