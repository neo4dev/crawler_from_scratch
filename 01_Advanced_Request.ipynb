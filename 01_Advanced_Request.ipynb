{
 "cells": [
  {
   "cell_type": "code",
   "execution_count": null,
   "metadata": {},
   "outputs": [],
   "source": [
    "# default_exp utils"
   ]
  },
  {
   "cell_type": "markdown",
   "metadata": {},
   "source": [
    "# 进阶的爬虫\n",
    "> 1. 更复杂的请求\n",
    "    * 无headers\n",
    "    * 有headers\n",
    "    * 有cookies\n",
    "* JSON 存储数据\n",
    "* 自动识别列表\n",
    "* 自动识别下一页\n",
    "* 自动识别列表上的内容\n",
    "\n",
    "* [Requests文档](https://requests.readthedocs.io/en/master/)\n",
    "* [BeautifulSoup文档](https://www.crummy.com/software/BeautifulSoup/bs4/doc/)\n"
   ]
  },
  {
   "cell_type": "code",
   "execution_count": null,
   "metadata": {},
   "outputs": [],
   "source": [
    "# export\n",
    "import requests,json,re\n",
    "from bs4 import BeautifulSoup,Tag"
   ]
  },
  {
   "cell_type": "code",
   "execution_count": null,
   "metadata": {},
   "outputs": [],
   "source": [
    "#hide\n",
    "from nbdev.showdoc import *"
   ]
  },
  {
   "cell_type": "markdown",
   "metadata": {},
   "source": [
    "## 更复杂的请求\n",
    "> 以豆瓣网为例"
   ]
  },
  {
   "cell_type": "markdown",
   "metadata": {},
   "source": [
    "###  一开始没有header的请求会被拒绝，因为服务器会把这次的请求当成是机器人，status_code是418"
   ]
  },
  {
   "cell_type": "code",
   "execution_count": null,
   "metadata": {},
   "outputs": [
    {
     "data": {
      "text/plain": [
       "(<Response [418]>, '')"
      ]
     },
     "execution_count": null,
     "metadata": {},
     "output_type": "execute_result"
    }
   ],
   "source": [
    "search_query = '1234'\n",
    "url = f'https://www.douban.com/search?q={search_query}'\n",
    "res = requests.get(url)\n",
    "res,res.text"
   ]
  },
  {
   "cell_type": "markdown",
   "metadata": {},
   "source": [
    "### 加了header之后，服务器就把它当成了Mozilla浏览器，就有response的数据了"
   ]
  },
  {
   "cell_type": "code",
   "execution_count": null,
   "metadata": {},
   "outputs": [
    {
     "data": {
      "text/plain": [
       "<Response [200]>"
      ]
     },
     "execution_count": null,
     "metadata": {},
     "output_type": "execute_result"
    }
   ],
   "source": [
    "headers = {'user-agent':'Mozilla/5.0'}\n",
    "res = requests.get(url,headers=headers)\n",
    "res"
   ]
  },
  {
   "cell_type": "markdown",
   "metadata": {},
   "source": [
    "### 想要发布一个动态就需要登录状态，而cookie就是登录状态的载体，cookie就是用帐号密码登录后获取的凭证"
   ]
  },
  {
   "cell_type": "code",
   "execution_count": null,
   "metadata": {},
   "outputs": [],
   "source": [
    "url = 'https://www.douban.com/'\n",
    "data = {'comment':'hello world','ck':'zV8Z','privacy_and_reply_limit':'P,'}"
   ]
  },
  {
   "cell_type": "code",
   "execution_count": null,
   "metadata": {},
   "outputs": [
    {
     "data": {
      "text/plain": [
       "{'bid': '1i8YWHFPDwI',\n",
       " 'gr_user_id': '5b798ccf-0dc3-41f7-9358-ab221ae5c248',\n",
       " '__utmc': '30149280',\n",
       " '__utmz': '30149280.1582040380.5.5.utmcsr=google|utmccn=(organic)|utmcmd=organic|utmctr=(not%20provided)',\n",
       " 'll': '\"118124\"',\n",
       " '_pk_ref.100001.8cb4': '%5B%22%22%2C%22%22%2C1582185091%2C%22https%3A%2F%2Fwww.google.com%2F%22%5D',\n",
       " '_pk_ses.100001.8cb4': '*',\n",
       " '__utma': '30149280.682236232.1580713449.1582121697.1582185095.7',\n",
       " 'ap_v': '0,6.0',\n",
       " 'viewed': '\"19672873_30243169_4233221\"',\n",
       " 'gr_cs1_6bb1b2b8-0a3e-4e02-9e3c-4f359d514576': 'user_id%3A0',\n",
       " '__utmt_douban': '1',\n",
       " 'dbcl2': '\"140014301:Td6zJ+yn5sA\"',\n",
       " 'ck': 'zV8Z',\n",
       " 'gr_session_id_22c937bbd8ebd703f2d8e9445f7dfd03': '7a596b44-fe53-45f0-90fa-2c24b2faa365',\n",
       " 'gr_cs1_7a596b44-fe53-45f0-90fa-2c24b2faa365': 'user_id%3A1',\n",
       " 'gr_session_id_22c937bbd8ebd703f2d8e9445f7dfd03_7a596b44-fe53-45f0-90fa-2c24b2faa365': 'true',\n",
       " 'push_noty_num': '0',\n",
       " 'push_doumail_num': '0',\n",
       " '__utmv': '30149280.14001',\n",
       " '__utmt': '1',\n",
       " 'ps': 'y',\n",
       " '_pk_id.100001.8cb4': '7bc8021c269d7e50.1580713448.6.1582185748.1582121848.',\n",
       " '__utmb': '30149280.18.10.1582185095'}"
      ]
     },
     "execution_count": null,
     "metadata": {},
     "output_type": "execute_result"
    }
   ],
   "source": [
    "# 把chrome拷贝过来的cookie字符转化成dict\n",
    "cookie_string = 'bid=1i8YWHFPDwI; gr_user_id=5b798ccf-0dc3-41f7-9358-ab221ae5c248; __utmc=30149280; __utmz=30149280.1582040380.5.5.utmcsr=google|utmccn=(organic)|utmcmd=organic|utmctr=(not%20provided); ll=\"118124\"; _pk_ref.100001.8cb4=%5B%22%22%2C%22%22%2C1582185091%2C%22https%3A%2F%2Fwww.google.com%2F%22%5D; _pk_ses.100001.8cb4=*; __utma=30149280.682236232.1580713449.1582121697.1582185095.7; ap_v=0,6.0; viewed=\"19672873_30243169_4233221\"; gr_cs1_6bb1b2b8-0a3e-4e02-9e3c-4f359d514576=user_id%3A0; __utmt_douban=1; dbcl2=\"140014301:Td6zJ+yn5sA\"; ck=zV8Z; gr_session_id_22c937bbd8ebd703f2d8e9445f7dfd03=7a596b44-fe53-45f0-90fa-2c24b2faa365; gr_cs1_7a596b44-fe53-45f0-90fa-2c24b2faa365=user_id%3A1; gr_session_id_22c937bbd8ebd703f2d8e9445f7dfd03_7a596b44-fe53-45f0-90fa-2c24b2faa365=true; push_noty_num=0; push_doumail_num=0; __utmv=30149280.14001; __utmt=1; ps=y; _pk_id.100001.8cb4=7bc8021c269d7e50.1580713448.6.1582185748.1582121848.; __utmb=30149280.18.10.1582185095'\n",
    "cookies = {}\n",
    "for item in cookie_string.split('; '):\n",
    "    k,v = item.split('=',1)\n",
    "    cookies[k] = v\n",
    "cookies"
   ]
  },
  {
   "cell_type": "code",
   "execution_count": null,
   "metadata": {},
   "outputs": [
    {
     "data": {
      "text/plain": [
       "'<!DOCTYPE html>\\n<html lang=\"zh-cmn-Hans\" class=\"\">\\n<head>\\n    <meta http-equiv=\"Content-Type\" content=\"text/html; charset=utf-8\">\\n    <meta name=\"renderer\" content=\"webkit\">\\n    <meta name=\"referrer\" content=\"always\">\\n    <meta name=\"google-site-verification\" content=\"ok0wCgT20tBBgo9_zat2iAcimtN4Ftf5ccsh092Xeyw\" />\\n    <title>豆瓣</title>\\n    \\n    \\n<meta content=\"提供图书、电影、音乐唱片的推荐、评论和价格比较，以及城市独特的文化生活。\" name=\"description\"/>\\n\\n    <link href=\"https://img3.doubanio.com/f/shire/db7c8ab218cded634c1180ff7b56d3ca44393bc2/css/frontpage/_init_.css\" rel=\"stylesheet\" type=\"text/css\">\\n    <script>_head_start = new Date();</script>\\n    <script src=\"https://img3.doubanio.com/f/shire/ebac5abada5de811d65dac57b2e62a89c7ddf55a/js/core/_init_.js\" data-cfg-corelib=\"https://img3.doubanio.com/f/shire/72ced6df41d4d158420cebdd254f9562942464e3/js/jquery.min.js\"></script>\\n    \\n    <style type=\"text/css\"></style>\\n    <link rel=\"stylesheet\" href=\"https://img3.doubanio.com/misc/mixed_static/2008baff28306247.css\">\\n    <script>\\n        Do.global(\\'https://img3.doubanio.com/f/shire/5ecaf46d6954d5a30bc7d99be86ae34031646e00/js/douban.js\\');\\n        \\n    </script>\\n\\n    <link rel=\"shortcut icon\" href=\"https://img3.doubanio.com/favicon.ico\" type=\"image/x-icon\">\\n</head>\\n\\n<body>\\n  \\n  \\n    <script type=\"text/javascript\">var _body_start = new Date();</script>\\n    \\n\\n\\n  \\n\\n\\n\\n    <link href=\"//img3.doubanio.com/dae/accounts/resources/f5f3d66/shire/bundle.css\" rel=\"stylesheet\" type=\"text/css\">\\n\\n\\n\\n<div id=\"db-global-nav\" class=\"global-nav\">\\n  <div class=\"bd\">\\n    \\n<div class=\"top-nav-info\">\\n  <ul>\\n    <li>\\n    <a id=\"top-nav-doumail-link\" href=\"https://www.douban.com/doumail/\">豆邮</a>\\n    </li>\\n    <li class=\"nav-user-account\">\\n      <a target=\"_blank\" href=\"https://accounts.douban.com/passport/setting/\" class=\"bn-more\">\\n        <span>Hawk的帐号</span><span class=\"arrow\"></span>\\n      </a>\\n      <div class=\"more-items\">\\n        <table cellpadding=\"0\" cellspacing=\"0\">\\n          <tbody>\\n            <tr>\\n              <td>\\n                <a href=\"https://www.douban.com/mine/\">个人主页</a>\\n              </td>\\n            </tr>\\n            <tr>\\n              <td>\\n                <a target=\"_blank\" href=\"https://www.douban.com/mine/orders/\">我的订单</a>\\n              </td>\\n            </tr>\\n            <tr>\\n              <td>\\n                <a target=\"_blank\" href=\"https://www.douban.com/mine/wallet/\">我的钱包</a>\\n              </td>\\n            </tr>\\n            <tr>\\n              <td>\\n                <a target=\"_blank\" href=\"https://accounts.douban.com/passport/setting/\">帐号管理</a>\\n              </td>\\n            </tr>\\n            <tr>\\n              <td>\\n                <a href=\"https://www.douban.com/accounts/logout?source=main&ck=zV8Z\">退出</a>\\n              </td>\\n            </tr>\\n          </tbody>\\n        </table>\\n      </div>\\n    </li>\\n  </ul>\\n</div>\\n\\n  <div class=\"top-nav-reminder\">\\n    <a href=\"https://www.douban.com/notification/\" class=\"lnk-remind\">提醒</a>\\n    <div id=\"top-nav-notimenu\" class=\"more-items\">\\n      <div class=\"bd\">\\n        <p>加载中...</p>\\n      </div>\\n    </div>\\n  </div>\\n\\n    <div class=\"top-nav-doubanapp\">\\n  <a href=\"https://www.douban.com/doubanapp/app?channel=top-nav\" class=\"lnk-doubanapp\">下载豆瓣客户端</a>\\n  <div id=\"doubanapp-tip\">\\n    <a href=\"https://www.douban.com/doubanapp/app?channel=qipao\" class=\"tip-link\">豆瓣 <span class=\"version\">6.0</span> 全新发布</a>\\n    <a href=\"javascript: void 0;\" class=\"tip-close\">×</a>\\n  </div>\\n  <div id=\"top-nav-appintro\" class=\"more-items\">\\n    <p class=\"appintro-title\">豆瓣</p>\\n    <p class=\"qrcode\">扫码直接下载</p>\\n    <div class=\"download\">\\n      <a href=\"https://www.douban.com/doubanapp/redirect?channel=top-nav&direct_dl=1&download=iOS\">iPhone</a>\\n      <span>·</span>\\n      <a href=\"https://www.douban.com/doubanapp/redirect?channel=top-nav&direct_dl=1&download=Android\" class=\"download-android\">Android</a>\\n    </div>\\n  </div>\\n</div>\\n\\n    \\n\\n\\n<div class=\"global-nav-items\">\\n  <ul>\\n    <li class=\"on\">\\n      <a href=\"https://www.douban.com\"  data-moreurl-dict=\"{&quot;from&quot;:&quot;top-nav-click-main&quot;,&quot;uid&quot;:&quot;140014301&quot;}\">豆瓣</a>\\n    </li>\\n    <li class=\"\">\\n      <a href=\"https://book.douban.com\" target=\"_blank\" data-moreurl-dict=\"{&quot;from&quot;:&quot;top-nav-click-book&quot;,&quot;uid&quot;:&quot;140014301&quot;}\">读书</a>\\n    </li>\\n    <li class=\"\">\\n      <a href=\"https://movie.douban.com\" target=\"_blank\" data-moreurl-dict=\"{&quot;from&quot;:&quot;top-nav-click-movie&quot;,&quot;uid&quot;:&quot;140014301&quot;}\">电影</a>\\n    </li>\\n    <li class=\"\">\\n      <a href=\"https://music.douban.com\" target=\"_blank\" data-moreurl-dict=\"{&quot;from&quot;:&quot;top-nav-click-music&quot;,&quot;uid&quot;:&quot;140014301&quot;}\">音乐</a>\\n    </li>\\n    <li class=\"\">\\n      <a href=\"https://www.douban.com/location\" target=\"_blank\" data-moreurl-dict=\"{&quot;from&quot;:&quot;top-nav-click-location&quot;,&quot;uid&quot;:&quot;140014301&quot;}\">同城</a>\\n    </li>\\n    <li class=\"\">\\n      <a href=\"https://www.douban.com/group\" target=\"_blank\" data-moreurl-dict=\"{&quot;from&quot;:&quot;top-nav-click-group&quot;,&quot;uid&quot;:&quot;140014301&quot;}\">小组</a>\\n    </li>\\n    <li class=\"\">\\n      <a href=\"https://read.douban.com&#47;?dcs=top-nav&amp;dcm=douban\" target=\"_blank\" data-moreurl-dict=\"{&quot;from&quot;:&quot;top-nav-click-read&quot;,&quot;uid&quot;:&quot;140014301&quot;}\">阅读</a>\\n    </li>\\n    <li class=\"\">\\n      <a href=\"https://douban.fm&#47;?from_=shire_top_nav\" target=\"_blank\" data-moreurl-dict=\"{&quot;from&quot;:&quot;top-nav-click-fm&quot;,&quot;uid&quot;:&quot;140014301&quot;}\">FM</a>\\n    </li>\\n    <li class=\"\">\\n      <a href=\"https://time.douban.com&#47;?dt_time_source=douban-web_top_nav\" target=\"_blank\" data-moreurl-dict=\"{&quot;from&quot;:&quot;top-nav-click-time&quot;,&quot;uid&quot;:&quot;140014301&quot;}\">时间</a>\\n    </li>\\n    <li class=\"\">\\n      <a href=\"https://market.douban.com&#47;?utm_campaign=douban_top_nav&amp;utm_source=douban&amp;utm_medium=pc_web\" target=\"_blank\" data-moreurl-dict=\"{&quot;from&quot;:&quot;top-nav-click-market&quot;,&quot;uid&quot;:&quot;140014301&quot;}\">豆品</a>\\n    </li>\\n    <li>\\n      <a href=\"#more\" class=\"bn-more\"><span>更多</span></a>\\n      <div class=\"more-items\">\\n        <table cellpadding=\"0\" cellspacing=\"0\">\\n          <tbody>\\n            <tr>\\n              <td>\\n                <a href=\"https://ypy.douban.com\" target=\"_blank\" data-moreurl-dict=\"{&quot;from&quot;:&quot;top-nav-click-ypy&quot;,&quot;uid&quot;:&quot;140014301&quot;}\">豆瓣摄影</a>\\n              </td>\\n            </tr>\\n          </tbody>\\n        </table>\\n      </div>\\n    </li>\\n  </ul>\\n</div>\\n\\n  </div>\\n</div>\\n<script>\\n  ;window._GLOBAL_NAV = {\\n    USER_ID: \"140014301\",\\n    UPLOAD_AUTH_TOKEN: \"140014301:d7b07d7c40082061fb26b5f98135626e3b98c907\",\\n    SSE_TOKEN: \"0c96f88adeff13e6969ed701321d4cfc189bce53\",\\n    SSE_TIMESTAMP: \"1583146040\",\\n    DOUBAN_URL: \"https://www.douban.com\",\\n    N_NEW_NOTIS: 0,\\n    N_NEW_DOUMAIL: 0\\n  };\\n</script>\\n\\n\\n\\n    <script src=\"//img3.doubanio.com/dae/accounts/resources/f5f3d66/shire/bundle.js\" defer=\"defer\"></script>\\n\\n\\n\\n\\n  \\n\\n\\n\\n    <link href=\"//img3.doubanio.com/dae/accounts/resources/f5f3d66/sns/bundle.css\" rel=\"stylesheet\" type=\"text/css\">\\n\\n\\n\\n<div id=\"db-nav-sns\" class=\"nav\">\\n  <div class=\"nav-wrap\">\\n    <div class=\"nav-primary\">\\n     \\n      <div class=\"nav-logo\">\\n        <a href=\"https://www.douban.com\">豆瓣社区</a>\\n      </div>\\n\\n      <div class=\"nav-search\">\\n  <form action=\"https://www.douban.com/search\" method=\"get\">\\n\\t<fieldset>\\n      <legend>搜索：</legend>\\n\\t  <label for=\"inp-query\">搜索你感兴趣的内容和人...</label>\\n\\t  <div class=\"inp\">\\n\\t    <input type=\"hidden\" name=\"source\" value=\"suggest\">\\n\\t\\t<input id=\"inp-query\" name=\"q\" size=\"22\" maxlength=\"60\" autocomplete=\"off\" value=\"\">\\n\\t  </div>\\n\\t  <div class=\"inp-btn\"><input type=\"submit\" value=\"搜索\"></div>\\n\\t</fieldset>\\n  </form>\\n</div>\\n\\n      \\n\\n<div class=\"nav-items\">\\n  <ul>\\n    <li><a href=\"https://www.douban.com\">首页</a></li>\\n\\t<li><a href=\"https://www.douban.com/mine/\">我的豆瓣</a></li>\\n      <li>\\n        <a href=\"https://www.douban.com/explore\">\\n          浏览发现\\n        </a>\\n      </li>\\n      <li>\\n        <a href=\"https://www.douban.com/gallery\">\\n          话题广场\\n          <img src=\"https://img3.doubanio.com/f/shire/e49eca1517424a941871a2667a8957fd6c72d632/pics/new_menu.gif\" alt=\"new\" style=\"position: absolute; top: -7px; right: -13px;\" />\\n        </a>\\n      </li>\\n  </ul>\\n</div>\\n\\n    </div>\\n  </div>\\n</div>\\n\\n\\n\\n    <script src=\"//img3.doubanio.com/dae/accounts/resources/f5f3d66/sns/bundle.js\" defer=\"defer\"></script>\\n\\n\\n\\n\\n\\n\\n    <div id=\"wrapper\">\\n        \\n\\n        \\n<div id=\"content\">\\n    \\n\\n    <div class=\"grid-16-8 clearfix\">\\n        \\n        \\n        <div class=\"article\">\\n               \\n    \\n\\n        \\n\\n\\n\\n<div class=\"statuses-setting\">\\n<div class=\"hd\">\\n    <a href=\"#\" class=\"a_status_setting\">首页设置</a>\\n</div>\\n<div class=\"bd\" style=\"display:none;\">\\n  <i class=\"arrow\"></i>\\n  <div class=\"loading\">正在加载中...</div>\\n</div>\\n<p class=\"setting-tips\" style=\"display:none;\">设置成功! 相关内容后继会出现在你的首页上\\n</div>\\n<script>\\nEXPAND_SETTING_FORM = false;\\n</script>\\n\\n        <div id=\"statuses\">\\n            \\n\\n\\n\\n\\n\\n<div id=\"db-isay\" class=\"mod isay isay-disable has-commodity \">\\n\\t<form name=\"mbform\" method=\"post\" action=\"https://www.douban.com/\"><div style=\"display:none;\"><input type=\"hidden\" name=\"ck\" value=\"zV8Z\"/></div>\\n    <ul class=\"isay-links\">\\n      <li class=\"isay-main active\"><a data-action=\"main\" href=\"javascript:void(0);\">说句话</a></li>\\n      <li class=\"isay-pic\"><a data-action=\"pic\" href=\"javascript:void(0);\">发照片</a></li>\\n      <li class=\"isay-share\">\\n        <a data-action=\"share\" href=\"javascript:void(0);\">推荐网页</a>\\n      </li>\\n        <li class=\"notes-link\"><a class=\"\" href=\"https://www.douban.com/note/create\" title=\"添加日记\">写日记</a></li>\\n    </ul>\\n    <div class=\"item\">\\n      <p class=\"highlighter mention-highlighter\"></p>\\n      <p class=\"highlighter error-highlighter\"></p>\\n      <label id=\"isay-label\" for=\"isay-cont\">分享生活点滴...</label>\\n      <textarea data-minheight=\"70\" tabindex=\"1\" id=\"isay-cont\" name=\"comment\" rows=\"1\"></textarea>\\n    </div>\\n    <div id=\"isay-act-field\" class=\"isay-act\"></div>\\n    <div class=\"btn\">\\n      <span class=\"private\">\\n        <select name=\"privacy_and_reply_limit\" id=\"accessible\">\\n          <option value=\"P,\">所有人可见</option>\\n          <option value=\"X,\">仅自己可见</option>\\n          <option value=\",F\">关注的人可回应</option>\\n        </select>\\n        <a href=\"javascript:;;\">隐私和权限设置</a>\\n      </span>\\n      <span id=\"isay-counter\"></span>\\n      <span class=\"bn-submit bn-flat js-verify-account\" data-is-verified=\"True\" data-verify-url=\"https://www.douban.com/accounts/phone/verify\"><input id=\"isay-submit\" tabindex=\"1\" type=\"submit\" value=\"发布\"></span>\\n      <a target=\"_blank\" href=\"https://www.douban.com/service/bookmarklet\" class=\"lnk-share-tools\" onclick=\"moreurl(this, {from:\\'index_rec\\'})\" >添加网页推荐工具</a>\\n    </div>\\n  </form>\\n  <div class=\"btn-group\">\\n    <form charset=\"utf-8\" id=\"isay-upload\" data-action=\"pic\" action=\"/j/upload\" enctype=\"multipart/form-data\" method=\"post\"><div style=\"display:none;\"><input type=\"hidden\" name=\"ck\" value=\"zV8Z\"/></div>\\n    <input id=\"isay-upload-inp\" tabindex=\"2\" autocomplete=\"off\" data-action=\"pic\" name=\"image\" title=\"可传多张照片\" type=\"file\" multiple>\\n    </form>\\n    <a href=\"javascript:void(0);\" tabindex=\"-1\" data-action=\"pic\" class=\"ico ico-pic\" title=\"上传照片\">照片</a>\\n    <a href=\"javascript:void(0);\" tabindex=\"2\" data-action=\"topic\" class=\"ico ico-topic\" title=\"添加话题\">话题</a>\\n  </div>\\n</div>\\n<script>\\n    UPLOAD_AUTH_TOKEN = \\'140014301:2de50277b8048afa57ae64a04794a19e095d842c\\';\\n    UPLOAD_URL = \\'/j/upload\\';\\n    SWFUPLOAD_FILES = [\\'https://img3.doubanio.com/f/shire/9980cc8a72c270732194aaef2390a1f0a006f044/js/swfupload.js\\'];\\n    UPLOAD_LIMIT = 9;\\n    var isay_src = \"https://img3.doubanio.com/f/sns/3e9f89b45c2d496133be9c80f578b50dd734ada7/js/sns/widgets/isay_a.js\";\\n    var tagsug_src = \"https://img3.doubanio.com/f/sns/f24804bcb4d19163e924f68e4ffe49496eda68c4/js/sns/lib/tagsug.js\";\\n</script>\\n\\n\\n\\n\\n\\n\\n\\n\\n\\n            \\n\\n\\n\\n\\n\\n\\n\\n\\n\\n<div class=\"stream-items\">\\n  \\n\\n    \\n      \\n      \\n\\n\\n\\n\\n\\n\\n    \\n  \\n    <div class=\"new-status status-wrapper    saying\" data-sid=\"2845334158\" data-uid=\"140014301\" >\\n\\n    \\n      \\n\\n\\n\\n\\n\\n<div class=\"status-item\"\\n    data-sid=\"2845334158\"\\n    data-uid=\"140014301\"\\n    data-action=\"1\"\\n    data-target-type=\"sns\"\\n    data-object-kind=\"1018\"\\n    data-object-id=\"568914261\">\\n<div class=\"mod\" data-status-id=\"2845334158\">\\n  \\n  <div\\n    class=\"hd \"\\n    data-status-url=\"https://www.douban.com/people/140014301/status/2845334158/\">\\n    \\n  \\n    <div class=\"usr-pic\">\\n      <a href=\"https://www.douban.com/people/140014301/\"\\n        \\n  \\n  onclick=\"moreurl(this, {&#34;action&#34;: &#34;1&#34;, &#34;from&#34;: &#34;nmbp-2845334158&#34;, &#34;target_type&#34;: &#34;sns&#34;, &#34;object_kind&#34;: &#34;1018&#34;})\"\\n title=\"Hawk\">\\n        <img src=\"https://img3.doubanio.com/icon/u140014301-1.jpg\" alt=\"Hawk\"/>\\n      </a>\\n    </div>\\n  <div class=\"text\">\\n    <a href=\"https://www.douban.com/people/140014301/\" \\n  \\n  onclick=\"moreurl(this, {&#34;action&#34;: &#34;1&#34;, &#34;from&#34;: &#34;nmbp-2845334158&#34;, &#34;target_type&#34;: &#34;sns&#34;, &#34;object_kind&#34;: &#34;1018&#34;})\"\\n class=\"lnk-people\">Hawk</a>\\n\\n    说:\\n\\n\\n  </div>\\n\\n  </div>\\n\\n  <div class=\"bd sns\">\\n    \\n  \\n  <div class=\"status-saying\">\\n    \\n\\n<blockquote class=quote-clamp>\\n  \\n\\n  <p>hello world</p>\\n</blockquote>\\n\\n    \\n\\n\\n  </div>\\n\\n\\n  \\n\\n<div class=\"actions\">\\n  \\n  <span class=\"created_at\" title=\"2020-03-02 18:47:18\"><a href=\"https://www.douban.com/people/140014301/status/2845334158/\">刚刚</a></span>\\n\\n  <a href=\"https://www.douban.com/people/140014301/status/2845334158/\" class=\"btn btn-action-reply new-reply\" data-action-type=\"showComments\" data-count=\"0\">\\n    回应\\n  </a>\\n\\n\\n\\n    &nbsp;&nbsp;<a class=\"btn btn-key-reshare btn-reshare new-reshare \" data-action-type=\"reshare\" >转发</a>\\n\\n\\n  &nbsp;&nbsp;<a href=\"https://www.douban.com/people/140014301/status/2845334158/\" class=\"btn btn-action-reply-delete\" data-action-type=\"deleteStatus\" data-reshare=\"\">删除</a>\\n\\n</div>\\n\\n  <div class=\"others\">\\n    <div class=\"comments\">\\n      <div class=\"comments-items\"></div>\\n        \\n    </div>\\n  </div>\\n  </div>\\n</div>\\n</div>\\n\\n\\n\\n\\n    \\n    \\n\\n</div>\\n<!-- 2845334158, say.html, -->\\n\\n\\n\\n\\n      \\n    \\n      \\n      \\n\\n\\n\\n\\n\\n\\n    \\n  \\n    <div class=\"new-status status-wrapper    saying\" data-sid=\"2823238525\" data-uid=\"140014301\" >\\n\\n    \\n      \\n\\n\\n\\n\\n\\n<div class=\"status-item\"\\n    data-sid=\"2823238525\"\\n    data-uid=\"140014301\"\\n    data-action=\"1\"\\n    data-target-type=\"sns\"\\n    data-object-kind=\"1018\"\\n    data-object-id=\"568792966\">\\n<div class=\"mod\" data-status-id=\"2823238525\">\\n  \\n  <div\\n    class=\"hd \"\\n    data-status-url=\"https://www.douban.com/people/140014301/status/2823238525/\">\\n    \\n  \\n    <div class=\"usr-pic\">\\n      <a href=\"https://www.douban.com/people/140014301/\"\\n        \\n  \\n  onclick=\"moreurl(this, {&#34;action&#34;: &#34;1&#34;, &#34;from&#34;: &#34;nmbp-2823238525&#34;, &#34;target_type&#34;: &#34;sns&#34;, &#34;object_kind&#34;: &#34;1018&#34;})\"\\n title=\"Hawk\">\\n        <img src=\"https://img3.doubanio.com/icon/u140014301-1.jpg\" alt=\"Hawk\"/>\\n      </a>\\n    </div>\\n  <div class=\"text\">\\n    <a href=\"https://www.douban.com/people/140014301/\" \\n  \\n  onclick=\"moreurl(this, {&#34;action&#34;: &#34;1&#34;, &#34;from&#34;: &#34;nmbp-2823238525&#34;, &#34;target_type&#34;: &#34;sns&#34;, &#34;object_kind&#34;: &#34;1018&#34;})\"\\n class=\"lnk-people\">Hawk</a>\\n\\n    说:\\n\\n\\n  </div>\\n\\n  </div>\\n\\n  <div class=\"bd sns\">\\n    \\n  \\n  <div class=\"status-saying\">\\n    \\n\\n<blockquote class=quote-clamp>\\n  \\n\\n  <p>hfgjh</p>\\n</blockquote>\\n\\n    \\n\\n\\n  </div>\\n\\n\\n  \\n\\n<div class=\"actions\">\\n  \\n  <span class=\"created_at\" title=\"2020-02-20 20:59:59\"><a href=\"https://www.douban.com/people/140014301/status/2823238525/\">2月20日</a></span>\\n\\n  <a href=\"https://www.douban.com/people/140014301/status/2823238525/\" class=\"btn btn-action-reply new-reply\" data-action-type=\"showComments\" data-count=\"0\">\\n    回应\\n  </a>\\n\\n\\n\\n    &nbsp;&nbsp;<a class=\"btn btn-key-reshare btn-reshare new-reshare \" data-action-type=\"reshare\" >转发</a>\\n\\n\\n  &nbsp;&nbsp;<a href=\"https://www.douban.com/people/140014301/status/2823238525/\" class=\"btn btn-action-reply-delete\" data-action-type=\"deleteStatus\" data-reshare=\"\">删除</a>\\n\\n</div>\\n\\n  <div class=\"others\">\\n    <div class=\"comments\">\\n      <div class=\"comments-items\"></div>\\n        \\n    </div>\\n  </div>\\n  </div>\\n</div>\\n</div>\\n\\n\\n\\n\\n    \\n    \\n\\n</div>\\n<!-- 2823238525, say.html, -->\\n\\n\\n\\n\\n      \\n    \\n      \\n      \\n\\n\\n\\n\\n\\n\\n    \\n  \\n    <div class=\"new-status status-wrapper    saying\" data-sid=\"2822780190\" data-uid=\"140014301\" >\\n\\n    \\n      \\n\\n\\n\\n\\n\\n<div class=\"status-item\"\\n    data-sid=\"2822780190\"\\n    data-uid=\"140014301\"\\n    data-action=\"1\"\\n    data-target-type=\"sns\"\\n    data-object-kind=\"1018\"\\n    data-object-id=\"568790334\">\\n<div class=\"mod\" data-status-id=\"2822780190\">\\n  \\n  <div\\n    class=\"hd \"\\n    data-status-url=\"https://www.douban.com/people/140014301/status/2822780190/\">\\n    \\n  \\n    <div class=\"usr-pic\">\\n      <a href=\"https://www.douban.com/people/140014301/\"\\n        \\n  \\n  onclick=\"moreurl(this, {&#34;action&#34;: &#34;1&#34;, &#34;from&#34;: &#34;nmbp-2822780190&#34;, &#34;target_type&#34;: &#34;sns&#34;, &#34;object_kind&#34;: &#34;1018&#34;})\"\\n title=\"Hawk\">\\n        <img src=\"https://img3.doubanio.com/icon/u140014301-1.jpg\" alt=\"Hawk\"/>\\n      </a>\\n    </div>\\n  <div class=\"text\">\\n    <a href=\"https://www.douban.com/people/140014301/\" \\n  \\n  onclick=\"moreurl(this, {&#34;action&#34;: &#34;1&#34;, &#34;from&#34;: &#34;nmbp-2822780190&#34;, &#34;target_type&#34;: &#34;sns&#34;, &#34;object_kind&#34;: &#34;1018&#34;})\"\\n class=\"lnk-people\">Hawk</a>\\n\\n    说:\\n\\n\\n  </div>\\n\\n  </div>\\n\\n  <div class=\"bd sns\">\\n    \\n  \\n  <div class=\"status-saying\">\\n    \\n\\n<blockquote class=quote-clamp>\\n  \\n\\n  <p>hello world</p>\\n</blockquote>\\n\\n    \\n\\n\\n  </div>\\n\\n\\n  \\n\\n<div class=\"actions\">\\n  \\n  <span class=\"created_at\" title=\"2020-02-20 16:47:52\"><a href=\"https://www.douban.com/people/140014301/status/2822780190/\">2月20日</a></span>\\n\\n  <a href=\"https://www.douban.com/people/140014301/status/2822780190/\" class=\"btn btn-action-reply new-reply\" data-action-type=\"showComments\" data-count=\"0\">\\n    回应\\n  </a>\\n\\n\\n\\n    &nbsp;&nbsp;<a class=\"btn btn-key-reshare btn-reshare new-reshare \" data-action-type=\"reshare\" >转发</a>\\n\\n\\n  &nbsp;&nbsp;<a href=\"https://www.douban.com/people/140014301/status/2822780190/\" class=\"btn btn-action-reply-delete\" data-action-type=\"deleteStatus\" data-reshare=\"\">删除</a>\\n\\n</div>\\n\\n  <div class=\"others\">\\n    <div class=\"comments\">\\n      <div class=\"comments-items\"></div>\\n        \\n    </div>\\n  </div>\\n  </div>\\n</div>\\n</div>\\n\\n\\n\\n\\n    \\n    \\n\\n</div>\\n<!-- 2822780190, say.html, -->\\n\\n\\n\\n\\n      \\n    \\n      \\n      \\n\\n\\n\\n\\n\\n\\n    \\n  \\n    <div class=\"new-status status-wrapper    saying\" data-sid=\"2822769950\" data-uid=\"140014301\" >\\n\\n    \\n      \\n\\n\\n\\n\\n\\n<div class=\"status-item\"\\n    data-sid=\"2822769950\"\\n    data-uid=\"140014301\"\\n    data-action=\"1\"\\n    data-target-type=\"sns\"\\n    data-object-kind=\"1018\"\\n    data-object-id=\"568790239\">\\n<div class=\"mod\" data-status-id=\"2822769950\">\\n  \\n  <div\\n    class=\"hd \"\\n    data-status-url=\"https://www.douban.com/people/140014301/status/2822769950/\">\\n    \\n  \\n    <div class=\"usr-pic\">\\n      <a href=\"https://www.douban.com/people/140014301/\"\\n        \\n  \\n  onclick=\"moreurl(this, {&#34;action&#34;: &#34;1&#34;, &#34;from&#34;: &#34;nmbp-2822769950&#34;, &#34;target_type&#34;: &#34;sns&#34;, &#34;object_kind&#34;: &#34;1018&#34;})\"\\n title=\"Hawk\">\\n        <img src=\"https://img3.doubanio.com/icon/u140014301-1.jpg\" alt=\"Hawk\"/>\\n      </a>\\n    </div>\\n  <div class=\"text\">\\n    <a href=\"https://www.douban.com/people/140014301/\" \\n  \\n  onclick=\"moreurl(this, {&#34;action&#34;: &#34;1&#34;, &#34;from&#34;: &#34;nmbp-2822769950&#34;, &#34;target_type&#34;: &#34;sns&#34;, &#34;object_kind&#34;: &#34;1018&#34;})\"\\n class=\"lnk-people\">Hawk</a>\\n\\n    说:\\n\\n\\n  </div>\\n\\n  </div>\\n\\n  <div class=\"bd sns\">\\n    \\n  \\n  <div class=\"status-saying\">\\n    \\n\\n<blockquote class=quote-clamp>\\n  \\n\\n  <p>hello world</p>\\n</blockquote>\\n\\n    \\n\\n\\n  </div>\\n\\n\\n  \\n\\n<div class=\"actions\">\\n  \\n  <span class=\"created_at\" title=\"2020-02-20 16:41:34\"><a href=\"https://www.douban.com/people/140014301/status/2822769950/\">2月20日</a></span>\\n\\n  <a href=\"https://www.douban.com/people/140014301/status/2822769950/\" class=\"btn btn-action-reply new-reply\" data-action-type=\"showComments\" data-count=\"0\">\\n    回应\\n  </a>\\n\\n\\n\\n    &nbsp;&nbsp;<a class=\"btn btn-key-reshare btn-reshare new-reshare \" data-action-type=\"reshare\" >转发</a>\\n\\n\\n  &nbsp;&nbsp;<a href=\"https://www.douban.com/people/140014301/status/2822769950/\" class=\"btn btn-action-reply-delete\" data-action-type=\"deleteStatus\" data-reshare=\"\">删除</a>\\n\\n</div>\\n\\n  <div class=\"others\">\\n    <div class=\"comments\">\\n      <div class=\"comments-items\"></div>\\n        \\n    </div>\\n  </div>\\n  </div>\\n</div>\\n</div>\\n\\n\\n\\n\\n    \\n    \\n\\n</div>\\n<!-- 2822769950, say.html, -->\\n\\n\\n\\n\\n      \\n    \\n      \\n      \\n\\n\\n\\n\\n\\n\\n    \\n  \\n    <div class=\"new-status status-wrapper    saying\" data-sid=\"2822718314\" data-uid=\"140014301\" >\\n\\n    \\n      \\n\\n\\n\\n\\n\\n<div class=\"status-item\"\\n    data-sid=\"2822718314\"\\n    data-uid=\"140014301\"\\n    data-action=\"1\"\\n    data-target-type=\"sns\"\\n    data-object-kind=\"1018\"\\n    data-object-id=\"568789771\">\\n<div class=\"mod\" data-status-id=\"2822718314\">\\n  \\n  <div\\n    class=\"hd \"\\n    data-status-url=\"https://www.douban.com/people/140014301/status/2822718314/\">\\n    \\n  \\n    <div class=\"usr-pic\">\\n      <a href=\"https://www.douban.com/people/140014301/\"\\n        \\n  \\n  onclick=\"moreurl(this, {&#34;action&#34;: &#34;1&#34;, &#34;from&#34;: &#34;nmbp-2822718314&#34;, &#34;target_type&#34;: &#34;sns&#34;, &#34;object_kind&#34;: &#34;1018&#34;})\"\\n title=\"Hawk\">\\n        <img src=\"https://img3.doubanio.com/icon/u140014301-1.jpg\" alt=\"Hawk\"/>\\n      </a>\\n    </div>\\n  <div class=\"text\">\\n    <a href=\"https://www.douban.com/people/140014301/\" \\n  \\n  onclick=\"moreurl(this, {&#34;action&#34;: &#34;1&#34;, &#34;from&#34;: &#34;nmbp-2822718314&#34;, &#34;target_type&#34;: &#34;sns&#34;, &#34;object_kind&#34;: &#34;1018&#34;})\"\\n class=\"lnk-people\">Hawk</a>\\n\\n    说:\\n\\n\\n  </div>\\n\\n  </div>\\n\\n  <div class=\"bd sns\">\\n    \\n  \\n  <div class=\"status-saying\">\\n    \\n\\n<blockquote class=quote-clamp>\\n  \\n\\n  <p>1111</p>\\n</blockquote>\\n\\n    \\n\\n\\n  </div>\\n\\n\\n  \\n\\n<div class=\"actions\">\\n  \\n  <span class=\"created_at\" title=\"2020-02-20 16:08:03\"><a href=\"https://www.douban.com/people/140014301/status/2822718314/\">2月20日</a></span>\\n\\n  <a href=\"https://www.douban.com/people/140014301/status/2822718314/\" class=\"btn btn-action-reply new-reply\" data-action-type=\"showComments\" data-count=\"0\">\\n    回应\\n  </a>\\n\\n\\n\\n    &nbsp;&nbsp;<a class=\"btn btn-key-reshare btn-reshare new-reshare \" data-action-type=\"reshare\" >转发</a>\\n\\n\\n  &nbsp;&nbsp;<a href=\"https://www.douban.com/people/140014301/status/2822718314/\" class=\"btn btn-action-reply-delete\" data-action-type=\"deleteStatus\" data-reshare=\"\">删除</a>\\n\\n</div>\\n\\n  <div class=\"others\">\\n    <div class=\"comments\">\\n      <div class=\"comments-items\"></div>\\n        \\n    </div>\\n  </div>\\n  </div>\\n</div>\\n</div>\\n\\n\\n\\n\\n    \\n    \\n\\n</div>\\n<!-- 2822718314, say.html, -->\\n\\n\\n\\n\\n      \\n    \\n      \\n      \\n\\n\\n\\n\\n\\n\\n    \\n  \\n    <div class=\"new-status status-wrapper    saying\" data-sid=\"2822710087\" data-uid=\"140014301\" >\\n\\n    \\n      \\n\\n\\n\\n\\n\\n<div class=\"status-item\"\\n    data-sid=\"2822710087\"\\n    data-uid=\"140014301\"\\n    data-action=\"1\"\\n    data-target-type=\"sns\"\\n    data-object-kind=\"1018\"\\n    data-object-id=\"568789672\">\\n<div class=\"mod\" data-status-id=\"2822710087\">\\n  \\n  <div\\n    class=\"hd \"\\n    data-status-url=\"https://www.douban.com/people/140014301/status/2822710087/\">\\n    \\n  \\n    <div class=\"usr-pic\">\\n      <a href=\"https://www.douban.com/people/140014301/\"\\n        \\n  \\n  onclick=\"moreurl(this, {&#34;action&#34;: &#34;1&#34;, &#34;from&#34;: &#34;nmbp-2822710087&#34;, &#34;target_type&#34;: &#34;sns&#34;, &#34;object_kind&#34;: &#34;1018&#34;})\"\\n title=\"Hawk\">\\n        <img src=\"https://img3.doubanio.com/icon/u140014301-1.jpg\" alt=\"Hawk\"/>\\n      </a>\\n    </div>\\n  <div class=\"text\">\\n    <a href=\"https://www.douban.com/people/140014301/\" \\n  \\n  onclick=\"moreurl(this, {&#34;action&#34;: &#34;1&#34;, &#34;from&#34;: &#34;nmbp-2822710087&#34;, &#34;target_type&#34;: &#34;sns&#34;, &#34;object_kind&#34;: &#34;1018&#34;})\"\\n class=\"lnk-people\">Hawk</a>\\n\\n    说:\\n\\n\\n  </div>\\n\\n  </div>\\n\\n  <div class=\"bd sns\">\\n    \\n  \\n  <div class=\"status-saying\">\\n    \\n\\n<blockquote class=quote-clamp>\\n  \\n\\n  <p>asdfasd</p>\\n</blockquote>\\n\\n    \\n\\n\\n  </div>\\n\\n\\n  \\n\\n<div class=\"actions\">\\n  \\n  <span class=\"created_at\" title=\"2020-02-20 16:02:37\"><a href=\"https://www.douban.com/people/140014301/status/2822710087/\">2月20日</a></span>\\n\\n  <a href=\"https://www.douban.com/people/140014301/status/2822710087/\" class=\"btn btn-action-reply new-reply\" data-action-type=\"showComments\" data-count=\"0\">\\n    回应\\n  </a>\\n\\n\\n\\n    &nbsp;&nbsp;<a class=\"btn btn-key-reshare btn-reshare new-reshare \" data-action-type=\"reshare\" >转发</a>\\n\\n\\n  &nbsp;&nbsp;<a href=\"https://www.douban.com/people/140014301/status/2822710087/\" class=\"btn btn-action-reply-delete\" data-action-type=\"deleteStatus\" data-reshare=\"\">删除</a>\\n\\n</div>\\n\\n  <div class=\"others\">\\n    <div class=\"comments\">\\n      <div class=\"comments-items\"></div>\\n        \\n    </div>\\n  </div>\\n  </div>\\n</div>\\n</div>\\n\\n\\n\\n\\n    \\n    \\n\\n</div>\\n<!-- 2822710087, say.html, -->\\n\\n\\n\\n\\n      \\n    \\n      \\n      \\n\\n\\n\\n\\n\\n\\n    \\n  \\n    <div class=\"new-status status-wrapper    \" data-sid=\"2726525573\" data-uid=\"900117594\" >\\n\\n    \\n      \\n\\n\\n\\n\\n\\n\\n<div class=\"status-item\"\\n    data-sid=\"2726525573\"\\n    data-uid=\"81343016\"\\n    data-action=\"\"\\n    data-target-type=\"editor\"\\n    data-object-kind=\"1015\"\\n    data-object-id=\"745031387\">\\n<div class=\"mod\" data-status-id=\"2726525573\">\\n  \\n  <div\\n    class=\"hd \"\\n    data-status-url=\"https://www.douban.com/people/malorie0991/status/2726525573/\">\\n    \\n\\n  <div class=\"usr-pic\">\\n    <a href=\"https://www.douban.com/people/malorie0991/\" \\n  \\n  onclick=\"moreurl(this, {&#34;action&#34;: &#34;&#34;, &#34;from&#34;: &#34;nmbp-2726525573&#34;, &#34;target_type&#34;: &#34;editor&#34;, &#34;object_kind&#34;: &#34;1015&#34;})\"\\n title=\"Malorie\"><img src=\"https://img1.doubanio.com/icon/u81343016-8.jpg\" alt=\"Malorie\"/></a>\\n  </div>\\n  <div class=\"text\">\\n    <a href=\"https://www.douban.com/people/malorie0991/\" \\n  \\n  onclick=\"moreurl(this, {&#34;action&#34;: &#34;&#34;, &#34;from&#34;: &#34;nmbp-2726525573&#34;, &#34;target_type&#34;: &#34;editor&#34;, &#34;object_kind&#34;: &#34;1015&#34;})\"\\n class=\"lnk-people\">Malorie</a>\\n    \\n    \\n\\n\\n  </div>\\n\\n  </div>\\n\\n  <div class=\"bd editor\">\\n    \\n\\n<div class=\"block note-block\" data-url=\"https://www.douban.com/note/745031387/\">\\n\\n  <div class=\"content\">\\n    <div class=\"title\">\\n      <a href=\"https://www.douban.com/note/745031387/\" \\n  \\n  onclick=\"moreurl(this, {&#34;action&#34;: &#34;&#34;, &#34;from&#34;: &#34;nmb-2726525573&#34;, &#34;target_type&#34;: &#34;editor&#34;, &#34;object_kind&#34;: &#34;1015&#34;})\"\\n>21 身份危机 |Model Minority</a>\\n    </div>\\n    <p>Someone like me can be a real nightmare, completely aware But I&#39;d rather be a real nightmare than die unaware So save me your prayers 一直很想写这篇日记，却因为太贴近真实的自我...</p>\\n  </div>\\n\\n</div>\\n<div class=\"attachment\">\\n</div>\\n\\n\\n    <div class=\"actions\">\\n        \\n        <span class=\"created_at\" title=\"2019-12-14 10:18:01\">\\n            2019年12月14日<span class=\"ghost\">，来自 <a href=\"https://www.douban.com/interest/1/1/\">热门精选</a></span>\\n        </span>\\n    </div>\\n  </div>\\n</div>\\n</div>\\n\\n\\n\\n\\n    \\n    \\n\\n</div>\\n<!-- 2726525573, note.html, -->\\n\\n\\n\\n\\n      \\n    \\n      \\n      \\n\\n\\n\\n\\n\\n\\n    \\n  \\n    <div class=\"new-status status-wrapper    \" data-sid=\"2696684598\" data-uid=\"900117594\" >\\n\\n    \\n      \\n\\n\\n\\n\\n\\n\\n<div class=\"status-item\"\\n    data-sid=\"2696684598\"\\n    data-uid=\"47929578\"\\n    data-action=\"\"\\n    data-target-type=\"editor\"\\n    data-object-kind=\"1015\"\\n    data-object-id=\"741691424\">\\n<div class=\"mod\" data-status-id=\"2696684598\">\\n  \\n  <div\\n    class=\"hd \"\\n    data-status-url=\"https://www.douban.com/people/47929578/status/2696684598/\">\\n    \\n\\n  <div class=\"usr-pic\">\\n    <a href=\"https://www.douban.com/people/47929578/\" \\n  \\n  onclick=\"moreurl(this, {&#34;action&#34;: &#34;&#34;, &#34;from&#34;: &#34;nmbp-2696684598&#34;, &#34;target_type&#34;: &#34;editor&#34;, &#34;object_kind&#34;: &#34;1015&#34;})\"\\n title=\"安提戈涅\"><img src=\"https://img9.doubanio.com/icon/u47929578-16.jpg\" alt=\"安提戈涅\"/></a>\\n  </div>\\n  <div class=\"text\">\\n    <a href=\"https://www.douban.com/people/47929578/\" \\n  \\n  onclick=\"moreurl(this, {&#34;action&#34;: &#34;&#34;, &#34;from&#34;: &#34;nmbp-2696684598&#34;, &#34;target_type&#34;: &#34;editor&#34;, &#34;object_kind&#34;: &#34;1015&#34;})\"\\n class=\"lnk-people\">安提戈涅</a>\\n    \\n    \\n\\n\\n  </div>\\n\\n  </div>\\n\\n  <div class=\"bd editor\">\\n    \\n\\n<div class=\"block note-block\" data-url=\"https://www.douban.com/note/741691424/\">\\n  <div class=\"pic\">\\n    <div class=\"pic-wrap\">\\n        <a href=\"https://www.douban.com/note/741691424/\" \\n  \\n  onclick=\"moreurl(this, {&#34;action&#34;: &#34;&#34;, &#34;from&#34;: &#34;nmb-2696684598&#34;, &#34;target_type&#34;: &#34;editor&#34;, &#34;object_kind&#34;: &#34;1015&#34;})\"\\n target=\"_blank\"><img src=\"https://img9.doubanio.com/view/note/large/public/p67315106.jpg\"></a>\\n        <span class=\"valign\"></span>\\n    </div>\\n  </div>\\n\\n  <div class=\"content\">\\n    <div class=\"title\">\\n      <a href=\"https://www.douban.com/note/741691424/\" \\n  \\n  onclick=\"moreurl(this, {&#34;action&#34;: &#34;&#34;, &#34;from&#34;: &#34;nmb-2696684598&#34;, &#34;target_type&#34;: &#34;editor&#34;, &#34;object_kind&#34;: &#34;1015&#34;})\"\\n>《浮士德》中的植物学诗学</a>\\n    </div>\\n    <p>每年读一遍《浮士德》，每年就多走近歌德一些，从他巨大的矿藏里敲下一小块，自己收拢珍藏起来。今年重读，发现了《浮士德》中歌德对有机世界的狂热。在植物学天地中，他再一次表达着生命不...</p>\\n  </div>\\n\\n</div>\\n<div class=\"attachment\">\\n</div>\\n\\n\\n    <div class=\"actions\">\\n        \\n        <span class=\"created_at\" title=\"2019-11-15 19:42:04\">\\n            2019年11月15日<span class=\"ghost\">，来自 <a href=\"https://www.douban.com/interest/1/1/\">热门精选</a></span>\\n        </span>\\n    </div>\\n  </div>\\n</div>\\n</div>\\n\\n\\n\\n\\n    \\n    \\n\\n</div>\\n<!-- 2696684598, note.html, -->\\n\\n\\n\\n\\n      \\n    \\n      \\n      \\n\\n\\n\\n\\n\\n\\n    \\n  \\n    <div class=\"new-status status-wrapper    \" data-sid=\"2675363447\" data-uid=\"900117594\" >\\n\\n    \\n      \\n\\n\\n\\n\\n\\n\\n<div class=\"status-item\"\\n    data-sid=\"2675363447\"\\n    data-uid=\"63926352\"\\n    data-action=\"\"\\n    data-target-type=\"editor\"\\n    data-object-kind=\"1015\"\\n    data-object-id=\"739111474\">\\n<div class=\"mod\" data-status-id=\"2675363447\">\\n  \\n  <div\\n    class=\"hd \"\\n    data-status-url=\"https://www.douban.com/people/63926352/status/2675363447/\">\\n    \\n\\n  <div class=\"usr-pic\">\\n    <a href=\"https://www.douban.com/people/63926352/\" \\n  \\n  onclick=\"moreurl(this, {&#34;action&#34;: &#34;&#34;, &#34;from&#34;: &#34;nmbp-2675363447&#34;, &#34;target_type&#34;: &#34;editor&#34;, &#34;object_kind&#34;: &#34;1015&#34;})\"\\n title=\"女奥特迈\"><img src=\"https://img3.doubanio.com/icon/u63926352-13.jpg\" alt=\"女奥特迈\"/></a>\\n  </div>\\n  <div class=\"text\">\\n    <a href=\"https://www.douban.com/people/63926352/\" \\n  \\n  onclick=\"moreurl(this, {&#34;action&#34;: &#34;&#34;, &#34;from&#34;: &#34;nmbp-2675363447&#34;, &#34;target_type&#34;: &#34;editor&#34;, &#34;object_kind&#34;: &#34;1015&#34;})\"\\n class=\"lnk-people\">女奥特迈</a>\\n    \\n    \\n\\n\\n  </div>\\n\\n  </div>\\n\\n  <div class=\"bd editor\">\\n    \\n\\n<div class=\"block note-block\" data-url=\"https://www.douban.com/note/739111474/\">\\n\\n  <div class=\"content\">\\n    <div class=\"title\">\\n      <a href=\"https://www.douban.com/note/739111474/\" \\n  \\n  onclick=\"moreurl(this, {&#34;action&#34;: &#34;&#34;, &#34;from&#34;: &#34;nmb-2675363447&#34;, &#34;target_type&#34;: &#34;editor&#34;, &#34;object_kind&#34;: &#34;1015&#34;})\"\\n>2019年10月22日 我在环卫的第812天 “我的梦想”背后的故事</a>\\n    </div>\\n    <p>上一次写是2018年9月12日，是我在环卫的第416天。一眨眼，又400天过去了。 其实我一直有感悟的，多的时候每天都会有感悟，只是很多时候因为懒，没有把它记录下来。日子总是过得又快又慢，根...</p>\\n  </div>\\n\\n</div>\\n<div class=\"attachment\">\\n</div>\\n\\n\\n    <div class=\"actions\">\\n        \\n        <span class=\"created_at\" title=\"2019-10-25 18:16:04\">\\n            2019年10月25日<span class=\"ghost\">，来自 <a href=\"https://www.douban.com/interest/1/1/\">热门精选</a></span>\\n        </span>\\n    </div>\\n  </div>\\n</div>\\n</div>\\n\\n\\n\\n\\n    \\n    \\n\\n</div>\\n<!-- 2675363447, note.html, -->\\n\\n\\n\\n\\n      \\n    \\n      \\n      \\n\\n\\n\\n\\n\\n\\n    \\n  \\n    <div class=\"new-status status-wrapper    \" data-sid=\"2637148195\" data-uid=\"900117594\" >\\n\\n    \\n      \\n\\n\\n\\n\\n\\n\\n<div class=\"status-item\"\\n    data-sid=\"2637148195\"\\n    data-uid=\"3216848\"\\n    data-action=\"\"\\n    data-target-type=\"editor\"\\n    data-object-kind=\"1015\"\\n    data-object-id=\"734132096\">\\n<div class=\"mod\" data-status-id=\"2637148195\">\\n  \\n  <div\\n    class=\"hd \"\\n    data-status-url=\"https://www.douban.com/people/3216848/status/2637148195/\">\\n    \\n\\n  <div class=\"usr-pic\">\\n    <a href=\"https://www.douban.com/people/3216848/\" \\n  \\n  onclick=\"moreurl(this, {&#34;action&#34;: &#34;&#34;, &#34;from&#34;: &#34;nmbp-2637148195&#34;, &#34;target_type&#34;: &#34;editor&#34;, &#34;object_kind&#34;: &#34;1015&#34;})\"\\n title=\"肘子zi非子zǐ\"><img src=\"https://img3.doubanio.com/icon/u3216848-32.jpg\" alt=\"肘子zi非子zǐ\"/></a>\\n  </div>\\n  <div class=\"text\">\\n    <a href=\"https://www.douban.com/people/3216848/\" \\n  \\n  onclick=\"moreurl(this, {&#34;action&#34;: &#34;&#34;, &#34;from&#34;: &#34;nmbp-2637148195&#34;, &#34;target_type&#34;: &#34;editor&#34;, &#34;object_kind&#34;: &#34;1015&#34;})\"\\n class=\"lnk-people\">肘子zi非子zǐ</a>\\n    \\n    \\n\\n\\n  </div>\\n\\n  </div>\\n\\n  <div class=\"bd editor\">\\n    \\n\\n<div class=\"block note-block\" data-url=\"https://www.douban.com/note/734132096/\">\\n  <div class=\"pic\">\\n    <div class=\"pic-wrap\">\\n        <a href=\"https://www.douban.com/note/734132096/\" \\n  \\n  onclick=\"moreurl(this, {&#34;action&#34;: &#34;&#34;, &#34;from&#34;: &#34;nmb-2637148195&#34;, &#34;target_type&#34;: &#34;editor&#34;, &#34;object_kind&#34;: &#34;1015&#34;})\"\\n target=\"_blank\"><img src=\"https://img9.doubanio.com/view/note/large/public/p65400114.jpg\"></a>\\n        <span class=\"valign\"></span>\\n    </div>\\n  </div>\\n\\n  <div class=\"content\">\\n    <div class=\"title\">\\n      <a href=\"https://www.douban.com/note/734132096/\" \\n  \\n  onclick=\"moreurl(this, {&#34;action&#34;: &#34;&#34;, &#34;from&#34;: &#34;nmb-2637148195&#34;, &#34;target_type&#34;: &#34;editor&#34;, &#34;object_kind&#34;: &#34;1015&#34;})\"\\n>舅舅</a>\\n    </div>\\n    <p>8月25号中午，一通电话告知：舅舅独居的一楼小间敲门无人应，邻居已经几天没见他进出，从中传出的腐臭味一天比一天浓重。居委通知警察，警察联系我爸如是说。 我爸立刻把情况简单地告诉我，...</p>\\n  </div>\\n\\n    <p class=\"icon-topic topic-note\"><a href=\"https://www.douban.com/gallery/topic/98946/\" target=\"_blank\">我认识的独居老人</a></p>\\n</div>\\n<div class=\"attachment\">\\n</div>\\n\\n\\n    <div class=\"actions\">\\n        \\n        <span class=\"created_at\" title=\"2019-09-20 16:42:09\">\\n            2019年9月20日<span class=\"ghost\">，来自 <a href=\"https://www.douban.com/interest/1/1/\">热门精选</a></span>\\n        </span>\\n    </div>\\n  </div>\\n</div>\\n</div>\\n\\n\\n\\n\\n    \\n    \\n\\n</div>\\n<!-- 2637148195, note.html, -->\\n\\n\\n\\n\\n      \\n    \\n      \\n      \\n\\n\\n\\n\\n\\n\\n    \\n  \\n    <div class=\"new-status status-wrapper    \" data-sid=\"2620850215\" data-uid=\"900117594\" >\\n\\n    \\n      \\n\\n\\n\\n\\n\\n\\n<div class=\"status-item\"\\n    data-sid=\"2620850215\"\\n    data-uid=\"3706832\"\\n    data-action=\"\"\\n    data-target-type=\"editor\"\\n    data-object-kind=\"1015\"\\n    data-object-id=\"732604989\">\\n<div class=\"mod\" data-status-id=\"2620850215\">\\n  \\n  <div\\n    class=\"hd \"\\n    data-status-url=\"https://www.douban.com/people/cityupeople/status/2620850215/\">\\n    \\n\\n  <div class=\"usr-pic\">\\n    <a href=\"https://www.douban.com/people/cityupeople/\" \\n  \\n  onclick=\"moreurl(this, {&#34;action&#34;: &#34;&#34;, &#34;from&#34;: &#34;nmbp-2620850215&#34;, &#34;target_type&#34;: &#34;editor&#34;, &#34;object_kind&#34;: &#34;1015&#34;})\"\\n title=\"拾贝岛民\"><img src=\"https://img3.doubanio.com/icon/u3706832-3.jpg\" alt=\"拾贝岛民\"/></a>\\n  </div>\\n  <div class=\"text\">\\n    <a href=\"https://www.douban.com/people/cityupeople/\" \\n  \\n  onclick=\"moreurl(this, {&#34;action&#34;: &#34;&#34;, &#34;from&#34;: &#34;nmbp-2620850215&#34;, &#34;target_type&#34;: &#34;editor&#34;, &#34;object_kind&#34;: &#34;1015&#34;})\"\\n class=\"lnk-people\">拾贝岛民</a>\\n    \\n    \\n\\n\\n  </div>\\n\\n  </div>\\n\\n  <div class=\"bd editor\">\\n    \\n\\n<div class=\"block note-block\" data-url=\"https://www.douban.com/note/732604989/\">\\n  <div class=\"pic\">\\n    <div class=\"pic-wrap\">\\n        <a href=\"https://www.douban.com/note/732604989/\" \\n  \\n  onclick=\"moreurl(this, {&#34;action&#34;: &#34;&#34;, &#34;from&#34;: &#34;nmb-2620850215&#34;, &#34;target_type&#34;: &#34;editor&#34;, &#34;object_kind&#34;: &#34;1015&#34;})\"\\n target=\"_blank\"><img src=\"https://img9.doubanio.com/view/note/large/public/p64761324.jpg\"></a>\\n        <span class=\"valign\"></span>\\n    </div>\\n  </div>\\n\\n  <div class=\"content\">\\n    <div class=\"title\">\\n      <a href=\"https://www.douban.com/note/732604989/\" \\n  \\n  onclick=\"moreurl(this, {&#34;action&#34;: &#34;&#34;, &#34;from&#34;: &#34;nmb-2620850215&#34;, &#34;target_type&#34;: &#34;editor&#34;, &#34;object_kind&#34;: &#34;1015&#34;})\"\\n>上海西区 Western quarter of Shanghai</a>\\n    </div>\\n    <p>大学同学群里传来消息，某同学荣归主怀，我心中一震，这位同学当年是班里漂亮可爱的女生，她长的皮肤细腻、白里透红、明眸皓齿。但近年听说已经不能认人和自理，她的安息，对亲友也许是种释...</p>\\n  </div>\\n\\n</div>\\n<div class=\"attachment\">\\n</div>\\n\\n\\n    <div class=\"actions\">\\n        \\n        <span class=\"created_at\" title=\"2019-09-05 11:20:09\">\\n            2019年9月5日<span class=\"ghost\">，来自 <a href=\"https://www.douban.com/interest/1/1/\">热门精选</a></span>\\n        </span>\\n    </div>\\n  </div>\\n</div>\\n</div>\\n\\n\\n\\n\\n    \\n    \\n\\n    <script class=\"verify_user_avatar\" id=\"3706832\" type=\"text/template\">\\n      \\n\\n  <style>\\n    .verify-avatar{background-repeat:no-repeat;background-position:right bottom, 0 center;background-size:21px,48px;width:52px;height:56px}.usr-pic .verify-avatar{margin-top:-4px}.simple .verify-avatar{background-size:12px,24px;width:26px;height:28px}\\n\\n  </style>\\n    <a href=\"https://www.douban.com/people/cityupeople/\" target=\"_blank\" title=\"拾贝岛民\">\\n      <div class=\"verify-avatar\" title=\"拾贝岛民\"\\n        style=\"background-image: url(https://img3.doubanio.com/f/shire/8cff6c7f0bfa5a9dbe604b51f4de62f655c233ce/pics/ic_verify@2x.png), url(https://img3.doubanio.com/icon/u3706832-3.jpg)\">\\n      </div>\\n    </a>\\n\\n    </script>\\n</div>\\n<!-- 2620850215, note.html, -->\\n\\n\\n\\n\\n      \\n    \\n      \\n      \\n\\n\\n\\n\\n\\n\\n    \\n  \\n    <div class=\"new-status status-wrapper    \" data-sid=\"2620435648\" data-uid=\"900117594\" >\\n\\n    \\n      \\n\\n\\n\\n\\n\\n\\n<div class=\"status-item\"\\n    data-sid=\"2620435648\"\\n    data-uid=\"3183117\"\\n    data-action=\"\"\\n    data-target-type=\"editor\"\\n    data-object-kind=\"1015\"\\n    data-object-id=\"732498488\">\\n<div class=\"mod\" data-status-id=\"2620435648\">\\n  \\n  <div\\n    class=\"hd \"\\n    data-status-url=\"https://www.douban.com/people/K.thinking/status/2620435648/\">\\n    \\n\\n  <div class=\"usr-pic\">\\n    <a href=\"https://www.douban.com/people/K.thinking/\" \\n  \\n  onclick=\"moreurl(this, {&#34;action&#34;: &#34;&#34;, &#34;from&#34;: &#34;nmbp-2620435648&#34;, &#34;target_type&#34;: &#34;editor&#34;, &#34;object_kind&#34;: &#34;1015&#34;})\"\\n title=\"，\"><img src=\"https://img3.doubanio.com/icon/u3183117-2.jpg\" alt=\"，\"/></a>\\n  </div>\\n  <div class=\"text\">\\n    <a href=\"https://www.douban.com/people/K.thinking/\" \\n  \\n  onclick=\"moreurl(this, {&#34;action&#34;: &#34;&#34;, &#34;from&#34;: &#34;nmbp-2620435648&#34;, &#34;target_type&#34;: &#34;editor&#34;, &#34;object_kind&#34;: &#34;1015&#34;})\"\\n class=\"lnk-people\">，</a>\\n    \\n    \\n\\n\\n  </div>\\n\\n  </div>\\n\\n  <div class=\"bd editor\">\\n    \\n\\n<div class=\"block note-block\" data-url=\"https://www.douban.com/note/732498488/\">\\n  <div class=\"pic\">\\n    <div class=\"pic-wrap\">\\n        <a href=\"https://www.douban.com/note/732498488/\" \\n  \\n  onclick=\"moreurl(this, {&#34;action&#34;: &#34;&#34;, &#34;from&#34;: &#34;nmb-2620435648&#34;, &#34;target_type&#34;: &#34;editor&#34;, &#34;object_kind&#34;: &#34;1015&#34;})\"\\n target=\"_blank\"><img src=\"https://img1.doubanio.com/view/note/large/public/p64734619.jpg\"></a>\\n        <span class=\"valign\"></span>\\n    </div>\\n  </div>\\n\\n  <div class=\"content\">\\n    <div class=\"title\">\\n      <a href=\"https://www.douban.com/note/732498488/\" \\n  \\n  onclick=\"moreurl(this, {&#34;action&#34;: &#34;&#34;, &#34;from&#34;: &#34;nmb-2620435648&#34;, &#34;target_type&#34;: &#34;editor&#34;, &#34;object_kind&#34;: &#34;1015&#34;})\"\\n>72小时，我在长沙吃了什么？</a>\\n    </div>\\n    <p>两个四川人，怎么甘心在长沙只吃纯辣啊！ -为什么想出去玩这么久，最后选择了去长沙？ -因为妹妹去年7月到北京开会，给我带了一份蒜蓉小龙虾，那个味道突然在夏天到来的时候，从我的记记忆里...</p>\\n  </div>\\n\\n    <p class=\"icon-topic topic-note\"><a href=\"https://www.douban.com/gallery/topic/76363/\" target=\"_blank\">念念不忘的地方美食</a></p>\\n</div>\\n<div class=\"attachment\">\\n</div>\\n\\n\\n    <div class=\"actions\">\\n        \\n        <span class=\"created_at\" title=\"2019-09-04 22:44:08\">\\n            2019年9月4日<span class=\"ghost\">，来自 <a href=\"https://www.douban.com/interest/1/1/\">热门精选</a></span>\\n        </span>\\n    </div>\\n  </div>\\n</div>\\n</div>\\n\\n\\n\\n\\n    \\n    \\n\\n</div>\\n<!-- 2620435648, note.html, -->\\n\\n\\n\\n\\n      \\n    \\n      \\n      \\n\\n\\n\\n\\n\\n\\n    \\n  \\n    <div class=\"new-status status-wrapper    \" data-sid=\"2617022918\" data-uid=\"900117594\" >\\n\\n    \\n      \\n\\n\\n\\n\\n\\n\\n<div class=\"status-item\"\\n    data-sid=\"2617022918\"\\n    data-uid=\"1580621\"\\n    data-action=\"\"\\n    data-target-type=\"editor\"\\n    data-object-kind=\"1015\"\\n    data-object-id=\"732308276\">\\n<div class=\"mod\" data-status-id=\"2617022918\">\\n  \\n  <div\\n    class=\"hd \"\\n    data-status-url=\"https://www.douban.com/people/cutwater/status/2617022918/\">\\n    \\n\\n  <div class=\"usr-pic\">\\n    <a href=\"https://www.douban.com/people/cutwater/\" \\n  \\n  onclick=\"moreurl(this, {&#34;action&#34;: &#34;&#34;, &#34;from&#34;: &#34;nmbp-2617022918&#34;, &#34;target_type&#34;: &#34;editor&#34;, &#34;object_kind&#34;: &#34;1015&#34;})\"\\n title=\"躺倒\"><img src=\"https://img3.doubanio.com/icon/u1580621-3.jpg\" alt=\"躺倒\"/></a>\\n  </div>\\n  <div class=\"text\">\\n    <a href=\"https://www.douban.com/people/cutwater/\" \\n  \\n  onclick=\"moreurl(this, {&#34;action&#34;: &#34;&#34;, &#34;from&#34;: &#34;nmbp-2617022918&#34;, &#34;target_type&#34;: &#34;editor&#34;, &#34;object_kind&#34;: &#34;1015&#34;})\"\\n class=\"lnk-people\">躺倒</a>\\n    \\n    \\n\\n\\n  </div>\\n\\n  </div>\\n\\n  <div class=\"bd editor\">\\n    \\n\\n<div class=\"block note-block\" data-url=\"https://www.douban.com/note/732308276/\">\\n  <div class=\"pic\">\\n    <div class=\"pic-wrap\">\\n        <a href=\"https://www.douban.com/note/732308276/\" \\n  \\n  onclick=\"moreurl(this, {&#34;action&#34;: &#34;&#34;, &#34;from&#34;: &#34;nmb-2617022918&#34;, &#34;target_type&#34;: &#34;editor&#34;, &#34;object_kind&#34;: &#34;1015&#34;})\"\\n target=\"_blank\"><img src=\"https://img3.doubanio.com/view/note/large/public/p64685922.jpg\"></a>\\n        <span class=\"valign\"></span>\\n    </div>\\n  </div>\\n\\n  <div class=\"content\">\\n    <div class=\"title\">\\n      <a href=\"https://www.douban.com/note/732308276/\" \\n  \\n  onclick=\"moreurl(this, {&#34;action&#34;: &#34;&#34;, &#34;from&#34;: &#34;nmb-2617022918&#34;, &#34;target_type&#34;: &#34;editor&#34;, &#34;object_kind&#34;: &#34;1015&#34;})\"\\n>徒步在“犀牛的领地”</a>\\n    </div>\\n    <p>喜欢野观野生动物，非洲一定要去，明星五霸——“大象、犀牛、狮子、野水牛和豹”声名在外。但是，其实我们亚洲是世界上另一处有“大象+犀牛+大猫”组合的地方。 世界上现存三种象，两种在非...</p>\\n  </div>\\n\\n</div>\\n<div class=\"attachment\">\\n</div>\\n\\n\\n    <div class=\"actions\">\\n        \\n        <span class=\"created_at\" title=\"2019-09-01 18:02:03\">\\n            2019年9月1日<span class=\"ghost\">，来自 <a href=\"https://www.douban.com/interest/1/1/\">热门精选</a></span>\\n        </span>\\n    </div>\\n  </div>\\n</div>\\n</div>\\n\\n\\n\\n\\n    \\n    \\n\\n</div>\\n<!-- 2617022918, note.html, -->\\n\\n\\n\\n\\n      \\n    \\n      \\n      \\n\\n\\n\\n\\n\\n\\n    \\n  \\n    <div class=\"new-status status-wrapper    \" data-sid=\"2616953824\" data-uid=\"900117594\" >\\n\\n    \\n      \\n\\n\\n\\n\\n\\n\\n<div class=\"status-item\"\\n    data-sid=\"2616953824\"\\n    data-uid=\"174122455\"\\n    data-action=\"\"\\n    data-target-type=\"editor\"\\n    data-object-kind=\"1015\"\\n    data-object-id=\"732328728\">\\n<div class=\"mod\" data-status-id=\"2616953824\">\\n  \\n  <div\\n    class=\"hd \"\\n    data-status-url=\"https://www.douban.com/people/174122455/status/2616953824/\">\\n    \\n\\n  <div class=\"usr-pic\">\\n    <a href=\"https://www.douban.com/people/174122455/\" \\n  \\n  onclick=\"moreurl(this, {&#34;action&#34;: &#34;&#34;, &#34;from&#34;: &#34;nmbp-2616953824&#34;, &#34;target_type&#34;: &#34;editor&#34;, &#34;object_kind&#34;: &#34;1015&#34;})\"\\n title=\"麦克黄\"><img src=\"https://img3.doubanio.com/icon/u174122455-2.jpg\" alt=\"麦克黄\"/></a>\\n  </div>\\n  <div class=\"text\">\\n    <a href=\"https://www.douban.com/people/174122455/\" \\n  \\n  onclick=\"moreurl(this, {&#34;action&#34;: &#34;&#34;, &#34;from&#34;: &#34;nmbp-2616953824&#34;, &#34;target_type&#34;: &#34;editor&#34;, &#34;object_kind&#34;: &#34;1015&#34;})\"\\n class=\"lnk-people\">麦克黄</a>\\n    \\n    \\n\\n\\n  </div>\\n\\n  </div>\\n\\n  <div class=\"bd editor\">\\n    \\n\\n<div class=\"block note-block\" data-url=\"https://www.douban.com/note/732328728/\">\\n\\n  <div class=\"content\">\\n    <div class=\"title\">\\n      <a href=\"https://www.douban.com/note/732328728/\" \\n  \\n  onclick=\"moreurl(this, {&#34;action&#34;: &#34;&#34;, &#34;from&#34;: &#34;nmb-2616953824&#34;, &#34;target_type&#34;: &#34;editor&#34;, &#34;object_kind&#34;: &#34;1015&#34;})\"\\n>小友</a>\\n    </div>\\n    <p>给小朋友看嗓子是一件有难度的工作，常见话术有三种，1.“来，张嘴，给阿姨看你的牙牙白不白”；2.“张大，啊——看看你嘴里有没有虫虫”；3.举着压舌板心虚地说，“来，吃棒棒糖啦”。不管...</p>\\n  </div>\\n\\n</div>\\n<div class=\"attachment\">\\n</div>\\n\\n\\n    <div class=\"actions\">\\n        \\n        <span class=\"created_at\" title=\"2019-09-01 16:54:04\">\\n            2019年9月1日<span class=\"ghost\">，来自 <a href=\"https://www.douban.com/interest/1/1/\">热门精选</a></span>\\n        </span>\\n    </div>\\n  </div>\\n</div>\\n</div>\\n\\n\\n\\n\\n    \\n    \\n\\n</div>\\n<!-- 2616953824, note.html, -->\\n\\n\\n\\n\\n      \\n    \\n      \\n      \\n\\n\\n\\n\\n\\n\\n    \\n  \\n    <div class=\"new-status status-wrapper    \" data-sid=\"2612446102\" data-uid=\"900117594\" >\\n\\n    \\n      \\n\\n\\n\\n\\n\\n\\n<div class=\"status-item\"\\n    data-sid=\"2612446102\"\\n    data-uid=\"5498220\"\\n    data-action=\"\"\\n    data-target-type=\"editor\"\\n    data-object-kind=\"1015\"\\n    data-object-id=\"729845875\">\\n<div class=\"mod\" data-status-id=\"2612446102\">\\n  \\n  <div\\n    class=\"hd \"\\n    data-status-url=\"https://www.douban.com/people/csp/status/2612446102/\">\\n    \\n\\n  <div class=\"usr-pic\">\\n    <a href=\"https://www.douban.com/people/csp/\" \\n  \\n  onclick=\"moreurl(this, {&#34;action&#34;: &#34;&#34;, &#34;from&#34;: &#34;nmbp-2612446102&#34;, &#34;target_type&#34;: &#34;editor&#34;, &#34;object_kind&#34;: &#34;1015&#34;})\"\\n title=\"握不住的灵魂\"><img src=\"https://img3.doubanio.com/icon/u5498220-70.jpg\" alt=\"握不住的灵魂\"/></a>\\n  </div>\\n  <div class=\"text\">\\n    <a href=\"https://www.douban.com/people/csp/\" \\n  \\n  onclick=\"moreurl(this, {&#34;action&#34;: &#34;&#34;, &#34;from&#34;: &#34;nmbp-2612446102&#34;, &#34;target_type&#34;: &#34;editor&#34;, &#34;object_kind&#34;: &#34;1015&#34;})\"\\n class=\"lnk-people\">握不住的灵魂</a>\\n    \\n    \\n\\n\\n  </div>\\n\\n  </div>\\n\\n  <div class=\"bd editor\">\\n    \\n\\n<div class=\"block note-block\" data-url=\"https://www.douban.com/note/729845875/\">\\n  <div class=\"pic\">\\n    <div class=\"pic-wrap\">\\n        <a href=\"https://www.douban.com/note/729845875/\" \\n  \\n  onclick=\"moreurl(this, {&#34;action&#34;: &#34;&#34;, &#34;from&#34;: &#34;nmb-2612446102&#34;, &#34;target_type&#34;: &#34;editor&#34;, &#34;object_kind&#34;: &#34;1015&#34;})\"\\n target=\"_blank\"><img src=\"https://img9.doubanio.com/view/note/large/public/p64025595.jpg\"></a>\\n        <span class=\"valign\"></span>\\n    </div>\\n  </div>\\n\\n  <div class=\"content\">\\n    <div class=\"title\">\\n      <a href=\"https://www.douban.com/note/729845875/\" \\n  \\n  onclick=\"moreurl(this, {&#34;action&#34;: &#34;&#34;, &#34;from&#34;: &#34;nmb-2612446102&#34;, &#34;target_type&#34;: &#34;editor&#34;, &#34;object_kind&#34;: &#34;1015&#34;})\"\\n>石头、气味与阶级之门,《寄生虫》的17个细节</a>\\n    </div>\\n    <p>当人群之中出现差异，并且这样的差异已经导致部分人拥有凌驾其他人的地位、权力、特权时，这就称为社会阶层。社会借此而将人们分类成有高下之别的阶层或等级。#wikipedia 1.爬行式运动 影片...</p>\\n  </div>\\n\\n</div>\\n<div class=\"attachment\">\\n</div>\\n\\n\\n    <div class=\"actions\">\\n        \\n        <span class=\"created_at\" title=\"2019-08-28 19:28:01\">\\n            2019年8月28日<span class=\"ghost\">，来自 <a href=\"https://www.douban.com/interest/1/1/\">热门精选</a></span>\\n        </span>\\n    </div>\\n  </div>\\n</div>\\n</div>\\n\\n\\n\\n\\n    \\n    \\n\\n</div>\\n<!-- 2612446102, note.html, -->\\n\\n\\n\\n\\n      \\n    \\n      \\n      \\n\\n\\n\\n\\n\\n\\n    \\n  \\n    <div class=\"new-status status-wrapper    \" data-sid=\"2609397893\" data-uid=\"900117594\" >\\n\\n    \\n      \\n\\n\\n\\n\\n\\n\\n<div class=\"status-item\"\\n    data-sid=\"2609397893\"\\n    data-uid=\"48613423\"\\n    data-action=\"\"\\n    data-target-type=\"editor\"\\n    data-object-kind=\"1015\"\\n    data-object-id=\"730091332\">\\n<div class=\"mod\" data-status-id=\"2609397893\">\\n  \\n  <div\\n    class=\"hd \"\\n    data-status-url=\"https://www.douban.com/people/48613423/status/2609397893/\">\\n    \\n\\n  <div class=\"usr-pic\">\\n    <a href=\"https://www.douban.com/people/48613423/\" \\n  \\n  onclick=\"moreurl(this, {&#34;action&#34;: &#34;&#34;, &#34;from&#34;: &#34;nmbp-2609397893&#34;, &#34;target_type&#34;: &#34;editor&#34;, &#34;object_kind&#34;: &#34;1015&#34;})\"\\n title=\"小毒牙\"><img src=\"https://img9.doubanio.com/icon/u48613423-4.jpg\" alt=\"小毒牙\"/></a>\\n  </div>\\n  <div class=\"text\">\\n    <a href=\"https://www.douban.com/people/48613423/\" \\n  \\n  onclick=\"moreurl(this, {&#34;action&#34;: &#34;&#34;, &#34;from&#34;: &#34;nmbp-2609397893&#34;, &#34;target_type&#34;: &#34;editor&#34;, &#34;object_kind&#34;: &#34;1015&#34;})\"\\n class=\"lnk-people\">小毒牙</a>\\n    \\n    \\n\\n\\n  </div>\\n\\n  </div>\\n\\n  <div class=\"bd editor\">\\n    \\n\\n<div class=\"block note-block\" data-url=\"https://www.douban.com/note/730091332/\">\\n  <div class=\"pic\">\\n    <div class=\"pic-wrap\">\\n        <a href=\"https://www.douban.com/note/730091332/\" \\n  \\n  onclick=\"moreurl(this, {&#34;action&#34;: &#34;&#34;, &#34;from&#34;: &#34;nmb-2609397893&#34;, &#34;target_type&#34;: &#34;editor&#34;, &#34;object_kind&#34;: &#34;1015&#34;})\"\\n target=\"_blank\"><img src=\"https://img9.doubanio.com/view/note/large/public/p64100126.jpg\"></a>\\n        <span class=\"valign\"></span>\\n    </div>\\n  </div>\\n\\n  <div class=\"content\">\\n    <div class=\"title\">\\n      <a href=\"https://www.douban.com/note/730091332/\" \\n  \\n  onclick=\"moreurl(this, {&#34;action&#34;: &#34;&#34;, &#34;from&#34;: &#34;nmb-2609397893&#34;, &#34;target_type&#34;: &#34;editor&#34;, &#34;object_kind&#34;: &#34;1015&#34;})\"\\n>运城访古记</a>\\n    </div>\\n    <p>运城在山西的最南部，晋秦豫三省交界处。 目前上海到运城只有一班高铁，将近11个小时；而上海到河南省三门峡市却有更多高铁班次，仅6个多小时，再从三门峡打车到运城市中心的酒店只要1个半小...</p>\\n  </div>\\n\\n    <p class=\"icon-topic topic-note\"><a href=\"https://www.douban.com/gallery/topic/636/\" target=\"_blank\">遇见老建筑</a></p>\\n</div>\\n<div class=\"attachment\">\\n</div>\\n\\n\\n    <div class=\"actions\">\\n        \\n        <span class=\"created_at\" title=\"2019-08-26 08:06:03\">\\n            2019年8月26日<span class=\"ghost\">，来自 <a href=\"https://www.douban.com/interest/1/1/\">热门精选</a></span>\\n        </span>\\n    </div>\\n  </div>\\n</div>\\n</div>\\n\\n\\n\\n\\n    \\n    \\n\\n</div>\\n<!-- 2609397893, note.html, -->\\n\\n\\n\\n\\n      \\n    \\n      \\n      \\n\\n\\n\\n\\n\\n\\n    \\n  \\n    <div class=\"new-status status-wrapper    \" data-sid=\"2580259408\" data-uid=\"900117594\" >\\n\\n    \\n      \\n\\n\\n\\n\\n\\n\\n<div class=\"status-item\"\\n    data-sid=\"2580259408\"\\n    data-uid=\"1233038\"\\n    data-action=\"\"\\n    data-target-type=\"editor\"\\n    data-object-kind=\"1015\"\\n    data-object-id=\"728407385\">\\n<div class=\"mod\" data-status-id=\"2580259408\">\\n  \\n  <div\\n    class=\"hd \"\\n    data-status-url=\"https://www.douban.com/people/1233038/status/2580259408/\">\\n    \\n\\n  <div class=\"usr-pic\">\\n    <a href=\"https://www.douban.com/people/1233038/\" \\n  \\n  onclick=\"moreurl(this, {&#34;action&#34;: &#34;&#34;, &#34;from&#34;: &#34;nmbp-2580259408&#34;, &#34;target_type&#34;: &#34;editor&#34;, &#34;object_kind&#34;: &#34;1015&#34;})\"\\n title=\"frozenmoon\"><img src=\"https://img3.doubanio.com/icon/u1233038-2.jpg\" alt=\"frozenmoon\"/></a>\\n  </div>\\n  <div class=\"text\">\\n    <a href=\"https://www.douban.com/people/1233038/\" \\n  \\n  onclick=\"moreurl(this, {&#34;action&#34;: &#34;&#34;, &#34;from&#34;: &#34;nmbp-2580259408&#34;, &#34;target_type&#34;: &#34;editor&#34;, &#34;object_kind&#34;: &#34;1015&#34;})\"\\n class=\"lnk-people\">frozenmoon</a>\\n    \\n    \\n\\n\\n  </div>\\n\\n  </div>\\n\\n  <div class=\"bd editor\">\\n    \\n\\n<div class=\"block note-block\" data-url=\"https://www.douban.com/note/728407385/\">\\n  <div class=\"pic\">\\n    <div class=\"pic-wrap\">\\n        <a href=\"https://www.douban.com/note/728407385/\" \\n  \\n  onclick=\"moreurl(this, {&#34;action&#34;: &#34;&#34;, &#34;from&#34;: &#34;nmb-2580259408&#34;, &#34;target_type&#34;: &#34;editor&#34;, &#34;object_kind&#34;: &#34;1015&#34;})\"\\n target=\"_blank\"><img src=\"https://img9.doubanio.com/view/note/large/public/p63641035.jpg\"></a>\\n        <span class=\"valign\"></span>\\n    </div>\\n  </div>\\n\\n  <div class=\"content\">\\n    <div class=\"title\">\\n      <a href=\"https://www.douban.com/note/728407385/\" \\n  \\n  onclick=\"moreurl(this, {&#34;action&#34;: &#34;&#34;, &#34;from&#34;: &#34;nmb-2580259408&#34;, &#34;target_type&#34;: &#34;editor&#34;, &#34;object_kind&#34;: &#34;1015&#34;})\"\\n>海清们的真正困境，在于中年人的故事被集体清空</a>\\n    </div>\\n    <p>（文/杨时旸） 演员海清在First青年电影展的闭幕式上叫上了姚晨、宋佳和梁静，一起站在舞台上发出了一次呼吁，她们希望导演和制片人能重视自己这些中生代女演员，希望青年导演们也能够愿意并...</p>\\n  </div>\\n\\n    <p class=\"icon-topic topic-note\"><a href=\"https://www.douban.com/gallery/topic/93831/\" target=\"_blank\">那些反映出中年人真实困境的影视剧</a></p>\\n</div>\\n<div class=\"attachment\">\\n</div>\\n\\n\\n    <div class=\"actions\">\\n        \\n        <span class=\"created_at\" title=\"2019-08-03 17:30:03\">\\n            2019年8月3日<span class=\"ghost\">，来自 <a href=\"https://www.douban.com/interest/1/1/\">热门精选</a></span>\\n        </span>\\n    </div>\\n  </div>\\n</div>\\n</div>\\n\\n\\n\\n\\n    \\n    \\n\\n    <script class=\"verify_user_avatar\" id=\"1233038\" type=\"text/template\">\\n      \\n\\n  <style>\\n    .verify-avatar{background-repeat:no-repeat;background-position:right bottom, 0 center;background-size:21px,48px;width:52px;height:56px}.usr-pic .verify-avatar{margin-top:-4px}.simple .verify-avatar{background-size:12px,24px;width:26px;height:28px}\\n\\n  </style>\\n    <a href=\"https://www.douban.com/people/1233038/\" target=\"_blank\" title=\"frozenmoon\">\\n      <div class=\"verify-avatar\" title=\"frozenmoon\"\\n        style=\"background-image: url(https://img3.doubanio.com/f/shire/8cff6c7f0bfa5a9dbe604b51f4de62f655c233ce/pics/ic_verify@2x.png), url(https://img3.doubanio.com/icon/u1233038-2.jpg)\">\\n      </div>\\n    </a>\\n\\n    </script>\\n</div>\\n<!-- 2580259408, note.html, -->\\n\\n\\n\\n\\n      \\n    \\n      \\n      \\n\\n\\n\\n\\n\\n\\n    \\n  \\n    <div class=\"new-status status-wrapper    \" data-sid=\"2550183515\" data-uid=\"900117594\" >\\n\\n    \\n      \\n\\n\\n\\n\\n\\n\\n<div class=\"status-item\"\\n    data-sid=\"2550183515\"\\n    data-uid=\"2855946\"\\n    data-action=\"\"\\n    data-target-type=\"editor\"\\n    data-object-kind=\"1015\"\\n    data-object-id=\"712322872\">\\n<div class=\"mod\" data-status-id=\"2550183515\">\\n  \\n  <div\\n    class=\"hd \"\\n    data-status-url=\"https://www.douban.com/people/wssynssm/status/2550183515/\">\\n    \\n\\n  <div class=\"usr-pic\">\\n    <a href=\"https://www.douban.com/people/wssynssm/\" \\n  \\n  onclick=\"moreurl(this, {&#34;action&#34;: &#34;&#34;, &#34;from&#34;: &#34;nmbp-2550183515&#34;, &#34;target_type&#34;: &#34;editor&#34;, &#34;object_kind&#34;: &#34;1015&#34;})\"\\n title=\"维生素\"><img src=\"https://img3.doubanio.com/icon/u2855946-121.jpg\" alt=\"维生素\"/></a>\\n  </div>\\n  <div class=\"text\">\\n    <a href=\"https://www.douban.com/people/wssynssm/\" \\n  \\n  onclick=\"moreurl(this, {&#34;action&#34;: &#34;&#34;, &#34;from&#34;: &#34;nmbp-2550183515&#34;, &#34;target_type&#34;: &#34;editor&#34;, &#34;object_kind&#34;: &#34;1015&#34;})\"\\n class=\"lnk-people\">维生素</a>\\n    \\n    \\n\\n\\n  </div>\\n\\n  </div>\\n\\n  <div class=\"bd editor\">\\n    \\n\\n<div class=\"block note-block\" data-url=\"https://www.douban.com/note/712322872/\">\\n  <div class=\"pic\">\\n    <div class=\"pic-wrap\">\\n        <a href=\"https://www.douban.com/note/712322872/\" \\n  \\n  onclick=\"moreurl(this, {&#34;action&#34;: &#34;&#34;, &#34;from&#34;: &#34;nmb-2550183515&#34;, &#34;target_type&#34;: &#34;editor&#34;, &#34;object_kind&#34;: &#34;1015&#34;})\"\\n target=\"_blank\"><img src=\"https://img3.doubanio.com/view/note/large/public/p59413141.jpg\"></a>\\n        <span class=\"valign\"></span>\\n    </div>\\n  </div>\\n\\n  <div class=\"content\">\\n    <div class=\"title\">\\n      <a href=\"https://www.douban.com/note/712322872/\" \\n  \\n  onclick=\"moreurl(this, {&#34;action&#34;: &#34;&#34;, &#34;from&#34;: &#34;nmb-2550183515&#34;, &#34;target_type&#34;: &#34;editor&#34;, &#34;object_kind&#34;: &#34;1015&#34;})\"\\n>奶奶留下来的螺钿木盒</a>\\n    </div>\\n    <p>春节前，有个女生找到我，说她有一个螺钿的盒子需要修补。我拿到一看，上面的金属扣件都没有了，原来这个盒子是她奶奶留下了的，但金属扣件大多坏了，她拿去给一个做金缮的师傅修理，但金缮...</p>\\n  </div>\\n\\n    <p class=\"icon-topic topic-note\"><a href=\"https://www.douban.com/gallery/topic/49360/\" target=\"_blank\">家里的老物件</a></p>\\n</div>\\n<div class=\"attachment\">\\n</div>\\n\\n\\n    <div class=\"actions\">\\n        \\n        <span class=\"created_at\" title=\"2019-07-07 19:32:00\">\\n            2019年7月7日<span class=\"ghost\">，来自 <a href=\"https://www.douban.com/interest/1/1/\">热门精选</a></span>\\n        </span>\\n    </div>\\n  </div>\\n</div>\\n</div>\\n\\n\\n\\n\\n    \\n    \\n\\n</div>\\n<!-- 2550183515, note.html, -->\\n\\n\\n\\n\\n      \\n    \\n      \\n      \\n\\n\\n\\n\\n\\n\\n    \\n  \\n    <div class=\"new-status status-wrapper    \" data-sid=\"2550021779\" data-uid=\"900117594\" >\\n\\n    \\n      \\n\\n\\n\\n\\n\\n\\n<div class=\"status-item\"\\n    data-sid=\"2550021779\"\\n    data-uid=\"79682679\"\\n    data-action=\"\"\\n    data-target-type=\"editor\"\\n    data-object-kind=\"1015\"\\n    data-object-id=\"703611556\">\\n<div class=\"mod\" data-status-id=\"2550021779\">\\n  \\n  <div\\n    class=\"hd \"\\n    data-status-url=\"https://www.douban.com/people/staymiao/status/2550021779/\">\\n    \\n\\n  <div class=\"usr-pic\">\\n    <a href=\"https://www.douban.com/people/staymiao/\" \\n  \\n  onclick=\"moreurl(this, {&#34;action&#34;: &#34;&#34;, &#34;from&#34;: &#34;nmbp-2550021779&#34;, &#34;target_type&#34;: &#34;editor&#34;, &#34;object_kind&#34;: &#34;1015&#34;})\"\\n title=\"喵呜不停\"><img src=\"https://img9.doubanio.com/icon/u79682679-4.jpg\" alt=\"喵呜不停\"/></a>\\n  </div>\\n  <div class=\"text\">\\n    <a href=\"https://www.douban.com/people/staymiao/\" \\n  \\n  onclick=\"moreurl(this, {&#34;action&#34;: &#34;&#34;, &#34;from&#34;: &#34;nmbp-2550021779&#34;, &#34;target_type&#34;: &#34;editor&#34;, &#34;object_kind&#34;: &#34;1015&#34;})\"\\n class=\"lnk-people\">喵呜不停</a>\\n    \\n    \\n\\n\\n  </div>\\n\\n  </div>\\n\\n  <div class=\"bd editor\">\\n    \\n\\n<div class=\"block note-block\" data-url=\"https://www.douban.com/note/703611556/\">\\n  <div class=\"pic\">\\n    <div class=\"pic-wrap\">\\n        <a href=\"https://www.douban.com/note/703611556/\" \\n  \\n  onclick=\"moreurl(this, {&#34;action&#34;: &#34;&#34;, &#34;from&#34;: &#34;nmb-2550021779&#34;, &#34;target_type&#34;: &#34;editor&#34;, &#34;object_kind&#34;: &#34;1015&#34;})\"\\n target=\"_blank\"><img src=\"https://img3.doubanio.com/view/note/large/public/p57358933.jpg\"></a>\\n        <span class=\"valign\"></span>\\n    </div>\\n  </div>\\n\\n  <div class=\"content\">\\n    <div class=\"title\">\\n      <a href=\"https://www.douban.com/note/703611556/\" \\n  \\n  onclick=\"moreurl(this, {&#34;action&#34;: &#34;&#34;, &#34;from&#34;: &#34;nmb-2550021779&#34;, &#34;target_type&#34;: &#34;editor&#34;, &#34;object_kind&#34;: &#34;1015&#34;})\"\\n>2018年度候选猫片，每张也是挑花了眼！</a>\\n    </div>\\n    <p>前几天发布2018年度猫片后， 各渠道反响热烈， 微博、微信阅读量更是超出预期， 所以再次感谢大家的厚爱！ 前文说到这一年专职拍猫， 所以片子数量激增， 年度照片也着实挑花了眼， 最后初选...</p>\\n  </div>\\n\\n</div>\\n<div class=\"attachment\">\\n</div>\\n\\n\\n    <div class=\"actions\">\\n        \\n        <span class=\"created_at\" title=\"2019-07-07 16:41:59\">\\n            2019年7月7日<span class=\"ghost\">，来自 <a href=\"https://www.douban.com/interest/1/1/\">热门精选</a></span>\\n        </span>\\n    </div>\\n  </div>\\n</div>\\n</div>\\n\\n\\n\\n\\n    \\n    \\n\\n    <script class=\"verify_user_avatar\" id=\"79682679\" type=\"text/template\">\\n      \\n\\n  <style>\\n    .verify-avatar{background-repeat:no-repeat;background-position:right bottom, 0 center;background-size:21px,48px;width:52px;height:56px}.usr-pic .verify-avatar{margin-top:-4px}.simple .verify-avatar{background-size:12px,24px;width:26px;height:28px}\\n\\n  </style>\\n    <a href=\"https://www.douban.com/people/staymiao/\" target=\"_blank\" title=\"喵呜不停\">\\n      <div class=\"verify-avatar\" title=\"喵呜不停\"\\n        style=\"background-image: url(https://img3.doubanio.com/f/shire/8cff6c7f0bfa5a9dbe604b51f4de62f655c233ce/pics/ic_verify@2x.png), url(https://img9.doubanio.com/icon/u79682679-4.jpg)\">\\n      </div>\\n    </a>\\n\\n    </script>\\n</div>\\n<!-- 2550021779, note.html, -->\\n\\n\\n\\n\\n      \\n</div>\\n\\n<script>\\nwindow.crt_uid = \"140014301\";\\n</script>\\n\\n<link rel=\"stylesheet\" href=\"https://img3.doubanio.com/f/sns/648e623f5edffa2561cd3a33dccb8cc4cdcdec6e/css/sns/lifestream/status.css\">\\n\\n\\n  \\n    \\n\\n    \\n        <div class=\"paginator\">\\n        <span class=\"prev\">\\n            &lt;前页\\n        </span>\\n        \\n        \\n\\n                <span class=\"thispage\" data-total-page=\"9223372036854775807\">1</span>\\n                \\n            <a href=\"?p=2\" >2</a>\\n        \\n                \\n            <a href=\"?p=3\" >3</a>\\n        \\n                \\n            <a href=\"?p=4\" >4</a>\\n        \\n                \\n            <a href=\"?p=5\" >5</a>\\n        \\n                \\n            <a href=\"?p=6\" >6</a>\\n        \\n                \\n            <a href=\"?p=7\" >7</a>\\n        \\n                \\n            <a href=\"?p=8\" >8</a>\\n        \\n                \\n            <a href=\"?p=9\" >9</a>\\n        \\n            <span class=\"break\">...</span>\\n        <span class=\"next\">\\n            <link rel=\"next\" href=\"?p=2\"/>\\n            <a href=\"?p=2\" >后页&gt;</a>\\n        </span>\\n\\n        </div>\\n\\n\\n        </div>\\n\\n        </div>\\n        <div class=\"aside\">\\n                \\n\\n\\n\\n\\n\\n\\n\\n\\n\\n<div class=\"notify-mod\">\\n    \\n    \\n    <h2>\\n        豆瓣正在发生\\n            &nbsp;&middot;&nbsp;&middot;&nbsp;&middot;&nbsp;&middot;&nbsp;&middot;&nbsp;&middot;\\n    </h2>\\n\\n    <ul>\\n            <li>\\n              <a target=\"_blank\" href=\"https://www.douban.com/group/topic/165963961/?utm_campaign=douban_what_happening&amp;utm_source=douban&amp;utm_medium=pc_web\" \\n    onclick=\"moreurl(this, {category:\\'sns\\', type:\\'side_entry\\'})\"\\n>伴宠乐园丨不出家门也能囤好粮</a>\\n            </li>\\n            <li>\\n              <a target=\"_blank\" href=\"https://read.douban.com/rally/2/?utm_source=douban&amp;utm_medium=douban-hot-ad&amp;utm_campaign=rally0228\" \\n    onclick=\"moreurl(this, {category:\\'read\\', type:\\'side_entry\\'})\"\\n>豆瓣阅读丨长篇拉力赛开放报名</a>\\n            </li>\\n    </ul>\\n</div>\\n\\n\\n\\n\\n<div id=\"dale_homepage_login_top_right\" class=\"mod\"></div>\\n\\n\\n\\n\\n\\n\\n\\n<div class=\"mod\" id=\"anony-time\">\\n    \\n    <h2>\\n        豆瓣时间\\n            &nbsp;&middot;&nbsp;&middot;&nbsp;&middot;&nbsp;&middot;&nbsp;&middot;&nbsp;&middot;\\n            <span class=\"pl\">&nbsp;(\\n                \\n                    <a href=\"https://time.douban.com/?dt_time_source=douban-web_guangbo\" target=\"_blank\">查看全部</a>\\n                ) </span>\\n    </h2>\\n\\n\\n    \\n\\n\\n\\n<ul class=\"time-list\">\\n        <li>\\n            \\n            <a class=\"cover audio new \" href=\"https://m.douban.com/time/column/188?dt_time_source=douban-web_guangbo\" target=\"_blank\">\\n                <img src=\"https://img9.doubanio.com/dae/niffler/niffler/images/8e457bfe-5872-11ea-916d-4e50984eeed6.jpg\" alt=\"用性别之尺丈量世界——18堂思想课解读女性问题\">\\n            </a>\\n            <a class=\"title\" href=\"https://m.douban.com/time/column/188?dt_time_source=douban-web_guangbo\" target=\"_blank\">用性别之尺丈量世界——18堂思想课解读女性问题</a>\\n            <span class=\"type\">音频专栏</span>\\n        </li>\\n        <li>\\n            \\n            <a class=\"cover video new \" href=\"https://m.douban.com/time/column/187?dt_time_source=douban-web_guangbo\" target=\"_blank\">\\n                <img src=\"https://img9.doubanio.com/dae/niffler/niffler/images/0b1c1886-4cb1-11ea-a5fc-ce0829b4ff74.jpg\" alt=\"电影产业破壁课——13小时重塑电影世界观\">\\n            </a>\\n            <a class=\"title\" href=\"https://m.douban.com/time/column/187?dt_time_source=douban-web_guangbo\" target=\"_blank\">电影产业破壁课——13小时重塑电影世界观</a>\\n            <span class=\"type\">视频专栏</span>\\n        </li>\\n</ul>\\n\\n</div>\\n\\n\\n\\n\\n\\n\\n\\n\\n\\n<div class=\"mod\">\\n    \\n    <h2>\\n        热门话题\\n            &nbsp;&middot;&nbsp;&middot;&nbsp;&middot;&nbsp;&middot;&nbsp;&middot;&nbsp;&middot;\\n            <span class=\"pl\">&nbsp;(\\n                \\n                    <a href=\"/gallery/\" target=\"_self\">去话题广场</a>\\n                ) </span>\\n    </h2>\\n\\n\\n    <ul>\\n        \\n            <li class=\"rec_topics\">\\n                    <a href=\"https://www.douban.com/gallery/topic/130073/?from=hot_topic_homepage\" class=\"rec_topics_name\">第70届柏林电影节</a>\\n                    \\n                    <span class=\"rec_topics_subtitle\">210.9万次浏览</span>\\n            </li>\\n            <li class=\"rec_topics\">\\n                    <a href=\"https://www.douban.com/gallery/topic/131026/?from=hot_topic_homepage\" class=\"rec_topics_name\">线上博物馆参观笔记</a>\\n                    \\n                    <span class=\"rec_topics_subtitle\">1877次浏览</span>\\n            </li>\\n            <li class=\"rec_topics\">\\n                    <a href=\"https://www.douban.com/gallery/topic/130566/?from=hot_topic_homepage\" class=\"rec_topics_name\">文学作品中那些触击心灵的“小镇”故事</a>\\n                    \\n                    <span class=\"rec_topics_subtitle\">3074次浏览</span>\\n            </li>\\n            <li class=\"rec_topics\">\\n                    <a href=\"https://www.douban.com/gallery/topic/130564/?from=hot_topic_homepage\" class=\"rec_topics_name\">植物种植反面教材</a>\\n                    \\n                    <span class=\"rec_topics_subtitle\">46.0万次浏览</span>\\n            </li>\\n            <li class=\"rec_topics\">\\n                    <a href=\"https://www.douban.com/gallery/topic/130127/?from=hot_topic_homepage\" class=\"rec_topics_name\">如果你所在的行业拍行业剧</a>\\n                    \\n                    <span class=\"rec_topics_subtitle\">13.0万次浏览</span>\\n            </li>\\n            <li class=\"rec_topics\">\\n                    <a href=\"https://www.douban.com/gallery/topic/130122/?from=hot_topic_homepage\" class=\"rec_topics_name\">如果我有女儿</a>\\n                    \\n                    <span class=\"rec_topics_subtitle\">36.1万次浏览</span>\\n            </li>\\n            <li class=\"rec_topics\">\\n                    <a href=\"https://www.douban.com/gallery/topic/130561/?from=hot_topic_homepage\" class=\"rec_topics_name\">宅家房屋待改造清单</a>\\n                    \\n                    <span class=\"rec_topics_subtitle\">28.9万次浏览</span>\\n            </li>\\n            <li class=\"rec_topics\">\\n                    <a href=\"https://www.douban.com/gallery/topic/130166/?from=hot_topic_homepage\" class=\"rec_topics_name\">没落网站考古</a>\\n                    \\n                    <span class=\"rec_topics_subtitle\">342.4万次浏览</span>\\n            </li>\\n            <li class=\"rec_topics\">\\n                <a href=\"/gallery/mine?type=invited\">> 我被邀请参与的话题(0)</a>\\n            </li>\\n            <li class=\"rec_topics\">\\n                <a href=\"/gallery/topic/create\">+ 发起新话题</a>\\n            </li>\\n    </ul>\\n</div>\\n\\n\\n\\n\\n\\n\\n\\n\\n<div id=\"friend\" class=\"mod\">\\n</div>\\n\\n\\n\\n\\n\\n\\n\\n\\n\\n<div id=\"fp-sites\" class=\"mod\">\\n</div>\\n\\n\\n<div class=\"mod\">\\n  <div id=\"dale_homepage_login_inner_middle\"></div>\\n  <div id=\"dale_homepage_login_download_middle\"></div>\\n</div>\\n\\n<div id=\"dale_homepage_login_bottom_middle_right\" class=\"mod\"></div>\\n<div id=\"dale_homepage_login_bottom_right\" class=\"mod\"></div>\\n\\n        </div>\\n        <div class=\"extra\">\\n            \\n        </div>\\n    </div>\\n</div>\\n\\n        \\n<div id=\"footer\">\\n    \\n<span id=\"icp\" class=\"fleft gray-link\">\\n    &copy; 2005－2020 douban.com, all rights reserved 北京豆网科技有限公司\\n</span>\\n\\n<a href=\"https://www.douban.com/hnypt/variformcyst.py\" style=\"display: none;\"></a>\\n\\n<span class=\"fright\">\\n    <a href=\"https://www.douban.com/about\">关于豆瓣</a>\\n    · <a href=\"https://www.douban.com/jobs\">在豆瓣工作</a>\\n    · <a href=\"https://www.douban.com/about?topic=contactus\">联系我们</a>\\n    · <a href=\"https://www.douban.com/about/legal\">法律声明</a>\\n    \\n    · <a href=\"https://help.douban.com/?app=main\" target=\"_blank\">帮助中心</a>\\n    · <a href=\"https://www.douban.com/doubanapp/\">移动应用</a>\\n    · <a href=\"https://www.douban.com/partner/\">豆瓣广告</a>\\n</span>\\n\\n</div>\\n\\n    </div>\\n    \\n    \\n\\n    <script type=\"text/javascript\" src=\"https://img3.doubanio.com/misc/mixed_static/7ce4440eb15fe07b.js\"></script>\\n    \\n\\n\\n\\n<!-- douban ad begin -->\\n\\n\\n\\n\\n\\n    \\n<script type=\"text/javascript\">\\n    (function (global) {\\n        var newNode = global.document.createElement(\\'script\\'),\\n            existingNode = global.document.getElementsByTagName(\\'script\\')[0],\\n            adSource = \\'//erebor.douban.com/\\',\\n            userId = \\'140014301\\',\\n            browserId = \\'1i8YWHFPDwI\\',\\n            criteria = \\'3:/\\',\\n            preview = \\'\\',\\n            debug = false,\\n            adSlots = [\\'dale_homepage_login_top_right\\', \\'dale_homepage_login_bottom_middle_right\\', \\'dale_homepage_login_bottom_right\\', \\'dale_homepage_login_inner_middle\\', \\'dale_homepage_login_download_middle\\'];\\n\\n        global.DoubanAdRequest = {src: adSource, uid: userId, bid: browserId, crtr: criteria, prv: preview, debug: debug};\\n        global.DoubanAdSlots = (global.DoubanAdSlots || []).concat(adSlots);\\n\\n        newNode.setAttribute(\\'type\\', \\'text/javascript\\');\\n        newNode.setAttribute(\\'src\\', \\'//img1.doubanio.com/eDRjYjNvdi9mL2FkanMvZTQ2YTNkMjgwYjBiMzc2OWE4YTI3MWFhMzI0NTQwMTBlMWY3OTYzMy9hZC5yZWxlYXNlLmpz\\');\\n        newNode.setAttribute(\\'async\\', true);\\n        existingNode.parentNode.insertBefore(newNode, existingNode);\\n    })(this);\\n</script>\\n\\n\\n\\n\\n\\n\\n\\n\\n\\n\\n<!-- douban ad end -->\\n\\n    \\n    \\n\\n\\n\\n\\n\\n\\n\\n\\n\\n<!-- Google Tag Manager -->\\n<noscript><iframe src=\"//www.googletagmanager.com/ns.html?id=GTM-5WP579\" height=\"0\" width=\"0\" style=\"display:none;visibility:hidden\"></iframe></noscript>\\n<script>(function(w,d,s,l,i){w[l]=w[l]||[];w[l].push({\\'gtm.start\\':new Date().getTime(),event:\\'gtm.js\\'});var f=d.getElementsByTagName(s)[0],j=d.createElement(s),dl=l!=\\'dataLayer\\'?\\'&l=\\'+l:\\'\\';j.async=true;j.src=\\'//www.googletagmanager.com/gtm.js?id=\\'+i+dl;f.parentNode.insertBefore(j,f);})(window,document,\\'script\\',\\'dataLayer\\',\\'GTM-5WP579\\');</script>\\n<!-- End Google Tag Manager -->\\n\\n\\n<script type=\"text/javascript\">\\nvar _paq = _paq || [];\\n_paq.push([\\'trackPageView\\']);\\n_paq.push([\\'enableLinkTracking\\']);\\n(function() {\\n    var p=((\\'https:\\' == document.location.protocol) ? \\'https\\' : \\'http\\'), u=p+\\'://fundin.douban.com/\\';\\n    _paq.push([\\'setTrackerUrl\\', u+\\'piwik\\']);\\n    _paq.push([\\'setSiteId\\', \\'100001\\']);\\n    var d=document, g=d.createElement(\\'script\\'), s=d.getElementsByTagName(\\'script\\')[0];\\n    g.type=\\'text/javascript\\';\\n    g.defer=true;\\n    g.async=true;\\n    g.src=p+\\'://img3.doubanio.com/dae/fundin/piwik.js\\';\\n    s.parentNode.insertBefore(g,s);\\n})();\\n</script>\\n\\n<script type=\"text/javascript\">\\nvar _gaq = _gaq || [];\\n_gaq.push([\\'_setAccount\\', \\'UA-7019765-1\\']);\\n_gaq.push([\\'_setCampNameKey\\', \\'dcn\\']);\\n_gaq.push([\\'_setCampSourceKey\\', \\'dcs\\']);\\n_gaq.push([\\'_setCampMediumKey\\', \\'dcm\\']);\\n_gaq.push([\\'_setCampTermKey\\', \\'dct\\']);\\n_gaq.push([\\'_setCampContentKey\\', \\'dcc\\']);\\n_gaq.push([\\'_addOrganic\\', \\'baidu\\', \\'word\\']);\\n_gaq.push([\\'_addOrganic\\', \\'soso\\', \\'w\\']);\\n_gaq.push([\\'_addOrganic\\', \\'3721\\', \\'name\\']);\\n_gaq.push([\\'_addOrganic\\', \\'youdao\\', \\'q\\']);\\n_gaq.push([\\'_addOrganic\\', \\'so.360.cn\\', \\'q\\']);\\n_gaq.push([\\'_addOrganic\\', \\'vnet\\', \\'kw\\']);\\n_gaq.push([\\'_addOrganic\\', \\'sogou\\', \\'query\\']);\\n_gaq.push([\\'_addIgnoredOrganic\\', \\'豆瓣\\']);\\n_gaq.push([\\'_addIgnoredOrganic\\', \\'douban\\']);\\n_gaq.push([\\'_addIgnoredOrganic\\', \\'豆瓣网\\']);\\n_gaq.push([\\'_addIgnoredOrganic\\', \\'www.douban.com\\']);\\n_gaq.push([\\'_setDomainName\\', \\'.douban.com\\']);\\n\\n\\n    _gaq.push([\\'_setCustomVar\\', 1, \\'responsive_view_mode\\', \\'desktop\\', 3]);\\n\\n_gaq.push([\\'_trackPageview\\']);\\n_gaq.push([\\'_trackPageLoadTime\\']);\\n    _gaq.push([\\'_setVar\\', \\'14001\\']);\\n\\nwindow._ga_init = function() {\\n    var ga = document.createElement(\\'script\\');\\n    ga.src = (\\'https:\\' == document.location.protocol ? \\'https://ssl\\' : \\'http://www\\') + \\'.google-analytics.com/ga.js\\';\\n    ga.setAttribute(\\'async\\', \\'true\\');\\n    document.documentElement.firstChild.appendChild(ga);\\n};\\nif (window.addEventListener) {\\n    window.addEventListener(\\'load\\', _ga_init, false);\\n} else {\\n    window.attachEvent(\\'onload\\', _ga_init);\\n}\\n</script>\\n\\n\\n\\n\\n\\n    <!-- dae-web-sns--home-7b6cb86c7c-lcmjf-->\\n\\n  \\n\\n  <script>_SPLITTEST=\\'\\'</script>\\n</body>\\n\\n</html>\\n\\n\\n'"
      ]
     },
     "execution_count": null,
     "metadata": {},
     "output_type": "execute_result"
    }
   ],
   "source": [
    "res = requests.post(url,headers=headers,data=data,cookies=cookies)\n",
    "res.text"
   ]
  },
  {
   "cell_type": "code",
   "execution_count": null,
   "metadata": {},
   "outputs": [
    {
     "name": "stdout",
     "output_type": "stream",
     "text": [
      "hello world\n",
      "hfgjh\n",
      "hello world\n",
      "hello world\n",
      "1111\n"
     ]
    }
   ],
   "source": [
    "# 查看最近发布的5条动态\n",
    "soup = BeautifulSoup(res.text)\n",
    "items = soup.find_all(class_='new-status')\n",
    "for item in items[:5]:\n",
    "    print(item.find('p').text)"
   ]
  },
  {
   "cell_type": "code",
   "execution_count": null,
   "metadata": {},
   "outputs": [
    {
     "data": {
      "text/plain": [
       "bs4.element.Tag"
      ]
     },
     "execution_count": null,
     "metadata": {},
     "output_type": "execute_result"
    }
   ],
   "source": [
    "type(items[0])"
   ]
  },
  {
   "cell_type": "code",
   "execution_count": null,
   "metadata": {},
   "outputs": [
    {
     "data": {
      "text/plain": [
       "{'class': ['new-status', 'status-wrapper', 'saying'],\n",
       " 'data-sid': '2845334158',\n",
       " 'data-uid': '140014301'}"
      ]
     },
     "execution_count": null,
     "metadata": {},
     "output_type": "execute_result"
    }
   ],
   "source": [
    "items[0].attrs"
   ]
  },
  {
   "cell_type": "markdown",
   "metadata": {},
   "source": [
    "顺便看看tag的其他属性，上下左右查到其他的tag\n",
    "* item.parent\n",
    "* item.parents\n",
    "\n",
    "* item.contents\n",
    "* item.children\n",
    "\n",
    "* item.next_sibling\n",
    "* item.previous_sibling"
   ]
  },
  {
   "cell_type": "markdown",
   "metadata": {},
   "source": [
    "## JSON 存储\n",
    "> 这个格式本质上就是个dict，在MongoDB和Redis中也是这样存储，所以这里就开始学习下"
   ]
  },
  {
   "cell_type": "markdown",
   "metadata": {},
   "source": [
    "比如这次要把谁在什么时间，说了什么话记下来"
   ]
  },
  {
   "cell_type": "code",
   "execution_count": null,
   "metadata": {},
   "outputs": [
    {
     "data": {
      "text/plain": [
       "'2696684598'"
      ]
     },
     "execution_count": null,
     "metadata": {},
     "output_type": "execute_result"
    }
   ],
   "source": [
    "items[5]['data-sid']"
   ]
  },
  {
   "cell_type": "code",
   "execution_count": null,
   "metadata": {},
   "outputs": [
    {
     "data": {
      "text/plain": [
       "'Hawk'"
      ]
     },
     "execution_count": null,
     "metadata": {},
     "output_type": "execute_result"
    }
   ],
   "source": [
    "items[0].find(class_='text').a.text"
   ]
  },
  {
   "cell_type": "code",
   "execution_count": null,
   "metadata": {},
   "outputs": [
    {
     "data": {
      "text/plain": [
       "'2020-02-20 16:47:52'"
      ]
     },
     "execution_count": null,
     "metadata": {},
     "output_type": "execute_result"
    }
   ],
   "source": [
    "items[0].find(class_='created_at')['title']"
   ]
  },
  {
   "cell_type": "code",
   "execution_count": null,
   "metadata": {},
   "outputs": [
    {
     "data": {
      "text/plain": [
       "\"21 身份危机 |Model MinoritySomeone like me can be a real nightmare, completely aware But I'd rather be a real nightmare than die unaware So save me your prayers 一直很想写这篇日记，却因为太贴近真实的自我...\""
      ]
     },
     "execution_count": null,
     "metadata": {},
     "output_type": "execute_result"
    }
   ],
   "source": [
    "items[4].find(class_='bd').contents[1].text.replace('\\n','')"
   ]
  },
  {
   "cell_type": "code",
   "execution_count": null,
   "metadata": {},
   "outputs": [
    {
     "data": {
      "text/plain": [
       "{'2822780190': {'name': 'Hawk',\n",
       "  'created_at': '2020-02-20 16:47:52',\n",
       "  'content': 'hello world'},\n",
       " '2822769950': {'name': 'Hawk',\n",
       "  'created_at': '2020-02-20 16:41:34',\n",
       "  'content': 'hello world'},\n",
       " '2822718314': {'name': 'Hawk',\n",
       "  'created_at': '2020-02-20 16:08:03',\n",
       "  'content': '1111'},\n",
       " '2822710087': {'name': 'Hawk',\n",
       "  'created_at': '2020-02-20 16:02:37',\n",
       "  'content': 'asdfasd'},\n",
       " '2726525573': {'name': 'Malorie',\n",
       "  'created_at': '2019-12-14 10:18:01',\n",
       "  'content': \"21 身份危机 |Model MinoritySomeone like me can be a real nightmare, completely aware But I'd rather be a real nightmare than die unaware So save me your prayers 一直很想写这篇日记，却因为太贴近真实的自我...\"},\n",
       " '2696684598': {'name': '安提戈涅',\n",
       "  'created_at': '2019-11-15 19:42:04',\n",
       "  'content': '《浮士德》中的植物学诗学每年读一遍《浮士德》，每年就多走近歌德一些，从他巨大的矿藏里敲下一小块，自己收拢珍藏起来。今年重读，发现了《浮士德》中歌德对有机世界的狂热。在植物学天地中，他再一次表达着生命不...'},\n",
       " '2675363447': {'name': '女奥特迈',\n",
       "  'created_at': '2019-10-25 18:16:04',\n",
       "  'content': '2019年10月22日 我在环卫的第812天 “我的梦想”背后的故事上一次写是2018年9月12日，是我在环卫的第416天。一眨眼，又400天过去了。 其实我一直有感悟的，多的时候每天都会有感悟，只是很多时候因为懒，没有把它记录下来。日子总是过得又快又慢，根...'},\n",
       " '2637148195': {'name': '肘子zi非子zǐ',\n",
       "  'created_at': '2019-09-20 16:42:09',\n",
       "  'content': '舅舅8月25号中午，一通电话告知：舅舅独居的一楼小间敲门无人应，邻居已经几天没见他进出，从中传出的腐臭味一天比一天浓重。居委通知警察，警察联系我爸如是说。 我爸立刻把情况简单地告诉我，...我认识的独居老人'},\n",
       " '2620850215': {'name': '拾贝岛民',\n",
       "  'created_at': '2019-09-05 11:20:09',\n",
       "  'content': '上海西区 Western quarter of Shanghai大学同学群里传来消息，某同学荣归主怀，我心中一震，这位同学当年是班里漂亮可爱的女生，她长的皮肤细腻、白里透红、明眸皓齿。但近年听说已经不能认人和自理，她的安息，对亲友也许是种释...'},\n",
       " '2620435648': {'name': '，',\n",
       "  'created_at': '2019-09-04 22:44:08',\n",
       "  'content': '72小时，我在长沙吃了什么？两个四川人，怎么甘心在长沙只吃纯辣啊！ -为什么想出去玩这么久，最后选择了去长沙？ -因为妹妹去年7月到北京开会，给我带了一份蒜蓉小龙虾，那个味道突然在夏天到来的时候，从我的记记忆里...念念不忘的地方美食'},\n",
       " '2617022918': {'name': '躺倒',\n",
       "  'created_at': '2019-09-01 18:02:03',\n",
       "  'content': '徒步在“犀牛的领地”喜欢野观野生动物，非洲一定要去，明星五霸——“大象、犀牛、狮子、野水牛和豹”声名在外。但是，其实我们亚洲是世界上另一处有“大象+犀牛+大猫”组合的地方。 世界上现存三种象，两种在非...'},\n",
       " '2616953824': {'name': '麦克黄',\n",
       "  'created_at': '2019-09-01 16:54:04',\n",
       "  'content': '小友给小朋友看嗓子是一件有难度的工作，常见话术有三种，1.“来，张嘴，给阿姨看你的牙牙白不白”；2.“张大，啊——看看你嘴里有没有虫虫”；3.举着压舌板心虚地说，“来，吃棒棒糖啦”。不管...'},\n",
       " '2612446102': {'name': '握不住的灵魂',\n",
       "  'created_at': '2019-08-28 19:28:01',\n",
       "  'content': '石头、气味与阶级之门,《寄生虫》的17个细节当人群之中出现差异，并且这样的差异已经导致部分人拥有凌驾其他人的地位、权力、特权时，这就称为社会阶层。社会借此而将人们分类成有高下之别的阶层或等级。#wikipedia 1.爬行式运动 影片...'},\n",
       " '2609397893': {'name': '小毒牙',\n",
       "  'created_at': '2019-08-26 08:06:03',\n",
       "  'content': '运城访古记运城在山西的最南部，晋秦豫三省交界处。 目前上海到运城只有一班高铁，将近11个小时；而上海到河南省三门峡市却有更多高铁班次，仅6个多小时，再从三门峡打车到运城市中心的酒店只要1个半小...遇见老建筑'},\n",
       " '2580259408': {'name': 'frozenmoon',\n",
       "  'created_at': '2019-08-03 17:30:03',\n",
       "  'content': '海清们的真正困境，在于中年人的故事被集体清空（文/杨时旸） 演员海清在First青年电影展的闭幕式上叫上了姚晨、宋佳和梁静，一起站在舞台上发出了一次呼吁，她们希望导演和制片人能重视自己这些中生代女演员，希望青年导演们也能够愿意并...那些反映出中年人真实困境的影视剧'},\n",
       " '2550183515': {'name': '维生素',\n",
       "  'created_at': '2019-07-07 19:32:00',\n",
       "  'content': '奶奶留下来的螺钿木盒春节前，有个女生找到我，说她有一个螺钿的盒子需要修补。我拿到一看，上面的金属扣件都没有了，原来这个盒子是她奶奶留下了的，但金属扣件大多坏了，她拿去给一个做金缮的师傅修理，但金缮...家里的老物件'},\n",
       " '2550021779': {'name': '喵呜不停',\n",
       "  'created_at': '2019-07-07 16:41:59',\n",
       "  'content': '2018年度候选猫片，每张也是挑花了眼！前几天发布2018年度猫片后， 各渠道反响热烈， 微博、微信阅读量更是超出预期， 所以再次感谢大家的厚爱！ 前文说到这一年专职拍猫， 所以片子数量激增， 年度照片也着实挑花了眼， 最后初选...'}}"
      ]
     },
     "execution_count": null,
     "metadata": {},
     "output_type": "execute_result"
    }
   ],
   "source": [
    "contents = {}\n",
    "for item in items:\n",
    "    _id = item['data-sid']\n",
    "    name = item.find(class_='text').a.text    \n",
    "    created_at = item.find(class_='created_at')['title']\n",
    "    content = item.find(class_='bd').contents[1].text.replace('\\n','')  \n",
    "    contents[_id] = {}\n",
    "    contents[_id]['name'] = name\n",
    "    contents[_id]['created_at'] = created_at  \n",
    "    contents[_id]['content'] = content\n",
    "contents"
   ]
  },
  {
   "cell_type": "markdown",
   "metadata": {},
   "source": [
    "### 保存和读取json"
   ]
  },
  {
   "cell_type": "code",
   "execution_count": null,
   "metadata": {},
   "outputs": [],
   "source": [
    "with open('./data/01_douban.json', 'w') as f:\n",
    "    json.dump(contents,f)"
   ]
  },
  {
   "cell_type": "code",
   "execution_count": null,
   "metadata": {},
   "outputs": [
    {
     "data": {
      "text/plain": [
       "{'name': 'Malorie',\n",
       " 'created_at': '2019-12-14 10:18:01',\n",
       " 'content': \"21 身份危机 |Model MinoritySomeone like me can be a real nightmare, completely aware But I'd rather be a real nightmare than die unaware So save me your prayers 一直很想写这篇日记，却因为太贴近真实的自我...\"}"
      ]
     },
     "execution_count": null,
     "metadata": {},
     "output_type": "execute_result"
    }
   ],
   "source": [
    "with open('./data/01_douban.json', 'r') as f:\n",
    "    contents = json.loads(f.read())\n",
    "contents['2726525573']"
   ]
  },
  {
   "cell_type": "markdown",
   "metadata": {},
   "source": [
    "## 自动识别列表\n",
    "> 思路就是看谁有最多的相同类的children，而且嵌套和样式最丰富的"
   ]
  },
  {
   "cell_type": "code",
   "execution_count": null,
   "metadata": {},
   "outputs": [],
   "source": [
    "#export\n",
    "def find_candidate_content_list(soup,result=[]):\n",
    "    childrens =[i for i in soup.children if isinstance(i, Tag)]\n",
    "    if (len(childrens))>0:\n",
    "        # 这里取列表行数大于5，item tag都相同的，而且内容大于500的\n",
    "        if len(childrens)>5 and len(set([c.name for c in childrens])) == 1 and len(soup.text)>500:\n",
    "            print('推测：',len(childrens),len(soup.text),soup.name,soup.attrs,childrens[0].name,childrens[0].attrs,)\n",
    "            result.append([len(childrens),childrens])\n",
    "        # 继续向下寻找\n",
    "        for c in childrens:\n",
    "            find_candidate_content_list(c,result)\n",
    "    return result\n",
    "\n",
    "def find_content_list(candidates):\n",
    "    # 取记录条数最多的\n",
    "    max_count = 0\n",
    "    childrens = []\n",
    "    for c in candidates:\n",
    "        if int(c[0])>max_count:\n",
    "            max_count = c[0]\n",
    "            childrens = c[1]\n",
    "    print('选择：',max_count)\n",
    "    return childrens\n",
    "\n",
    "def get_content_list(url,headers = {'user-agent':'Mozilla/5.0'},cookies={}):\n",
    "    res = requests.get(url,headers=headers,cookies=cookies)\n",
    "    if (res.status_code == 200):\n",
    "        soup = BeautifulSoup(res.text)\n",
    "        body = soup.body\n",
    "        candidates = find_candidate_content_list(body)\n",
    "        return find_content_list(candidates)\n",
    "    else:\n",
    "        return res"
   ]
  },
  {
   "cell_type": "code",
   "execution_count": null,
   "metadata": {},
   "outputs": [
    {
     "name": "stdout",
     "output_type": "stream",
     "text": [
      "推测： 20 4741 ul {'class': ['subject-list']} li {'class': ['subject-item']}\n",
      "选择： 20\n"
     ]
    }
   ],
   "source": [
    "cs = get_content_list('https://book.douban.com/tag/%E5%A4%96%E5%9B%BD%E6%96%87%E5%AD%A6')"
   ]
  },
  {
   "cell_type": "code",
   "execution_count": null,
   "metadata": {},
   "outputs": [
    {
     "name": "stdout",
     "output_type": "stream",
     "text": [
      "div {'class': ['pic']} \n",
      "a {'class': ['nbg'], 'href': 'https://book.douban.com/subject/1770782/', 'onclick': \"moreurl(this,{i:'0',query:'',subject_id:'1770782',from:'book_subject_search'})\"} \n",
      "img {'class': [], 'src': 'https://img3.doubanio.com/view/subject/s/public/s1727290.jpg', 'width': '90'} \n",
      "div {'class': ['info']} 追风筝的人[美]卡勒德·胡赛尼/李继宏/上海人民出版社/2006-5/29.00元8.9(605191人评价)12岁的阿富汗富家少爷阿米尔与仆人哈桑情同手足。然而，在一场风筝比赛后，发生了一件悲惨不堪的事，阿米尔为自己的懦弱感到自责和痛苦，逼走了哈桑，不久，自己也跟...在豆瓣购买去看电子版\n",
      "h2 {'class': []} 追风筝的人\n",
      "a {'href': 'https://book.douban.com/subject/1770782/', 'title': '追风筝的人', 'onclick': \"moreurl(this,{i:'0',query:'',subject_id:'1770782',from:'book_subject_search'})\"} 追风筝的人\n",
      "div {'class': ['pub']} [美]卡勒德·胡赛尼/李继宏/上海人民出版社/2006-5/29.00元\n",
      "div {'class': ['star', 'clearfix']} 8.9(605191人评价)\n",
      "span {'class': ['allstar45']} \n",
      "span {'class': ['rating_nums']} 8.9\n",
      "span {'class': ['pl']} (605191人评价)\n",
      "p {} 12岁的阿富汗富家少爷阿米尔与仆人哈桑情同手足。然而，在一场风筝比赛后，发生了一件悲惨不堪的事，阿米尔为自己的懦弱感到自责和痛苦，逼走了哈桑，不久，自己也跟...\n",
      "div {'class': ['ft']} 在豆瓣购买去看电子版\n",
      "div {'class': ['collect-info']} \n",
      "div {'class': ['cart-actions']} 在豆瓣购买\n",
      "span {'class': ['market-info']} 在豆瓣购买\n",
      "a {'href': 'https://book.douban.com/subject/1770782/?channel=subject_list&platform=web', 'target': '_blank'} 在豆瓣购买\n",
      "div {'class': ['ebook-link']} 去看电子版\n",
      "a {'target': '_blank', 'href': 'https://read.douban.com/ebook/1162265/?dcs=tag-buylink&dcm=douban&dct=1770782'} 去看电子版\n"
     ]
    }
   ],
   "source": [
    "# 列出一个children的所有tag，属性，和内容\n",
    "for c in cs[0].find_all(True):\n",
    "    print(c.name,c.attrs,''.join(c.text.split()))"
   ]
  },
  {
   "cell_type": "markdown",
   "metadata": {},
   "source": [
    "## 自动识别下一页\n",
    "> 目前只能识别静态页面\n",
    "#### 将来会考虑\n",
    "* 增加滚动加载页面\n",
    "* 增加JavaScript加载的下一页"
   ]
  },
  {
   "cell_type": "code",
   "execution_count": null,
   "metadata": {},
   "outputs": [],
   "source": [
    "#export\n",
    "def is_next_page(tag):\n",
    "    if tag.name == 'a':\n",
    "        for text in ['下一页','后页']:\n",
    "            if text in tag.text:\n",
    "                return True\n",
    "    else:\n",
    "        return False\n",
    "    \n",
    "def get_next_page_url(url,headers = {'user-agent':'Mozilla/5.0'},cookies={}):\n",
    "    res = requests.get(url,headers=headers,cookies=cookies)\n",
    "    if (res.status_code == 200):\n",
    "        soup = BeautifulSoup(res.text)\n",
    "#         print(soup)\n",
    "        next_page = soup.find(is_next_page)\n",
    "        if (next_page):\n",
    "            return next_page['href']\n",
    "        else:\n",
    "            print('没有下一页')\n",
    "            return None\n",
    "    else:\n",
    "        return res    "
   ]
  },
  {
   "cell_type": "code",
   "execution_count": null,
   "metadata": {},
   "outputs": [
    {
     "data": {
      "text/plain": [
       "'/tag/外国文学?start=20&type=T'"
      ]
     },
     "execution_count": null,
     "metadata": {},
     "output_type": "execute_result"
    }
   ],
   "source": [
    "url = 'https://book.douban.com/tag/%E5%A4%96%E5%9B%BD%E6%96%87%E5%AD%A6'\n",
    "get_next_page_url(url)"
   ]
  },
  {
   "cell_type": "markdown",
   "metadata": {},
   "source": [
    "## 自动识别列表内容\n",
    "> 思路就是样式一样的，是一类的内容\n",
    "\n",
    "几种特殊类型：\n",
    "1. img link\n",
    "* a link\n",
    "* text\n",
    "* video #TBD\n",
    "* 动态内容 #TBD"
   ]
  },
  {
   "cell_type": "code",
   "execution_count": null,
   "metadata": {},
   "outputs": [],
   "source": [
    "#export\n",
    "def get_childrens(soup):\n",
    "    return [s for s in soup.contents if isinstance(s,Tag)]\n",
    "\n",
    "def get_prefix(soup):\n",
    "    if 'class' in soup.attrs and len(soup.attrs['class']) > 0:\n",
    "        prefix = soup.name+'.'+soup.attrs['class'][0]\n",
    "    elif 'id' in soup.attrs:\n",
    "        prefix = soup.name+'.'+soup.attrs['id']\n",
    "    else:\n",
    "        prefix = soup.name\n",
    "    return prefix\n",
    "\n",
    "def get_item_data(soup,db={}):\n",
    "    childrens = get_childrens(soup)\n",
    "    if len(childrens) > 0:\n",
    "        for c in childrens:\n",
    "            db[get_prefix(c)] = {}\n",
    "            get_item_data(c,db[get_prefix(c)])\n",
    "    else:\n",
    "        if soup.name == 'a':\n",
    "            db['href'] = soup['href']\n",
    "            if 'title' in soup.attrs:\n",
    "                db['title'] = soup['title']\n",
    "        elif soup.name == 'img':\n",
    "            db['src'] = soup['src']\n",
    "        else:\n",
    "            db['text'] = soup.text.strip()\n",
    "    return db\n",
    "\n",
    "def find_item_id(soup):\n",
    "    # 找到内容id，思路是a标签，有title，有href，然后取里面数字    \n",
    "    for a in soup.find_all('a'):\n",
    "        if 'title' in a.attrs and 'href' in a.attrs:\n",
    "            id = re.search(r'\\d+',a['href']).group(0)\n",
    "            return id\n"
   ]
  },
  {
   "cell_type": "code",
   "execution_count": null,
   "metadata": {},
   "outputs": [
    {
     "name": "stdout",
     "output_type": "stream",
     "text": [
      "推测： 20 4741 ul {'class': ['subject-list']} li {'class': ['subject-item']}\n",
      "选择： 20\n"
     ]
    },
    {
     "data": {
      "text/plain": [
       "{'div.pic': {'a.nbg': {'img': {'src': 'https://img3.doubanio.com/view/subject/s/public/s1727290.jpg'}}},\n",
       " 'div.info': {'h2': {'a': {'href': 'https://book.douban.com/subject/1770782/',\n",
       "    'title': '追风筝的人'}},\n",
       "  'div.pub': {'text': '[美] 卡勒德·胡赛尼 / 李继宏 / 上海人民出版社 / 2006-5 / 29.00元'},\n",
       "  'div.star': {'span.allstar45': {'text': ''},\n",
       "   'span.rating_nums': {'text': '8.9'},\n",
       "   'span.pl': {'text': '(605191人评价)'}},\n",
       "  'p': {'text': '12岁的阿富汗富家少爷阿米尔与仆人哈桑情同手足。然而，在一场风筝比赛后，发生了一件悲惨不堪的事，阿米尔为自己的懦弱感到自责和痛苦，逼走了哈桑，不久，自己也跟...'},\n",
       "  'div.ft': {'div.collect-info': {'text': ''},\n",
       "   'div.cart-actions': {'span.market-info': {'a': {'href': 'https://book.douban.com/subject/1770782/?channel=subject_list&platform=web'}}},\n",
       "   'div.ebook-link': {'a': {'href': 'https://read.douban.com/ebook/1162265/?dcs=tag-buylink&dcm=douban&dct=1770782'}}}}}"
      ]
     },
     "execution_count": null,
     "metadata": {},
     "output_type": "execute_result"
    }
   ],
   "source": [
    "childrens = get_content_list('https://book.douban.com/tag/%E5%A4%96%E5%9B%BD%E6%96%87%E5%AD%A6')\n",
    "db = get_item_data(childrens[0])\n",
    "db"
   ]
  }
 ],
 "metadata": {
  "kernelspec": {
   "display_name": "Python 3",
   "language": "python",
   "name": "python3"
  }
 },
 "nbformat": 4,
 "nbformat_minor": 2
}
