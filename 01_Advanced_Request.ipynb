{
 "cells": [
  {
   "cell_type": "code",
   "execution_count": null,
   "metadata": {},
   "outputs": [],
   "source": [
    "# default_exp utils"
   ]
  },
  {
   "cell_type": "markdown",
   "metadata": {},
   "source": [
    "# 进阶的爬虫\n",
    "> 1. 更复杂的请求\n",
    "    * 无headers\n",
    "    * 有headers\n",
    "    * 有cookies\n",
    "* JSON 存储数据\n",
    "* 自动识别列表\n",
    "* 自动识别下一页\n",
    "* 自动识别列表上的内容\n",
    "\n",
    "* [Requests文档](https://requests.readthedocs.io/en/master/)\n",
    "* [BeautifulSoup文档](https://www.crummy.com/software/BeautifulSoup/bs4/doc/)\n"
   ]
  },
  {
   "cell_type": "code",
   "execution_count": null,
   "metadata": {},
   "outputs": [],
   "source": [
    "# export\n",
    "import requests,json,re\n",
    "from bs4 import BeautifulSoup,Tag\n",
    "from collections import Counter"
   ]
  },
  {
   "cell_type": "markdown",
   "metadata": {},
   "source": [
    "## 更复杂的请求\n",
    "> 以豆瓣网为例"
   ]
  },
  {
   "cell_type": "markdown",
   "metadata": {},
   "source": [
    "一开始没有header的请求会被拒绝，因为服务器会把这次的请求当成是机器人，status_code是418"
   ]
  },
  {
   "cell_type": "code",
   "execution_count": null,
   "metadata": {},
   "outputs": [
    {
     "data": {
      "text/plain": [
       "(<Response [418]>, '')"
      ]
     },
     "execution_count": null,
     "metadata": {},
     "output_type": "execute_result"
    }
   ],
   "source": [
    "# hide\n",
    "search_query = '1234'\n",
    "url = f'https://www.douban.com/search?q={search_query}'\n",
    "res = requests.get(url)\n",
    "res,res.text"
   ]
  },
  {
   "cell_type": "markdown",
   "metadata": {},
   "source": [
    "加了header之后，服务器就把它当成了Mozilla浏览器，就有response的数据了"
   ]
  },
  {
   "cell_type": "code",
   "execution_count": null,
   "metadata": {},
   "outputs": [
    {
     "data": {
      "text/plain": [
       "<Response [200]>"
      ]
     },
     "execution_count": null,
     "metadata": {},
     "output_type": "execute_result"
    }
   ],
   "source": [
    "# hide\n",
    "headers = {'user-agent':'Mozilla/5.0'}\n",
    "res = requests.get(url,headers=headers)\n",
    "res"
   ]
  },
  {
   "cell_type": "markdown",
   "metadata": {},
   "source": [
    "想要发布一个动态就需要登录状态，而cookie就是登录状态的载体，cookie就是用帐号密码登录后获取的凭证"
   ]
  },
  {
   "cell_type": "code",
   "execution_count": null,
   "metadata": {},
   "outputs": [],
   "source": [
    "# hide\n",
    "url = 'https://www.douban.com/'\n",
    "data = {'comment':'hello world','ck':'zV8Z','privacy_and_reply_limit':'P,'}"
   ]
  },
  {
   "cell_type": "code",
   "execution_count": null,
   "metadata": {},
   "outputs": [],
   "source": [
    "# export\n",
    "def format_cookie_str(cookie_str):\n",
    "    '把chrome拷贝过来的cookie字符转化成dict'\n",
    "    cookies = {}\n",
    "    for item in cookie_str.split('; '):\n",
    "        k,v = item.split('=',1)\n",
    "        cookies[k] = v\n",
    "    return cookies"
   ]
  },
  {
   "cell_type": "code",
   "execution_count": null,
   "metadata": {},
   "outputs": [
    {
     "data": {
      "text/plain": [
       "{'bid': '1i8YWHFPDwI',\n",
       " 'gr_user_id': '5b798ccf-0dc3-41f7-9358-ab221ae5c248',\n",
       " '__utmc': '30149280',\n",
       " '__utmz': '30149280.1582040380.5.5.utmcsr=google|utmccn=(organic)|utmcmd=organic|utmctr=(not%20provided)',\n",
       " 'll': '\"118124\"',\n",
       " '_pk_ref.100001.8cb4': '%5B%22%22%2C%22%22%2C1582185091%2C%22https%3A%2F%2Fwww.google.com%2F%22%5D',\n",
       " '_pk_ses.100001.8cb4': '*',\n",
       " '__utma': '30149280.682236232.1580713449.1582121697.1582185095.7',\n",
       " 'ap_v': '0,6.0',\n",
       " 'viewed': '\"19672873_30243169_4233221\"',\n",
       " 'gr_cs1_6bb1b2b8-0a3e-4e02-9e3c-4f359d514576': 'user_id%3A0',\n",
       " '__utmt_douban': '1',\n",
       " 'dbcl2': '\"140014301:Td6zJ+yn5sA\"',\n",
       " 'ck': 'zV8Z',\n",
       " 'gr_session_id_22c937bbd8ebd703f2d8e9445f7dfd03': '7a596b44-fe53-45f0-90fa-2c24b2faa365',\n",
       " 'gr_cs1_7a596b44-fe53-45f0-90fa-2c24b2faa365': 'user_id%3A1',\n",
       " 'gr_session_id_22c937bbd8ebd703f2d8e9445f7dfd03_7a596b44-fe53-45f0-90fa-2c24b2faa365': 'true',\n",
       " 'push_noty_num': '0',\n",
       " 'push_doumail_num': '0',\n",
       " '__utmv': '30149280.14001',\n",
       " '__utmt': '1',\n",
       " 'ps': 'y',\n",
       " '_pk_id.100001.8cb4': '7bc8021c269d7e50.1580713448.6.1582185748.1582121848.',\n",
       " '__utmb': '30149280.18.10.1582185095'}"
      ]
     },
     "execution_count": null,
     "metadata": {},
     "output_type": "execute_result"
    }
   ],
   "source": [
    "cookie_str = 'bid=1i8YWHFPDwI; gr_user_id=5b798ccf-0dc3-41f7-9358-ab221ae5c248; __utmc=30149280; __utmz=30149280.1582040380.5.5.utmcsr=google|utmccn=(organic)|utmcmd=organic|utmctr=(not%20provided); ll=\"118124\"; _pk_ref.100001.8cb4=%5B%22%22%2C%22%22%2C1582185091%2C%22https%3A%2F%2Fwww.google.com%2F%22%5D; _pk_ses.100001.8cb4=*; __utma=30149280.682236232.1580713449.1582121697.1582185095.7; ap_v=0,6.0; viewed=\"19672873_30243169_4233221\"; gr_cs1_6bb1b2b8-0a3e-4e02-9e3c-4f359d514576=user_id%3A0; __utmt_douban=1; dbcl2=\"140014301:Td6zJ+yn5sA\"; ck=zV8Z; gr_session_id_22c937bbd8ebd703f2d8e9445f7dfd03=7a596b44-fe53-45f0-90fa-2c24b2faa365; gr_cs1_7a596b44-fe53-45f0-90fa-2c24b2faa365=user_id%3A1; gr_session_id_22c937bbd8ebd703f2d8e9445f7dfd03_7a596b44-fe53-45f0-90fa-2c24b2faa365=true; push_noty_num=0; push_doumail_num=0; __utmv=30149280.14001; __utmt=1; ps=y; _pk_id.100001.8cb4=7bc8021c269d7e50.1580713448.6.1582185748.1582121848.; __utmb=30149280.18.10.1582185095'\n",
    "cookies = format_cookie_str(cookie_str)\n",
    "cookies"
   ]
  },
  {
   "cell_type": "code",
   "execution_count": null,
   "metadata": {},
   "outputs": [
    {
     "data": {
      "text/plain": [
       "'<!DOCTYPE html>\\n<html lang=\"zh-cmn-Hans\" class=\"\">\\n<head>\\n    <meta http-equiv=\"Content-Type\" content=\"text/html; charset=utf-8\">\\n    <meta name=\"renderer\" content=\"webkit\">\\n    <meta name=\"referrer\" content=\"always\">\\n    <meta name=\"google-site-verification\" content=\"ok0wCgT20tBBgo9_zat2iAcimtN4Ftf5ccsh092Xeyw\" />\\n    <title>豆瓣</title>\\n    \\n    \\n<meta content=\"提供图书、电影、音乐唱片的推荐、评论和价格比较，以及城市独特的文化生活。\" name=\"description\"/>\\n\\n    <link href=\"https://img3.doubanio.com/f/shire/db7c8ab218cded634c1180ff7b56d3ca44393bc2/css/frontpage/_init_.css\" rel=\"stylesheet\" type=\"text/css\">\\n    <script>_head_start = new Date();</script>\\n    <script src=\"https://img3.doubanio.com/f/shire/ebac5abada5de811d65dac57b2e62a89c7ddf55a/js/core/_init_.js\" data-cfg-corelib=\"https://img3.doubanio.com/f/shire/72ced6df41d4d158420cebdd254f9562942464e3/js/jquery.min.js\"></script>\\n    \\n    <style type=\"text/css\"></style>\\n    <link rel=\"stylesheet\" href=\"https://img3.doubanio.com/misc/mixed_static/2008baff28306247.css\">\\n    <script>\\n        Do.global(\\'https://img3.doubanio.com/f/shire/5ecaf46d6954d5a30bc7d99be86ae34031646e00/js/douban.js\\');\\n        \\n    </script>\\n\\n    <link rel=\"shortcut icon\" href=\"https://img3.doubanio.com/favicon.ico\" type=\"image/x-icon\">\\n</head>\\n\\n<body>\\n  \\n  \\n    <script type=\"text/javascript\">var _body_start = new Date();</script>\\n    \\n\\n\\n  \\n\\n\\n\\n    <link href=\"//img3.doubanio.com/dae/accounts/resources/f5f3d66/shire/bundle.css\" rel=\"stylesheet\" type=\"text/css\">\\n\\n\\n\\n<div id=\"db-global-nav\" class=\"global-nav\">\\n  <div class=\"bd\">\\n    \\n<div class=\"top-nav-info\">\\n  <ul>\\n    <li>\\n    <a id=\"top-nav-doumail-link\" href=\"https://www.douban.com/doumail/\">豆邮</a>\\n    </li>\\n    <li class=\"nav-user-account\">\\n      <a target=\"_blank\" href=\"https://accounts.douban.com/passport/setting/\" class=\"bn-more\">\\n        <span>Hawk的帐号</span><span class=\"arrow\"></span>\\n      </a>\\n      <div class=\"more-items\">\\n        <table cellpadding=\"0\" cellspacing=\"0\">\\n          <tbody>\\n            <tr>\\n              <td>\\n                <a href=\"https://www.douban.com/mine/\">个人主页</a>\\n              </td>\\n            </tr>\\n            <tr>\\n              <td>\\n                <a target=\"_blank\" href=\"https://www.douban.com/mine/orders/\">我的订单</a>\\n              </td>\\n            </tr>\\n            <tr>\\n              <td>\\n                <a target=\"_blank\" href=\"https://www.douban.com/mine/wallet/\">我的钱包</a>\\n              </td>\\n            </tr>\\n            <tr>\\n              <td>\\n                <a target=\"_blank\" href=\"https://accounts.douban.com/passport/setting/\">帐号管理</a>\\n              </td>\\n            </tr>\\n            <tr>\\n              <td>\\n                <a href=\"https://www.douban.com/accounts/logout?source=main&ck=zV8Z\">退出</a>\\n              </td>\\n            </tr>\\n          </tbody>\\n        </table>\\n      </div>\\n    </li>\\n  </ul>\\n</div>\\n\\n  <div class=\"top-nav-reminder\">\\n    <a href=\"https://www.douban.com/notification/\" class=\"lnk-remind\">提醒</a>\\n    <div id=\"top-nav-notimenu\" class=\"more-items\">\\n      <div class=\"bd\">\\n        <p>加载中...</p>\\n      </div>\\n    </div>\\n  </div>\\n\\n    <div class=\"top-nav-doubanapp\">\\n  <a href=\"https://www.douban.com/doubanapp/app?channel=top-nav\" class=\"lnk-doubanapp\">下载豆瓣客户端</a>\\n  <div id=\"doubanapp-tip\">\\n    <a href=\"https://www.douban.com/doubanapp/app?channel=qipao\" class=\"tip-link\">豆瓣 <span class=\"version\">6.0</span> 全新发布</a>\\n    <a href=\"javascript: void 0;\" class=\"tip-close\">×</a>\\n  </div>\\n  <div id=\"top-nav-appintro\" class=\"more-items\">\\n    <p class=\"appintro-title\">豆瓣</p>\\n    <p class=\"qrcode\">扫码直接下载</p>\\n    <div class=\"download\">\\n      <a href=\"https://www.douban.com/doubanapp/redirect?channel=top-nav&direct_dl=1&download=iOS\">iPhone</a>\\n      <span>·</span>\\n      <a href=\"https://www.douban.com/doubanapp/redirect?channel=top-nav&direct_dl=1&download=Android\" class=\"download-android\">Android</a>\\n    </div>\\n  </div>\\n</div>\\n\\n    \\n\\n\\n<div class=\"global-nav-items\">\\n  <ul>\\n    <li class=\"on\">\\n      <a href=\"https://www.douban.com\"  data-moreurl-dict=\"{&quot;from&quot;:&quot;top-nav-click-main&quot;,&quot;uid&quot;:&quot;140014301&quot;}\">豆瓣</a>\\n    </li>\\n    <li class=\"\">\\n      <a href=\"https://book.douban.com\" target=\"_blank\" data-moreurl-dict=\"{&quot;from&quot;:&quot;top-nav-click-book&quot;,&quot;uid&quot;:&quot;140014301&quot;}\">读书</a>\\n    </li>\\n    <li class=\"\">\\n      <a href=\"https://movie.douban.com\" target=\"_blank\" data-moreurl-dict=\"{&quot;from&quot;:&quot;top-nav-click-movie&quot;,&quot;uid&quot;:&quot;140014301&quot;}\">电影</a>\\n    </li>\\n    <li class=\"\">\\n      <a href=\"https://music.douban.com\" target=\"_blank\" data-moreurl-dict=\"{&quot;from&quot;:&quot;top-nav-click-music&quot;,&quot;uid&quot;:&quot;140014301&quot;}\">音乐</a>\\n    </li>\\n    <li class=\"\">\\n      <a href=\"https://www.douban.com/location\" target=\"_blank\" data-moreurl-dict=\"{&quot;from&quot;:&quot;top-nav-click-location&quot;,&quot;uid&quot;:&quot;140014301&quot;}\">同城</a>\\n    </li>\\n    <li class=\"\">\\n      <a href=\"https://www.douban.com/group\" target=\"_blank\" data-moreurl-dict=\"{&quot;from&quot;:&quot;top-nav-click-group&quot;,&quot;uid&quot;:&quot;140014301&quot;}\">小组</a>\\n    </li>\\n    <li class=\"\">\\n      <a href=\"https://read.douban.com&#47;?dcs=top-nav&amp;dcm=douban\" target=\"_blank\" data-moreurl-dict=\"{&quot;from&quot;:&quot;top-nav-click-read&quot;,&quot;uid&quot;:&quot;140014301&quot;}\">阅读</a>\\n    </li>\\n    <li class=\"\">\\n      <a href=\"https://douban.fm&#47;?from_=shire_top_nav\" target=\"_blank\" data-moreurl-dict=\"{&quot;from&quot;:&quot;top-nav-click-fm&quot;,&quot;uid&quot;:&quot;140014301&quot;}\">FM</a>\\n    </li>\\n    <li class=\"\">\\n      <a href=\"https://time.douban.com&#47;?dt_time_source=douban-web_top_nav\" target=\"_blank\" data-moreurl-dict=\"{&quot;from&quot;:&quot;top-nav-click-time&quot;,&quot;uid&quot;:&quot;140014301&quot;}\">时间</a>\\n    </li>\\n    <li class=\"\">\\n      <a href=\"https://market.douban.com&#47;?utm_campaign=douban_top_nav&amp;utm_source=douban&amp;utm_medium=pc_web\" target=\"_blank\" data-moreurl-dict=\"{&quot;from&quot;:&quot;top-nav-click-market&quot;,&quot;uid&quot;:&quot;140014301&quot;}\">豆品</a>\\n    </li>\\n    <li>\\n      <a href=\"#more\" class=\"bn-more\"><span>更多</span></a>\\n      <div class=\"more-items\">\\n        <table cellpadding=\"0\" cellspacing=\"0\">\\n          <tbody>\\n            <tr>\\n              <td>\\n                <a href=\"https://ypy.douban.com\" target=\"_blank\" data-moreurl-dict=\"{&quot;from&quot;:&quot;top-nav-click-ypy&quot;,&quot;uid&quot;:&quot;140014301&quot;}\">豆瓣摄影</a>\\n              </td>\\n            </tr>\\n          </tbody>\\n        </table>\\n      </div>\\n    </li>\\n  </ul>\\n</div>\\n\\n  </div>\\n</div>\\n<script>\\n  ;window._GLOBAL_NAV = {\\n    USER_ID: \"140014301\",\\n    UPLOAD_AUTH_TOKEN: \"140014301:d7b07d7c40082061fb26b5f98135626e3b98c907\",\\n    SSE_TOKEN: \"73e7fd6bcca89da0c4ba96381b03b1082c971ee8\",\\n    SSE_TIMESTAMP: \"1583321857\",\\n    DOUBAN_URL: \"https://www.douban.com\",\\n    N_NEW_NOTIS: 0,\\n    N_NEW_DOUMAIL: 0\\n  };\\n</script>\\n\\n\\n\\n    <script src=\"//img3.doubanio.com/dae/accounts/resources/f5f3d66/shire/bundle.js\" defer=\"defer\"></script>\\n\\n\\n\\n\\n  \\n\\n\\n\\n    <link href=\"//img3.doubanio.com/dae/accounts/resources/f5f3d66/sns/bundle.css\" rel=\"stylesheet\" type=\"text/css\">\\n\\n\\n\\n<div id=\"db-nav-sns\" class=\"nav\">\\n  <div class=\"nav-wrap\">\\n    <div class=\"nav-primary\">\\n     \\n      <div class=\"nav-logo\">\\n        <a href=\"https://www.douban.com\">豆瓣社区</a>\\n      </div>\\n\\n      <div class=\"nav-search\">\\n  <form action=\"https://www.douban.com/search\" method=\"get\">\\n\\t<fieldset>\\n      <legend>搜索：</legend>\\n\\t  <label for=\"inp-query\">搜索你感兴趣的内容和人...</label>\\n\\t  <div class=\"inp\">\\n\\t    <input type=\"hidden\" name=\"source\" value=\"suggest\">\\n\\t\\t<input id=\"inp-query\" name=\"q\" size=\"22\" maxlength=\"60\" autocomplete=\"off\" value=\"\">\\n\\t  </div>\\n\\t  <div class=\"inp-btn\"><input type=\"submit\" value=\"搜索\"></div>\\n\\t</fieldset>\\n  </form>\\n</div>\\n\\n      \\n\\n<div class=\"nav-items\">\\n  <ul>\\n    <li><a href=\"https://www.douban.com\">首页</a></li>\\n\\t<li><a href=\"https://www.douban.com/mine/\">我的豆瓣</a></li>\\n      <li>\\n        <a href=\"https://www.douban.com/explore\">\\n          浏览发现\\n        </a>\\n      </li>\\n      <li>\\n        <a href=\"https://www.douban.com/gallery\">\\n          话题广场\\n          <img src=\"https://img3.doubanio.com/f/shire/e49eca1517424a941871a2667a8957fd6c72d632/pics/new_menu.gif\" alt=\"new\" style=\"position: absolute; top: -7px; right: -13px;\" />\\n        </a>\\n      </li>\\n  </ul>\\n</div>\\n\\n    </div>\\n  </div>\\n</div>\\n\\n\\n\\n    <script src=\"//img3.doubanio.com/dae/accounts/resources/f5f3d66/sns/bundle.js\" defer=\"defer\"></script>\\n\\n\\n\\n\\n\\n\\n    <div id=\"wrapper\">\\n        \\n\\n        \\n<div id=\"content\">\\n    \\n\\n    <div class=\"grid-16-8 clearfix\">\\n        \\n        \\n        <div class=\"article\">\\n               \\n    \\n\\n        \\n\\n\\n\\n<div class=\"statuses-setting\">\\n<div class=\"hd\">\\n    <a href=\"#\" class=\"a_status_setting\">首页设置</a>\\n</div>\\n<div class=\"bd\" style=\"display:none;\">\\n  <i class=\"arrow\"></i>\\n  <div class=\"loading\">正在加载中...</div>\\n</div>\\n<p class=\"setting-tips\" style=\"display:none;\">设置成功! 相关内容后继会出现在你的首页上\\n</div>\\n<script>\\nEXPAND_SETTING_FORM = false;\\n</script>\\n\\n        <div id=\"statuses\">\\n            \\n\\n\\n\\n\\n\\n<div id=\"db-isay\" class=\"mod isay isay-disable has-commodity \">\\n\\t<form name=\"mbform\" method=\"post\" action=\"https://www.douban.com/\"><div style=\"display:none;\"><input type=\"hidden\" name=\"ck\" value=\"zV8Z\"/></div>\\n    <ul class=\"isay-links\">\\n      <li class=\"isay-main active\"><a data-action=\"main\" href=\"javascript:void(0);\">说句话</a></li>\\n      <li class=\"isay-pic\"><a data-action=\"pic\" href=\"javascript:void(0);\">发照片</a></li>\\n      <li class=\"isay-share\">\\n        <a data-action=\"share\" href=\"javascript:void(0);\">推荐网页</a>\\n      </li>\\n        <li class=\"notes-link\"><a class=\"\" href=\"https://www.douban.com/note/create\" title=\"添加日记\">写日记</a></li>\\n    </ul>\\n    <div class=\"item\">\\n      <p class=\"highlighter mention-highlighter\"></p>\\n      <p class=\"highlighter error-highlighter\"></p>\\n      <label id=\"isay-label\" for=\"isay-cont\">分享生活点滴...</label>\\n      <textarea data-minheight=\"70\" tabindex=\"1\" id=\"isay-cont\" name=\"comment\" rows=\"1\"></textarea>\\n    </div>\\n    <div id=\"isay-act-field\" class=\"isay-act\"></div>\\n    <div class=\"btn\">\\n      <span class=\"private\">\\n        <select name=\"privacy_and_reply_limit\" id=\"accessible\">\\n          <option value=\"P,\">所有人可见</option>\\n          <option value=\"X,\">仅自己可见</option>\\n          <option value=\",F\">关注的人可回应</option>\\n        </select>\\n        <a href=\"javascript:;;\">隐私和权限设置</a>\\n      </span>\\n      <span id=\"isay-counter\"></span>\\n      <span class=\"bn-submit bn-flat js-verify-account\" data-is-verified=\"True\" data-verify-url=\"https://www.douban.com/accounts/phone/verify\"><input id=\"isay-submit\" tabindex=\"1\" type=\"submit\" value=\"发布\"></span>\\n      <a target=\"_blank\" href=\"https://www.douban.com/service/bookmarklet\" class=\"lnk-share-tools\" onclick=\"moreurl(this, {from:\\'index_rec\\'})\" >添加网页推荐工具</a>\\n    </div>\\n  </form>\\n  <div class=\"btn-group\">\\n    <form charset=\"utf-8\" id=\"isay-upload\" data-action=\"pic\" action=\"/j/upload\" enctype=\"multipart/form-data\" method=\"post\"><div style=\"display:none;\"><input type=\"hidden\" name=\"ck\" value=\"zV8Z\"/></div>\\n    <input id=\"isay-upload-inp\" tabindex=\"2\" autocomplete=\"off\" data-action=\"pic\" name=\"image\" title=\"可传多张照片\" type=\"file\" multiple>\\n    </form>\\n    <a href=\"javascript:void(0);\" tabindex=\"-1\" data-action=\"pic\" class=\"ico ico-pic\" title=\"上传照片\">照片</a>\\n    <a href=\"javascript:void(0);\" tabindex=\"2\" data-action=\"topic\" class=\"ico ico-topic\" title=\"添加话题\">话题</a>\\n  </div>\\n</div>\\n<script>\\n    UPLOAD_AUTH_TOKEN = \\'140014301:2de50277b8048afa57ae64a04794a19e095d842c\\';\\n    UPLOAD_URL = \\'/j/upload\\';\\n    SWFUPLOAD_FILES = [\\'https://img3.doubanio.com/f/shire/9980cc8a72c270732194aaef2390a1f0a006f044/js/swfupload.js\\'];\\n    UPLOAD_LIMIT = 9;\\n    var isay_src = \"https://img3.doubanio.com/f/sns/3e9f89b45c2d496133be9c80f578b50dd734ada7/js/sns/widgets/isay_a.js\";\\n    var tagsug_src = \"https://img3.doubanio.com/f/sns/f24804bcb4d19163e924f68e4ffe49496eda68c4/js/sns/lib/tagsug.js\";\\n</script>\\n\\n\\n\\n\\n\\n\\n\\n\\n\\n            \\n\\n\\n\\n\\n\\n\\n\\n\\n\\n<div class=\"stream-items\">\\n  \\n\\n    \\n      \\n      \\n\\n\\n\\n\\n\\n\\n    \\n  \\n    <div class=\"new-status status-wrapper    saying\" data-sid=\"2849308445\" data-uid=\"140014301\" >\\n\\n    \\n      \\n\\n\\n\\n\\n\\n<div class=\"status-item\"\\n    data-sid=\"2849308445\"\\n    data-uid=\"140014301\"\\n    data-action=\"1\"\\n    data-target-type=\"sns\"\\n    data-object-kind=\"1018\"\\n    data-object-id=\"568938939\">\\n<div class=\"mod\" data-status-id=\"2849308445\">\\n  \\n  <div\\n    class=\"hd \"\\n    data-status-url=\"https://www.douban.com/people/140014301/status/2849308445/\">\\n    \\n  \\n    <div class=\"usr-pic\">\\n      <a href=\"https://www.douban.com/people/140014301/\"\\n        \\n  \\n  onclick=\"moreurl(this, {&#34;action&#34;: &#34;1&#34;, &#34;from&#34;: &#34;nmbp-2849308445&#34;, &#34;target_type&#34;: &#34;sns&#34;, &#34;object_kind&#34;: &#34;1018&#34;})\"\\n title=\"Hawk\">\\n        <img src=\"https://img3.doubanio.com/icon/u140014301-1.jpg\" alt=\"Hawk\"/>\\n      </a>\\n    </div>\\n  <div class=\"text\">\\n    <a href=\"https://www.douban.com/people/140014301/\" \\n  \\n  onclick=\"moreurl(this, {&#34;action&#34;: &#34;1&#34;, &#34;from&#34;: &#34;nmbp-2849308445&#34;, &#34;target_type&#34;: &#34;sns&#34;, &#34;object_kind&#34;: &#34;1018&#34;})\"\\n class=\"lnk-people\">Hawk</a>\\n\\n    说:\\n\\n\\n  </div>\\n\\n  </div>\\n\\n  <div class=\"bd sns\">\\n    \\n  \\n  <div class=\"status-saying\">\\n    \\n\\n<blockquote class=quote-clamp>\\n  \\n\\n  <p>hello world</p>\\n</blockquote>\\n\\n    \\n\\n\\n  </div>\\n\\n\\n  \\n\\n<div class=\"actions\">\\n  \\n  <span class=\"created_at\" title=\"2020-03-04 19:37:35\"><a href=\"https://www.douban.com/people/140014301/status/2849308445/\">刚刚</a></span>\\n\\n  <a href=\"https://www.douban.com/people/140014301/status/2849308445/\" class=\"btn btn-action-reply new-reply\" data-action-type=\"showComments\" data-count=\"0\">\\n    回应\\n  </a>\\n\\n\\n\\n    &nbsp;&nbsp;<a class=\"btn btn-key-reshare btn-reshare new-reshare \" data-action-type=\"reshare\" >转发</a>\\n\\n\\n  &nbsp;&nbsp;<a href=\"https://www.douban.com/people/140014301/status/2849308445/\" class=\"btn btn-action-reply-delete\" data-action-type=\"deleteStatus\" data-reshare=\"\">删除</a>\\n\\n</div>\\n\\n  <div class=\"others\">\\n    <div class=\"comments\">\\n      <div class=\"comments-items\"></div>\\n        \\n    </div>\\n  </div>\\n  </div>\\n</div>\\n</div>\\n\\n\\n\\n\\n    \\n    \\n\\n</div>\\n<!-- 2849308445, say.html, -->\\n\\n\\n\\n\\n      \\n    \\n      \\n      \\n\\n\\n\\n\\n\\n\\n    \\n  \\n    <div class=\"new-status status-wrapper    saying\" data-sid=\"2849286231\" data-uid=\"140014301\" >\\n\\n    \\n      \\n\\n\\n\\n\\n\\n<div class=\"status-item\"\\n    data-sid=\"2849286231\"\\n    data-uid=\"140014301\"\\n    data-action=\"1\"\\n    data-target-type=\"sns\"\\n    data-object-kind=\"1018\"\\n    data-object-id=\"568938817\">\\n<div class=\"mod\" data-status-id=\"2849286231\">\\n  \\n  <div\\n    class=\"hd \"\\n    data-status-url=\"https://www.douban.com/people/140014301/status/2849286231/\">\\n    \\n  \\n    <div class=\"usr-pic\">\\n      <a href=\"https://www.douban.com/people/140014301/\"\\n        \\n  \\n  onclick=\"moreurl(this, {&#34;action&#34;: &#34;1&#34;, &#34;from&#34;: &#34;nmbp-2849286231&#34;, &#34;target_type&#34;: &#34;sns&#34;, &#34;object_kind&#34;: &#34;1018&#34;})\"\\n title=\"Hawk\">\\n        <img src=\"https://img3.doubanio.com/icon/u140014301-1.jpg\" alt=\"Hawk\"/>\\n      </a>\\n    </div>\\n  <div class=\"text\">\\n    <a href=\"https://www.douban.com/people/140014301/\" \\n  \\n  onclick=\"moreurl(this, {&#34;action&#34;: &#34;1&#34;, &#34;from&#34;: &#34;nmbp-2849286231&#34;, &#34;target_type&#34;: &#34;sns&#34;, &#34;object_kind&#34;: &#34;1018&#34;})\"\\n class=\"lnk-people\">Hawk</a>\\n\\n    说:\\n\\n\\n  </div>\\n\\n  </div>\\n\\n  <div class=\"bd sns\">\\n    \\n  \\n  <div class=\"status-saying\">\\n    \\n\\n<blockquote class=quote-clamp>\\n  \\n\\n  <p>hello world</p>\\n</blockquote>\\n\\n    \\n\\n\\n  </div>\\n\\n\\n  \\n\\n<div class=\"actions\">\\n  \\n  <span class=\"created_at\" title=\"2020-03-04 19:23:46\"><a href=\"https://www.douban.com/people/140014301/status/2849286231/\">13分钟前</a></span>\\n\\n  <a href=\"https://www.douban.com/people/140014301/status/2849286231/\" class=\"btn btn-action-reply new-reply\" data-action-type=\"showComments\" data-count=\"0\">\\n    回应\\n  </a>\\n\\n\\n\\n    &nbsp;&nbsp;<a class=\"btn btn-key-reshare btn-reshare new-reshare \" data-action-type=\"reshare\" >转发</a>\\n\\n\\n  &nbsp;&nbsp;<a href=\"https://www.douban.com/people/140014301/status/2849286231/\" class=\"btn btn-action-reply-delete\" data-action-type=\"deleteStatus\" data-reshare=\"\">删除</a>\\n\\n</div>\\n\\n  <div class=\"others\">\\n    <div class=\"comments\">\\n      <div class=\"comments-items\"></div>\\n        \\n    </div>\\n  </div>\\n  </div>\\n</div>\\n</div>\\n\\n\\n\\n\\n    \\n    \\n\\n</div>\\n<!-- 2849286231, say.html, -->\\n\\n\\n\\n\\n      \\n    \\n      \\n      \\n\\n\\n\\n\\n\\n\\n    \\n  \\n    <div class=\"new-status status-wrapper    saying\" data-sid=\"2849285799\" data-uid=\"140014301\" >\\n\\n    \\n      \\n\\n\\n\\n\\n\\n<div class=\"status-item\"\\n    data-sid=\"2849285799\"\\n    data-uid=\"140014301\"\\n    data-action=\"1\"\\n    data-target-type=\"sns\"\\n    data-object-kind=\"1018\"\\n    data-object-id=\"568938814\">\\n<div class=\"mod\" data-status-id=\"2849285799\">\\n  \\n  <div\\n    class=\"hd \"\\n    data-status-url=\"https://www.douban.com/people/140014301/status/2849285799/\">\\n    \\n  \\n    <div class=\"usr-pic\">\\n      <a href=\"https://www.douban.com/people/140014301/\"\\n        \\n  \\n  onclick=\"moreurl(this, {&#34;action&#34;: &#34;1&#34;, &#34;from&#34;: &#34;nmbp-2849285799&#34;, &#34;target_type&#34;: &#34;sns&#34;, &#34;object_kind&#34;: &#34;1018&#34;})\"\\n title=\"Hawk\">\\n        <img src=\"https://img3.doubanio.com/icon/u140014301-1.jpg\" alt=\"Hawk\"/>\\n      </a>\\n    </div>\\n  <div class=\"text\">\\n    <a href=\"https://www.douban.com/people/140014301/\" \\n  \\n  onclick=\"moreurl(this, {&#34;action&#34;: &#34;1&#34;, &#34;from&#34;: &#34;nmbp-2849285799&#34;, &#34;target_type&#34;: &#34;sns&#34;, &#34;object_kind&#34;: &#34;1018&#34;})\"\\n class=\"lnk-people\">Hawk</a>\\n\\n    说:\\n\\n\\n  </div>\\n\\n  </div>\\n\\n  <div class=\"bd sns\">\\n    \\n  \\n  <div class=\"status-saying\">\\n    \\n\\n<blockquote class=quote-clamp>\\n  \\n\\n  <p>hello world</p>\\n</blockquote>\\n\\n    \\n\\n\\n  </div>\\n\\n\\n  \\n\\n<div class=\"actions\">\\n  \\n  <span class=\"created_at\" title=\"2020-03-04 19:23:26\"><a href=\"https://www.douban.com/people/140014301/status/2849285799/\">14分钟前</a></span>\\n\\n  <a href=\"https://www.douban.com/people/140014301/status/2849285799/\" class=\"btn btn-action-reply new-reply\" data-action-type=\"showComments\" data-count=\"0\">\\n    回应\\n  </a>\\n\\n\\n\\n    &nbsp;&nbsp;<a class=\"btn btn-key-reshare btn-reshare new-reshare \" data-action-type=\"reshare\" >转发</a>\\n\\n\\n  &nbsp;&nbsp;<a href=\"https://www.douban.com/people/140014301/status/2849285799/\" class=\"btn btn-action-reply-delete\" data-action-type=\"deleteStatus\" data-reshare=\"\">删除</a>\\n\\n</div>\\n\\n  <div class=\"others\">\\n    <div class=\"comments\">\\n      <div class=\"comments-items\"></div>\\n        \\n    </div>\\n  </div>\\n  </div>\\n</div>\\n</div>\\n\\n\\n\\n\\n    \\n    \\n\\n</div>\\n<!-- 2849285799, say.html, -->\\n\\n\\n\\n\\n      \\n    \\n      \\n      \\n\\n\\n\\n\\n\\n\\n    \\n  \\n    <div class=\"new-status status-wrapper    saying\" data-sid=\"2849285223\" data-uid=\"140014301\" >\\n\\n    \\n      \\n\\n\\n\\n\\n\\n<div class=\"status-item\"\\n    data-sid=\"2849285223\"\\n    data-uid=\"140014301\"\\n    data-action=\"1\"\\n    data-target-type=\"sns\"\\n    data-object-kind=\"1018\"\\n    data-object-id=\"568938810\">\\n<div class=\"mod\" data-status-id=\"2849285223\">\\n  \\n  <div\\n    class=\"hd \"\\n    data-status-url=\"https://www.douban.com/people/140014301/status/2849285223/\">\\n    \\n  \\n    <div class=\"usr-pic\">\\n      <a href=\"https://www.douban.com/people/140014301/\"\\n        \\n  \\n  onclick=\"moreurl(this, {&#34;action&#34;: &#34;1&#34;, &#34;from&#34;: &#34;nmbp-2849285223&#34;, &#34;target_type&#34;: &#34;sns&#34;, &#34;object_kind&#34;: &#34;1018&#34;})\"\\n title=\"Hawk\">\\n        <img src=\"https://img3.doubanio.com/icon/u140014301-1.jpg\" alt=\"Hawk\"/>\\n      </a>\\n    </div>\\n  <div class=\"text\">\\n    <a href=\"https://www.douban.com/people/140014301/\" \\n  \\n  onclick=\"moreurl(this, {&#34;action&#34;: &#34;1&#34;, &#34;from&#34;: &#34;nmbp-2849285223&#34;, &#34;target_type&#34;: &#34;sns&#34;, &#34;object_kind&#34;: &#34;1018&#34;})\"\\n class=\"lnk-people\">Hawk</a>\\n\\n    说:\\n\\n\\n  </div>\\n\\n  </div>\\n\\n  <div class=\"bd sns\">\\n    \\n  \\n  <div class=\"status-saying\">\\n    \\n\\n<blockquote class=quote-clamp>\\n  \\n\\n  <p>hello world</p>\\n</blockquote>\\n\\n    \\n\\n\\n  </div>\\n\\n\\n  \\n\\n<div class=\"actions\">\\n  \\n  <span class=\"created_at\" title=\"2020-03-04 19:23:05\"><a href=\"https://www.douban.com/people/140014301/status/2849285223/\">14分钟前</a></span>\\n\\n  <a href=\"https://www.douban.com/people/140014301/status/2849285223/\" class=\"btn btn-action-reply new-reply\" data-action-type=\"showComments\" data-count=\"0\">\\n    回应\\n  </a>\\n\\n\\n\\n    &nbsp;&nbsp;<a class=\"btn btn-key-reshare btn-reshare new-reshare \" data-action-type=\"reshare\" >转发</a>\\n\\n\\n  &nbsp;&nbsp;<a href=\"https://www.douban.com/people/140014301/status/2849285223/\" class=\"btn btn-action-reply-delete\" data-action-type=\"deleteStatus\" data-reshare=\"\">删除</a>\\n\\n</div>\\n\\n  <div class=\"others\">\\n    <div class=\"comments\">\\n      <div class=\"comments-items\"></div>\\n        \\n    </div>\\n  </div>\\n  </div>\\n</div>\\n</div>\\n\\n\\n\\n\\n    \\n    \\n\\n</div>\\n<!-- 2849285223, say.html, -->\\n\\n\\n\\n\\n      \\n    \\n      \\n      \\n\\n\\n\\n\\n\\n\\n    \\n  \\n    <div class=\"new-status status-wrapper    saying\" data-sid=\"2849284578\" data-uid=\"140014301\" >\\n\\n    \\n      \\n\\n\\n\\n\\n\\n<div class=\"status-item\"\\n    data-sid=\"2849284578\"\\n    data-uid=\"140014301\"\\n    data-action=\"1\"\\n    data-target-type=\"sns\"\\n    data-object-kind=\"1018\"\\n    data-object-id=\"568938804\">\\n<div class=\"mod\" data-status-id=\"2849284578\">\\n  \\n  <div\\n    class=\"hd \"\\n    data-status-url=\"https://www.douban.com/people/140014301/status/2849284578/\">\\n    \\n  \\n    <div class=\"usr-pic\">\\n      <a href=\"https://www.douban.com/people/140014301/\"\\n        \\n  \\n  onclick=\"moreurl(this, {&#34;action&#34;: &#34;1&#34;, &#34;from&#34;: &#34;nmbp-2849284578&#34;, &#34;target_type&#34;: &#34;sns&#34;, &#34;object_kind&#34;: &#34;1018&#34;})\"\\n title=\"Hawk\">\\n        <img src=\"https://img3.doubanio.com/icon/u140014301-1.jpg\" alt=\"Hawk\"/>\\n      </a>\\n    </div>\\n  <div class=\"text\">\\n    <a href=\"https://www.douban.com/people/140014301/\" \\n  \\n  onclick=\"moreurl(this, {&#34;action&#34;: &#34;1&#34;, &#34;from&#34;: &#34;nmbp-2849284578&#34;, &#34;target_type&#34;: &#34;sns&#34;, &#34;object_kind&#34;: &#34;1018&#34;})\"\\n class=\"lnk-people\">Hawk</a>\\n\\n    说:\\n\\n\\n  </div>\\n\\n  </div>\\n\\n  <div class=\"bd sns\">\\n    \\n  \\n  <div class=\"status-saying\">\\n    \\n\\n<blockquote class=quote-clamp>\\n  \\n\\n  <p>hello world</p>\\n</blockquote>\\n\\n    \\n\\n\\n  </div>\\n\\n\\n  \\n\\n<div class=\"actions\">\\n  \\n  <span class=\"created_at\" title=\"2020-03-04 19:22:42\"><a href=\"https://www.douban.com/people/140014301/status/2849284578/\">14分钟前</a></span>\\n\\n  <a href=\"https://www.douban.com/people/140014301/status/2849284578/\" class=\"btn btn-action-reply new-reply\" data-action-type=\"showComments\" data-count=\"0\">\\n    回应\\n  </a>\\n\\n\\n\\n    &nbsp;&nbsp;<a class=\"btn btn-key-reshare btn-reshare new-reshare \" data-action-type=\"reshare\" >转发</a>\\n\\n\\n  &nbsp;&nbsp;<a href=\"https://www.douban.com/people/140014301/status/2849284578/\" class=\"btn btn-action-reply-delete\" data-action-type=\"deleteStatus\" data-reshare=\"\">删除</a>\\n\\n</div>\\n\\n  <div class=\"others\">\\n    <div class=\"comments\">\\n      <div class=\"comments-items\"></div>\\n        \\n    </div>\\n  </div>\\n  </div>\\n</div>\\n</div>\\n\\n\\n\\n\\n    \\n    \\n\\n</div>\\n<!-- 2849284578, say.html, -->\\n\\n\\n\\n\\n      \\n    \\n      \\n      \\n\\n\\n\\n\\n\\n\\n    \\n  \\n    <div class=\"new-status status-wrapper    saying\" data-sid=\"2849283969\" data-uid=\"140014301\" >\\n\\n    \\n      \\n\\n\\n\\n\\n\\n<div class=\"status-item\"\\n    data-sid=\"2849283969\"\\n    data-uid=\"140014301\"\\n    data-action=\"1\"\\n    data-target-type=\"sns\"\\n    data-object-kind=\"1018\"\\n    data-object-id=\"568938799\">\\n<div class=\"mod\" data-status-id=\"2849283969\">\\n  \\n  <div\\n    class=\"hd \"\\n    data-status-url=\"https://www.douban.com/people/140014301/status/2849283969/\">\\n    \\n  \\n    <div class=\"usr-pic\">\\n      <a href=\"https://www.douban.com/people/140014301/\"\\n        \\n  \\n  onclick=\"moreurl(this, {&#34;action&#34;: &#34;1&#34;, &#34;from&#34;: &#34;nmbp-2849283969&#34;, &#34;target_type&#34;: &#34;sns&#34;, &#34;object_kind&#34;: &#34;1018&#34;})\"\\n title=\"Hawk\">\\n        <img src=\"https://img3.doubanio.com/icon/u140014301-1.jpg\" alt=\"Hawk\"/>\\n      </a>\\n    </div>\\n  <div class=\"text\">\\n    <a href=\"https://www.douban.com/people/140014301/\" \\n  \\n  onclick=\"moreurl(this, {&#34;action&#34;: &#34;1&#34;, &#34;from&#34;: &#34;nmbp-2849283969&#34;, &#34;target_type&#34;: &#34;sns&#34;, &#34;object_kind&#34;: &#34;1018&#34;})\"\\n class=\"lnk-people\">Hawk</a>\\n\\n    说:\\n\\n\\n  </div>\\n\\n  </div>\\n\\n  <div class=\"bd sns\">\\n    \\n  \\n  <div class=\"status-saying\">\\n    \\n\\n<blockquote class=quote-clamp>\\n  \\n\\n  <p>hello world</p>\\n</blockquote>\\n\\n    \\n\\n\\n  </div>\\n\\n\\n  \\n\\n<div class=\"actions\">\\n  \\n  <span class=\"created_at\" title=\"2020-03-04 19:22:19\"><a href=\"https://www.douban.com/people/140014301/status/2849283969/\">15分钟前</a></span>\\n\\n  <a href=\"https://www.douban.com/people/140014301/status/2849283969/\" class=\"btn btn-action-reply new-reply\" data-action-type=\"showComments\" data-count=\"0\">\\n    回应\\n  </a>\\n\\n\\n\\n    &nbsp;&nbsp;<a class=\"btn btn-key-reshare btn-reshare new-reshare \" data-action-type=\"reshare\" >转发</a>\\n\\n\\n  &nbsp;&nbsp;<a href=\"https://www.douban.com/people/140014301/status/2849283969/\" class=\"btn btn-action-reply-delete\" data-action-type=\"deleteStatus\" data-reshare=\"\">删除</a>\\n\\n</div>\\n\\n  <div class=\"others\">\\n    <div class=\"comments\">\\n      <div class=\"comments-items\"></div>\\n        \\n    </div>\\n  </div>\\n  </div>\\n</div>\\n</div>\\n\\n\\n\\n\\n    \\n    \\n\\n</div>\\n<!-- 2849283969, say.html, -->\\n\\n\\n\\n\\n      \\n    \\n      \\n      \\n\\n\\n\\n\\n\\n\\n    \\n  \\n    <div class=\"new-status status-wrapper    saying\" data-sid=\"2849283502\" data-uid=\"140014301\" >\\n\\n    \\n      \\n\\n\\n\\n\\n\\n<div class=\"status-item\"\\n    data-sid=\"2849283502\"\\n    data-uid=\"140014301\"\\n    data-action=\"1\"\\n    data-target-type=\"sns\"\\n    data-object-kind=\"1018\"\\n    data-object-id=\"568938795\">\\n<div class=\"mod\" data-status-id=\"2849283502\">\\n  \\n  <div\\n    class=\"hd \"\\n    data-status-url=\"https://www.douban.com/people/140014301/status/2849283502/\">\\n    \\n  \\n    <div class=\"usr-pic\">\\n      <a href=\"https://www.douban.com/people/140014301/\"\\n        \\n  \\n  onclick=\"moreurl(this, {&#34;action&#34;: &#34;1&#34;, &#34;from&#34;: &#34;nmbp-2849283502&#34;, &#34;target_type&#34;: &#34;sns&#34;, &#34;object_kind&#34;: &#34;1018&#34;})\"\\n title=\"Hawk\">\\n        <img src=\"https://img3.doubanio.com/icon/u140014301-1.jpg\" alt=\"Hawk\"/>\\n      </a>\\n    </div>\\n  <div class=\"text\">\\n    <a href=\"https://www.douban.com/people/140014301/\" \\n  \\n  onclick=\"moreurl(this, {&#34;action&#34;: &#34;1&#34;, &#34;from&#34;: &#34;nmbp-2849283502&#34;, &#34;target_type&#34;: &#34;sns&#34;, &#34;object_kind&#34;: &#34;1018&#34;})\"\\n class=\"lnk-people\">Hawk</a>\\n\\n    说:\\n\\n\\n  </div>\\n\\n  </div>\\n\\n  <div class=\"bd sns\">\\n    \\n  \\n  <div class=\"status-saying\">\\n    \\n\\n<blockquote class=quote-clamp>\\n  \\n\\n  <p>hello world</p>\\n</blockquote>\\n\\n    \\n\\n\\n  </div>\\n\\n\\n  \\n\\n<div class=\"actions\">\\n  \\n  <span class=\"created_at\" title=\"2020-03-04 19:21:59\"><a href=\"https://www.douban.com/people/140014301/status/2849283502/\">15分钟前</a></span>\\n\\n  <a href=\"https://www.douban.com/people/140014301/status/2849283502/\" class=\"btn btn-action-reply new-reply\" data-action-type=\"showComments\" data-count=\"0\">\\n    回应\\n  </a>\\n\\n\\n\\n    &nbsp;&nbsp;<a class=\"btn btn-key-reshare btn-reshare new-reshare \" data-action-type=\"reshare\" >转发</a>\\n\\n\\n  &nbsp;&nbsp;<a href=\"https://www.douban.com/people/140014301/status/2849283502/\" class=\"btn btn-action-reply-delete\" data-action-type=\"deleteStatus\" data-reshare=\"\">删除</a>\\n\\n</div>\\n\\n  <div class=\"others\">\\n    <div class=\"comments\">\\n      <div class=\"comments-items\"></div>\\n        \\n    </div>\\n  </div>\\n  </div>\\n</div>\\n</div>\\n\\n\\n\\n\\n    \\n    \\n\\n</div>\\n<!-- 2849283502, say.html, -->\\n\\n\\n\\n\\n      \\n    \\n      \\n      \\n\\n\\n\\n\\n\\n\\n    \\n  \\n    <div class=\"new-status status-wrapper    saying\" data-sid=\"2849282899\" data-uid=\"140014301\" >\\n\\n    \\n      \\n\\n\\n\\n\\n\\n<div class=\"status-item\"\\n    data-sid=\"2849282899\"\\n    data-uid=\"140014301\"\\n    data-action=\"1\"\\n    data-target-type=\"sns\"\\n    data-object-kind=\"1018\"\\n    data-object-id=\"568938790\">\\n<div class=\"mod\" data-status-id=\"2849282899\">\\n  \\n  <div\\n    class=\"hd \"\\n    data-status-url=\"https://www.douban.com/people/140014301/status/2849282899/\">\\n    \\n  \\n    <div class=\"usr-pic\">\\n      <a href=\"https://www.douban.com/people/140014301/\"\\n        \\n  \\n  onclick=\"moreurl(this, {&#34;action&#34;: &#34;1&#34;, &#34;from&#34;: &#34;nmbp-2849282899&#34;, &#34;target_type&#34;: &#34;sns&#34;, &#34;object_kind&#34;: &#34;1018&#34;})\"\\n title=\"Hawk\">\\n        <img src=\"https://img3.doubanio.com/icon/u140014301-1.jpg\" alt=\"Hawk\"/>\\n      </a>\\n    </div>\\n  <div class=\"text\">\\n    <a href=\"https://www.douban.com/people/140014301/\" \\n  \\n  onclick=\"moreurl(this, {&#34;action&#34;: &#34;1&#34;, &#34;from&#34;: &#34;nmbp-2849282899&#34;, &#34;target_type&#34;: &#34;sns&#34;, &#34;object_kind&#34;: &#34;1018&#34;})\"\\n class=\"lnk-people\">Hawk</a>\\n\\n    说:\\n\\n\\n  </div>\\n\\n  </div>\\n\\n  <div class=\"bd sns\">\\n    \\n  \\n  <div class=\"status-saying\">\\n    \\n\\n<blockquote class=quote-clamp>\\n  \\n\\n  <p>hello world</p>\\n</blockquote>\\n\\n    \\n\\n\\n  </div>\\n\\n\\n  \\n\\n<div class=\"actions\">\\n  \\n  <span class=\"created_at\" title=\"2020-03-04 19:21:34\"><a href=\"https://www.douban.com/people/140014301/status/2849282899/\">16分钟前</a></span>\\n\\n  <a href=\"https://www.douban.com/people/140014301/status/2849282899/\" class=\"btn btn-action-reply new-reply\" data-action-type=\"showComments\" data-count=\"0\">\\n    回应\\n  </a>\\n\\n\\n\\n    &nbsp;&nbsp;<a class=\"btn btn-key-reshare btn-reshare new-reshare \" data-action-type=\"reshare\" >转发</a>\\n\\n\\n  &nbsp;&nbsp;<a href=\"https://www.douban.com/people/140014301/status/2849282899/\" class=\"btn btn-action-reply-delete\" data-action-type=\"deleteStatus\" data-reshare=\"\">删除</a>\\n\\n</div>\\n\\n  <div class=\"others\">\\n    <div class=\"comments\">\\n      <div class=\"comments-items\"></div>\\n        \\n    </div>\\n  </div>\\n  </div>\\n</div>\\n</div>\\n\\n\\n\\n\\n    \\n    \\n\\n</div>\\n<!-- 2849282899, say.html, -->\\n\\n\\n\\n\\n      \\n    \\n      \\n      \\n\\n\\n\\n\\n\\n\\n    \\n  \\n    <div class=\"new-status status-wrapper    saying\" data-sid=\"2849282248\" data-uid=\"140014301\" >\\n\\n    \\n      \\n\\n\\n\\n\\n\\n<div class=\"status-item\"\\n    data-sid=\"2849282248\"\\n    data-uid=\"140014301\"\\n    data-action=\"1\"\\n    data-target-type=\"sns\"\\n    data-object-kind=\"1018\"\\n    data-object-id=\"568938787\">\\n<div class=\"mod\" data-status-id=\"2849282248\">\\n  \\n  <div\\n    class=\"hd \"\\n    data-status-url=\"https://www.douban.com/people/140014301/status/2849282248/\">\\n    \\n  \\n    <div class=\"usr-pic\">\\n      <a href=\"https://www.douban.com/people/140014301/\"\\n        \\n  \\n  onclick=\"moreurl(this, {&#34;action&#34;: &#34;1&#34;, &#34;from&#34;: &#34;nmbp-2849282248&#34;, &#34;target_type&#34;: &#34;sns&#34;, &#34;object_kind&#34;: &#34;1018&#34;})\"\\n title=\"Hawk\">\\n        <img src=\"https://img3.doubanio.com/icon/u140014301-1.jpg\" alt=\"Hawk\"/>\\n      </a>\\n    </div>\\n  <div class=\"text\">\\n    <a href=\"https://www.douban.com/people/140014301/\" \\n  \\n  onclick=\"moreurl(this, {&#34;action&#34;: &#34;1&#34;, &#34;from&#34;: &#34;nmbp-2849282248&#34;, &#34;target_type&#34;: &#34;sns&#34;, &#34;object_kind&#34;: &#34;1018&#34;})\"\\n class=\"lnk-people\">Hawk</a>\\n\\n    说:\\n\\n\\n  </div>\\n\\n  </div>\\n\\n  <div class=\"bd sns\">\\n    \\n  \\n  <div class=\"status-saying\">\\n    \\n\\n<blockquote class=quote-clamp>\\n  \\n\\n  <p>hello world</p>\\n</blockquote>\\n\\n    \\n\\n\\n  </div>\\n\\n\\n  \\n\\n<div class=\"actions\">\\n  \\n  <span class=\"created_at\" title=\"2020-03-04 19:21:10\"><a href=\"https://www.douban.com/people/140014301/status/2849282248/\">16分钟前</a></span>\\n\\n  <a href=\"https://www.douban.com/people/140014301/status/2849282248/\" class=\"btn btn-action-reply new-reply\" data-action-type=\"showComments\" data-count=\"0\">\\n    回应\\n  </a>\\n\\n\\n\\n    &nbsp;&nbsp;<a class=\"btn btn-key-reshare btn-reshare new-reshare \" data-action-type=\"reshare\" >转发</a>\\n\\n\\n  &nbsp;&nbsp;<a href=\"https://www.douban.com/people/140014301/status/2849282248/\" class=\"btn btn-action-reply-delete\" data-action-type=\"deleteStatus\" data-reshare=\"\">删除</a>\\n\\n</div>\\n\\n  <div class=\"others\">\\n    <div class=\"comments\">\\n      <div class=\"comments-items\"></div>\\n        \\n    </div>\\n  </div>\\n  </div>\\n</div>\\n</div>\\n\\n\\n\\n\\n    \\n    \\n\\n</div>\\n<!-- 2849282248, say.html, -->\\n\\n\\n\\n\\n      \\n    \\n      \\n      \\n\\n\\n\\n\\n\\n\\n    \\n  \\n    <div class=\"new-status status-wrapper    saying\" data-sid=\"2849281687\" data-uid=\"140014301\" >\\n\\n    \\n      \\n\\n\\n\\n\\n\\n<div class=\"status-item\"\\n    data-sid=\"2849281687\"\\n    data-uid=\"140014301\"\\n    data-action=\"1\"\\n    data-target-type=\"sns\"\\n    data-object-kind=\"1018\"\\n    data-object-id=\"568938785\">\\n<div class=\"mod\" data-status-id=\"2849281687\">\\n  \\n  <div\\n    class=\"hd \"\\n    data-status-url=\"https://www.douban.com/people/140014301/status/2849281687/\">\\n    \\n  \\n    <div class=\"usr-pic\">\\n      <a href=\"https://www.douban.com/people/140014301/\"\\n        \\n  \\n  onclick=\"moreurl(this, {&#34;action&#34;: &#34;1&#34;, &#34;from&#34;: &#34;nmbp-2849281687&#34;, &#34;target_type&#34;: &#34;sns&#34;, &#34;object_kind&#34;: &#34;1018&#34;})\"\\n title=\"Hawk\">\\n        <img src=\"https://img3.doubanio.com/icon/u140014301-1.jpg\" alt=\"Hawk\"/>\\n      </a>\\n    </div>\\n  <div class=\"text\">\\n    <a href=\"https://www.douban.com/people/140014301/\" \\n  \\n  onclick=\"moreurl(this, {&#34;action&#34;: &#34;1&#34;, &#34;from&#34;: &#34;nmbp-2849281687&#34;, &#34;target_type&#34;: &#34;sns&#34;, &#34;object_kind&#34;: &#34;1018&#34;})\"\\n class=\"lnk-people\">Hawk</a>\\n\\n    说:\\n\\n\\n  </div>\\n\\n  </div>\\n\\n  <div class=\"bd sns\">\\n    \\n  \\n  <div class=\"status-saying\">\\n    \\n\\n<blockquote class=quote-clamp>\\n  \\n\\n  <p>hello world</p>\\n</blockquote>\\n\\n    \\n\\n\\n  </div>\\n\\n\\n  \\n\\n<div class=\"actions\">\\n  \\n  <span class=\"created_at\" title=\"2020-03-04 19:20:51\"><a href=\"https://www.douban.com/people/140014301/status/2849281687/\">16分钟前</a></span>\\n\\n  <a href=\"https://www.douban.com/people/140014301/status/2849281687/\" class=\"btn btn-action-reply new-reply\" data-action-type=\"showComments\" data-count=\"0\">\\n    回应\\n  </a>\\n\\n\\n\\n    &nbsp;&nbsp;<a class=\"btn btn-key-reshare btn-reshare new-reshare \" data-action-type=\"reshare\" >转发</a>\\n\\n\\n  &nbsp;&nbsp;<a href=\"https://www.douban.com/people/140014301/status/2849281687/\" class=\"btn btn-action-reply-delete\" data-action-type=\"deleteStatus\" data-reshare=\"\">删除</a>\\n\\n</div>\\n\\n  <div class=\"others\">\\n    <div class=\"comments\">\\n      <div class=\"comments-items\"></div>\\n        \\n    </div>\\n  </div>\\n  </div>\\n</div>\\n</div>\\n\\n\\n\\n\\n    \\n    \\n\\n</div>\\n<!-- 2849281687, say.html, -->\\n\\n\\n\\n\\n      \\n    \\n      \\n      \\n\\n\\n\\n\\n\\n\\n    \\n  \\n    <div class=\"new-status status-wrapper    saying\" data-sid=\"2849281294\" data-uid=\"140014301\" >\\n\\n    \\n      \\n\\n\\n\\n\\n\\n<div class=\"status-item\"\\n    data-sid=\"2849281294\"\\n    data-uid=\"140014301\"\\n    data-action=\"1\"\\n    data-target-type=\"sns\"\\n    data-object-kind=\"1018\"\\n    data-object-id=\"568938780\">\\n<div class=\"mod\" data-status-id=\"2849281294\">\\n  \\n  <div\\n    class=\"hd \"\\n    data-status-url=\"https://www.douban.com/people/140014301/status/2849281294/\">\\n    \\n  \\n    <div class=\"usr-pic\">\\n      <a href=\"https://www.douban.com/people/140014301/\"\\n        \\n  \\n  onclick=\"moreurl(this, {&#34;action&#34;: &#34;1&#34;, &#34;from&#34;: &#34;nmbp-2849281294&#34;, &#34;target_type&#34;: &#34;sns&#34;, &#34;object_kind&#34;: &#34;1018&#34;})\"\\n title=\"Hawk\">\\n        <img src=\"https://img3.doubanio.com/icon/u140014301-1.jpg\" alt=\"Hawk\"/>\\n      </a>\\n    </div>\\n  <div class=\"text\">\\n    <a href=\"https://www.douban.com/people/140014301/\" \\n  \\n  onclick=\"moreurl(this, {&#34;action&#34;: &#34;1&#34;, &#34;from&#34;: &#34;nmbp-2849281294&#34;, &#34;target_type&#34;: &#34;sns&#34;, &#34;object_kind&#34;: &#34;1018&#34;})\"\\n class=\"lnk-people\">Hawk</a>\\n\\n    说:\\n\\n\\n  </div>\\n\\n  </div>\\n\\n  <div class=\"bd sns\">\\n    \\n  \\n  <div class=\"status-saying\">\\n    \\n\\n<blockquote class=quote-clamp>\\n  \\n\\n  <p>hello world</p>\\n</blockquote>\\n\\n    \\n\\n\\n  </div>\\n\\n\\n  \\n\\n<div class=\"actions\">\\n  \\n  <span class=\"created_at\" title=\"2020-03-04 19:20:31\"><a href=\"https://www.douban.com/people/140014301/status/2849281294/\">17分钟前</a></span>\\n\\n  <a href=\"https://www.douban.com/people/140014301/status/2849281294/\" class=\"btn btn-action-reply new-reply\" data-action-type=\"showComments\" data-count=\"0\">\\n    回应\\n  </a>\\n\\n\\n\\n    &nbsp;&nbsp;<a class=\"btn btn-key-reshare btn-reshare new-reshare \" data-action-type=\"reshare\" >转发</a>\\n\\n\\n  &nbsp;&nbsp;<a href=\"https://www.douban.com/people/140014301/status/2849281294/\" class=\"btn btn-action-reply-delete\" data-action-type=\"deleteStatus\" data-reshare=\"\">删除</a>\\n\\n</div>\\n\\n  <div class=\"others\">\\n    <div class=\"comments\">\\n      <div class=\"comments-items\"></div>\\n        \\n    </div>\\n  </div>\\n  </div>\\n</div>\\n</div>\\n\\n\\n\\n\\n    \\n    \\n\\n</div>\\n<!-- 2849281294, say.html, -->\\n\\n\\n\\n\\n      \\n    \\n      \\n      \\n\\n\\n\\n\\n\\n\\n    \\n  \\n    <div class=\"new-status status-wrapper    saying\" data-sid=\"2849280694\" data-uid=\"140014301\" >\\n\\n    \\n      \\n\\n\\n\\n\\n\\n<div class=\"status-item\"\\n    data-sid=\"2849280694\"\\n    data-uid=\"140014301\"\\n    data-action=\"1\"\\n    data-target-type=\"sns\"\\n    data-object-kind=\"1018\"\\n    data-object-id=\"568938773\">\\n<div class=\"mod\" data-status-id=\"2849280694\">\\n  \\n  <div\\n    class=\"hd \"\\n    data-status-url=\"https://www.douban.com/people/140014301/status/2849280694/\">\\n    \\n  \\n    <div class=\"usr-pic\">\\n      <a href=\"https://www.douban.com/people/140014301/\"\\n        \\n  \\n  onclick=\"moreurl(this, {&#34;action&#34;: &#34;1&#34;, &#34;from&#34;: &#34;nmbp-2849280694&#34;, &#34;target_type&#34;: &#34;sns&#34;, &#34;object_kind&#34;: &#34;1018&#34;})\"\\n title=\"Hawk\">\\n        <img src=\"https://img3.doubanio.com/icon/u140014301-1.jpg\" alt=\"Hawk\"/>\\n      </a>\\n    </div>\\n  <div class=\"text\">\\n    <a href=\"https://www.douban.com/people/140014301/\" \\n  \\n  onclick=\"moreurl(this, {&#34;action&#34;: &#34;1&#34;, &#34;from&#34;: &#34;nmbp-2849280694&#34;, &#34;target_type&#34;: &#34;sns&#34;, &#34;object_kind&#34;: &#34;1018&#34;})\"\\n class=\"lnk-people\">Hawk</a>\\n\\n    说:\\n\\n\\n  </div>\\n\\n  </div>\\n\\n  <div class=\"bd sns\">\\n    \\n  \\n  <div class=\"status-saying\">\\n    \\n\\n<blockquote class=quote-clamp>\\n  \\n\\n  <p>hello world</p>\\n</blockquote>\\n\\n    \\n\\n\\n  </div>\\n\\n\\n  \\n\\n<div class=\"actions\">\\n  \\n  <span class=\"created_at\" title=\"2020-03-04 19:20:07\"><a href=\"https://www.douban.com/people/140014301/status/2849280694/\">17分钟前</a></span>\\n\\n  <a href=\"https://www.douban.com/people/140014301/status/2849280694/\" class=\"btn btn-action-reply new-reply\" data-action-type=\"showComments\" data-count=\"0\">\\n    回应\\n  </a>\\n\\n\\n\\n    &nbsp;&nbsp;<a class=\"btn btn-key-reshare btn-reshare new-reshare \" data-action-type=\"reshare\" >转发</a>\\n\\n\\n  &nbsp;&nbsp;<a href=\"https://www.douban.com/people/140014301/status/2849280694/\" class=\"btn btn-action-reply-delete\" data-action-type=\"deleteStatus\" data-reshare=\"\">删除</a>\\n\\n</div>\\n\\n  <div class=\"others\">\\n    <div class=\"comments\">\\n      <div class=\"comments-items\"></div>\\n        \\n    </div>\\n  </div>\\n  </div>\\n</div>\\n</div>\\n\\n\\n\\n\\n    \\n    \\n\\n</div>\\n<!-- 2849280694, say.html, -->\\n\\n\\n\\n\\n      \\n    \\n      \\n      \\n\\n\\n\\n\\n\\n\\n    \\n  \\n    <div class=\"new-status status-wrapper    saying\" data-sid=\"2849277730\" data-uid=\"140014301\" >\\n\\n    \\n      \\n\\n\\n\\n\\n\\n<div class=\"status-item\"\\n    data-sid=\"2849277730\"\\n    data-uid=\"140014301\"\\n    data-action=\"1\"\\n    data-target-type=\"sns\"\\n    data-object-kind=\"1018\"\\n    data-object-id=\"568938750\">\\n<div class=\"mod\" data-status-id=\"2849277730\">\\n  \\n  <div\\n    class=\"hd \"\\n    data-status-url=\"https://www.douban.com/people/140014301/status/2849277730/\">\\n    \\n  \\n    <div class=\"usr-pic\">\\n      <a href=\"https://www.douban.com/people/140014301/\"\\n        \\n  \\n  onclick=\"moreurl(this, {&#34;action&#34;: &#34;1&#34;, &#34;from&#34;: &#34;nmbp-2849277730&#34;, &#34;target_type&#34;: &#34;sns&#34;, &#34;object_kind&#34;: &#34;1018&#34;})\"\\n title=\"Hawk\">\\n        <img src=\"https://img3.doubanio.com/icon/u140014301-1.jpg\" alt=\"Hawk\"/>\\n      </a>\\n    </div>\\n  <div class=\"text\">\\n    <a href=\"https://www.douban.com/people/140014301/\" \\n  \\n  onclick=\"moreurl(this, {&#34;action&#34;: &#34;1&#34;, &#34;from&#34;: &#34;nmbp-2849277730&#34;, &#34;target_type&#34;: &#34;sns&#34;, &#34;object_kind&#34;: &#34;1018&#34;})\"\\n class=\"lnk-people\">Hawk</a>\\n\\n    说:\\n\\n\\n  </div>\\n\\n  </div>\\n\\n  <div class=\"bd sns\">\\n    \\n  \\n  <div class=\"status-saying\">\\n    \\n\\n<blockquote class=quote-clamp>\\n  \\n\\n  <p>hello world</p>\\n</blockquote>\\n\\n    \\n\\n\\n  </div>\\n\\n\\n  \\n\\n<div class=\"actions\">\\n  \\n  <span class=\"created_at\" title=\"2020-03-04 19:18:11\"><a href=\"https://www.douban.com/people/140014301/status/2849277730/\">19分钟前</a></span>\\n\\n  <a href=\"https://www.douban.com/people/140014301/status/2849277730/\" class=\"btn btn-action-reply new-reply\" data-action-type=\"showComments\" data-count=\"0\">\\n    回应\\n  </a>\\n\\n\\n\\n    &nbsp;&nbsp;<a class=\"btn btn-key-reshare btn-reshare new-reshare \" data-action-type=\"reshare\" >转发</a>\\n\\n\\n  &nbsp;&nbsp;<a href=\"https://www.douban.com/people/140014301/status/2849277730/\" class=\"btn btn-action-reply-delete\" data-action-type=\"deleteStatus\" data-reshare=\"\">删除</a>\\n\\n</div>\\n\\n  <div class=\"others\">\\n    <div class=\"comments\">\\n      <div class=\"comments-items\"></div>\\n        \\n    </div>\\n  </div>\\n  </div>\\n</div>\\n</div>\\n\\n\\n\\n\\n    \\n    \\n\\n</div>\\n<!-- 2849277730, say.html, -->\\n\\n\\n\\n\\n      \\n    \\n      \\n      \\n\\n\\n\\n\\n\\n\\n    \\n  \\n    <div class=\"new-status status-wrapper    saying\" data-sid=\"2845334158\" data-uid=\"140014301\" >\\n\\n    \\n      \\n\\n\\n\\n\\n\\n<div class=\"status-item\"\\n    data-sid=\"2845334158\"\\n    data-uid=\"140014301\"\\n    data-action=\"1\"\\n    data-target-type=\"sns\"\\n    data-object-kind=\"1018\"\\n    data-object-id=\"568914261\">\\n<div class=\"mod\" data-status-id=\"2845334158\">\\n  \\n  <div\\n    class=\"hd \"\\n    data-status-url=\"https://www.douban.com/people/140014301/status/2845334158/\">\\n    \\n  \\n    <div class=\"usr-pic\">\\n      <a href=\"https://www.douban.com/people/140014301/\"\\n        \\n  \\n  onclick=\"moreurl(this, {&#34;action&#34;: &#34;1&#34;, &#34;from&#34;: &#34;nmbp-2845334158&#34;, &#34;target_type&#34;: &#34;sns&#34;, &#34;object_kind&#34;: &#34;1018&#34;})\"\\n title=\"Hawk\">\\n        <img src=\"https://img3.doubanio.com/icon/u140014301-1.jpg\" alt=\"Hawk\"/>\\n      </a>\\n    </div>\\n  <div class=\"text\">\\n    <a href=\"https://www.douban.com/people/140014301/\" \\n  \\n  onclick=\"moreurl(this, {&#34;action&#34;: &#34;1&#34;, &#34;from&#34;: &#34;nmbp-2845334158&#34;, &#34;target_type&#34;: &#34;sns&#34;, &#34;object_kind&#34;: &#34;1018&#34;})\"\\n class=\"lnk-people\">Hawk</a>\\n\\n    说:\\n\\n\\n  </div>\\n\\n  </div>\\n\\n  <div class=\"bd sns\">\\n    \\n  \\n  <div class=\"status-saying\">\\n    \\n\\n<blockquote class=quote-clamp>\\n  \\n\\n  <p>hello world</p>\\n</blockquote>\\n\\n    \\n\\n\\n  </div>\\n\\n\\n  \\n\\n<div class=\"actions\">\\n  \\n  <span class=\"created_at\" title=\"2020-03-02 18:47:18\"><a href=\"https://www.douban.com/people/140014301/status/2845334158/\">3月2日</a></span>\\n\\n  <a href=\"https://www.douban.com/people/140014301/status/2845334158/\" class=\"btn btn-action-reply new-reply\" data-action-type=\"showComments\" data-count=\"0\">\\n    回应\\n  </a>\\n\\n\\n\\n    &nbsp;&nbsp;<a class=\"btn btn-key-reshare btn-reshare new-reshare \" data-action-type=\"reshare\" >转发</a>\\n\\n\\n  &nbsp;&nbsp;<a href=\"https://www.douban.com/people/140014301/status/2845334158/\" class=\"btn btn-action-reply-delete\" data-action-type=\"deleteStatus\" data-reshare=\"\">删除</a>\\n\\n</div>\\n\\n  <div class=\"others\">\\n    <div class=\"comments\">\\n      <div class=\"comments-items\"></div>\\n        \\n    </div>\\n  </div>\\n  </div>\\n</div>\\n</div>\\n\\n\\n\\n\\n    \\n    \\n\\n</div>\\n<!-- 2845334158, say.html, -->\\n\\n\\n\\n\\n      \\n    \\n      \\n      \\n\\n\\n\\n\\n\\n\\n    \\n  \\n    <div class=\"new-status status-wrapper    saying\" data-sid=\"2823238525\" data-uid=\"140014301\" >\\n\\n    \\n      \\n\\n\\n\\n\\n\\n<div class=\"status-item\"\\n    data-sid=\"2823238525\"\\n    data-uid=\"140014301\"\\n    data-action=\"1\"\\n    data-target-type=\"sns\"\\n    data-object-kind=\"1018\"\\n    data-object-id=\"568792966\">\\n<div class=\"mod\" data-status-id=\"2823238525\">\\n  \\n  <div\\n    class=\"hd \"\\n    data-status-url=\"https://www.douban.com/people/140014301/status/2823238525/\">\\n    \\n  \\n    <div class=\"usr-pic\">\\n      <a href=\"https://www.douban.com/people/140014301/\"\\n        \\n  \\n  onclick=\"moreurl(this, {&#34;action&#34;: &#34;1&#34;, &#34;from&#34;: &#34;nmbp-2823238525&#34;, &#34;target_type&#34;: &#34;sns&#34;, &#34;object_kind&#34;: &#34;1018&#34;})\"\\n title=\"Hawk\">\\n        <img src=\"https://img3.doubanio.com/icon/u140014301-1.jpg\" alt=\"Hawk\"/>\\n      </a>\\n    </div>\\n  <div class=\"text\">\\n    <a href=\"https://www.douban.com/people/140014301/\" \\n  \\n  onclick=\"moreurl(this, {&#34;action&#34;: &#34;1&#34;, &#34;from&#34;: &#34;nmbp-2823238525&#34;, &#34;target_type&#34;: &#34;sns&#34;, &#34;object_kind&#34;: &#34;1018&#34;})\"\\n class=\"lnk-people\">Hawk</a>\\n\\n    说:\\n\\n\\n  </div>\\n\\n  </div>\\n\\n  <div class=\"bd sns\">\\n    \\n  \\n  <div class=\"status-saying\">\\n    \\n\\n<blockquote class=quote-clamp>\\n  \\n\\n  <p>hfgjh</p>\\n</blockquote>\\n\\n    \\n\\n\\n  </div>\\n\\n\\n  \\n\\n<div class=\"actions\">\\n  \\n  <span class=\"created_at\" title=\"2020-02-20 20:59:59\"><a href=\"https://www.douban.com/people/140014301/status/2823238525/\">2月20日</a></span>\\n\\n  <a href=\"https://www.douban.com/people/140014301/status/2823238525/\" class=\"btn btn-action-reply new-reply\" data-action-type=\"showComments\" data-count=\"0\">\\n    回应\\n  </a>\\n\\n\\n\\n    &nbsp;&nbsp;<a class=\"btn btn-key-reshare btn-reshare new-reshare \" data-action-type=\"reshare\" >转发</a>\\n\\n\\n  &nbsp;&nbsp;<a href=\"https://www.douban.com/people/140014301/status/2823238525/\" class=\"btn btn-action-reply-delete\" data-action-type=\"deleteStatus\" data-reshare=\"\">删除</a>\\n\\n</div>\\n\\n  <div class=\"others\">\\n    <div class=\"comments\">\\n      <div class=\"comments-items\"></div>\\n        \\n    </div>\\n  </div>\\n  </div>\\n</div>\\n</div>\\n\\n\\n\\n\\n    \\n    \\n\\n</div>\\n<!-- 2823238525, say.html, -->\\n\\n\\n\\n\\n      \\n    \\n      \\n      \\n\\n\\n\\n\\n\\n\\n    \\n  \\n    <div class=\"new-status status-wrapper    saying\" data-sid=\"2822780190\" data-uid=\"140014301\" >\\n\\n    \\n      \\n\\n\\n\\n\\n\\n<div class=\"status-item\"\\n    data-sid=\"2822780190\"\\n    data-uid=\"140014301\"\\n    data-action=\"1\"\\n    data-target-type=\"sns\"\\n    data-object-kind=\"1018\"\\n    data-object-id=\"568790334\">\\n<div class=\"mod\" data-status-id=\"2822780190\">\\n  \\n  <div\\n    class=\"hd \"\\n    data-status-url=\"https://www.douban.com/people/140014301/status/2822780190/\">\\n    \\n  \\n    <div class=\"usr-pic\">\\n      <a href=\"https://www.douban.com/people/140014301/\"\\n        \\n  \\n  onclick=\"moreurl(this, {&#34;action&#34;: &#34;1&#34;, &#34;from&#34;: &#34;nmbp-2822780190&#34;, &#34;target_type&#34;: &#34;sns&#34;, &#34;object_kind&#34;: &#34;1018&#34;})\"\\n title=\"Hawk\">\\n        <img src=\"https://img3.doubanio.com/icon/u140014301-1.jpg\" alt=\"Hawk\"/>\\n      </a>\\n    </div>\\n  <div class=\"text\">\\n    <a href=\"https://www.douban.com/people/140014301/\" \\n  \\n  onclick=\"moreurl(this, {&#34;action&#34;: &#34;1&#34;, &#34;from&#34;: &#34;nmbp-2822780190&#34;, &#34;target_type&#34;: &#34;sns&#34;, &#34;object_kind&#34;: &#34;1018&#34;})\"\\n class=\"lnk-people\">Hawk</a>\\n\\n    说:\\n\\n\\n  </div>\\n\\n  </div>\\n\\n  <div class=\"bd sns\">\\n    \\n  \\n  <div class=\"status-saying\">\\n    \\n\\n<blockquote class=quote-clamp>\\n  \\n\\n  <p>hello world</p>\\n</blockquote>\\n\\n    \\n\\n\\n  </div>\\n\\n\\n  \\n\\n<div class=\"actions\">\\n  \\n  <span class=\"created_at\" title=\"2020-02-20 16:47:52\"><a href=\"https://www.douban.com/people/140014301/status/2822780190/\">2月20日</a></span>\\n\\n  <a href=\"https://www.douban.com/people/140014301/status/2822780190/\" class=\"btn btn-action-reply new-reply\" data-action-type=\"showComments\" data-count=\"0\">\\n    回应\\n  </a>\\n\\n\\n\\n    &nbsp;&nbsp;<a class=\"btn btn-key-reshare btn-reshare new-reshare \" data-action-type=\"reshare\" >转发</a>\\n\\n\\n  &nbsp;&nbsp;<a href=\"https://www.douban.com/people/140014301/status/2822780190/\" class=\"btn btn-action-reply-delete\" data-action-type=\"deleteStatus\" data-reshare=\"\">删除</a>\\n\\n</div>\\n\\n  <div class=\"others\">\\n    <div class=\"comments\">\\n      <div class=\"comments-items\"></div>\\n        \\n    </div>\\n  </div>\\n  </div>\\n</div>\\n</div>\\n\\n\\n\\n\\n    \\n    \\n\\n</div>\\n<!-- 2822780190, say.html, -->\\n\\n\\n\\n\\n      \\n    \\n      \\n      \\n\\n\\n\\n\\n\\n\\n    \\n  \\n    <div class=\"new-status status-wrapper    saying\" data-sid=\"2822769950\" data-uid=\"140014301\" >\\n\\n    \\n      \\n\\n\\n\\n\\n\\n<div class=\"status-item\"\\n    data-sid=\"2822769950\"\\n    data-uid=\"140014301\"\\n    data-action=\"1\"\\n    data-target-type=\"sns\"\\n    data-object-kind=\"1018\"\\n    data-object-id=\"568790239\">\\n<div class=\"mod\" data-status-id=\"2822769950\">\\n  \\n  <div\\n    class=\"hd \"\\n    data-status-url=\"https://www.douban.com/people/140014301/status/2822769950/\">\\n    \\n  \\n    <div class=\"usr-pic\">\\n      <a href=\"https://www.douban.com/people/140014301/\"\\n        \\n  \\n  onclick=\"moreurl(this, {&#34;action&#34;: &#34;1&#34;, &#34;from&#34;: &#34;nmbp-2822769950&#34;, &#34;target_type&#34;: &#34;sns&#34;, &#34;object_kind&#34;: &#34;1018&#34;})\"\\n title=\"Hawk\">\\n        <img src=\"https://img3.doubanio.com/icon/u140014301-1.jpg\" alt=\"Hawk\"/>\\n      </a>\\n    </div>\\n  <div class=\"text\">\\n    <a href=\"https://www.douban.com/people/140014301/\" \\n  \\n  onclick=\"moreurl(this, {&#34;action&#34;: &#34;1&#34;, &#34;from&#34;: &#34;nmbp-2822769950&#34;, &#34;target_type&#34;: &#34;sns&#34;, &#34;object_kind&#34;: &#34;1018&#34;})\"\\n class=\"lnk-people\">Hawk</a>\\n\\n    说:\\n\\n\\n  </div>\\n\\n  </div>\\n\\n  <div class=\"bd sns\">\\n    \\n  \\n  <div class=\"status-saying\">\\n    \\n\\n<blockquote class=quote-clamp>\\n  \\n\\n  <p>hello world</p>\\n</blockquote>\\n\\n    \\n\\n\\n  </div>\\n\\n\\n  \\n\\n<div class=\"actions\">\\n  \\n  <span class=\"created_at\" title=\"2020-02-20 16:41:34\"><a href=\"https://www.douban.com/people/140014301/status/2822769950/\">2月20日</a></span>\\n\\n  <a href=\"https://www.douban.com/people/140014301/status/2822769950/\" class=\"btn btn-action-reply new-reply\" data-action-type=\"showComments\" data-count=\"0\">\\n    回应\\n  </a>\\n\\n\\n\\n    &nbsp;&nbsp;<a class=\"btn btn-key-reshare btn-reshare new-reshare \" data-action-type=\"reshare\" >转发</a>\\n\\n\\n  &nbsp;&nbsp;<a href=\"https://www.douban.com/people/140014301/status/2822769950/\" class=\"btn btn-action-reply-delete\" data-action-type=\"deleteStatus\" data-reshare=\"\">删除</a>\\n\\n</div>\\n\\n  <div class=\"others\">\\n    <div class=\"comments\">\\n      <div class=\"comments-items\"></div>\\n        \\n    </div>\\n  </div>\\n  </div>\\n</div>\\n</div>\\n\\n\\n\\n\\n    \\n    \\n\\n</div>\\n<!-- 2822769950, say.html, -->\\n\\n\\n\\n\\n      \\n    \\n      \\n      \\n\\n\\n\\n\\n\\n\\n    \\n  \\n    <div class=\"new-status status-wrapper    saying\" data-sid=\"2822718314\" data-uid=\"140014301\" >\\n\\n    \\n      \\n\\n\\n\\n\\n\\n<div class=\"status-item\"\\n    data-sid=\"2822718314\"\\n    data-uid=\"140014301\"\\n    data-action=\"1\"\\n    data-target-type=\"sns\"\\n    data-object-kind=\"1018\"\\n    data-object-id=\"568789771\">\\n<div class=\"mod\" data-status-id=\"2822718314\">\\n  \\n  <div\\n    class=\"hd \"\\n    data-status-url=\"https://www.douban.com/people/140014301/status/2822718314/\">\\n    \\n  \\n    <div class=\"usr-pic\">\\n      <a href=\"https://www.douban.com/people/140014301/\"\\n        \\n  \\n  onclick=\"moreurl(this, {&#34;action&#34;: &#34;1&#34;, &#34;from&#34;: &#34;nmbp-2822718314&#34;, &#34;target_type&#34;: &#34;sns&#34;, &#34;object_kind&#34;: &#34;1018&#34;})\"\\n title=\"Hawk\">\\n        <img src=\"https://img3.doubanio.com/icon/u140014301-1.jpg\" alt=\"Hawk\"/>\\n      </a>\\n    </div>\\n  <div class=\"text\">\\n    <a href=\"https://www.douban.com/people/140014301/\" \\n  \\n  onclick=\"moreurl(this, {&#34;action&#34;: &#34;1&#34;, &#34;from&#34;: &#34;nmbp-2822718314&#34;, &#34;target_type&#34;: &#34;sns&#34;, &#34;object_kind&#34;: &#34;1018&#34;})\"\\n class=\"lnk-people\">Hawk</a>\\n\\n    说:\\n\\n\\n  </div>\\n\\n  </div>\\n\\n  <div class=\"bd sns\">\\n    \\n  \\n  <div class=\"status-saying\">\\n    \\n\\n<blockquote class=quote-clamp>\\n  \\n\\n  <p>1111</p>\\n</blockquote>\\n\\n    \\n\\n\\n  </div>\\n\\n\\n  \\n\\n<div class=\"actions\">\\n  \\n  <span class=\"created_at\" title=\"2020-02-20 16:08:03\"><a href=\"https://www.douban.com/people/140014301/status/2822718314/\">2月20日</a></span>\\n\\n  <a href=\"https://www.douban.com/people/140014301/status/2822718314/\" class=\"btn btn-action-reply new-reply\" data-action-type=\"showComments\" data-count=\"0\">\\n    回应\\n  </a>\\n\\n\\n\\n    &nbsp;&nbsp;<a class=\"btn btn-key-reshare btn-reshare new-reshare \" data-action-type=\"reshare\" >转发</a>\\n\\n\\n  &nbsp;&nbsp;<a href=\"https://www.douban.com/people/140014301/status/2822718314/\" class=\"btn btn-action-reply-delete\" data-action-type=\"deleteStatus\" data-reshare=\"\">删除</a>\\n\\n</div>\\n\\n  <div class=\"others\">\\n    <div class=\"comments\">\\n      <div class=\"comments-items\"></div>\\n        \\n    </div>\\n  </div>\\n  </div>\\n</div>\\n</div>\\n\\n\\n\\n\\n    \\n    \\n\\n</div>\\n<!-- 2822718314, say.html, -->\\n\\n\\n\\n\\n      \\n    \\n      \\n      \\n\\n\\n\\n\\n\\n\\n    \\n  \\n    <div class=\"new-status status-wrapper    saying\" data-sid=\"2822710087\" data-uid=\"140014301\" >\\n\\n    \\n      \\n\\n\\n\\n\\n\\n<div class=\"status-item\"\\n    data-sid=\"2822710087\"\\n    data-uid=\"140014301\"\\n    data-action=\"1\"\\n    data-target-type=\"sns\"\\n    data-object-kind=\"1018\"\\n    data-object-id=\"568789672\">\\n<div class=\"mod\" data-status-id=\"2822710087\">\\n  \\n  <div\\n    class=\"hd \"\\n    data-status-url=\"https://www.douban.com/people/140014301/status/2822710087/\">\\n    \\n  \\n    <div class=\"usr-pic\">\\n      <a href=\"https://www.douban.com/people/140014301/\"\\n        \\n  \\n  onclick=\"moreurl(this, {&#34;action&#34;: &#34;1&#34;, &#34;from&#34;: &#34;nmbp-2822710087&#34;, &#34;target_type&#34;: &#34;sns&#34;, &#34;object_kind&#34;: &#34;1018&#34;})\"\\n title=\"Hawk\">\\n        <img src=\"https://img3.doubanio.com/icon/u140014301-1.jpg\" alt=\"Hawk\"/>\\n      </a>\\n    </div>\\n  <div class=\"text\">\\n    <a href=\"https://www.douban.com/people/140014301/\" \\n  \\n  onclick=\"moreurl(this, {&#34;action&#34;: &#34;1&#34;, &#34;from&#34;: &#34;nmbp-2822710087&#34;, &#34;target_type&#34;: &#34;sns&#34;, &#34;object_kind&#34;: &#34;1018&#34;})\"\\n class=\"lnk-people\">Hawk</a>\\n\\n    说:\\n\\n\\n  </div>\\n\\n  </div>\\n\\n  <div class=\"bd sns\">\\n    \\n  \\n  <div class=\"status-saying\">\\n    \\n\\n<blockquote class=quote-clamp>\\n  \\n\\n  <p>asdfasd</p>\\n</blockquote>\\n\\n    \\n\\n\\n  </div>\\n\\n\\n  \\n\\n<div class=\"actions\">\\n  \\n  <span class=\"created_at\" title=\"2020-02-20 16:02:37\"><a href=\"https://www.douban.com/people/140014301/status/2822710087/\">2月20日</a></span>\\n\\n  <a href=\"https://www.douban.com/people/140014301/status/2822710087/\" class=\"btn btn-action-reply new-reply\" data-action-type=\"showComments\" data-count=\"0\">\\n    回应\\n  </a>\\n\\n\\n\\n    &nbsp;&nbsp;<a class=\"btn btn-key-reshare btn-reshare new-reshare \" data-action-type=\"reshare\" >转发</a>\\n\\n\\n  &nbsp;&nbsp;<a href=\"https://www.douban.com/people/140014301/status/2822710087/\" class=\"btn btn-action-reply-delete\" data-action-type=\"deleteStatus\" data-reshare=\"\">删除</a>\\n\\n</div>\\n\\n  <div class=\"others\">\\n    <div class=\"comments\">\\n      <div class=\"comments-items\"></div>\\n        \\n    </div>\\n  </div>\\n  </div>\\n</div>\\n</div>\\n\\n\\n\\n\\n    \\n    \\n\\n</div>\\n<!-- 2822710087, say.html, -->\\n\\n\\n\\n\\n      \\n    \\n      \\n      \\n\\n\\n\\n\\n\\n\\n    \\n  \\n    <div class=\"new-status status-wrapper    \" data-sid=\"2726525573\" data-uid=\"900117594\" >\\n\\n    \\n      \\n\\n\\n\\n\\n\\n\\n<div class=\"status-item\"\\n    data-sid=\"2726525573\"\\n    data-uid=\"81343016\"\\n    data-action=\"\"\\n    data-target-type=\"editor\"\\n    data-object-kind=\"1015\"\\n    data-object-id=\"745031387\">\\n<div class=\"mod\" data-status-id=\"2726525573\">\\n  \\n  <div\\n    class=\"hd \"\\n    data-status-url=\"https://www.douban.com/people/malorie0991/status/2726525573/\">\\n    \\n\\n  <div class=\"usr-pic\">\\n    <a href=\"https://www.douban.com/people/malorie0991/\" \\n  \\n  onclick=\"moreurl(this, {&#34;action&#34;: &#34;&#34;, &#34;from&#34;: &#34;nmbp-2726525573&#34;, &#34;target_type&#34;: &#34;editor&#34;, &#34;object_kind&#34;: &#34;1015&#34;})\"\\n title=\"Malorie\"><img src=\"https://img1.doubanio.com/icon/u81343016-8.jpg\" alt=\"Malorie\"/></a>\\n  </div>\\n  <div class=\"text\">\\n    <a href=\"https://www.douban.com/people/malorie0991/\" \\n  \\n  onclick=\"moreurl(this, {&#34;action&#34;: &#34;&#34;, &#34;from&#34;: &#34;nmbp-2726525573&#34;, &#34;target_type&#34;: &#34;editor&#34;, &#34;object_kind&#34;: &#34;1015&#34;})\"\\n class=\"lnk-people\">Malorie</a>\\n    \\n    \\n\\n\\n  </div>\\n\\n  </div>\\n\\n  <div class=\"bd editor\">\\n    \\n\\n<div class=\"block note-block\" data-url=\"https://www.douban.com/note/745031387/\">\\n\\n  <div class=\"content\">\\n    <div class=\"title\">\\n      <a href=\"https://www.douban.com/note/745031387/\" \\n  \\n  onclick=\"moreurl(this, {&#34;action&#34;: &#34;&#34;, &#34;from&#34;: &#34;nmb-2726525573&#34;, &#34;target_type&#34;: &#34;editor&#34;, &#34;object_kind&#34;: &#34;1015&#34;})\"\\n>21 身份危机 |Model Minority</a>\\n    </div>\\n    <p>Someone like me can be a real nightmare, completely aware But I&#39;d rather be a real nightmare than die unaware So save me your prayers 一直很想写这篇日记，却因为太贴近真实的自我...</p>\\n  </div>\\n\\n</div>\\n<div class=\"attachment\">\\n</div>\\n\\n\\n    <div class=\"actions\">\\n        \\n        <span class=\"created_at\" title=\"2019-12-14 10:18:01\">\\n            2019年12月14日<span class=\"ghost\">，来自 <a href=\"https://www.douban.com/interest/1/1/\">热门精选</a></span>\\n        </span>\\n    </div>\\n  </div>\\n</div>\\n</div>\\n\\n\\n\\n\\n    \\n    \\n\\n</div>\\n<!-- 2726525573, note.html, -->\\n\\n\\n\\n\\n      \\n    \\n      \\n      \\n\\n\\n\\n\\n\\n\\n    \\n  \\n    <div class=\"new-status status-wrapper    \" data-sid=\"2696684598\" data-uid=\"900117594\" >\\n\\n    \\n      \\n\\n\\n\\n\\n\\n\\n<div class=\"status-item\"\\n    data-sid=\"2696684598\"\\n    data-uid=\"47929578\"\\n    data-action=\"\"\\n    data-target-type=\"editor\"\\n    data-object-kind=\"1015\"\\n    data-object-id=\"741691424\">\\n<div class=\"mod\" data-status-id=\"2696684598\">\\n  \\n  <div\\n    class=\"hd \"\\n    data-status-url=\"https://www.douban.com/people/47929578/status/2696684598/\">\\n    \\n\\n  <div class=\"usr-pic\">\\n    <a href=\"https://www.douban.com/people/47929578/\" \\n  \\n  onclick=\"moreurl(this, {&#34;action&#34;: &#34;&#34;, &#34;from&#34;: &#34;nmbp-2696684598&#34;, &#34;target_type&#34;: &#34;editor&#34;, &#34;object_kind&#34;: &#34;1015&#34;})\"\\n title=\"安提戈涅\"><img src=\"https://img9.doubanio.com/icon/u47929578-16.jpg\" alt=\"安提戈涅\"/></a>\\n  </div>\\n  <div class=\"text\">\\n    <a href=\"https://www.douban.com/people/47929578/\" \\n  \\n  onclick=\"moreurl(this, {&#34;action&#34;: &#34;&#34;, &#34;from&#34;: &#34;nmbp-2696684598&#34;, &#34;target_type&#34;: &#34;editor&#34;, &#34;object_kind&#34;: &#34;1015&#34;})\"\\n class=\"lnk-people\">安提戈涅</a>\\n    \\n    \\n\\n\\n  </div>\\n\\n  </div>\\n\\n  <div class=\"bd editor\">\\n    \\n\\n<div class=\"block note-block\" data-url=\"https://www.douban.com/note/741691424/\">\\n  <div class=\"pic\">\\n    <div class=\"pic-wrap\">\\n        <a href=\"https://www.douban.com/note/741691424/\" \\n  \\n  onclick=\"moreurl(this, {&#34;action&#34;: &#34;&#34;, &#34;from&#34;: &#34;nmb-2696684598&#34;, &#34;target_type&#34;: &#34;editor&#34;, &#34;object_kind&#34;: &#34;1015&#34;})\"\\n target=\"_blank\"><img src=\"https://img9.doubanio.com/view/note/large/public/p67315106.jpg\"></a>\\n        <span class=\"valign\"></span>\\n    </div>\\n  </div>\\n\\n  <div class=\"content\">\\n    <div class=\"title\">\\n      <a href=\"https://www.douban.com/note/741691424/\" \\n  \\n  onclick=\"moreurl(this, {&#34;action&#34;: &#34;&#34;, &#34;from&#34;: &#34;nmb-2696684598&#34;, &#34;target_type&#34;: &#34;editor&#34;, &#34;object_kind&#34;: &#34;1015&#34;})\"\\n>《浮士德》中的植物学诗学</a>\\n    </div>\\n    <p>每年读一遍《浮士德》，每年就多走近歌德一些，从他巨大的矿藏里敲下一小块，自己收拢珍藏起来。今年重读，发现了《浮士德》中歌德对有机世界的狂热。在植物学天地中，他再一次表达着生命不...</p>\\n  </div>\\n\\n</div>\\n<div class=\"attachment\">\\n</div>\\n\\n\\n    <div class=\"actions\">\\n        \\n        <span class=\"created_at\" title=\"2019-11-15 19:42:04\">\\n            2019年11月15日<span class=\"ghost\">，来自 <a href=\"https://www.douban.com/interest/1/1/\">热门精选</a></span>\\n        </span>\\n    </div>\\n  </div>\\n</div>\\n</div>\\n\\n\\n\\n\\n    \\n    \\n\\n</div>\\n<!-- 2696684598, note.html, -->\\n\\n\\n\\n\\n      \\n    \\n      \\n      \\n\\n\\n\\n\\n\\n\\n    \\n  \\n    <div class=\"new-status status-wrapper    \" data-sid=\"2675363447\" data-uid=\"900117594\" >\\n\\n    \\n      \\n\\n\\n\\n\\n\\n\\n<div class=\"status-item\"\\n    data-sid=\"2675363447\"\\n    data-uid=\"63926352\"\\n    data-action=\"\"\\n    data-target-type=\"editor\"\\n    data-object-kind=\"1015\"\\n    data-object-id=\"739111474\">\\n<div class=\"mod\" data-status-id=\"2675363447\">\\n  \\n  <div\\n    class=\"hd \"\\n    data-status-url=\"https://www.douban.com/people/63926352/status/2675363447/\">\\n    \\n\\n  <div class=\"usr-pic\">\\n    <a href=\"https://www.douban.com/people/63926352/\" \\n  \\n  onclick=\"moreurl(this, {&#34;action&#34;: &#34;&#34;, &#34;from&#34;: &#34;nmbp-2675363447&#34;, &#34;target_type&#34;: &#34;editor&#34;, &#34;object_kind&#34;: &#34;1015&#34;})\"\\n title=\"女奥特迈\"><img src=\"https://img3.doubanio.com/icon/u63926352-13.jpg\" alt=\"女奥特迈\"/></a>\\n  </div>\\n  <div class=\"text\">\\n    <a href=\"https://www.douban.com/people/63926352/\" \\n  \\n  onclick=\"moreurl(this, {&#34;action&#34;: &#34;&#34;, &#34;from&#34;: &#34;nmbp-2675363447&#34;, &#34;target_type&#34;: &#34;editor&#34;, &#34;object_kind&#34;: &#34;1015&#34;})\"\\n class=\"lnk-people\">女奥特迈</a>\\n    \\n    \\n\\n\\n  </div>\\n\\n  </div>\\n\\n  <div class=\"bd editor\">\\n    \\n\\n<div class=\"block note-block\" data-url=\"https://www.douban.com/note/739111474/\">\\n\\n  <div class=\"content\">\\n    <div class=\"title\">\\n      <a href=\"https://www.douban.com/note/739111474/\" \\n  \\n  onclick=\"moreurl(this, {&#34;action&#34;: &#34;&#34;, &#34;from&#34;: &#34;nmb-2675363447&#34;, &#34;target_type&#34;: &#34;editor&#34;, &#34;object_kind&#34;: &#34;1015&#34;})\"\\n>2019年10月22日 我在环卫的第812天 “我的梦想”背后的故事</a>\\n    </div>\\n    <p>上一次写是2018年9月12日，是我在环卫的第416天。一眨眼，又400天过去了。 其实我一直有感悟的，多的时候每天都会有感悟，只是很多时候因为懒，没有把它记录下来。日子总是过得又快又慢，根...</p>\\n  </div>\\n\\n</div>\\n<div class=\"attachment\">\\n</div>\\n\\n\\n    <div class=\"actions\">\\n        \\n        <span class=\"created_at\" title=\"2019-10-25 18:16:04\">\\n            2019年10月25日<span class=\"ghost\">，来自 <a href=\"https://www.douban.com/interest/1/1/\">热门精选</a></span>\\n        </span>\\n    </div>\\n  </div>\\n</div>\\n</div>\\n\\n\\n\\n\\n    \\n    \\n\\n</div>\\n<!-- 2675363447, note.html, -->\\n\\n\\n\\n\\n      \\n    \\n      \\n      \\n\\n\\n\\n\\n\\n\\n    \\n  \\n    <div class=\"new-status status-wrapper    \" data-sid=\"2637148195\" data-uid=\"900117594\" >\\n\\n    \\n      \\n\\n\\n\\n\\n\\n\\n<div class=\"status-item\"\\n    data-sid=\"2637148195\"\\n    data-uid=\"3216848\"\\n    data-action=\"\"\\n    data-target-type=\"editor\"\\n    data-object-kind=\"1015\"\\n    data-object-id=\"734132096\">\\n<div class=\"mod\" data-status-id=\"2637148195\">\\n  \\n  <div\\n    class=\"hd \"\\n    data-status-url=\"https://www.douban.com/people/3216848/status/2637148195/\">\\n    \\n\\n  <div class=\"usr-pic\">\\n    <a href=\"https://www.douban.com/people/3216848/\" \\n  \\n  onclick=\"moreurl(this, {&#34;action&#34;: &#34;&#34;, &#34;from&#34;: &#34;nmbp-2637148195&#34;, &#34;target_type&#34;: &#34;editor&#34;, &#34;object_kind&#34;: &#34;1015&#34;})\"\\n title=\"肘子zi非子zǐ\"><img src=\"https://img3.doubanio.com/icon/u3216848-32.jpg\" alt=\"肘子zi非子zǐ\"/></a>\\n  </div>\\n  <div class=\"text\">\\n    <a href=\"https://www.douban.com/people/3216848/\" \\n  \\n  onclick=\"moreurl(this, {&#34;action&#34;: &#34;&#34;, &#34;from&#34;: &#34;nmbp-2637148195&#34;, &#34;target_type&#34;: &#34;editor&#34;, &#34;object_kind&#34;: &#34;1015&#34;})\"\\n class=\"lnk-people\">肘子zi非子zǐ</a>\\n    \\n    \\n\\n\\n  </div>\\n\\n  </div>\\n\\n  <div class=\"bd editor\">\\n    \\n\\n<div class=\"block note-block\" data-url=\"https://www.douban.com/note/734132096/\">\\n  <div class=\"pic\">\\n    <div class=\"pic-wrap\">\\n        <a href=\"https://www.douban.com/note/734132096/\" \\n  \\n  onclick=\"moreurl(this, {&#34;action&#34;: &#34;&#34;, &#34;from&#34;: &#34;nmb-2637148195&#34;, &#34;target_type&#34;: &#34;editor&#34;, &#34;object_kind&#34;: &#34;1015&#34;})\"\\n target=\"_blank\"><img src=\"https://img9.doubanio.com/view/note/large/public/p65400114.jpg\"></a>\\n        <span class=\"valign\"></span>\\n    </div>\\n  </div>\\n\\n  <div class=\"content\">\\n    <div class=\"title\">\\n      <a href=\"https://www.douban.com/note/734132096/\" \\n  \\n  onclick=\"moreurl(this, {&#34;action&#34;: &#34;&#34;, &#34;from&#34;: &#34;nmb-2637148195&#34;, &#34;target_type&#34;: &#34;editor&#34;, &#34;object_kind&#34;: &#34;1015&#34;})\"\\n>舅舅</a>\\n    </div>\\n    <p>8月25号中午，一通电话告知：舅舅独居的一楼小间敲门无人应，邻居已经几天没见他进出，从中传出的腐臭味一天比一天浓重。居委通知警察，警察联系我爸如是说。 我爸立刻把情况简单地告诉我，...</p>\\n  </div>\\n\\n    <p class=\"icon-topic topic-note\"><a href=\"https://www.douban.com/gallery/topic/98946/\" target=\"_blank\">我认识的独居老人</a></p>\\n</div>\\n<div class=\"attachment\">\\n</div>\\n\\n\\n    <div class=\"actions\">\\n        \\n        <span class=\"created_at\" title=\"2019-09-20 16:42:09\">\\n            2019年9月20日<span class=\"ghost\">，来自 <a href=\"https://www.douban.com/interest/1/1/\">热门精选</a></span>\\n        </span>\\n    </div>\\n  </div>\\n</div>\\n</div>\\n\\n\\n\\n\\n    \\n    \\n\\n</div>\\n<!-- 2637148195, note.html, -->\\n\\n\\n\\n\\n      \\n    \\n      \\n      \\n\\n\\n\\n\\n\\n\\n    \\n  \\n    <div class=\"new-status status-wrapper    \" data-sid=\"2620850215\" data-uid=\"900117594\" >\\n\\n    \\n      \\n\\n\\n\\n\\n\\n\\n<div class=\"status-item\"\\n    data-sid=\"2620850215\"\\n    data-uid=\"3706832\"\\n    data-action=\"\"\\n    data-target-type=\"editor\"\\n    data-object-kind=\"1015\"\\n    data-object-id=\"732604989\">\\n<div class=\"mod\" data-status-id=\"2620850215\">\\n  \\n  <div\\n    class=\"hd \"\\n    data-status-url=\"https://www.douban.com/people/cityupeople/status/2620850215/\">\\n    \\n\\n  <div class=\"usr-pic\">\\n    <a href=\"https://www.douban.com/people/cityupeople/\" \\n  \\n  onclick=\"moreurl(this, {&#34;action&#34;: &#34;&#34;, &#34;from&#34;: &#34;nmbp-2620850215&#34;, &#34;target_type&#34;: &#34;editor&#34;, &#34;object_kind&#34;: &#34;1015&#34;})\"\\n title=\"拾贝岛民\"><img src=\"https://img3.doubanio.com/icon/u3706832-3.jpg\" alt=\"拾贝岛民\"/></a>\\n  </div>\\n  <div class=\"text\">\\n    <a href=\"https://www.douban.com/people/cityupeople/\" \\n  \\n  onclick=\"moreurl(this, {&#34;action&#34;: &#34;&#34;, &#34;from&#34;: &#34;nmbp-2620850215&#34;, &#34;target_type&#34;: &#34;editor&#34;, &#34;object_kind&#34;: &#34;1015&#34;})\"\\n class=\"lnk-people\">拾贝岛民</a>\\n    \\n    \\n\\n\\n  </div>\\n\\n  </div>\\n\\n  <div class=\"bd editor\">\\n    \\n\\n<div class=\"block note-block\" data-url=\"https://www.douban.com/note/732604989/\">\\n  <div class=\"pic\">\\n    <div class=\"pic-wrap\">\\n        <a href=\"https://www.douban.com/note/732604989/\" \\n  \\n  onclick=\"moreurl(this, {&#34;action&#34;: &#34;&#34;, &#34;from&#34;: &#34;nmb-2620850215&#34;, &#34;target_type&#34;: &#34;editor&#34;, &#34;object_kind&#34;: &#34;1015&#34;})\"\\n target=\"_blank\"><img src=\"https://img9.doubanio.com/view/note/large/public/p64761324.jpg\"></a>\\n        <span class=\"valign\"></span>\\n    </div>\\n  </div>\\n\\n  <div class=\"content\">\\n    <div class=\"title\">\\n      <a href=\"https://www.douban.com/note/732604989/\" \\n  \\n  onclick=\"moreurl(this, {&#34;action&#34;: &#34;&#34;, &#34;from&#34;: &#34;nmb-2620850215&#34;, &#34;target_type&#34;: &#34;editor&#34;, &#34;object_kind&#34;: &#34;1015&#34;})\"\\n>上海西区 Western quarter of Shanghai</a>\\n    </div>\\n    <p>大学同学群里传来消息，某同学荣归主怀，我心中一震，这位同学当年是班里漂亮可爱的女生，她长的皮肤细腻、白里透红、明眸皓齿。但近年听说已经不能认人和自理，她的安息，对亲友也许是种释...</p>\\n  </div>\\n\\n</div>\\n<div class=\"attachment\">\\n</div>\\n\\n\\n    <div class=\"actions\">\\n        \\n        <span class=\"created_at\" title=\"2019-09-05 11:20:09\">\\n            2019年9月5日<span class=\"ghost\">，来自 <a href=\"https://www.douban.com/interest/1/1/\">热门精选</a></span>\\n        </span>\\n    </div>\\n  </div>\\n</div>\\n</div>\\n\\n\\n\\n\\n    \\n    \\n\\n    <script class=\"verify_user_avatar\" id=\"3706832\" type=\"text/template\">\\n      \\n\\n  <style>\\n    .verify-avatar{background-repeat:no-repeat;background-position:right bottom, 0 center;background-size:21px,48px;width:52px;height:56px}.usr-pic .verify-avatar{margin-top:-4px}.simple .verify-avatar{background-size:12px,24px;width:26px;height:28px}\\n\\n  </style>\\n    <a href=\"https://www.douban.com/people/cityupeople/\" target=\"_blank\" title=\"拾贝岛民\">\\n      <div class=\"verify-avatar\" title=\"拾贝岛民\"\\n        style=\"background-image: url(https://img3.doubanio.com/f/shire/8cff6c7f0bfa5a9dbe604b51f4de62f655c233ce/pics/ic_verify@2x.png), url(https://img3.doubanio.com/icon/u3706832-3.jpg)\">\\n      </div>\\n    </a>\\n\\n    </script>\\n</div>\\n<!-- 2620850215, note.html, -->\\n\\n\\n\\n\\n      \\n    \\n      \\n      \\n\\n\\n\\n\\n\\n\\n    \\n  \\n    <div class=\"new-status status-wrapper    \" data-sid=\"2620435648\" data-uid=\"900117594\" >\\n\\n    \\n      \\n\\n\\n\\n\\n\\n\\n<div class=\"status-item\"\\n    data-sid=\"2620435648\"\\n    data-uid=\"3183117\"\\n    data-action=\"\"\\n    data-target-type=\"editor\"\\n    data-object-kind=\"1015\"\\n    data-object-id=\"732498488\">\\n<div class=\"mod\" data-status-id=\"2620435648\">\\n  \\n  <div\\n    class=\"hd \"\\n    data-status-url=\"https://www.douban.com/people/K.thinking/status/2620435648/\">\\n    \\n\\n  <div class=\"usr-pic\">\\n    <a href=\"https://www.douban.com/people/K.thinking/\" \\n  \\n  onclick=\"moreurl(this, {&#34;action&#34;: &#34;&#34;, &#34;from&#34;: &#34;nmbp-2620435648&#34;, &#34;target_type&#34;: &#34;editor&#34;, &#34;object_kind&#34;: &#34;1015&#34;})\"\\n title=\"，\"><img src=\"https://img3.doubanio.com/icon/u3183117-2.jpg\" alt=\"，\"/></a>\\n  </div>\\n  <div class=\"text\">\\n    <a href=\"https://www.douban.com/people/K.thinking/\" \\n  \\n  onclick=\"moreurl(this, {&#34;action&#34;: &#34;&#34;, &#34;from&#34;: &#34;nmbp-2620435648&#34;, &#34;target_type&#34;: &#34;editor&#34;, &#34;object_kind&#34;: &#34;1015&#34;})\"\\n class=\"lnk-people\">，</a>\\n    \\n    \\n\\n\\n  </div>\\n\\n  </div>\\n\\n  <div class=\"bd editor\">\\n    \\n\\n<div class=\"block note-block\" data-url=\"https://www.douban.com/note/732498488/\">\\n  <div class=\"pic\">\\n    <div class=\"pic-wrap\">\\n        <a href=\"https://www.douban.com/note/732498488/\" \\n  \\n  onclick=\"moreurl(this, {&#34;action&#34;: &#34;&#34;, &#34;from&#34;: &#34;nmb-2620435648&#34;, &#34;target_type&#34;: &#34;editor&#34;, &#34;object_kind&#34;: &#34;1015&#34;})\"\\n target=\"_blank\"><img src=\"https://img1.doubanio.com/view/note/large/public/p64734619.jpg\"></a>\\n        <span class=\"valign\"></span>\\n    </div>\\n  </div>\\n\\n  <div class=\"content\">\\n    <div class=\"title\">\\n      <a href=\"https://www.douban.com/note/732498488/\" \\n  \\n  onclick=\"moreurl(this, {&#34;action&#34;: &#34;&#34;, &#34;from&#34;: &#34;nmb-2620435648&#34;, &#34;target_type&#34;: &#34;editor&#34;, &#34;object_kind&#34;: &#34;1015&#34;})\"\\n>72小时，我在长沙吃了什么？</a>\\n    </div>\\n    <p>两个四川人，怎么甘心在长沙只吃纯辣啊！ -为什么想出去玩这么久，最后选择了去长沙？ -因为妹妹去年7月到北京开会，给我带了一份蒜蓉小龙虾，那个味道突然在夏天到来的时候，从我的记记忆里...</p>\\n  </div>\\n\\n    <p class=\"icon-topic topic-note\"><a href=\"https://www.douban.com/gallery/topic/76363/\" target=\"_blank\">念念不忘的地方美食</a></p>\\n</div>\\n<div class=\"attachment\">\\n</div>\\n\\n\\n    <div class=\"actions\">\\n        \\n        <span class=\"created_at\" title=\"2019-09-04 22:44:08\">\\n            2019年9月4日<span class=\"ghost\">，来自 <a href=\"https://www.douban.com/interest/1/1/\">热门精选</a></span>\\n        </span>\\n    </div>\\n  </div>\\n</div>\\n</div>\\n\\n\\n\\n\\n    \\n    \\n\\n</div>\\n<!-- 2620435648, note.html, -->\\n\\n\\n\\n\\n      \\n    \\n      \\n      \\n\\n\\n\\n\\n\\n\\n    \\n  \\n    <div class=\"new-status status-wrapper    \" data-sid=\"2617022918\" data-uid=\"900117594\" >\\n\\n    \\n      \\n\\n\\n\\n\\n\\n\\n<div class=\"status-item\"\\n    data-sid=\"2617022918\"\\n    data-uid=\"1580621\"\\n    data-action=\"\"\\n    data-target-type=\"editor\"\\n    data-object-kind=\"1015\"\\n    data-object-id=\"732308276\">\\n<div class=\"mod\" data-status-id=\"2617022918\">\\n  \\n  <div\\n    class=\"hd \"\\n    data-status-url=\"https://www.douban.com/people/cutwater/status/2617022918/\">\\n    \\n\\n  <div class=\"usr-pic\">\\n    <a href=\"https://www.douban.com/people/cutwater/\" \\n  \\n  onclick=\"moreurl(this, {&#34;action&#34;: &#34;&#34;, &#34;from&#34;: &#34;nmbp-2617022918&#34;, &#34;target_type&#34;: &#34;editor&#34;, &#34;object_kind&#34;: &#34;1015&#34;})\"\\n title=\"躺倒\"><img src=\"https://img3.doubanio.com/icon/u1580621-3.jpg\" alt=\"躺倒\"/></a>\\n  </div>\\n  <div class=\"text\">\\n    <a href=\"https://www.douban.com/people/cutwater/\" \\n  \\n  onclick=\"moreurl(this, {&#34;action&#34;: &#34;&#34;, &#34;from&#34;: &#34;nmbp-2617022918&#34;, &#34;target_type&#34;: &#34;editor&#34;, &#34;object_kind&#34;: &#34;1015&#34;})\"\\n class=\"lnk-people\">躺倒</a>\\n    \\n    \\n\\n\\n  </div>\\n\\n  </div>\\n\\n  <div class=\"bd editor\">\\n    \\n\\n<div class=\"block note-block\" data-url=\"https://www.douban.com/note/732308276/\">\\n  <div class=\"pic\">\\n    <div class=\"pic-wrap\">\\n        <a href=\"https://www.douban.com/note/732308276/\" \\n  \\n  onclick=\"moreurl(this, {&#34;action&#34;: &#34;&#34;, &#34;from&#34;: &#34;nmb-2617022918&#34;, &#34;target_type&#34;: &#34;editor&#34;, &#34;object_kind&#34;: &#34;1015&#34;})\"\\n target=\"_blank\"><img src=\"https://img3.doubanio.com/view/note/large/public/p64685922.jpg\"></a>\\n        <span class=\"valign\"></span>\\n    </div>\\n  </div>\\n\\n  <div class=\"content\">\\n    <div class=\"title\">\\n      <a href=\"https://www.douban.com/note/732308276/\" \\n  \\n  onclick=\"moreurl(this, {&#34;action&#34;: &#34;&#34;, &#34;from&#34;: &#34;nmb-2617022918&#34;, &#34;target_type&#34;: &#34;editor&#34;, &#34;object_kind&#34;: &#34;1015&#34;})\"\\n>徒步在“犀牛的领地”</a>\\n    </div>\\n    <p>喜欢野观野生动物，非洲一定要去，明星五霸——“大象、犀牛、狮子、野水牛和豹”声名在外。但是，其实我们亚洲是世界上另一处有“大象+犀牛+大猫”组合的地方。 世界上现存三种象，两种在非...</p>\\n  </div>\\n\\n</div>\\n<div class=\"attachment\">\\n</div>\\n\\n\\n    <div class=\"actions\">\\n        \\n        <span class=\"created_at\" title=\"2019-09-01 18:02:03\">\\n            2019年9月1日<span class=\"ghost\">，来自 <a href=\"https://www.douban.com/interest/1/1/\">热门精选</a></span>\\n        </span>\\n    </div>\\n  </div>\\n</div>\\n</div>\\n\\n\\n\\n\\n    \\n    \\n\\n</div>\\n<!-- 2617022918, note.html, -->\\n\\n\\n\\n\\n      \\n    \\n      \\n      \\n\\n\\n\\n\\n\\n\\n    \\n  \\n    <div class=\"new-status status-wrapper    \" data-sid=\"2616953824\" data-uid=\"900117594\" >\\n\\n    \\n      \\n\\n\\n\\n\\n\\n\\n<div class=\"status-item\"\\n    data-sid=\"2616953824\"\\n    data-uid=\"174122455\"\\n    data-action=\"\"\\n    data-target-type=\"editor\"\\n    data-object-kind=\"1015\"\\n    data-object-id=\"732328728\">\\n<div class=\"mod\" data-status-id=\"2616953824\">\\n  \\n  <div\\n    class=\"hd \"\\n    data-status-url=\"https://www.douban.com/people/174122455/status/2616953824/\">\\n    \\n\\n  <div class=\"usr-pic\">\\n    <a href=\"https://www.douban.com/people/174122455/\" \\n  \\n  onclick=\"moreurl(this, {&#34;action&#34;: &#34;&#34;, &#34;from&#34;: &#34;nmbp-2616953824&#34;, &#34;target_type&#34;: &#34;editor&#34;, &#34;object_kind&#34;: &#34;1015&#34;})\"\\n title=\"麦克黄\"><img src=\"https://img3.doubanio.com/icon/u174122455-2.jpg\" alt=\"麦克黄\"/></a>\\n  </div>\\n  <div class=\"text\">\\n    <a href=\"https://www.douban.com/people/174122455/\" \\n  \\n  onclick=\"moreurl(this, {&#34;action&#34;: &#34;&#34;, &#34;from&#34;: &#34;nmbp-2616953824&#34;, &#34;target_type&#34;: &#34;editor&#34;, &#34;object_kind&#34;: &#34;1015&#34;})\"\\n class=\"lnk-people\">麦克黄</a>\\n    \\n    \\n\\n\\n  </div>\\n\\n  </div>\\n\\n  <div class=\"bd editor\">\\n    \\n\\n<div class=\"block note-block\" data-url=\"https://www.douban.com/note/732328728/\">\\n\\n  <div class=\"content\">\\n    <div class=\"title\">\\n      <a href=\"https://www.douban.com/note/732328728/\" \\n  \\n  onclick=\"moreurl(this, {&#34;action&#34;: &#34;&#34;, &#34;from&#34;: &#34;nmb-2616953824&#34;, &#34;target_type&#34;: &#34;editor&#34;, &#34;object_kind&#34;: &#34;1015&#34;})\"\\n>小友</a>\\n    </div>\\n    <p>给小朋友看嗓子是一件有难度的工作，常见话术有三种，1.“来，张嘴，给阿姨看你的牙牙白不白”；2.“张大，啊——看看你嘴里有没有虫虫”；3.举着压舌板心虚地说，“来，吃棒棒糖啦”。不管...</p>\\n  </div>\\n\\n</div>\\n<div class=\"attachment\">\\n</div>\\n\\n\\n    <div class=\"actions\">\\n        \\n        <span class=\"created_at\" title=\"2019-09-01 16:54:04\">\\n            2019年9月1日<span class=\"ghost\">，来自 <a href=\"https://www.douban.com/interest/1/1/\">热门精选</a></span>\\n        </span>\\n    </div>\\n  </div>\\n</div>\\n</div>\\n\\n\\n\\n\\n    \\n    \\n\\n</div>\\n<!-- 2616953824, note.html, -->\\n\\n\\n\\n\\n      \\n    \\n      \\n      \\n\\n\\n\\n\\n\\n\\n    \\n  \\n    <div class=\"new-status status-wrapper    \" data-sid=\"2612446102\" data-uid=\"900117594\" >\\n\\n    \\n      \\n\\n\\n\\n\\n\\n\\n<div class=\"status-item\"\\n    data-sid=\"2612446102\"\\n    data-uid=\"5498220\"\\n    data-action=\"\"\\n    data-target-type=\"editor\"\\n    data-object-kind=\"1015\"\\n    data-object-id=\"729845875\">\\n<div class=\"mod\" data-status-id=\"2612446102\">\\n  \\n  <div\\n    class=\"hd \"\\n    data-status-url=\"https://www.douban.com/people/csp/status/2612446102/\">\\n    \\n\\n  <div class=\"usr-pic\">\\n    <a href=\"https://www.douban.com/people/csp/\" \\n  \\n  onclick=\"moreurl(this, {&#34;action&#34;: &#34;&#34;, &#34;from&#34;: &#34;nmbp-2612446102&#34;, &#34;target_type&#34;: &#34;editor&#34;, &#34;object_kind&#34;: &#34;1015&#34;})\"\\n title=\"握不住的灵魂\"><img src=\"https://img3.doubanio.com/icon/u5498220-70.jpg\" alt=\"握不住的灵魂\"/></a>\\n  </div>\\n  <div class=\"text\">\\n    <a href=\"https://www.douban.com/people/csp/\" \\n  \\n  onclick=\"moreurl(this, {&#34;action&#34;: &#34;&#34;, &#34;from&#34;: &#34;nmbp-2612446102&#34;, &#34;target_type&#34;: &#34;editor&#34;, &#34;object_kind&#34;: &#34;1015&#34;})\"\\n class=\"lnk-people\">握不住的灵魂</a>\\n    \\n    \\n\\n\\n  </div>\\n\\n  </div>\\n\\n  <div class=\"bd editor\">\\n    \\n\\n<div class=\"block note-block\" data-url=\"https://www.douban.com/note/729845875/\">\\n  <div class=\"pic\">\\n    <div class=\"pic-wrap\">\\n        <a href=\"https://www.douban.com/note/729845875/\" \\n  \\n  onclick=\"moreurl(this, {&#34;action&#34;: &#34;&#34;, &#34;from&#34;: &#34;nmb-2612446102&#34;, &#34;target_type&#34;: &#34;editor&#34;, &#34;object_kind&#34;: &#34;1015&#34;})\"\\n target=\"_blank\"><img src=\"https://img9.doubanio.com/view/note/large/public/p64025595.jpg\"></a>\\n        <span class=\"valign\"></span>\\n    </div>\\n  </div>\\n\\n  <div class=\"content\">\\n    <div class=\"title\">\\n      <a href=\"https://www.douban.com/note/729845875/\" \\n  \\n  onclick=\"moreurl(this, {&#34;action&#34;: &#34;&#34;, &#34;from&#34;: &#34;nmb-2612446102&#34;, &#34;target_type&#34;: &#34;editor&#34;, &#34;object_kind&#34;: &#34;1015&#34;})\"\\n>石头、气味与阶级之门,《寄生虫》的17个细节</a>\\n    </div>\\n    <p>当人群之中出现差异，并且这样的差异已经导致部分人拥有凌驾其他人的地位、权力、特权时，这就称为社会阶层。社会借此而将人们分类成有高下之别的阶层或等级。#wikipedia 1.爬行式运动 影片...</p>\\n  </div>\\n\\n</div>\\n<div class=\"attachment\">\\n</div>\\n\\n\\n    <div class=\"actions\">\\n        \\n        <span class=\"created_at\" title=\"2019-08-28 19:28:01\">\\n            2019年8月28日<span class=\"ghost\">，来自 <a href=\"https://www.douban.com/interest/1/1/\">热门精选</a></span>\\n        </span>\\n    </div>\\n  </div>\\n</div>\\n</div>\\n\\n\\n\\n\\n    \\n    \\n\\n</div>\\n<!-- 2612446102, note.html, -->\\n\\n\\n\\n\\n      \\n    \\n      \\n      \\n\\n\\n\\n\\n\\n\\n    \\n  \\n    <div class=\"new-status status-wrapper    \" data-sid=\"2609397893\" data-uid=\"900117594\" >\\n\\n    \\n      \\n\\n\\n\\n\\n\\n\\n<div class=\"status-item\"\\n    data-sid=\"2609397893\"\\n    data-uid=\"48613423\"\\n    data-action=\"\"\\n    data-target-type=\"editor\"\\n    data-object-kind=\"1015\"\\n    data-object-id=\"730091332\">\\n<div class=\"mod\" data-status-id=\"2609397893\">\\n  \\n  <div\\n    class=\"hd \"\\n    data-status-url=\"https://www.douban.com/people/48613423/status/2609397893/\">\\n    \\n\\n  <div class=\"usr-pic\">\\n    <a href=\"https://www.douban.com/people/48613423/\" \\n  \\n  onclick=\"moreurl(this, {&#34;action&#34;: &#34;&#34;, &#34;from&#34;: &#34;nmbp-2609397893&#34;, &#34;target_type&#34;: &#34;editor&#34;, &#34;object_kind&#34;: &#34;1015&#34;})\"\\n title=\"小毒牙\"><img src=\"https://img9.doubanio.com/icon/u48613423-4.jpg\" alt=\"小毒牙\"/></a>\\n  </div>\\n  <div class=\"text\">\\n    <a href=\"https://www.douban.com/people/48613423/\" \\n  \\n  onclick=\"moreurl(this, {&#34;action&#34;: &#34;&#34;, &#34;from&#34;: &#34;nmbp-2609397893&#34;, &#34;target_type&#34;: &#34;editor&#34;, &#34;object_kind&#34;: &#34;1015&#34;})\"\\n class=\"lnk-people\">小毒牙</a>\\n    \\n    \\n\\n\\n  </div>\\n\\n  </div>\\n\\n  <div class=\"bd editor\">\\n    \\n\\n<div class=\"block note-block\" data-url=\"https://www.douban.com/note/730091332/\">\\n  <div class=\"pic\">\\n    <div class=\"pic-wrap\">\\n        <a href=\"https://www.douban.com/note/730091332/\" \\n  \\n  onclick=\"moreurl(this, {&#34;action&#34;: &#34;&#34;, &#34;from&#34;: &#34;nmb-2609397893&#34;, &#34;target_type&#34;: &#34;editor&#34;, &#34;object_kind&#34;: &#34;1015&#34;})\"\\n target=\"_blank\"><img src=\"https://img9.doubanio.com/view/note/large/public/p64100126.jpg\"></a>\\n        <span class=\"valign\"></span>\\n    </div>\\n  </div>\\n\\n  <div class=\"content\">\\n    <div class=\"title\">\\n      <a href=\"https://www.douban.com/note/730091332/\" \\n  \\n  onclick=\"moreurl(this, {&#34;action&#34;: &#34;&#34;, &#34;from&#34;: &#34;nmb-2609397893&#34;, &#34;target_type&#34;: &#34;editor&#34;, &#34;object_kind&#34;: &#34;1015&#34;})\"\\n>运城访古记</a>\\n    </div>\\n    <p>运城在山西的最南部，晋秦豫三省交界处。 目前上海到运城只有一班高铁，将近11个小时；而上海到河南省三门峡市却有更多高铁班次，仅6个多小时，再从三门峡打车到运城市中心的酒店只要1个半小...</p>\\n  </div>\\n\\n    <p class=\"icon-topic topic-note\"><a href=\"https://www.douban.com/gallery/topic/636/\" target=\"_blank\">遇见老建筑</a></p>\\n</div>\\n<div class=\"attachment\">\\n</div>\\n\\n\\n    <div class=\"actions\">\\n        \\n        <span class=\"created_at\" title=\"2019-08-26 08:06:03\">\\n            2019年8月26日<span class=\"ghost\">，来自 <a href=\"https://www.douban.com/interest/1/1/\">热门精选</a></span>\\n        </span>\\n    </div>\\n  </div>\\n</div>\\n</div>\\n\\n\\n\\n\\n    \\n    \\n\\n</div>\\n<!-- 2609397893, note.html, -->\\n\\n\\n\\n\\n      \\n    \\n      \\n      \\n\\n\\n\\n\\n\\n\\n    \\n  \\n    <div class=\"new-status status-wrapper    \" data-sid=\"2580259408\" data-uid=\"900117594\" >\\n\\n    \\n      \\n\\n\\n\\n\\n\\n\\n<div class=\"status-item\"\\n    data-sid=\"2580259408\"\\n    data-uid=\"1233038\"\\n    data-action=\"\"\\n    data-target-type=\"editor\"\\n    data-object-kind=\"1015\"\\n    data-object-id=\"728407385\">\\n<div class=\"mod\" data-status-id=\"2580259408\">\\n  \\n  <div\\n    class=\"hd \"\\n    data-status-url=\"https://www.douban.com/people/1233038/status/2580259408/\">\\n    \\n\\n  <div class=\"usr-pic\">\\n    <a href=\"https://www.douban.com/people/1233038/\" \\n  \\n  onclick=\"moreurl(this, {&#34;action&#34;: &#34;&#34;, &#34;from&#34;: &#34;nmbp-2580259408&#34;, &#34;target_type&#34;: &#34;editor&#34;, &#34;object_kind&#34;: &#34;1015&#34;})\"\\n title=\"frozenmoon\"><img src=\"https://img3.doubanio.com/icon/u1233038-2.jpg\" alt=\"frozenmoon\"/></a>\\n  </div>\\n  <div class=\"text\">\\n    <a href=\"https://www.douban.com/people/1233038/\" \\n  \\n  onclick=\"moreurl(this, {&#34;action&#34;: &#34;&#34;, &#34;from&#34;: &#34;nmbp-2580259408&#34;, &#34;target_type&#34;: &#34;editor&#34;, &#34;object_kind&#34;: &#34;1015&#34;})\"\\n class=\"lnk-people\">frozenmoon</a>\\n    \\n    \\n\\n\\n  </div>\\n\\n  </div>\\n\\n  <div class=\"bd editor\">\\n    \\n\\n<div class=\"block note-block\" data-url=\"https://www.douban.com/note/728407385/\">\\n  <div class=\"pic\">\\n    <div class=\"pic-wrap\">\\n        <a href=\"https://www.douban.com/note/728407385/\" \\n  \\n  onclick=\"moreurl(this, {&#34;action&#34;: &#34;&#34;, &#34;from&#34;: &#34;nmb-2580259408&#34;, &#34;target_type&#34;: &#34;editor&#34;, &#34;object_kind&#34;: &#34;1015&#34;})\"\\n target=\"_blank\"><img src=\"https://img9.doubanio.com/view/note/large/public/p63641035.jpg\"></a>\\n        <span class=\"valign\"></span>\\n    </div>\\n  </div>\\n\\n  <div class=\"content\">\\n    <div class=\"title\">\\n      <a href=\"https://www.douban.com/note/728407385/\" \\n  \\n  onclick=\"moreurl(this, {&#34;action&#34;: &#34;&#34;, &#34;from&#34;: &#34;nmb-2580259408&#34;, &#34;target_type&#34;: &#34;editor&#34;, &#34;object_kind&#34;: &#34;1015&#34;})\"\\n>海清们的真正困境，在于中年人的故事被集体清空</a>\\n    </div>\\n    <p>（文/杨时旸） 演员海清在First青年电影展的闭幕式上叫上了姚晨、宋佳和梁静，一起站在舞台上发出了一次呼吁，她们希望导演和制片人能重视自己这些中生代女演员，希望青年导演们也能够愿意并...</p>\\n  </div>\\n\\n    <p class=\"icon-topic topic-note\"><a href=\"https://www.douban.com/gallery/topic/93831/\" target=\"_blank\">那些反映出中年人真实困境的影视剧</a></p>\\n</div>\\n<div class=\"attachment\">\\n</div>\\n\\n\\n    <div class=\"actions\">\\n        \\n        <span class=\"created_at\" title=\"2019-08-03 17:30:03\">\\n            2019年8月3日<span class=\"ghost\">，来自 <a href=\"https://www.douban.com/interest/1/1/\">热门精选</a></span>\\n        </span>\\n    </div>\\n  </div>\\n</div>\\n</div>\\n\\n\\n\\n\\n    \\n    \\n\\n    <script class=\"verify_user_avatar\" id=\"1233038\" type=\"text/template\">\\n      \\n\\n  <style>\\n    .verify-avatar{background-repeat:no-repeat;background-position:right bottom, 0 center;background-size:21px,48px;width:52px;height:56px}.usr-pic .verify-avatar{margin-top:-4px}.simple .verify-avatar{background-size:12px,24px;width:26px;height:28px}\\n\\n  </style>\\n    <a href=\"https://www.douban.com/people/1233038/\" target=\"_blank\" title=\"frozenmoon\">\\n      <div class=\"verify-avatar\" title=\"frozenmoon\"\\n        style=\"background-image: url(https://img3.doubanio.com/f/shire/8cff6c7f0bfa5a9dbe604b51f4de62f655c233ce/pics/ic_verify@2x.png), url(https://img3.doubanio.com/icon/u1233038-2.jpg)\">\\n      </div>\\n    </a>\\n\\n    </script>\\n</div>\\n<!-- 2580259408, note.html, -->\\n\\n\\n\\n\\n      \\n    \\n      \\n      \\n\\n\\n\\n\\n\\n\\n    \\n  \\n    <div class=\"new-status status-wrapper    \" data-sid=\"2550183515\" data-uid=\"900117594\" >\\n\\n    \\n      \\n\\n\\n\\n\\n\\n\\n<div class=\"status-item\"\\n    data-sid=\"2550183515\"\\n    data-uid=\"2855946\"\\n    data-action=\"\"\\n    data-target-type=\"editor\"\\n    data-object-kind=\"1015\"\\n    data-object-id=\"712322872\">\\n<div class=\"mod\" data-status-id=\"2550183515\">\\n  \\n  <div\\n    class=\"hd \"\\n    data-status-url=\"https://www.douban.com/people/wssynssm/status/2550183515/\">\\n    \\n\\n  <div class=\"usr-pic\">\\n    <a href=\"https://www.douban.com/people/wssynssm/\" \\n  \\n  onclick=\"moreurl(this, {&#34;action&#34;: &#34;&#34;, &#34;from&#34;: &#34;nmbp-2550183515&#34;, &#34;target_type&#34;: &#34;editor&#34;, &#34;object_kind&#34;: &#34;1015&#34;})\"\\n title=\"维生素\"><img src=\"https://img3.doubanio.com/icon/u2855946-121.jpg\" alt=\"维生素\"/></a>\\n  </div>\\n  <div class=\"text\">\\n    <a href=\"https://www.douban.com/people/wssynssm/\" \\n  \\n  onclick=\"moreurl(this, {&#34;action&#34;: &#34;&#34;, &#34;from&#34;: &#34;nmbp-2550183515&#34;, &#34;target_type&#34;: &#34;editor&#34;, &#34;object_kind&#34;: &#34;1015&#34;})\"\\n class=\"lnk-people\">维生素</a>\\n    \\n    \\n\\n\\n  </div>\\n\\n  </div>\\n\\n  <div class=\"bd editor\">\\n    \\n\\n<div class=\"block note-block\" data-url=\"https://www.douban.com/note/712322872/\">\\n  <div class=\"pic\">\\n    <div class=\"pic-wrap\">\\n        <a href=\"https://www.douban.com/note/712322872/\" \\n  \\n  onclick=\"moreurl(this, {&#34;action&#34;: &#34;&#34;, &#34;from&#34;: &#34;nmb-2550183515&#34;, &#34;target_type&#34;: &#34;editor&#34;, &#34;object_kind&#34;: &#34;1015&#34;})\"\\n target=\"_blank\"><img src=\"https://img3.doubanio.com/view/note/large/public/p59413141.jpg\"></a>\\n        <span class=\"valign\"></span>\\n    </div>\\n  </div>\\n\\n  <div class=\"content\">\\n    <div class=\"title\">\\n      <a href=\"https://www.douban.com/note/712322872/\" \\n  \\n  onclick=\"moreurl(this, {&#34;action&#34;: &#34;&#34;, &#34;from&#34;: &#34;nmb-2550183515&#34;, &#34;target_type&#34;: &#34;editor&#34;, &#34;object_kind&#34;: &#34;1015&#34;})\"\\n>奶奶留下来的螺钿木盒</a>\\n    </div>\\n    <p>春节前，有个女生找到我，说她有一个螺钿的盒子需要修补。我拿到一看，上面的金属扣件都没有了，原来这个盒子是她奶奶留下了的，但金属扣件大多坏了，她拿去给一个做金缮的师傅修理，但金缮...</p>\\n  </div>\\n\\n    <p class=\"icon-topic topic-note\"><a href=\"https://www.douban.com/gallery/topic/49360/\" target=\"_blank\">家里的老物件</a></p>\\n</div>\\n<div class=\"attachment\">\\n</div>\\n\\n\\n    <div class=\"actions\">\\n        \\n        <span class=\"created_at\" title=\"2019-07-07 19:32:00\">\\n            2019年7月7日<span class=\"ghost\">，来自 <a href=\"https://www.douban.com/interest/1/1/\">热门精选</a></span>\\n        </span>\\n    </div>\\n  </div>\\n</div>\\n</div>\\n\\n\\n\\n\\n    \\n    \\n\\n</div>\\n<!-- 2550183515, note.html, -->\\n\\n\\n\\n\\n      \\n    \\n      \\n      \\n\\n\\n\\n\\n\\n\\n    \\n  \\n    <div class=\"new-status status-wrapper    \" data-sid=\"2550021779\" data-uid=\"900117594\" >\\n\\n    \\n      \\n\\n\\n\\n\\n\\n\\n<div class=\"status-item\"\\n    data-sid=\"2550021779\"\\n    data-uid=\"79682679\"\\n    data-action=\"\"\\n    data-target-type=\"editor\"\\n    data-object-kind=\"1015\"\\n    data-object-id=\"703611556\">\\n<div class=\"mod\" data-status-id=\"2550021779\">\\n  \\n  <div\\n    class=\"hd \"\\n    data-status-url=\"https://www.douban.com/people/staymiao/status/2550021779/\">\\n    \\n\\n  <div class=\"usr-pic\">\\n    <a href=\"https://www.douban.com/people/staymiao/\" \\n  \\n  onclick=\"moreurl(this, {&#34;action&#34;: &#34;&#34;, &#34;from&#34;: &#34;nmbp-2550021779&#34;, &#34;target_type&#34;: &#34;editor&#34;, &#34;object_kind&#34;: &#34;1015&#34;})\"\\n title=\"喵呜不停\"><img src=\"https://img9.doubanio.com/icon/u79682679-4.jpg\" alt=\"喵呜不停\"/></a>\\n  </div>\\n  <div class=\"text\">\\n    <a href=\"https://www.douban.com/people/staymiao/\" \\n  \\n  onclick=\"moreurl(this, {&#34;action&#34;: &#34;&#34;, &#34;from&#34;: &#34;nmbp-2550021779&#34;, &#34;target_type&#34;: &#34;editor&#34;, &#34;object_kind&#34;: &#34;1015&#34;})\"\\n class=\"lnk-people\">喵呜不停</a>\\n    \\n    \\n\\n\\n  </div>\\n\\n  </div>\\n\\n  <div class=\"bd editor\">\\n    \\n\\n<div class=\"block note-block\" data-url=\"https://www.douban.com/note/703611556/\">\\n  <div class=\"pic\">\\n    <div class=\"pic-wrap\">\\n        <a href=\"https://www.douban.com/note/703611556/\" \\n  \\n  onclick=\"moreurl(this, {&#34;action&#34;: &#34;&#34;, &#34;from&#34;: &#34;nmb-2550021779&#34;, &#34;target_type&#34;: &#34;editor&#34;, &#34;object_kind&#34;: &#34;1015&#34;})\"\\n target=\"_blank\"><img src=\"https://img3.doubanio.com/view/note/large/public/p57358933.jpg\"></a>\\n        <span class=\"valign\"></span>\\n    </div>\\n  </div>\\n\\n  <div class=\"content\">\\n    <div class=\"title\">\\n      <a href=\"https://www.douban.com/note/703611556/\" \\n  \\n  onclick=\"moreurl(this, {&#34;action&#34;: &#34;&#34;, &#34;from&#34;: &#34;nmb-2550021779&#34;, &#34;target_type&#34;: &#34;editor&#34;, &#34;object_kind&#34;: &#34;1015&#34;})\"\\n>2018年度候选猫片，每张也是挑花了眼！</a>\\n    </div>\\n    <p>前几天发布2018年度猫片后， 各渠道反响热烈， 微博、微信阅读量更是超出预期， 所以再次感谢大家的厚爱！ 前文说到这一年专职拍猫， 所以片子数量激增， 年度照片也着实挑花了眼， 最后初选...</p>\\n  </div>\\n\\n</div>\\n<div class=\"attachment\">\\n</div>\\n\\n\\n    <div class=\"actions\">\\n        \\n        <span class=\"created_at\" title=\"2019-07-07 16:41:59\">\\n            2019年7月7日<span class=\"ghost\">，来自 <a href=\"https://www.douban.com/interest/1/1/\">热门精选</a></span>\\n        </span>\\n    </div>\\n  </div>\\n</div>\\n</div>\\n\\n\\n\\n\\n    \\n    \\n\\n    <script class=\"verify_user_avatar\" id=\"79682679\" type=\"text/template\">\\n      \\n\\n  <style>\\n    .verify-avatar{background-repeat:no-repeat;background-position:right bottom, 0 center;background-size:21px,48px;width:52px;height:56px}.usr-pic .verify-avatar{margin-top:-4px}.simple .verify-avatar{background-size:12px,24px;width:26px;height:28px}\\n\\n  </style>\\n    <a href=\"https://www.douban.com/people/staymiao/\" target=\"_blank\" title=\"喵呜不停\">\\n      <div class=\"verify-avatar\" title=\"喵呜不停\"\\n        style=\"background-image: url(https://img3.doubanio.com/f/shire/8cff6c7f0bfa5a9dbe604b51f4de62f655c233ce/pics/ic_verify@2x.png), url(https://img9.doubanio.com/icon/u79682679-4.jpg)\">\\n      </div>\\n    </a>\\n\\n    </script>\\n</div>\\n<!-- 2550021779, note.html, -->\\n\\n\\n\\n\\n      \\n</div>\\n\\n<script>\\nwindow.crt_uid = \"140014301\";\\n</script>\\n\\n<link rel=\"stylesheet\" href=\"https://img3.doubanio.com/f/sns/648e623f5edffa2561cd3a33dccb8cc4cdcdec6e/css/sns/lifestream/status.css\">\\n\\n\\n  \\n    \\n\\n    \\n        <div class=\"paginator\">\\n        <span class=\"prev\">\\n            &lt;前页\\n        </span>\\n        \\n        \\n\\n                <span class=\"thispage\" data-total-page=\"9223372036854775807\">1</span>\\n                \\n            <a href=\"?p=2\" >2</a>\\n        \\n                \\n            <a href=\"?p=3\" >3</a>\\n        \\n                \\n            <a href=\"?p=4\" >4</a>\\n        \\n                \\n            <a href=\"?p=5\" >5</a>\\n        \\n                \\n            <a href=\"?p=6\" >6</a>\\n        \\n                \\n            <a href=\"?p=7\" >7</a>\\n        \\n                \\n            <a href=\"?p=8\" >8</a>\\n        \\n                \\n            <a href=\"?p=9\" >9</a>\\n        \\n            <span class=\"break\">...</span>\\n        <span class=\"next\">\\n            <link rel=\"next\" href=\"?p=2\"/>\\n            <a href=\"?p=2\" >后页&gt;</a>\\n        </span>\\n\\n        </div>\\n\\n\\n        </div>\\n\\n        </div>\\n        <div class=\"aside\">\\n                \\n\\n\\n\\n\\n\\n\\n\\n\\n\\n<div class=\"notify-mod\">\\n    \\n    \\n    <h2>\\n        豆瓣正在发生\\n            &nbsp;&middot;&nbsp;&middot;&nbsp;&middot;&nbsp;&middot;&nbsp;&middot;&nbsp;&middot;\\n    </h2>\\n\\n    <ul>\\n            <li>\\n              <a target=\"_blank\" href=\"https://www.douban.com/group/topic/166315221/?utm_campaign=douban_what_happening&amp;utm_source=douban&amp;utm_medium=pc_web\" \\n    onclick=\"moreurl(this, {category:\\'sns\\', type:\\'side_entry\\'})\"\\n>豆瓣读书会丨聊聊我们“无处安放的同情”</a>\\n            </li>\\n            <li>\\n              <a target=\"_blank\" href=\"https://www.douban.com/group/topic/165963961/?utm_campaign=douban_what_happening&amp;utm_source=douban&amp;utm_medium=pc_web\" \\n    onclick=\"moreurl(this, {category:\\'sns\\', type:\\'side_entry\\'})\"\\n>伴宠乐园丨不出家门也能囤好粮</a>\\n            </li>\\n    </ul>\\n</div>\\n\\n\\n\\n\\n<div id=\"dale_homepage_login_top_right\" class=\"mod\"></div>\\n\\n\\n\\n\\n\\n\\n\\n<div class=\"mod\" id=\"anony-time\">\\n    \\n    <h2>\\n        豆瓣时间\\n            &nbsp;&middot;&nbsp;&middot;&nbsp;&middot;&nbsp;&middot;&nbsp;&middot;&nbsp;&middot;\\n            <span class=\"pl\">&nbsp;(\\n                \\n                    <a href=\"https://time.douban.com/?dt_time_source=douban-web_guangbo\" target=\"_blank\">查看全部</a>\\n                ) </span>\\n    </h2>\\n\\n\\n    \\n\\n\\n\\n<ul class=\"time-list\">\\n        <li>\\n            \\n            <a class=\"cover audio new \" href=\"https://m.douban.com/time/column/188?dt_time_source=douban-web_guangbo\" target=\"_blank\">\\n                <img src=\"https://img9.doubanio.com/dae/niffler/niffler/images/8e457bfe-5872-11ea-916d-4e50984eeed6.jpg\" alt=\"用性别之尺丈量世界——18堂思想课解读女性问题\">\\n            </a>\\n            <a class=\"title\" href=\"https://m.douban.com/time/column/188?dt_time_source=douban-web_guangbo\" target=\"_blank\">用性别之尺丈量世界——18堂思想课解读女性问题</a>\\n            <span class=\"type\">音频专栏</span>\\n        </li>\\n        <li>\\n            \\n            <a class=\"cover video new \" href=\"https://m.douban.com/time/column/187?dt_time_source=douban-web_guangbo\" target=\"_blank\">\\n                <img src=\"https://img9.doubanio.com/dae/niffler/niffler/images/0b1c1886-4cb1-11ea-a5fc-ce0829b4ff74.jpg\" alt=\"电影产业破壁课——13小时重塑电影世界观\">\\n            </a>\\n            <a class=\"title\" href=\"https://m.douban.com/time/column/187?dt_time_source=douban-web_guangbo\" target=\"_blank\">电影产业破壁课——13小时重塑电影世界观</a>\\n            <span class=\"type\">视频专栏</span>\\n        </li>\\n</ul>\\n\\n</div>\\n\\n\\n\\n\\n\\n\\n\\n\\n\\n<div class=\"mod\">\\n    \\n    <h2>\\n        热门话题\\n            &nbsp;&middot;&nbsp;&middot;&nbsp;&middot;&nbsp;&middot;&nbsp;&middot;&nbsp;&middot;\\n            <span class=\"pl\">&nbsp;(\\n                \\n                    <a href=\"/gallery/\" target=\"_self\">去话题广场</a>\\n                ) </span>\\n    </h2>\\n\\n\\n    <ul>\\n        \\n            <li class=\"rec_topics\">\\n                    <a href=\"https://www.douban.com/gallery/topic/131026/?from=hot_topic_homepage\" class=\"rec_topics_name\">线上博物馆参观笔记</a>\\n                    \\n                    <span class=\"rec_topics_subtitle\">6.4万次浏览</span>\\n            </li>\\n            <li class=\"rec_topics\">\\n                    <a href=\"https://www.douban.com/gallery/topic/131334/?from=hot_topic_homepage\" class=\"rec_topics_name\">疫情时期复工见闻</a>\\n                    \\n                    <span class=\"rec_topics_subtitle\">4.0万次浏览</span>\\n            </li>\\n            <li class=\"rec_topics\">\\n                    <a href=\"https://www.douban.com/gallery/topic/129030/?from=hot_topic_homepage\" class=\"rec_topics_name\">艺术家之间的友谊</a>\\n                    \\n                    <span class=\"rec_topics_subtitle\">74.1万次浏览</span>\\n            </li>\\n            <li class=\"rec_topics\">\\n                    <a href=\"https://www.douban.com/gallery/topic/131150/?from=hot_topic_homepage\" class=\"rec_topics_name\">纪念行为艺术家乌雷</a>\\n                    \\n                    <span class=\"rec_topics_subtitle\">54.4万次浏览</span>\\n            </li>\\n            <li class=\"rec_topics\">\\n                    <a href=\"https://www.douban.com/gallery/topic/125736/?from=hot_topic_homepage\" class=\"rec_topics_name\">那些触动你的行为艺术作品</a>\\n                    \\n                    <span class=\"rec_topics_subtitle\">592.0万次浏览</span>\\n            </li>\\n            <li class=\"rec_topics\">\\n                    <a href=\"https://www.douban.com/gallery/topic/130566/?from=hot_topic_homepage\" class=\"rec_topics_name\">文学作品中那些触击心灵的“小镇”故事</a>\\n                    \\n                    <span class=\"rec_topics_subtitle\">55.7万次浏览</span>\\n            </li>\\n            <li class=\"rec_topics\">\\n                    <a href=\"https://www.douban.com/gallery/topic/130904/?from=hot_topic_homepage\" class=\"rec_topics_name\">临摹失败作品</a>\\n                    \\n                    <span class=\"rec_topics_subtitle\">新话题 · 17.4万次浏览</span>\\n            </li>\\n            <li class=\"rec_topics\">\\n                    <a href=\"https://www.douban.com/gallery/topic/130568/?from=hot_topic_homepage\" class=\"rec_topics_name\">关于你的文学梦</a>\\n                    \\n                    <span class=\"rec_topics_subtitle\">4.6万次浏览</span>\\n            </li>\\n            <li class=\"rec_topics\">\\n                <a href=\"/gallery/mine?type=invited\">> 我被邀请参与的话题(0)</a>\\n            </li>\\n            <li class=\"rec_topics\">\\n                <a href=\"/gallery/topic/create\">+ 发起新话题</a>\\n            </li>\\n    </ul>\\n</div>\\n\\n\\n\\n\\n\\n\\n\\n\\n<div id=\"friend\" class=\"mod\">\\n</div>\\n\\n\\n\\n\\n\\n\\n\\n\\n\\n<div id=\"fp-sites\" class=\"mod\">\\n</div>\\n\\n\\n<div class=\"mod\">\\n  <div id=\"dale_homepage_login_inner_middle\"></div>\\n  <div id=\"dale_homepage_login_download_middle\"></div>\\n</div>\\n\\n<div id=\"dale_homepage_login_bottom_middle_right\" class=\"mod\"></div>\\n<div id=\"dale_homepage_login_bottom_right\" class=\"mod\"></div>\\n\\n        </div>\\n        <div class=\"extra\">\\n            \\n        </div>\\n    </div>\\n</div>\\n\\n        \\n<div id=\"footer\">\\n    \\n<span id=\"icp\" class=\"fleft gray-link\">\\n    &copy; 2005－2020 douban.com, all rights reserved 北京豆网科技有限公司\\n</span>\\n\\n<a href=\"https://www.douban.com/hnypt/variformcyst.py\" style=\"display: none;\"></a>\\n\\n<span class=\"fright\">\\n    <a href=\"https://www.douban.com/about\">关于豆瓣</a>\\n    · <a href=\"https://www.douban.com/jobs\">在豆瓣工作</a>\\n    · <a href=\"https://www.douban.com/about?topic=contactus\">联系我们</a>\\n    · <a href=\"https://www.douban.com/about/legal\">法律声明</a>\\n    \\n    · <a href=\"https://help.douban.com/?app=main\" target=\"_blank\">帮助中心</a>\\n    · <a href=\"https://www.douban.com/doubanapp/\">移动应用</a>\\n    · <a href=\"https://www.douban.com/partner/\">豆瓣广告</a>\\n</span>\\n\\n</div>\\n\\n    </div>\\n    \\n    \\n\\n    <script type=\"text/javascript\" src=\"https://img3.doubanio.com/misc/mixed_static/7ce4440eb15fe07b.js\"></script>\\n    \\n\\n\\n\\n<!-- douban ad begin -->\\n\\n\\n\\n\\n\\n    \\n<script type=\"text/javascript\">\\n    (function (global) {\\n        var newNode = global.document.createElement(\\'script\\'),\\n            existingNode = global.document.getElementsByTagName(\\'script\\')[0],\\n            adSource = \\'//erebor.douban.com/\\',\\n            userId = \\'140014301\\',\\n            browserId = \\'1i8YWHFPDwI\\',\\n            criteria = \\'3:/\\',\\n            preview = \\'\\',\\n            debug = false,\\n            adSlots = [\\'dale_homepage_login_top_right\\', \\'dale_homepage_login_bottom_middle_right\\', \\'dale_homepage_login_bottom_right\\', \\'dale_homepage_login_inner_middle\\', \\'dale_homepage_login_download_middle\\'];\\n\\n        global.DoubanAdRequest = {src: adSource, uid: userId, bid: browserId, crtr: criteria, prv: preview, debug: debug};\\n        global.DoubanAdSlots = (global.DoubanAdSlots || []).concat(adSlots);\\n\\n        newNode.setAttribute(\\'type\\', \\'text/javascript\\');\\n        newNode.setAttribute(\\'src\\', \\'//img1.doubanio.com/eDRjYjNvdi9mL2FkanMvZTQ2YTNkMjgwYjBiMzc2OWE4YTI3MWFhMzI0NTQwMTBlMWY3OTYzMy9hZC5yZWxlYXNlLmpz\\');\\n        newNode.setAttribute(\\'async\\', true);\\n        existingNode.parentNode.insertBefore(newNode, existingNode);\\n    })(this);\\n</script>\\n\\n\\n\\n\\n\\n\\n\\n\\n\\n\\n<!-- douban ad end -->\\n\\n    \\n    \\n\\n\\n\\n\\n\\n\\n\\n\\n\\n<!-- Google Tag Manager -->\\n<noscript><iframe src=\"//www.googletagmanager.com/ns.html?id=GTM-5WP579\" height=\"0\" width=\"0\" style=\"display:none;visibility:hidden\"></iframe></noscript>\\n<script>(function(w,d,s,l,i){w[l]=w[l]||[];w[l].push({\\'gtm.start\\':new Date().getTime(),event:\\'gtm.js\\'});var f=d.getElementsByTagName(s)[0],j=d.createElement(s),dl=l!=\\'dataLayer\\'?\\'&l=\\'+l:\\'\\';j.async=true;j.src=\\'//www.googletagmanager.com/gtm.js?id=\\'+i+dl;f.parentNode.insertBefore(j,f);})(window,document,\\'script\\',\\'dataLayer\\',\\'GTM-5WP579\\');</script>\\n<!-- End Google Tag Manager -->\\n\\n\\n<script type=\"text/javascript\">\\nvar _paq = _paq || [];\\n_paq.push([\\'trackPageView\\']);\\n_paq.push([\\'enableLinkTracking\\']);\\n(function() {\\n    var p=((\\'https:\\' == document.location.protocol) ? \\'https\\' : \\'http\\'), u=p+\\'://fundin.douban.com/\\';\\n    _paq.push([\\'setTrackerUrl\\', u+\\'piwik\\']);\\n    _paq.push([\\'setSiteId\\', \\'100001\\']);\\n    var d=document, g=d.createElement(\\'script\\'), s=d.getElementsByTagName(\\'script\\')[0];\\n    g.type=\\'text/javascript\\';\\n    g.defer=true;\\n    g.async=true;\\n    g.src=p+\\'://img3.doubanio.com/dae/fundin/piwik.js\\';\\n    s.parentNode.insertBefore(g,s);\\n})();\\n</script>\\n\\n<script type=\"text/javascript\">\\nvar _gaq = _gaq || [];\\n_gaq.push([\\'_setAccount\\', \\'UA-7019765-1\\']);\\n_gaq.push([\\'_setCampNameKey\\', \\'dcn\\']);\\n_gaq.push([\\'_setCampSourceKey\\', \\'dcs\\']);\\n_gaq.push([\\'_setCampMediumKey\\', \\'dcm\\']);\\n_gaq.push([\\'_setCampTermKey\\', \\'dct\\']);\\n_gaq.push([\\'_setCampContentKey\\', \\'dcc\\']);\\n_gaq.push([\\'_addOrganic\\', \\'baidu\\', \\'word\\']);\\n_gaq.push([\\'_addOrganic\\', \\'soso\\', \\'w\\']);\\n_gaq.push([\\'_addOrganic\\', \\'3721\\', \\'name\\']);\\n_gaq.push([\\'_addOrganic\\', \\'youdao\\', \\'q\\']);\\n_gaq.push([\\'_addOrganic\\', \\'so.360.cn\\', \\'q\\']);\\n_gaq.push([\\'_addOrganic\\', \\'vnet\\', \\'kw\\']);\\n_gaq.push([\\'_addOrganic\\', \\'sogou\\', \\'query\\']);\\n_gaq.push([\\'_addIgnoredOrganic\\', \\'豆瓣\\']);\\n_gaq.push([\\'_addIgnoredOrganic\\', \\'douban\\']);\\n_gaq.push([\\'_addIgnoredOrganic\\', \\'豆瓣网\\']);\\n_gaq.push([\\'_addIgnoredOrganic\\', \\'www.douban.com\\']);\\n_gaq.push([\\'_setDomainName\\', \\'.douban.com\\']);\\n\\n\\n    _gaq.push([\\'_setCustomVar\\', 1, \\'responsive_view_mode\\', \\'desktop\\', 3]);\\n\\n_gaq.push([\\'_trackPageview\\']);\\n_gaq.push([\\'_trackPageLoadTime\\']);\\n    _gaq.push([\\'_setVar\\', \\'14001\\']);\\n\\nwindow._ga_init = function() {\\n    var ga = document.createElement(\\'script\\');\\n    ga.src = (\\'https:\\' == document.location.protocol ? \\'https://ssl\\' : \\'http://www\\') + \\'.google-analytics.com/ga.js\\';\\n    ga.setAttribute(\\'async\\', \\'true\\');\\n    document.documentElement.firstChild.appendChild(ga);\\n};\\nif (window.addEventListener) {\\n    window.addEventListener(\\'load\\', _ga_init, false);\\n} else {\\n    window.attachEvent(\\'onload\\', _ga_init);\\n}\\n</script>\\n\\n\\n\\n\\n\\n    <!-- dae-web-sns--home-64c58dd75c-wc8k2-->\\n\\n  \\n\\n  <script>_SPLITTEST=\\'\\'</script>\\n</body>\\n\\n</html>\\n\\n\\n'"
      ]
     },
     "execution_count": null,
     "metadata": {},
     "output_type": "execute_result"
    }
   ],
   "source": [
    "# hide\n",
    "res = requests.post(url,headers=headers,data=data,cookies=cookies)\n",
    "res.text"
   ]
  },
  {
   "cell_type": "code",
   "execution_count": null,
   "metadata": {},
   "outputs": [
    {
     "name": "stdout",
     "output_type": "stream",
     "text": [
      "hello world\n",
      "hello world\n",
      "hello world\n",
      "hello world\n",
      "hello world\n"
     ]
    }
   ],
   "source": [
    "# hide\n",
    "# 查看最近发布的5条动态\n",
    "soup = BeautifulSoup(res.text)\n",
    "items = soup.find_all(class_='new-status')\n",
    "for item in items[:5]:\n",
    "    print(item.find('p').text)"
   ]
  },
  {
   "cell_type": "code",
   "execution_count": null,
   "metadata": {},
   "outputs": [
    {
     "data": {
      "text/plain": [
       "(bs4.element.Tag,\n",
       " {'class': ['new-status', 'status-wrapper', 'saying'],\n",
       "  'data-sid': '2849308445',\n",
       "  'data-uid': '140014301'})"
      ]
     },
     "execution_count": null,
     "metadata": {},
     "output_type": "execute_result"
    }
   ],
   "source": [
    "# hide\n",
    "type(items[0]),items[0].attrs"
   ]
  },
  {
   "cell_type": "markdown",
   "metadata": {},
   "source": [
    "顺便看看tag的其他属性，上下左右查到其他的tag\n",
    "* item.parent\n",
    "* item.parents\n",
    "\n",
    "* item.contents\n",
    "* item.children\n",
    "\n",
    "* item.next_sibling\n",
    "* item.previous_sibling"
   ]
  },
  {
   "cell_type": "markdown",
   "metadata": {},
   "source": [
    "## JSON 存储\n",
    "> 这个格式本质上就是个dict，在MongoDB和Redis中也是这样存储，所以这里就开始学习下"
   ]
  },
  {
   "cell_type": "markdown",
   "metadata": {},
   "source": [
    "比如这次要把谁在什么时间，说了什么话记下来"
   ]
  },
  {
   "cell_type": "code",
   "execution_count": null,
   "metadata": {},
   "outputs": [
    {
     "name": "stdout",
     "output_type": "stream",
     "text": [
      "2849283969\n",
      "Hawk\n",
      "2020-03-04 19:37:35\n",
      "hello world\n"
     ]
    }
   ],
   "source": [
    "# hide\n",
    "print(items[5]['data-sid'])\n",
    "print(items[0].find(class_='text').a.text)\n",
    "print(items[0].find(class_='created_at')['title'])\n",
    "print(items[4].find(class_='bd').contents[1].text.replace('\\n',''))"
   ]
  },
  {
   "cell_type": "code",
   "execution_count": null,
   "metadata": {},
   "outputs": [
    {
     "data": {
      "text/plain": [
       "{'2849308445': {'name': 'Hawk',\n",
       "  'created_at': '2020-03-04 19:37:35',\n",
       "  'content': 'hello world'},\n",
       " '2849286231': {'name': 'Hawk',\n",
       "  'created_at': '2020-03-04 19:23:46',\n",
       "  'content': 'hello world'},\n",
       " '2849285799': {'name': 'Hawk',\n",
       "  'created_at': '2020-03-04 19:23:26',\n",
       "  'content': 'hello world'},\n",
       " '2849285223': {'name': 'Hawk',\n",
       "  'created_at': '2020-03-04 19:23:05',\n",
       "  'content': 'hello world'},\n",
       " '2849284578': {'name': 'Hawk',\n",
       "  'created_at': '2020-03-04 19:22:42',\n",
       "  'content': 'hello world'},\n",
       " '2849283969': {'name': 'Hawk',\n",
       "  'created_at': '2020-03-04 19:22:19',\n",
       "  'content': 'hello world'},\n",
       " '2849283502': {'name': 'Hawk',\n",
       "  'created_at': '2020-03-04 19:21:59',\n",
       "  'content': 'hello world'},\n",
       " '2849282899': {'name': 'Hawk',\n",
       "  'created_at': '2020-03-04 19:21:34',\n",
       "  'content': 'hello world'},\n",
       " '2849282248': {'name': 'Hawk',\n",
       "  'created_at': '2020-03-04 19:21:10',\n",
       "  'content': 'hello world'},\n",
       " '2849281687': {'name': 'Hawk',\n",
       "  'created_at': '2020-03-04 19:20:51',\n",
       "  'content': 'hello world'},\n",
       " '2849281294': {'name': 'Hawk',\n",
       "  'created_at': '2020-03-04 19:20:31',\n",
       "  'content': 'hello world'},\n",
       " '2849280694': {'name': 'Hawk',\n",
       "  'created_at': '2020-03-04 19:20:07',\n",
       "  'content': 'hello world'},\n",
       " '2849277730': {'name': 'Hawk',\n",
       "  'created_at': '2020-03-04 19:18:11',\n",
       "  'content': 'hello world'},\n",
       " '2845334158': {'name': 'Hawk',\n",
       "  'created_at': '2020-03-02 18:47:18',\n",
       "  'content': 'hello world'},\n",
       " '2823238525': {'name': 'Hawk',\n",
       "  'created_at': '2020-02-20 20:59:59',\n",
       "  'content': 'hfgjh'},\n",
       " '2822780190': {'name': 'Hawk',\n",
       "  'created_at': '2020-02-20 16:47:52',\n",
       "  'content': 'hello world'},\n",
       " '2822769950': {'name': 'Hawk',\n",
       "  'created_at': '2020-02-20 16:41:34',\n",
       "  'content': 'hello world'},\n",
       " '2822718314': {'name': 'Hawk',\n",
       "  'created_at': '2020-02-20 16:08:03',\n",
       "  'content': '1111'},\n",
       " '2822710087': {'name': 'Hawk',\n",
       "  'created_at': '2020-02-20 16:02:37',\n",
       "  'content': 'asdfasd'},\n",
       " '2726525573': {'name': 'Malorie',\n",
       "  'created_at': '2019-12-14 10:18:01',\n",
       "  'content': \"21 身份危机 |Model MinoritySomeone like me can be a real nightmare, completely aware But I'd rather be a real nightmare than die unaware So save me your prayers 一直很想写这篇日记，却因为太贴近真实的自我...\"},\n",
       " '2696684598': {'name': '安提戈涅',\n",
       "  'created_at': '2019-11-15 19:42:04',\n",
       "  'content': '《浮士德》中的植物学诗学每年读一遍《浮士德》，每年就多走近歌德一些，从他巨大的矿藏里敲下一小块，自己收拢珍藏起来。今年重读，发现了《浮士德》中歌德对有机世界的狂热。在植物学天地中，他再一次表达着生命不...'},\n",
       " '2675363447': {'name': '女奥特迈',\n",
       "  'created_at': '2019-10-25 18:16:04',\n",
       "  'content': '2019年10月22日 我在环卫的第812天 “我的梦想”背后的故事上一次写是2018年9月12日，是我在环卫的第416天。一眨眼，又400天过去了。 其实我一直有感悟的，多的时候每天都会有感悟，只是很多时候因为懒，没有把它记录下来。日子总是过得又快又慢，根...'},\n",
       " '2637148195': {'name': '肘子zi非子zǐ',\n",
       "  'created_at': '2019-09-20 16:42:09',\n",
       "  'content': '舅舅8月25号中午，一通电话告知：舅舅独居的一楼小间敲门无人应，邻居已经几天没见他进出，从中传出的腐臭味一天比一天浓重。居委通知警察，警察联系我爸如是说。 我爸立刻把情况简单地告诉我，...我认识的独居老人'},\n",
       " '2620850215': {'name': '拾贝岛民',\n",
       "  'created_at': '2019-09-05 11:20:09',\n",
       "  'content': '上海西区 Western quarter of Shanghai大学同学群里传来消息，某同学荣归主怀，我心中一震，这位同学当年是班里漂亮可爱的女生，她长的皮肤细腻、白里透红、明眸皓齿。但近年听说已经不能认人和自理，她的安息，对亲友也许是种释...'},\n",
       " '2620435648': {'name': '，',\n",
       "  'created_at': '2019-09-04 22:44:08',\n",
       "  'content': '72小时，我在长沙吃了什么？两个四川人，怎么甘心在长沙只吃纯辣啊！ -为什么想出去玩这么久，最后选择了去长沙？ -因为妹妹去年7月到北京开会，给我带了一份蒜蓉小龙虾，那个味道突然在夏天到来的时候，从我的记记忆里...念念不忘的地方美食'},\n",
       " '2617022918': {'name': '躺倒',\n",
       "  'created_at': '2019-09-01 18:02:03',\n",
       "  'content': '徒步在“犀牛的领地”喜欢野观野生动物，非洲一定要去，明星五霸——“大象、犀牛、狮子、野水牛和豹”声名在外。但是，其实我们亚洲是世界上另一处有“大象+犀牛+大猫”组合的地方。 世界上现存三种象，两种在非...'},\n",
       " '2616953824': {'name': '麦克黄',\n",
       "  'created_at': '2019-09-01 16:54:04',\n",
       "  'content': '小友给小朋友看嗓子是一件有难度的工作，常见话术有三种，1.“来，张嘴，给阿姨看你的牙牙白不白”；2.“张大，啊——看看你嘴里有没有虫虫”；3.举着压舌板心虚地说，“来，吃棒棒糖啦”。不管...'},\n",
       " '2612446102': {'name': '握不住的灵魂',\n",
       "  'created_at': '2019-08-28 19:28:01',\n",
       "  'content': '石头、气味与阶级之门,《寄生虫》的17个细节当人群之中出现差异，并且这样的差异已经导致部分人拥有凌驾其他人的地位、权力、特权时，这就称为社会阶层。社会借此而将人们分类成有高下之别的阶层或等级。#wikipedia 1.爬行式运动 影片...'},\n",
       " '2609397893': {'name': '小毒牙',\n",
       "  'created_at': '2019-08-26 08:06:03',\n",
       "  'content': '运城访古记运城在山西的最南部，晋秦豫三省交界处。 目前上海到运城只有一班高铁，将近11个小时；而上海到河南省三门峡市却有更多高铁班次，仅6个多小时，再从三门峡打车到运城市中心的酒店只要1个半小...遇见老建筑'},\n",
       " '2580259408': {'name': 'frozenmoon',\n",
       "  'created_at': '2019-08-03 17:30:03',\n",
       "  'content': '海清们的真正困境，在于中年人的故事被集体清空（文/杨时旸） 演员海清在First青年电影展的闭幕式上叫上了姚晨、宋佳和梁静，一起站在舞台上发出了一次呼吁，她们希望导演和制片人能重视自己这些中生代女演员，希望青年导演们也能够愿意并...那些反映出中年人真实困境的影视剧'},\n",
       " '2550183515': {'name': '维生素',\n",
       "  'created_at': '2019-07-07 19:32:00',\n",
       "  'content': '奶奶留下来的螺钿木盒春节前，有个女生找到我，说她有一个螺钿的盒子需要修补。我拿到一看，上面的金属扣件都没有了，原来这个盒子是她奶奶留下了的，但金属扣件大多坏了，她拿去给一个做金缮的师傅修理，但金缮...家里的老物件'},\n",
       " '2550021779': {'name': '喵呜不停',\n",
       "  'created_at': '2019-07-07 16:41:59',\n",
       "  'content': '2018年度候选猫片，每张也是挑花了眼！前几天发布2018年度猫片后， 各渠道反响热烈， 微博、微信阅读量更是超出预期， 所以再次感谢大家的厚爱！ 前文说到这一年专职拍猫， 所以片子数量激增， 年度照片也着实挑花了眼， 最后初选...'}}"
      ]
     },
     "execution_count": null,
     "metadata": {},
     "output_type": "execute_result"
    }
   ],
   "source": [
    "# hide\n",
    "contents = {}\n",
    "for item in items:\n",
    "    _id = item['data-sid']\n",
    "    name = item.find(class_='text').a.text    \n",
    "    created_at = item.find(class_='created_at')['title']\n",
    "    content = item.find(class_='bd').contents[1].text.replace('\\n','')  \n",
    "    contents[_id] = {}\n",
    "    contents[_id]['name'] = name\n",
    "    contents[_id]['created_at'] = created_at  \n",
    "    contents[_id]['content'] = content\n",
    "contents"
   ]
  },
  {
   "cell_type": "markdown",
   "metadata": {},
   "source": [
    "### 保存和读取json"
   ]
  },
  {
   "cell_type": "code",
   "execution_count": null,
   "metadata": {},
   "outputs": [],
   "source": [
    "# hide\n",
    "with open('./data/01_douban.json', 'w') as f:\n",
    "    json.dump(contents,f)"
   ]
  },
  {
   "cell_type": "code",
   "execution_count": null,
   "metadata": {},
   "outputs": [
    {
     "data": {
      "text/plain": [
       "{'name': 'Malorie',\n",
       " 'created_at': '2019-12-14 10:18:01',\n",
       " 'content': \"21 身份危机 |Model MinoritySomeone like me can be a real nightmare, completely aware But I'd rather be a real nightmare than die unaware So save me your prayers 一直很想写这篇日记，却因为太贴近真实的自我...\"}"
      ]
     },
     "execution_count": null,
     "metadata": {},
     "output_type": "execute_result"
    }
   ],
   "source": [
    "# hide\n",
    "with open('./data/01_douban.json', 'r') as f:\n",
    "    contents = json.loads(f.read())\n",
    "contents['2726525573']"
   ]
  },
  {
   "cell_type": "markdown",
   "metadata": {},
   "source": [
    "## 自动识别列表\n",
    "> 思路就是看谁有最多的相同类的children，而且嵌套和样式最丰富的\n",
    "\n",
    "根据传入的soup，分析哪些是重复的tag\n",
    "然后选择一个筛选规则，再批量爬数据\n",
    "\n",
    "先选择一大堆有特征的网页，然后批量测试，是否都能得到想要的结果"
   ]
  },
  {
   "cell_type": "code",
   "execution_count": null,
   "metadata": {},
   "outputs": [],
   "source": [
    "url_sample = 'https://a.jd.com/?cateId=142'\n",
    "res_sample = requests.get(url_sample,headers={'user-agent':'Mozilla/5.0'})\n",
    "# res_sample = requests.get('https://book.douban.com/tag/%E5%A4%96%E5%9B%BD%E6%96%87%E5%AD%A6',headers={'user-agent':'Mozilla/5.0'})\n",
    "soup_sample = BeautifulSoup(res_sample.text)"
   ]
  },
  {
   "cell_type": "code",
   "execution_count": null,
   "metadata": {},
   "outputs": [
    {
     "data": {
      "text/plain": [
       "'<!DOCTYPE html>\\n<html class=\"root61\">\\n<head>\\n    <meta http-equiv=\"Content-Type\" content=\"text/html; charset=UTF-8\">\\n    <title>\\n 领券中心    </title>\\n    <META HTTP-EQUIV=\"Pragma\" CONTENT=\"no-cache\">\\n    <META HTTP-EQUIV=\"Cache-Control\" CONTENT=\"no-cache\">\\n    <META HTTP-EQUIV=\"Expires\" CONTENT=\"0\">\\n    <meta name=\"Keywords\" content=\"优惠券,领券,京东JD.COM\">\\n    <meta name=\"description\" content=\"京东JD.COM领券中心\">\\n    <link rel=\"icon\" href=\"//www.jd.com/favicon.ico\" mce_href=\"//www.jd.com/favicon.ico\" type=\"image/x-icon\">\\n\\n    \\n    <!--,user/myjd/lib/1.0.0/widget/global/global.css-->\\n    <link type=\"text/css\" rel=\"stylesheet\" href=\"//misc.360buyimg.com/??jdf/1.0.0/unit/ui-base/5.0.0/ui-base.css,jdf/1.0.0/unit/shortcut/5.0.0/shortcut.css,jdf/1.0.0/unit/global-header/5.0.0/global-header.css,jdf/1.0.0/unit/myjd/5.0.0/myjd.css,jdf/1.0.0/unit/nav/5.0.0/nav.css,jdf/1.0.0/unit/shoppingcart/5.0.0/shoppingcart.css,jdf/1.0.0/unit/global-footer/5.0.0/global-footer.css,jdf/1.0.0/unit/service/5.0.0/service.css\">\\n    <link type=\"text/css\" rel=\"stylesheet\" href=\"//misc.360buyimg.com/user/quan/3.0.0/widget/??/quan-gifts/quan-gifts.css\">\\n    <script type=\"text/javascript\">\\n        window.pageConfig = {\\n            compatible: true,\\n            gridWideClass: \\'root61\\',\\n            jdfVersion: \\'2.0.0\\'\\n        };\\n    </script>\\n\\n    <link source=\"widget\" type=\"text/css\" rel=\"stylesheet\" href=\"//misc.360buyimg.com/user/quan/3.0.0/widget/??/common/common.css,/header-index/header-index.css,/quan-index/quan-index.css\">\\n    <script type=\"text/javascript\">\\n        var category = {\\n            id: \\'142\\',\\n            nextId: \\'146\\',\\n            name: \\'生活服务\\'\\n        };\\n    </script>\\n</head>\\n\\n<body>\\n\\n\\n    <!--shortcut start-->\\r\\n<div id=\"shortcut-2014\">\\r\\n\\t<div class=\"w\">\\r\\n    \\t<ul class=\"fl\">\\r\\n    \\t\\t<li id=\"ttbar-home\"><i class=\"iconfont\">&#xe608;</i><a href=\"//www.jd.com/\" target=\"_blank\">京东首页</a></li>\\r\\n    \\t\\t<li class=\"dorpdown\" id=\"ttbar-mycity\"></li>\\r\\n    \\t</ul>\\r\\n    \\t<ul class=\"fr\">\\r\\n\\t\\t\\t<li class=\"fore1\" id=\"ttbar-login\">\\r\\n\\t\\t\\t\\t<a href=\"javascript:login();\" class=\"link-login\">你好，请登录</a>&nbsp;&nbsp;<a href=\"javascript:regist();\" class=\"link-regist style-red\">免费注册</a>\\r\\n\\t\\t\\t</li>\\r\\n\\t\\t\\t<li class=\"spacer\"></li>\\r\\n\\t\\t\\t<li class=\"fore2\">\\r\\n\\t\\t\\t\\t<div class=\"dt\">\\r\\n\\t\\t\\t\\t\\t<a target=\"_blank\" href=\"//order.jd.com/center/list.action\">我的订单</a>\\r\\n\\t\\t\\t\\t</div>\\r\\n\\t\\t\\t</li>\\r\\n\\t\\t\\t<li class=\"spacer\"></li>\\r\\n\\t\\t\\t<li class=\"fore3 dorpdown\" id=\"ttbar-myjd\">\\r\\n\\t\\t\\t\\t<div class=\"dt cw-icon\">\\r\\n\\t\\t\\t\\t\\t<!-- <i class=\"ci-right\"><s>◇</s></i> -->\\r\\n\\t\\t\\t\\t\\t<a target=\"_blank\" href=\"//home.jd.com/\">我的京东</a><i class=\"iconfont\">&#xe605;</i>\\r\\n\\t\\t\\t\\t</div>\\r\\n\\t\\t\\t\\t<div class=\"dd dorpdown-layer\"></div>\\r\\n\\t\\t\\t</li>\\r\\n\\t\\t\\t<li class=\"spacer\"></li>\\r\\n\\t\\t\\t<li class=\"fore4\" id=\"ttbar-member\">\\r\\n\\t\\t\\t\\t<div class=\"dt\">\\r\\n\\t\\t\\t\\t\\t<a target=\"_blank\" href=\"//vip.jd.com/\">京东会员</a>\\r\\n\\t\\t\\t\\t</div>\\r\\n\\t\\t\\t</li>\\r\\n\\t\\t\\t<li class=\"spacer\"></li>\\r\\n\\t\\t\\t<li class=\"fore5\"   id=\"ttbar-ent\">\\r\\n\\t\\t\\t\\t<div class=\"dt\">\\r\\n\\t\\t\\t\\t\\t<a target=\"_blank\" href=\"//b.jd.com/\">企业采购</a>\\r\\n\\t\\t\\t\\t</div>\\r\\n\\t\\t\\t</li>\\r\\n\\t\\t\\t<li class=\"spacer\"></li>\\r\\n\\t\\t\\t<li class=\"fore6 dorpdown\" id=\"ttbar-serv\">\\r\\n\\t\\t\\t\\t<div class=\"dt cw-icon\">\\r\\n\\t\\t\\t\\t\\t<!-- <i class=\"ci-right\"><s>◇</s></i> -->\\r\\n\\t\\t\\t\\t\\t客户服务<i class=\"iconfont\">&#xe605;</i>\\r\\n\\t\\t\\t\\t</div>\\r\\n\\t\\t\\t\\t<div class=\"dd dorpdown-layer\"></div>\\r\\n\\t\\t\\t</li>\\r\\n\\t\\t\\t<li class=\"spacer\"></li>\\r\\n\\t\\t\\t<li class=\"fore7 dorpdown\" id=\"ttbar-navs\">\\r\\n\\t\\t\\t\\t<div class=\"dt cw-icon\">\\r\\n\\t\\t\\t\\t\\t<!-- <i class=\"ci-right\"><s>◇</s></i> -->\\r\\n\\t\\t\\t\\t\\t网站导航<i class=\"iconfont\">&#xe605;</i>\\r\\n\\t\\t\\t\\t</div>\\r\\n\\t\\t\\t\\t<div class=\"dd dorpdown-layer\"></div>\\r\\n\\t\\t\\t</li>\\r\\n\\t\\t\\t<li class=\"spacer\"></li>\\r\\n\\t\\t\\t<li class=\"fore8 dorpdown\" id=\"ttbar-apps\">\\r\\n\\t\\t\\t\\t<div class=\"dt cw-icon\">\\r\\n\\t\\t\\t\\t\\t<!-- <i class=\"ci-left\"></i> -->\\r\\n\\t\\t\\t\\t\\t<!-- <i class=\"ci-right\"><s>◇</s></i> -->\\r\\n\\t\\t\\t\\t\\t<a target=\"_blank\" href=\"//app.jd.com/\">手机京东</a>\\r\\n\\t\\t\\t\\t</div>\\r\\n\\t\\t\\t</li>\\r\\n    \\t</ul>\\r\\n\\t\\t<span class=\"clr\"></span>\\r\\n    </div>\\r\\n</div>\\r\\n<div id=\"o-header-2013\"><div id=\"header-2013\" style=\"display:none;\"></div></div>\\r\\n<!--shortcut end-->\\n    <div id=\"o-header-2013\"><div id=\"header-2013\" style=\"display:none;\"></div></div>\\n<div class=\"w\">\\n    <div id=\"logo-2014\">\\n        <h1><a href=\"//www.jd.com/\" class=\"logo\">京东</a></h1>\\n        <div class=\"extra\">\\n            <h2 id=\"channel\">领券中心</h2>\\n        </div>\\n    </div>\\n    <div id=\"search-2014\">\\n        <ul id=\"shelper\" class=\"hide\"></ul>\\n        <div class=\"form\">\\n            <input type=\"text\" onkeydown=\"javascript:if(event.keyCode==13) searchCoupon(\\'key\\');\" autocomplete=\"on\" id=\"quan-key\" accesskey=\"s\" class=\"text\" aria-label=\"搜索框\" />\\n            <button onclick=\"searchCoupon(\\'key\\');return false;\" class=\"button cw-icon\" clstag=\"pageclick|keycount|aladdin_201605165|35\"><i></i>搜索</button>\\n            <div id=\"quan-search\" class=\"quan-search quan-dropdown\">\\n                <div  class=\"quan-tit\">\\n                    优惠券\\n                    <i class=\"ci-right\"></i>\\n                </div>\\n\\n                <div class=\"i-quan\">\\n                    <ul>\\n                        <li class=\"select\" data-value=\"1\" onclick=\"selectSearchItem(this)\">\\n                            <a href=\"javascript:void(0);\" clstag=\"pageclick|keycount|aladdin_201605165|36\"><b></b>优惠券</a>\\n                        </li>\\n                        <li data-value=\"2\" onclick=\"selectSearchItem(this)\">\\n                            <a href=\"javascript:void(0);\" clstag=\"pageclick|keycount|aladdin_201605165|37\"><b></b>商\\u3000品</a>\\n                        </li>\\n                    </ul>\\n                </div>\\n            </div>\\n        </div>\\n    </div>\\n    <div id=\"settleup-2014-quan\" class=\"dorpdown \">\\n        <div id=\"myquan\">\\n            <div class=\"quan-dropdown\">\\n                <div class=\"dt\">\\n                    <s></s>\\n                    <span class=\"txt\">我的优惠券</span>\\n                    <b></b>\\n                </div>\\n\\n                <div class=\"dd\">\\n                    <div class=\"spacer\"></div>\\n                    <ul class=\"quantarget\">\\n                        <li class=\"\">\\n                            <a id=\"openSpecials\" href=\"/specials.html\" clstag=\"pageclick|keycount|aladdin_201605165|20\">\\n                                <span class=\"txt\">专属优惠券</span>\\n                                <span class=\"num unread\"><em>0</em>未领</span>\\n                            </a>\\n                        </li>\\n                        <li class=\"\">\\n                            <a class=\"openGift\" href=\"javascript:void(0);\" clstag=\"pageclick|keycount|aladdin_201605165|21\">\\n                                <span class=\"txt\">我的优惠券礼包</span>\\n                                <span class=\"num unread\"><em>0</em>未领</span>\\n                            </a>\\n                        </li>\\n                        <li class=\"\">\\n                            <a target=\"_blank\" href=\"//quan.jd.com/\" clstag=\"pageclick|keycount|aladdin_201605165|22\">\\n                                <span class=\"txt\">我的优惠券</span>\\n                                <span class=\"num\"><span class=\"uc-num\">0</span>张可用</span>\\n                            </a>\\n                        </li>\\n                    </ul>\\n                </div>\\n            </div>\\n        </div>\\n    </div>\\n    <div id=\"hotwords-2014\"></div>\\n    <span class=\"clr\"></span>\\n</div>\\n<div id=\"nav-2014\">\\n    <div class=\"w\">\\n        <div id=\"ceilinglamp\">\\n            <div id=\"navitems-2014\">\\n            </div>\\n            <div id=\"treasure\">\\n            </div>\\n            <span class=\"clr\"></span>\\n        </div>\\n    </div>\\n</div>\\n<script type=\"text/javascript\">(function () {\\n    if (pageConfig.navId) {\\n        var object = document.getElementById(\\'nav-\\' + pageConfig.navId);\\n        if (object)\\n            object.className += \\' curr\\';\\n    }\\n}());</script>\\n\\n    <div class=\"main\">\\n    <!-- widget quan-index begin -->\\n    <div class=\"quan-h-wrap\">\\n        <div class=\"quan-h-top\">\\n            <div class=\"w top-wrap\">\\n                <div class=\"top-lcol quan-loading\" id=\"welfare\">\\n                </div>\\n                <div class=\"top-rcol quan-loading\" id=\"marketcoupons\">\\n                </div>\\n            </div>\\n        </div>\\n        <div class=\"w\">\\n            <div class=\"quan-h-cate\">\\n                <div class=\"cate-heading\">\\n                    <span class=\"i1\"></span>\\n                    <h3></h3>\\n                    <span class=\"i1\"></span>\\n                </div>\\n                <div class=\"cate-cont quan-loading\" id=\"quanlist\">\\n                </div>\\n            </div>\\n        </div>\\n    </div>\\n    <div class=\"ui-slidebar-new\">\\n        <ul>\\n            <li class=\"ui-slidebar-handler quan-slidebar\">\\n                <a href=\"//quan.jd.com/\" class=\"q-txt\" target=\"_blank\"><i class=\"q-ico\"></i></a>\\n                <a href=\"//quan.jd.com/\" class=\"q-num\" target=\"_blank\"><span class=\"num\"><span id=\"mycoupon\"> +99</span><s></s></span></a>\\n            </li>\\n            <li class=\"ui-slidebar-handler task-slidebar\">\\n                <a href=\"//a.jd.com/tasks.html\" class=\"task\" target=\"_blank\" clstag=\"pageclick|keycount|201709195|23\">任务</a>\\n            </li>\\n            <li class=\"ui-slidebar-handler top-slidebar\">\\n                <a href=\"#\" class=\"top\" aria-label=\"返回顶部\" role=\"presentation\"><i class=\"top-ico\"></i></a>\\n            </li>\\n            <li class=\"ui-slidebar-handler mobile-slidebar\">\\n                <a href=\"javascript:;\" aria-label=\"手机领券扫一扫\" role=\"presentation\"><i class=\"mobile-ico\"></i></a>\\n                <div class=\"er-qc\">\\n                    <div class=\"er-qc-panel\">\\n                        <img src=\"//img20.360buyimg.com/uba/s85x85_jfs/t11317/166/2125254007/2529/d78f2624/5a13e2edNd03ac333.png\" alt=\"\">\\n                    </div>\\n                    <a class=\"sk_mod_er_mobile_close\" href=\"javascript:;\" clstag=\"channel|keycount|1418|ELR_MBC\"\\n                       aria-label=\"关闭\">\\n                    </a>\\n                    <s></s>\\n                </div>\\n            </li>\\n        </ul>\\n\\n    </div>\\n    <!-- widget quan-index end -->\\n    </div>\\n\\n    <!--service start-->\\r\\n<div id=\"service-2017\">\\r\\n\\t<div class=\"w\">\\r\\n\\t\\t<ol class=\"slogen\">\\r\\n\\t\\t\\t<li class=\"item fore1\">\\r\\n\\t\\t\\t\\t<i>多</i>品类齐全，轻松购物\\r\\n\\t\\t\\t</li>\\r\\n\\t\\t\\t<li class=\"item fore2\">\\r\\n\\t\\t\\t\\t<i>快</i>多仓直发，极速配送\\r\\n\\t\\t\\t</li>\\r\\n\\t\\t\\t<li class=\"item fore3\">\\r\\n\\t\\t\\t\\t<i>好</i>正品行货，精致服务\\r\\n\\t\\t\\t</li>\\r\\n\\t\\t\\t<li class=\"item fore4\">\\r\\n\\t\\t\\t\\t<i>省</i>天天低价，畅选无忧\\r\\n\\t\\t\\t</li>\\r\\n\\t\\t</ol>\\r\\n\\t</div>\\r\\n\\t<div class=\"jd-help\">\\r\\n\\t\\t<div class=\"w\">\\r\\n\\t\\t\\t<div class=\"wrap\">\\r\\n\\t\\t\\t\\t<dl class=\"fore1\">\\r\\n\\t\\t\\t\\t\\t<dt>购物指南</dt>\\r\\n\\t\\t\\t\\t\\t<dd>\\r\\n\\t\\t\\t\\t\\t\\t<a rel=\"nofollow\" target=\"_blank\" href=\"//help.jd.com/user/issue/list-29.html\">购物流程</a>\\r\\n\\t\\t\\t\\t\\t</dd>\\r\\n\\t\\t\\t\\t\\t<dd>\\r\\n\\t\\t\\t\\t\\t\\t<a rel=\"nofollow\" target=\"_blank\" href=\"//help.jd.com/user/issue/list-151.html\">会员介绍</a>\\r\\n\\t\\t\\t\\t\\t</dd>\\r\\n\\t\\t\\t\\t\\t<dd>\\r\\n\\t\\t\\t\\t\\t\\t<a rel=\"nofollow\" target=\"_blank\" href=\"//help.jd.com/user/issue/list-297.html\">生活旅行/团购</a>\\r\\n\\t\\t\\t\\t\\t</dd>\\r\\n\\t\\t\\t\\t\\t<dd>\\r\\n\\t\\t\\t\\t\\t\\t<a rel=\"nofollow\" target=\"_blank\" href=\"//help.jd.com/user/issue.html\">常见问题</a>\\r\\n\\t\\t\\t\\t\\t</dd>\\r\\n\\t\\t\\t\\t\\t<dd>\\r\\n\\t\\t\\t\\t\\t\\t<a rel=\"nofollow\" target=\"_blank\" href=\"//help.jd.com/user/issue/list-136.html\">大家电</a>\\r\\n\\t\\t\\t\\t\\t</dd>\\r\\n\\t\\t\\t\\t\\t<dd>\\r\\n\\t\\t\\t\\t\\t\\t<a rel=\"nofollow\" target=\"_blank\" href=\"//help.jd.com/user/custom.html\">联系客服</a>\\r\\n\\t\\t\\t\\t\\t</dd>\\r\\n\\t\\t\\t\\t</dl>\\r\\n\\t\\t\\t\\t<dl class=\"fore2\">\\r\\n\\t\\t\\t\\t\\t<dt>配送方式</dt>\\r\\n\\t\\t\\t\\t\\t<dd>\\r\\n\\t\\t\\t\\t\\t\\t<a rel=\"nofollow\" target=\"_blank\" href=\"//help.jd.com/user/issue/list-81-100.html\">上门自提</a>\\r\\n\\t\\t\\t\\t\\t</dd>\\r\\n\\t\\t\\t\\t\\t<dd>\\r\\n\\t\\t\\t\\t\\t\\t<a rel=\"nofollow\" target=\"_blank\" href=\"//help.jd.com/user/issue/list-81.html\">211限时达</a>\\r\\n\\t\\t\\t\\t\\t</dd>\\r\\n\\t\\t\\t\\t\\t<dd>\\r\\n\\t\\t\\t\\t\\t\\t<a rel=\"nofollow\" target=\"_blank\" href=\"//help.jd.com/user/issue/103-983.html\">配送服务查询</a>\\r\\n\\t\\t\\t\\t\\t</dd>\\r\\n\\t\\t\\t\\t\\t<dd>\\r\\n\\t\\t\\t\\t\\t\\t<a rel=\"nofollow\" target=\"_blank\" href=\"//help.jd.com/user/issue/109-188.html\">配送费收取标准</a>\\r\\n\\t\\t\\t\\t\\t</dd>\\r\\n\\t\\t\\t\\t\\t<dd>\\r\\n\\t\\t\\t\\t\\t\\t<a target=\"_blank\" href=\"//help.joybuy.com/help/question-list-201.html\">海外配送</a>\\r\\n\\t\\t\\t\\t\\t</dd>\\r\\n\\t\\t\\t\\t</dl>\\r\\n\\t\\t\\t\\t<dl class=\"fore3\">\\r\\n\\t\\t\\t\\t\\t<dt>支付方式</dt>\\r\\n\\t\\t\\t\\t\\t<dd>\\r\\n\\t\\t\\t\\t\\t\\t<a rel=\"nofollow\" target=\"_blank\" href=\"//help.jd.com/user/issue/list-172.html\">货到付款</a>\\r\\n\\t\\t\\t\\t\\t</dd>\\r\\n\\t\\t\\t\\t\\t<dd>\\r\\n\\t\\t\\t\\t\\t\\t<a rel=\"nofollow\" target=\"_blank\" href=\"//help.jd.com/user/issue/list-173.html\">在线支付</a>\\r\\n\\t\\t\\t\\t\\t</dd>\\r\\n\\t\\t\\t\\t\\t<dd>\\r\\n\\t\\t\\t\\t\\t\\t<a rel=\"nofollow\" target=\"_blank\" href=\"//help.jd.com/user/issue/list-176.html\">分期付款</a>\\r\\n\\t\\t\\t\\t\\t</dd>\\r\\n\\t\\t\\t\\t\\t<dd>\\r\\n\\t\\t\\t\\t\\t\\t<a rel=\"nofollow\" target=\"_blank\" href=\"//help.jd.com/user/issue/list-175.html\">公司转账</a>\\r\\n\\t\\t\\t\\t\\t</dd>\\r\\n\\t\\t\\t\\t</dl>\\r\\n\\t\\t\\t\\t<dl class=\"fore4\">\\r\\n\\t\\t\\t\\t\\t<dt>售后服务</dt>\\r\\n\\t\\t\\t\\t\\t<dd>\\r\\n\\t\\t\\t\\t\\t\\t<a rel=\"nofollow\" target=\"_blank\" href=\"//help.jd.com/user/issue/321-981.html\">售后政策</a>\\r\\n\\t\\t\\t\\t\\t</dd>\\r\\n\\t\\t\\t\\t\\t<dd>\\r\\n\\t\\t\\t\\t\\t\\t<a rel=\"nofollow\" target=\"_blank\" href=\"//help.jd.com/user/issue/list-132.html\">价格保护</a>\\r\\n\\t\\t\\t\\t\\t</dd>\\r\\n\\t\\t\\t\\t\\t<dd>\\r\\n\\t\\t\\t\\t\\t\\t<a rel=\"nofollow\" target=\"_blank\" href=\"//help.jd.com/user/issue/130-978.html\">退款说明</a>\\r\\n\\t\\t\\t\\t\\t</dd>\\r\\n\\t\\t\\t\\t\\t<dd>\\r\\n\\t\\t\\t\\t\\t\\t<a rel=\"nofollow\" target=\"_blank\" href=\"//myjd.jd.com/repair/repairs.action\">返修/退换货</a>\\r\\n\\t\\t\\t\\t\\t</dd>\\r\\n\\t\\t\\t\\t\\t<dd>\\r\\n\\t\\t\\t\\t\\t\\t<a rel=\"nofollow\" target=\"_blank\" href=\"//help.jd.com/user/issue/list-50.html\">取消订单</a>\\r\\n\\t\\t\\t\\t\\t</dd>\\r\\n\\t\\t\\t\\t</dl>\\r\\n\\t\\t\\t\\t<dl class=\"fore5\">\\r\\n\\t\\t\\t\\t\\t<dt>特色服务</dt>\\r\\n\\t\\t\\t\\t\\t<dd>\\r\\n\\t\\t\\t\\t\\t\\t<a target=\"_blank\" href=\"//1paipai.jd.com\">夺宝岛</a>\\r\\n\\t\\t\\t\\t\\t</dd>\\r\\n\\t\\t\\t\\t\\t<dd>\\r\\n\\t\\t\\t\\t\\t\\t<a target=\"_blank\" href=\"//help.jd.com/user/issue/list-134.html\">DIY装机</a>\\r\\n\\t\\t\\t\\t\\t</dd>\\r\\n\\t\\t\\t\\t\\t<dd>\\r\\n\\t\\t\\t\\t\\t\\t<a rel=\"nofollow\" target=\"_blank\" href=\"//fuwu.jd.com/\">延保服务</a>\\r\\n\\t\\t\\t\\t\\t</dd>\\r\\n\\t\\t\\t\\t\\t<dd>\\r\\n\\t\\t\\t\\t\\t\\t<a rel=\"nofollow\" target=\"_blank\" href=\"//o.jd.com/market/index.action\">京东E卡</a>\\r\\n\\t\\t\\t\\t\\t</dd>\\r\\n\\t\\t\\t\\t\\t<dd>\\r\\n\\t\\t\\t\\t\\t\\t<a rel=\"nofollow\" target=\"_blank\" href=\"//mobile.jd.com/\">京东通信</a>\\r\\n\\t\\t\\t\\t\\t</dd>\\r\\n\\t\\t\\t\\t\\t<dd>\\r\\n\\t\\t\\t\\t\\t\\t<a rel=\"nofollow\" target=\"_blank\" href=\"//smart.jd.com/\">京鱼座智能</a>\\r\\n\\t\\t\\t\\t\\t</dd>\\r\\n\\t\\t\\t\\t</dl>\\r\\n\\t\\t\\t\\t<span class=\"clr\"></span>\\r\\n\\t\\t\\t</div>\\r\\n\\t\\t</div>\\r\\n\\t</div>\\r\\n</div>\\r\\n<!--service end-->\\n    <!--footer start-->\\r\\n<div id=\"footer-2017\" Includefile_Footer_id=\"1002\">\\r\\n\\t<div class=\"w\">\\r\\n\\t\\t<div class=\"copyright_links\">\\r\\n\\t\\t\\t<p>\\r\\n\\t\\t\\t\\t<a href=\"//about.jd.com\" target=\"_blank\">关于我们</a><span class=\"copyright_split\">|</span>\\r\\n\\t\\t\\t\\t<a href=\"//about.jd.com/contact/\" target=\"_blank\">联系我们</a><span class=\"copyright_split\">|</span>\\r\\n\\t\\t\\t\\t<a href=\"//help.jd.com/user/custom.html\" target=\"_blank\">联系客服</a><span class=\"copyright_split\">|</span>\\r\\n\\t\\t\\t\\t<a href=\"//lai.jd.com\" target=\"_blank\">合作招商</a><span class=\"copyright_split\">|</span>\\r\\n\\t\\t\\t\\t<a href=\"//helpcenter.jd.com/venderportal/index.html\" target=\"_blank\">商家帮助</a><span class=\"copyright_split\">|</span>\\r\\n\\t\\t\\t\\t<a href=\"//jzt.jd.com\" target=\"_blank\">营销中心</a><span class=\"copyright_split\">|</span>\\r\\n\\t\\t\\t\\t<a href=\"//app.jd.com/\" target=\"_blank\">手机京东</a><span class=\"copyright_split\">|</span>\\r\\n\\t\\t\\t\\t<a href=\"//club.jd.com/links.aspx\" target=\"_blank\">友情链接</a><span class=\"copyright_split\">|</span>\\r\\n\\t\\t\\t\\t<a href=\"//media.jd.com/\" target=\"_blank\">销售联盟</a><span class=\"copyright_split\">|</span>\\r\\n\\t\\t\\t\\t<a href=\"//pro.jd.com/mall/active/3WA2zN8wkwc9fL9TxAJXHh5Nj79u/index.html\" target=\"_blank\">京东社区</a><span class=\"copyright_split\">|</span>\\r\\n\\t\\t\\t\\t<a href=\"//pro.jd.com/mall/active/3TF25tMdrnURET8Ez1cW9hzfg3Jt/index.html\" target=\"_blank\">风险监测</a><span class=\"copyright_split\">|</span>\\r\\n\\t\\t\\t\\t<a href=\"//about.jd.com/privacy/\" target=\"_blank\">隐私政策</a><span class=\"copyright_split\">|</span>\\r\\n\\t\\t\\t\\t<a href=\"//gongyi.jd.com\" target=\"_blank\">京东公益</a><span class=\"copyright_split\">|</span>\\r\\n\\t\\t\\t\\t<a href=\"//www.joybuy.com/\" target=\"_blank\">English Site</a><span class=\"copyright_split\">|</span>\\r\\n\\t\\t\\t\\t<a href=\"//corporate.jd.com/\" target=\"_blank\">Media & IR</a>\\r\\n\\t\\t\\t</p>\\r\\n\\t\\t</div>\\r\\n\\t\\t<div class=\"copyright_info\">\\r\\n\\t\\t\\t<p>\\r\\n\\t\\t\\t\\t<a href=\"http://www.beian.gov.cn/portal/registerSystemInfo?recordcode=11000002000088\" target=\"_blank\">京公网安备 11000002000088号</a><span class=\"copyright_split\">|</span><span>京ICP证070359号</span><span class=\"copyright_split\">|</span>\\r\\n\\t\\t\\t\\t<a href=\"//img30.360buyimg.com/poprx/jfs/t1/45702/1/7206/3652062/5d4d3f4fE7ea82da4/207332da28ae8230.png\" target=\"_blank\">互联网药品信息服务资格证编号(京)-经营性-2014-0008</a><span class=\"copyright_split\">|</span><span>新出发京零 字第大120007号</span></p>\\r\\n\\t\\t\\t<p><span>互联网出版许可证编号新出网证(京)字150号</span><span class=\"copyright_split\">|</span>\\r\\n\\t\\t\\t\\t<a href=\"//pro.jd.com/mall/active/3bVDLXHdwVmdQksGF8TtS7ocq1NY/index.html\" target=\"_blank\">出版物经营许可证</a><span class=\"copyright_split\">|</span>\\r\\n\\t\\t\\t\\t<a href=\"//misc.360buyimg.com/wz/wlwhjyxkz.jpg\" target=\"_blank\">网络文化经营许可证京网文[2014]2148-348号</a><span class=\"copyright_split\">|</span><span>违法和不良信息举报电话：4006561155</span></p>\\r\\n\\t\\t\\t<p><span class=\"copyright_text\">Copyright &copy; 2004 - <em id=\"copyright_year\">2019</em>  京东JD.com 版权所有</span><span class=\"copyright_split\">|</span><span>消费者维权热线：4006067733</span>\\r\\n\\t\\t\\t\\t<a href=\"//pro.jd.com/mall/active/38PitHBfR7ZopNHRSHnuuWR5AMDL/index.html\" target=\"_blank\" class=\"copyright_license\">经营证照</a>\\r\\n\\t\\t\\t\\t<span class=\"copyright_split\">|</span>\\r\\n\\t\\t\\t\\t<span>(京)网械平台备字(2018)第00003号</span>\\r\\n\\t\\t\\t\\t<span class=\"copyright_split\">|</span>\\r\\n\\t\\t\\t\\t<a href=\"//storage.jd.com/imgtools/cbdaa22553-dccaf290-d1af-11e8-a840-89f99f5f0056.jpeg\" target=\"_blank\" class=\"mod_business_license\">营业执照</a>\\r\\n\\t\\t\\t</p>\\r\\n\\t\\t\\t<p class=\"mod_copyright_inter\">\\r\\n\\t\\t\\t\\t<a class=\"mod_copyright_inter_lk\" href=\"//www.joybuy.com/?source=1&visitor_from=3\" target=\"_blank\" clstag=\"h|keycount|btm|btmnavi_null0501\"><i class=\"mod_copyright_inter_ico mod_copyright_inter_ico_global\"></i><span class=\"languagefont\">&#xe901;</span></a>\\r\\n\\t\\t\\t\\t<span class=\"copyright_split\">|</span>\\r\\n\\t\\t\\t\\t<a class=\"mod_copyright_inter_lk\" href=\"//www.jd.ru/?source=1&visitor_from=3\" target=\"_blank\" clstag=\"h|keycount|btm|btmnavi_null0502\"><i class=\"mod_copyright_inter_ico mod_copyright_inter_ico_rissia\"></i><span class=\"languagefont\">&#xe904;</span></a>\\r\\n\\t\\t\\t\\t<span class=\"copyright_split\">|</span>\\r\\n\\t\\t\\t\\t<a class=\"mod_copyright_inter_lk\" href=\"//www.jd.id/?source=1&visitor_from=3\" target=\"_blank\" clstag=\"h|keycount|btm|btmnavi_null0503\"><i class=\"mod_copyright_inter_ico mod_copyright_inter_ico_indonesia\"></i><span class=\"languagefont\">&#xe902;</span></a>\\r\\n\\t\\t\\t\\t<span class=\"copyright_split\">|</span>\\r\\n\\t\\t\\t\\t<a class=\"mod_copyright_inter_lk\" href=\"//www.joybuy.es/?source=1&visitor_from=3\" target=\"_blank\" clstag=\"h|keycount|btm|btmnavi_null0504\"><i class=\"mod_copyright_inter_ico mod_copyright_inter_ico_spain\"></i><span class=\"languagefont\">&#xe903;</span></a>\\r\\n\\t\\t\\t\\t<span class=\"copyright_split\">|</span>\\r\\n\\t\\t\\t\\t<a class=\"mod_copyright_inter_lk\" href=\"//www.jd.co.th/?source=1&visitor_from=3\" target=\"_blank\" clstag=\"h|keycount|btm|btmnavi_null0505\"><i class=\"mod_copyright_inter_ico mod_copyright_inter_ico_thailand\"></i><span class=\"languagefont\">&#xe900;</span></a>\\r\\n\\t\\t\\t</p>\\r\\n\\t\\t\\t<p><span>京东旗下网站：</span>\\r\\n\\t\\t\\t\\t<a href=\"https://www.jdpay.com/\" target=\"_blank\">京东钱包</a><span class=\"copyright_split\">|</span>\\r\\n\\t\\t\\t\\t<a href=\"https://www.jdcloud.com\" target=\"_blank\">京东智联云</a>\\r\\n\\t\\t\\t</p>\\r\\n\\t\\t</div>\\r\\n\\t\\t<p class=\"copyright_auth\">\\r\\n\\t\\t\\t<script type=\"text/JavaScript\">function CNNIC_change(eleId){var str= document.getElementById(eleId).href;var str1 =str.substring(0,(str.length-6));str1+=CNNIC_RndNum(6);\\r\\n\\t\\t\\t\\tdocument.getElementById(eleId).href=str1;}function CNNIC_RndNum(k){var rnd=\"\"; for (var i=0;i\\r\\n\\t\\t\\t\\t< k;i++) rnd+=Math.floor(Math.random()*10); return rnd;};(function(){var d=new Date;document.getElementById(\\r\\n\\t\\t\\t\\t \"copyright_year\").innerHTML=d.getFullYear()})();</script>\\r\\n\\t\\t\\t\\t\\t<a id=\"urlknet\" class=\"copyright_auth_ico copyright_auth_ico_2\" onclick=\"CNNIC_change(\\'urlknet\\')\" oncontextmenu=\"return false;\"\\r\\n\\t\\t\\t\\t\\t name=\"CNNIC_seal\" href=\"https://ss.knet.cn/verifyseal.dll?sn=2008070300100000031&ct=df&pa=294005\" target=\"_blank\">可信网站信用评估</a>\\r\\n\\t\\t\\t\\t\\t<a class=\"copyright_auth_ico copyright_auth_ico_3\" href=\"http://www.cyberpolice.cn/\" target=\"_blank\">网络警察提醒你</a>\\r\\n\\t\\t\\t\\t\\t<a class=\"copyright_auth_ico copyright_auth_ico_4\" href=\"https://search.szfw.org/cert/l/CX20120111001803001836\" target=\"_blank\">诚信网站</a>\\r\\n\\t\\t\\t\\t\\t<a class=\"copyright_auth_ico copyright_auth_ico_5\" href=\"http://www.12377.cn\" target=\"_blank\">中国互联网举报中心</a>\\r\\n\\t\\t\\t\\t\\t<a class=\"copyright_auth_ico copyright_auth_ico_6\" href=\"http://www.12377.cn/node_548446.htm\" target=\"_blank\">网络举报APP下载</a>\\r\\n\\t\\t</p>\\r\\n\\t</div>\\r\\n</div>\\r\\n<!--footer end-->\\n    <script id=\"gift01\" type=\"text/temp\">\\n<div class=\"tip-box quant-box\">\\n\\t<div class=\"quan-img\">\\n\\t\\t<img src=\"/img/img1.png\" alt=\"\">\\n\\t</div>\\n\\t<div id=\"gift01-error\" class=\"fz14\">\\n\\t\\t许愿成功~优惠券正在向你飞来~\\n\\t</div>\\n\\t<div class=\"op-btns mt30\">\\n\\t\\t<a id=\"gift01-a\" href=\"specials.html\" class=\"btn-09 btn-m2\">关闭</a>\\n\\t</div>\\n</div>\\n</script>\\n\\n<script id=\"gift02\" type=\"text/temp\">\\n<div class=\"tip-box quant-box\">\\n\\t<div class=\"quan-img\">\\n\\t\\t<img src=\"/img/quan-joy.png\" alt=\"\">\\n\\t</div>\\n\\t<div id=\"gift02-error\" class=\"fz14\">\\n\\t\\t呼呼，大量优惠券礼包正在准备中...\\n\\t</div>\\n\\t<div class=\"op-btns mt30\">\\n\\t\\t<a href=\"specials.html\" class=\"btn-09 btn-m2\">关闭</a>\\n\\t</div>\\n</div>\\n</script>\\n\\n<script id=\"gift04\" type=\"text/temp\">\\n<div class=\"gifts-wrap\" name=\"gift04\">\\n\\t<div class=\"ac fz14 mb10\">新年礼包</div>\\n\\t<div class=\"gifts-box gifts-box02\">\\n\\t\\t<div class=\"ui-sg-panel-main\">\\n\\t\\t\\t<div class=\"ui-sg-panel\" style=\"float: left; display: block;\">\\n\\t\\t\\t\\t<div class=\"gift-list\">\\n\\t\\t\\t\\t\\t<div class=\"gift-item gift-item02\">\\n\\t\\t\\t\\t\\t\\t<i class=\"i1\"></i><i class=\"i2\"></i>\\n\\t\\t\\t\\t\\t\\t<i class=\"i3\"></i><i class=\"i4\"></i>\\n\\t\\t\\t\\t\\t\\t<div class=\"g-type\" style=\"width: 300px\">\\n\\t\\t\\t\\t\\t\\t\\t限品类优惠券\\n\\t\\t\\t\\t\\t\\t</div>\\n\\t\\t\\t\\t\\t</div>\\n\\t\\t\\t\\t</div>\\n\\t\\t\\t</div>\\n\\t\\t</div>\\n\\t\\t<div class=\"ui-sg-page\">\\n\\t\\t\\t<a href=\"javascript:void(0)\" class=\"ui-sg-prev\">&lt;</a>\\n\\t\\t\\t<a href=\"javascript:void(0)\" class=\"ui-sg-next\">&gt;</a>\\n\\t\\t</div>\\n\\t\\t<div id=\"gift04-ctrl\" class=\"num-ctrl mt10\">\\n\\t\\t\\t<a id=\"gift04-ctrl-01\" class=\"ui-sg-item\">1</a>\\n\\t\\t</div>\\n\\t</div>\\n\\t<div class=\"ac\">\\n\\t\\t<a href=\"javascript:close(4)\" class=\"btn-01 btn-xl\">返回<span class=\"ui-icon ui-icon-delete\"></span></a>\\n\\t</div>\\n</div>\\n</script>\\n\\n<script id=\"gift05\" type=\"text/temp\">\\n<div class=\"gifts-wrap\">\\n\\t<div class=\"gifts-box\">\\n\\t\\t<div id=\"gift05-page\" class=\"ui-sg-panel-main\">\\n\\t\\t\\t<div id=\"gift05-page01\" class=\"ui-sg-panel\" >\\n\\t\\t\\t\\t<div id=\"gift05-page01-list\" class=\"gift-list\">\\n\\t\\t\\t\\t\\t<div id=\"gift05-page-list-item\" class=\"gift-item\">\\n\\t\\t\\t\\t\\t\\t<div class=\"g-img\">\\n\\t\\t\\t\\t\\t\\t\\t<img src=\"/img/img2.png\" alt=\"\">\\n\\t\\t\\t\\t\\t\\t</div>\\n\\t\\t\\t\\t\\t\\t<div class=\"g-name\">\\n\\t\\t\\t\\t\\t\\t\\t新年礼包\\n\\t\\t\\t\\t\\t\\t</div>\\n\\t\\t\\t\\t\\t\\t<div class=\"g-opbtns\">\\n\\t\\t\\t\\t\\t\\t\\t<a href=\"#none\" class=\"btn-02 btn-m\">拆礼包</a>\\n\\t\\t\\t\\t\\t\\t</div>\\n\\t\\t\\t\\t\\t</div>\\n\\t\\t\\t\\t</div>\\n\\t\\t\\t</div>\\n\\t\\t</div>\\n\\t\\t<div class=\"ui-sg-page\">\\n\\t\\t\\t<a href=\"javascript:void(0)\" class=\"ui-sg-prev\">&lt;</a>\\n\\t\\t\\t<a href=\"javascript:void(0)\" class=\"ui-sg-next\">&gt;</a>\\n\\t\\t</div>\\n\\t\\t<div id=\"gift05-ctrl\" class=\"num-ctrl\">\\n\\t\\t\\t<a id=\"gift05-ctrl-01\" class=\"ui-sg-item\">1</a>\\n\\t\\t</div>\\n\\t</div>\\n\\t<div>礼包是概率事件，有抽不到的可能。</div>\\n</div>\\n</script>\\n\\n<script id=\"gift06\" type=\"text/temp\">\\n<div class=\"gifts-wrap\">\\n\\t<div class=\"gifts-box\">\\n\\t\\t<div id=\"gift05-page\" class=\"ui-sg-panel-main\">\\n\\t\\t\\t<div id=\"gift05-page01\" class=\"ui-sg-panel\" >\\n\\t\\t\\t\\t<div id=\"gift05-page01-list\" class=\"gift-list\">\\n\\t\\t\\t\\t\\t<div id=\"gift05-page-list-item\" class=\"gift-item\" style=\"border-left:none ;margin: 0 100px\">\\n\\t\\t\\t\\t\\t\\t<div class=\"g-img\">\\n\\t\\t\\t\\t\\t\\t\\t<img src=\"/img/img2.png\" alt=\"\">\\n\\t\\t\\t\\t\\t\\t</div>\\n\\t\\t\\t\\t\\t\\t<div class=\"g-name\">\\n\\t\\t\\t\\t\\t\\t\\t新年礼包\\n\\t\\t\\t\\t\\t\\t</div>\\n\\t\\t\\t\\t\\t\\t<div class=\"g-opbtns\">\\n\\t\\t\\t\\t\\t\\t\\t<a href=\"#none\" class=\"btn-02 btn-m\">拆礼包</a>\\n\\t\\t\\t\\t\\t\\t</div>\\n\\t\\t\\t\\t\\t</div>\\n\\t\\t\\t\\t</div>\\n\\t\\t\\t</div>\\n\\t\\t</div>\\n\\t\\t<div class=\"ui-sg-page\">\\n\\t\\t\\t<a href=\"javascript:void(0)\" class=\"ui-sg-prev\">&lt;</a>\\n\\t\\t\\t<a href=\"javascript:void(0)\" class=\"ui-sg-next\">&gt;</a>\\n\\t\\t</div>\\n\\t\\t<div id=\"gift05-ctrl\" class=\"num-ctrl\">\\n\\t\\t\\t<a id=\"gift05-ctrl-01\" class=\"ui-sg-item\">1</a>\\n\\t\\t</div>\\n\\t</div>\\n\\t<div>礼包是概率事件，有抽不到的可能。</div>\\n</div>\\n</script>\\n\\n\\n\\n    <script type=\"text/javascript\" src=\"//misc.360buyimg.com/jdf/1.0.0/unit/??base/5.0.0/base.js\"></script>\\n    <script type=\"text/javascript\" src=\"//misc.360buyimg.com/jdf/??lib/jquery-1.6.4.js\"></script>\\n    <script source=\"widget\" type=\"text/javascript\" src=\"//misc.360buyimg.com/user/quan/3.0.0/widget/??/common/common.js,/quan-index/quan-index-v2.js\"></script>\\n    <script type=\"text/javascript\" src=\"/js/aladdin.js?v=20161118\"></script>\\n    <script type=\"text/javascript\" src=\"/js/gift.js?v=20160630\"></script>\\n    <script type=\"text/javascript\" src=\"/js/search.js?v=20160630\"></script>\\n<script type=\"text/javascript\" src=\"//misc.360buyimg.com/felibs/es5-shim/4.5.9/es5-sham.min.js\"></script>\\n    <script type=\"text/javascript\" src=\"//wl.jd.com/wl.js\"></script>\\n\\n</body>\\n</html>\\n\\n\\n\\n\\n\\n\\n'"
      ]
     },
     "execution_count": null,
     "metadata": {},
     "output_type": "execute_result"
    }
   ],
   "source": [
    "res_sample.text"
   ]
  },
  {
   "cell_type": "code",
   "execution_count": null,
   "metadata": {},
   "outputs": [],
   "source": []
  },
  {
   "cell_type": "code",
   "execution_count": null,
   "metadata": {},
   "outputs": [],
   "source": [
    "#export\n",
    "def get_child_list(soup): return [c for c in soup.children if isinstance(c,Tag)]"
   ]
  },
  {
   "cell_type": "code",
   "execution_count": null,
   "metadata": {},
   "outputs": [],
   "source": [
    "cl = get_child_list(soup_sample.body)"
   ]
  },
  {
   "cell_type": "code",
   "execution_count": null,
   "metadata": {},
   "outputs": [],
   "source": [
    "#export\n",
    "def is_item_list(list):\n",
    "    '判断list是否是要找的正文中的列表，条件：重复项>1,输出筛选规则'\n",
    "    if len(list)>1:\n",
    "        print(Counter([i.name for i in list]))"
   ]
  },
  {
   "cell_type": "code",
   "execution_count": null,
   "metadata": {},
   "outputs": [
    {
     "data": {
      "text/plain": [
       "('script', 8)"
      ]
     },
     "execution_count": null,
     "metadata": {},
     "output_type": "execute_result"
    }
   ],
   "source": [
    "Counter([c.name for c in cl]).most_common(1)[0]"
   ]
  },
  {
   "cell_type": "code",
   "execution_count": null,
   "metadata": {},
   "outputs": [
    {
     "name": "stdout",
     "output_type": "stream",
     "text": [
      "Counter({'script': 8, 'div': 3, 'link': 2})\n"
     ]
    }
   ],
   "source": [
    "is_item_list(cl)"
   ]
  },
  {
   "cell_type": "code",
   "execution_count": null,
   "metadata": {},
   "outputs": [
    {
     "data": {
      "text/plain": [
       "{'href': '//img3.doubanio.com/dae/accounts/resources/f5f3d66/shire/bundle.css',\n",
       " 'rel': ['stylesheet'],\n",
       " 'type': 'text/css'}"
      ]
     },
     "execution_count": null,
     "metadata": {},
     "output_type": "execute_result"
    }
   ],
   "source": [
    "cl[1].attrs"
   ]
  },
  {
   "cell_type": "code",
   "execution_count": null,
   "metadata": {},
   "outputs": [],
   "source": []
  },
  {
   "cell_type": "code",
   "execution_count": null,
   "metadata": {},
   "outputs": [
    {
     "name": "stdout",
     "output_type": "stream",
     "text": [
      "li 15 109 1.0\n"
     ]
    }
   ],
   "source": [
    "def get_child_list(soup): \n",
    "    '递归获取子Tag'\n",
    "    children = []\n",
    "    for c in soup.children:\n",
    "        if isinstance(c,Tag):\n",
    "            children.append(c)\n",
    "#             print(c.name,c.attrs)\n",
    "            grandchildren = get_child_list(c)\n",
    "    c_count = len(children)\n",
    "    if c_count >= 5 and len(soup.text) > 100:\n",
    "        '统计tag name'\n",
    "        max_tag_name,max_tag_count = Counter([c.name for c in children]).most_common(1)[0]\n",
    "        if max_tag_count >= 5 and max_tag_count/c_count > 0.5 and max_tag_name in ['li','div','tr']:\n",
    "            print(max_tag_name,max_tag_count,len(soup.text),max_tag_count/c_count)\n",
    "        '统计class'\n",
    "        \n",
    "        '统计id'\n",
    "#     return children\n",
    "\n",
    "get_child_list(soup_sample.body)"
   ]
  },
  {
   "cell_type": "code",
   "execution_count": null,
   "metadata": {},
   "outputs": [],
   "source": []
  },
  {
   "cell_type": "code",
   "execution_count": null,
   "metadata": {},
   "outputs": [],
   "source": [
    "def show_list_info(list):\n",
    "    '显示list的tag和attrs和父tag'"
   ]
  },
  {
   "cell_type": "code",
   "execution_count": null,
   "metadata": {},
   "outputs": [],
   "source": []
  },
  {
   "cell_type": "code",
   "execution_count": null,
   "metadata": {},
   "outputs": [],
   "source": [
    "#export\n",
    "def find_candidate_content_list(soup,result=[]):\n",
    "    childrens =[i for i in soup.children if isinstance(i, Tag)]\n",
    "    if (len(childrens))>0:\n",
    "        # 这里取列表行数大于5，item tag都相同的，而且内容大于500的\n",
    "        if len(childrens)>5 and len(set([c.name for c in childrens])) == 1 and len(soup.text)>500:\n",
    "            print('推测：',len(childrens),len(soup.text),soup.name,soup.attrs,childrens[0].name,childrens[0].attrs,)\n",
    "            result.append([len(childrens),childrens])\n",
    "        # 继续向下寻找\n",
    "        for c in childrens:\n",
    "            find_candidate_content_list(c,result)\n",
    "    return result\n",
    "\n",
    "def find_content_list(candidates):\n",
    "    # 取记录条数最多的\n",
    "    max_count = 0\n",
    "    childrens = []\n",
    "    for c in candidates:\n",
    "        if int(c[0])>max_count:\n",
    "            max_count = c[0]\n",
    "            childrens = c[1]\n",
    "    print('选择：',max_count)\n",
    "    return childrens\n",
    "\n",
    "def get_content_list(url,headers = {'user-agent':'Mozilla/5.0'},cookies={}):\n",
    "    res = requests.get(url,headers=headers,cookies=cookies)\n",
    "    if (res.status_code == 200):\n",
    "        soup = BeautifulSoup(res.text)\n",
    "        body = soup.body\n",
    "        candidates = find_candidate_content_list(body)\n",
    "        return find_content_list(candidates)\n",
    "    else:\n",
    "        return res"
   ]
  },
  {
   "cell_type": "code",
   "execution_count": null,
   "metadata": {},
   "outputs": [
    {
     "name": "stdout",
     "output_type": "stream",
     "text": [
      "推测： 20 4741 ul {'class': ['subject-list']} li {'class': ['subject-item']}\n",
      "选择： 20\n"
     ]
    }
   ],
   "source": [
    "cs = get_content_list('https://book.douban.com/tag/%E5%A4%96%E5%9B%BD%E6%96%87%E5%AD%A6')"
   ]
  },
  {
   "cell_type": "code",
   "execution_count": null,
   "metadata": {},
   "outputs": [
    {
     "name": "stdout",
     "output_type": "stream",
     "text": [
      "div {'class': ['pic']} \n",
      "a {'class': ['nbg'], 'href': 'https://book.douban.com/subject/1770782/', 'onclick': \"moreurl(this,{i:'0',query:'',subject_id:'1770782',from:'book_subject_search'})\"} \n",
      "img {'class': [], 'src': 'https://img3.doubanio.com/view/subject/s/public/s1727290.jpg', 'width': '90'} \n",
      "div {'class': ['info']} 追风筝的人[美]卡勒德·胡赛尼/李继宏/上海人民出版社/2006-5/29.00元8.9(605191人评价)12岁的阿富汗富家少爷阿米尔与仆人哈桑情同手足。然而，在一场风筝比赛后，发生了一件悲惨不堪的事，阿米尔为自己的懦弱感到自责和痛苦，逼走了哈桑，不久，自己也跟...在豆瓣购买去看电子版\n",
      "h2 {'class': []} 追风筝的人\n",
      "a {'href': 'https://book.douban.com/subject/1770782/', 'title': '追风筝的人', 'onclick': \"moreurl(this,{i:'0',query:'',subject_id:'1770782',from:'book_subject_search'})\"} 追风筝的人\n",
      "div {'class': ['pub']} [美]卡勒德·胡赛尼/李继宏/上海人民出版社/2006-5/29.00元\n",
      "div {'class': ['star', 'clearfix']} 8.9(605191人评价)\n",
      "span {'class': ['allstar45']} \n",
      "span {'class': ['rating_nums']} 8.9\n",
      "span {'class': ['pl']} (605191人评价)\n",
      "p {} 12岁的阿富汗富家少爷阿米尔与仆人哈桑情同手足。然而，在一场风筝比赛后，发生了一件悲惨不堪的事，阿米尔为自己的懦弱感到自责和痛苦，逼走了哈桑，不久，自己也跟...\n",
      "div {'class': ['ft']} 在豆瓣购买去看电子版\n",
      "div {'class': ['collect-info']} \n",
      "div {'class': ['cart-actions']} 在豆瓣购买\n",
      "span {'class': ['market-info']} 在豆瓣购买\n",
      "a {'href': 'https://book.douban.com/subject/1770782/?channel=subject_list&platform=web', 'target': '_blank'} 在豆瓣购买\n",
      "div {'class': ['ebook-link']} 去看电子版\n",
      "a {'target': '_blank', 'href': 'https://read.douban.com/ebook/1162265/?dcs=tag-buylink&dcm=douban&dct=1770782'} 去看电子版\n"
     ]
    }
   ],
   "source": [
    "# 列出一个children的所有tag，属性，和内容\n",
    "for c in cs[0].find_all(True):\n",
    "    print(c.name,c.attrs,''.join(c.text.split()))"
   ]
  },
  {
   "cell_type": "markdown",
   "metadata": {},
   "source": [
    "## 自动识别下一页\n",
    "> 目前只能识别静态页面\n",
    "#### 将来会考虑\n",
    "* 增加滚动加载页面\n",
    "* 增加JavaScript加载的下一页"
   ]
  },
  {
   "cell_type": "code",
   "execution_count": null,
   "metadata": {},
   "outputs": [],
   "source": [
    "#export\n",
    "def is_next_page(tag):\n",
    "    if tag.name == 'a':\n",
    "        for text in ['下一页','后页']:\n",
    "            if text in tag.text:\n",
    "                return True\n",
    "    else:\n",
    "        return False\n",
    "    \n",
    "def get_next_page_url(url,headers = {'user-agent':'Mozilla/5.0'},cookies={}):\n",
    "    res = requests.get(url,headers=headers,cookies=cookies)\n",
    "    if (res.status_code == 200):\n",
    "        soup = BeautifulSoup(res.text)\n",
    "#         print(soup)\n",
    "        next_page = soup.find(is_next_page)\n",
    "        if (next_page):\n",
    "            return next_page['href']\n",
    "        else:\n",
    "            print('没有下一页')\n",
    "            return None\n",
    "    else:\n",
    "        return res    "
   ]
  },
  {
   "cell_type": "code",
   "execution_count": null,
   "metadata": {},
   "outputs": [
    {
     "data": {
      "text/plain": [
       "'/tag/外国文学?start=20&type=T'"
      ]
     },
     "execution_count": null,
     "metadata": {},
     "output_type": "execute_result"
    }
   ],
   "source": [
    "url = 'https://book.douban.com/tag/%E5%A4%96%E5%9B%BD%E6%96%87%E5%AD%A6'\n",
    "get_next_page_url(url)"
   ]
  },
  {
   "cell_type": "markdown",
   "metadata": {},
   "source": [
    "## 自动识别列表内容\n",
    "> 思路就是样式一样的，是一类的内容\n",
    "\n",
    "几种特殊类型：\n",
    "1. img link\n",
    "* a link\n",
    "* text\n",
    "* video #TBD\n",
    "* 动态内容 #TBD"
   ]
  },
  {
   "cell_type": "code",
   "execution_count": null,
   "metadata": {},
   "outputs": [],
   "source": [
    "#export\n",
    "def get_childrens(soup):\n",
    "    return [s for s in soup.contents if isinstance(s,Tag)]\n",
    "\n",
    "def get_prefix(soup):\n",
    "    if 'class' in soup.attrs and len(soup.attrs['class']) > 0:\n",
    "        prefix = soup.name+'.'+soup.attrs['class'][0]\n",
    "    elif 'id' in soup.attrs:\n",
    "        prefix = soup.name+'.'+soup.attrs['id']\n",
    "    else:\n",
    "        prefix = soup.name\n",
    "    return prefix\n",
    "\n",
    "def get_item_data(soup,db={}):\n",
    "    childrens = get_childrens(soup)\n",
    "    if len(childrens) > 0:\n",
    "        for c in childrens:\n",
    "            db[get_prefix(c)] = {}\n",
    "            get_item_data(c,db[get_prefix(c)])\n",
    "    else:\n",
    "        if soup.name == 'a':\n",
    "            db['href'] = soup['href']\n",
    "            if 'title' in soup.attrs:\n",
    "                db['title'] = soup['title']\n",
    "        elif soup.name == 'img':\n",
    "            db['src'] = soup['src']\n",
    "        else:\n",
    "            db['text'] = soup.text.strip()\n",
    "    return db\n",
    "\n",
    "def find_item_id(soup):\n",
    "    # 找到内容id，思路是a标签，有title，有href，然后取里面数字    \n",
    "    for a in soup.find_all('a'):\n",
    "        if 'title' in a.attrs and 'href' in a.attrs:\n",
    "            id = re.search(r'\\d+',a['href']).group(0)\n",
    "            return id\n"
   ]
  },
  {
   "cell_type": "code",
   "execution_count": null,
   "metadata": {},
   "outputs": [
    {
     "name": "stdout",
     "output_type": "stream",
     "text": [
      "推测： 20 4741 ul {'class': ['subject-list']} li {'class': ['subject-item']}\n",
      "选择： 20\n"
     ]
    },
    {
     "data": {
      "text/plain": [
       "{'div.pic': {'a.nbg': {'img': {'src': 'https://img3.doubanio.com/view/subject/s/public/s1727290.jpg'}}},\n",
       " 'div.info': {'h2': {'a': {'href': 'https://book.douban.com/subject/1770782/',\n",
       "    'title': '追风筝的人'}},\n",
       "  'div.pub': {'text': '[美] 卡勒德·胡赛尼 / 李继宏 / 上海人民出版社 / 2006-5 / 29.00元'},\n",
       "  'div.star': {'span.allstar45': {'text': ''},\n",
       "   'span.rating_nums': {'text': '8.9'},\n",
       "   'span.pl': {'text': '(605191人评价)'}},\n",
       "  'p': {'text': '12岁的阿富汗富家少爷阿米尔与仆人哈桑情同手足。然而，在一场风筝比赛后，发生了一件悲惨不堪的事，阿米尔为自己的懦弱感到自责和痛苦，逼走了哈桑，不久，自己也跟...'},\n",
       "  'div.ft': {'div.collect-info': {'text': ''},\n",
       "   'div.cart-actions': {'span.market-info': {'a': {'href': 'https://book.douban.com/subject/1770782/?channel=subject_list&platform=web'}}},\n",
       "   'div.ebook-link': {'a': {'href': 'https://read.douban.com/ebook/1162265/?dcs=tag-buylink&dcm=douban&dct=1770782'}}}}}"
      ]
     },
     "execution_count": null,
     "metadata": {},
     "output_type": "execute_result"
    }
   ],
   "source": [
    "childrens = get_content_list('https://book.douban.com/tag/%E5%A4%96%E5%9B%BD%E6%96%87%E5%AD%A6')\n",
    "db = get_item_data(childrens[0])\n",
    "db"
   ]
  }
 ],
 "metadata": {
  "kernelspec": {
   "display_name": "Python 3",
   "language": "python",
   "name": "python3"
  }
 },
 "nbformat": 4,
 "nbformat_minor": 2
}
