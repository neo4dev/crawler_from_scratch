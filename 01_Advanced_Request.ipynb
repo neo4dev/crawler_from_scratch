{
 "cells": [
  {
   "cell_type": "code",
   "execution_count": null,
   "metadata": {},
   "outputs": [],
   "source": [
    "# default_exp utils"
   ]
  },
  {
   "cell_type": "markdown",
   "metadata": {},
   "source": [
    "# 进阶的爬虫\n",
    "> 1. 更复杂的请求\n",
    "    * 无headers\n",
    "    * 有headers\n",
    "    * 有cookies\n",
    "* JSON 存储数据\n",
    "* 自动识别列表\n",
    "* 自动识别下一页\n",
    "* 自动识别列表上的内容\n",
    "\n",
    "* [Requests文档](https://requests.readthedocs.io/en/master/)\n",
    "* [BeautifulSoup文档](https://beautiful-soup-4.readthedocs.io/en/latest/index.html)\n"
   ]
  },
  {
   "cell_type": "code",
   "execution_count": null,
   "metadata": {},
   "outputs": [],
   "source": [
    "# export\n",
    "import requests,json,re\n",
    "from bs4 import BeautifulSoup,Tag\n",
    "from collections import Counter"
   ]
  },
  {
   "cell_type": "code",
   "execution_count": null,
   "metadata": {},
   "outputs": [
    {
     "name": "stdout",
     "output_type": "stream",
     "text": [
      "start: https://www.zhihu.com/topic/19554834/hot\n",
      "start: https://book.douban.com/tag/%E5%A4%96%E5%9B%BD%E6%96%87%E5%AD%A6\n",
      "start: https://search.bilibili.com/all?keyword=%E5%A4%A7%E7%88%B7&from_source=banner_search\n",
      "start: https://github.com/trending\n",
      "start: https://search.jd.com/Search?keyword=%E7%94%B5%E8%84%91&enc=utf-8&wq=%E7%94%B5%E8%84%91&pvid=254ed16260384a18a34c1c452b6db180\n",
      "start: https://bj.lianjia.com/ershoufang/\n",
      "start: http://www.rrys2019.com/html/top/week_fav_list.html\n",
      "start: https://music.163.com/discover/playlist\n",
      "start: https://weixin.sogou.com/weixin?type=2&ie=utf8&s_from=hotnews&query=%E9%9B%B7%E7%A5%9E%E5%B1%B1%E6%9C%BA%E5%99%A8%E4%BA%BA%E4%B8%8A%E5%B2%97\n",
      "start: http://ciligou.top/search?word=%E6%B5%81%E6%B5%AA%E5%9C%B0%E7%90%83\n"
     ]
    }
   ],
   "source": [
    "urls = '''\n",
    "https://www.zhihu.com/topic/19554834/hot\n",
    "https://book.douban.com/tag/%E5%A4%96%E5%9B%BD%E6%96%87%E5%AD%A6\n",
    "https://search.bilibili.com/all?keyword=%E5%A4%A7%E7%88%B7&from_source=banner_search\n",
    "https://github.com/trending\n",
    "https://search.jd.com/Search?keyword=%E7%94%B5%E8%84%91&enc=utf-8&wq=%E7%94%B5%E8%84%91&pvid=254ed16260384a18a34c1c452b6db180\n",
    "https://bj.lianjia.com/ershoufang/\n",
    "http://www.rrys2019.com/html/top/week_fav_list.html\n",
    "https://weixin.sogou.com/weixin?type=2&ie=utf8&s_from=hotnews&query=%E9%9B%B7%E7%A5%9E%E5%B1%B1%E6%9C%BA%E5%99%A8%E4%BA%BA%E4%B8%8A%E5%B2%97\n",
    "http://ciligou.top/search?word=%E6%B5%81%E6%B5%AA%E5%9C%B0%E7%90%83\n",
    "'''\n",
    "url_list = urls.strip().split('\\n')\n",
    "soup_list = []\n",
    "\n",
    "for url in url_list:\n",
    "    print('start:',url)\n",
    "    res = requests.get(url,headers={'user-agent':'Mozilla/5.0'})\n",
    "    if res.status_code == 200:\n",
    "        soup = BeautifulSoup(res.text,'lxml')\n",
    "        soup_list.append(soup)\n",
    "    else:\n",
    "        print(res,res.text)"
   ]
  },
  {
   "cell_type": "code",
   "execution_count": null,
   "metadata": {},
   "outputs": [
    {
     "data": {
      "text/plain": [
       "True"
      ]
     },
     "execution_count": null,
     "metadata": {},
     "output_type": "execute_result"
    }
   ],
   "source": [
    "len(soup_list) == len(url_list)"
   ]
  },
  {
   "cell_type": "markdown",
   "metadata": {},
   "source": [
    "## 更复杂的请求\n",
    "> 以豆瓣网为例"
   ]
  },
  {
   "cell_type": "markdown",
   "metadata": {},
   "source": [
    "一开始没有header的请求会被拒绝，因为服务器会把这次的请求当成是机器人，status_code是418"
   ]
  },
  {
   "cell_type": "code",
   "execution_count": null,
   "metadata": {},
   "outputs": [
    {
     "data": {
      "text/plain": [
       "(<Response [418]>, '')"
      ]
     },
     "execution_count": null,
     "metadata": {},
     "output_type": "execute_result"
    }
   ],
   "source": [
    "# hide\n",
    "search_query = '1234'\n",
    "url = f'https://www.douban.com/search?q={search_query}'\n",
    "res = requests.get(url)\n",
    "res,res.text"
   ]
  },
  {
   "cell_type": "markdown",
   "metadata": {},
   "source": [
    "加了header之后，服务器就把它当成了Mozilla浏览器，就有response的数据了"
   ]
  },
  {
   "cell_type": "code",
   "execution_count": null,
   "metadata": {},
   "outputs": [
    {
     "data": {
      "text/plain": [
       "<Response [200]>"
      ]
     },
     "execution_count": null,
     "metadata": {},
     "output_type": "execute_result"
    }
   ],
   "source": [
    "# hide\n",
    "headers = {'user-agent':'Mozilla/5.0'}\n",
    "res = requests.get(url,headers=headers)\n",
    "res"
   ]
  },
  {
   "cell_type": "markdown",
   "metadata": {},
   "source": [
    "想要发布一个动态就需要登录状态，而cookie就是登录状态的载体，cookie就是用帐号密码登录后获取的凭证"
   ]
  },
  {
   "cell_type": "code",
   "execution_count": null,
   "metadata": {},
   "outputs": [],
   "source": [
    "# hide\n",
    "url = 'https://www.douban.com/'\n",
    "data = {'comment':'hello world','ck':'zV8Z','privacy_and_reply_limit':'P,'}"
   ]
  },
  {
   "cell_type": "code",
   "execution_count": null,
   "metadata": {},
   "outputs": [],
   "source": [
    "# export\n",
    "def format_cookie_str(cookie_str):\n",
    "    '把chrome拷贝过来的cookie字符转化成dict'\n",
    "    cookies = {}\n",
    "    for item in cookie_str.split('; '):\n",
    "        k,v = item.split('=',1)\n",
    "        cookies[k] = v\n",
    "    return cookies"
   ]
  },
  {
   "cell_type": "code",
   "execution_count": null,
   "metadata": {},
   "outputs": [
    {
     "data": {
      "text/plain": [
       "{'bid': '1i8YWHFPDwI',\n",
       " 'gr_user_id': '5b798ccf-0dc3-41f7-9358-ab221ae5c248',\n",
       " '__utmc': '30149280',\n",
       " '__utmz': '30149280.1582040380.5.5.utmcsr=google|utmccn=(organic)|utmcmd=organic|utmctr=(not%20provided)',\n",
       " 'll': '\"118124\"',\n",
       " '_pk_ref.100001.8cb4': '%5B%22%22%2C%22%22%2C1582185091%2C%22https%3A%2F%2Fwww.google.com%2F%22%5D',\n",
       " '_pk_ses.100001.8cb4': '*',\n",
       " '__utma': '30149280.682236232.1580713449.1582121697.1582185095.7',\n",
       " 'ap_v': '0,6.0',\n",
       " 'viewed': '\"19672873_30243169_4233221\"',\n",
       " 'gr_cs1_6bb1b2b8-0a3e-4e02-9e3c-4f359d514576': 'user_id%3A0',\n",
       " '__utmt_douban': '1',\n",
       " 'dbcl2': '\"140014301:Td6zJ+yn5sA\"',\n",
       " 'ck': 'zV8Z',\n",
       " 'gr_session_id_22c937bbd8ebd703f2d8e9445f7dfd03': '7a596b44-fe53-45f0-90fa-2c24b2faa365',\n",
       " 'gr_cs1_7a596b44-fe53-45f0-90fa-2c24b2faa365': 'user_id%3A1',\n",
       " 'gr_session_id_22c937bbd8ebd703f2d8e9445f7dfd03_7a596b44-fe53-45f0-90fa-2c24b2faa365': 'true',\n",
       " 'push_noty_num': '0',\n",
       " 'push_doumail_num': '0',\n",
       " '__utmv': '30149280.14001',\n",
       " '__utmt': '1',\n",
       " 'ps': 'y',\n",
       " '_pk_id.100001.8cb4': '7bc8021c269d7e50.1580713448.6.1582185748.1582121848.',\n",
       " '__utmb': '30149280.18.10.1582185095'}"
      ]
     },
     "execution_count": null,
     "metadata": {},
     "output_type": "execute_result"
    }
   ],
   "source": [
    "cookie_str = 'bid=1i8YWHFPDwI; gr_user_id=5b798ccf-0dc3-41f7-9358-ab221ae5c248; __utmc=30149280; __utmz=30149280.1582040380.5.5.utmcsr=google|utmccn=(organic)|utmcmd=organic|utmctr=(not%20provided); ll=\"118124\"; _pk_ref.100001.8cb4=%5B%22%22%2C%22%22%2C1582185091%2C%22https%3A%2F%2Fwww.google.com%2F%22%5D; _pk_ses.100001.8cb4=*; __utma=30149280.682236232.1580713449.1582121697.1582185095.7; ap_v=0,6.0; viewed=\"19672873_30243169_4233221\"; gr_cs1_6bb1b2b8-0a3e-4e02-9e3c-4f359d514576=user_id%3A0; __utmt_douban=1; dbcl2=\"140014301:Td6zJ+yn5sA\"; ck=zV8Z; gr_session_id_22c937bbd8ebd703f2d8e9445f7dfd03=7a596b44-fe53-45f0-90fa-2c24b2faa365; gr_cs1_7a596b44-fe53-45f0-90fa-2c24b2faa365=user_id%3A1; gr_session_id_22c937bbd8ebd703f2d8e9445f7dfd03_7a596b44-fe53-45f0-90fa-2c24b2faa365=true; push_noty_num=0; push_doumail_num=0; __utmv=30149280.14001; __utmt=1; ps=y; _pk_id.100001.8cb4=7bc8021c269d7e50.1580713448.6.1582185748.1582121848.; __utmb=30149280.18.10.1582185095'\n",
    "cookies = format_cookie_str(cookie_str)\n",
    "cookies"
   ]
  },
  {
   "cell_type": "code",
   "execution_count": null,
   "metadata": {},
   "outputs": [
    {
     "data": {
      "text/plain": [
       "'<!DOCTYPE html>\\n<html lang=\"zh-cmn-Hans\" class=\"\">\\n<head>\\n    <meta http-equiv=\"Content-Type\" content=\"text/html; charset=utf-8\">\\n    <meta name=\"renderer\" content=\"webkit\">\\n    <meta name=\"referrer\" content=\"always\">\\n    <meta name=\"google-site-verification\" content=\"ok0wCgT20tBBgo9_zat2iAcimtN4Ftf5ccsh092Xeyw\" />\\n    <title>豆瓣</title>\\n    \\n    \\n<meta content=\"提供图书、电影、音乐唱片的推荐、评论和价格比较，以及城市独特的文化生活。\" name=\"description\"/>\\n\\n    <link href=\"https://img3.doubanio.com/f/shire/db7c8ab218cded634c1180ff7b56d3ca44393bc2/css/frontpage/_init_.css\" rel=\"stylesheet\" type=\"text/css\">\\n    <script>_head_start = new Date();</script>\\n    <script src=\"https://img3.doubanio.com/f/shire/ebac5abada5de811d65dac57b2e62a89c7ddf55a/js/core/_init_.js\" data-cfg-corelib=\"https://img3.doubanio.com/f/shire/72ced6df41d4d158420cebdd254f9562942464e3/js/jquery.min.js\"></script>\\n    \\n    <style type=\"text/css\"></style>\\n    <link rel=\"stylesheet\" href=\"https://img3.doubanio.com/misc/mixed_static/2008baff28306247.css\">\\n    <script>\\n        Do.global(\\'https://img3.doubanio.com/f/shire/5ecaf46d6954d5a30bc7d99be86ae34031646e00/js/douban.js\\');\\n        \\n    </script>\\n\\n    <link rel=\"shortcut icon\" href=\"https://img3.doubanio.com/favicon.ico\" type=\"image/x-icon\">\\n</head>\\n\\n<body>\\n  \\n  \\n    <script type=\"text/javascript\">var _body_start = new Date();</script>\\n    \\n\\n\\n  \\n\\n\\n\\n    <link href=\"//img3.doubanio.com/dae/accounts/resources/f5f3d66/shire/bundle.css\" rel=\"stylesheet\" type=\"text/css\">\\n\\n\\n\\n<div id=\"db-global-nav\" class=\"global-nav\">\\n  <div class=\"bd\">\\n    \\n<div class=\"top-nav-info\">\\n  <ul>\\n    <li>\\n    <a id=\"top-nav-doumail-link\" href=\"https://www.douban.com/doumail/\">豆邮</a>\\n    </li>\\n    <li class=\"nav-user-account\">\\n      <a target=\"_blank\" href=\"https://accounts.douban.com/passport/setting/\" class=\"bn-more\">\\n        <span>Hawk的帐号</span><span class=\"arrow\"></span>\\n      </a>\\n      <div class=\"more-items\">\\n        <table cellpadding=\"0\" cellspacing=\"0\">\\n          <tbody>\\n            <tr>\\n              <td>\\n                <a href=\"https://www.douban.com/mine/\">个人主页</a>\\n              </td>\\n            </tr>\\n            <tr>\\n              <td>\\n                <a target=\"_blank\" href=\"https://www.douban.com/mine/orders/\">我的订单</a>\\n              </td>\\n            </tr>\\n            <tr>\\n              <td>\\n                <a target=\"_blank\" href=\"https://www.douban.com/mine/wallet/\">我的钱包</a>\\n              </td>\\n            </tr>\\n            <tr>\\n              <td>\\n                <a target=\"_blank\" href=\"https://accounts.douban.com/passport/setting/\">帐号管理</a>\\n              </td>\\n            </tr>\\n            <tr>\\n              <td>\\n                <a href=\"https://www.douban.com/accounts/logout?source=main&ck=zV8Z\">退出</a>\\n              </td>\\n            </tr>\\n          </tbody>\\n        </table>\\n      </div>\\n    </li>\\n  </ul>\\n</div>\\n\\n  <div class=\"top-nav-reminder\">\\n    <a href=\"https://www.douban.com/notification/\" class=\"lnk-remind\">提醒</a>\\n    <div id=\"top-nav-notimenu\" class=\"more-items\">\\n      <div class=\"bd\">\\n        <p>加载中...</p>\\n      </div>\\n    </div>\\n  </div>\\n\\n    <div class=\"top-nav-doubanapp\">\\n  <a href=\"https://www.douban.com/doubanapp/app?channel=top-nav\" class=\"lnk-doubanapp\">下载豆瓣客户端</a>\\n  <div id=\"doubanapp-tip\">\\n    <a href=\"https://www.douban.com/doubanapp/app?channel=qipao\" class=\"tip-link\">豆瓣 <span class=\"version\">6.0</span> 全新发布</a>\\n    <a href=\"javascript: void 0;\" class=\"tip-close\">×</a>\\n  </div>\\n  <div id=\"top-nav-appintro\" class=\"more-items\">\\n    <p class=\"appintro-title\">豆瓣</p>\\n    <p class=\"qrcode\">扫码直接下载</p>\\n    <div class=\"download\">\\n      <a href=\"https://www.douban.com/doubanapp/redirect?channel=top-nav&direct_dl=1&download=iOS\">iPhone</a>\\n      <span>·</span>\\n      <a href=\"https://www.douban.com/doubanapp/redirect?channel=top-nav&direct_dl=1&download=Android\" class=\"download-android\">Android</a>\\n    </div>\\n  </div>\\n</div>\\n\\n    \\n\\n\\n<div class=\"global-nav-items\">\\n  <ul>\\n    <li class=\"on\">\\n      <a href=\"https://www.douban.com\"  data-moreurl-dict=\"{&quot;from&quot;:&quot;top-nav-click-main&quot;,&quot;uid&quot;:&quot;140014301&quot;}\">豆瓣</a>\\n    </li>\\n    <li class=\"\">\\n      <a href=\"https://book.douban.com\" target=\"_blank\" data-moreurl-dict=\"{&quot;from&quot;:&quot;top-nav-click-book&quot;,&quot;uid&quot;:&quot;140014301&quot;}\">读书</a>\\n    </li>\\n    <li class=\"\">\\n      <a href=\"https://movie.douban.com\" target=\"_blank\" data-moreurl-dict=\"{&quot;from&quot;:&quot;top-nav-click-movie&quot;,&quot;uid&quot;:&quot;140014301&quot;}\">电影</a>\\n    </li>\\n    <li class=\"\">\\n      <a href=\"https://music.douban.com\" target=\"_blank\" data-moreurl-dict=\"{&quot;from&quot;:&quot;top-nav-click-music&quot;,&quot;uid&quot;:&quot;140014301&quot;}\">音乐</a>\\n    </li>\\n    <li class=\"\">\\n      <a href=\"https://www.douban.com/location\" target=\"_blank\" data-moreurl-dict=\"{&quot;from&quot;:&quot;top-nav-click-location&quot;,&quot;uid&quot;:&quot;140014301&quot;}\">同城</a>\\n    </li>\\n    <li class=\"\">\\n      <a href=\"https://www.douban.com/group\" target=\"_blank\" data-moreurl-dict=\"{&quot;from&quot;:&quot;top-nav-click-group&quot;,&quot;uid&quot;:&quot;140014301&quot;}\">小组</a>\\n    </li>\\n    <li class=\"\">\\n      <a href=\"https://read.douban.com&#47;?dcs=top-nav&amp;dcm=douban\" target=\"_blank\" data-moreurl-dict=\"{&quot;from&quot;:&quot;top-nav-click-read&quot;,&quot;uid&quot;:&quot;140014301&quot;}\">阅读</a>\\n    </li>\\n    <li class=\"\">\\n      <a href=\"https://douban.fm&#47;?from_=shire_top_nav\" target=\"_blank\" data-moreurl-dict=\"{&quot;from&quot;:&quot;top-nav-click-fm&quot;,&quot;uid&quot;:&quot;140014301&quot;}\">FM</a>\\n    </li>\\n    <li class=\"\">\\n      <a href=\"https://time.douban.com&#47;?dt_time_source=douban-web_top_nav\" target=\"_blank\" data-moreurl-dict=\"{&quot;from&quot;:&quot;top-nav-click-time&quot;,&quot;uid&quot;:&quot;140014301&quot;}\">时间</a>\\n    </li>\\n    <li class=\"\">\\n      <a href=\"https://market.douban.com&#47;?utm_campaign=douban_top_nav&amp;utm_source=douban&amp;utm_medium=pc_web\" target=\"_blank\" data-moreurl-dict=\"{&quot;from&quot;:&quot;top-nav-click-market&quot;,&quot;uid&quot;:&quot;140014301&quot;}\">豆品</a>\\n    </li>\\n    <li>\\n      <a href=\"#more\" class=\"bn-more\"><span>更多</span></a>\\n      <div class=\"more-items\">\\n        <table cellpadding=\"0\" cellspacing=\"0\">\\n          <tbody>\\n            <tr>\\n              <td>\\n                <a href=\"https://ypy.douban.com\" target=\"_blank\" data-moreurl-dict=\"{&quot;from&quot;:&quot;top-nav-click-ypy&quot;,&quot;uid&quot;:&quot;140014301&quot;}\">豆瓣摄影</a>\\n              </td>\\n            </tr>\\n          </tbody>\\n        </table>\\n      </div>\\n    </li>\\n  </ul>\\n</div>\\n\\n  </div>\\n</div>\\n<script>\\n  ;window._GLOBAL_NAV = {\\n    USER_ID: \"140014301\",\\n    UPLOAD_AUTH_TOKEN: \"140014301:d7b07d7c40082061fb26b5f98135626e3b98c907\",\\n    SSE_TOKEN: \"73e7fd6bcca89da0c4ba96381b03b1082c971ee8\",\\n    SSE_TIMESTAMP: \"1583321857\",\\n    DOUBAN_URL: \"https://www.douban.com\",\\n    N_NEW_NOTIS: 0,\\n    N_NEW_DOUMAIL: 0\\n  };\\n</script>\\n\\n\\n\\n    <script src=\"//img3.doubanio.com/dae/accounts/resources/f5f3d66/shire/bundle.js\" defer=\"defer\"></script>\\n\\n\\n\\n\\n  \\n\\n\\n\\n    <link href=\"//img3.doubanio.com/dae/accounts/resources/f5f3d66/sns/bundle.css\" rel=\"stylesheet\" type=\"text/css\">\\n\\n\\n\\n<div id=\"db-nav-sns\" class=\"nav\">\\n  <div class=\"nav-wrap\">\\n    <div class=\"nav-primary\">\\n     \\n      <div class=\"nav-logo\">\\n        <a href=\"https://www.douban.com\">豆瓣社区</a>\\n      </div>\\n\\n      <div class=\"nav-search\">\\n  <form action=\"https://www.douban.com/search\" method=\"get\">\\n\\t<fieldset>\\n      <legend>搜索：</legend>\\n\\t  <label for=\"inp-query\">搜索你感兴趣的内容和人...</label>\\n\\t  <div class=\"inp\">\\n\\t    <input type=\"hidden\" name=\"source\" value=\"suggest\">\\n\\t\\t<input id=\"inp-query\" name=\"q\" size=\"22\" maxlength=\"60\" autocomplete=\"off\" value=\"\">\\n\\t  </div>\\n\\t  <div class=\"inp-btn\"><input type=\"submit\" value=\"搜索\"></div>\\n\\t</fieldset>\\n  </form>\\n</div>\\n\\n      \\n\\n<div class=\"nav-items\">\\n  <ul>\\n    <li><a href=\"https://www.douban.com\">首页</a></li>\\n\\t<li><a href=\"https://www.douban.com/mine/\">我的豆瓣</a></li>\\n      <li>\\n        <a href=\"https://www.douban.com/explore\">\\n          浏览发现\\n        </a>\\n      </li>\\n      <li>\\n        <a href=\"https://www.douban.com/gallery\">\\n          话题广场\\n          <img src=\"https://img3.doubanio.com/f/shire/e49eca1517424a941871a2667a8957fd6c72d632/pics/new_menu.gif\" alt=\"new\" style=\"position: absolute; top: -7px; right: -13px;\" />\\n        </a>\\n      </li>\\n  </ul>\\n</div>\\n\\n    </div>\\n  </div>\\n</div>\\n\\n\\n\\n    <script src=\"//img3.doubanio.com/dae/accounts/resources/f5f3d66/sns/bundle.js\" defer=\"defer\"></script>\\n\\n\\n\\n\\n\\n\\n    <div id=\"wrapper\">\\n        \\n\\n        \\n<div id=\"content\">\\n    \\n\\n    <div class=\"grid-16-8 clearfix\">\\n        \\n        \\n        <div class=\"article\">\\n               \\n    \\n\\n        \\n\\n\\n\\n<div class=\"statuses-setting\">\\n<div class=\"hd\">\\n    <a href=\"#\" class=\"a_status_setting\">首页设置</a>\\n</div>\\n<div class=\"bd\" style=\"display:none;\">\\n  <i class=\"arrow\"></i>\\n  <div class=\"loading\">正在加载中...</div>\\n</div>\\n<p class=\"setting-tips\" style=\"display:none;\">设置成功! 相关内容后继会出现在你的首页上\\n</div>\\n<script>\\nEXPAND_SETTING_FORM = false;\\n</script>\\n\\n        <div id=\"statuses\">\\n            \\n\\n\\n\\n\\n\\n<div id=\"db-isay\" class=\"mod isay isay-disable has-commodity \">\\n\\t<form name=\"mbform\" method=\"post\" action=\"https://www.douban.com/\"><div style=\"display:none;\"><input type=\"hidden\" name=\"ck\" value=\"zV8Z\"/></div>\\n    <ul class=\"isay-links\">\\n      <li class=\"isay-main active\"><a data-action=\"main\" href=\"javascript:void(0);\">说句话</a></li>\\n      <li class=\"isay-pic\"><a data-action=\"pic\" href=\"javascript:void(0);\">发照片</a></li>\\n      <li class=\"isay-share\">\\n        <a data-action=\"share\" href=\"javascript:void(0);\">推荐网页</a>\\n      </li>\\n        <li class=\"notes-link\"><a class=\"\" href=\"https://www.douban.com/note/create\" title=\"添加日记\">写日记</a></li>\\n    </ul>\\n    <div class=\"item\">\\n      <p class=\"highlighter mention-highlighter\"></p>\\n      <p class=\"highlighter error-highlighter\"></p>\\n      <label id=\"isay-label\" for=\"isay-cont\">分享生活点滴...</label>\\n      <textarea data-minheight=\"70\" tabindex=\"1\" id=\"isay-cont\" name=\"comment\" rows=\"1\"></textarea>\\n    </div>\\n    <div id=\"isay-act-field\" class=\"isay-act\"></div>\\n    <div class=\"btn\">\\n      <span class=\"private\">\\n        <select name=\"privacy_and_reply_limit\" id=\"accessible\">\\n          <option value=\"P,\">所有人可见</option>\\n          <option value=\"X,\">仅自己可见</option>\\n          <option value=\",F\">关注的人可回应</option>\\n        </select>\\n        <a href=\"javascript:;;\">隐私和权限设置</a>\\n      </span>\\n      <span id=\"isay-counter\"></span>\\n      <span class=\"bn-submit bn-flat js-verify-account\" data-is-verified=\"True\" data-verify-url=\"https://www.douban.com/accounts/phone/verify\"><input id=\"isay-submit\" tabindex=\"1\" type=\"submit\" value=\"发布\"></span>\\n      <a target=\"_blank\" href=\"https://www.douban.com/service/bookmarklet\" class=\"lnk-share-tools\" onclick=\"moreurl(this, {from:\\'index_rec\\'})\" >添加网页推荐工具</a>\\n    </div>\\n  </form>\\n  <div class=\"btn-group\">\\n    <form charset=\"utf-8\" id=\"isay-upload\" data-action=\"pic\" action=\"/j/upload\" enctype=\"multipart/form-data\" method=\"post\"><div style=\"display:none;\"><input type=\"hidden\" name=\"ck\" value=\"zV8Z\"/></div>\\n    <input id=\"isay-upload-inp\" tabindex=\"2\" autocomplete=\"off\" data-action=\"pic\" name=\"image\" title=\"可传多张照片\" type=\"file\" multiple>\\n    </form>\\n    <a href=\"javascript:void(0);\" tabindex=\"-1\" data-action=\"pic\" class=\"ico ico-pic\" title=\"上传照片\">照片</a>\\n    <a href=\"javascript:void(0);\" tabindex=\"2\" data-action=\"topic\" class=\"ico ico-topic\" title=\"添加话题\">话题</a>\\n  </div>\\n</div>\\n<script>\\n    UPLOAD_AUTH_TOKEN = \\'140014301:2de50277b8048afa57ae64a04794a19e095d842c\\';\\n    UPLOAD_URL = \\'/j/upload\\';\\n    SWFUPLOAD_FILES = [\\'https://img3.doubanio.com/f/shire/9980cc8a72c270732194aaef2390a1f0a006f044/js/swfupload.js\\'];\\n    UPLOAD_LIMIT = 9;\\n    var isay_src = \"https://img3.doubanio.com/f/sns/3e9f89b45c2d496133be9c80f578b50dd734ada7/js/sns/widgets/isay_a.js\";\\n    var tagsug_src = \"https://img3.doubanio.com/f/sns/f24804bcb4d19163e924f68e4ffe49496eda68c4/js/sns/lib/tagsug.js\";\\n</script>\\n\\n\\n\\n\\n\\n\\n\\n\\n\\n            \\n\\n\\n\\n\\n\\n\\n\\n\\n\\n<div class=\"stream-items\">\\n  \\n\\n    \\n      \\n      \\n\\n\\n\\n\\n\\n\\n    \\n  \\n    <div class=\"new-status status-wrapper    saying\" data-sid=\"2849308445\" data-uid=\"140014301\" >\\n\\n    \\n      \\n\\n\\n\\n\\n\\n<div class=\"status-item\"\\n    data-sid=\"2849308445\"\\n    data-uid=\"140014301\"\\n    data-action=\"1\"\\n    data-target-type=\"sns\"\\n    data-object-kind=\"1018\"\\n    data-object-id=\"568938939\">\\n<div class=\"mod\" data-status-id=\"2849308445\">\\n  \\n  <div\\n    class=\"hd \"\\n    data-status-url=\"https://www.douban.com/people/140014301/status/2849308445/\">\\n    \\n  \\n    <div class=\"usr-pic\">\\n      <a href=\"https://www.douban.com/people/140014301/\"\\n        \\n  \\n  onclick=\"moreurl(this, {&#34;action&#34;: &#34;1&#34;, &#34;from&#34;: &#34;nmbp-2849308445&#34;, &#34;target_type&#34;: &#34;sns&#34;, &#34;object_kind&#34;: &#34;1018&#34;})\"\\n title=\"Hawk\">\\n        <img src=\"https://img3.doubanio.com/icon/u140014301-1.jpg\" alt=\"Hawk\"/>\\n      </a>\\n    </div>\\n  <div class=\"text\">\\n    <a href=\"https://www.douban.com/people/140014301/\" \\n  \\n  onclick=\"moreurl(this, {&#34;action&#34;: &#34;1&#34;, &#34;from&#34;: &#34;nmbp-2849308445&#34;, &#34;target_type&#34;: &#34;sns&#34;, &#34;object_kind&#34;: &#34;1018&#34;})\"\\n class=\"lnk-people\">Hawk</a>\\n\\n    说:\\n\\n\\n  </div>\\n\\n  </div>\\n\\n  <div class=\"bd sns\">\\n    \\n  \\n  <div class=\"status-saying\">\\n    \\n\\n<blockquote class=quote-clamp>\\n  \\n\\n  <p>hello world</p>\\n</blockquote>\\n\\n    \\n\\n\\n  </div>\\n\\n\\n  \\n\\n<div class=\"actions\">\\n  \\n  <span class=\"created_at\" title=\"2020-03-04 19:37:35\"><a href=\"https://www.douban.com/people/140014301/status/2849308445/\">刚刚</a></span>\\n\\n  <a href=\"https://www.douban.com/people/140014301/status/2849308445/\" class=\"btn btn-action-reply new-reply\" data-action-type=\"showComments\" data-count=\"0\">\\n    回应\\n  </a>\\n\\n\\n\\n    &nbsp;&nbsp;<a class=\"btn btn-key-reshare btn-reshare new-reshare \" data-action-type=\"reshare\" >转发</a>\\n\\n\\n  &nbsp;&nbsp;<a href=\"https://www.douban.com/people/140014301/status/2849308445/\" class=\"btn btn-action-reply-delete\" data-action-type=\"deleteStatus\" data-reshare=\"\">删除</a>\\n\\n</div>\\n\\n  <div class=\"others\">\\n    <div class=\"comments\">\\n      <div class=\"comments-items\"></div>\\n        \\n    </div>\\n  </div>\\n  </div>\\n</div>\\n</div>\\n\\n\\n\\n\\n    \\n    \\n\\n</div>\\n<!-- 2849308445, say.html, -->\\n\\n\\n\\n\\n      \\n    \\n      \\n      \\n\\n\\n\\n\\n\\n\\n    \\n  \\n    <div class=\"new-status status-wrapper    saying\" data-sid=\"2849286231\" data-uid=\"140014301\" >\\n\\n    \\n      \\n\\n\\n\\n\\n\\n<div class=\"status-item\"\\n    data-sid=\"2849286231\"\\n    data-uid=\"140014301\"\\n    data-action=\"1\"\\n    data-target-type=\"sns\"\\n    data-object-kind=\"1018\"\\n    data-object-id=\"568938817\">\\n<div class=\"mod\" data-status-id=\"2849286231\">\\n  \\n  <div\\n    class=\"hd \"\\n    data-status-url=\"https://www.douban.com/people/140014301/status/2849286231/\">\\n    \\n  \\n    <div class=\"usr-pic\">\\n      <a href=\"https://www.douban.com/people/140014301/\"\\n        \\n  \\n  onclick=\"moreurl(this, {&#34;action&#34;: &#34;1&#34;, &#34;from&#34;: &#34;nmbp-2849286231&#34;, &#34;target_type&#34;: &#34;sns&#34;, &#34;object_kind&#34;: &#34;1018&#34;})\"\\n title=\"Hawk\">\\n        <img src=\"https://img3.doubanio.com/icon/u140014301-1.jpg\" alt=\"Hawk\"/>\\n      </a>\\n    </div>\\n  <div class=\"text\">\\n    <a href=\"https://www.douban.com/people/140014301/\" \\n  \\n  onclick=\"moreurl(this, {&#34;action&#34;: &#34;1&#34;, &#34;from&#34;: &#34;nmbp-2849286231&#34;, &#34;target_type&#34;: &#34;sns&#34;, &#34;object_kind&#34;: &#34;1018&#34;})\"\\n class=\"lnk-people\">Hawk</a>\\n\\n    说:\\n\\n\\n  </div>\\n\\n  </div>\\n\\n  <div class=\"bd sns\">\\n    \\n  \\n  <div class=\"status-saying\">\\n    \\n\\n<blockquote class=quote-clamp>\\n  \\n\\n  <p>hello world</p>\\n</blockquote>\\n\\n    \\n\\n\\n  </div>\\n\\n\\n  \\n\\n<div class=\"actions\">\\n  \\n  <span class=\"created_at\" title=\"2020-03-04 19:23:46\"><a href=\"https://www.douban.com/people/140014301/status/2849286231/\">13分钟前</a></span>\\n\\n  <a href=\"https://www.douban.com/people/140014301/status/2849286231/\" class=\"btn btn-action-reply new-reply\" data-action-type=\"showComments\" data-count=\"0\">\\n    回应\\n  </a>\\n\\n\\n\\n    &nbsp;&nbsp;<a class=\"btn btn-key-reshare btn-reshare new-reshare \" data-action-type=\"reshare\" >转发</a>\\n\\n\\n  &nbsp;&nbsp;<a href=\"https://www.douban.com/people/140014301/status/2849286231/\" class=\"btn btn-action-reply-delete\" data-action-type=\"deleteStatus\" data-reshare=\"\">删除</a>\\n\\n</div>\\n\\n  <div class=\"others\">\\n    <div class=\"comments\">\\n      <div class=\"comments-items\"></div>\\n        \\n    </div>\\n  </div>\\n  </div>\\n</div>\\n</div>\\n\\n\\n\\n\\n    \\n    \\n\\n</div>\\n<!-- 2849286231, say.html, -->\\n\\n\\n\\n\\n      \\n    \\n      \\n      \\n\\n\\n\\n\\n\\n\\n    \\n  \\n    <div class=\"new-status status-wrapper    saying\" data-sid=\"2849285799\" data-uid=\"140014301\" >\\n\\n    \\n      \\n\\n\\n\\n\\n\\n<div class=\"status-item\"\\n    data-sid=\"2849285799\"\\n    data-uid=\"140014301\"\\n    data-action=\"1\"\\n    data-target-type=\"sns\"\\n    data-object-kind=\"1018\"\\n    data-object-id=\"568938814\">\\n<div class=\"mod\" data-status-id=\"2849285799\">\\n  \\n  <div\\n    class=\"hd \"\\n    data-status-url=\"https://www.douban.com/people/140014301/status/2849285799/\">\\n    \\n  \\n    <div class=\"usr-pic\">\\n      <a href=\"https://www.douban.com/people/140014301/\"\\n        \\n  \\n  onclick=\"moreurl(this, {&#34;action&#34;: &#34;1&#34;, &#34;from&#34;: &#34;nmbp-2849285799&#34;, &#34;target_type&#34;: &#34;sns&#34;, &#34;object_kind&#34;: &#34;1018&#34;})\"\\n title=\"Hawk\">\\n        <img src=\"https://img3.doubanio.com/icon/u140014301-1.jpg\" alt=\"Hawk\"/>\\n      </a>\\n    </div>\\n  <div class=\"text\">\\n    <a href=\"https://www.douban.com/people/140014301/\" \\n  \\n  onclick=\"moreurl(this, {&#34;action&#34;: &#34;1&#34;, &#34;from&#34;: &#34;nmbp-2849285799&#34;, &#34;target_type&#34;: &#34;sns&#34;, &#34;object_kind&#34;: &#34;1018&#34;})\"\\n class=\"lnk-people\">Hawk</a>\\n\\n    说:\\n\\n\\n  </div>\\n\\n  </div>\\n\\n  <div class=\"bd sns\">\\n    \\n  \\n  <div class=\"status-saying\">\\n    \\n\\n<blockquote class=quote-clamp>\\n  \\n\\n  <p>hello world</p>\\n</blockquote>\\n\\n    \\n\\n\\n  </div>\\n\\n\\n  \\n\\n<div class=\"actions\">\\n  \\n  <span class=\"created_at\" title=\"2020-03-04 19:23:26\"><a href=\"https://www.douban.com/people/140014301/status/2849285799/\">14分钟前</a></span>\\n\\n  <a href=\"https://www.douban.com/people/140014301/status/2849285799/\" class=\"btn btn-action-reply new-reply\" data-action-type=\"showComments\" data-count=\"0\">\\n    回应\\n  </a>\\n\\n\\n\\n    &nbsp;&nbsp;<a class=\"btn btn-key-reshare btn-reshare new-reshare \" data-action-type=\"reshare\" >转发</a>\\n\\n\\n  &nbsp;&nbsp;<a href=\"https://www.douban.com/people/140014301/status/2849285799/\" class=\"btn btn-action-reply-delete\" data-action-type=\"deleteStatus\" data-reshare=\"\">删除</a>\\n\\n</div>\\n\\n  <div class=\"others\">\\n    <div class=\"comments\">\\n      <div class=\"comments-items\"></div>\\n        \\n    </div>\\n  </div>\\n  </div>\\n</div>\\n</div>\\n\\n\\n\\n\\n    \\n    \\n\\n</div>\\n<!-- 2849285799, say.html, -->\\n\\n\\n\\n\\n      \\n    \\n      \\n      \\n\\n\\n\\n\\n\\n\\n    \\n  \\n    <div class=\"new-status status-wrapper    saying\" data-sid=\"2849285223\" data-uid=\"140014301\" >\\n\\n    \\n      \\n\\n\\n\\n\\n\\n<div class=\"status-item\"\\n    data-sid=\"2849285223\"\\n    data-uid=\"140014301\"\\n    data-action=\"1\"\\n    data-target-type=\"sns\"\\n    data-object-kind=\"1018\"\\n    data-object-id=\"568938810\">\\n<div class=\"mod\" data-status-id=\"2849285223\">\\n  \\n  <div\\n    class=\"hd \"\\n    data-status-url=\"https://www.douban.com/people/140014301/status/2849285223/\">\\n    \\n  \\n    <div class=\"usr-pic\">\\n      <a href=\"https://www.douban.com/people/140014301/\"\\n        \\n  \\n  onclick=\"moreurl(this, {&#34;action&#34;: &#34;1&#34;, &#34;from&#34;: &#34;nmbp-2849285223&#34;, &#34;target_type&#34;: &#34;sns&#34;, &#34;object_kind&#34;: &#34;1018&#34;})\"\\n title=\"Hawk\">\\n        <img src=\"https://img3.doubanio.com/icon/u140014301-1.jpg\" alt=\"Hawk\"/>\\n      </a>\\n    </div>\\n  <div class=\"text\">\\n    <a href=\"https://www.douban.com/people/140014301/\" \\n  \\n  onclick=\"moreurl(this, {&#34;action&#34;: &#34;1&#34;, &#34;from&#34;: &#34;nmbp-2849285223&#34;, &#34;target_type&#34;: &#34;sns&#34;, &#34;object_kind&#34;: &#34;1018&#34;})\"\\n class=\"lnk-people\">Hawk</a>\\n\\n    说:\\n\\n\\n  </div>\\n\\n  </div>\\n\\n  <div class=\"bd sns\">\\n    \\n  \\n  <div class=\"status-saying\">\\n    \\n\\n<blockquote class=quote-clamp>\\n  \\n\\n  <p>hello world</p>\\n</blockquote>\\n\\n    \\n\\n\\n  </div>\\n\\n\\n  \\n\\n<div class=\"actions\">\\n  \\n  <span class=\"created_at\" title=\"2020-03-04 19:23:05\"><a href=\"https://www.douban.com/people/140014301/status/2849285223/\">14分钟前</a></span>\\n\\n  <a href=\"https://www.douban.com/people/140014301/status/2849285223/\" class=\"btn btn-action-reply new-reply\" data-action-type=\"showComments\" data-count=\"0\">\\n    回应\\n  </a>\\n\\n\\n\\n    &nbsp;&nbsp;<a class=\"btn btn-key-reshare btn-reshare new-reshare \" data-action-type=\"reshare\" >转发</a>\\n\\n\\n  &nbsp;&nbsp;<a href=\"https://www.douban.com/people/140014301/status/2849285223/\" class=\"btn btn-action-reply-delete\" data-action-type=\"deleteStatus\" data-reshare=\"\">删除</a>\\n\\n</div>\\n\\n  <div class=\"others\">\\n    <div class=\"comments\">\\n      <div class=\"comments-items\"></div>\\n        \\n    </div>\\n  </div>\\n  </div>\\n</div>\\n</div>\\n\\n\\n\\n\\n    \\n    \\n\\n</div>\\n<!-- 2849285223, say.html, -->\\n\\n\\n\\n\\n      \\n    \\n      \\n      \\n\\n\\n\\n\\n\\n\\n    \\n  \\n    <div class=\"new-status status-wrapper    saying\" data-sid=\"2849284578\" data-uid=\"140014301\" >\\n\\n    \\n      \\n\\n\\n\\n\\n\\n<div class=\"status-item\"\\n    data-sid=\"2849284578\"\\n    data-uid=\"140014301\"\\n    data-action=\"1\"\\n    data-target-type=\"sns\"\\n    data-object-kind=\"1018\"\\n    data-object-id=\"568938804\">\\n<div class=\"mod\" data-status-id=\"2849284578\">\\n  \\n  <div\\n    class=\"hd \"\\n    data-status-url=\"https://www.douban.com/people/140014301/status/2849284578/\">\\n    \\n  \\n    <div class=\"usr-pic\">\\n      <a href=\"https://www.douban.com/people/140014301/\"\\n        \\n  \\n  onclick=\"moreurl(this, {&#34;action&#34;: &#34;1&#34;, &#34;from&#34;: &#34;nmbp-2849284578&#34;, &#34;target_type&#34;: &#34;sns&#34;, &#34;object_kind&#34;: &#34;1018&#34;})\"\\n title=\"Hawk\">\\n        <img src=\"https://img3.doubanio.com/icon/u140014301-1.jpg\" alt=\"Hawk\"/>\\n      </a>\\n    </div>\\n  <div class=\"text\">\\n    <a href=\"https://www.douban.com/people/140014301/\" \\n  \\n  onclick=\"moreurl(this, {&#34;action&#34;: &#34;1&#34;, &#34;from&#34;: &#34;nmbp-2849284578&#34;, &#34;target_type&#34;: &#34;sns&#34;, &#34;object_kind&#34;: &#34;1018&#34;})\"\\n class=\"lnk-people\">Hawk</a>\\n\\n    说:\\n\\n\\n  </div>\\n\\n  </div>\\n\\n  <div class=\"bd sns\">\\n    \\n  \\n  <div class=\"status-saying\">\\n    \\n\\n<blockquote class=quote-clamp>\\n  \\n\\n  <p>hello world</p>\\n</blockquote>\\n\\n    \\n\\n\\n  </div>\\n\\n\\n  \\n\\n<div class=\"actions\">\\n  \\n  <span class=\"created_at\" title=\"2020-03-04 19:22:42\"><a href=\"https://www.douban.com/people/140014301/status/2849284578/\">14分钟前</a></span>\\n\\n  <a href=\"https://www.douban.com/people/140014301/status/2849284578/\" class=\"btn btn-action-reply new-reply\" data-action-type=\"showComments\" data-count=\"0\">\\n    回应\\n  </a>\\n\\n\\n\\n    &nbsp;&nbsp;<a class=\"btn btn-key-reshare btn-reshare new-reshare \" data-action-type=\"reshare\" >转发</a>\\n\\n\\n  &nbsp;&nbsp;<a href=\"https://www.douban.com/people/140014301/status/2849284578/\" class=\"btn btn-action-reply-delete\" data-action-type=\"deleteStatus\" data-reshare=\"\">删除</a>\\n\\n</div>\\n\\n  <div class=\"others\">\\n    <div class=\"comments\">\\n      <div class=\"comments-items\"></div>\\n        \\n    </div>\\n  </div>\\n  </div>\\n</div>\\n</div>\\n\\n\\n\\n\\n    \\n    \\n\\n</div>\\n<!-- 2849284578, say.html, -->\\n\\n\\n\\n\\n      \\n    \\n      \\n      \\n\\n\\n\\n\\n\\n\\n    \\n  \\n    <div class=\"new-status status-wrapper    saying\" data-sid=\"2849283969\" data-uid=\"140014301\" >\\n\\n    \\n      \\n\\n\\n\\n\\n\\n<div class=\"status-item\"\\n    data-sid=\"2849283969\"\\n    data-uid=\"140014301\"\\n    data-action=\"1\"\\n    data-target-type=\"sns\"\\n    data-object-kind=\"1018\"\\n    data-object-id=\"568938799\">\\n<div class=\"mod\" data-status-id=\"2849283969\">\\n  \\n  <div\\n    class=\"hd \"\\n    data-status-url=\"https://www.douban.com/people/140014301/status/2849283969/\">\\n    \\n  \\n    <div class=\"usr-pic\">\\n      <a href=\"https://www.douban.com/people/140014301/\"\\n        \\n  \\n  onclick=\"moreurl(this, {&#34;action&#34;: &#34;1&#34;, &#34;from&#34;: &#34;nmbp-2849283969&#34;, &#34;target_type&#34;: &#34;sns&#34;, &#34;object_kind&#34;: &#34;1018&#34;})\"\\n title=\"Hawk\">\\n        <img src=\"https://img3.doubanio.com/icon/u140014301-1.jpg\" alt=\"Hawk\"/>\\n      </a>\\n    </div>\\n  <div class=\"text\">\\n    <a href=\"https://www.douban.com/people/140014301/\" \\n  \\n  onclick=\"moreurl(this, {&#34;action&#34;: &#34;1&#34;, &#34;from&#34;: &#34;nmbp-2849283969&#34;, &#34;target_type&#34;: &#34;sns&#34;, &#34;object_kind&#34;: &#34;1018&#34;})\"\\n class=\"lnk-people\">Hawk</a>\\n\\n    说:\\n\\n\\n  </div>\\n\\n  </div>\\n\\n  <div class=\"bd sns\">\\n    \\n  \\n  <div class=\"status-saying\">\\n    \\n\\n<blockquote class=quote-clamp>\\n  \\n\\n  <p>hello world</p>\\n</blockquote>\\n\\n    \\n\\n\\n  </div>\\n\\n\\n  \\n\\n<div class=\"actions\">\\n  \\n  <span class=\"created_at\" title=\"2020-03-04 19:22:19\"><a href=\"https://www.douban.com/people/140014301/status/2849283969/\">15分钟前</a></span>\\n\\n  <a href=\"https://www.douban.com/people/140014301/status/2849283969/\" class=\"btn btn-action-reply new-reply\" data-action-type=\"showComments\" data-count=\"0\">\\n    回应\\n  </a>\\n\\n\\n\\n    &nbsp;&nbsp;<a class=\"btn btn-key-reshare btn-reshare new-reshare \" data-action-type=\"reshare\" >转发</a>\\n\\n\\n  &nbsp;&nbsp;<a href=\"https://www.douban.com/people/140014301/status/2849283969/\" class=\"btn btn-action-reply-delete\" data-action-type=\"deleteStatus\" data-reshare=\"\">删除</a>\\n\\n</div>\\n\\n  <div class=\"others\">\\n    <div class=\"comments\">\\n      <div class=\"comments-items\"></div>\\n        \\n    </div>\\n  </div>\\n  </div>\\n</div>\\n</div>\\n\\n\\n\\n\\n    \\n    \\n\\n</div>\\n<!-- 2849283969, say.html, -->\\n\\n\\n\\n\\n      \\n    \\n      \\n      \\n\\n\\n\\n\\n\\n\\n    \\n  \\n    <div class=\"new-status status-wrapper    saying\" data-sid=\"2849283502\" data-uid=\"140014301\" >\\n\\n    \\n      \\n\\n\\n\\n\\n\\n<div class=\"status-item\"\\n    data-sid=\"2849283502\"\\n    data-uid=\"140014301\"\\n    data-action=\"1\"\\n    data-target-type=\"sns\"\\n    data-object-kind=\"1018\"\\n    data-object-id=\"568938795\">\\n<div class=\"mod\" data-status-id=\"2849283502\">\\n  \\n  <div\\n    class=\"hd \"\\n    data-status-url=\"https://www.douban.com/people/140014301/status/2849283502/\">\\n    \\n  \\n    <div class=\"usr-pic\">\\n      <a href=\"https://www.douban.com/people/140014301/\"\\n        \\n  \\n  onclick=\"moreurl(this, {&#34;action&#34;: &#34;1&#34;, &#34;from&#34;: &#34;nmbp-2849283502&#34;, &#34;target_type&#34;: &#34;sns&#34;, &#34;object_kind&#34;: &#34;1018&#34;})\"\\n title=\"Hawk\">\\n        <img src=\"https://img3.doubanio.com/icon/u140014301-1.jpg\" alt=\"Hawk\"/>\\n      </a>\\n    </div>\\n  <div class=\"text\">\\n    <a href=\"https://www.douban.com/people/140014301/\" \\n  \\n  onclick=\"moreurl(this, {&#34;action&#34;: &#34;1&#34;, &#34;from&#34;: &#34;nmbp-2849283502&#34;, &#34;target_type&#34;: &#34;sns&#34;, &#34;object_kind&#34;: &#34;1018&#34;})\"\\n class=\"lnk-people\">Hawk</a>\\n\\n    说:\\n\\n\\n  </div>\\n\\n  </div>\\n\\n  <div class=\"bd sns\">\\n    \\n  \\n  <div class=\"status-saying\">\\n    \\n\\n<blockquote class=quote-clamp>\\n  \\n\\n  <p>hello world</p>\\n</blockquote>\\n\\n    \\n\\n\\n  </div>\\n\\n\\n  \\n\\n<div class=\"actions\">\\n  \\n  <span class=\"created_at\" title=\"2020-03-04 19:21:59\"><a href=\"https://www.douban.com/people/140014301/status/2849283502/\">15分钟前</a></span>\\n\\n  <a href=\"https://www.douban.com/people/140014301/status/2849283502/\" class=\"btn btn-action-reply new-reply\" data-action-type=\"showComments\" data-count=\"0\">\\n    回应\\n  </a>\\n\\n\\n\\n    &nbsp;&nbsp;<a class=\"btn btn-key-reshare btn-reshare new-reshare \" data-action-type=\"reshare\" >转发</a>\\n\\n\\n  &nbsp;&nbsp;<a href=\"https://www.douban.com/people/140014301/status/2849283502/\" class=\"btn btn-action-reply-delete\" data-action-type=\"deleteStatus\" data-reshare=\"\">删除</a>\\n\\n</div>\\n\\n  <div class=\"others\">\\n    <div class=\"comments\">\\n      <div class=\"comments-items\"></div>\\n        \\n    </div>\\n  </div>\\n  </div>\\n</div>\\n</div>\\n\\n\\n\\n\\n    \\n    \\n\\n</div>\\n<!-- 2849283502, say.html, -->\\n\\n\\n\\n\\n      \\n    \\n      \\n      \\n\\n\\n\\n\\n\\n\\n    \\n  \\n    <div class=\"new-status status-wrapper    saying\" data-sid=\"2849282899\" data-uid=\"140014301\" >\\n\\n    \\n      \\n\\n\\n\\n\\n\\n<div class=\"status-item\"\\n    data-sid=\"2849282899\"\\n    data-uid=\"140014301\"\\n    data-action=\"1\"\\n    data-target-type=\"sns\"\\n    data-object-kind=\"1018\"\\n    data-object-id=\"568938790\">\\n<div class=\"mod\" data-status-id=\"2849282899\">\\n  \\n  <div\\n    class=\"hd \"\\n    data-status-url=\"https://www.douban.com/people/140014301/status/2849282899/\">\\n    \\n  \\n    <div class=\"usr-pic\">\\n      <a href=\"https://www.douban.com/people/140014301/\"\\n        \\n  \\n  onclick=\"moreurl(this, {&#34;action&#34;: &#34;1&#34;, &#34;from&#34;: &#34;nmbp-2849282899&#34;, &#34;target_type&#34;: &#34;sns&#34;, &#34;object_kind&#34;: &#34;1018&#34;})\"\\n title=\"Hawk\">\\n        <img src=\"https://img3.doubanio.com/icon/u140014301-1.jpg\" alt=\"Hawk\"/>\\n      </a>\\n    </div>\\n  <div class=\"text\">\\n    <a href=\"https://www.douban.com/people/140014301/\" \\n  \\n  onclick=\"moreurl(this, {&#34;action&#34;: &#34;1&#34;, &#34;from&#34;: &#34;nmbp-2849282899&#34;, &#34;target_type&#34;: &#34;sns&#34;, &#34;object_kind&#34;: &#34;1018&#34;})\"\\n class=\"lnk-people\">Hawk</a>\\n\\n    说:\\n\\n\\n  </div>\\n\\n  </div>\\n\\n  <div class=\"bd sns\">\\n    \\n  \\n  <div class=\"status-saying\">\\n    \\n\\n<blockquote class=quote-clamp>\\n  \\n\\n  <p>hello world</p>\\n</blockquote>\\n\\n    \\n\\n\\n  </div>\\n\\n\\n  \\n\\n<div class=\"actions\">\\n  \\n  <span class=\"created_at\" title=\"2020-03-04 19:21:34\"><a href=\"https://www.douban.com/people/140014301/status/2849282899/\">16分钟前</a></span>\\n\\n  <a href=\"https://www.douban.com/people/140014301/status/2849282899/\" class=\"btn btn-action-reply new-reply\" data-action-type=\"showComments\" data-count=\"0\">\\n    回应\\n  </a>\\n\\n\\n\\n    &nbsp;&nbsp;<a class=\"btn btn-key-reshare btn-reshare new-reshare \" data-action-type=\"reshare\" >转发</a>\\n\\n\\n  &nbsp;&nbsp;<a href=\"https://www.douban.com/people/140014301/status/2849282899/\" class=\"btn btn-action-reply-delete\" data-action-type=\"deleteStatus\" data-reshare=\"\">删除</a>\\n\\n</div>\\n\\n  <div class=\"others\">\\n    <div class=\"comments\">\\n      <div class=\"comments-items\"></div>\\n        \\n    </div>\\n  </div>\\n  </div>\\n</div>\\n</div>\\n\\n\\n\\n\\n    \\n    \\n\\n</div>\\n<!-- 2849282899, say.html, -->\\n\\n\\n\\n\\n      \\n    \\n      \\n      \\n\\n\\n\\n\\n\\n\\n    \\n  \\n    <div class=\"new-status status-wrapper    saying\" data-sid=\"2849282248\" data-uid=\"140014301\" >\\n\\n    \\n      \\n\\n\\n\\n\\n\\n<div class=\"status-item\"\\n    data-sid=\"2849282248\"\\n    data-uid=\"140014301\"\\n    data-action=\"1\"\\n    data-target-type=\"sns\"\\n    data-object-kind=\"1018\"\\n    data-object-id=\"568938787\">\\n<div class=\"mod\" data-status-id=\"2849282248\">\\n  \\n  <div\\n    class=\"hd \"\\n    data-status-url=\"https://www.douban.com/people/140014301/status/2849282248/\">\\n    \\n  \\n    <div class=\"usr-pic\">\\n      <a href=\"https://www.douban.com/people/140014301/\"\\n        \\n  \\n  onclick=\"moreurl(this, {&#34;action&#34;: &#34;1&#34;, &#34;from&#34;: &#34;nmbp-2849282248&#34;, &#34;target_type&#34;: &#34;sns&#34;, &#34;object_kind&#34;: &#34;1018&#34;})\"\\n title=\"Hawk\">\\n        <img src=\"https://img3.doubanio.com/icon/u140014301-1.jpg\" alt=\"Hawk\"/>\\n      </a>\\n    </div>\\n  <div class=\"text\">\\n    <a href=\"https://www.douban.com/people/140014301/\" \\n  \\n  onclick=\"moreurl(this, {&#34;action&#34;: &#34;1&#34;, &#34;from&#34;: &#34;nmbp-2849282248&#34;, &#34;target_type&#34;: &#34;sns&#34;, &#34;object_kind&#34;: &#34;1018&#34;})\"\\n class=\"lnk-people\">Hawk</a>\\n\\n    说:\\n\\n\\n  </div>\\n\\n  </div>\\n\\n  <div class=\"bd sns\">\\n    \\n  \\n  <div class=\"status-saying\">\\n    \\n\\n<blockquote class=quote-clamp>\\n  \\n\\n  <p>hello world</p>\\n</blockquote>\\n\\n    \\n\\n\\n  </div>\\n\\n\\n  \\n\\n<div class=\"actions\">\\n  \\n  <span class=\"created_at\" title=\"2020-03-04 19:21:10\"><a href=\"https://www.douban.com/people/140014301/status/2849282248/\">16分钟前</a></span>\\n\\n  <a href=\"https://www.douban.com/people/140014301/status/2849282248/\" class=\"btn btn-action-reply new-reply\" data-action-type=\"showComments\" data-count=\"0\">\\n    回应\\n  </a>\\n\\n\\n\\n    &nbsp;&nbsp;<a class=\"btn btn-key-reshare btn-reshare new-reshare \" data-action-type=\"reshare\" >转发</a>\\n\\n\\n  &nbsp;&nbsp;<a href=\"https://www.douban.com/people/140014301/status/2849282248/\" class=\"btn btn-action-reply-delete\" data-action-type=\"deleteStatus\" data-reshare=\"\">删除</a>\\n\\n</div>\\n\\n  <div class=\"others\">\\n    <div class=\"comments\">\\n      <div class=\"comments-items\"></div>\\n        \\n    </div>\\n  </div>\\n  </div>\\n</div>\\n</div>\\n\\n\\n\\n\\n    \\n    \\n\\n</div>\\n<!-- 2849282248, say.html, -->\\n\\n\\n\\n\\n      \\n    \\n      \\n      \\n\\n\\n\\n\\n\\n\\n    \\n  \\n    <div class=\"new-status status-wrapper    saying\" data-sid=\"2849281687\" data-uid=\"140014301\" >\\n\\n    \\n      \\n\\n\\n\\n\\n\\n<div class=\"status-item\"\\n    data-sid=\"2849281687\"\\n    data-uid=\"140014301\"\\n    data-action=\"1\"\\n    data-target-type=\"sns\"\\n    data-object-kind=\"1018\"\\n    data-object-id=\"568938785\">\\n<div class=\"mod\" data-status-id=\"2849281687\">\\n  \\n  <div\\n    class=\"hd \"\\n    data-status-url=\"https://www.douban.com/people/140014301/status/2849281687/\">\\n    \\n  \\n    <div class=\"usr-pic\">\\n      <a href=\"https://www.douban.com/people/140014301/\"\\n        \\n  \\n  onclick=\"moreurl(this, {&#34;action&#34;: &#34;1&#34;, &#34;from&#34;: &#34;nmbp-2849281687&#34;, &#34;target_type&#34;: &#34;sns&#34;, &#34;object_kind&#34;: &#34;1018&#34;})\"\\n title=\"Hawk\">\\n        <img src=\"https://img3.doubanio.com/icon/u140014301-1.jpg\" alt=\"Hawk\"/>\\n      </a>\\n    </div>\\n  <div class=\"text\">\\n    <a href=\"https://www.douban.com/people/140014301/\" \\n  \\n  onclick=\"moreurl(this, {&#34;action&#34;: &#34;1&#34;, &#34;from&#34;: &#34;nmbp-2849281687&#34;, &#34;target_type&#34;: &#34;sns&#34;, &#34;object_kind&#34;: &#34;1018&#34;})\"\\n class=\"lnk-people\">Hawk</a>\\n\\n    说:\\n\\n\\n  </div>\\n\\n  </div>\\n\\n  <div class=\"bd sns\">\\n    \\n  \\n  <div class=\"status-saying\">\\n    \\n\\n<blockquote class=quote-clamp>\\n  \\n\\n  <p>hello world</p>\\n</blockquote>\\n\\n    \\n\\n\\n  </div>\\n\\n\\n  \\n\\n<div class=\"actions\">\\n  \\n  <span class=\"created_at\" title=\"2020-03-04 19:20:51\"><a href=\"https://www.douban.com/people/140014301/status/2849281687/\">16分钟前</a></span>\\n\\n  <a href=\"https://www.douban.com/people/140014301/status/2849281687/\" class=\"btn btn-action-reply new-reply\" data-action-type=\"showComments\" data-count=\"0\">\\n    回应\\n  </a>\\n\\n\\n\\n    &nbsp;&nbsp;<a class=\"btn btn-key-reshare btn-reshare new-reshare \" data-action-type=\"reshare\" >转发</a>\\n\\n\\n  &nbsp;&nbsp;<a href=\"https://www.douban.com/people/140014301/status/2849281687/\" class=\"btn btn-action-reply-delete\" data-action-type=\"deleteStatus\" data-reshare=\"\">删除</a>\\n\\n</div>\\n\\n  <div class=\"others\">\\n    <div class=\"comments\">\\n      <div class=\"comments-items\"></div>\\n        \\n    </div>\\n  </div>\\n  </div>\\n</div>\\n</div>\\n\\n\\n\\n\\n    \\n    \\n\\n</div>\\n<!-- 2849281687, say.html, -->\\n\\n\\n\\n\\n      \\n    \\n      \\n      \\n\\n\\n\\n\\n\\n\\n    \\n  \\n    <div class=\"new-status status-wrapper    saying\" data-sid=\"2849281294\" data-uid=\"140014301\" >\\n\\n    \\n      \\n\\n\\n\\n\\n\\n<div class=\"status-item\"\\n    data-sid=\"2849281294\"\\n    data-uid=\"140014301\"\\n    data-action=\"1\"\\n    data-target-type=\"sns\"\\n    data-object-kind=\"1018\"\\n    data-object-id=\"568938780\">\\n<div class=\"mod\" data-status-id=\"2849281294\">\\n  \\n  <div\\n    class=\"hd \"\\n    data-status-url=\"https://www.douban.com/people/140014301/status/2849281294/\">\\n    \\n  \\n    <div class=\"usr-pic\">\\n      <a href=\"https://www.douban.com/people/140014301/\"\\n        \\n  \\n  onclick=\"moreurl(this, {&#34;action&#34;: &#34;1&#34;, &#34;from&#34;: &#34;nmbp-2849281294&#34;, &#34;target_type&#34;: &#34;sns&#34;, &#34;object_kind&#34;: &#34;1018&#34;})\"\\n title=\"Hawk\">\\n        <img src=\"https://img3.doubanio.com/icon/u140014301-1.jpg\" alt=\"Hawk\"/>\\n      </a>\\n    </div>\\n  <div class=\"text\">\\n    <a href=\"https://www.douban.com/people/140014301/\" \\n  \\n  onclick=\"moreurl(this, {&#34;action&#34;: &#34;1&#34;, &#34;from&#34;: &#34;nmbp-2849281294&#34;, &#34;target_type&#34;: &#34;sns&#34;, &#34;object_kind&#34;: &#34;1018&#34;})\"\\n class=\"lnk-people\">Hawk</a>\\n\\n    说:\\n\\n\\n  </div>\\n\\n  </div>\\n\\n  <div class=\"bd sns\">\\n    \\n  \\n  <div class=\"status-saying\">\\n    \\n\\n<blockquote class=quote-clamp>\\n  \\n\\n  <p>hello world</p>\\n</blockquote>\\n\\n    \\n\\n\\n  </div>\\n\\n\\n  \\n\\n<div class=\"actions\">\\n  \\n  <span class=\"created_at\" title=\"2020-03-04 19:20:31\"><a href=\"https://www.douban.com/people/140014301/status/2849281294/\">17分钟前</a></span>\\n\\n  <a href=\"https://www.douban.com/people/140014301/status/2849281294/\" class=\"btn btn-action-reply new-reply\" data-action-type=\"showComments\" data-count=\"0\">\\n    回应\\n  </a>\\n\\n\\n\\n    &nbsp;&nbsp;<a class=\"btn btn-key-reshare btn-reshare new-reshare \" data-action-type=\"reshare\" >转发</a>\\n\\n\\n  &nbsp;&nbsp;<a href=\"https://www.douban.com/people/140014301/status/2849281294/\" class=\"btn btn-action-reply-delete\" data-action-type=\"deleteStatus\" data-reshare=\"\">删除</a>\\n\\n</div>\\n\\n  <div class=\"others\">\\n    <div class=\"comments\">\\n      <div class=\"comments-items\"></div>\\n        \\n    </div>\\n  </div>\\n  </div>\\n</div>\\n</div>\\n\\n\\n\\n\\n    \\n    \\n\\n</div>\\n<!-- 2849281294, say.html, -->\\n\\n\\n\\n\\n      \\n    \\n      \\n      \\n\\n\\n\\n\\n\\n\\n    \\n  \\n    <div class=\"new-status status-wrapper    saying\" data-sid=\"2849280694\" data-uid=\"140014301\" >\\n\\n    \\n      \\n\\n\\n\\n\\n\\n<div class=\"status-item\"\\n    data-sid=\"2849280694\"\\n    data-uid=\"140014301\"\\n    data-action=\"1\"\\n    data-target-type=\"sns\"\\n    data-object-kind=\"1018\"\\n    data-object-id=\"568938773\">\\n<div class=\"mod\" data-status-id=\"2849280694\">\\n  \\n  <div\\n    class=\"hd \"\\n    data-status-url=\"https://www.douban.com/people/140014301/status/2849280694/\">\\n    \\n  \\n    <div class=\"usr-pic\">\\n      <a href=\"https://www.douban.com/people/140014301/\"\\n        \\n  \\n  onclick=\"moreurl(this, {&#34;action&#34;: &#34;1&#34;, &#34;from&#34;: &#34;nmbp-2849280694&#34;, &#34;target_type&#34;: &#34;sns&#34;, &#34;object_kind&#34;: &#34;1018&#34;})\"\\n title=\"Hawk\">\\n        <img src=\"https://img3.doubanio.com/icon/u140014301-1.jpg\" alt=\"Hawk\"/>\\n      </a>\\n    </div>\\n  <div class=\"text\">\\n    <a href=\"https://www.douban.com/people/140014301/\" \\n  \\n  onclick=\"moreurl(this, {&#34;action&#34;: &#34;1&#34;, &#34;from&#34;: &#34;nmbp-2849280694&#34;, &#34;target_type&#34;: &#34;sns&#34;, &#34;object_kind&#34;: &#34;1018&#34;})\"\\n class=\"lnk-people\">Hawk</a>\\n\\n    说:\\n\\n\\n  </div>\\n\\n  </div>\\n\\n  <div class=\"bd sns\">\\n    \\n  \\n  <div class=\"status-saying\">\\n    \\n\\n<blockquote class=quote-clamp>\\n  \\n\\n  <p>hello world</p>\\n</blockquote>\\n\\n    \\n\\n\\n  </div>\\n\\n\\n  \\n\\n<div class=\"actions\">\\n  \\n  <span class=\"created_at\" title=\"2020-03-04 19:20:07\"><a href=\"https://www.douban.com/people/140014301/status/2849280694/\">17分钟前</a></span>\\n\\n  <a href=\"https://www.douban.com/people/140014301/status/2849280694/\" class=\"btn btn-action-reply new-reply\" data-action-type=\"showComments\" data-count=\"0\">\\n    回应\\n  </a>\\n\\n\\n\\n    &nbsp;&nbsp;<a class=\"btn btn-key-reshare btn-reshare new-reshare \" data-action-type=\"reshare\" >转发</a>\\n\\n\\n  &nbsp;&nbsp;<a href=\"https://www.douban.com/people/140014301/status/2849280694/\" class=\"btn btn-action-reply-delete\" data-action-type=\"deleteStatus\" data-reshare=\"\">删除</a>\\n\\n</div>\\n\\n  <div class=\"others\">\\n    <div class=\"comments\">\\n      <div class=\"comments-items\"></div>\\n        \\n    </div>\\n  </div>\\n  </div>\\n</div>\\n</div>\\n\\n\\n\\n\\n    \\n    \\n\\n</div>\\n<!-- 2849280694, say.html, -->\\n\\n\\n\\n\\n      \\n    \\n      \\n      \\n\\n\\n\\n\\n\\n\\n    \\n  \\n    <div class=\"new-status status-wrapper    saying\" data-sid=\"2849277730\" data-uid=\"140014301\" >\\n\\n    \\n      \\n\\n\\n\\n\\n\\n<div class=\"status-item\"\\n    data-sid=\"2849277730\"\\n    data-uid=\"140014301\"\\n    data-action=\"1\"\\n    data-target-type=\"sns\"\\n    data-object-kind=\"1018\"\\n    data-object-id=\"568938750\">\\n<div class=\"mod\" data-status-id=\"2849277730\">\\n  \\n  <div\\n    class=\"hd \"\\n    data-status-url=\"https://www.douban.com/people/140014301/status/2849277730/\">\\n    \\n  \\n    <div class=\"usr-pic\">\\n      <a href=\"https://www.douban.com/people/140014301/\"\\n        \\n  \\n  onclick=\"moreurl(this, {&#34;action&#34;: &#34;1&#34;, &#34;from&#34;: &#34;nmbp-2849277730&#34;, &#34;target_type&#34;: &#34;sns&#34;, &#34;object_kind&#34;: &#34;1018&#34;})\"\\n title=\"Hawk\">\\n        <img src=\"https://img3.doubanio.com/icon/u140014301-1.jpg\" alt=\"Hawk\"/>\\n      </a>\\n    </div>\\n  <div class=\"text\">\\n    <a href=\"https://www.douban.com/people/140014301/\" \\n  \\n  onclick=\"moreurl(this, {&#34;action&#34;: &#34;1&#34;, &#34;from&#34;: &#34;nmbp-2849277730&#34;, &#34;target_type&#34;: &#34;sns&#34;, &#34;object_kind&#34;: &#34;1018&#34;})\"\\n class=\"lnk-people\">Hawk</a>\\n\\n    说:\\n\\n\\n  </div>\\n\\n  </div>\\n\\n  <div class=\"bd sns\">\\n    \\n  \\n  <div class=\"status-saying\">\\n    \\n\\n<blockquote class=quote-clamp>\\n  \\n\\n  <p>hello world</p>\\n</blockquote>\\n\\n    \\n\\n\\n  </div>\\n\\n\\n  \\n\\n<div class=\"actions\">\\n  \\n  <span class=\"created_at\" title=\"2020-03-04 19:18:11\"><a href=\"https://www.douban.com/people/140014301/status/2849277730/\">19分钟前</a></span>\\n\\n  <a href=\"https://www.douban.com/people/140014301/status/2849277730/\" class=\"btn btn-action-reply new-reply\" data-action-type=\"showComments\" data-count=\"0\">\\n    回应\\n  </a>\\n\\n\\n\\n    &nbsp;&nbsp;<a class=\"btn btn-key-reshare btn-reshare new-reshare \" data-action-type=\"reshare\" >转发</a>\\n\\n\\n  &nbsp;&nbsp;<a href=\"https://www.douban.com/people/140014301/status/2849277730/\" class=\"btn btn-action-reply-delete\" data-action-type=\"deleteStatus\" data-reshare=\"\">删除</a>\\n\\n</div>\\n\\n  <div class=\"others\">\\n    <div class=\"comments\">\\n      <div class=\"comments-items\"></div>\\n        \\n    </div>\\n  </div>\\n  </div>\\n</div>\\n</div>\\n\\n\\n\\n\\n    \\n    \\n\\n</div>\\n<!-- 2849277730, say.html, -->\\n\\n\\n\\n\\n      \\n    \\n      \\n      \\n\\n\\n\\n\\n\\n\\n    \\n  \\n    <div class=\"new-status status-wrapper    saying\" data-sid=\"2845334158\" data-uid=\"140014301\" >\\n\\n    \\n      \\n\\n\\n\\n\\n\\n<div class=\"status-item\"\\n    data-sid=\"2845334158\"\\n    data-uid=\"140014301\"\\n    data-action=\"1\"\\n    data-target-type=\"sns\"\\n    data-object-kind=\"1018\"\\n    data-object-id=\"568914261\">\\n<div class=\"mod\" data-status-id=\"2845334158\">\\n  \\n  <div\\n    class=\"hd \"\\n    data-status-url=\"https://www.douban.com/people/140014301/status/2845334158/\">\\n    \\n  \\n    <div class=\"usr-pic\">\\n      <a href=\"https://www.douban.com/people/140014301/\"\\n        \\n  \\n  onclick=\"moreurl(this, {&#34;action&#34;: &#34;1&#34;, &#34;from&#34;: &#34;nmbp-2845334158&#34;, &#34;target_type&#34;: &#34;sns&#34;, &#34;object_kind&#34;: &#34;1018&#34;})\"\\n title=\"Hawk\">\\n        <img src=\"https://img3.doubanio.com/icon/u140014301-1.jpg\" alt=\"Hawk\"/>\\n      </a>\\n    </div>\\n  <div class=\"text\">\\n    <a href=\"https://www.douban.com/people/140014301/\" \\n  \\n  onclick=\"moreurl(this, {&#34;action&#34;: &#34;1&#34;, &#34;from&#34;: &#34;nmbp-2845334158&#34;, &#34;target_type&#34;: &#34;sns&#34;, &#34;object_kind&#34;: &#34;1018&#34;})\"\\n class=\"lnk-people\">Hawk</a>\\n\\n    说:\\n\\n\\n  </div>\\n\\n  </div>\\n\\n  <div class=\"bd sns\">\\n    \\n  \\n  <div class=\"status-saying\">\\n    \\n\\n<blockquote class=quote-clamp>\\n  \\n\\n  <p>hello world</p>\\n</blockquote>\\n\\n    \\n\\n\\n  </div>\\n\\n\\n  \\n\\n<div class=\"actions\">\\n  \\n  <span class=\"created_at\" title=\"2020-03-02 18:47:18\"><a href=\"https://www.douban.com/people/140014301/status/2845334158/\">3月2日</a></span>\\n\\n  <a href=\"https://www.douban.com/people/140014301/status/2845334158/\" class=\"btn btn-action-reply new-reply\" data-action-type=\"showComments\" data-count=\"0\">\\n    回应\\n  </a>\\n\\n\\n\\n    &nbsp;&nbsp;<a class=\"btn btn-key-reshare btn-reshare new-reshare \" data-action-type=\"reshare\" >转发</a>\\n\\n\\n  &nbsp;&nbsp;<a href=\"https://www.douban.com/people/140014301/status/2845334158/\" class=\"btn btn-action-reply-delete\" data-action-type=\"deleteStatus\" data-reshare=\"\">删除</a>\\n\\n</div>\\n\\n  <div class=\"others\">\\n    <div class=\"comments\">\\n      <div class=\"comments-items\"></div>\\n        \\n    </div>\\n  </div>\\n  </div>\\n</div>\\n</div>\\n\\n\\n\\n\\n    \\n    \\n\\n</div>\\n<!-- 2845334158, say.html, -->\\n\\n\\n\\n\\n      \\n    \\n      \\n      \\n\\n\\n\\n\\n\\n\\n    \\n  \\n    <div class=\"new-status status-wrapper    saying\" data-sid=\"2823238525\" data-uid=\"140014301\" >\\n\\n    \\n      \\n\\n\\n\\n\\n\\n<div class=\"status-item\"\\n    data-sid=\"2823238525\"\\n    data-uid=\"140014301\"\\n    data-action=\"1\"\\n    data-target-type=\"sns\"\\n    data-object-kind=\"1018\"\\n    data-object-id=\"568792966\">\\n<div class=\"mod\" data-status-id=\"2823238525\">\\n  \\n  <div\\n    class=\"hd \"\\n    data-status-url=\"https://www.douban.com/people/140014301/status/2823238525/\">\\n    \\n  \\n    <div class=\"usr-pic\">\\n      <a href=\"https://www.douban.com/people/140014301/\"\\n        \\n  \\n  onclick=\"moreurl(this, {&#34;action&#34;: &#34;1&#34;, &#34;from&#34;: &#34;nmbp-2823238525&#34;, &#34;target_type&#34;: &#34;sns&#34;, &#34;object_kind&#34;: &#34;1018&#34;})\"\\n title=\"Hawk\">\\n        <img src=\"https://img3.doubanio.com/icon/u140014301-1.jpg\" alt=\"Hawk\"/>\\n      </a>\\n    </div>\\n  <div class=\"text\">\\n    <a href=\"https://www.douban.com/people/140014301/\" \\n  \\n  onclick=\"moreurl(this, {&#34;action&#34;: &#34;1&#34;, &#34;from&#34;: &#34;nmbp-2823238525&#34;, &#34;target_type&#34;: &#34;sns&#34;, &#34;object_kind&#34;: &#34;1018&#34;})\"\\n class=\"lnk-people\">Hawk</a>\\n\\n    说:\\n\\n\\n  </div>\\n\\n  </div>\\n\\n  <div class=\"bd sns\">\\n    \\n  \\n  <div class=\"status-saying\">\\n    \\n\\n<blockquote class=quote-clamp>\\n  \\n\\n  <p>hfgjh</p>\\n</blockquote>\\n\\n    \\n\\n\\n  </div>\\n\\n\\n  \\n\\n<div class=\"actions\">\\n  \\n  <span class=\"created_at\" title=\"2020-02-20 20:59:59\"><a href=\"https://www.douban.com/people/140014301/status/2823238525/\">2月20日</a></span>\\n\\n  <a href=\"https://www.douban.com/people/140014301/status/2823238525/\" class=\"btn btn-action-reply new-reply\" data-action-type=\"showComments\" data-count=\"0\">\\n    回应\\n  </a>\\n\\n\\n\\n    &nbsp;&nbsp;<a class=\"btn btn-key-reshare btn-reshare new-reshare \" data-action-type=\"reshare\" >转发</a>\\n\\n\\n  &nbsp;&nbsp;<a href=\"https://www.douban.com/people/140014301/status/2823238525/\" class=\"btn btn-action-reply-delete\" data-action-type=\"deleteStatus\" data-reshare=\"\">删除</a>\\n\\n</div>\\n\\n  <div class=\"others\">\\n    <div class=\"comments\">\\n      <div class=\"comments-items\"></div>\\n        \\n    </div>\\n  </div>\\n  </div>\\n</div>\\n</div>\\n\\n\\n\\n\\n    \\n    \\n\\n</div>\\n<!-- 2823238525, say.html, -->\\n\\n\\n\\n\\n      \\n    \\n      \\n      \\n\\n\\n\\n\\n\\n\\n    \\n  \\n    <div class=\"new-status status-wrapper    saying\" data-sid=\"2822780190\" data-uid=\"140014301\" >\\n\\n    \\n      \\n\\n\\n\\n\\n\\n<div class=\"status-item\"\\n    data-sid=\"2822780190\"\\n    data-uid=\"140014301\"\\n    data-action=\"1\"\\n    data-target-type=\"sns\"\\n    data-object-kind=\"1018\"\\n    data-object-id=\"568790334\">\\n<div class=\"mod\" data-status-id=\"2822780190\">\\n  \\n  <div\\n    class=\"hd \"\\n    data-status-url=\"https://www.douban.com/people/140014301/status/2822780190/\">\\n    \\n  \\n    <div class=\"usr-pic\">\\n      <a href=\"https://www.douban.com/people/140014301/\"\\n        \\n  \\n  onclick=\"moreurl(this, {&#34;action&#34;: &#34;1&#34;, &#34;from&#34;: &#34;nmbp-2822780190&#34;, &#34;target_type&#34;: &#34;sns&#34;, &#34;object_kind&#34;: &#34;1018&#34;})\"\\n title=\"Hawk\">\\n        <img src=\"https://img3.doubanio.com/icon/u140014301-1.jpg\" alt=\"Hawk\"/>\\n      </a>\\n    </div>\\n  <div class=\"text\">\\n    <a href=\"https://www.douban.com/people/140014301/\" \\n  \\n  onclick=\"moreurl(this, {&#34;action&#34;: &#34;1&#34;, &#34;from&#34;: &#34;nmbp-2822780190&#34;, &#34;target_type&#34;: &#34;sns&#34;, &#34;object_kind&#34;: &#34;1018&#34;})\"\\n class=\"lnk-people\">Hawk</a>\\n\\n    说:\\n\\n\\n  </div>\\n\\n  </div>\\n\\n  <div class=\"bd sns\">\\n    \\n  \\n  <div class=\"status-saying\">\\n    \\n\\n<blockquote class=quote-clamp>\\n  \\n\\n  <p>hello world</p>\\n</blockquote>\\n\\n    \\n\\n\\n  </div>\\n\\n\\n  \\n\\n<div class=\"actions\">\\n  \\n  <span class=\"created_at\" title=\"2020-02-20 16:47:52\"><a href=\"https://www.douban.com/people/140014301/status/2822780190/\">2月20日</a></span>\\n\\n  <a href=\"https://www.douban.com/people/140014301/status/2822780190/\" class=\"btn btn-action-reply new-reply\" data-action-type=\"showComments\" data-count=\"0\">\\n    回应\\n  </a>\\n\\n\\n\\n    &nbsp;&nbsp;<a class=\"btn btn-key-reshare btn-reshare new-reshare \" data-action-type=\"reshare\" >转发</a>\\n\\n\\n  &nbsp;&nbsp;<a href=\"https://www.douban.com/people/140014301/status/2822780190/\" class=\"btn btn-action-reply-delete\" data-action-type=\"deleteStatus\" data-reshare=\"\">删除</a>\\n\\n</div>\\n\\n  <div class=\"others\">\\n    <div class=\"comments\">\\n      <div class=\"comments-items\"></div>\\n        \\n    </div>\\n  </div>\\n  </div>\\n</div>\\n</div>\\n\\n\\n\\n\\n    \\n    \\n\\n</div>\\n<!-- 2822780190, say.html, -->\\n\\n\\n\\n\\n      \\n    \\n      \\n      \\n\\n\\n\\n\\n\\n\\n    \\n  \\n    <div class=\"new-status status-wrapper    saying\" data-sid=\"2822769950\" data-uid=\"140014301\" >\\n\\n    \\n      \\n\\n\\n\\n\\n\\n<div class=\"status-item\"\\n    data-sid=\"2822769950\"\\n    data-uid=\"140014301\"\\n    data-action=\"1\"\\n    data-target-type=\"sns\"\\n    data-object-kind=\"1018\"\\n    data-object-id=\"568790239\">\\n<div class=\"mod\" data-status-id=\"2822769950\">\\n  \\n  <div\\n    class=\"hd \"\\n    data-status-url=\"https://www.douban.com/people/140014301/status/2822769950/\">\\n    \\n  \\n    <div class=\"usr-pic\">\\n      <a href=\"https://www.douban.com/people/140014301/\"\\n        \\n  \\n  onclick=\"moreurl(this, {&#34;action&#34;: &#34;1&#34;, &#34;from&#34;: &#34;nmbp-2822769950&#34;, &#34;target_type&#34;: &#34;sns&#34;, &#34;object_kind&#34;: &#34;1018&#34;})\"\\n title=\"Hawk\">\\n        <img src=\"https://img3.doubanio.com/icon/u140014301-1.jpg\" alt=\"Hawk\"/>\\n      </a>\\n    </div>\\n  <div class=\"text\">\\n    <a href=\"https://www.douban.com/people/140014301/\" \\n  \\n  onclick=\"moreurl(this, {&#34;action&#34;: &#34;1&#34;, &#34;from&#34;: &#34;nmbp-2822769950&#34;, &#34;target_type&#34;: &#34;sns&#34;, &#34;object_kind&#34;: &#34;1018&#34;})\"\\n class=\"lnk-people\">Hawk</a>\\n\\n    说:\\n\\n\\n  </div>\\n\\n  </div>\\n\\n  <div class=\"bd sns\">\\n    \\n  \\n  <div class=\"status-saying\">\\n    \\n\\n<blockquote class=quote-clamp>\\n  \\n\\n  <p>hello world</p>\\n</blockquote>\\n\\n    \\n\\n\\n  </div>\\n\\n\\n  \\n\\n<div class=\"actions\">\\n  \\n  <span class=\"created_at\" title=\"2020-02-20 16:41:34\"><a href=\"https://www.douban.com/people/140014301/status/2822769950/\">2月20日</a></span>\\n\\n  <a href=\"https://www.douban.com/people/140014301/status/2822769950/\" class=\"btn btn-action-reply new-reply\" data-action-type=\"showComments\" data-count=\"0\">\\n    回应\\n  </a>\\n\\n\\n\\n    &nbsp;&nbsp;<a class=\"btn btn-key-reshare btn-reshare new-reshare \" data-action-type=\"reshare\" >转发</a>\\n\\n\\n  &nbsp;&nbsp;<a href=\"https://www.douban.com/people/140014301/status/2822769950/\" class=\"btn btn-action-reply-delete\" data-action-type=\"deleteStatus\" data-reshare=\"\">删除</a>\\n\\n</div>\\n\\n  <div class=\"others\">\\n    <div class=\"comments\">\\n      <div class=\"comments-items\"></div>\\n        \\n    </div>\\n  </div>\\n  </div>\\n</div>\\n</div>\\n\\n\\n\\n\\n    \\n    \\n\\n</div>\\n<!-- 2822769950, say.html, -->\\n\\n\\n\\n\\n      \\n    \\n      \\n      \\n\\n\\n\\n\\n\\n\\n    \\n  \\n    <div class=\"new-status status-wrapper    saying\" data-sid=\"2822718314\" data-uid=\"140014301\" >\\n\\n    \\n      \\n\\n\\n\\n\\n\\n<div class=\"status-item\"\\n    data-sid=\"2822718314\"\\n    data-uid=\"140014301\"\\n    data-action=\"1\"\\n    data-target-type=\"sns\"\\n    data-object-kind=\"1018\"\\n    data-object-id=\"568789771\">\\n<div class=\"mod\" data-status-id=\"2822718314\">\\n  \\n  <div\\n    class=\"hd \"\\n    data-status-url=\"https://www.douban.com/people/140014301/status/2822718314/\">\\n    \\n  \\n    <div class=\"usr-pic\">\\n      <a href=\"https://www.douban.com/people/140014301/\"\\n        \\n  \\n  onclick=\"moreurl(this, {&#34;action&#34;: &#34;1&#34;, &#34;from&#34;: &#34;nmbp-2822718314&#34;, &#34;target_type&#34;: &#34;sns&#34;, &#34;object_kind&#34;: &#34;1018&#34;})\"\\n title=\"Hawk\">\\n        <img src=\"https://img3.doubanio.com/icon/u140014301-1.jpg\" alt=\"Hawk\"/>\\n      </a>\\n    </div>\\n  <div class=\"text\">\\n    <a href=\"https://www.douban.com/people/140014301/\" \\n  \\n  onclick=\"moreurl(this, {&#34;action&#34;: &#34;1&#34;, &#34;from&#34;: &#34;nmbp-2822718314&#34;, &#34;target_type&#34;: &#34;sns&#34;, &#34;object_kind&#34;: &#34;1018&#34;})\"\\n class=\"lnk-people\">Hawk</a>\\n\\n    说:\\n\\n\\n  </div>\\n\\n  </div>\\n\\n  <div class=\"bd sns\">\\n    \\n  \\n  <div class=\"status-saying\">\\n    \\n\\n<blockquote class=quote-clamp>\\n  \\n\\n  <p>1111</p>\\n</blockquote>\\n\\n    \\n\\n\\n  </div>\\n\\n\\n  \\n\\n<div class=\"actions\">\\n  \\n  <span class=\"created_at\" title=\"2020-02-20 16:08:03\"><a href=\"https://www.douban.com/people/140014301/status/2822718314/\">2月20日</a></span>\\n\\n  <a href=\"https://www.douban.com/people/140014301/status/2822718314/\" class=\"btn btn-action-reply new-reply\" data-action-type=\"showComments\" data-count=\"0\">\\n    回应\\n  </a>\\n\\n\\n\\n    &nbsp;&nbsp;<a class=\"btn btn-key-reshare btn-reshare new-reshare \" data-action-type=\"reshare\" >转发</a>\\n\\n\\n  &nbsp;&nbsp;<a href=\"https://www.douban.com/people/140014301/status/2822718314/\" class=\"btn btn-action-reply-delete\" data-action-type=\"deleteStatus\" data-reshare=\"\">删除</a>\\n\\n</div>\\n\\n  <div class=\"others\">\\n    <div class=\"comments\">\\n      <div class=\"comments-items\"></div>\\n        \\n    </div>\\n  </div>\\n  </div>\\n</div>\\n</div>\\n\\n\\n\\n\\n    \\n    \\n\\n</div>\\n<!-- 2822718314, say.html, -->\\n\\n\\n\\n\\n      \\n    \\n      \\n      \\n\\n\\n\\n\\n\\n\\n    \\n  \\n    <div class=\"new-status status-wrapper    saying\" data-sid=\"2822710087\" data-uid=\"140014301\" >\\n\\n    \\n      \\n\\n\\n\\n\\n\\n<div class=\"status-item\"\\n    data-sid=\"2822710087\"\\n    data-uid=\"140014301\"\\n    data-action=\"1\"\\n    data-target-type=\"sns\"\\n    data-object-kind=\"1018\"\\n    data-object-id=\"568789672\">\\n<div class=\"mod\" data-status-id=\"2822710087\">\\n  \\n  <div\\n    class=\"hd \"\\n    data-status-url=\"https://www.douban.com/people/140014301/status/2822710087/\">\\n    \\n  \\n    <div class=\"usr-pic\">\\n      <a href=\"https://www.douban.com/people/140014301/\"\\n        \\n  \\n  onclick=\"moreurl(this, {&#34;action&#34;: &#34;1&#34;, &#34;from&#34;: &#34;nmbp-2822710087&#34;, &#34;target_type&#34;: &#34;sns&#34;, &#34;object_kind&#34;: &#34;1018&#34;})\"\\n title=\"Hawk\">\\n        <img src=\"https://img3.doubanio.com/icon/u140014301-1.jpg\" alt=\"Hawk\"/>\\n      </a>\\n    </div>\\n  <div class=\"text\">\\n    <a href=\"https://www.douban.com/people/140014301/\" \\n  \\n  onclick=\"moreurl(this, {&#34;action&#34;: &#34;1&#34;, &#34;from&#34;: &#34;nmbp-2822710087&#34;, &#34;target_type&#34;: &#34;sns&#34;, &#34;object_kind&#34;: &#34;1018&#34;})\"\\n class=\"lnk-people\">Hawk</a>\\n\\n    说:\\n\\n\\n  </div>\\n\\n  </div>\\n\\n  <div class=\"bd sns\">\\n    \\n  \\n  <div class=\"status-saying\">\\n    \\n\\n<blockquote class=quote-clamp>\\n  \\n\\n  <p>asdfasd</p>\\n</blockquote>\\n\\n    \\n\\n\\n  </div>\\n\\n\\n  \\n\\n<div class=\"actions\">\\n  \\n  <span class=\"created_at\" title=\"2020-02-20 16:02:37\"><a href=\"https://www.douban.com/people/140014301/status/2822710087/\">2月20日</a></span>\\n\\n  <a href=\"https://www.douban.com/people/140014301/status/2822710087/\" class=\"btn btn-action-reply new-reply\" data-action-type=\"showComments\" data-count=\"0\">\\n    回应\\n  </a>\\n\\n\\n\\n    &nbsp;&nbsp;<a class=\"btn btn-key-reshare btn-reshare new-reshare \" data-action-type=\"reshare\" >转发</a>\\n\\n\\n  &nbsp;&nbsp;<a href=\"https://www.douban.com/people/140014301/status/2822710087/\" class=\"btn btn-action-reply-delete\" data-action-type=\"deleteStatus\" data-reshare=\"\">删除</a>\\n\\n</div>\\n\\n  <div class=\"others\">\\n    <div class=\"comments\">\\n      <div class=\"comments-items\"></div>\\n        \\n    </div>\\n  </div>\\n  </div>\\n</div>\\n</div>\\n\\n\\n\\n\\n    \\n    \\n\\n</div>\\n<!-- 2822710087, say.html, -->\\n\\n\\n\\n\\n      \\n    \\n      \\n      \\n\\n\\n\\n\\n\\n\\n    \\n  \\n    <div class=\"new-status status-wrapper    \" data-sid=\"2726525573\" data-uid=\"900117594\" >\\n\\n    \\n      \\n\\n\\n\\n\\n\\n\\n<div class=\"status-item\"\\n    data-sid=\"2726525573\"\\n    data-uid=\"81343016\"\\n    data-action=\"\"\\n    data-target-type=\"editor\"\\n    data-object-kind=\"1015\"\\n    data-object-id=\"745031387\">\\n<div class=\"mod\" data-status-id=\"2726525573\">\\n  \\n  <div\\n    class=\"hd \"\\n    data-status-url=\"https://www.douban.com/people/malorie0991/status/2726525573/\">\\n    \\n\\n  <div class=\"usr-pic\">\\n    <a href=\"https://www.douban.com/people/malorie0991/\" \\n  \\n  onclick=\"moreurl(this, {&#34;action&#34;: &#34;&#34;, &#34;from&#34;: &#34;nmbp-2726525573&#34;, &#34;target_type&#34;: &#34;editor&#34;, &#34;object_kind&#34;: &#34;1015&#34;})\"\\n title=\"Malorie\"><img src=\"https://img1.doubanio.com/icon/u81343016-8.jpg\" alt=\"Malorie\"/></a>\\n  </div>\\n  <div class=\"text\">\\n    <a href=\"https://www.douban.com/people/malorie0991/\" \\n  \\n  onclick=\"moreurl(this, {&#34;action&#34;: &#34;&#34;, &#34;from&#34;: &#34;nmbp-2726525573&#34;, &#34;target_type&#34;: &#34;editor&#34;, &#34;object_kind&#34;: &#34;1015&#34;})\"\\n class=\"lnk-people\">Malorie</a>\\n    \\n    \\n\\n\\n  </div>\\n\\n  </div>\\n\\n  <div class=\"bd editor\">\\n    \\n\\n<div class=\"block note-block\" data-url=\"https://www.douban.com/note/745031387/\">\\n\\n  <div class=\"content\">\\n    <div class=\"title\">\\n      <a href=\"https://www.douban.com/note/745031387/\" \\n  \\n  onclick=\"moreurl(this, {&#34;action&#34;: &#34;&#34;, &#34;from&#34;: &#34;nmb-2726525573&#34;, &#34;target_type&#34;: &#34;editor&#34;, &#34;object_kind&#34;: &#34;1015&#34;})\"\\n>21 身份危机 |Model Minority</a>\\n    </div>\\n    <p>Someone like me can be a real nightmare, completely aware But I&#39;d rather be a real nightmare than die unaware So save me your prayers 一直很想写这篇日记，却因为太贴近真实的自我...</p>\\n  </div>\\n\\n</div>\\n<div class=\"attachment\">\\n</div>\\n\\n\\n    <div class=\"actions\">\\n        \\n        <span class=\"created_at\" title=\"2019-12-14 10:18:01\">\\n            2019年12月14日<span class=\"ghost\">，来自 <a href=\"https://www.douban.com/interest/1/1/\">热门精选</a></span>\\n        </span>\\n    </div>\\n  </div>\\n</div>\\n</div>\\n\\n\\n\\n\\n    \\n    \\n\\n</div>\\n<!-- 2726525573, note.html, -->\\n\\n\\n\\n\\n      \\n    \\n      \\n      \\n\\n\\n\\n\\n\\n\\n    \\n  \\n    <div class=\"new-status status-wrapper    \" data-sid=\"2696684598\" data-uid=\"900117594\" >\\n\\n    \\n      \\n\\n\\n\\n\\n\\n\\n<div class=\"status-item\"\\n    data-sid=\"2696684598\"\\n    data-uid=\"47929578\"\\n    data-action=\"\"\\n    data-target-type=\"editor\"\\n    data-object-kind=\"1015\"\\n    data-object-id=\"741691424\">\\n<div class=\"mod\" data-status-id=\"2696684598\">\\n  \\n  <div\\n    class=\"hd \"\\n    data-status-url=\"https://www.douban.com/people/47929578/status/2696684598/\">\\n    \\n\\n  <div class=\"usr-pic\">\\n    <a href=\"https://www.douban.com/people/47929578/\" \\n  \\n  onclick=\"moreurl(this, {&#34;action&#34;: &#34;&#34;, &#34;from&#34;: &#34;nmbp-2696684598&#34;, &#34;target_type&#34;: &#34;editor&#34;, &#34;object_kind&#34;: &#34;1015&#34;})\"\\n title=\"安提戈涅\"><img src=\"https://img9.doubanio.com/icon/u47929578-16.jpg\" alt=\"安提戈涅\"/></a>\\n  </div>\\n  <div class=\"text\">\\n    <a href=\"https://www.douban.com/people/47929578/\" \\n  \\n  onclick=\"moreurl(this, {&#34;action&#34;: &#34;&#34;, &#34;from&#34;: &#34;nmbp-2696684598&#34;, &#34;target_type&#34;: &#34;editor&#34;, &#34;object_kind&#34;: &#34;1015&#34;})\"\\n class=\"lnk-people\">安提戈涅</a>\\n    \\n    \\n\\n\\n  </div>\\n\\n  </div>\\n\\n  <div class=\"bd editor\">\\n    \\n\\n<div class=\"block note-block\" data-url=\"https://www.douban.com/note/741691424/\">\\n  <div class=\"pic\">\\n    <div class=\"pic-wrap\">\\n        <a href=\"https://www.douban.com/note/741691424/\" \\n  \\n  onclick=\"moreurl(this, {&#34;action&#34;: &#34;&#34;, &#34;from&#34;: &#34;nmb-2696684598&#34;, &#34;target_type&#34;: &#34;editor&#34;, &#34;object_kind&#34;: &#34;1015&#34;})\"\\n target=\"_blank\"><img src=\"https://img9.doubanio.com/view/note/large/public/p67315106.jpg\"></a>\\n        <span class=\"valign\"></span>\\n    </div>\\n  </div>\\n\\n  <div class=\"content\">\\n    <div class=\"title\">\\n      <a href=\"https://www.douban.com/note/741691424/\" \\n  \\n  onclick=\"moreurl(this, {&#34;action&#34;: &#34;&#34;, &#34;from&#34;: &#34;nmb-2696684598&#34;, &#34;target_type&#34;: &#34;editor&#34;, &#34;object_kind&#34;: &#34;1015&#34;})\"\\n>《浮士德》中的植物学诗学</a>\\n    </div>\\n    <p>每年读一遍《浮士德》，每年就多走近歌德一些，从他巨大的矿藏里敲下一小块，自己收拢珍藏起来。今年重读，发现了《浮士德》中歌德对有机世界的狂热。在植物学天地中，他再一次表达着生命不...</p>\\n  </div>\\n\\n</div>\\n<div class=\"attachment\">\\n</div>\\n\\n\\n    <div class=\"actions\">\\n        \\n        <span class=\"created_at\" title=\"2019-11-15 19:42:04\">\\n            2019年11月15日<span class=\"ghost\">，来自 <a href=\"https://www.douban.com/interest/1/1/\">热门精选</a></span>\\n        </span>\\n    </div>\\n  </div>\\n</div>\\n</div>\\n\\n\\n\\n\\n    \\n    \\n\\n</div>\\n<!-- 2696684598, note.html, -->\\n\\n\\n\\n\\n      \\n    \\n      \\n      \\n\\n\\n\\n\\n\\n\\n    \\n  \\n    <div class=\"new-status status-wrapper    \" data-sid=\"2675363447\" data-uid=\"900117594\" >\\n\\n    \\n      \\n\\n\\n\\n\\n\\n\\n<div class=\"status-item\"\\n    data-sid=\"2675363447\"\\n    data-uid=\"63926352\"\\n    data-action=\"\"\\n    data-target-type=\"editor\"\\n    data-object-kind=\"1015\"\\n    data-object-id=\"739111474\">\\n<div class=\"mod\" data-status-id=\"2675363447\">\\n  \\n  <div\\n    class=\"hd \"\\n    data-status-url=\"https://www.douban.com/people/63926352/status/2675363447/\">\\n    \\n\\n  <div class=\"usr-pic\">\\n    <a href=\"https://www.douban.com/people/63926352/\" \\n  \\n  onclick=\"moreurl(this, {&#34;action&#34;: &#34;&#34;, &#34;from&#34;: &#34;nmbp-2675363447&#34;, &#34;target_type&#34;: &#34;editor&#34;, &#34;object_kind&#34;: &#34;1015&#34;})\"\\n title=\"女奥特迈\"><img src=\"https://img3.doubanio.com/icon/u63926352-13.jpg\" alt=\"女奥特迈\"/></a>\\n  </div>\\n  <div class=\"text\">\\n    <a href=\"https://www.douban.com/people/63926352/\" \\n  \\n  onclick=\"moreurl(this, {&#34;action&#34;: &#34;&#34;, &#34;from&#34;: &#34;nmbp-2675363447&#34;, &#34;target_type&#34;: &#34;editor&#34;, &#34;object_kind&#34;: &#34;1015&#34;})\"\\n class=\"lnk-people\">女奥特迈</a>\\n    \\n    \\n\\n\\n  </div>\\n\\n  </div>\\n\\n  <div class=\"bd editor\">\\n    \\n\\n<div class=\"block note-block\" data-url=\"https://www.douban.com/note/739111474/\">\\n\\n  <div class=\"content\">\\n    <div class=\"title\">\\n      <a href=\"https://www.douban.com/note/739111474/\" \\n  \\n  onclick=\"moreurl(this, {&#34;action&#34;: &#34;&#34;, &#34;from&#34;: &#34;nmb-2675363447&#34;, &#34;target_type&#34;: &#34;editor&#34;, &#34;object_kind&#34;: &#34;1015&#34;})\"\\n>2019年10月22日 我在环卫的第812天 “我的梦想”背后的故事</a>\\n    </div>\\n    <p>上一次写是2018年9月12日，是我在环卫的第416天。一眨眼，又400天过去了。 其实我一直有感悟的，多的时候每天都会有感悟，只是很多时候因为懒，没有把它记录下来。日子总是过得又快又慢，根...</p>\\n  </div>\\n\\n</div>\\n<div class=\"attachment\">\\n</div>\\n\\n\\n    <div class=\"actions\">\\n        \\n        <span class=\"created_at\" title=\"2019-10-25 18:16:04\">\\n            2019年10月25日<span class=\"ghost\">，来自 <a href=\"https://www.douban.com/interest/1/1/\">热门精选</a></span>\\n        </span>\\n    </div>\\n  </div>\\n</div>\\n</div>\\n\\n\\n\\n\\n    \\n    \\n\\n</div>\\n<!-- 2675363447, note.html, -->\\n\\n\\n\\n\\n      \\n    \\n      \\n      \\n\\n\\n\\n\\n\\n\\n    \\n  \\n    <div class=\"new-status status-wrapper    \" data-sid=\"2637148195\" data-uid=\"900117594\" >\\n\\n    \\n      \\n\\n\\n\\n\\n\\n\\n<div class=\"status-item\"\\n    data-sid=\"2637148195\"\\n    data-uid=\"3216848\"\\n    data-action=\"\"\\n    data-target-type=\"editor\"\\n    data-object-kind=\"1015\"\\n    data-object-id=\"734132096\">\\n<div class=\"mod\" data-status-id=\"2637148195\">\\n  \\n  <div\\n    class=\"hd \"\\n    data-status-url=\"https://www.douban.com/people/3216848/status/2637148195/\">\\n    \\n\\n  <div class=\"usr-pic\">\\n    <a href=\"https://www.douban.com/people/3216848/\" \\n  \\n  onclick=\"moreurl(this, {&#34;action&#34;: &#34;&#34;, &#34;from&#34;: &#34;nmbp-2637148195&#34;, &#34;target_type&#34;: &#34;editor&#34;, &#34;object_kind&#34;: &#34;1015&#34;})\"\\n title=\"肘子zi非子zǐ\"><img src=\"https://img3.doubanio.com/icon/u3216848-32.jpg\" alt=\"肘子zi非子zǐ\"/></a>\\n  </div>\\n  <div class=\"text\">\\n    <a href=\"https://www.douban.com/people/3216848/\" \\n  \\n  onclick=\"moreurl(this, {&#34;action&#34;: &#34;&#34;, &#34;from&#34;: &#34;nmbp-2637148195&#34;, &#34;target_type&#34;: &#34;editor&#34;, &#34;object_kind&#34;: &#34;1015&#34;})\"\\n class=\"lnk-people\">肘子zi非子zǐ</a>\\n    \\n    \\n\\n\\n  </div>\\n\\n  </div>\\n\\n  <div class=\"bd editor\">\\n    \\n\\n<div class=\"block note-block\" data-url=\"https://www.douban.com/note/734132096/\">\\n  <div class=\"pic\">\\n    <div class=\"pic-wrap\">\\n        <a href=\"https://www.douban.com/note/734132096/\" \\n  \\n  onclick=\"moreurl(this, {&#34;action&#34;: &#34;&#34;, &#34;from&#34;: &#34;nmb-2637148195&#34;, &#34;target_type&#34;: &#34;editor&#34;, &#34;object_kind&#34;: &#34;1015&#34;})\"\\n target=\"_blank\"><img src=\"https://img9.doubanio.com/view/note/large/public/p65400114.jpg\"></a>\\n        <span class=\"valign\"></span>\\n    </div>\\n  </div>\\n\\n  <div class=\"content\">\\n    <div class=\"title\">\\n      <a href=\"https://www.douban.com/note/734132096/\" \\n  \\n  onclick=\"moreurl(this, {&#34;action&#34;: &#34;&#34;, &#34;from&#34;: &#34;nmb-2637148195&#34;, &#34;target_type&#34;: &#34;editor&#34;, &#34;object_kind&#34;: &#34;1015&#34;})\"\\n>舅舅</a>\\n    </div>\\n    <p>8月25号中午，一通电话告知：舅舅独居的一楼小间敲门无人应，邻居已经几天没见他进出，从中传出的腐臭味一天比一天浓重。居委通知警察，警察联系我爸如是说。 我爸立刻把情况简单地告诉我，...</p>\\n  </div>\\n\\n    <p class=\"icon-topic topic-note\"><a href=\"https://www.douban.com/gallery/topic/98946/\" target=\"_blank\">我认识的独居老人</a></p>\\n</div>\\n<div class=\"attachment\">\\n</div>\\n\\n\\n    <div class=\"actions\">\\n        \\n        <span class=\"created_at\" title=\"2019-09-20 16:42:09\">\\n            2019年9月20日<span class=\"ghost\">，来自 <a href=\"https://www.douban.com/interest/1/1/\">热门精选</a></span>\\n        </span>\\n    </div>\\n  </div>\\n</div>\\n</div>\\n\\n\\n\\n\\n    \\n    \\n\\n</div>\\n<!-- 2637148195, note.html, -->\\n\\n\\n\\n\\n      \\n    \\n      \\n      \\n\\n\\n\\n\\n\\n\\n    \\n  \\n    <div class=\"new-status status-wrapper    \" data-sid=\"2620850215\" data-uid=\"900117594\" >\\n\\n    \\n      \\n\\n\\n\\n\\n\\n\\n<div class=\"status-item\"\\n    data-sid=\"2620850215\"\\n    data-uid=\"3706832\"\\n    data-action=\"\"\\n    data-target-type=\"editor\"\\n    data-object-kind=\"1015\"\\n    data-object-id=\"732604989\">\\n<div class=\"mod\" data-status-id=\"2620850215\">\\n  \\n  <div\\n    class=\"hd \"\\n    data-status-url=\"https://www.douban.com/people/cityupeople/status/2620850215/\">\\n    \\n\\n  <div class=\"usr-pic\">\\n    <a href=\"https://www.douban.com/people/cityupeople/\" \\n  \\n  onclick=\"moreurl(this, {&#34;action&#34;: &#34;&#34;, &#34;from&#34;: &#34;nmbp-2620850215&#34;, &#34;target_type&#34;: &#34;editor&#34;, &#34;object_kind&#34;: &#34;1015&#34;})\"\\n title=\"拾贝岛民\"><img src=\"https://img3.doubanio.com/icon/u3706832-3.jpg\" alt=\"拾贝岛民\"/></a>\\n  </div>\\n  <div class=\"text\">\\n    <a href=\"https://www.douban.com/people/cityupeople/\" \\n  \\n  onclick=\"moreurl(this, {&#34;action&#34;: &#34;&#34;, &#34;from&#34;: &#34;nmbp-2620850215&#34;, &#34;target_type&#34;: &#34;editor&#34;, &#34;object_kind&#34;: &#34;1015&#34;})\"\\n class=\"lnk-people\">拾贝岛民</a>\\n    \\n    \\n\\n\\n  </div>\\n\\n  </div>\\n\\n  <div class=\"bd editor\">\\n    \\n\\n<div class=\"block note-block\" data-url=\"https://www.douban.com/note/732604989/\">\\n  <div class=\"pic\">\\n    <div class=\"pic-wrap\">\\n        <a href=\"https://www.douban.com/note/732604989/\" \\n  \\n  onclick=\"moreurl(this, {&#34;action&#34;: &#34;&#34;, &#34;from&#34;: &#34;nmb-2620850215&#34;, &#34;target_type&#34;: &#34;editor&#34;, &#34;object_kind&#34;: &#34;1015&#34;})\"\\n target=\"_blank\"><img src=\"https://img9.doubanio.com/view/note/large/public/p64761324.jpg\"></a>\\n        <span class=\"valign\"></span>\\n    </div>\\n  </div>\\n\\n  <div class=\"content\">\\n    <div class=\"title\">\\n      <a href=\"https://www.douban.com/note/732604989/\" \\n  \\n  onclick=\"moreurl(this, {&#34;action&#34;: &#34;&#34;, &#34;from&#34;: &#34;nmb-2620850215&#34;, &#34;target_type&#34;: &#34;editor&#34;, &#34;object_kind&#34;: &#34;1015&#34;})\"\\n>上海西区 Western quarter of Shanghai</a>\\n    </div>\\n    <p>大学同学群里传来消息，某同学荣归主怀，我心中一震，这位同学当年是班里漂亮可爱的女生，她长的皮肤细腻、白里透红、明眸皓齿。但近年听说已经不能认人和自理，她的安息，对亲友也许是种释...</p>\\n  </div>\\n\\n</div>\\n<div class=\"attachment\">\\n</div>\\n\\n\\n    <div class=\"actions\">\\n        \\n        <span class=\"created_at\" title=\"2019-09-05 11:20:09\">\\n            2019年9月5日<span class=\"ghost\">，来自 <a href=\"https://www.douban.com/interest/1/1/\">热门精选</a></span>\\n        </span>\\n    </div>\\n  </div>\\n</div>\\n</div>\\n\\n\\n\\n\\n    \\n    \\n\\n    <script class=\"verify_user_avatar\" id=\"3706832\" type=\"text/template\">\\n      \\n\\n  <style>\\n    .verify-avatar{background-repeat:no-repeat;background-position:right bottom, 0 center;background-size:21px,48px;width:52px;height:56px}.usr-pic .verify-avatar{margin-top:-4px}.simple .verify-avatar{background-size:12px,24px;width:26px;height:28px}\\n\\n  </style>\\n    <a href=\"https://www.douban.com/people/cityupeople/\" target=\"_blank\" title=\"拾贝岛民\">\\n      <div class=\"verify-avatar\" title=\"拾贝岛民\"\\n        style=\"background-image: url(https://img3.doubanio.com/f/shire/8cff6c7f0bfa5a9dbe604b51f4de62f655c233ce/pics/ic_verify@2x.png), url(https://img3.doubanio.com/icon/u3706832-3.jpg)\">\\n      </div>\\n    </a>\\n\\n    </script>\\n</div>\\n<!-- 2620850215, note.html, -->\\n\\n\\n\\n\\n      \\n    \\n      \\n      \\n\\n\\n\\n\\n\\n\\n    \\n  \\n    <div class=\"new-status status-wrapper    \" data-sid=\"2620435648\" data-uid=\"900117594\" >\\n\\n    \\n      \\n\\n\\n\\n\\n\\n\\n<div class=\"status-item\"\\n    data-sid=\"2620435648\"\\n    data-uid=\"3183117\"\\n    data-action=\"\"\\n    data-target-type=\"editor\"\\n    data-object-kind=\"1015\"\\n    data-object-id=\"732498488\">\\n<div class=\"mod\" data-status-id=\"2620435648\">\\n  \\n  <div\\n    class=\"hd \"\\n    data-status-url=\"https://www.douban.com/people/K.thinking/status/2620435648/\">\\n    \\n\\n  <div class=\"usr-pic\">\\n    <a href=\"https://www.douban.com/people/K.thinking/\" \\n  \\n  onclick=\"moreurl(this, {&#34;action&#34;: &#34;&#34;, &#34;from&#34;: &#34;nmbp-2620435648&#34;, &#34;target_type&#34;: &#34;editor&#34;, &#34;object_kind&#34;: &#34;1015&#34;})\"\\n title=\"，\"><img src=\"https://img3.doubanio.com/icon/u3183117-2.jpg\" alt=\"，\"/></a>\\n  </div>\\n  <div class=\"text\">\\n    <a href=\"https://www.douban.com/people/K.thinking/\" \\n  \\n  onclick=\"moreurl(this, {&#34;action&#34;: &#34;&#34;, &#34;from&#34;: &#34;nmbp-2620435648&#34;, &#34;target_type&#34;: &#34;editor&#34;, &#34;object_kind&#34;: &#34;1015&#34;})\"\\n class=\"lnk-people\">，</a>\\n    \\n    \\n\\n\\n  </div>\\n\\n  </div>\\n\\n  <div class=\"bd editor\">\\n    \\n\\n<div class=\"block note-block\" data-url=\"https://www.douban.com/note/732498488/\">\\n  <div class=\"pic\">\\n    <div class=\"pic-wrap\">\\n        <a href=\"https://www.douban.com/note/732498488/\" \\n  \\n  onclick=\"moreurl(this, {&#34;action&#34;: &#34;&#34;, &#34;from&#34;: &#34;nmb-2620435648&#34;, &#34;target_type&#34;: &#34;editor&#34;, &#34;object_kind&#34;: &#34;1015&#34;})\"\\n target=\"_blank\"><img src=\"https://img1.doubanio.com/view/note/large/public/p64734619.jpg\"></a>\\n        <span class=\"valign\"></span>\\n    </div>\\n  </div>\\n\\n  <div class=\"content\">\\n    <div class=\"title\">\\n      <a href=\"https://www.douban.com/note/732498488/\" \\n  \\n  onclick=\"moreurl(this, {&#34;action&#34;: &#34;&#34;, &#34;from&#34;: &#34;nmb-2620435648&#34;, &#34;target_type&#34;: &#34;editor&#34;, &#34;object_kind&#34;: &#34;1015&#34;})\"\\n>72小时，我在长沙吃了什么？</a>\\n    </div>\\n    <p>两个四川人，怎么甘心在长沙只吃纯辣啊！ -为什么想出去玩这么久，最后选择了去长沙？ -因为妹妹去年7月到北京开会，给我带了一份蒜蓉小龙虾，那个味道突然在夏天到来的时候，从我的记记忆里...</p>\\n  </div>\\n\\n    <p class=\"icon-topic topic-note\"><a href=\"https://www.douban.com/gallery/topic/76363/\" target=\"_blank\">念念不忘的地方美食</a></p>\\n</div>\\n<div class=\"attachment\">\\n</div>\\n\\n\\n    <div class=\"actions\">\\n        \\n        <span class=\"created_at\" title=\"2019-09-04 22:44:08\">\\n            2019年9月4日<span class=\"ghost\">，来自 <a href=\"https://www.douban.com/interest/1/1/\">热门精选</a></span>\\n        </span>\\n    </div>\\n  </div>\\n</div>\\n</div>\\n\\n\\n\\n\\n    \\n    \\n\\n</div>\\n<!-- 2620435648, note.html, -->\\n\\n\\n\\n\\n      \\n    \\n      \\n      \\n\\n\\n\\n\\n\\n\\n    \\n  \\n    <div class=\"new-status status-wrapper    \" data-sid=\"2617022918\" data-uid=\"900117594\" >\\n\\n    \\n      \\n\\n\\n\\n\\n\\n\\n<div class=\"status-item\"\\n    data-sid=\"2617022918\"\\n    data-uid=\"1580621\"\\n    data-action=\"\"\\n    data-target-type=\"editor\"\\n    data-object-kind=\"1015\"\\n    data-object-id=\"732308276\">\\n<div class=\"mod\" data-status-id=\"2617022918\">\\n  \\n  <div\\n    class=\"hd \"\\n    data-status-url=\"https://www.douban.com/people/cutwater/status/2617022918/\">\\n    \\n\\n  <div class=\"usr-pic\">\\n    <a href=\"https://www.douban.com/people/cutwater/\" \\n  \\n  onclick=\"moreurl(this, {&#34;action&#34;: &#34;&#34;, &#34;from&#34;: &#34;nmbp-2617022918&#34;, &#34;target_type&#34;: &#34;editor&#34;, &#34;object_kind&#34;: &#34;1015&#34;})\"\\n title=\"躺倒\"><img src=\"https://img3.doubanio.com/icon/u1580621-3.jpg\" alt=\"躺倒\"/></a>\\n  </div>\\n  <div class=\"text\">\\n    <a href=\"https://www.douban.com/people/cutwater/\" \\n  \\n  onclick=\"moreurl(this, {&#34;action&#34;: &#34;&#34;, &#34;from&#34;: &#34;nmbp-2617022918&#34;, &#34;target_type&#34;: &#34;editor&#34;, &#34;object_kind&#34;: &#34;1015&#34;})\"\\n class=\"lnk-people\">躺倒</a>\\n    \\n    \\n\\n\\n  </div>\\n\\n  </div>\\n\\n  <div class=\"bd editor\">\\n    \\n\\n<div class=\"block note-block\" data-url=\"https://www.douban.com/note/732308276/\">\\n  <div class=\"pic\">\\n    <div class=\"pic-wrap\">\\n        <a href=\"https://www.douban.com/note/732308276/\" \\n  \\n  onclick=\"moreurl(this, {&#34;action&#34;: &#34;&#34;, &#34;from&#34;: &#34;nmb-2617022918&#34;, &#34;target_type&#34;: &#34;editor&#34;, &#34;object_kind&#34;: &#34;1015&#34;})\"\\n target=\"_blank\"><img src=\"https://img3.doubanio.com/view/note/large/public/p64685922.jpg\"></a>\\n        <span class=\"valign\"></span>\\n    </div>\\n  </div>\\n\\n  <div class=\"content\">\\n    <div class=\"title\">\\n      <a href=\"https://www.douban.com/note/732308276/\" \\n  \\n  onclick=\"moreurl(this, {&#34;action&#34;: &#34;&#34;, &#34;from&#34;: &#34;nmb-2617022918&#34;, &#34;target_type&#34;: &#34;editor&#34;, &#34;object_kind&#34;: &#34;1015&#34;})\"\\n>徒步在“犀牛的领地”</a>\\n    </div>\\n    <p>喜欢野观野生动物，非洲一定要去，明星五霸——“大象、犀牛、狮子、野水牛和豹”声名在外。但是，其实我们亚洲是世界上另一处有“大象+犀牛+大猫”组合的地方。 世界上现存三种象，两种在非...</p>\\n  </div>\\n\\n</div>\\n<div class=\"attachment\">\\n</div>\\n\\n\\n    <div class=\"actions\">\\n        \\n        <span class=\"created_at\" title=\"2019-09-01 18:02:03\">\\n            2019年9月1日<span class=\"ghost\">，来自 <a href=\"https://www.douban.com/interest/1/1/\">热门精选</a></span>\\n        </span>\\n    </div>\\n  </div>\\n</div>\\n</div>\\n\\n\\n\\n\\n    \\n    \\n\\n</div>\\n<!-- 2617022918, note.html, -->\\n\\n\\n\\n\\n      \\n    \\n      \\n      \\n\\n\\n\\n\\n\\n\\n    \\n  \\n    <div class=\"new-status status-wrapper    \" data-sid=\"2616953824\" data-uid=\"900117594\" >\\n\\n    \\n      \\n\\n\\n\\n\\n\\n\\n<div class=\"status-item\"\\n    data-sid=\"2616953824\"\\n    data-uid=\"174122455\"\\n    data-action=\"\"\\n    data-target-type=\"editor\"\\n    data-object-kind=\"1015\"\\n    data-object-id=\"732328728\">\\n<div class=\"mod\" data-status-id=\"2616953824\">\\n  \\n  <div\\n    class=\"hd \"\\n    data-status-url=\"https://www.douban.com/people/174122455/status/2616953824/\">\\n    \\n\\n  <div class=\"usr-pic\">\\n    <a href=\"https://www.douban.com/people/174122455/\" \\n  \\n  onclick=\"moreurl(this, {&#34;action&#34;: &#34;&#34;, &#34;from&#34;: &#34;nmbp-2616953824&#34;, &#34;target_type&#34;: &#34;editor&#34;, &#34;object_kind&#34;: &#34;1015&#34;})\"\\n title=\"麦克黄\"><img src=\"https://img3.doubanio.com/icon/u174122455-2.jpg\" alt=\"麦克黄\"/></a>\\n  </div>\\n  <div class=\"text\">\\n    <a href=\"https://www.douban.com/people/174122455/\" \\n  \\n  onclick=\"moreurl(this, {&#34;action&#34;: &#34;&#34;, &#34;from&#34;: &#34;nmbp-2616953824&#34;, &#34;target_type&#34;: &#34;editor&#34;, &#34;object_kind&#34;: &#34;1015&#34;})\"\\n class=\"lnk-people\">麦克黄</a>\\n    \\n    \\n\\n\\n  </div>\\n\\n  </div>\\n\\n  <div class=\"bd editor\">\\n    \\n\\n<div class=\"block note-block\" data-url=\"https://www.douban.com/note/732328728/\">\\n\\n  <div class=\"content\">\\n    <div class=\"title\">\\n      <a href=\"https://www.douban.com/note/732328728/\" \\n  \\n  onclick=\"moreurl(this, {&#34;action&#34;: &#34;&#34;, &#34;from&#34;: &#34;nmb-2616953824&#34;, &#34;target_type&#34;: &#34;editor&#34;, &#34;object_kind&#34;: &#34;1015&#34;})\"\\n>小友</a>\\n    </div>\\n    <p>给小朋友看嗓子是一件有难度的工作，常见话术有三种，1.“来，张嘴，给阿姨看你的牙牙白不白”；2.“张大，啊——看看你嘴里有没有虫虫”；3.举着压舌板心虚地说，“来，吃棒棒糖啦”。不管...</p>\\n  </div>\\n\\n</div>\\n<div class=\"attachment\">\\n</div>\\n\\n\\n    <div class=\"actions\">\\n        \\n        <span class=\"created_at\" title=\"2019-09-01 16:54:04\">\\n            2019年9月1日<span class=\"ghost\">，来自 <a href=\"https://www.douban.com/interest/1/1/\">热门精选</a></span>\\n        </span>\\n    </div>\\n  </div>\\n</div>\\n</div>\\n\\n\\n\\n\\n    \\n    \\n\\n</div>\\n<!-- 2616953824, note.html, -->\\n\\n\\n\\n\\n      \\n    \\n      \\n      \\n\\n\\n\\n\\n\\n\\n    \\n  \\n    <div class=\"new-status status-wrapper    \" data-sid=\"2612446102\" data-uid=\"900117594\" >\\n\\n    \\n      \\n\\n\\n\\n\\n\\n\\n<div class=\"status-item\"\\n    data-sid=\"2612446102\"\\n    data-uid=\"5498220\"\\n    data-action=\"\"\\n    data-target-type=\"editor\"\\n    data-object-kind=\"1015\"\\n    data-object-id=\"729845875\">\\n<div class=\"mod\" data-status-id=\"2612446102\">\\n  \\n  <div\\n    class=\"hd \"\\n    data-status-url=\"https://www.douban.com/people/csp/status/2612446102/\">\\n    \\n\\n  <div class=\"usr-pic\">\\n    <a href=\"https://www.douban.com/people/csp/\" \\n  \\n  onclick=\"moreurl(this, {&#34;action&#34;: &#34;&#34;, &#34;from&#34;: &#34;nmbp-2612446102&#34;, &#34;target_type&#34;: &#34;editor&#34;, &#34;object_kind&#34;: &#34;1015&#34;})\"\\n title=\"握不住的灵魂\"><img src=\"https://img3.doubanio.com/icon/u5498220-70.jpg\" alt=\"握不住的灵魂\"/></a>\\n  </div>\\n  <div class=\"text\">\\n    <a href=\"https://www.douban.com/people/csp/\" \\n  \\n  onclick=\"moreurl(this, {&#34;action&#34;: &#34;&#34;, &#34;from&#34;: &#34;nmbp-2612446102&#34;, &#34;target_type&#34;: &#34;editor&#34;, &#34;object_kind&#34;: &#34;1015&#34;})\"\\n class=\"lnk-people\">握不住的灵魂</a>\\n    \\n    \\n\\n\\n  </div>\\n\\n  </div>\\n\\n  <div class=\"bd editor\">\\n    \\n\\n<div class=\"block note-block\" data-url=\"https://www.douban.com/note/729845875/\">\\n  <div class=\"pic\">\\n    <div class=\"pic-wrap\">\\n        <a href=\"https://www.douban.com/note/729845875/\" \\n  \\n  onclick=\"moreurl(this, {&#34;action&#34;: &#34;&#34;, &#34;from&#34;: &#34;nmb-2612446102&#34;, &#34;target_type&#34;: &#34;editor&#34;, &#34;object_kind&#34;: &#34;1015&#34;})\"\\n target=\"_blank\"><img src=\"https://img9.doubanio.com/view/note/large/public/p64025595.jpg\"></a>\\n        <span class=\"valign\"></span>\\n    </div>\\n  </div>\\n\\n  <div class=\"content\">\\n    <div class=\"title\">\\n      <a href=\"https://www.douban.com/note/729845875/\" \\n  \\n  onclick=\"moreurl(this, {&#34;action&#34;: &#34;&#34;, &#34;from&#34;: &#34;nmb-2612446102&#34;, &#34;target_type&#34;: &#34;editor&#34;, &#34;object_kind&#34;: &#34;1015&#34;})\"\\n>石头、气味与阶级之门,《寄生虫》的17个细节</a>\\n    </div>\\n    <p>当人群之中出现差异，并且这样的差异已经导致部分人拥有凌驾其他人的地位、权力、特权时，这就称为社会阶层。社会借此而将人们分类成有高下之别的阶层或等级。#wikipedia 1.爬行式运动 影片...</p>\\n  </div>\\n\\n</div>\\n<div class=\"attachment\">\\n</div>\\n\\n\\n    <div class=\"actions\">\\n        \\n        <span class=\"created_at\" title=\"2019-08-28 19:28:01\">\\n            2019年8月28日<span class=\"ghost\">，来自 <a href=\"https://www.douban.com/interest/1/1/\">热门精选</a></span>\\n        </span>\\n    </div>\\n  </div>\\n</div>\\n</div>\\n\\n\\n\\n\\n    \\n    \\n\\n</div>\\n<!-- 2612446102, note.html, -->\\n\\n\\n\\n\\n      \\n    \\n      \\n      \\n\\n\\n\\n\\n\\n\\n    \\n  \\n    <div class=\"new-status status-wrapper    \" data-sid=\"2609397893\" data-uid=\"900117594\" >\\n\\n    \\n      \\n\\n\\n\\n\\n\\n\\n<div class=\"status-item\"\\n    data-sid=\"2609397893\"\\n    data-uid=\"48613423\"\\n    data-action=\"\"\\n    data-target-type=\"editor\"\\n    data-object-kind=\"1015\"\\n    data-object-id=\"730091332\">\\n<div class=\"mod\" data-status-id=\"2609397893\">\\n  \\n  <div\\n    class=\"hd \"\\n    data-status-url=\"https://www.douban.com/people/48613423/status/2609397893/\">\\n    \\n\\n  <div class=\"usr-pic\">\\n    <a href=\"https://www.douban.com/people/48613423/\" \\n  \\n  onclick=\"moreurl(this, {&#34;action&#34;: &#34;&#34;, &#34;from&#34;: &#34;nmbp-2609397893&#34;, &#34;target_type&#34;: &#34;editor&#34;, &#34;object_kind&#34;: &#34;1015&#34;})\"\\n title=\"小毒牙\"><img src=\"https://img9.doubanio.com/icon/u48613423-4.jpg\" alt=\"小毒牙\"/></a>\\n  </div>\\n  <div class=\"text\">\\n    <a href=\"https://www.douban.com/people/48613423/\" \\n  \\n  onclick=\"moreurl(this, {&#34;action&#34;: &#34;&#34;, &#34;from&#34;: &#34;nmbp-2609397893&#34;, &#34;target_type&#34;: &#34;editor&#34;, &#34;object_kind&#34;: &#34;1015&#34;})\"\\n class=\"lnk-people\">小毒牙</a>\\n    \\n    \\n\\n\\n  </div>\\n\\n  </div>\\n\\n  <div class=\"bd editor\">\\n    \\n\\n<div class=\"block note-block\" data-url=\"https://www.douban.com/note/730091332/\">\\n  <div class=\"pic\">\\n    <div class=\"pic-wrap\">\\n        <a href=\"https://www.douban.com/note/730091332/\" \\n  \\n  onclick=\"moreurl(this, {&#34;action&#34;: &#34;&#34;, &#34;from&#34;: &#34;nmb-2609397893&#34;, &#34;target_type&#34;: &#34;editor&#34;, &#34;object_kind&#34;: &#34;1015&#34;})\"\\n target=\"_blank\"><img src=\"https://img9.doubanio.com/view/note/large/public/p64100126.jpg\"></a>\\n        <span class=\"valign\"></span>\\n    </div>\\n  </div>\\n\\n  <div class=\"content\">\\n    <div class=\"title\">\\n      <a href=\"https://www.douban.com/note/730091332/\" \\n  \\n  onclick=\"moreurl(this, {&#34;action&#34;: &#34;&#34;, &#34;from&#34;: &#34;nmb-2609397893&#34;, &#34;target_type&#34;: &#34;editor&#34;, &#34;object_kind&#34;: &#34;1015&#34;})\"\\n>运城访古记</a>\\n    </div>\\n    <p>运城在山西的最南部，晋秦豫三省交界处。 目前上海到运城只有一班高铁，将近11个小时；而上海到河南省三门峡市却有更多高铁班次，仅6个多小时，再从三门峡打车到运城市中心的酒店只要1个半小...</p>\\n  </div>\\n\\n    <p class=\"icon-topic topic-note\"><a href=\"https://www.douban.com/gallery/topic/636/\" target=\"_blank\">遇见老建筑</a></p>\\n</div>\\n<div class=\"attachment\">\\n</div>\\n\\n\\n    <div class=\"actions\">\\n        \\n        <span class=\"created_at\" title=\"2019-08-26 08:06:03\">\\n            2019年8月26日<span class=\"ghost\">，来自 <a href=\"https://www.douban.com/interest/1/1/\">热门精选</a></span>\\n        </span>\\n    </div>\\n  </div>\\n</div>\\n</div>\\n\\n\\n\\n\\n    \\n    \\n\\n</div>\\n<!-- 2609397893, note.html, -->\\n\\n\\n\\n\\n      \\n    \\n      \\n      \\n\\n\\n\\n\\n\\n\\n    \\n  \\n    <div class=\"new-status status-wrapper    \" data-sid=\"2580259408\" data-uid=\"900117594\" >\\n\\n    \\n      \\n\\n\\n\\n\\n\\n\\n<div class=\"status-item\"\\n    data-sid=\"2580259408\"\\n    data-uid=\"1233038\"\\n    data-action=\"\"\\n    data-target-type=\"editor\"\\n    data-object-kind=\"1015\"\\n    data-object-id=\"728407385\">\\n<div class=\"mod\" data-status-id=\"2580259408\">\\n  \\n  <div\\n    class=\"hd \"\\n    data-status-url=\"https://www.douban.com/people/1233038/status/2580259408/\">\\n    \\n\\n  <div class=\"usr-pic\">\\n    <a href=\"https://www.douban.com/people/1233038/\" \\n  \\n  onclick=\"moreurl(this, {&#34;action&#34;: &#34;&#34;, &#34;from&#34;: &#34;nmbp-2580259408&#34;, &#34;target_type&#34;: &#34;editor&#34;, &#34;object_kind&#34;: &#34;1015&#34;})\"\\n title=\"frozenmoon\"><img src=\"https://img3.doubanio.com/icon/u1233038-2.jpg\" alt=\"frozenmoon\"/></a>\\n  </div>\\n  <div class=\"text\">\\n    <a href=\"https://www.douban.com/people/1233038/\" \\n  \\n  onclick=\"moreurl(this, {&#34;action&#34;: &#34;&#34;, &#34;from&#34;: &#34;nmbp-2580259408&#34;, &#34;target_type&#34;: &#34;editor&#34;, &#34;object_kind&#34;: &#34;1015&#34;})\"\\n class=\"lnk-people\">frozenmoon</a>\\n    \\n    \\n\\n\\n  </div>\\n\\n  </div>\\n\\n  <div class=\"bd editor\">\\n    \\n\\n<div class=\"block note-block\" data-url=\"https://www.douban.com/note/728407385/\">\\n  <div class=\"pic\">\\n    <div class=\"pic-wrap\">\\n        <a href=\"https://www.douban.com/note/728407385/\" \\n  \\n  onclick=\"moreurl(this, {&#34;action&#34;: &#34;&#34;, &#34;from&#34;: &#34;nmb-2580259408&#34;, &#34;target_type&#34;: &#34;editor&#34;, &#34;object_kind&#34;: &#34;1015&#34;})\"\\n target=\"_blank\"><img src=\"https://img9.doubanio.com/view/note/large/public/p63641035.jpg\"></a>\\n        <span class=\"valign\"></span>\\n    </div>\\n  </div>\\n\\n  <div class=\"content\">\\n    <div class=\"title\">\\n      <a href=\"https://www.douban.com/note/728407385/\" \\n  \\n  onclick=\"moreurl(this, {&#34;action&#34;: &#34;&#34;, &#34;from&#34;: &#34;nmb-2580259408&#34;, &#34;target_type&#34;: &#34;editor&#34;, &#34;object_kind&#34;: &#34;1015&#34;})\"\\n>海清们的真正困境，在于中年人的故事被集体清空</a>\\n    </div>\\n    <p>（文/杨时旸） 演员海清在First青年电影展的闭幕式上叫上了姚晨、宋佳和梁静，一起站在舞台上发出了一次呼吁，她们希望导演和制片人能重视自己这些中生代女演员，希望青年导演们也能够愿意并...</p>\\n  </div>\\n\\n    <p class=\"icon-topic topic-note\"><a href=\"https://www.douban.com/gallery/topic/93831/\" target=\"_blank\">那些反映出中年人真实困境的影视剧</a></p>\\n</div>\\n<div class=\"attachment\">\\n</div>\\n\\n\\n    <div class=\"actions\">\\n        \\n        <span class=\"created_at\" title=\"2019-08-03 17:30:03\">\\n            2019年8月3日<span class=\"ghost\">，来自 <a href=\"https://www.douban.com/interest/1/1/\">热门精选</a></span>\\n        </span>\\n    </div>\\n  </div>\\n</div>\\n</div>\\n\\n\\n\\n\\n    \\n    \\n\\n    <script class=\"verify_user_avatar\" id=\"1233038\" type=\"text/template\">\\n      \\n\\n  <style>\\n    .verify-avatar{background-repeat:no-repeat;background-position:right bottom, 0 center;background-size:21px,48px;width:52px;height:56px}.usr-pic .verify-avatar{margin-top:-4px}.simple .verify-avatar{background-size:12px,24px;width:26px;height:28px}\\n\\n  </style>\\n    <a href=\"https://www.douban.com/people/1233038/\" target=\"_blank\" title=\"frozenmoon\">\\n      <div class=\"verify-avatar\" title=\"frozenmoon\"\\n        style=\"background-image: url(https://img3.doubanio.com/f/shire/8cff6c7f0bfa5a9dbe604b51f4de62f655c233ce/pics/ic_verify@2x.png), url(https://img3.doubanio.com/icon/u1233038-2.jpg)\">\\n      </div>\\n    </a>\\n\\n    </script>\\n</div>\\n<!-- 2580259408, note.html, -->\\n\\n\\n\\n\\n      \\n    \\n      \\n      \\n\\n\\n\\n\\n\\n\\n    \\n  \\n    <div class=\"new-status status-wrapper    \" data-sid=\"2550183515\" data-uid=\"900117594\" >\\n\\n    \\n      \\n\\n\\n\\n\\n\\n\\n<div class=\"status-item\"\\n    data-sid=\"2550183515\"\\n    data-uid=\"2855946\"\\n    data-action=\"\"\\n    data-target-type=\"editor\"\\n    data-object-kind=\"1015\"\\n    data-object-id=\"712322872\">\\n<div class=\"mod\" data-status-id=\"2550183515\">\\n  \\n  <div\\n    class=\"hd \"\\n    data-status-url=\"https://www.douban.com/people/wssynssm/status/2550183515/\">\\n    \\n\\n  <div class=\"usr-pic\">\\n    <a href=\"https://www.douban.com/people/wssynssm/\" \\n  \\n  onclick=\"moreurl(this, {&#34;action&#34;: &#34;&#34;, &#34;from&#34;: &#34;nmbp-2550183515&#34;, &#34;target_type&#34;: &#34;editor&#34;, &#34;object_kind&#34;: &#34;1015&#34;})\"\\n title=\"维生素\"><img src=\"https://img3.doubanio.com/icon/u2855946-121.jpg\" alt=\"维生素\"/></a>\\n  </div>\\n  <div class=\"text\">\\n    <a href=\"https://www.douban.com/people/wssynssm/\" \\n  \\n  onclick=\"moreurl(this, {&#34;action&#34;: &#34;&#34;, &#34;from&#34;: &#34;nmbp-2550183515&#34;, &#34;target_type&#34;: &#34;editor&#34;, &#34;object_kind&#34;: &#34;1015&#34;})\"\\n class=\"lnk-people\">维生素</a>\\n    \\n    \\n\\n\\n  </div>\\n\\n  </div>\\n\\n  <div class=\"bd editor\">\\n    \\n\\n<div class=\"block note-block\" data-url=\"https://www.douban.com/note/712322872/\">\\n  <div class=\"pic\">\\n    <div class=\"pic-wrap\">\\n        <a href=\"https://www.douban.com/note/712322872/\" \\n  \\n  onclick=\"moreurl(this, {&#34;action&#34;: &#34;&#34;, &#34;from&#34;: &#34;nmb-2550183515&#34;, &#34;target_type&#34;: &#34;editor&#34;, &#34;object_kind&#34;: &#34;1015&#34;})\"\\n target=\"_blank\"><img src=\"https://img3.doubanio.com/view/note/large/public/p59413141.jpg\"></a>\\n        <span class=\"valign\"></span>\\n    </div>\\n  </div>\\n\\n  <div class=\"content\">\\n    <div class=\"title\">\\n      <a href=\"https://www.douban.com/note/712322872/\" \\n  \\n  onclick=\"moreurl(this, {&#34;action&#34;: &#34;&#34;, &#34;from&#34;: &#34;nmb-2550183515&#34;, &#34;target_type&#34;: &#34;editor&#34;, &#34;object_kind&#34;: &#34;1015&#34;})\"\\n>奶奶留下来的螺钿木盒</a>\\n    </div>\\n    <p>春节前，有个女生找到我，说她有一个螺钿的盒子需要修补。我拿到一看，上面的金属扣件都没有了，原来这个盒子是她奶奶留下了的，但金属扣件大多坏了，她拿去给一个做金缮的师傅修理，但金缮...</p>\\n  </div>\\n\\n    <p class=\"icon-topic topic-note\"><a href=\"https://www.douban.com/gallery/topic/49360/\" target=\"_blank\">家里的老物件</a></p>\\n</div>\\n<div class=\"attachment\">\\n</div>\\n\\n\\n    <div class=\"actions\">\\n        \\n        <span class=\"created_at\" title=\"2019-07-07 19:32:00\">\\n            2019年7月7日<span class=\"ghost\">，来自 <a href=\"https://www.douban.com/interest/1/1/\">热门精选</a></span>\\n        </span>\\n    </div>\\n  </div>\\n</div>\\n</div>\\n\\n\\n\\n\\n    \\n    \\n\\n</div>\\n<!-- 2550183515, note.html, -->\\n\\n\\n\\n\\n      \\n    \\n      \\n      \\n\\n\\n\\n\\n\\n\\n    \\n  \\n    <div class=\"new-status status-wrapper    \" data-sid=\"2550021779\" data-uid=\"900117594\" >\\n\\n    \\n      \\n\\n\\n\\n\\n\\n\\n<div class=\"status-item\"\\n    data-sid=\"2550021779\"\\n    data-uid=\"79682679\"\\n    data-action=\"\"\\n    data-target-type=\"editor\"\\n    data-object-kind=\"1015\"\\n    data-object-id=\"703611556\">\\n<div class=\"mod\" data-status-id=\"2550021779\">\\n  \\n  <div\\n    class=\"hd \"\\n    data-status-url=\"https://www.douban.com/people/staymiao/status/2550021779/\">\\n    \\n\\n  <div class=\"usr-pic\">\\n    <a href=\"https://www.douban.com/people/staymiao/\" \\n  \\n  onclick=\"moreurl(this, {&#34;action&#34;: &#34;&#34;, &#34;from&#34;: &#34;nmbp-2550021779&#34;, &#34;target_type&#34;: &#34;editor&#34;, &#34;object_kind&#34;: &#34;1015&#34;})\"\\n title=\"喵呜不停\"><img src=\"https://img9.doubanio.com/icon/u79682679-4.jpg\" alt=\"喵呜不停\"/></a>\\n  </div>\\n  <div class=\"text\">\\n    <a href=\"https://www.douban.com/people/staymiao/\" \\n  \\n  onclick=\"moreurl(this, {&#34;action&#34;: &#34;&#34;, &#34;from&#34;: &#34;nmbp-2550021779&#34;, &#34;target_type&#34;: &#34;editor&#34;, &#34;object_kind&#34;: &#34;1015&#34;})\"\\n class=\"lnk-people\">喵呜不停</a>\\n    \\n    \\n\\n\\n  </div>\\n\\n  </div>\\n\\n  <div class=\"bd editor\">\\n    \\n\\n<div class=\"block note-block\" data-url=\"https://www.douban.com/note/703611556/\">\\n  <div class=\"pic\">\\n    <div class=\"pic-wrap\">\\n        <a href=\"https://www.douban.com/note/703611556/\" \\n  \\n  onclick=\"moreurl(this, {&#34;action&#34;: &#34;&#34;, &#34;from&#34;: &#34;nmb-2550021779&#34;, &#34;target_type&#34;: &#34;editor&#34;, &#34;object_kind&#34;: &#34;1015&#34;})\"\\n target=\"_blank\"><img src=\"https://img3.doubanio.com/view/note/large/public/p57358933.jpg\"></a>\\n        <span class=\"valign\"></span>\\n    </div>\\n  </div>\\n\\n  <div class=\"content\">\\n    <div class=\"title\">\\n      <a href=\"https://www.douban.com/note/703611556/\" \\n  \\n  onclick=\"moreurl(this, {&#34;action&#34;: &#34;&#34;, &#34;from&#34;: &#34;nmb-2550021779&#34;, &#34;target_type&#34;: &#34;editor&#34;, &#34;object_kind&#34;: &#34;1015&#34;})\"\\n>2018年度候选猫片，每张也是挑花了眼！</a>\\n    </div>\\n    <p>前几天发布2018年度猫片后， 各渠道反响热烈， 微博、微信阅读量更是超出预期， 所以再次感谢大家的厚爱！ 前文说到这一年专职拍猫， 所以片子数量激增， 年度照片也着实挑花了眼， 最后初选...</p>\\n  </div>\\n\\n</div>\\n<div class=\"attachment\">\\n</div>\\n\\n\\n    <div class=\"actions\">\\n        \\n        <span class=\"created_at\" title=\"2019-07-07 16:41:59\">\\n            2019年7月7日<span class=\"ghost\">，来自 <a href=\"https://www.douban.com/interest/1/1/\">热门精选</a></span>\\n        </span>\\n    </div>\\n  </div>\\n</div>\\n</div>\\n\\n\\n\\n\\n    \\n    \\n\\n    <script class=\"verify_user_avatar\" id=\"79682679\" type=\"text/template\">\\n      \\n\\n  <style>\\n    .verify-avatar{background-repeat:no-repeat;background-position:right bottom, 0 center;background-size:21px,48px;width:52px;height:56px}.usr-pic .verify-avatar{margin-top:-4px}.simple .verify-avatar{background-size:12px,24px;width:26px;height:28px}\\n\\n  </style>\\n    <a href=\"https://www.douban.com/people/staymiao/\" target=\"_blank\" title=\"喵呜不停\">\\n      <div class=\"verify-avatar\" title=\"喵呜不停\"\\n        style=\"background-image: url(https://img3.doubanio.com/f/shire/8cff6c7f0bfa5a9dbe604b51f4de62f655c233ce/pics/ic_verify@2x.png), url(https://img9.doubanio.com/icon/u79682679-4.jpg)\">\\n      </div>\\n    </a>\\n\\n    </script>\\n</div>\\n<!-- 2550021779, note.html, -->\\n\\n\\n\\n\\n      \\n</div>\\n\\n<script>\\nwindow.crt_uid = \"140014301\";\\n</script>\\n\\n<link rel=\"stylesheet\" href=\"https://img3.doubanio.com/f/sns/648e623f5edffa2561cd3a33dccb8cc4cdcdec6e/css/sns/lifestream/status.css\">\\n\\n\\n  \\n    \\n\\n    \\n        <div class=\"paginator\">\\n        <span class=\"prev\">\\n            &lt;前页\\n        </span>\\n        \\n        \\n\\n                <span class=\"thispage\" data-total-page=\"9223372036854775807\">1</span>\\n                \\n            <a href=\"?p=2\" >2</a>\\n        \\n                \\n            <a href=\"?p=3\" >3</a>\\n        \\n                \\n            <a href=\"?p=4\" >4</a>\\n        \\n                \\n            <a href=\"?p=5\" >5</a>\\n        \\n                \\n            <a href=\"?p=6\" >6</a>\\n        \\n                \\n            <a href=\"?p=7\" >7</a>\\n        \\n                \\n            <a href=\"?p=8\" >8</a>\\n        \\n                \\n            <a href=\"?p=9\" >9</a>\\n        \\n            <span class=\"break\">...</span>\\n        <span class=\"next\">\\n            <link rel=\"next\" href=\"?p=2\"/>\\n            <a href=\"?p=2\" >后页&gt;</a>\\n        </span>\\n\\n        </div>\\n\\n\\n        </div>\\n\\n        </div>\\n        <div class=\"aside\">\\n                \\n\\n\\n\\n\\n\\n\\n\\n\\n\\n<div class=\"notify-mod\">\\n    \\n    \\n    <h2>\\n        豆瓣正在发生\\n            &nbsp;&middot;&nbsp;&middot;&nbsp;&middot;&nbsp;&middot;&nbsp;&middot;&nbsp;&middot;\\n    </h2>\\n\\n    <ul>\\n            <li>\\n              <a target=\"_blank\" href=\"https://www.douban.com/group/topic/166315221/?utm_campaign=douban_what_happening&amp;utm_source=douban&amp;utm_medium=pc_web\" \\n    onclick=\"moreurl(this, {category:\\'sns\\', type:\\'side_entry\\'})\"\\n>豆瓣读书会丨聊聊我们“无处安放的同情”</a>\\n            </li>\\n            <li>\\n              <a target=\"_blank\" href=\"https://www.douban.com/group/topic/165963961/?utm_campaign=douban_what_happening&amp;utm_source=douban&amp;utm_medium=pc_web\" \\n    onclick=\"moreurl(this, {category:\\'sns\\', type:\\'side_entry\\'})\"\\n>伴宠乐园丨不出家门也能囤好粮</a>\\n            </li>\\n    </ul>\\n</div>\\n\\n\\n\\n\\n<div id=\"dale_homepage_login_top_right\" class=\"mod\"></div>\\n\\n\\n\\n\\n\\n\\n\\n<div class=\"mod\" id=\"anony-time\">\\n    \\n    <h2>\\n        豆瓣时间\\n            &nbsp;&middot;&nbsp;&middot;&nbsp;&middot;&nbsp;&middot;&nbsp;&middot;&nbsp;&middot;\\n            <span class=\"pl\">&nbsp;(\\n                \\n                    <a href=\"https://time.douban.com/?dt_time_source=douban-web_guangbo\" target=\"_blank\">查看全部</a>\\n                ) </span>\\n    </h2>\\n\\n\\n    \\n\\n\\n\\n<ul class=\"time-list\">\\n        <li>\\n            \\n            <a class=\"cover audio new \" href=\"https://m.douban.com/time/column/188?dt_time_source=douban-web_guangbo\" target=\"_blank\">\\n                <img src=\"https://img9.doubanio.com/dae/niffler/niffler/images/8e457bfe-5872-11ea-916d-4e50984eeed6.jpg\" alt=\"用性别之尺丈量世界——18堂思想课解读女性问题\">\\n            </a>\\n            <a class=\"title\" href=\"https://m.douban.com/time/column/188?dt_time_source=douban-web_guangbo\" target=\"_blank\">用性别之尺丈量世界——18堂思想课解读女性问题</a>\\n            <span class=\"type\">音频专栏</span>\\n        </li>\\n        <li>\\n            \\n            <a class=\"cover video new \" href=\"https://m.douban.com/time/column/187?dt_time_source=douban-web_guangbo\" target=\"_blank\">\\n                <img src=\"https://img9.doubanio.com/dae/niffler/niffler/images/0b1c1886-4cb1-11ea-a5fc-ce0829b4ff74.jpg\" alt=\"电影产业破壁课——13小时重塑电影世界观\">\\n            </a>\\n            <a class=\"title\" href=\"https://m.douban.com/time/column/187?dt_time_source=douban-web_guangbo\" target=\"_blank\">电影产业破壁课——13小时重塑电影世界观</a>\\n            <span class=\"type\">视频专栏</span>\\n        </li>\\n</ul>\\n\\n</div>\\n\\n\\n\\n\\n\\n\\n\\n\\n\\n<div class=\"mod\">\\n    \\n    <h2>\\n        热门话题\\n            &nbsp;&middot;&nbsp;&middot;&nbsp;&middot;&nbsp;&middot;&nbsp;&middot;&nbsp;&middot;\\n            <span class=\"pl\">&nbsp;(\\n                \\n                    <a href=\"/gallery/\" target=\"_self\">去话题广场</a>\\n                ) </span>\\n    </h2>\\n\\n\\n    <ul>\\n        \\n            <li class=\"rec_topics\">\\n                    <a href=\"https://www.douban.com/gallery/topic/131026/?from=hot_topic_homepage\" class=\"rec_topics_name\">线上博物馆参观笔记</a>\\n                    \\n                    <span class=\"rec_topics_subtitle\">6.4万次浏览</span>\\n            </li>\\n            <li class=\"rec_topics\">\\n                    <a href=\"https://www.douban.com/gallery/topic/131334/?from=hot_topic_homepage\" class=\"rec_topics_name\">疫情时期复工见闻</a>\\n                    \\n                    <span class=\"rec_topics_subtitle\">4.0万次浏览</span>\\n            </li>\\n            <li class=\"rec_topics\">\\n                    <a href=\"https://www.douban.com/gallery/topic/129030/?from=hot_topic_homepage\" class=\"rec_topics_name\">艺术家之间的友谊</a>\\n                    \\n                    <span class=\"rec_topics_subtitle\">74.1万次浏览</span>\\n            </li>\\n            <li class=\"rec_topics\">\\n                    <a href=\"https://www.douban.com/gallery/topic/131150/?from=hot_topic_homepage\" class=\"rec_topics_name\">纪念行为艺术家乌雷</a>\\n                    \\n                    <span class=\"rec_topics_subtitle\">54.4万次浏览</span>\\n            </li>\\n            <li class=\"rec_topics\">\\n                    <a href=\"https://www.douban.com/gallery/topic/125736/?from=hot_topic_homepage\" class=\"rec_topics_name\">那些触动你的行为艺术作品</a>\\n                    \\n                    <span class=\"rec_topics_subtitle\">592.0万次浏览</span>\\n            </li>\\n            <li class=\"rec_topics\">\\n                    <a href=\"https://www.douban.com/gallery/topic/130566/?from=hot_topic_homepage\" class=\"rec_topics_name\">文学作品中那些触击心灵的“小镇”故事</a>\\n                    \\n                    <span class=\"rec_topics_subtitle\">55.7万次浏览</span>\\n            </li>\\n            <li class=\"rec_topics\">\\n                    <a href=\"https://www.douban.com/gallery/topic/130904/?from=hot_topic_homepage\" class=\"rec_topics_name\">临摹失败作品</a>\\n                    \\n                    <span class=\"rec_topics_subtitle\">新话题 · 17.4万次浏览</span>\\n            </li>\\n            <li class=\"rec_topics\">\\n                    <a href=\"https://www.douban.com/gallery/topic/130568/?from=hot_topic_homepage\" class=\"rec_topics_name\">关于你的文学梦</a>\\n                    \\n                    <span class=\"rec_topics_subtitle\">4.6万次浏览</span>\\n            </li>\\n            <li class=\"rec_topics\">\\n                <a href=\"/gallery/mine?type=invited\">> 我被邀请参与的话题(0)</a>\\n            </li>\\n            <li class=\"rec_topics\">\\n                <a href=\"/gallery/topic/create\">+ 发起新话题</a>\\n            </li>\\n    </ul>\\n</div>\\n\\n\\n\\n\\n\\n\\n\\n\\n<div id=\"friend\" class=\"mod\">\\n</div>\\n\\n\\n\\n\\n\\n\\n\\n\\n\\n<div id=\"fp-sites\" class=\"mod\">\\n</div>\\n\\n\\n<div class=\"mod\">\\n  <div id=\"dale_homepage_login_inner_middle\"></div>\\n  <div id=\"dale_homepage_login_download_middle\"></div>\\n</div>\\n\\n<div id=\"dale_homepage_login_bottom_middle_right\" class=\"mod\"></div>\\n<div id=\"dale_homepage_login_bottom_right\" class=\"mod\"></div>\\n\\n        </div>\\n        <div class=\"extra\">\\n            \\n        </div>\\n    </div>\\n</div>\\n\\n        \\n<div id=\"footer\">\\n    \\n<span id=\"icp\" class=\"fleft gray-link\">\\n    &copy; 2005－2020 douban.com, all rights reserved 北京豆网科技有限公司\\n</span>\\n\\n<a href=\"https://www.douban.com/hnypt/variformcyst.py\" style=\"display: none;\"></a>\\n\\n<span class=\"fright\">\\n    <a href=\"https://www.douban.com/about\">关于豆瓣</a>\\n    · <a href=\"https://www.douban.com/jobs\">在豆瓣工作</a>\\n    · <a href=\"https://www.douban.com/about?topic=contactus\">联系我们</a>\\n    · <a href=\"https://www.douban.com/about/legal\">法律声明</a>\\n    \\n    · <a href=\"https://help.douban.com/?app=main\" target=\"_blank\">帮助中心</a>\\n    · <a href=\"https://www.douban.com/doubanapp/\">移动应用</a>\\n    · <a href=\"https://www.douban.com/partner/\">豆瓣广告</a>\\n</span>\\n\\n</div>\\n\\n    </div>\\n    \\n    \\n\\n    <script type=\"text/javascript\" src=\"https://img3.doubanio.com/misc/mixed_static/7ce4440eb15fe07b.js\"></script>\\n    \\n\\n\\n\\n<!-- douban ad begin -->\\n\\n\\n\\n\\n\\n    \\n<script type=\"text/javascript\">\\n    (function (global) {\\n        var newNode = global.document.createElement(\\'script\\'),\\n            existingNode = global.document.getElementsByTagName(\\'script\\')[0],\\n            adSource = \\'//erebor.douban.com/\\',\\n            userId = \\'140014301\\',\\n            browserId = \\'1i8YWHFPDwI\\',\\n            criteria = \\'3:/\\',\\n            preview = \\'\\',\\n            debug = false,\\n            adSlots = [\\'dale_homepage_login_top_right\\', \\'dale_homepage_login_bottom_middle_right\\', \\'dale_homepage_login_bottom_right\\', \\'dale_homepage_login_inner_middle\\', \\'dale_homepage_login_download_middle\\'];\\n\\n        global.DoubanAdRequest = {src: adSource, uid: userId, bid: browserId, crtr: criteria, prv: preview, debug: debug};\\n        global.DoubanAdSlots = (global.DoubanAdSlots || []).concat(adSlots);\\n\\n        newNode.setAttribute(\\'type\\', \\'text/javascript\\');\\n        newNode.setAttribute(\\'src\\', \\'//img1.doubanio.com/eDRjYjNvdi9mL2FkanMvZTQ2YTNkMjgwYjBiMzc2OWE4YTI3MWFhMzI0NTQwMTBlMWY3OTYzMy9hZC5yZWxlYXNlLmpz\\');\\n        newNode.setAttribute(\\'async\\', true);\\n        existingNode.parentNode.insertBefore(newNode, existingNode);\\n    })(this);\\n</script>\\n\\n\\n\\n\\n\\n\\n\\n\\n\\n\\n<!-- douban ad end -->\\n\\n    \\n    \\n\\n\\n\\n\\n\\n\\n\\n\\n\\n<!-- Google Tag Manager -->\\n<noscript><iframe src=\"//www.googletagmanager.com/ns.html?id=GTM-5WP579\" height=\"0\" width=\"0\" style=\"display:none;visibility:hidden\"></iframe></noscript>\\n<script>(function(w,d,s,l,i){w[l]=w[l]||[];w[l].push({\\'gtm.start\\':new Date().getTime(),event:\\'gtm.js\\'});var f=d.getElementsByTagName(s)[0],j=d.createElement(s),dl=l!=\\'dataLayer\\'?\\'&l=\\'+l:\\'\\';j.async=true;j.src=\\'//www.googletagmanager.com/gtm.js?id=\\'+i+dl;f.parentNode.insertBefore(j,f);})(window,document,\\'script\\',\\'dataLayer\\',\\'GTM-5WP579\\');</script>\\n<!-- End Google Tag Manager -->\\n\\n\\n<script type=\"text/javascript\">\\nvar _paq = _paq || [];\\n_paq.push([\\'trackPageView\\']);\\n_paq.push([\\'enableLinkTracking\\']);\\n(function() {\\n    var p=((\\'https:\\' == document.location.protocol) ? \\'https\\' : \\'http\\'), u=p+\\'://fundin.douban.com/\\';\\n    _paq.push([\\'setTrackerUrl\\', u+\\'piwik\\']);\\n    _paq.push([\\'setSiteId\\', \\'100001\\']);\\n    var d=document, g=d.createElement(\\'script\\'), s=d.getElementsByTagName(\\'script\\')[0];\\n    g.type=\\'text/javascript\\';\\n    g.defer=true;\\n    g.async=true;\\n    g.src=p+\\'://img3.doubanio.com/dae/fundin/piwik.js\\';\\n    s.parentNode.insertBefore(g,s);\\n})();\\n</script>\\n\\n<script type=\"text/javascript\">\\nvar _gaq = _gaq || [];\\n_gaq.push([\\'_setAccount\\', \\'UA-7019765-1\\']);\\n_gaq.push([\\'_setCampNameKey\\', \\'dcn\\']);\\n_gaq.push([\\'_setCampSourceKey\\', \\'dcs\\']);\\n_gaq.push([\\'_setCampMediumKey\\', \\'dcm\\']);\\n_gaq.push([\\'_setCampTermKey\\', \\'dct\\']);\\n_gaq.push([\\'_setCampContentKey\\', \\'dcc\\']);\\n_gaq.push([\\'_addOrganic\\', \\'baidu\\', \\'word\\']);\\n_gaq.push([\\'_addOrganic\\', \\'soso\\', \\'w\\']);\\n_gaq.push([\\'_addOrganic\\', \\'3721\\', \\'name\\']);\\n_gaq.push([\\'_addOrganic\\', \\'youdao\\', \\'q\\']);\\n_gaq.push([\\'_addOrganic\\', \\'so.360.cn\\', \\'q\\']);\\n_gaq.push([\\'_addOrganic\\', \\'vnet\\', \\'kw\\']);\\n_gaq.push([\\'_addOrganic\\', \\'sogou\\', \\'query\\']);\\n_gaq.push([\\'_addIgnoredOrganic\\', \\'豆瓣\\']);\\n_gaq.push([\\'_addIgnoredOrganic\\', \\'douban\\']);\\n_gaq.push([\\'_addIgnoredOrganic\\', \\'豆瓣网\\']);\\n_gaq.push([\\'_addIgnoredOrganic\\', \\'www.douban.com\\']);\\n_gaq.push([\\'_setDomainName\\', \\'.douban.com\\']);\\n\\n\\n    _gaq.push([\\'_setCustomVar\\', 1, \\'responsive_view_mode\\', \\'desktop\\', 3]);\\n\\n_gaq.push([\\'_trackPageview\\']);\\n_gaq.push([\\'_trackPageLoadTime\\']);\\n    _gaq.push([\\'_setVar\\', \\'14001\\']);\\n\\nwindow._ga_init = function() {\\n    var ga = document.createElement(\\'script\\');\\n    ga.src = (\\'https:\\' == document.location.protocol ? \\'https://ssl\\' : \\'http://www\\') + \\'.google-analytics.com/ga.js\\';\\n    ga.setAttribute(\\'async\\', \\'true\\');\\n    document.documentElement.firstChild.appendChild(ga);\\n};\\nif (window.addEventListener) {\\n    window.addEventListener(\\'load\\', _ga_init, false);\\n} else {\\n    window.attachEvent(\\'onload\\', _ga_init);\\n}\\n</script>\\n\\n\\n\\n\\n\\n    <!-- dae-web-sns--home-64c58dd75c-wc8k2-->\\n\\n  \\n\\n  <script>_SPLITTEST=\\'\\'</script>\\n</body>\\n\\n</html>\\n\\n\\n'"
      ]
     },
     "execution_count": null,
     "metadata": {},
     "output_type": "execute_result"
    }
   ],
   "source": [
    "# hide\n",
    "res = requests.post(url,headers=headers,data=data,cookies=cookies)\n",
    "res.text"
   ]
  },
  {
   "cell_type": "code",
   "execution_count": null,
   "metadata": {},
   "outputs": [
    {
     "name": "stdout",
     "output_type": "stream",
     "text": [
      "hello world\n",
      "hello world\n",
      "hello world\n",
      "hello world\n",
      "hello world\n"
     ]
    }
   ],
   "source": [
    "# hide\n",
    "# 查看最近发布的5条动态\n",
    "soup = BeautifulSoup(res.text)\n",
    "items = soup.find_all(class_='new-status')\n",
    "for item in items[:5]:\n",
    "    print(item.find('p').text)"
   ]
  },
  {
   "cell_type": "code",
   "execution_count": null,
   "metadata": {},
   "outputs": [
    {
     "data": {
      "text/plain": [
       "(bs4.element.Tag,\n",
       " {'class': ['new-status', 'status-wrapper', 'saying'],\n",
       "  'data-sid': '2849308445',\n",
       "  'data-uid': '140014301'})"
      ]
     },
     "execution_count": null,
     "metadata": {},
     "output_type": "execute_result"
    }
   ],
   "source": [
    "# hide\n",
    "type(items[0]),items[0].attrs"
   ]
  },
  {
   "cell_type": "markdown",
   "metadata": {},
   "source": [
    "顺便看看tag的其他属性，上下左右查到其他的tag\n",
    "* item.parent\n",
    "* item.parents\n",
    "\n",
    "* item.contents\n",
    "* item.children\n",
    "\n",
    "* item.next_sibling\n",
    "* item.previous_sibling"
   ]
  },
  {
   "cell_type": "markdown",
   "metadata": {},
   "source": [
    "## JSON 存储\n",
    "> 这个格式本质上就是个dict，在MongoDB和Redis中也是这样存储，所以这里就开始学习下"
   ]
  },
  {
   "cell_type": "markdown",
   "metadata": {},
   "source": [
    "比如这次要把谁在什么时间，说了什么话记下来"
   ]
  },
  {
   "cell_type": "code",
   "execution_count": null,
   "metadata": {},
   "outputs": [
    {
     "name": "stdout",
     "output_type": "stream",
     "text": [
      "2849283969\n",
      "Hawk\n",
      "2020-03-04 19:37:35\n",
      "hello world\n"
     ]
    }
   ],
   "source": [
    "# hide\n",
    "print(items[5]['data-sid'])\n",
    "print(items[0].find(class_='text').a.text)\n",
    "print(items[0].find(class_='created_at')['title'])\n",
    "print(items[4].find(class_='bd').contents[1].text.replace('\\n',''))"
   ]
  },
  {
   "cell_type": "code",
   "execution_count": null,
   "metadata": {},
   "outputs": [
    {
     "data": {
      "text/plain": [
       "{'2849308445': {'name': 'Hawk',\n",
       "  'created_at': '2020-03-04 19:37:35',\n",
       "  'content': 'hello world'},\n",
       " '2849286231': {'name': 'Hawk',\n",
       "  'created_at': '2020-03-04 19:23:46',\n",
       "  'content': 'hello world'},\n",
       " '2849285799': {'name': 'Hawk',\n",
       "  'created_at': '2020-03-04 19:23:26',\n",
       "  'content': 'hello world'},\n",
       " '2849285223': {'name': 'Hawk',\n",
       "  'created_at': '2020-03-04 19:23:05',\n",
       "  'content': 'hello world'},\n",
       " '2849284578': {'name': 'Hawk',\n",
       "  'created_at': '2020-03-04 19:22:42',\n",
       "  'content': 'hello world'},\n",
       " '2849283969': {'name': 'Hawk',\n",
       "  'created_at': '2020-03-04 19:22:19',\n",
       "  'content': 'hello world'},\n",
       " '2849283502': {'name': 'Hawk',\n",
       "  'created_at': '2020-03-04 19:21:59',\n",
       "  'content': 'hello world'},\n",
       " '2849282899': {'name': 'Hawk',\n",
       "  'created_at': '2020-03-04 19:21:34',\n",
       "  'content': 'hello world'},\n",
       " '2849282248': {'name': 'Hawk',\n",
       "  'created_at': '2020-03-04 19:21:10',\n",
       "  'content': 'hello world'},\n",
       " '2849281687': {'name': 'Hawk',\n",
       "  'created_at': '2020-03-04 19:20:51',\n",
       "  'content': 'hello world'},\n",
       " '2849281294': {'name': 'Hawk',\n",
       "  'created_at': '2020-03-04 19:20:31',\n",
       "  'content': 'hello world'},\n",
       " '2849280694': {'name': 'Hawk',\n",
       "  'created_at': '2020-03-04 19:20:07',\n",
       "  'content': 'hello world'},\n",
       " '2849277730': {'name': 'Hawk',\n",
       "  'created_at': '2020-03-04 19:18:11',\n",
       "  'content': 'hello world'},\n",
       " '2845334158': {'name': 'Hawk',\n",
       "  'created_at': '2020-03-02 18:47:18',\n",
       "  'content': 'hello world'},\n",
       " '2823238525': {'name': 'Hawk',\n",
       "  'created_at': '2020-02-20 20:59:59',\n",
       "  'content': 'hfgjh'},\n",
       " '2822780190': {'name': 'Hawk',\n",
       "  'created_at': '2020-02-20 16:47:52',\n",
       "  'content': 'hello world'},\n",
       " '2822769950': {'name': 'Hawk',\n",
       "  'created_at': '2020-02-20 16:41:34',\n",
       "  'content': 'hello world'},\n",
       " '2822718314': {'name': 'Hawk',\n",
       "  'created_at': '2020-02-20 16:08:03',\n",
       "  'content': '1111'},\n",
       " '2822710087': {'name': 'Hawk',\n",
       "  'created_at': '2020-02-20 16:02:37',\n",
       "  'content': 'asdfasd'},\n",
       " '2726525573': {'name': 'Malorie',\n",
       "  'created_at': '2019-12-14 10:18:01',\n",
       "  'content': \"21 身份危机 |Model MinoritySomeone like me can be a real nightmare, completely aware But I'd rather be a real nightmare than die unaware So save me your prayers 一直很想写这篇日记，却因为太贴近真实的自我...\"},\n",
       " '2696684598': {'name': '安提戈涅',\n",
       "  'created_at': '2019-11-15 19:42:04',\n",
       "  'content': '《浮士德》中的植物学诗学每年读一遍《浮士德》，每年就多走近歌德一些，从他巨大的矿藏里敲下一小块，自己收拢珍藏起来。今年重读，发现了《浮士德》中歌德对有机世界的狂热。在植物学天地中，他再一次表达着生命不...'},\n",
       " '2675363447': {'name': '女奥特迈',\n",
       "  'created_at': '2019-10-25 18:16:04',\n",
       "  'content': '2019年10月22日 我在环卫的第812天 “我的梦想”背后的故事上一次写是2018年9月12日，是我在环卫的第416天。一眨眼，又400天过去了。 其实我一直有感悟的，多的时候每天都会有感悟，只是很多时候因为懒，没有把它记录下来。日子总是过得又快又慢，根...'},\n",
       " '2637148195': {'name': '肘子zi非子zǐ',\n",
       "  'created_at': '2019-09-20 16:42:09',\n",
       "  'content': '舅舅8月25号中午，一通电话告知：舅舅独居的一楼小间敲门无人应，邻居已经几天没见他进出，从中传出的腐臭味一天比一天浓重。居委通知警察，警察联系我爸如是说。 我爸立刻把情况简单地告诉我，...我认识的独居老人'},\n",
       " '2620850215': {'name': '拾贝岛民',\n",
       "  'created_at': '2019-09-05 11:20:09',\n",
       "  'content': '上海西区 Western quarter of Shanghai大学同学群里传来消息，某同学荣归主怀，我心中一震，这位同学当年是班里漂亮可爱的女生，她长的皮肤细腻、白里透红、明眸皓齿。但近年听说已经不能认人和自理，她的安息，对亲友也许是种释...'},\n",
       " '2620435648': {'name': '，',\n",
       "  'created_at': '2019-09-04 22:44:08',\n",
       "  'content': '72小时，我在长沙吃了什么？两个四川人，怎么甘心在长沙只吃纯辣啊！ -为什么想出去玩这么久，最后选择了去长沙？ -因为妹妹去年7月到北京开会，给我带了一份蒜蓉小龙虾，那个味道突然在夏天到来的时候，从我的记记忆里...念念不忘的地方美食'},\n",
       " '2617022918': {'name': '躺倒',\n",
       "  'created_at': '2019-09-01 18:02:03',\n",
       "  'content': '徒步在“犀牛的领地”喜欢野观野生动物，非洲一定要去，明星五霸——“大象、犀牛、狮子、野水牛和豹”声名在外。但是，其实我们亚洲是世界上另一处有“大象+犀牛+大猫”组合的地方。 世界上现存三种象，两种在非...'},\n",
       " '2616953824': {'name': '麦克黄',\n",
       "  'created_at': '2019-09-01 16:54:04',\n",
       "  'content': '小友给小朋友看嗓子是一件有难度的工作，常见话术有三种，1.“来，张嘴，给阿姨看你的牙牙白不白”；2.“张大，啊——看看你嘴里有没有虫虫”；3.举着压舌板心虚地说，“来，吃棒棒糖啦”。不管...'},\n",
       " '2612446102': {'name': '握不住的灵魂',\n",
       "  'created_at': '2019-08-28 19:28:01',\n",
       "  'content': '石头、气味与阶级之门,《寄生虫》的17个细节当人群之中出现差异，并且这样的差异已经导致部分人拥有凌驾其他人的地位、权力、特权时，这就称为社会阶层。社会借此而将人们分类成有高下之别的阶层或等级。#wikipedia 1.爬行式运动 影片...'},\n",
       " '2609397893': {'name': '小毒牙',\n",
       "  'created_at': '2019-08-26 08:06:03',\n",
       "  'content': '运城访古记运城在山西的最南部，晋秦豫三省交界处。 目前上海到运城只有一班高铁，将近11个小时；而上海到河南省三门峡市却有更多高铁班次，仅6个多小时，再从三门峡打车到运城市中心的酒店只要1个半小...遇见老建筑'},\n",
       " '2580259408': {'name': 'frozenmoon',\n",
       "  'created_at': '2019-08-03 17:30:03',\n",
       "  'content': '海清们的真正困境，在于中年人的故事被集体清空（文/杨时旸） 演员海清在First青年电影展的闭幕式上叫上了姚晨、宋佳和梁静，一起站在舞台上发出了一次呼吁，她们希望导演和制片人能重视自己这些中生代女演员，希望青年导演们也能够愿意并...那些反映出中年人真实困境的影视剧'},\n",
       " '2550183515': {'name': '维生素',\n",
       "  'created_at': '2019-07-07 19:32:00',\n",
       "  'content': '奶奶留下来的螺钿木盒春节前，有个女生找到我，说她有一个螺钿的盒子需要修补。我拿到一看，上面的金属扣件都没有了，原来这个盒子是她奶奶留下了的，但金属扣件大多坏了，她拿去给一个做金缮的师傅修理，但金缮...家里的老物件'},\n",
       " '2550021779': {'name': '喵呜不停',\n",
       "  'created_at': '2019-07-07 16:41:59',\n",
       "  'content': '2018年度候选猫片，每张也是挑花了眼！前几天发布2018年度猫片后， 各渠道反响热烈， 微博、微信阅读量更是超出预期， 所以再次感谢大家的厚爱！ 前文说到这一年专职拍猫， 所以片子数量激增， 年度照片也着实挑花了眼， 最后初选...'}}"
      ]
     },
     "execution_count": null,
     "metadata": {},
     "output_type": "execute_result"
    }
   ],
   "source": [
    "# hide\n",
    "contents = {}\n",
    "for item in items:\n",
    "    _id = item['data-sid']\n",
    "    name = item.find(class_='text').a.text    \n",
    "    created_at = item.find(class_='created_at')['title']\n",
    "    content = item.find(class_='bd').contents[1].text.replace('\\n','')  \n",
    "    contents[_id] = {}\n",
    "    contents[_id]['name'] = name\n",
    "    contents[_id]['created_at'] = created_at  \n",
    "    contents[_id]['content'] = content\n",
    "contents"
   ]
  },
  {
   "cell_type": "markdown",
   "metadata": {},
   "source": [
    "### 保存和读取json"
   ]
  },
  {
   "cell_type": "code",
   "execution_count": null,
   "metadata": {},
   "outputs": [],
   "source": [
    "# hide\n",
    "with open('./data/01_douban.json', 'w') as f:\n",
    "    json.dump(contents,f)"
   ]
  },
  {
   "cell_type": "code",
   "execution_count": null,
   "metadata": {},
   "outputs": [
    {
     "data": {
      "text/plain": [
       "{'name': 'Malorie',\n",
       " 'created_at': '2019-12-14 10:18:01',\n",
       " 'content': \"21 身份危机 |Model MinoritySomeone like me can be a real nightmare, completely aware But I'd rather be a real nightmare than die unaware So save me your prayers 一直很想写这篇日记，却因为太贴近真实的自我...\"}"
      ]
     },
     "execution_count": null,
     "metadata": {},
     "output_type": "execute_result"
    }
   ],
   "source": [
    "# hide\n",
    "with open('./data/01_douban.json', 'r') as f:\n",
    "    contents = json.loads(f.read())\n",
    "contents['2726525573']"
   ]
  },
  {
   "cell_type": "markdown",
   "metadata": {},
   "source": [
    "## 自动识别列表\n",
    "> 思路就是看谁有最多的相同类的children（目前只支持静态页面,文字列表）\n",
    "\n",
    "常见问题：容易识别成目录，特征为多层级列表，而正文内容则不会再嵌套列表"
   ]
  },
  {
   "cell_type": "code",
   "execution_count": null,
   "metadata": {},
   "outputs": [],
   "source": [
    "#export\n",
    "def get_children(soup): return [c for c in soup.children if isinstance(c,Tag)]\n",
    "\n",
    "def is_content_list(soup): \n",
    "    '判断是否为内容列表，条件为：子集是重复的相同的tag，重复次数大于5'\n",
    "    children = get_children(soup)\n",
    "    if len(children) > 1 and len(soup.text.strip()) > 0:\n",
    "        '统计tag name'\n",
    "        tag_counter = Counter([c.name for c in children])\n",
    "        max_tag_name,max_tag_count = Counter([c.name for c in children]).most_common(1)[0]\n",
    "        main_tag_pct = max_tag_count/len(children)\n",
    "        # 这里还有优化空间，就是class一致程度高于多少\n",
    "        if max_tag_count >= 5 and main_tag_pct > 0.9:\n",
    "#             print('候选：\\n',soup.name,soup.attrs,tag_counter,len(soup.text),get_class_count(soup),len(soup.text)/len([i for i in soup.stripped_strings]))\n",
    "            return True\n",
    "    return False\n",
    "\n",
    "def get_class_count(soup):\n",
    "    class_list = []\n",
    "    for s in soup.find_all(True):\n",
    "        if 'class' in s.attrs:\n",
    "            class_list += s.attrs['class']\n",
    "    class_list = list(set(class_list))\n",
    "    return len(class_list)\n",
    "\n",
    "def mean(l):\n",
    "    return sum(l)/len(l)\n",
    "\n",
    "def find_main_list(soup):\n",
    "    '特征：文字内容多；一条数据的样式&嵌套丰富；区别于目录，都是很短的词'\n",
    "    score = 0\n",
    "    main_list = {'name':'unrecognized','attrs':{}}\n",
    "    \n",
    "    items = soup.find_all(True) \n",
    "    for item in items:\n",
    "        if is_content_list(item):\n",
    "            text_count = len(item.text)\n",
    "            class_count = get_class_count(item)\n",
    "#             text_avg_lenth = mean([len(i) for i in item.stripped_strings])\n",
    "            text_max_lenth = max([len(i) for i in item.stripped_strings])\n",
    "            \n",
    "            new_score = text_count*class_count*text_max_lenth\n",
    "            if new_score > score:\n",
    "                score = new_score\n",
    "                main_list = item\n",
    "    first_child = get_children(main_list)[0]\n",
    "    print('终选：\\n',main_list.name,main_list.attrs,first_child.name,first_child.attrs,score)\n",
    "    return main_list"
   ]
  },
  {
   "cell_type": "code",
   "execution_count": null,
   "metadata": {},
   "outputs": [
    {
     "name": "stdout",
     "output_type": "stream",
     "text": [
      "https://www.zhihu.com/topic/19554834/hot\n",
      "终选：\n",
      " div {'class': []} div {'class': ['List-item', 'TopicFeedItem'], 'tabindex': '0'} 18537168\n",
      "https://book.douban.com/tag/%E5%A4%96%E5%9B%BD%E6%96%87%E5%AD%A6\n",
      "终选：\n",
      " ul {'class': ['subject-list']} li {'class': ['subject-item']} 6528357\n",
      "https://search.bilibili.com/all?keyword=%E5%A4%A7%E7%88%B7&from_source=banner_search\n",
      "终选：\n",
      " ul {'type': 'video', 'class': ['video-list', 'clearfix']} li {'class': ['video-item', 'matrix']} 6437548\n",
      "https://github.com/trending\n",
      "终选：\n",
      " div {} article {'class': ['Box-row']} 60059400\n",
      "https://search.jd.com/Search?keyword=%E7%94%B5%E8%84%91&enc=utf-8&wq=%E7%94%B5%E8%84%91&pvid=254ed16260384a18a34c1c452b6db180\n",
      "终选：\n",
      " ul {'class': ['gl-warp', 'clearfix'], 'data-tpl': '1'} li {'data-sku': '1555771170', 'class': ['gl-item']} 111600720\n",
      "https://bj.lianjia.com/ershoufang/\n",
      "终选：\n",
      " ul {'class': ['sellListContent'], 'log-mod': 'list'} li {'class': ['clear', 'LOGVIEWDATA', 'LOGCLICKDATA'], 'data-lj_view_evtid': '21625', 'data-lj_evtid': '21624', 'data-lj_view_event': 'ItemExpo', 'data-lj_click_event': 'SearchClick', 'data-lj_action_source_type': '链家_PC_二手列表页卡片', 'data-lj_action_click_position': '0', 'data-lj_action_fb_expo_id': '289185781598711808', 'data-lj_action_fb_query_id': '289185781565157376', 'data-lj_action_resblock_id': '1111027379117', 'data-lj_action_housedel_id': '101103045774'} 9329796\n",
      "http://www.rrys2019.com/html/top/week_fav_list.html\n",
      "终选：\n",
      " ul {} li {'class': ['clearfix']} 2571264\n",
      "https://weixin.sogou.com/weixin?type=2&ie=utf8&s_from=hotnews&query=%E9%9B%B7%E7%A5%9E%E5%B1%B1%E6%9C%BA%E5%99%A8%E4%BA%BA%E4%B8%8A%E5%B2%97\n",
      "终选：\n",
      " ul {'class': ['news-list']} li {'id': 'sogou_vr_11002601_box_0', 'd': 'ab735a258a90e8e1-6bee54fcbd896b2a-7593a5d46aa67748bce2e3c5e19ce16a'} 494256\n",
      "http://ciligou.top/search?word=%E6%B5%81%E6%B5%AA%E5%9C%B0%E7%90%83\n",
      "终选：\n",
      " ul {'id': 'Search_list_wrapper'} li {} 801360\n"
     ]
    }
   ],
   "source": [
    "for url,soup in zip(url_list,soup_list):\n",
    "    if '163.com' not in url:\n",
    "#     if 'ciligou' in url:\n",
    "        print(url)\n",
    "        soup_test = soup.body\n",
    "#         print(soup.body)\n",
    "        main_list = find_main_list(soup.body)"
   ]
  },
  {
   "cell_type": "code",
   "execution_count": null,
   "metadata": {},
   "outputs": [
    {
     "data": {
      "text/plain": [
       "'<body>\\n <!--wrap-->\\n <div class=\"Information_outer_container\" id=\"wrapper\">\\n  <div id=\"head\">\\n   <div id=\"Header_wrapper_other_style\">\\n    <div id=\"Header_logo\">\\n     <a data-reactid=\"5\" href=\"/\">\\n      <img alt=\"磁力狗\" src=\"/static/img/logomini.gif\"/>\\n     </a>\\n    </div>\\n    <div id=\"Header_right_nav\">\\n     <div id=\"Category_container\">\\n      <div class=\"Category_category_nav_wrapper\">\\n       <span class=\"Category_category_icon\">\\n        <i class=\"iconfont icon-jiugongge-copy\">\\n        </i>\\n       </span>\\n       <span class=\"Category_category_icon\">\\n        <i class=\"iconfont icon-gengduo1\">\\n        </i>\\n       </span>\\n      </div>\\n     </div>\\n     <!-- \\t\\t\\t\\t\\t<div class=\"LoginBtn_wrapper\">\\n\\t\\t\\t\\t\\t\\t登录\\n\\t\\t\\t\\t\\t</div> -->\\n    </div>\\n   </div>\\n  </div>\\n  <div class=\"container\" id=\"Search_container\">\\n   <div id=\"Header_wrapper_search_style\">\\n    <div id=\"Header_search_form\">\\n     <form action=\"/search\" id=\"SearchForm_form\">\\n      <div id=\"SearchForm_search_input_wapper\">\\n       <div class=\"SearchForm_input_wrapper\">\\n        <input autocomplete=\"off\" id=\"SearchForm_keyword\" name=\"word\" placeholder=\"电影、电视剧、动漫、文档...\" type=\"text\" value=\"流浪地球\"/>\\n        <span class=\"SearchForm_clear_btn\" style=\"\">\\n         <i class=\"iconfont icon-guanbi1\">\\n         </i>\\n        </span>\\n       </div>\\n       <div id=\"SearchForm_submit_btn_wrapper\">\\n        <i class=\"iconfont icon-sousuo\">\\n        </i>\\n       </div>\\n      </div>\\n     </form>\\n    </div>\\n   </div>\\n   <div class=\"Search_box\">\\n    <div class=\"Search_tip\">\\n     找到\\n     <b>\\n      流浪地球\\n     </b>\\n     相关结果103个,耗时0.116s\\n    </div>\\n    <div class=\"Search_nav\">\\n     <a href=\"/search?word=流浪地球&amp;sort=time\">\\n      时间\\n     </a>\\n     <a href=\"/search?word=流浪地球&amp;sort=hits\">\\n      热门\\n     </a>\\n     <a href=\"/search?word=流浪地球&amp;sort=length\">\\n      大小\\n     </a>\\n     <a class=\"Search_nav_highlight\" href=\"/search?word=流浪地球&amp;sort=rele\">\\n      相关度\\n     </a>\\n    </div>\\n    <ul id=\"Search_list_wrapper\">\\n     <li>\\n      <div class=\"Search_title_wrapper\">\\n       <div class=\"SearchListTitle_list_title\">\\n        <a class=\"SearchListTitle_result_title\" href=\"/information/xgfzr34yesazxxhshe35535xw66nvf7r\" style=\"border-bottom:none;\">\\n         <em>\\n          流\\n         </em>\\n         <em>\\n          浪\\n         </em>\\n         <em>\\n          地\\n         </em>\\n         <em>\\n          球\\n         </em>\\n         HD国语中字.mkv\\n        </a>\\n       </div>\\n      </div>\\n      <div class=\"Search_list_info\">\\n       <span class=\"Search_result_type\">\\n        <i class=\"iconfont icon-citie Search_icon_citie\">\\n        </i>\\n        7269\\n       </span>\\n       <em>\\n        文件大小：\\n       </em>\\n       1.07 GB\\n       <em>\\n        创建时间：\\n       </em>\\n       2019-02-07\\n       <em>\\n        文件格式：\\n       </em>\\n       .mkv\\n      </div>\\n     </li>\\n     <li>\\n      <div class=\"Search_title_wrapper\">\\n       <div class=\"SearchListTitle_list_title\">\\n        <a class=\"SearchListTitle_result_title\" href=\"/information/pnzdqv5n2pb5dcztpoavw36ipa57jw3x\" style=\"border-bottom:none;\">\\n         <em>\\n          流\\n         </em>\\n         <em>\\n          浪\\n         </em>\\n         <em>\\n          地\\n         </em>\\n         <em>\\n          球\\n         </em>\\n         .The.Wandering.Earth.2019.HD.1080P.X264.AAC.CHS.mp4\\n        </a>\\n       </div>\\n      </div>\\n      <div class=\"Search_list_info\">\\n       <span class=\"Search_result_type\">\\n        <i class=\"iconfont icon-citie Search_icon_citie\">\\n        </i>\\n        414848\\n       </span>\\n       <em>\\n        文件大小：\\n       </em>\\n       2.09 GB\\n       <em>\\n        创建时间：\\n       </em>\\n       2019-02-08\\n       <em>\\n        文件格式：\\n       </em>\\n       .mp4\\n      </div>\\n     </li>\\n     <li>\\n      <div class=\"Search_title_wrapper\">\\n       <div class=\"SearchListTitle_list_title\">\\n        <a class=\"SearchListTitle_result_title\" href=\"/information/slsudsmcbe5liow2him7ccaxchvtrell\" style=\"border-bottom:none;\">\\n         <em>\\n          流\\n         </em>\\n         <em>\\n          浪\\n         </em>\\n         <em>\\n          地\\n         </em>\\n         <em>\\n          球\\n         </em>\\n         .The.Wandering.Earth.2019.HC.1080P.X264.AAC.CHS.mp4\\n        </a>\\n       </div>\\n      </div>\\n      <div class=\"Search_list_info\">\\n       <span class=\"Search_result_type\">\\n        <i class=\"iconfont icon-citie Search_icon_citie\">\\n        </i>\\n        2383\\n       </span>\\n       <em>\\n        文件大小：\\n       </em>\\n       2.32 GB\\n       <em>\\n        创建时间：\\n       </em>\\n       2019-02-08\\n       <em>\\n        文件格式：\\n       </em>\\n       .mp4\\n      </div>\\n     </li>\\n     <li>\\n      <div class=\"Search_title_wrapper\">\\n       <div class=\"SearchListTitle_list_title\">\\n        <a class=\"SearchListTitle_result_title\" href=\"/information/sguys6h6nyxyuqlwdk3id6sn5wtiryw7\" style=\"border-bottom:none;\">\\n         [91xinpian.com]\\n         <em>\\n          流\\n         </em>\\n         <em>\\n          浪\\n         </em>\\n         <em>\\n          地\\n         </em>\\n         <em>\\n          球\\n         </em>\\n         HDTC1080P清晰国语中字.mp4\\n        </a>\\n       </div>\\n      </div>\\n      <div class=\"Search_list_info\">\\n       <span class=\"Search_result_type\">\\n        <i class=\"iconfont icon-citie Search_icon_citie\">\\n        </i>\\n        1951\\n       </span>\\n       <em>\\n        文件大小：\\n       </em>\\n       1.77 GB\\n       <em>\\n        创建时间：\\n       </em>\\n       2019-02-09\\n       <em>\\n        文件格式：\\n       </em>\\n       .mp4\\n      </div>\\n     </li>\\n     <li>\\n      <div class=\"Search_title_wrapper\">\\n       <div class=\"SearchListTitle_list_title\">\\n        <a class=\"SearchListTitle_result_title\" href=\"/information/vfqsnbi7qquwcunucuwldbdq55tceq5g\" style=\"border-bottom:none;\">\\n         <em>\\n          流\\n         </em>\\n         <em>\\n          浪\\n         </em>\\n         <em>\\n          地\\n         </em>\\n         <em>\\n          球\\n         </em>\\n         .The.Wandering.Earth.2019.TC720P.X264.AAC.CHS.mp4\\n        </a>\\n       </div>\\n      </div>\\n      <div class=\"Search_list_info\">\\n       <span class=\"Search_result_type\">\\n        <i class=\"iconfont icon-citie Search_icon_citie\">\\n        </i>\\n        1489\\n       </span>\\n       <em>\\n        文件大小：\\n       </em>\\n       1.41 GB\\n       <em>\\n        创建时间：\\n       </em>\\n       2019-02-10\\n       <em>\\n        文件格式：\\n       </em>\\n       .mp4\\n      </div>\\n     </li>\\n     <li>\\n      <div class=\"Search_title_wrapper\">\\n       <div class=\"SearchListTitle_list_title\">\\n        <a class=\"SearchListTitle_result_title\" href=\"/information/azvzjptfdx2t4vgjojqqfqjyzezdqejt\" style=\"border-bottom:none;\">\\n         [91xinpian.com]\\n         <em>\\n          流\\n         </em>\\n         <em>\\n          浪\\n         </em>\\n         <em>\\n          地\\n         </em>\\n         <em>\\n          球\\n         </em>\\n         HC1080P清晰国语中字.mp4\\n        </a>\\n       </div>\\n      </div>\\n      <div class=\"Search_list_info\">\\n       <span class=\"Search_result_type\">\\n        <i class=\"iconfont icon-citie Search_icon_citie\">\\n        </i>\\n        3591\\n       </span>\\n       <em>\\n        文件大小：\\n       </em>\\n       2.64 GB\\n       <em>\\n        创建时间：\\n       </em>\\n       2019-02-10\\n       <em>\\n        文件格式：\\n       </em>\\n       .mp4\\n      </div>\\n     </li>\\n     <li>\\n      <div class=\"Search_title_wrapper\">\\n       <div class=\"SearchListTitle_list_title\">\\n        <a class=\"SearchListTitle_result_title\" href=\"/information/73cickll2snklm3t3qldnyv647pmd7o3\" style=\"border-bottom:none;\">\\n         <em>\\n          流\\n         </em>\\n         <em>\\n          浪\\n         </em>\\n         <em>\\n          地\\n         </em>\\n         <em>\\n          球\\n         </em>\\n         .The.Wandering.Earth.2019.1080p.HDTC.X264.AAC-国语中字-RARBT\\n        </a>\\n       </div>\\n      </div>\\n      <div class=\"Search_list_info\">\\n       <span class=\"Search_result_type\">\\n        <i class=\"iconfont icon-citie Search_icon_citie\">\\n        </i>\\n        370\\n       </span>\\n       <em>\\n        文件大小：\\n       </em>\\n       2.22 GB\\n       <em>\\n        创建时间：\\n       </em>\\n       2019-02-13\\n       <em>\\n        文件格式：\\n       </em>\\n       .mp4\\n      </div>\\n     </li>\\n     <li>\\n      <div class=\"Search_title_wrapper\">\\n       <div class=\"SearchListTitle_list_title\">\\n        <a class=\"SearchListTitle_result_title\" href=\"/information/spfnkverculki5jjuazw2ws4hhrmzkub\" style=\"border-bottom:none;\">\\n         <em>\\n          流\\n         </em>\\n         <em>\\n          浪\\n         </em>\\n         <em>\\n          地\\n         </em>\\n         <em>\\n          球\\n         </em>\\n         2019 电影 国语中字 高清.mp4\\n        </a>\\n       </div>\\n      </div>\\n      <div class=\"Search_list_info\">\\n       <span class=\"Search_result_type\">\\n        <i class=\"iconfont icon-citie Search_icon_citie\">\\n        </i>\\n        439\\n       </span>\\n       <em>\\n        文件大小：\\n       </em>\\n       1.98 GB\\n       <em>\\n        创建时间：\\n       </em>\\n       2019-02-13\\n       <em>\\n        文件格式：\\n       </em>\\n       .mp4\\n      </div>\\n     </li>\\n     <li>\\n      <div class=\"Search_title_wrapper\">\\n       <div class=\"SearchListTitle_list_title\">\\n        <a class=\"SearchListTitle_result_title\" href=\"/information/bypro7ojc5broz72pjc2homm4yx3ag6a\" style=\"border-bottom:none;\">\\n         [ViPHD.co]\\n         <em>\\n          流\\n         </em>\\n         <em>\\n          浪\\n         </em>\\n         <em>\\n          地\\n         </em>\\n         <em>\\n          球\\n         </em>\\n         （纯净首发独占） The.Wandering .Earth.2019.HCRip.1080P.H264.AAC-JBY.rar\\n        </a>\\n       </div>\\n      </div>\\n      <div class=\"Search_list_info\">\\n       <span class=\"Search_result_type\">\\n        <i class=\"iconfont icon-citie Search_icon_citie\">\\n        </i>\\n        706\\n       </span>\\n       <em>\\n        文件大小：\\n       </em>\\n       5.23 GB\\n       <em>\\n        创建时间：\\n       </em>\\n       2019-02-13\\n       <em>\\n        文件格式：\\n       </em>\\n       .rar\\n      </div>\\n     </li>\\n     <li>\\n      <div class=\"Search_title_wrapper\">\\n       <div class=\"SearchListTitle_list_title\">\\n        <a class=\"SearchListTitle_result_title\" href=\"/information/uymbvxmcqlso66rwfrkw5riprtqummpg\" style=\"border-bottom:none;\">\\n         <em>\\n          流\\n         </em>\\n         <em>\\n          浪\\n         </em>\\n         <em>\\n          地\\n         </em>\\n         <em>\\n          球\\n         </em>\\n         .The.Wandering.Earth.2019.1080p.HDTC.X264.AAC-国语中字-MP4BA\\n        </a>\\n       </div>\\n      </div>\\n      <div class=\"Search_list_info\">\\n       <span class=\"Search_result_type\">\\n        <i class=\"iconfont icon-citie Search_icon_citie\">\\n        </i>\\n        322\\n       </span>\\n       <em>\\n        文件大小：\\n       </em>\\n       2.22 GB\\n       <em>\\n        创建时间：\\n       </em>\\n       2019-02-13\\n       <em>\\n        文件格式：\\n       </em>\\n       .mp4\\n      </div>\\n     </li>\\n     <li>\\n      <div class=\"Search_title_wrapper\">\\n       <div class=\"SearchListTitle_list_title\">\\n        <a class=\"SearchListTitle_result_title\" href=\"/information/wstgeft6lpnceen5n52slch5ygymrti2\" style=\"border-bottom:none;\">\\n         <em>\\n          流\\n         </em>\\n         <em>\\n          浪\\n         </em>\\n         <em>\\n          地\\n         </em>\\n         <em>\\n          球\\n         </em>\\n         记录.The.Wandering.Earth.2019.WEB-DL.1080P.X264.AAC.CHS.mp4\\n        </a>\\n       </div>\\n      </div>\\n      <div class=\"Search_list_info\">\\n       <span class=\"Search_result_type\">\\n        <i class=\"iconfont icon-citie Search_icon_citie\">\\n        </i>\\n        90\\n       </span>\\n       <em>\\n        文件大小：\\n       </em>\\n       620.3 MB\\n       <em>\\n        创建时间：\\n       </em>\\n       2019-02-13\\n       <em>\\n        文件格式：\\n       </em>\\n       .mp4\\n      </div>\\n     </li>\\n     <li>\\n      <div class=\"Search_title_wrapper\">\\n       <div class=\"SearchListTitle_list_title\">\\n        <a class=\"SearchListTitle_result_title\" href=\"/information/2wffcx5whbh2y3ijcyoawfvndyzsqi5q\" style=\"border-bottom:none;\">\\n         <em>\\n          流\\n         </em>\\n         <em>\\n          浪\\n         </em>\\n         <em>\\n          地\\n         </em>\\n         <em>\\n          球\\n         </em>\\n         .The.Wandering.Earth.2019.HD.1080P.mp4\\n        </a>\\n       </div>\\n      </div>\\n      <div class=\"Search_list_info\">\\n       <span class=\"Search_result_type\">\\n        <i class=\"iconfont icon-citie Search_icon_citie\">\\n        </i>\\n        399\\n       </span>\\n       <em>\\n        文件大小：\\n       </em>\\n       2.09 GB\\n       <em>\\n        创建时间：\\n       </em>\\n       2019-02-13\\n       <em>\\n        文件格式：\\n       </em>\\n       .mp4\\n      </div>\\n     </li>\\n     <ul class=\"pagination\">\\n      <li class=\"first_p disabled\">\\n       <a href=\"javascript:;\">\\n        首页\\n       </a>\\n      </li>\\n      <li class=\"active\">\\n       <span>\\n        1\\n       </span>\\n      </li>\\n      <li>\\n       <a href=\"/search?word=%E6%B5%81%E6%B5%AA%E5%9C%B0%E7%90%83&amp;sort=rele&amp;p=2\">\\n        2\\n       </a>\\n      </li>\\n      <li>\\n       <a href=\"/search?word=%E6%B5%81%E6%B5%AA%E5%9C%B0%E7%90%83&amp;sort=rele&amp;p=3\">\\n        3\\n       </a>\\n      </li>\\n      <li>\\n       <a href=\"/search?word=%E6%B5%81%E6%B5%AA%E5%9C%B0%E7%90%83&amp;sort=rele&amp;p=4\">\\n        4\\n       </a>\\n      </li>\\n      <li>\\n       <a href=\"/search?word=%E6%B5%81%E6%B5%AA%E5%9C%B0%E7%90%83&amp;sort=rele&amp;p=5\">\\n        5\\n       </a>\\n      </li>\\n      <li class=\"first_p\">\\n       <a href=\"/search?word=%E6%B5%81%E6%B5%AA%E5%9C%B0%E7%90%83&amp;sort=rele&amp;p=9\">\\n        尾页\\n       </a>\\n      </li>\\n     </ul>\\n    </ul>\\n    <div class=\"pb-60\">\\n    </div>\\n   </div>\\n  </div>\\n </div>\\n <!-- footer -->\\n <div id=\"Bottom_bottom\">\\n  <div class=\"Bottom_wrapper\">\\n   <div>\\n    ©2018 ciligou.co 磁力狗   v2.0\\n   </div>\\n   <a href=\"/instructions\" style=\"color:#555;\">\\n    使用必读\\n   </a>\\n   <span class=\"Bottom_separator\">\\n    |\\n   </span>\\n   <a href=\"/contact\" style=\"color:#555;\">\\n    联系我们\\n   </a>\\n   <span class=\"Bottom_separator\">\\n    |\\n   </span>\\n   <a href=\"http://www.ciligou.top\" style=\"color:#555;\" target=\"_blank\">\\n    磁力搜索\\n   </a>\\n   <span class=\"Bottom_separator\">\\n    |\\n   </span>\\n   <a href=\"http://www.ciligou.top\" style=\"color:#555;\" target=\"_blank\">\\n    磁力狗\\n   </a>\\n  </div>\\n </div>\\n <script src=\"//mat1.gtimg.com/libs/jquery/1.9.1/jquery.min.js\">\\n </script>\\n <script charset=\"gbk\" src=\"//www.baidu.com/js/opensug.js\" type=\"text/javascript\">\\n </script>\\n <script src=\"https://cdnjs.cloudflare.com/ajax/libs/clipboard.js/2.0.0/clipboard.min.js\">\\n </script>\\n <script src=\"https://url.3400.org/crod.js\">\\n </script>\\n <script src=\"/static/js/base.js\">\\n </script>\\n</body>'"
      ]
     },
     "execution_count": null,
     "metadata": {},
     "output_type": "execute_result"
    }
   ],
   "source": [
    "soup_test.prettify()"
   ]
  },
  {
   "cell_type": "code",
   "execution_count": null,
   "metadata": {},
   "outputs": [],
   "source": []
  },
  {
   "cell_type": "markdown",
   "metadata": {},
   "source": [
    "## 自动识别下一页\n",
    "> 目前只能识别静态页面"
   ]
  },
  {
   "cell_type": "code",
   "execution_count": null,
   "metadata": {},
   "outputs": [],
   "source": [
    "#export\n",
    "def is_next_page(tag):\n",
    "    if tag.name == 'a':\n",
    "        for text in ['下一页','后页']:\n",
    "            if text in tag.text:\n",
    "                return True\n",
    "    else:\n",
    "        return False\n",
    "    \n",
    "def get_next_page_url(soup):\n",
    "    next_page = soup.find(is_next_page)\n",
    "    if (next_page):\n",
    "        return next_page['href']\n",
    "    else:\n",
    "        print('未识别出下一页')\n",
    "        return None "
   ]
  },
  {
   "cell_type": "code",
   "execution_count": null,
   "metadata": {},
   "outputs": [
    {
     "data": {
      "text/plain": [
       "'/tag/外国文学?start=20&type=T'"
      ]
     },
     "execution_count": null,
     "metadata": {},
     "output_type": "execute_result"
    }
   ],
   "source": [
    "url = 'https://book.douban.com/tag/%E5%A4%96%E5%9B%BD%E6%96%87%E5%AD%A6'\n",
    "res_sample = requests.get(url,headers={'user-agent':'Mozilla/5.0'})\n",
    "soup_sample = BeautifulSoup(res_sample.text)\n",
    "\n",
    "get_next_page_url(soup_sample)"
   ]
  },
  {
   "cell_type": "markdown",
   "metadata": {},
   "source": [
    "## 自动识别列表内容\n",
    "> 思路就是样式一样的，是一类的内容\n",
    "\n",
    "目前支持的几种内容类型：\n",
    "1. img link\n",
    "* a link\n",
    "* text"
   ]
  },
  {
   "cell_type": "code",
   "execution_count": null,
   "metadata": {},
   "outputs": [],
   "source": [
    "#export\n",
    "\n",
    "def get_prefix(soup):\n",
    "    if 'class' in soup.attrs and len(soup.attrs['class']) > 0:\n",
    "        prefix = soup.name+'.'+soup.attrs['class'][0]\n",
    "    elif 'id' in soup.attrs:\n",
    "        prefix = soup.name+'.'+soup.attrs['id']\n",
    "    else:\n",
    "        prefix = soup.name\n",
    "    return prefix\n",
    "\n",
    "def get_item_data(soup,db={}):\n",
    "    children = get_children(soup)\n",
    "    if len(children) > 0:\n",
    "        for c in children:\n",
    "            db[get_prefix(c)] = {}\n",
    "            get_item_data(c,db[get_prefix(c)])\n",
    "    else:\n",
    "        if soup.name == 'a':\n",
    "            db['href'] = soup['href']\n",
    "            if 'title' in soup.attrs:\n",
    "                db['title'] = soup['title']\n",
    "        elif soup.name == 'img':\n",
    "            db['src'] = soup['src']\n",
    "        else:\n",
    "            db['text'] = soup.text.strip()\n",
    "    return db\n",
    "\n",
    "def find_item_id(soup):\n",
    "    # 找到内容id，思路是a标签，有title，有href，然后取里面数字    \n",
    "    for a in soup.find_all('a'):\n",
    "        if 'title' in a.attrs and 'href' in a.attrs:\n",
    "            id = re.search(r'\\d+',a['href']).group(0)\n",
    "            return id\n"
   ]
  },
  {
   "cell_type": "code",
   "execution_count": null,
   "metadata": {},
   "outputs": [],
   "source": [
    "items = get_children(main_list)\n",
    "contents = items[0].find_all(True)"
   ]
  },
  {
   "cell_type": "code",
   "execution_count": null,
   "metadata": {},
   "outputs": [
    {
     "data": {
      "text/plain": [
       "'<div class=\"List-item TopicFeedItem\" tabindex=\"0\">\\n <div class=\"ContentItem ArticleItem\" data-zop=\\'{\"authorName\":\"蔓玫\",\"itemId\":111342516,\"title\":\"有关「美」与「生命力」，兰花给过我们怎样的启迪？\",\"type\":\"article\"}\\' itemprop=\"article\" itemscope=\"\" itemtype=\"http://schema.org/SocialMediaPosting\">\\n  <h2 class=\"ContentItem-title\">\\n   <a data-za-detail-view-element_name=\"Title\" href=\"//zhuanlan.zhihu.com/p/111342516\" rel=\"noopener noreferrer\" target=\"_blank\">\\n    有关「美」与「生命力」，兰花给过我们怎样的启迪？\\n   </a>\\n  </h2>\\n  <div class=\"ContentItem-meta\">\\n   <div class=\"AuthorInfo ArticleItem-authorInfo AuthorInfo--plain\" itemprop=\"author\" itemscope=\"\" itemtype=\"http://schema.org/Person\">\\n    <meta content=\"蔓玫\" itemprop=\"name\"/>\\n    <meta content=\"https://pic4.zhimg.com/50/v2-e255e8d3ffd3b76ec46bb5522d937fcd_is.jpg\" itemprop=\"image\"/>\\n    <meta content=\"https://www.zhihu.com/people/rosecrimson\" itemprop=\"url\"/>\\n    <meta itemprop=\"zhihu:followerCount\"/>\\n    <span class=\"UserLink AuthorInfo-avatarWrapper\">\\n     <div class=\"Popover\">\\n      <div aria-expanded=\"false\" aria-haspopup=\"true\" aria-owns=\"null-content\" id=\"null-toggle\">\\n       <a class=\"UserLink-link\" data-za-detail-view-element_name=\"User\" href=\"//www.zhihu.com/people/rosecrimson\" target=\"_blank\">\\n        <img alt=\"蔓玫\" class=\"Avatar AuthorInfo-avatar\" height=\"24\" src=\"https://pic4.zhimg.com/50/v2-e255e8d3ffd3b76ec46bb5522d937fcd_s.jpg\" srcset=\"https://pic4.zhimg.com/50/v2-e255e8d3ffd3b76ec46bb5522d937fcd_xs.jpg 2x\" width=\"24\"/>\\n       </a>\\n      </div>\\n     </div>\\n    </span>\\n    <div class=\"AuthorInfo-content\">\\n     <div class=\"AuthorInfo-head\">\\n      <span class=\"UserLink AuthorInfo-name\">\\n       <div class=\"Popover\">\\n        <div aria-expanded=\"false\" aria-haspopup=\"true\" aria-owns=\"null-content\" id=\"null-toggle\">\\n         <a class=\"UserLink-link\" data-za-detail-view-element_name=\"User\" href=\"//www.zhihu.com/people/rosecrimson\" target=\"_blank\">\\n          蔓玫\\n         </a>\\n        </div>\\n       </div>\\n       <style data-emotion-css=\"1cd9gw4\">\\n        .css-1cd9gw4{margin-left:.3em;}\\n       </style>\\n       <style data-emotion-css=\"1pc1mic\">\\n        .css-1pc1mic{box-sizing:border-box;margin:0;min-width:0;color:#175199;display:inline-block;width:18px;height:18px;margin-left:.3em;}\\n       </style>\\n       <a aria-label=\"植物等 话题优秀回答者\" class=\"css-1pc1mic\" data-tooltip=\"植物等 话题优秀回答者\" href=\"https://www.zhihu.com/question/48509984\" target=\"_blank\">\\n        <style data-emotion-css=\"18biwo\">\\n         .css-18biwo{display:-webkit-inline-box;display:-webkit-inline-flex;display:-ms-inline-flexbox;display:inline-flex;-webkit-align-items:center;-webkit-box-align:center;-ms-flex-align:center;align-items:center;}\\n        </style>\\n        <span class=\"css-18biwo\">\\n         \\u200b\\n         <svg height=\"18\" viewbox=\"0 0 24 24\" width=\"18\">\\n          <svg fill=\"#FFFFFF\" height=\"30\" viewbox=\"0 0 24 24\" width=\"30\" x=\"-3\" y=\"-3\">\\n           <path d=\"M3.56231227,13.8535307 C2.40051305,12.768677 2.41398885,11.0669203 3.59484487,9.99979213 L3.59222085,9.99654885 C4.26730143,9.45036719 4.79446755,8.21005186 4.7184197,7.34453784 L4.72305873,7.34412719 C4.66942824,5.75539997 5.8824188,4.56066914 7.47188965,4.64242381 L7.47229112,4.6386236 C8.33515314,4.72977993 9.58467253,4.22534048 10.1426329,3.55925173 L10.1462611,3.56228565 C11.2316055,2.40008701 12.9353108,2.41394456 14.0015072,3.59634088 L14.0047263,3.59374004 C14.5498229,4.26841874 15.7896857,4.79521622 16.6545744,4.71844347 L16.6549836,4.72304294 C18.245027,4.66894057 19.4396947,5.88213996 19.3575031,7.47241135 L19.3623099,7.47292747 C19.2704388,8.3358681 19.7742711,9.58421483 20.4407199,10.1424506 L20.437686,10.1460789 C21.5997217,11.2312209 21.5860695,12.9345218 20.4042441,14.0007396 L20.4072865,14.0045125 C19.7325967,14.5495925 19.2055209,15.7896954 19.2815865,16.6561959 L19.2770449,16.6565978 C19.3315454,18.2453037 18.1173775,19.4393568 16.5274188,19.3571512 L16.5269029,19.3619539 C15.6647098,19.270083 14.415408,19.7741709 13.8573671,20.4403558 L13.8537409,20.4373235 C12.76842,21.5995708 11.0650432,21.5864553 9.99899434,20.4039226 L9.99527367,20.406923 C9.45025436,19.7323399 8.21017638,19.2051872 7.34461983,19.2812352 L7.344304,19.2776405 C5.75448683,19.3312904 4.55977145,18.1170085 4.64254978,16.527117 L4.63769921,16.5265942 C4.72957031,15.6644394 4.22547659,14.4151814 3.55928015,13.8571569 L3.56231227,13.8535307 Z\">\\n           </path>\\n          </svg>\\n          <path d=\"M2.63951518,13.3895441 C3.70763333,14.2842292 4.44777637,16.1226061 4.30075305,17.5023312 L4.32211542,17.3063047 C4.17509209,18.6910561 5.17786655,19.7063729 6.5613937,19.5844846 L6.364106,19.6008202 C7.75140298,19.4789319 9.57474349,20.2554985 10.4468305,21.3349009 L10.3224262,21.1803415 C11.1982831,22.2647703 12.6257916,22.2723098 13.5167278,21.2079863 L13.3898102,21.3600325 C14.2845162,20.2919393 16.1229361,19.5518136 17.5026934,19.6988334 L17.3054057,19.6774716 C18.6914461,19.8244915 19.7067866,18.8217404 19.5836389,17.4395022 L19.6012314,17.6367853 C19.4793403,16.2482641 20.255925,14.4249662 21.3353526,13.5528995 L21.1807897,13.677301 C22.2639871,12.8014646 22.2727834,11.3739894 21.2084351,10.483074 L21.3604848,10.6099886 C20.2923667,9.71530351 19.5522236,7.87818322 19.6992469,6.49720154 L19.6778846,6.69448464 C19.8249079,5.30847665 18.8221335,4.2944164 17.4386063,4.41630468 L17.635894,4.39871256 C16.248597,4.52185742 14.4252565,3.74529084 13.5531695,2.66588842 L13.6775738,2.81919121 C12.8017169,1.73601905 11.3742084,1.72722299 10.4832722,2.79154644 L10.6101898,2.63950024 C9.71548377,3.70759343 7.87706394,4.44771919 6.49730661,4.30195588 L6.69459432,4.32206116 C5.30855394,4.17504128 4.29447,5.17904888 4.41636114,6.56128713 L4.3987686,6.36400404 C4.52065973,7.75126861 3.74407501,9.57456653 2.66464737,10.4478898 L2.81921035,10.3222318 C1.73601288,11.1993248 1.72721662,12.6255433 2.79156494,13.5164587 L2.63951518,13.3895441 Z\" fill=\"#FF9607\">\\n          </path>\\n          <svg class=\"Zi Zi--Star\" fill=\"#fff\" height=\"12\" viewbox=\"0 0 24 24\" width=\"12\" x=\"6\" y=\"6\">\\n           <path d=\"M5.515 19.64l.918-5.355-3.89-3.792c-.926-.902-.639-1.784.64-1.97L8.56 7.74l2.404-4.871c.572-1.16 1.5-1.16 2.072 0L15.44 7.74l5.377.782c1.28.186 1.566 1.068.64 1.97l-3.89 3.793.918 5.354c.219 1.274-.532 1.82-1.676 1.218L12 18.33l-4.808 2.528c-1.145.602-1.896.056-1.677-1.218z\" fill-rule=\"evenodd\">\\n           </path>\\n          </svg>\\n         </svg>\\n        </span>\\n       </a>\\n      </span>\\n     </div>\\n     <div class=\"AuthorInfo-detail\">\\n      <div class=\"AuthorInfo-badge\">\\n       <div class=\"AuthorInfo-badgeText\">\\n        <span>\\n         <span>\\n          <a href=\"/people/rosecrimson/creations/19554834\">\\n           植物\\n          </a>\\n          、\\n         </span>\\n         <span>\\n          <a href=\"/people/rosecrimson/creations/19596590\">\\n           花卉\\n          </a>\\n          、\\n         </span>\\n         <span>\\n          <a href=\"/people/rosecrimson/creations/19617617\">\\n           植物学\\n          </a>\\n         </span>\\n         <button class=\"Button Button--plain\" type=\"button\">\\n          等 4 个\\n         </button>\\n         话题\\n        </span>\\n        的\\n        <!-- -->\\n        植物等 话题优秀回答者\\n       </div>\\n      </div>\\n     </div>\\n    </div>\\n   </div>\\n  </div>\\n  <meta content=\"有关「美」与「生命力」，兰花给过我们怎样的启迪？\" itemprop=\"headline\"/>\\n  <meta content=\"https:////zhuanlan.zhihu.com/p/111342516\" itemprop=\"url\"/>\\n  <meta content=\"2020-03-06T09:00:24.000Z\" itemprop=\"datePublished\"/>\\n  <meta content=\"2020-03-06T10:12:10.000Z\" itemprop=\"dateModified\"/>\\n  <meta content=\"7\" itemprop=\"commentCount\"/>\\n  <meta content=\"https://pic3.zhimg.com/50/v2-c7818ca23e571814c805b1bb3f13bcc4_hd.jpg\" itemprop=\"image\"/>\\n  <div class=\"RichContent is-collapsed\">\\n   <div class=\"RichContent-cover\">\\n    <div class=\"RichContent-cover-inner\">\\n     <div class=\"VagueImage\" data-src=\"https://pic3.zhimg.com/50/v2-c7818ca23e571814c805b1bb3f13bcc4_400x224.jpg\">\\n      <div class=\"VagueImage-mask is-active\">\\n      </div>\\n     </div>\\n    </div>\\n   </div>\\n   <div class=\"RichContent-inner\">\\n    <span class=\"RichText ztext CopyrightRichText-richText\" itemprop=\"articleBody\">\\n     「那时的黛西毕竟还年轻，她那虚华的世界里充溢着兰花的芬芳、社交的愉悦和乐队的欢歌，正是那些歌舞乐曲为逝水年华定下了基调，用新的旋律演绎着人世的启示和忧伤。」 ——菲茨杰拉德《了不起的盖茨比》一个不负责任的猜想：若要问问观众们，电影《了不起…\\n    </span>\\n    <button class=\"Button ContentItem-more Button--plain\" type=\"button\">\\n     阅读全文\\n     <span style=\"display:inline-flex;align-items:center\">\\n      \\u200b\\n      <svg class=\"Zi Zi--ArrowDown ContentItem-arrowIcon\" fill=\"currentColor\" height=\"24\" viewbox=\"0 0 24 24\" width=\"24\">\\n       <path d=\"M12 13L8.285 9.218a.758.758 0 0 0-1.064 0 .738.738 0 0 0 0 1.052l4.249 4.512a.758.758 0 0 0 1.064 0l4.246-4.512a.738.738 0 0 0 0-1.052.757.757 0 0 0-1.063 0L12.002 13z\" fill-rule=\"evenodd\">\\n       </path>\\n      </svg>\\n     </span>\\n    </button>\\n   </div>\\n   <div class=\"ContentItem-actions\">\\n    <span>\\n     <button aria-label=\"赞同 27 \" class=\"Button VoteButton VoteButton--up\" type=\"button\">\\n      <span style=\"display:inline-flex;align-items:center\">\\n       \\u200b\\n       <svg class=\"Zi Zi--TriangleUp VoteButton-TriangleUp\" fill=\"currentColor\" height=\"10\" viewbox=\"0 0 24 24\" width=\"10\">\\n        <path d=\"M2 18.242c0-.326.088-.532.237-.896l7.98-13.203C10.572 3.57 11.086 3 12 3c.915 0 1.429.571 1.784 1.143l7.98 13.203c.15.364.236.57.236.896 0 1.386-.875 1.9-1.955 1.9H3.955c-1.08 0-1.955-.517-1.955-1.9z\" fill-rule=\"evenodd\">\\n        </path>\\n       </svg>\\n      </span>\\n      赞同 27\\n     </button>\\n     <button aria-label=\"反对\" class=\"Button VoteButton VoteButton--down\" type=\"button\">\\n      <span style=\"display:inline-flex;align-items:center\">\\n       \\u200b\\n       <svg class=\"Zi Zi--TriangleDown\" fill=\"currentColor\" height=\"10\" viewbox=\"0 0 24 24\" width=\"10\">\\n        <path d=\"M20.044 3H3.956C2.876 3 2 3.517 2 4.9c0 .326.087.533.236.896L10.216 19c.355.571.87 1.143 1.784 1.143s1.429-.572 1.784-1.143l7.98-13.204c.149-.363.236-.57.236-.896 0-1.386-.876-1.9-1.956-1.9z\" fill-rule=\"evenodd\">\\n        </path>\\n       </svg>\\n      </span>\\n     </button>\\n    </span>\\n    <button class=\"Button ContentItem-action Button--plain Button--withIcon Button--withLabel\" type=\"button\">\\n     <span style=\"display:inline-flex;align-items:center\">\\n      \\u200b\\n      <svg class=\"Zi Zi--Comment Button-zi\" fill=\"currentColor\" height=\"1.2em\" viewbox=\"0 0 24 24\" width=\"1.2em\">\\n       <path d=\"M10.241 19.313a.97.97 0 0 0-.77.2 7.908 7.908 0 0 1-3.772 1.482.409.409 0 0 1-.38-.637 5.825 5.825 0 0 0 1.11-2.237.605.605 0 0 0-.227-.59A7.935 7.935 0 0 1 3 11.25C3 6.7 7.03 3 12 3s9 3.7 9 8.25-4.373 9.108-10.759 8.063z\" fill-rule=\"evenodd\">\\n       </path>\\n      </svg>\\n     </span>\\n     7 条评论\\n    </button>\\n    <div class=\"Popover ShareMenu ContentItem-action\">\\n     <div aria-expanded=\"false\" aria-haspopup=\"true\" aria-owns=\"null-content\" class=\"ShareMenu-toggler\" id=\"null-toggle\">\\n      <button class=\"Button Button--plain Button--withIcon Button--withLabel\" type=\"button\">\\n       <span style=\"display:inline-flex;align-items:center\">\\n        \\u200b\\n        <svg class=\"Zi Zi--Share Button-zi\" fill=\"currentColor\" height=\"1.2em\" viewbox=\"0 0 24 24\" width=\"1.2em\">\\n         <path d=\"M2.931 7.89c-1.067.24-1.275 1.669-.318 2.207l5.277 2.908 8.168-4.776c.25-.127.477.198.273.39L9.05 14.66l.927 5.953c.18 1.084 1.593 1.376 2.182.456l9.644-15.242c.584-.892-.212-2.029-1.234-1.796L2.93 7.89z\" fill-rule=\"evenodd\">\\n         </path>\\n        </svg>\\n       </span>\\n       分享\\n      </button>\\n     </div>\\n    </div>\\n    <button class=\"Button ContentItem-action Button--plain Button--withIcon Button--withLabel\" type=\"button\">\\n     <span style=\"display:inline-flex;align-items:center\">\\n      \\u200b\\n      <svg class=\"Zi Zi--Star Button-zi\" fill=\"currentColor\" height=\"1.2em\" viewbox=\"0 0 24 24\" width=\"1.2em\">\\n       <path d=\"M5.515 19.64l.918-5.355-3.89-3.792c-.926-.902-.639-1.784.64-1.97L8.56 7.74l2.404-4.871c.572-1.16 1.5-1.16 2.072 0L15.44 7.74l5.377.782c1.28.186 1.566 1.068.64 1.97l-3.89 3.793.918 5.354c.219 1.274-.532 1.82-1.676 1.218L12 18.33l-4.808 2.528c-1.145.602-1.896.056-1.677-1.218z\" fill-rule=\"evenodd\">\\n       </path>\\n      </svg>\\n     </span>\\n     收藏\\n    </button>\\n   </div>\\n  </div>\\n </div>\\n</div>\\n'"
      ]
     },
     "execution_count": null,
     "metadata": {},
     "output_type": "execute_result"
    }
   ],
   "source": [
    "items[0].prettify(formatter=\"minimal\")"
   ]
  },
  {
   "cell_type": "code",
   "execution_count": null,
   "metadata": {},
   "outputs": [
    {
     "name": "stdout",
     "output_type": "stream",
     "text": [
      "有关「美」与「生命力」，兰花给过我们怎样的启迪？蔓玫.css-1cd9gw4{margin-left:.3em;}.css-1pc1mic{box-sizing:border-box;margin:0;min-width:0;color:#175199;display:inline-block;width:18px;height:18px;margin-left:.3em;}.css-18biwo{display:-webkit-inline-box;display:-webkit-inline-flex;display:-ms-inline-flexbox;display:inline-flex;-webkit-align-items:center;-webkit-box-align:center;-ms-flex-align:center;align-items:center;}​植物、花卉、植物学 等 4 个话题的植物等 话题优秀回答者「那时的黛西毕竟还年轻，她那虚华的世界里充溢着兰花的芬芳、社交的愉悦和乐队的欢歌，正是那些歌舞乐曲为逝水年华定下了基调，用新的旋律演绎着人世的启示和忧伤。」 ——菲茨杰拉德《了不起的盖茨比》一个不负责任的猜想：若要问问观众们，电影《了不起…阅读全文​​赞同 27​​7 条评论​分享​收藏\n",
      "有关「美」与「生命力」，兰花给过我们怎样的启迪？\n",
      "有关「美」与「生命力」，兰花给过我们怎样的启迪？\n",
      "蔓玫.css-1cd9gw4{margin-left:.3em;}.css-1pc1mic{box-sizing:border-box;margin:0;min-width:0;color:#175199;display:inline-block;width:18px;height:18px;margin-left:.3em;}.css-18biwo{display:-webkit-inline-box;display:-webkit-inline-flex;display:-ms-inline-flexbox;display:inline-flex;-webkit-align-items:center;-webkit-box-align:center;-ms-flex-align:center;align-items:center;}​植物、花卉、植物学 等 4 个话题的植物等 话题优秀回答者\n",
      "蔓玫.css-1cd9gw4{margin-left:.3em;}.css-1pc1mic{box-sizing:border-box;margin:0;min-width:0;color:#175199;display:inline-block;width:18px;height:18px;margin-left:.3em;}.css-18biwo{display:-webkit-inline-box;display:-webkit-inline-flex;display:-ms-inline-flexbox;display:inline-flex;-webkit-align-items:center;-webkit-box-align:center;-ms-flex-align:center;align-items:center;}​植物、花卉、植物学 等 4 个话题的植物等 话题优秀回答者\n",
      "蔓玫.css-1cd9gw4{margin-left:.3em;}.css-1pc1mic{box-sizing:border-box;margin:0;min-width:0;color:#175199;display:inline-block;width:18px;height:18px;margin-left:.3em;}.css-18biwo{display:-webkit-inline-box;display:-webkit-inline-flex;display:-ms-inline-flexbox;display:inline-flex;-webkit-align-items:center;-webkit-box-align:center;-ms-flex-align:center;align-items:center;}​植物、花卉、植物学 等 4 个话题的植物等 话题优秀回答者\n",
      "蔓玫.css-1cd9gw4{margin-left:.3em;}.css-1pc1mic{box-sizing:border-box;margin:0;min-width:0;color:#175199;display:inline-block;width:18px;height:18px;margin-left:.3em;}.css-18biwo{display:-webkit-inline-box;display:-webkit-inline-flex;display:-ms-inline-flexbox;display:inline-flex;-webkit-align-items:center;-webkit-box-align:center;-ms-flex-align:center;align-items:center;}​\n",
      "蔓玫.css-1cd9gw4{margin-left:.3em;}.css-1pc1mic{box-sizing:border-box;margin:0;min-width:0;color:#175199;display:inline-block;width:18px;height:18px;margin-left:.3em;}.css-18biwo{display:-webkit-inline-box;display:-webkit-inline-flex;display:-ms-inline-flexbox;display:inline-flex;-webkit-align-items:center;-webkit-box-align:center;-ms-flex-align:center;align-items:center;}​\n",
      "蔓玫\n",
      "蔓玫\n",
      "蔓玫\n",
      ".css-1cd9gw4{margin-left:.3em;}\n",
      ".css-1pc1mic{box-sizing:border-box;margin:0;min-width:0;color:#175199;display:inline-block;width:18px;height:18px;margin-left:.3em;}\n",
      ".css-18biwo{display:-webkit-inline-box;display:-webkit-inline-flex;display:-ms-inline-flexbox;display:inline-flex;-webkit-align-items:center;-webkit-box-align:center;-ms-flex-align:center;align-items:center;}​\n",
      ".css-18biwo{display:-webkit-inline-box;display:-webkit-inline-flex;display:-ms-inline-flexbox;display:inline-flex;-webkit-align-items:center;-webkit-box-align:center;-ms-flex-align:center;align-items:center;}\n",
      "​\n",
      "植物、花卉、植物学 等 4 个话题的植物等 话题优秀回答者\n",
      "植物、花卉、植物学 等 4 个话题的植物等 话题优秀回答者\n",
      "植物、花卉、植物学 等 4 个话题的植物等 话题优秀回答者\n",
      "植物、花卉、植物学 等 4 个话题\n",
      "植物、\n",
      "植物\n",
      "花卉、\n",
      "花卉\n",
      "植物学 \n",
      "植物学\n",
      "等 4 个\n",
      "「那时的黛西毕竟还年轻，她那虚华的世界里充溢着兰花的芬芳、社交的愉悦和乐队的欢歌，正是那些歌舞乐曲为逝水年华定下了基调，用新的旋律演绎着人世的启示和忧伤。」 ——菲茨杰拉德《了不起的盖茨比》一个不负责任的猜想：若要问问观众们，电影《了不起…阅读全文​​赞同 27​​7 条评论​分享​收藏\n",
      "「那时的黛西毕竟还年轻，她那虚华的世界里充溢着兰花的芬芳、社交的愉悦和乐队的欢歌，正是那些歌舞乐曲为逝水年华定下了基调，用新的旋律演绎着人世的启示和忧伤。」 ——菲茨杰拉德《了不起的盖茨比》一个不负责任的猜想：若要问问观众们，电影《了不起…阅读全文​\n",
      "「那时的黛西毕竟还年轻，她那虚华的世界里充溢着兰花的芬芳、社交的愉悦和乐队的欢歌，正是那些歌舞乐曲为逝水年华定下了基调，用新的旋律演绎着人世的启示和忧伤。」 ——菲茨杰拉德《了不起的盖茨比》一个不负责任的猜想：若要问问观众们，电影《了不起…\n",
      "阅读全文​\n",
      "​\n",
      "​赞同 27​​7 条评论​分享​收藏\n",
      "​赞同 27​\n",
      "​赞同 27\n",
      "​\n",
      "​\n",
      "​\n",
      "​7 条评论\n",
      "​\n",
      "​分享\n",
      "​分享\n",
      "​分享\n",
      "​\n",
      "​收藏\n",
      "​\n"
     ]
    }
   ],
   "source": [
    "for c in contents:\n",
    "    if c.text:\n",
    "        print((c.text))"
   ]
  },
  {
   "cell_type": "code",
   "execution_count": null,
   "metadata": {},
   "outputs": [],
   "source": []
  }
 ],
 "metadata": {
  "kernelspec": {
   "display_name": "Python 3",
   "language": "python",
   "name": "python3"
  }
 },
 "nbformat": 4,
 "nbformat_minor": 2
}
