{
 "cells": [
  {
   "cell_type": "code",
   "execution_count": null,
   "metadata": {},
   "outputs": [],
   "source": [
    "# default_exp IPool_lite"
   ]
  },
  {
   "cell_type": "markdown",
   "metadata": {},
   "source": [
    "核心就是去掉数据库，把这几百条数据放内存里查询&修改，定期备份成txt\n",
    "\n",
    "核心路径是get_ip，所以初始化操作也在这里"
   ]
  },
  {
   "cell_type": "code",
   "execution_count": null,
   "metadata": {},
   "outputs": [],
   "source": [
    "# export\n",
    "import json,random,requests,re,time\n",
    "from bs4 import BeautifulSoup\n",
    "from concurrent.futures import ThreadPoolExecutor\n",
    "from pathlib import Path"
   ]
  },
  {
   "cell_type": "markdown",
   "metadata": {},
   "source": [
    "# 核心"
   ]
  },
  {
   "cell_type": "markdown",
   "metadata": {},
   "source": [
    "## 获取一个ip"
   ]
  },
  {
   "cell_type": "code",
   "execution_count": null,
   "metadata": {},
   "outputs": [],
   "source": [
    "# export\n",
    "db = {}"
   ]
  },
  {
   "cell_type": "code",
   "execution_count": null,
   "metadata": {},
   "outputs": [],
   "source": [
    "# export\n",
    "def _get_ip() -> str:\n",
    "    '健康值作为权重，随机抽取一个ip'\n",
    "    global db\n",
    "    ips = random.choices(list(db.keys()),weights=db.values(),k=1)\n",
    "    return ips[0]"
   ]
  },
  {
   "cell_type": "code",
   "execution_count": null,
   "metadata": {},
   "outputs": [
    {
     "data": {
      "text/plain": [
       "'100,9.37.17.19:88'"
      ]
     },
     "execution_count": null,
     "metadata": {},
     "output_type": "execute_result"
    }
   ],
   "source": [
    "db = {'39.137.107.9:8080':100,'100,9.37.17.19:88':52}\n",
    "_get_ip()"
   ]
  },
  {
   "cell_type": "markdown",
   "metadata": {},
   "source": [
    "## 更新健康值"
   ]
  },
  {
   "cell_type": "code",
   "execution_count": null,
   "metadata": {},
   "outputs": [],
   "source": [
    "# export\n",
    "def update_health(ip,is_good=False) -> int:\n",
    "    '更新ip的health值，好用+1，无效/2'\n",
    "    db[ip] = db[ip]*2 if is_good else db[ip]/2\n",
    "#     db[ip] = db[ip]+1 if is_good else db[ip]/2\n",
    "    return db[ip]"
   ]
  },
  {
   "cell_type": "code",
   "execution_count": null,
   "metadata": {},
   "outputs": [
    {
     "data": {
      "text/plain": [
       "53"
      ]
     },
     "execution_count": null,
     "metadata": {},
     "output_type": "execute_result"
    }
   ],
   "source": [
    "ip = '100,9.37.17.19:88'\n",
    "update_health(ip,is_good=True)"
   ]
  },
  {
   "cell_type": "markdown",
   "metadata": {},
   "source": [
    "# 工具\n",
    "## 周期任务"
   ]
  },
  {
   "cell_type": "code",
   "execution_count": null,
   "metadata": {},
   "outputs": [],
   "source": [
    "# export\n",
    "def interval_task(fn,name,interval=300):\n",
    "    '每5min自动执行fn'\n",
    "    global last_modify\n",
    "    if name not in last_modify or (time.time()-last_modify[name]) > interval:\n",
    "        last_modify[name] = time.time()\n",
    "        fn()"
   ]
  },
  {
   "cell_type": "markdown",
   "metadata": {},
   "source": [
    "## 并行任务"
   ]
  },
  {
   "cell_type": "code",
   "execution_count": null,
   "metadata": {},
   "outputs": [],
   "source": [
    "# export\n",
    "def get_progress_bar(r,length=30) -> str:\n",
    "    # 类似于这样的进度条'[#######                                          ]14.87%'\n",
    "    current = int(length*r)\n",
    "    rest = int(length*(1-r))\n",
    "    return '['+'#'*current+' '*rest+'] '+str(r*100)[:5]+'%'\n",
    "\n",
    "def show_current_progress(done_num,total_num,start_time):\n",
    "    pct = done_num/total_num\n",
    "    now = time.time()\n",
    "    cost_time = int(now-start_time)\n",
    "    left_time = int(cost_time/done_num*(total_num-done_num))\n",
    "    print(f'progress:{get_progress_bar(pct)} | cost:{cost_time}s | left:{left_time}s')"
   ]
  },
  {
   "cell_type": "code",
   "execution_count": null,
   "metadata": {},
   "outputs": [],
   "source": [
    "# export\n",
    "# def _parallel_task(fn,loop_args,max_workers=3) -> iter:\n",
    "#     with ThreadPoolExecutor(max_workers=max_workers) as executor:\n",
    "#         for data in executor.map(fn,loop_args):\n",
    "#             yield data\n",
    "\n",
    "def parallel_task(fn,loop_args,max_workers=3) -> iter:\n",
    "    start_time = time.time()\n",
    "    \n",
    "    done_num = 0\n",
    "    total_num = len(loop_args)\n",
    "    \n",
    "    results = []\n",
    "    with ThreadPoolExecutor(max_workers=max_workers) as executor:\n",
    "        for data in executor.map(fn,loop_args):\n",
    "#             yield data\n",
    "#     results = _parallel_task(fn,loop_args,max_workers)\n",
    "#     for data in results:\n",
    "            done_num += 1\n",
    "            interval_task(lambda:show_current_progress(done_num,total_num,start_time),'progress',1)\n",
    "    #         print('output data:',data)\n",
    "            results.append(data) \n",
    "    \n",
    "    cost_time = int(time.time()-start_time)\n",
    "    print(f'{total_num} tasks, {cost_time}s')\n",
    "    return results"
   ]
  },
  {
   "cell_type": "code",
   "execution_count": null,
   "metadata": {},
   "outputs": [
    {
     "name": "stdout",
     "output_type": "stream",
     "text": [
      "progress:[########                     ] 27.27% | cost:10s | left:26s\n"
     ]
    }
   ],
   "source": [
    "show_current_progress(3,11,time.time()-10)"
   ]
  },
  {
   "cell_type": "code",
   "execution_count": null,
   "metadata": {},
   "outputs": [
    {
     "name": "stdout",
     "output_type": "stream",
     "text": [
      "progress:[###                           ] 10.0% | cost:9s | left:81s\n",
      "hi end 0 9\n",
      "hi end 1 3\n",
      "hi end 2 1\n",
      "hi end 3 8\n",
      "progress:[###############               ] 50.0% | cost:13s | left:13s\n",
      "hi end 4 10\n",
      "progress:[##################            ] 60.0% | cost:17s | left:11s\n",
      "hi end 5 8\n",
      "hi end 6 6\n",
      "progress:[########################     ] 80.0% | cost:23s | left:5s\n",
      "hi end 7 10\n",
      "hi end 8 7\n",
      "hi end 9 1\n",
      "10 tasks, 23s\n"
     ]
    }
   ],
   "source": [
    "def say_hi(i): \n",
    "    t = random.randint(1,10)\n",
    "    time.sleep(t)\n",
    "    return f'hi end {i} {t}'\n",
    "\n",
    "for i in parallel_task(say_hi,range(10)):\n",
    "    print(i)"
   ]
  },
  {
   "cell_type": "markdown",
   "metadata": {},
   "source": [
    "## 查看优质ip"
   ]
  },
  {
   "cell_type": "code",
   "execution_count": null,
   "metadata": {},
   "outputs": [],
   "source": [
    "# export\n",
    "def count_good_ips():\n",
    "    global db\n",
    "    return len([k for k in db.keys() if db[k] > 100])"
   ]
  },
  {
   "cell_type": "code",
   "execution_count": null,
   "metadata": {},
   "outputs": [
    {
     "data": {
      "text/plain": [
       "126"
      ]
     },
     "execution_count": null,
     "metadata": {},
     "output_type": "execute_result"
    }
   ],
   "source": [
    "count_good_ips()"
   ]
  },
  {
   "cell_type": "markdown",
   "metadata": {},
   "source": [
    "# 进阶"
   ]
  },
  {
   "cell_type": "markdown",
   "metadata": {},
   "source": [
    "## 爬取ip网站\n",
    "> 搜索全部tr，然后解析符合的ip，不符合的就不管"
   ]
  },
  {
   "cell_type": "code",
   "execution_count": null,
   "metadata": {},
   "outputs": [],
   "source": [
    "# export\n",
    "sites = '''\n",
    "https://www.kuaidaili.com/free/inha/\n",
    "http://www.nimadaili.com/gaoni/\n",
    "http://www.xiladaili.com/gaoni/\n",
    "https://ip.jiangxianli.com/?anonymity=2\n",
    "https://www.7yip.cn/free/\n",
    "http://www.ip3366.net/free/\n",
    "https://list.proxylistplus.com/Fresh-HTTP-Proxy-List-1\n",
    "http://proxyslist.com/\n",
    "'''.strip().split('\\n')"
   ]
  },
  {
   "cell_type": "code",
   "execution_count": null,
   "metadata": {},
   "outputs": [],
   "source": [
    "# export\n",
    "def match_ip(tag): return re.match(r'^(\\d{1,3}\\.){3}\\d{1,3}$',tag.text.strip())\n",
    "def match_port(tag): return re.match(r'^\\d{2,5}$',tag.text.strip())\n",
    "def match_ip_with_port(tag): return re.match(r'^(\\d{1,3}\\.){3}\\d{1,3}:\\d{2,5}$',tag.text.strip())\n",
    "\n",
    "def _parse_ip(soup) -> str:\n",
    "    ip_with_port = soup.find(match_ip_with_port)\n",
    "    ip = soup.find(match_ip)\n",
    "    port = soup.find(match_port)\n",
    "    if ip_with_port: return ip_with_port.text\n",
    "    elif ip and port: return ip.text+':'+port.text\n",
    "#     else: print('parse ip error:',soup)\n",
    "\n",
    "def parse_ips(url) -> iter:\n",
    "    res = requests.get(url,headers={'user-agent':'Mozilla/5.0'})\n",
    "    soup = BeautifulSoup(res.text,features='lxml')\n",
    "    tr_items = soup.body.find_all('tr')\n",
    "    for tr in tr_items:\n",
    "        ip = _parse_ip(tr) \n",
    "        if ip: yield ip\n",
    "        "
   ]
  },
  {
   "cell_type": "code",
   "execution_count": null,
   "metadata": {},
   "outputs": [],
   "source": [
    "# export\n",
    "def save_ips(ips) -> int:\n",
    "    'ips保存到db和txt中，并且返回新增ip个数'\n",
    "    global db\n",
    "    keys = db.keys()\n",
    "    count_new = 0\n",
    "    for ip in ips:\n",
    "        if ip not in keys:\n",
    "            db[ip] = 100\n",
    "            count_new += 1\n",
    "    with open('ipool.txt','w') as f:\n",
    "        json.dump(db,f)\n",
    "    return count_new\n",
    "            "
   ]
  },
  {
   "cell_type": "code",
   "execution_count": null,
   "metadata": {},
   "outputs": [],
   "source": [
    "# export\n",
    "def crawl_ips():\n",
    "    '爬取并保存ip'\n",
    "    global sites,db\n",
    "    for url in sites:\n",
    "        try:\n",
    "            ips = list(parse_ips(url))  \n",
    "            count_new = save_ips(ips)\n",
    "            print(url,' 新增：',count_new)\n",
    "        except:\n",
    "            print('error',url)\n",
    "    print('总库存：',len(db.keys()))"
   ]
  },
  {
   "cell_type": "code",
   "execution_count": null,
   "metadata": {},
   "outputs": [
    {
     "name": "stdout",
     "output_type": "stream",
     "text": [
      "https://www.kuaidaili.com/free/inha/  新增： 0\n",
      "http://www.nimadaili.com/gaoni/  新增： 0\n",
      "http://www.xiladaili.com/gaoni/  新增： 8\n",
      "https://ip.jiangxianli.com/?anonymity=2  新增： 2\n",
      "https://www.7yip.cn/free/  新增： 0\n",
      "http://www.ip3366.net/free/  新增： 0\n",
      "https://list.proxylistplus.com/Fresh-HTTP-Proxy-List-1  新增： 0\n",
      "http://proxyslist.com/  新增： 0\n",
      "总库存： 203\n"
     ]
    }
   ],
   "source": [
    "crawl_ips()"
   ]
  },
  {
   "cell_type": "markdown",
   "metadata": {},
   "source": [
    "## 代理请求\n",
    "分支可用于验证ip"
   ]
  },
  {
   "cell_type": "code",
   "execution_count": null,
   "metadata": {},
   "outputs": [],
   "source": [
    "# export\n",
    "def parse_protocal(url): return 'https' if 'https' in url else 'http'\n",
    "\n",
    "def _proxy_request(url,ip,method='get') -> object:\n",
    "    '代理请求，并更新ip的health'\n",
    "    protocal = parse_protocal(url)\n",
    "    proxies = {protocal: protocal+'://'+ip}\n",
    "    \n",
    "    try:\n",
    "        res = requests.request(method,url,\n",
    "                               headers={'user-agent':'Mozilla/5.0'},\n",
    "                               proxies=proxies,\n",
    "                               allow_redirects=False,\n",
    "                               timeout=5)\n",
    "    except:\n",
    "        update_health(ip)\n",
    "#         print('except error:',ip,db[ip])\n",
    "        return\n",
    "    else:\n",
    "        if res and res.status_code == 200: update_health(ip,is_good=True)\n",
    "        else: update_health(ip)\n",
    "        print(res,ip,db[ip])\n",
    "        return res"
   ]
  },
  {
   "cell_type": "code",
   "execution_count": null,
   "metadata": {},
   "outputs": [],
   "source": [
    "# export\n",
    "def proxy_request(url,method='get',repeat_times=10) -> object:\n",
    "    '自动获取一个随机ip，不断重复请求，直到200'\n",
    "    current_times = 1\n",
    "    while current_times <= repeat_times:\n",
    "        ip = get_ip()\n",
    "        res = _proxy_request(url,ip,method)\n",
    "        if res and res.status_code == 200:\n",
    "            print(url,'times:',current_times,res)\n",
    "            return res\n",
    "        else: \n",
    "#             print(url,'times:',current_times,res)\n",
    "            current_times += 1"
   ]
  },
  {
   "cell_type": "code",
   "execution_count": null,
   "metadata": {},
   "outputs": [
    {
     "name": "stdout",
     "output_type": "stream",
     "text": [
      "删除： 0 剩余： 203\n",
      "https://www.kuaidaili.com/free/inha/  新增： 0\n",
      "http://www.nimadaili.com/gaoni/  新增： 29\n",
      "http://www.xiladaili.com/gaoni/  新增： 46\n",
      "https://ip.jiangxianli.com/?anonymity=2  新增： 2\n",
      "https://www.7yip.cn/free/  新增： 0\n",
      "http://www.ip3366.net/free/  新增： 0\n",
      "https://list.proxylistplus.com/Fresh-HTTP-Proxy-List-1  新增： 0\n",
      "http://proxyslist.com/  新增： 25\n",
      "总库存： 305\n",
      "except error: 163.204.247.147:9999 50.0\n",
      "https://www.baidu.com/ times: 1 None\n",
      "删除： 0 剩余： 305\n",
      "https://www.kuaidaili.com/free/inha/  新增： 0\n",
      "http://www.nimadaili.com/gaoni/  新增： 0\n",
      "http://www.xiladaili.com/gaoni/  新增： 0\n",
      "https://ip.jiangxianli.com/?anonymity=2  新增： 0\n",
      "https://www.7yip.cn/free/  新增： 0\n",
      "http://www.ip3366.net/free/  新增： 0\n",
      "https://list.proxylistplus.com/Fresh-HTTP-Proxy-List-1  新增： 0\n",
      "http://proxyslist.com/  新增： 0\n",
      "总库存： 305\n",
      "except error: 59.62.25.62:9000 50.0\n",
      "https://www.baidu.com/ times: 2 None\n",
      "except error: 68.183.188.100:3128 50.0\n",
      "https://www.baidu.com/ times: 3 None\n"
     ]
    }
   ],
   "source": [
    "url = 'https://www.baidu.com/'\n",
    "proxy_request(url,repeat_times=3)"
   ]
  },
  {
   "cell_type": "markdown",
   "metadata": {},
   "source": [
    "### 校验ip"
   ]
  },
  {
   "cell_type": "code",
   "execution_count": null,
   "metadata": {},
   "outputs": [],
   "source": [
    "# export\n",
    "def validate_ips(url='http://www.baidu.com/',max_workers=100):\n",
    "    global db\n",
    "    ips = list(db.keys())\n",
    "    r = parallel_task(lambda ip:_proxy_request(url, ip),ips,max_workers)\n",
    "    print('good ips:',count_good_ips())"
   ]
  },
  {
   "cell_type": "code",
   "execution_count": null,
   "metadata": {},
   "outputs": [
    {
     "data": {
      "text/plain": [
       "<generator object parallel_task at 0x108282850>"
      ]
     },
     "execution_count": null,
     "metadata": {},
     "output_type": "execute_result"
    }
   ],
   "source": [
    "url='http://www.baidu.com/'\n",
    "ips = list(db.keys())\n",
    "\n",
    "parallel_task(lambda ip:_proxy_request(url, ip),ips,100)"
   ]
  },
  {
   "cell_type": "code",
   "execution_count": null,
   "metadata": {},
   "outputs": [
    {
     "name": "stdout",
     "output_type": "stream",
     "text": [
      "except error: 100,9.37.17.19:88 6.625\n",
      "except error: 153.127.29.158:3128 12.5\n",
      "except error: 211.147.226.4:8118 12.5\n",
      "except error: 153.126.181.248:3128 51.0\n",
      "except error: 118.24.246.249:80 12.5\n",
      "except error: 223.242.225.135:9999 12.5\n",
      "except error: 183.147.221.169:9000 12.5\n",
      "except error: 182.100.100.164:9000 12.5\n",
      "except error: 27.203.163.18:8060 12.5\n",
      "except error:<Response [200]> 113.121.171.200:8088 25.5\n",
      " 61.147.210.159:8080 204except error:\n",
      " 34.71.169.15:3128 51.0\n",
      "<Response [403]> 58.220.95.90:9401 12.5\n",
      "except error: 171.35.168.143:9999 12.5\n",
      "<Response [403]> 58.220.95.79:10000 12.5\n",
      "except error: 182.46.111.72:9999 12.5\n",
      "except error: 60.184.204.182:3000 12.5\n",
      "<Response [200]> 39.137.69.10:8080 204\n",
      "except error: 68.183.188.100:3128 26.0\n",
      "except error: 142.93.57.37:80 12.5\n",
      "except error: 178.128.243.206:8080 51.0\n",
      "except error: 45.63.42.56:80 51.0\n",
      "except error: 169.60.27.163:8080 51.0\n",
      "except error:except error: 198.23.143.27:8080 12.5\n",
      " 36.66.34.10:8080 12.5\n",
      "except error: 80.211.60.89:8118 12.5\n",
      "except error: 108.74.113.180:80 25.5\n",
      "except error: 84.22.46.25:8080 12.5\n",
      "<Response [200]> 91.205.174.26:80 204\n",
      "except error: 178.19.97.1:8088 12.5\n",
      "except error: 176.123.129.14:8080 12.5\n",
      "<Response [200]> 92.38.135.142:3128 204\n",
      "except error: 103.4.66.45:8080 12.5\n",
      "<Response [200]> 35.233.136.146:3128 204\n",
      "<Response [200]> 5.189.246.226:8080 102.0\n",
      "<Response [200]> 52.221.211.14:80 204\n",
      "<Response [200]> 178.63.41.235:9999 204\n",
      "<Response [200]> 12.139.101.98:80 204\n",
      "<Response [200]> 12.139.101.101:80 204\n",
      "<Response [200]> 52.179.231.206:80 204\n",
      "<Response [200]> 118.69.50.154:80 102.0\n",
      "<Response [200]> 45.76.34.27:8080 204\n",
      "<Response [200]> 112.133.214.240:80 204\n",
      "<Response [200]> 52.230.6.90:8080 204\n",
      "<Response [200]> 112.133.214.241:80 204\n",
      "<Response [200]> 104.154.143.77:3128 204\n",
      "<Response [200]> 138.197.32.120:3128 204\n",
      "<Response [200]> 203.202.245.62:80 204\n",
      "<Response [200]> 34.253.177.131:3128 50.0\n",
      "<Response [200]> 54.229.251.214:80 50.0\n",
      "<Response [200]> 191.239.251.48:80 204\n",
      "<Response [200]> 191.232.53.73:80 204\n",
      "<Response [200]> 46.4.96.67:80 204\n",
      "except error: 119.18.153.18:8080 12.5\n",
      "<Response [200]> 82.119.170.106:8080 102.0\n",
      "<Response [200]> 5.196.23.219:80 50.0\n",
      "except error: 107.163.208.201:808 12.5\n",
      "<Response [200]> 101.4.136.34:8080 204\n",
      "except error: 111.68.123.214:8080 12.5\n",
      "<Response [200]> 45.236.91.20:8880 102.0\n",
      "<Response [200]> 39.106.223.134:80 50.0\n",
      "except error:except error: 163.204.244.70:9999 12.5\n",
      " 39.137.107.9:8080 12.5\n",
      "except error: 182.148.206.23:9999 12.5\n",
      "except error: 175.42.129.249:9999 12.5\n",
      "except error: 123.169.167.215:9999 12.5\n",
      "except error: 123.52.96.68:9999 12.5\n",
      "except error:except error:  59.62.24.8:9000 12.5\n",
      "163.204.241.119:9999 12.5\n",
      "except error:except error: 110.249.176.26:8060 12.5\n",
      " 1.193.244.253:9999 12.5\n",
      "except error: 175.42.123.144:9999 12.5\n",
      "except error: 110.243.11.83:9999 12.5\n",
      "except error: 115.218.6.108:9000 12.5\n",
      "except error: 163.204.244.136:9999 12.5\n",
      "except error: 163.204.240.111:9999 12.5\n",
      "except error: 110.243.18.134:9999 12.5\n",
      "except error:except error:  129.204.29.130:8080 12.5\n",
      "104.41.29.43:80 51.0\n",
      "except error: 163.204.243.22:9999 12.5\n",
      "except error: 39.106.156.203:8080 12.5\n",
      "except error: 119.142.210.105:4216 12.5\n",
      "except error: except error:128.199.76.203:8080 185.220.207.148:80 51.0\n",
      " 25.25\n",
      "except error: 203.204.200.107:80 51.0\n",
      "except error:except error: 163.204.247.147:9999 6.25\n",
      " 113.195.16.187:9999 12.5\n",
      "except error: 113.121.21.215:9999 12.5\n",
      "except error: 120.203.18.54:8888 12.5\n",
      "except error: 125.123.156.193:3000 12.5\n",
      "except error: 113.195.229.120:9999 12.5\n",
      "except error:except error: 163.204.245.173:9999 12.5\n",
      " 58.23.230.156:8118 12.5\n",
      "except error:except error: 59.62.25.62:9000 6.25\n",
      " 60.179.252.7:3000 12.5\n",
      "except error: 60.162.89.179:9000 12.5\n",
      "except error: 60.179.230.108:3000 12.5\n",
      "except error:except error: 60.179.252.45:3000  12.5\n",
      "60.179.254.211:3000 12.5\n",
      "except error:except error: 60.179.230.71:3000 12.5\n",
      " 59.52.187.148:1624 12.5\n",
      "except error: 60.182.21.180:9000 12.5\n",
      "except error:except error: 59.33.55.90:9999 12.5\n",
      " 60.168.206.117:1133 12.5\n",
      "except error:except error:except error: 60.162.74.20:9000 12.5\n",
      "  71.41.27.245:8080 12.5\n",
      "110.77.134.112:8080 12.5\n",
      "except error:except error: 190.104.170.234:8080 12.5\n",
      " except error:except error:except error:except error:  176.106.120.82:8080 12.5\n",
      "except error:except error:  212.83.177.64:5836 51.0\n",
      "23.95.43.171:3128 12.5\n",
      " 182.180.154.47:3128 82.192.30.238:8080 12.5\n",
      " 203.160.163.58:808012.5\n",
      "75.134.84.195:8080 12.5\n",
      " 12.5\n",
      "except error: 190.186.42.124:8080 12.5\n",
      "except error: 103.19.109.186:8088 12.5\n",
      "except error: 158.181.148.252:8080 12.5\n",
      "except error: 61.90.41.97:8888 12.5\n",
      "except error:except error: 46.39.192.48:8080 12.5\n",
      " 103.247.101.102:8080 12.5\n",
      "except error: 202.56.160.110:8080 12.5\n",
      "except error: 78.189.178.224:80 12.5\n",
      "except error: 186.19.175.6:3128 12.5\n",
      "except error: 103.246.1.101:8080 12.5\n",
      "except error: 125.209.73.57:8080 12.5\n",
      "except error: 186.101.113.234:8080 12.5\n",
      "<Response [200]> 82.165.206.65:3128 204\n",
      "except error: 36.66.242.10:8080 12.5\n",
      "<Response [200]> 182.253.175.205:8080 101.0\n",
      "except error: 180.250.100.66:3128 12.5\n",
      "except error: 94.154.222.95:8080 12.5\n",
      "except error: 80.188.135.10:8080 12.5\n",
      "except error: 83.241.46.175:8080 12.5\n",
      "except error: 104.236.156.162:80 12.5\n",
      "except error: 190.77.134.96:8080 12.5\n",
      "except error: 188.214.23.78:80 12.5\n",
      "except error: 89.122.149.97:3128 12.5\n",
      "except error: 217.117.13.170:8080 12.5\n",
      "except error: 46.97.0.186:8080 12.5\n",
      "except error: 107.163.117.80:808 12.5\n",
      "except error: 104.40.159.62:8118 12.5\n",
      "except error: 107.163.117.160:808 12.5\n",
      "<Response [200]> 212.83.190.202:5836 204\n",
      "except error: 107.163.117.58:808 12.5\n",
      "except error: 107.163.117.239:808 12.5\n",
      "<Response [200]> 198.98.58.178:8080 50.0\n",
      "except error: 80.79.127.140:8080 12.5\n",
      "except error: 107.163.117.178:808 12.5\n",
      "except error: 107.163.117.13:808 12.5\n",
      "except error: 107.163.117.61:808 12.5\n",
      "except error: 112.105.11.196:8088 12.5\n",
      "except error: 27.154.34.146:39320 12.5\n",
      "except error: 103.5.232.146:8080 25.25\n",
      "except error: 195.154.53.196:5836 25.5\n",
      "except error: 180.106.150.213:10080 12.5\n",
      "except error: 3.122.199.27:3128 12.5\n",
      "except error: 159.138.1.185:80 12.5\n",
      "<Response [200]> 85.10.219.96:1080 101.0\n"
     ]
    },
    {
     "ename": "KeyboardInterrupt",
     "evalue": "",
     "output_type": "error",
     "traceback": [
      "\u001b[0;31m---------------------------------------------------------------------------\u001b[0m",
      "\u001b[0;31mKeyboardInterrupt\u001b[0m                         Traceback (most recent call last)",
      "\u001b[0;32m<ipython-input-105-5396773ee36d>\u001b[0m in \u001b[0;36m<module>\u001b[0;34m\u001b[0m\n\u001b[0;32m----> 1\u001b[0;31m \u001b[0mvalidate_ips\u001b[0m\u001b[0;34m(\u001b[0m\u001b[0;34m)\u001b[0m\u001b[0;34m\u001b[0m\u001b[0;34m\u001b[0m\u001b[0m\n\u001b[0m",
      "\u001b[0;32m<ipython-input-99-2581c75f5b54>\u001b[0m in \u001b[0;36mvalidate_ips\u001b[0;34m(url, max_workers)\u001b[0m\n\u001b[1;32m      3\u001b[0m     \u001b[0;32mglobal\u001b[0m \u001b[0mdb\u001b[0m\u001b[0;34m\u001b[0m\u001b[0;34m\u001b[0m\u001b[0m\n\u001b[1;32m      4\u001b[0m     \u001b[0mips\u001b[0m \u001b[0;34m=\u001b[0m \u001b[0mlist\u001b[0m\u001b[0;34m(\u001b[0m\u001b[0mdb\u001b[0m\u001b[0;34m.\u001b[0m\u001b[0mkeys\u001b[0m\u001b[0;34m(\u001b[0m\u001b[0;34m)\u001b[0m\u001b[0;34m)\u001b[0m\u001b[0;34m\u001b[0m\u001b[0;34m\u001b[0m\u001b[0m\n\u001b[0;32m----> 5\u001b[0;31m     \u001b[0mr\u001b[0m \u001b[0;34m=\u001b[0m \u001b[0mparallel_task\u001b[0m\u001b[0;34m(\u001b[0m\u001b[0;32mlambda\u001b[0m \u001b[0mip\u001b[0m\u001b[0;34m:\u001b[0m\u001b[0m_proxy_request\u001b[0m\u001b[0;34m(\u001b[0m\u001b[0murl\u001b[0m\u001b[0;34m,\u001b[0m \u001b[0mip\u001b[0m\u001b[0;34m)\u001b[0m\u001b[0;34m,\u001b[0m\u001b[0mips\u001b[0m\u001b[0;34m,\u001b[0m\u001b[0mmax_workers\u001b[0m\u001b[0;34m)\u001b[0m\u001b[0;34m\u001b[0m\u001b[0;34m\u001b[0m\u001b[0m\n\u001b[0m\u001b[1;32m      6\u001b[0m     \u001b[0mprint\u001b[0m\u001b[0;34m(\u001b[0m\u001b[0;34m'good ips:'\u001b[0m\u001b[0;34m,\u001b[0m\u001b[0mcount_good_ips\u001b[0m\u001b[0;34m(\u001b[0m\u001b[0;34m)\u001b[0m\u001b[0;34m)\u001b[0m\u001b[0;34m\u001b[0m\u001b[0;34m\u001b[0m\u001b[0m\n",
      "\u001b[0;32m<ipython-input-104-6a88cb3d4b72>\u001b[0m in \u001b[0;36mparallel_task\u001b[0;34m(fn, loop_args, max_workers)\u001b[0m\n\u001b[1;32m     13\u001b[0m     \u001b[0mresult\u001b[0m \u001b[0;34m=\u001b[0m \u001b[0;34m[\u001b[0m\u001b[0;34m]\u001b[0m\u001b[0;34m\u001b[0m\u001b[0;34m\u001b[0m\u001b[0m\n\u001b[1;32m     14\u001b[0m     \u001b[0;32mwith\u001b[0m \u001b[0mThreadPoolExecutor\u001b[0m\u001b[0;34m(\u001b[0m\u001b[0mmax_workers\u001b[0m\u001b[0;34m=\u001b[0m\u001b[0mmax_workers\u001b[0m\u001b[0;34m)\u001b[0m \u001b[0;32mas\u001b[0m \u001b[0mexecutor\u001b[0m\u001b[0;34m:\u001b[0m\u001b[0;34m\u001b[0m\u001b[0;34m\u001b[0m\u001b[0m\n\u001b[0;32m---> 15\u001b[0;31m         \u001b[0;32mfor\u001b[0m \u001b[0mdata\u001b[0m \u001b[0;32min\u001b[0m \u001b[0mexecutor\u001b[0m\u001b[0;34m.\u001b[0m\u001b[0mmap\u001b[0m\u001b[0;34m(\u001b[0m\u001b[0mfn\u001b[0m\u001b[0;34m,\u001b[0m\u001b[0mloop_args\u001b[0m\u001b[0;34m)\u001b[0m\u001b[0;34m:\u001b[0m\u001b[0;34m\u001b[0m\u001b[0;34m\u001b[0m\u001b[0m\n\u001b[0m\u001b[1;32m     16\u001b[0m \u001b[0;31m#             yield data\u001b[0m\u001b[0;34m\u001b[0m\u001b[0;34m\u001b[0m\u001b[0;34m\u001b[0m\u001b[0m\n\u001b[1;32m     17\u001b[0m \u001b[0;31m#     results = _parallel_task(fn,loop_args,max_workers)\u001b[0m\u001b[0;34m\u001b[0m\u001b[0;34m\u001b[0m\u001b[0;34m\u001b[0m\u001b[0m\n",
      "\u001b[0;32m/opt/anaconda3/lib/python3.7/concurrent/futures/_base.py\u001b[0m in \u001b[0;36mresult_iterator\u001b[0;34m()\u001b[0m\n\u001b[1;32m    596\u001b[0m                     \u001b[0;31m# Careful not to keep a reference to the popped future\u001b[0m\u001b[0;34m\u001b[0m\u001b[0;34m\u001b[0m\u001b[0;34m\u001b[0m\u001b[0m\n\u001b[1;32m    597\u001b[0m                     \u001b[0;32mif\u001b[0m \u001b[0mtimeout\u001b[0m \u001b[0;32mis\u001b[0m \u001b[0;32mNone\u001b[0m\u001b[0;34m:\u001b[0m\u001b[0;34m\u001b[0m\u001b[0;34m\u001b[0m\u001b[0m\n\u001b[0;32m--> 598\u001b[0;31m                         \u001b[0;32myield\u001b[0m \u001b[0mfs\u001b[0m\u001b[0;34m.\u001b[0m\u001b[0mpop\u001b[0m\u001b[0;34m(\u001b[0m\u001b[0;34m)\u001b[0m\u001b[0;34m.\u001b[0m\u001b[0mresult\u001b[0m\u001b[0;34m(\u001b[0m\u001b[0;34m)\u001b[0m\u001b[0;34m\u001b[0m\u001b[0;34m\u001b[0m\u001b[0m\n\u001b[0m\u001b[1;32m    599\u001b[0m                     \u001b[0;32melse\u001b[0m\u001b[0;34m:\u001b[0m\u001b[0;34m\u001b[0m\u001b[0;34m\u001b[0m\u001b[0m\n\u001b[1;32m    600\u001b[0m                         \u001b[0;32myield\u001b[0m \u001b[0mfs\u001b[0m\u001b[0;34m.\u001b[0m\u001b[0mpop\u001b[0m\u001b[0;34m(\u001b[0m\u001b[0;34m)\u001b[0m\u001b[0;34m.\u001b[0m\u001b[0mresult\u001b[0m\u001b[0;34m(\u001b[0m\u001b[0mend_time\u001b[0m \u001b[0;34m-\u001b[0m \u001b[0mtime\u001b[0m\u001b[0;34m.\u001b[0m\u001b[0mmonotonic\u001b[0m\u001b[0;34m(\u001b[0m\u001b[0;34m)\u001b[0m\u001b[0;34m)\u001b[0m\u001b[0;34m\u001b[0m\u001b[0;34m\u001b[0m\u001b[0m\n",
      "\u001b[0;32m/opt/anaconda3/lib/python3.7/concurrent/futures/_base.py\u001b[0m in \u001b[0;36mresult\u001b[0;34m(self, timeout)\u001b[0m\n\u001b[1;32m    428\u001b[0m                 \u001b[0;32mreturn\u001b[0m \u001b[0mself\u001b[0m\u001b[0;34m.\u001b[0m\u001b[0m__get_result\u001b[0m\u001b[0;34m(\u001b[0m\u001b[0;34m)\u001b[0m\u001b[0;34m\u001b[0m\u001b[0;34m\u001b[0m\u001b[0m\n\u001b[1;32m    429\u001b[0m \u001b[0;34m\u001b[0m\u001b[0m\n\u001b[0;32m--> 430\u001b[0;31m             \u001b[0mself\u001b[0m\u001b[0;34m.\u001b[0m\u001b[0m_condition\u001b[0m\u001b[0;34m.\u001b[0m\u001b[0mwait\u001b[0m\u001b[0;34m(\u001b[0m\u001b[0mtimeout\u001b[0m\u001b[0;34m)\u001b[0m\u001b[0;34m\u001b[0m\u001b[0;34m\u001b[0m\u001b[0m\n\u001b[0m\u001b[1;32m    431\u001b[0m \u001b[0;34m\u001b[0m\u001b[0m\n\u001b[1;32m    432\u001b[0m             \u001b[0;32mif\u001b[0m \u001b[0mself\u001b[0m\u001b[0;34m.\u001b[0m\u001b[0m_state\u001b[0m \u001b[0;32min\u001b[0m \u001b[0;34m[\u001b[0m\u001b[0mCANCELLED\u001b[0m\u001b[0;34m,\u001b[0m \u001b[0mCANCELLED_AND_NOTIFIED\u001b[0m\u001b[0;34m]\u001b[0m\u001b[0;34m:\u001b[0m\u001b[0;34m\u001b[0m\u001b[0;34m\u001b[0m\u001b[0m\n",
      "\u001b[0;32m/opt/anaconda3/lib/python3.7/threading.py\u001b[0m in \u001b[0;36mwait\u001b[0;34m(self, timeout)\u001b[0m\n\u001b[1;32m    294\u001b[0m         \u001b[0;32mtry\u001b[0m\u001b[0;34m:\u001b[0m    \u001b[0;31m# restore state no matter what (e.g., KeyboardInterrupt)\u001b[0m\u001b[0;34m\u001b[0m\u001b[0;34m\u001b[0m\u001b[0m\n\u001b[1;32m    295\u001b[0m             \u001b[0;32mif\u001b[0m \u001b[0mtimeout\u001b[0m \u001b[0;32mis\u001b[0m \u001b[0;32mNone\u001b[0m\u001b[0;34m:\u001b[0m\u001b[0;34m\u001b[0m\u001b[0;34m\u001b[0m\u001b[0m\n\u001b[0;32m--> 296\u001b[0;31m                 \u001b[0mwaiter\u001b[0m\u001b[0;34m.\u001b[0m\u001b[0macquire\u001b[0m\u001b[0;34m(\u001b[0m\u001b[0;34m)\u001b[0m\u001b[0;34m\u001b[0m\u001b[0;34m\u001b[0m\u001b[0m\n\u001b[0m\u001b[1;32m    297\u001b[0m                 \u001b[0mgotit\u001b[0m \u001b[0;34m=\u001b[0m \u001b[0;32mTrue\u001b[0m\u001b[0;34m\u001b[0m\u001b[0;34m\u001b[0m\u001b[0m\n\u001b[1;32m    298\u001b[0m             \u001b[0;32melse\u001b[0m\u001b[0;34m:\u001b[0m\u001b[0;34m\u001b[0m\u001b[0;34m\u001b[0m\u001b[0m\n",
      "\u001b[0;31mKeyboardInterrupt\u001b[0m: "
     ]
    }
   ],
   "source": [
    "validate_ips()"
   ]
  },
  {
   "cell_type": "code",
   "execution_count": null,
   "metadata": {},
   "outputs": [],
   "source": [
    "g"
   ]
  },
  {
   "cell_type": "code",
   "execution_count": null,
   "metadata": {},
   "outputs": [],
   "source": []
  },
  {
   "cell_type": "markdown",
   "metadata": {},
   "source": [
    "## 获取&自动更新ip"
   ]
  },
  {
   "cell_type": "code",
   "execution_count": null,
   "metadata": {},
   "outputs": [],
   "source": [
    "# export\n",
    "last_modify = {}"
   ]
  },
  {
   "cell_type": "code",
   "execution_count": null,
   "metadata": {},
   "outputs": [],
   "source": [
    "# export\n",
    "def delete_ips():\n",
    "    '删除不健康的ip，节省内存，提高抽取效率'\n",
    "    global db\n",
    "    keys = list(db.keys())\n",
    "    count_before = len(keys)\n",
    "    for k in keys:\n",
    "        if db[k] < 50: del db[k]\n",
    "    count_current = len(db.keys())\n",
    "    print('删除：',count_before-count_current,'剩余：',count_current)\n",
    "\n",
    "def get_ip():\n",
    "    '5min爬一次ip网站，1h删一次劣质ip'\n",
    "    global db\n",
    "    # 如果db为空，则尝试从txt文件读取\n",
    "    if not db: \n",
    "        if Path('ipool.txt').exists():\n",
    "            with open('ipool.txt','r') as f:\n",
    "                db = json.load(f)\n",
    "    \n",
    "    interval_task(delete_ips,'delete',interval=3600)\n",
    "    interval_task(crawl_ips,'crawl')\n",
    "    \n",
    "    return _get_ip()"
   ]
  },
  {
   "cell_type": "code",
   "execution_count": null,
   "metadata": {},
   "outputs": [
    {
     "data": {
      "text/plain": [
       "'118.69.50.154:80'"
      ]
     },
     "execution_count": null,
     "metadata": {},
     "output_type": "execute_result"
    }
   ],
   "source": [
    "get_ip()"
   ]
  },
  {
   "cell_type": "code",
   "execution_count": null,
   "metadata": {},
   "outputs": [],
   "source": []
  },
  {
   "cell_type": "code",
   "execution_count": null,
   "metadata": {},
   "outputs": [],
   "source": []
  },
  {
   "cell_type": "markdown",
   "metadata": {},
   "source": [
    "# 发布"
   ]
  },
  {
   "cell_type": "code",
   "execution_count": null,
   "metadata": {},
   "outputs": [
    {
     "name": "stdout",
     "output_type": "stream",
     "text": [
      "Converted 11b_ipool_lite.ipynb.\n",
      "[master f7090a2] improve parallel task\n",
      " 2 files changed, 243 insertions(+), 447 deletions(-)\n"
     ]
    }
   ],
   "source": [
    "# hide\n",
    "!nbdev_build_lib --fname 11b_ipool_lite.ipynb\n",
    "\n",
    "!cp crawler_from_scratch/IPool_lite.py /Users/Neo/learn_fastai_from_scratch/IPool_lite.py\n",
    "\n",
    "!git add 11b_ipool_lite.ipynb\n",
    "!git add crawler_from_scratch/IPool_lite.py\n",
    "\n",
    "!git commit -m \"improve parallel task\""
   ]
  },
  {
   "cell_type": "code",
   "execution_count": null,
   "metadata": {},
   "outputs": [],
   "source": []
  },
  {
   "cell_type": "markdown",
   "metadata": {},
   "source": [
    "# 优化\n",
    "\n",
    "\n",
    "如果线上跑的时候，把各种错误写到log文件中，或者用一个比较明显的方式显示进度，但其他的log会一直存在"
   ]
  },
  {
   "cell_type": "markdown",
   "metadata": {},
   "source": [
    "***TODO***\n",
    "* [x] 提示信息优化，except error\n",
    "* [ ] request超过10次报错,try\n",
    "* [ ] get ip提高优质ip被选择概率\n"
   ]
  },
  {
   "cell_type": "code",
   "execution_count": null,
   "metadata": {},
   "outputs": [],
   "source": []
  }
 ],
 "metadata": {
  "kernelspec": {
   "display_name": "Python 3",
   "language": "python",
   "name": "python3"
  }
 },
 "nbformat": 4,
 "nbformat_minor": 4
}
