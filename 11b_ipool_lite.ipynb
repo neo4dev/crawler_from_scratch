{
 "cells": [
  {
   "cell_type": "code",
   "execution_count": null,
   "metadata": {},
   "outputs": [],
   "source": [
    "# default_exp IPool_lite"
   ]
  },
  {
   "cell_type": "markdown",
   "metadata": {},
   "source": [
    "核心就是去掉数据库，把这几百条数据放内存里查询&修改，定期备份成txt\n",
    "\n",
    "核心路径是get_ip，所以初始化操作也在这里"
   ]
  },
  {
   "cell_type": "code",
   "execution_count": null,
   "metadata": {},
   "outputs": [],
   "source": [
    "# export\n",
    "import json,random,requests,re,time\n",
    "from bs4 import BeautifulSoup\n",
    "from concurrent.futures import ThreadPoolExecutor\n",
    "from pathlib import Path"
   ]
  },
  {
   "cell_type": "markdown",
   "metadata": {},
   "source": [
    "# 核心"
   ]
  },
  {
   "cell_type": "markdown",
   "metadata": {},
   "source": [
    "## 获取一个ip"
   ]
  },
  {
   "cell_type": "code",
   "execution_count": null,
   "metadata": {},
   "outputs": [],
   "source": [
    "# export\n",
    "db = {}"
   ]
  },
  {
   "cell_type": "code",
   "execution_count": null,
   "metadata": {},
   "outputs": [],
   "source": [
    "# export\n",
    "def _get_ip() -> str:\n",
    "    '健康值作为权重，随机抽取一个ip'\n",
    "    global db\n",
    "    ips = random.choices(list(db.keys()),weights=db.values(),k=1)\n",
    "    return ips[0]"
   ]
  },
  {
   "cell_type": "code",
   "execution_count": null,
   "metadata": {},
   "outputs": [
    {
     "data": {
      "text/plain": [
       "'100,9.37.17.19:88'"
      ]
     },
     "execution_count": null,
     "metadata": {},
     "output_type": "execute_result"
    }
   ],
   "source": [
    "db = {'39.137.107.9:8080':100,'100,9.37.17.19:88':52}\n",
    "_get_ip()"
   ]
  },
  {
   "cell_type": "markdown",
   "metadata": {},
   "source": [
    "## 更新健康值"
   ]
  },
  {
   "cell_type": "code",
   "execution_count": null,
   "metadata": {},
   "outputs": [],
   "source": [
    "# export\n",
    "def update_health(ip,is_good=False) -> int:\n",
    "    '更新ip的health值，好用+1，无效/2'\n",
    "    db[ip] = db[ip]+1 if is_good else db[ip]/2\n",
    "    return db[ip]"
   ]
  },
  {
   "cell_type": "code",
   "execution_count": null,
   "metadata": {},
   "outputs": [
    {
     "data": {
      "text/plain": [
       "53"
      ]
     },
     "execution_count": null,
     "metadata": {},
     "output_type": "execute_result"
    }
   ],
   "source": [
    "ip = '100,9.37.17.19:88'\n",
    "update_health(ip,is_good=True)"
   ]
  },
  {
   "cell_type": "markdown",
   "metadata": {},
   "source": [
    "# 工具\n",
    "## 周期任务"
   ]
  },
  {
   "cell_type": "code",
   "execution_count": null,
   "metadata": {},
   "outputs": [],
   "source": [
    "# export\n",
    "def interval_task(fn,name,interval=300):\n",
    "    '每5min自动执行fn'\n",
    "    global last_modify\n",
    "    if name not in last_modify or (time.time()-last_modify[name]) > interval:\n",
    "        last_modify[name] = time.time()\n",
    "        fn()"
   ]
  },
  {
   "cell_type": "markdown",
   "metadata": {},
   "source": [
    "## 并行任务"
   ]
  },
  {
   "cell_type": "code",
   "execution_count": null,
   "metadata": {},
   "outputs": [],
   "source": [
    "# export\n",
    "def get_progress_bar(r,length=30) -> str:\n",
    "    # 类似于这样的进度条'[#######                                          ]14.87%'\n",
    "    current = int(length*r)\n",
    "    rest = int(length*(1-r))\n",
    "    return '['+'#'*current+' '*rest+'] '+str(r*100)[:5]+'%'\n",
    "\n",
    "def show_current_progress(done_num,total_num,start_time):\n",
    "    pct = done_num/total_num\n",
    "    now = time.time()\n",
    "    cost_time = int(now-start_time)\n",
    "    left_time = int(cost_time/done_num*(total_num-done_num))\n",
    "    print(f'progress:{get_progress_bar(pct)} | cost:{cost_time}s | left:{left_time}s')"
   ]
  },
  {
   "cell_type": "code",
   "execution_count": null,
   "metadata": {},
   "outputs": [],
   "source": [
    "# export\n",
    "def _parallel_task(fn,loop_args,max_workers=3):\n",
    "    with ThreadPoolExecutor(max_workers=max_workers) as executor:\n",
    "        for data in executor.map(fn,loop_args):\n",
    "            yield data\n",
    "\n",
    "def parallel_task(fn,loop_args,max_workers=3):\n",
    "    start_time = time.time()\n",
    "    \n",
    "    done_num = 0\n",
    "    total_num = len(loop_args)\n",
    "    \n",
    "    results = _parallel_task(fn,loop_args,max_workers)\n",
    "    for data in results:\n",
    "        done_num += 1\n",
    "        interval_task(lambda:show_current_progress(done_num,total_num,start_time),'progress',1)\n",
    "#         print('output data:',data)\n",
    "        yield data\n",
    "    \n",
    "    cost_time = int(time.time()-start_time)\n",
    "    print(f'{total_num} tasks, {cost_time}s')\n",
    "#     return results"
   ]
  },
  {
   "cell_type": "code",
   "execution_count": null,
   "metadata": {},
   "outputs": [
    {
     "name": "stdout",
     "output_type": "stream",
     "text": [
      "progress:[########                     ] 27.27% | cost:10s | left:26s\n"
     ]
    }
   ],
   "source": [
    "show_current_progress(3,11,time.time()-10)"
   ]
  },
  {
   "cell_type": "code",
   "execution_count": null,
   "metadata": {},
   "outputs": [
    {
     "name": "stdout",
     "output_type": "stream",
     "text": [
      "progress:[###                           ] 10.0% | cost:9s | left:81s\n",
      "hi end 0 9\n",
      "hi end 1 3\n",
      "hi end 2 1\n",
      "hi end 3 8\n",
      "progress:[###############               ] 50.0% | cost:13s | left:13s\n",
      "hi end 4 10\n",
      "progress:[##################            ] 60.0% | cost:17s | left:11s\n",
      "hi end 5 8\n",
      "hi end 6 6\n",
      "progress:[########################     ] 80.0% | cost:23s | left:5s\n",
      "hi end 7 10\n",
      "hi end 8 7\n",
      "hi end 9 1\n",
      "10 tasks, 23s\n"
     ]
    }
   ],
   "source": [
    "def say_hi(i): \n",
    "    t = random.randint(1,10)\n",
    "    time.sleep(t)\n",
    "    return f'hi end {i} {t}'\n",
    "\n",
    "for i in parallel_task(say_hi,range(10)):\n",
    "    print(i)"
   ]
  },
  {
   "cell_type": "markdown",
   "metadata": {},
   "source": [
    "## 查看优质ip"
   ]
  },
  {
   "cell_type": "code",
   "execution_count": null,
   "metadata": {},
   "outputs": [],
   "source": [
    "# export\n",
    "def count_good_ips():\n",
    "    global db\n",
    "    return len([k for k in db.keys() if db[k] > 100])"
   ]
  },
  {
   "cell_type": "code",
   "execution_count": null,
   "metadata": {},
   "outputs": [
    {
     "data": {
      "text/plain": [
       "126"
      ]
     },
     "execution_count": null,
     "metadata": {},
     "output_type": "execute_result"
    }
   ],
   "source": [
    "count_good_ips()"
   ]
  },
  {
   "cell_type": "markdown",
   "metadata": {},
   "source": [
    "# 进阶"
   ]
  },
  {
   "cell_type": "markdown",
   "metadata": {},
   "source": [
    "## 爬取ip网站\n",
    "> 搜索全部tr，然后解析符合的ip，不符合的就不管"
   ]
  },
  {
   "cell_type": "code",
   "execution_count": null,
   "metadata": {},
   "outputs": [],
   "source": [
    "# export\n",
    "sites = '''\n",
    "https://www.kuaidaili.com/free/inha/\n",
    "http://www.nimadaili.com/gaoni/\n",
    "http://www.xiladaili.com/gaoni/\n",
    "https://ip.jiangxianli.com/?anonymity=2\n",
    "https://www.7yip.cn/free/\n",
    "http://www.ip3366.net/free/\n",
    "https://list.proxylistplus.com/Fresh-HTTP-Proxy-List-1\n",
    "http://proxyslist.com/\n",
    "'''.strip().split('\\n')"
   ]
  },
  {
   "cell_type": "code",
   "execution_count": null,
   "metadata": {},
   "outputs": [],
   "source": [
    "# export\n",
    "def match_ip(tag): return re.match(r'^(\\d{1,3}\\.){3}\\d{1,3}$',tag.text.strip())\n",
    "def match_port(tag): return re.match(r'^\\d{2,5}$',tag.text.strip())\n",
    "def match_ip_with_port(tag): return re.match(r'^(\\d{1,3}\\.){3}\\d{1,3}:\\d{2,5}$',tag.text.strip())\n",
    "\n",
    "def _parse_ip(soup) -> str:\n",
    "    ip_with_port = soup.find(match_ip_with_port)\n",
    "    ip = soup.find(match_ip)\n",
    "    port = soup.find(match_port)\n",
    "    if ip_with_port: return ip_with_port.text\n",
    "    elif ip and port: return ip.text+':'+port.text\n",
    "#     else: print('parse ip error:',soup)\n",
    "\n",
    "def parse_ips(url) -> iter:\n",
    "    res = requests.get(url,headers={'user-agent':'Mozilla/5.0'})\n",
    "    soup = BeautifulSoup(res.text,features='lxml')\n",
    "    tr_items = soup.body.find_all('tr')\n",
    "    for tr in tr_items:\n",
    "        ip = _parse_ip(tr) \n",
    "        if ip: yield ip\n",
    "        "
   ]
  },
  {
   "cell_type": "code",
   "execution_count": null,
   "metadata": {},
   "outputs": [],
   "source": [
    "# export\n",
    "def save_ips(ips) -> int:\n",
    "    'ips保存到db和txt中，并且返回新增ip个数'\n",
    "    global db\n",
    "    keys = db.keys()\n",
    "    count_new = 0\n",
    "    for ip in ips:\n",
    "        if ip not in keys:\n",
    "            db[ip] = 100\n",
    "            count_new += 1\n",
    "    with open('ipool.txt','w') as f:\n",
    "        json.dump(db,f)\n",
    "    return count_new\n",
    "            "
   ]
  },
  {
   "cell_type": "code",
   "execution_count": null,
   "metadata": {},
   "outputs": [],
   "source": [
    "# export\n",
    "def crawl_ips():\n",
    "    '爬取并保存ip'\n",
    "    global sites,db\n",
    "    for url in sites:\n",
    "        try:\n",
    "            ips = list(parse_ips(url))  \n",
    "            count_new = save_ips(ips)\n",
    "            print(url,' 新增：',count_new)\n",
    "        except:\n",
    "            print('error',url)\n",
    "    print('总库存：',len(db.keys()))"
   ]
  },
  {
   "cell_type": "code",
   "execution_count": null,
   "metadata": {},
   "outputs": [
    {
     "name": "stdout",
     "output_type": "stream",
     "text": [
      "https://www.kuaidaili.com/free/inha/  新增： 0\n",
      "http://www.nimadaili.com/gaoni/  新增： 0\n",
      "http://www.xiladaili.com/gaoni/  新增： 8\n",
      "https://ip.jiangxianli.com/?anonymity=2  新增： 2\n",
      "https://www.7yip.cn/free/  新增： 0\n",
      "http://www.ip3366.net/free/  新增： 0\n",
      "https://list.proxylistplus.com/Fresh-HTTP-Proxy-List-1  新增： 0\n",
      "http://proxyslist.com/  新增： 0\n",
      "总库存： 203\n"
     ]
    }
   ],
   "source": [
    "crawl_ips()"
   ]
  },
  {
   "cell_type": "markdown",
   "metadata": {},
   "source": [
    "## 代理请求\n",
    "分支可用于验证ip"
   ]
  },
  {
   "cell_type": "code",
   "execution_count": null,
   "metadata": {},
   "outputs": [],
   "source": [
    "# export\n",
    "def parse_protocal(url): return 'https' if 'https' in url else 'http'\n",
    "\n",
    "def _proxy_request(url,ip,method='get') -> object:\n",
    "    '代理请求，并更新ip的health'\n",
    "    protocal = parse_protocal(url)\n",
    "    proxies = {protocal: protocal+'://'+ip}\n",
    "    \n",
    "    try:\n",
    "        res = requests.request(method,url,\n",
    "                               headers={'user-agent':'Mozilla/5.0'},\n",
    "                               proxies=proxies,\n",
    "                               allow_redirects=False,\n",
    "                               timeout=5)\n",
    "    except:\n",
    "        update_health(ip)\n",
    "        print('except error:',ip,db[ip])\n",
    "        return\n",
    "    else:\n",
    "        if res and res.status_code == 200: update_health(ip,is_good=True)\n",
    "        else: update_health(ip)\n",
    "        print(res,ip,db[ip])\n",
    "        return res"
   ]
  },
  {
   "cell_type": "code",
   "execution_count": null,
   "metadata": {},
   "outputs": [],
   "source": [
    "# export\n",
    "def proxy_request(url,method='get',repeat_times=10) -> object:\n",
    "    '自动获取一个随机ip，不断重复请求，直到200'\n",
    "    current_times = 1\n",
    "    while current_times <= repeat_times:\n",
    "        ip = get_ip()\n",
    "        res = _proxy_request(url,ip,method)\n",
    "        if res and res.status_code == 200: \n",
    "            return res\n",
    "        else: \n",
    "            print(url,'times:',current_times,res)\n",
    "            current_times += 1"
   ]
  },
  {
   "cell_type": "code",
   "execution_count": null,
   "metadata": {},
   "outputs": [
    {
     "name": "stdout",
     "output_type": "stream",
     "text": [
      "删除： 0 剩余： 203\n",
      "https://www.kuaidaili.com/free/inha/  新增： 0\n",
      "http://www.nimadaili.com/gaoni/  新增： 29\n",
      "http://www.xiladaili.com/gaoni/  新增： 46\n",
      "https://ip.jiangxianli.com/?anonymity=2  新增： 2\n",
      "https://www.7yip.cn/free/  新增： 0\n",
      "http://www.ip3366.net/free/  新增： 0\n",
      "https://list.proxylistplus.com/Fresh-HTTP-Proxy-List-1  新增： 0\n",
      "http://proxyslist.com/  新增： 25\n",
      "总库存： 305\n",
      "except error: 163.204.247.147:9999 50.0\n",
      "https://www.baidu.com/ times: 1 None\n",
      "删除： 0 剩余： 305\n",
      "https://www.kuaidaili.com/free/inha/  新增： 0\n",
      "http://www.nimadaili.com/gaoni/  新增： 0\n",
      "http://www.xiladaili.com/gaoni/  新增： 0\n",
      "https://ip.jiangxianli.com/?anonymity=2  新增： 0\n",
      "https://www.7yip.cn/free/  新增： 0\n",
      "http://www.ip3366.net/free/  新增： 0\n",
      "https://list.proxylistplus.com/Fresh-HTTP-Proxy-List-1  新增： 0\n",
      "http://proxyslist.com/  新增： 0\n",
      "总库存： 305\n",
      "except error: 59.62.25.62:9000 50.0\n",
      "https://www.baidu.com/ times: 2 None\n",
      "except error: 68.183.188.100:3128 50.0\n",
      "https://www.baidu.com/ times: 3 None\n"
     ]
    }
   ],
   "source": [
    "url = 'https://www.baidu.com/'\n",
    "proxy_request(url,repeat_times=3)"
   ]
  },
  {
   "cell_type": "markdown",
   "metadata": {},
   "source": [
    "### 校验ip"
   ]
  },
  {
   "cell_type": "code",
   "execution_count": null,
   "metadata": {},
   "outputs": [],
   "source": [
    "# export\n",
    "def validate_ips(url='http://www.baidu.com/',max_workers=100):\n",
    "    global db\n",
    "    ips = list(db.keys())\n",
    "    parallel_task(lambda ip:_proxy_request(url, ip),ips,max_workers)\n",
    "    print('good ips:',count_good_ips())"
   ]
  },
  {
   "cell_type": "code",
   "execution_count": null,
   "metadata": {},
   "outputs": [
    {
     "name": "stdout",
     "output_type": "stream",
     "text": [
      "except error: 100,9.37.17.19:88 13.25\n",
      "except error: 182.148.206.23:9999 25.0\n",
      "<Response [500]> 110.249.176.26:8060 25.0\n",
      "except error: 39.106.156.203:8080 25.0\n",
      "except error: 183.147.221.169:9000 25.0\n",
      "<Response [500]> 27.203.163.18:8060 25.0\n",
      "except error: 198.98.58.178:8080 25.0\n",
      "<Response [200]> 61.147.210.159:8080 102\n",
      "except error:<Response [403]>  182.46.111.72:9999 58.220.95.90:940125.0\n",
      " except error: 60.184.204.182:3000 25.0\n",
      "25.0\n",
      "<Response [403]> 58.220.95.79:10000 25.0\n",
      "except error: 211.147.226.4:8118 25.0\n",
      "except error: 142.93.57.37:80 25.0\n",
      "<Response [200]> 39.137.69.10:8080 102\n",
      "except error: 178.19.97.1:8088 25.0\n",
      "except error: 80.211.60.89:8118 25.0\n",
      "<Response [200]> 91.205.174.26:80 102\n",
      "<Response [200]> 52.230.6.90:8080 102\n",
      "except error: 198.23.143.27:8080 25.0\n",
      "except error: 36.66.34.10:8080 25.0\n",
      "except error: 84.22.46.25:8080 25.0\n",
      "<Response [200]> 108.74.113.180:80 51.0\n",
      "<Response [200]> 203.204.200.107:80 102\n",
      "<Response [200]> 45.76.34.27:8080 102\n",
      "<Response [200]> 45.63.42.56:80 102\n",
      "except error: 103.4.66.45:8080 25.0\n",
      "<Response [200]> 35.233.136.146:3128 102\n",
      "<Response [200]> 52.179.231.206:80 102\n",
      "<Response [200]> 169.60.27.163:8080 102\n",
      "<Response [200]> 52.221.211.14:80 102\n",
      "<Response [200]> 178.63.41.235:9999 102\n",
      "<Response [200]> 46.4.96.67:80 102\n",
      "<Response [200]> 12.139.101.98:80 102\n",
      "<Response [200]> 112.133.214.240:80 102\n",
      "<Response [200]> 203.202.245.62:80 102\n",
      "<Response [200]> 153.126.181.248:3128 102\n",
      "<Response [200]> 101.4.136.34:8080 102\n",
      "<Response [200]> 112.133.214.241:80 102\n",
      "except error: 176.123.129.14:8080 25.0\n",
      "<Response [200]> 138.197.32.120:3128 102\n",
      "<Response [200]> 12.139.101.101:80 102\n",
      "except error: 190.77.134.96:8080 25.0\n",
      "<Response [200]> 185.220.207.148:80 102\n",
      "<Response [200]> 34.71.169.15:3128 102\n",
      "<Response [200]> 92.38.135.142:3128 102\n",
      "<Response [200]> 113.121.171.200:8088 51.0\n",
      "<Response [200]> 191.239.251.48:80 102\n",
      "<Response [200]> 212.83.190.202:5836 102\n",
      "except error: 119.18.153.18:8080 25.0\n",
      "<Response [200]> 5.189.246.226:8080 51.0\n",
      "<Response [200]> 45.236.91.20:8880 51.0\n",
      "<Response [200]> 178.128.243.206:8080 102\n",
      "except error: 39.137.107.9:8080 25.0\n",
      "progress:[                             ] 0.243% | cost:5s | left:2050s\n",
      "except error: 163.204.244.70:9999 25.0\n",
      "except error: 123.169.167.215:9999 25.0\n",
      "except error: 175.42.129.249:9999 25.0\n",
      "except error: 59.62.24.8:9000 25.0\n",
      "except error: 123.52.96.68:9999 25.0\n",
      "except error: 163.204.241.119:9999 25.0\n",
      "except error: 110.243.11.83:9999 25.0\n",
      "except error: 1.193.244.253:9999 25.0\n",
      "except error: 175.42.123.144:9999 25.0\n",
      "except error: 115.218.6.108:9000 except error:25.0\n",
      " 163.204.244.136:9999 25.0\n",
      "except error: 163.204.240.111:9999 25.0\n",
      "except error: 182.253.175.205:8080 50.5\n",
      "except error: 223.242.225.135:9999except error: 25.0\n",
      " 110.243.18.134:9999 25.0\n",
      "<Response [200]> 118.69.50.154:80 51.0\n",
      "except error: 107.163.208.201:808 25.0\n",
      "except error: except error: 163.204.243.22:9999 25.0\n",
      "129.204.29.130:8080 25.0\n",
      "except error: 182.100.100.164:9000 25.0\n",
      "except error: 111.68.123.214:8080 25.0\n",
      "except error: 163.204.247.147:9999 12.5\n",
      "except error: 113.195.16.187:9999 25.0\n",
      "except error: 113.121.21.215:9999 25.0\n",
      "except error: 125.123.156.193:3000 except error:25.0\n",
      " 120.203.18.54:8888 25.0\n",
      "except error:except error: 171.35.168.143:9999 25.0\n",
      " 113.195.229.120:9999 25.0\n",
      "except error: 163.204.245.173:9999 25.0\n",
      "except error:except error: 59.62.25.62:9000 12.5\n",
      " 58.23.230.156:8118 25.0\n",
      "except error: 60.179.230.108:3000 25.0\n",
      "except error: 60.179.252.7:3000 25.0\n",
      "except error: 60.162.89.179:9000 25.0\n",
      "except error: 60.179.254.211:3000 25.0\n",
      "except error: 60.179.252.45:3000 25.0\n",
      "except error: 59.52.187.148:1624 25.0\n",
      "except error:except error: 60.179.230.71:3000 25.0\n",
      " 60.168.206.117:1133 25.0\n",
      "except error: 60.182.21.180:9000 25.0\n",
      "except error:except error:except error:   59.33.55.90:9999 25.0\n",
      "110.77.134.112:808060.162.74.20:9000  25.0except error:25.0except error:except error: 71.41.27.245:8080 25.0\n",
      "except error: \n",
      "\n",
      "  203.160.163.58:8080190.104.170.234:8080 25.0\n",
      "176.106.120.82:8080 25.0\n",
      " 25.0\n",
      "except error: 39.97.254.201:8080 50.5\n",
      "<Response [200]> 101.37.118.54:8888 102\n",
      "except error: 75.134.84.195:8080 25.0\n",
      "except error: 182.180.154.47:3128 25.0\n",
      "<Response [200]> 115.223.7.110:80 102\n",
      "except error: 23.95.43.171:3128 25.0\n",
      "<Response [200]> 39.108.130.104:3128 102\n",
      "<Response [200]> 218.59.139.238:80 102\n",
      "<Response [403]> 221.122.91.66:80 25.0\n",
      "except error: 82.192.30.238:8080 25.0\n",
      "<Response [200]>except error: 39.137.107.98:80 102\n",
      " 190.186.42.124:8080 25.0\n",
      "<Response [200]> 101.4.136.34:80 102\n",
      "<Response [200]> 39.137.107.98:8080 102\n",
      "<Response [200]> 101.4.136.34:81 102\n",
      "<Response [403]> 221.122.91.61:80 25.0\n",
      "except error: 119.142.210.105:4216 25.0\n",
      "<Response [500]> 106.14.173.173:8080 25.0\n",
      "except error: 103.19.109.186:8088 25.0\n",
      "except error: 61.90.41.97:8888 25.0\n",
      "except error: 118.24.246.249:80 25.0\n",
      "progress:[#                            ] 3.406% | cost:6s | left:170s\n",
      "except error: 39.106.223.134:80 25.0\n",
      "except error: 46.39.192.48:8080 25.0\n",
      "except error: 103.247.101.102:8080 25.0\n",
      "<Response [403]> 183.220.145.3:80 25.0\n",
      "<Response [200]> 191.232.53.73:80 102\n",
      "except error: 202.56.160.110:8080 25.0\n",
      "except error: 78.189.178.224:80 25.0\n",
      "except error: 186.19.175.6:3128 25.0\n",
      "except error: 103.246.1.101:8080 25.0\n",
      "except error: 60.191.11.251:3128 25.0\n",
      "<Response [200]> 212.83.177.64:5836 102\n",
      "<Response [200]> 42.3.51.114:80 102\n",
      "<Response [200]> 112.133.214.242:80 102\n",
      "except error: 125.209.73.57:8080 25.0\n",
      "except error:except error: 36.66.242.10:8080 25.0\n",
      " 186.101.113.234:8080 25.0\n",
      "except error: 180.250.100.66:3128 25.0\n",
      "<Response [200]> 192.41.71.204:3128 102\n",
      "except error: 94.154.222.95:8080 25.0\n",
      "except error: 36.57.88.46:8888 25.0\n",
      "except error: 80.188.135.10:8080 25.0\n",
      "except error: 83.241.46.175:8080 25.0\n",
      "except error: 104.236.156.162:80 25.0\n",
      "<Response [200]> 112.133.214.245:80 102\n",
      "<Response [200]> 136.243.30.201:3128 102\n",
      "<Response [200]> 103.7.129.243:80 102\n",
      "except error: 188.214.23.78:80 25.0\n",
      "except error: 89.122.149.97:3128 25.0\n",
      "except error: 217.117.13.170:8080 25.0\n",
      "except error: 46.97.0.186:8080 25.0\n",
      "except error: 113.128.27.222:9999 25.0\n",
      "except error: 107.163.117.80:808 25.0\n",
      "<Response [200]> 162.243.159.46:3128 102\n",
      "<Response [200]> 116.206.197.207:80 102\n",
      "except error: 104.40.159.62:8118 25.0\n",
      "except error: 107.163.117.160:808 25.0\n",
      "<Response [200]> 167.172.254.176:8080 102\n",
      "<Response [503]> 176.67.80.160:8118 25.0\n",
      "except error: 107.163.117.58:808 25.0\n",
      "except error: 107.163.117.239:808 25.0\n",
      "<Response [200]> 37.18.79.41:3128 102\n",
      "except error: 80.79.127.140:8080 25.0\n",
      "<Response [200]> 144.217.101.242:3129 102\n",
      "<Response [200]> 112.133.214.244:80 102\n",
      "except error: 107.163.117.178:808 25.0\n",
      "except error: 107.163.117.13:808 25.0\n",
      "<Response [200]> 222.175.171.6:8080 102\n",
      "<Response [200]> 104.238.132.80:8080 102\n",
      "<Response [200]> 185.134.23.196:80 51.0\n",
      "<Response [200]> 112.109.198.105:3128 102\n",
      "<Response [200]> 104.154.143.77:3128 102\n",
      "<Response [200]> 115.231.31.130:80 102\n",
      "<Response [200]> 149.28.58.30:8080 102\n",
      "except error: 107.163.117.61:808 25.0\n",
      "except error: 3.122.199.27:3128 25.0\n",
      "except error: 112.105.11.196:8088 25.0\n",
      "except error: 103.5.232.146:8080 50.5\n",
      "except error: 125.123.152.158:21423 25.0\n",
      "except error: 27.154.34.146:39320 25.0\n",
      "except error: 93.87.44.242:8085 25.0\n",
      "except error:except error: 194.28.80.105:52016 25.0\n",
      " 180.106.150.213:10080 25.0\n",
      "<Response [200]> 41.78.24.144:80 102\n",
      "<Response [200]> 117.131.119.116:80 51.0\n",
      "except error: 187.125.23.26:8080 25.0\n",
      "except error: 103.83.116.202:55443 25.0\n",
      "except error: 118.127.99.93:53281 25.0\n",
      "except error: 189.91.231.43:3128 25.0\n",
      "<Response [200]> 95.179.140.49:8080 102\n",
      "except error: 103.21.150.184:3128 50.5\n",
      "<Response [200]> 52.166.53.92:8081 102\n",
      "except error: 213.109.130.184:8080 25.0\n",
      "except error: 169.255.252.141:8080 25.0\n",
      "except error: 36.91.110.197:8080 25.0\n",
      "except error:except error: except error: 45.230.8.20:51200 25.0\n",
      "36.91.110.197:80  62.210.58.170:5836 50.5\n",
      "25.0\n",
      "except error:<Response [200]> 177.200.107.43:8080 25.0\n",
      " 132.145.82.248:3128 102\n",
      "except error: 113.195.18.163:9999 25.0\n",
      "except error: 183.87.14.250:44915 25.0\n",
      "except error: 159.138.1.185:443 25.0\n",
      "except error:except error: 103.194.242.254:60025 25.0\n",
      " 189.124.233.234:8080 25.0\n",
      "<Response [200]> 118.69.50.154:443 51.0\n",
      "except error: 182.32.162.83:9999 25.0\n",
      "except error: 78.46.81.7:1080 25.0\n"
     ]
    },
    {
     "name": "stdout",
     "output_type": "stream",
     "text": [
      "except error: 36.89.227.98:8080 25.0\n",
      "except error: 219.102.192.2:8080 50.5\n",
      "<Response [403]> 58.220.95.54:9400 25.0\n",
      "<Response [200]> 134.209.110.247:8080 102\n",
      "<Response [200]> 104.41.29.43:80 102\n",
      "<Response [200]> 82.119.170.106:8080 51.0\n",
      "except error: 212.83.184.67:5836 25.0\n",
      "except error: 54.229.251.214:80 25.0\n",
      "except error: 159.138.1.185:80 25.0\n",
      "<Response [200]> 163.172.29.74:5836 51.0\n",
      "except error: 122.3.252.187:3128 50.5\n",
      "<Response [200]> 197.216.2.14:8080 102\n",
      "<Response [200]> 191.235.70.48:80 102\n",
      "except error: 212.83.169.253:5836 25.0\n",
      "<Response [200]> 153.127.40.61:3128 102\n",
      "except error: 1.198.73.41:9999<Response [200]> 25.0\n",
      " 110.136.222.67:8080 51.0\n",
      "<Response [200]> 124.65.136.2:8060 51.0\n",
      "<Response [200]> 168.138.42.43:3128 51.0\n",
      "except error: 212.129.39.123:5836 25.0\n",
      "<Response [200]> 163.125.73.81:9797 102\n",
      "<Response [200]> 123.58.17.134:3128 102\n",
      "except error: 123.169.118.58:9999 25.0\n",
      "<Response [200]> 183.89.113.134:8080 102\n",
      "except error: 112.84.51.153:9999 25.0\n",
      "<Response [200]> 140.238.19.197:3128 51.0\n",
      "<Response [200]> 18.236.212.7:3128 51.0\n",
      "<Response [200]> 218.75.158.153:3128 102\n",
      "except error: 101.132.39.115:8080 25.0\n",
      "except error: 101.109.105.149:8080 50.5\n",
      "except error: 117.63.134.101:20133 50.5\n",
      "<Response [200]> 82.165.206.65:3128 102\n",
      "<Response [200]> 191.232.212.184:8080 102\n",
      "except error: 113.195.224.161:9999 25.0\n",
      "except error: 103.111.83.26:53861 50.5\n",
      "<Response [200]> 36.92.93.43:8080 51.0\n",
      "except error: 128.199.76.203:8080 50.5\n",
      "except error: 114.99.10.198:30882 50.5\n",
      "<Response [200]> 163.172.63.172:5836 51.0\n",
      "<Response [403]> 186.226.174.193:80 25.0\n",
      "<Response [200]> 212.83.150.236:5836 51.0\n",
      "except error: 110.243.27.233:9999 25.0\n",
      "except error: 180.118.128.246:9000 25.0\n",
      "except error: 103.211.76.5:8080 25.0\n",
      "<Response [403]> 221.122.91.64:80 25.0\n",
      "<Response [200]> 61.135.185.31:80 102\n",
      "except error: 5.196.23.219:80 25.0\n",
      "<Response [200]> 61.135.186.80:80 102\n",
      "except error: 123.163.122.191:9999 25.0\n",
      "<Response [200]> 61.135.186.243:80 102\n",
      "<Response [200]> 202.108.22.5:80 102\n",
      "<Response [200]> 202.108.23.174:80 102\n",
      "except error: 183.89.49.137:8080 25.0\n",
      "<Response [200]> 183.232.231.189:80 102\n",
      "<Response [200]> 183.232.231.76:80 102\n",
      "<Response [200]> 68.183.188.100:3128 52.0\n",
      "<Response [200]> 180.97.33.94:80 102\n",
      "<Response [200]> 61.135.185.38:80 102\n",
      "except error: 123.180.210.117:50122 25.0\n",
      "<Response [200]> 61.135.185.90:80 102\n",
      "except error: 113.106.141.117:51410 25.0\n",
      "<Response [200]> 218.2.226.42:80 102\n",
      "<Response [200]> 191.232.52.117:80 102\n",
      "except error: 158.181.148.252:8080 25.0\n",
      "except error: 153.127.29.158:3128 25.0\n",
      "progress:[#                            ] 4.379% | cost:13s | left:283s\n",
      "except error: 212.129.3.202:5836 25.0\n",
      "<Response [200]> 112.133.214.243:80 102\n",
      "<Response [200]> 182.253.169.37:8080 51.0\n",
      "except error: 220.176.92.69:9000 25.0\n",
      "<Response [200]> 205.185.115.100:8080 102\n",
      "<Response [200]> 60.191.11.229:3128 51.0\n",
      "except error: 101.231.104.82:80 25.0\n",
      "<Response [200]> 195.154.53.196:5836 51.0\n",
      "<Response [200]> 45.76.151.154:8080 102\n",
      "except error: 114.104.184.189:9999 25.0\n",
      "<Response [200]> 80.187.140.26:8080 102\n",
      "except error: 125.123.157.239:28471 25.0\n",
      "except error: 138.204.179.162:44088 25.0\n",
      "except error: 103.4.164.205:8080 25.0\n",
      "except error: 49.0.39.186:8080 25.0\n",
      "except error: 103.82.42.5:51811 25.0\n",
      "except error: 62.112.118.14:8080 50.5\n",
      "<Response [200]> 116.22.28.231:4216 102\n",
      "except error: 62.210.58.178:5836 50.5\n",
      "except error: 103.213.116.199:8080 25.0\n",
      "except error: 186.46.184.182:8080 25.0\n",
      "<Response [200]> 221.182.31.54:8080 51.0\n",
      "<Response [403]> 221.122.91.59:80 25.0\n",
      "except error: 39.50.239.98:8080 25.0\n",
      "<Response [403]> 221.122.91.75:10286 25.0\n",
      "except error: 152.231.27.54:999 25.0\n",
      "except error: 103.93.106.81:8080 25.0\n",
      "except error: 91.192.4.162:8090 25.0\n",
      "except error: 183.89.117.174:8080 25.0\n",
      "except error: 183.88.212.141:8080 25.0\n",
      "<Response [200]> 34.69.251.120:3128 102\n",
      "except error: 167.172.136.107:80 25.0\n",
      "<Response [403]> 119.178.101.18:8888 25.0\n",
      "except error:except error: 103.204.220.25:82 25.0\n",
      " 61.186.66.7:20762 25.0\n",
      "<Response [403]> 221.122.91.76:9480 25.0\n",
      "<Response [403]> 221.122.91.74:9401 25.0\n",
      "<Response [403]> 221.122.91.34:80 25.0\n",
      "<Response [403]> 221.122.91.64:9401 25.0\n",
      "<Response [200]> 39.137.69.6:80 102\n",
      "except error: 180.245.135.150:8080 25.0\n",
      "except error: 69.162.90.102:5836 25.0\n",
      "except error: 14.29.219.203:808 25.0\n",
      "except error: 119.142.181.182:4216 25.0\n",
      "except error: 213.6.226.202:52656 25.0\n",
      "<Response [403]> 177.64.159.194:8080 25.0\n",
      "except error: 110.44.122.85:8080 25.0\n",
      "<Response [200]> 58.61.154.153:8080 102\n",
      "<Response [200]> 124.121.99.145:8080 102\n",
      "except error: 122.224.65.201:3128 25.0\n",
      "<Response [200]> 62.210.8.249:5836 102\n",
      "except error: 113.106.142.108:35499 25.0\n",
      "except error: 34.253.177.131:3128 25.0\n",
      "progress:[#                            ] 5.352% | cost:16s | left:282s\n",
      "except error: 171.35.174.239:9999 50.5\n",
      "except error: 121.69.26.14:8080 25.0\n",
      "<Response [403]> 177.220.145.226:8080 25.0\n",
      "except error: 163.172.224.66:5836 25.0\n",
      "except error: 163.172.229.128:5836 25.0\n",
      "except error: 103.121.122.157:8080 25.0\n",
      "<Response [200]> 45.236.88.42:8880 102\n",
      "except error: 122.234.95.153:9000 25.0\n",
      "except error: 119.142.197.119:4216 25.0\n",
      "except error: 182.34.37.83:9999 50.5\n",
      "except error: 125.87.101.30:54033 25.0\n",
      "<Response [200]> 197.216.2.18:8080 102\n",
      "except error: 212.129.6.44:5836 25.0\n",
      "<Response [200]> 167.250.65.246:8080 102\n",
      "except error: 212.129.30.85:5836 25.0\n",
      "except error: 212.83.177.17:5836 25.0\n",
      "except error: 110.82.165.55:38877 50.5\n",
      "except error: 183.166.132.47:4216 25.0\n",
      "<Response [200]> 103.122.255.18:8080 51.0\n",
      "except error: 182.46.206.51:9999 25.0\n",
      "except error: 110.243.19.114:9999 25.0\n",
      "except error: 164.163.234.121:8080 25.0\n",
      "except error: 103.78.36.90:9999 50.5\n",
      "except error: 85.196.183.162:8080 25.0\n",
      "except error: 202.137.25.8:8080 25.0\n",
      "except error: 119.42.116.108:8080 25.0\n",
      "except error: 45.167.76.250:8080 25.0\n",
      "except error: 84.22.49.114:8080 25.0\n",
      "<Response [200]> 212.83.151.222:5836 51.0\n",
      "except error: 34.222.74.32:3128 50.5\n",
      "except error: 129.205.160.138:32457 25.0\n",
      "except error: 182.176.164.41:8080 50.5\n",
      "<Response [200]> 167.99.54.39:8888 102\n",
      "except error: 200.69.95.238:999 25.0\n",
      "except error: 36.66.43.65:8080 25.0\n",
      "except error: 103.204.220.25:83 25.0\n",
      "except error: 190.217.1.121:32192 25.0\n",
      "except error: 200.149.0.74:8080 25.0\n",
      "except error: 114.104.185.164:4216 25.0\n",
      "except error: 125.108.89.5:9000 25.0\n",
      "<Response [200]> 163.125.73.80:9797 51.0\n",
      "<Response [200]> 139.194.122.49:8080 51.0\n",
      "except error: 163.172.202.148:5836 50.5\n",
      "<Response [200]> 5.189.150.174:3128 102\n",
      "except error: 221.229.252.98:9797 25.0\n",
      "except error: 47.244.50.194:8081 25.0\n",
      "except error: 114.106.137.209:26480 25.0\n",
      "<Response [200]> 14.207.124.143:8080 102\n",
      "except error: 123.153.59.193:45807 50.5\n",
      "except error: 183.88.81.141:8080 25.0\n",
      "except error:except error:  45.165.131.12:8080 25.0\n",
      "46.238.48.82:8080 25.0\n",
      "except error: 87.251.228.114:31793 25.0\n",
      "except error: 220.179.102.14:4216 25.0\n",
      "except error: 114.233.3.180:63651 25.0\n",
      "except error: 49.49.37.111:8080 25.0\n",
      "except error: 103.113.197.11:8080 25.0\n",
      "<Response [200]> 128.199.121.141:3128 102\n",
      "<Response [200]> 45.178.3.229:8080 51.0\n",
      "<Response [200]> 212.129.25.48:5836 51.0\n",
      "except error: 3.121.121.43:3128 25.0\n",
      "except error: 180.183.65.113:8080 25.0\n",
      "<Response [200]> 45.173.4.205:999 51.0\n",
      "except error: 171.35.174.109:9999 50.5\n",
      "except error: 103.12.246.122:8080 25.0\n",
      "except error: 103.105.209.26:8080 25.0\n",
      "except error: 197.234.35.82:53281 25.0\n",
      "<Response [200]> 45.6.231.190:8080 51.0\n",
      "except error: 220.179.102.154:4216 25.0\n",
      "except error: 117.69.169.250:4216 25.0\n",
      "except error: 183.166.163.183:4216 25.0\n",
      "except error: 95.137.248.173:8080 25.0\n",
      "<Response [200]> 203.190.33.36:8080 51.0\n",
      "except error: 58.82.240.212:80 25.0\n",
      "except error: 125.209.121.177:8080 50.5\n",
      "except error: 85.10.219.96:1080 50.5\n",
      "progress:[#####                        ] 17.03% | cost:28s | left:136s\n",
      "except error: 79.137.44.85:3129 50.5\n",
      "<Response [200]> 18.141.163.178:80 102\n",
      "<Response [200]> 5.15.17.190:8080 51.0\n",
      "except error: 119.142.182.215:4216 25.0\n",
      "except error: 114.104.129.240:4216 25.0\n",
      "progress:[####################         ] 67.39% | cost:30s | left:14s\n",
      "<Response [200]> 103.123.246.54:8080 51.0\n",
      "<Response [200]> 5.133.27.61:3129 51.0\n",
      "except error: 193.232.150.42:3128 25.0\n",
      "progress:[#####################        ] 70.55% | cost:39s | left:16s\n",
      "411 tasks, 39s\n",
      "good ips: 100\n"
     ]
    }
   ],
   "source": [
    "validate_ips()"
   ]
  },
  {
   "cell_type": "markdown",
   "metadata": {},
   "source": [
    "## 获取&自动更新ip"
   ]
  },
  {
   "cell_type": "code",
   "execution_count": null,
   "metadata": {},
   "outputs": [],
   "source": [
    "# export\n",
    "last_modify = {}"
   ]
  },
  {
   "cell_type": "code",
   "execution_count": null,
   "metadata": {},
   "outputs": [],
   "source": [
    "# export\n",
    "def delete_ips():\n",
    "    '删除不健康的ip，节省内存，提高抽取效率'\n",
    "    global db\n",
    "    keys = list(db.keys())\n",
    "    count_before = len(keys)\n",
    "    for k in keys:\n",
    "        if db[k] < 50: del db[k]\n",
    "    count_current = len(db.keys())\n",
    "    print('删除：',count_before-count_current,'剩余：',count_current)\n",
    "\n",
    "def get_ip():\n",
    "    '5min爬一次ip网站，1h删一次劣质ip'\n",
    "    global db\n",
    "    # 如果db为空，则尝试从txt文件读取\n",
    "    if not db: \n",
    "        if Path('ipool.txt').exists():\n",
    "            with open('ipool.txt','r') as f:\n",
    "                db = json.load(f)\n",
    "    \n",
    "    interval_task(delete_ips,'delete',interval=3600)\n",
    "    interval_task(crawl_ips,'crawl')\n",
    "    \n",
    "    return _get_ip()"
   ]
  },
  {
   "cell_type": "code",
   "execution_count": null,
   "metadata": {},
   "outputs": [
    {
     "data": {
      "text/plain": [
       "'118.69.50.154:80'"
      ]
     },
     "execution_count": null,
     "metadata": {},
     "output_type": "execute_result"
    }
   ],
   "source": [
    "get_ip()"
   ]
  },
  {
   "cell_type": "code",
   "execution_count": null,
   "metadata": {},
   "outputs": [],
   "source": []
  },
  {
   "cell_type": "code",
   "execution_count": null,
   "metadata": {},
   "outputs": [],
   "source": []
  },
  {
   "cell_type": "markdown",
   "metadata": {},
   "source": [
    "# 发布"
   ]
  },
  {
   "cell_type": "code",
   "execution_count": null,
   "metadata": {},
   "outputs": [
    {
     "name": "stdout",
     "output_type": "stream",
     "text": [
      "Converted 11b_ipool_lite.ipynb.\r\n"
     ]
    }
   ],
   "source": [
    "# hide\n",
    "!nbdev_build_lib --fname 11b_ipool_lite.ipynb"
   ]
  },
  {
   "cell_type": "code",
   "execution_count": null,
   "metadata": {},
   "outputs": [],
   "source": [
    "!cp crawler_from_scratch/IPool_lite.py /Users/Neo/learn_fastai_from_scratch/IPool_lite.py"
   ]
  },
  {
   "cell_type": "code",
   "execution_count": null,
   "metadata": {},
   "outputs": [
    {
     "name": "stdout",
     "output_type": "stream",
     "text": [
      "[master 7185b0d] fix bugs\r\n",
      " 2 files changed, 180 insertions(+), 97 deletions(-)\r\n"
     ]
    }
   ],
   "source": [
    "!git add 11b_ipool_lite.ipynb\n",
    "!git add crawler_from_scratch/IPool_lite.py\n",
    "\n",
    "!git commit -m \"fix bugs\""
   ]
  },
  {
   "cell_type": "code",
   "execution_count": null,
   "metadata": {},
   "outputs": [],
   "source": []
  },
  {
   "cell_type": "markdown",
   "metadata": {},
   "source": [
    "# 优化\n",
    "\n",
    "爬取ip，出问题时try except，保证程序正常运作\n",
    "\n",
    "如果线上跑的时候，把各种错误写到log文件中，或者用一个比较明显的方式显示进度，但其他的log会一直存在"
   ]
  },
  {
   "cell_type": "code",
   "execution_count": null,
   "metadata": {},
   "outputs": [],
   "source": [
    "超过10次后，会有soup解析报错，如何解决"
   ]
  }
 ],
 "metadata": {
  "kernelspec": {
   "display_name": "Python 3",
   "language": "python",
   "name": "python3"
  }
 },
 "nbformat": 4,
 "nbformat_minor": 4
}
