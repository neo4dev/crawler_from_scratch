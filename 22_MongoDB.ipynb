{
 "cells": [
  {
   "cell_type": "markdown",
   "metadata": {},
   "source": [
    "# MongoDB简介\n",
    "\n",
    "介绍\n",
    "\n",
    "\n",
    "[官网](https://www.mongodb.com/) | [文档入口](https://docs.mongodb.com/) | [MongoDB Python Drivers文档](https://docs.mongodb.com/ecosystem/drivers/python/)\n",
    "\n",
    "\n",
    "pymongo\n",
    "https://www.runoob.com/python3/python-mongodb.html\n",
    "\n",
    "quick start\n",
    "\n",
    "https://www.mongodb.com/what-is-mongodb\n",
    "https://university.mongodb.com/courses/M001/about\n",
    "https://university.mongodb.com/courses/M220P/about\n",
    "\n",
    "\n",
    "https://juejin.im/post/5addbd0e518825671f2f62ee\n",
    "\n",
    "概念：Databases, Collections, and Documents\n"
   ]
  },
  {
   "cell_type": "code",
   "execution_count": null,
   "metadata": {},
   "outputs": [],
   "source": []
  },
  {
   "cell_type": "code",
   "execution_count": null,
   "metadata": {},
   "outputs": [],
   "source": []
  },
  {
   "cell_type": "code",
   "execution_count": null,
   "metadata": {},
   "outputs": [],
   "source": []
  },
  {
   "cell_type": "markdown",
   "metadata": {},
   "source": [
    "# MongoDB的优势"
   ]
  },
  {
   "cell_type": "code",
   "execution_count": null,
   "metadata": {},
   "outputs": [],
   "source": []
  },
  {
   "cell_type": "markdown",
   "metadata": {},
   "source": [
    "# 实践案例，爬人人都是产品经理网站"
   ]
  },
  {
   "cell_type": "code",
   "execution_count": null,
   "metadata": {},
   "outputs": [],
   "source": []
  }
 ],
 "metadata": {
  "kernelspec": {
   "display_name": "Python 3",
   "language": "python",
   "name": "python3"
  }
 },
 "nbformat": 4,
 "nbformat_minor": 4
}
