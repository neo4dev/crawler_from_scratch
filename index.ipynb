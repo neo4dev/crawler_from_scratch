{
 "cells": [
  {
   "cell_type": "markdown",
   "metadata": {},
   "source": [
    "# 从零学习爬虫 Crawler from scratch\n",
    "\n",
    "> 运用Jupyter Notebook 演示爬虫是如何运作的"
   ]
  },
  {
   "cell_type": "markdown",
   "metadata": {},
   "source": [
    "## 学习准备\n",
    "\n",
    "1. 具备1年代码经验，熟悉python\n",
    "* 了解HTML，以及网络传输的基础知识\n",
    "* 以一个全新的心态面对这个学习过程\n",
    "    * 一定能学会，因为我自己也只是个PM\n",
    "    * jupyter notebook 特有的交互式展示方式，很好的还原了爬虫运行的每个环节，一看就懂\n"
   ]
  },
  {
   "cell_type": "markdown",
   "metadata": {},
   "source": [
    "## 学习大纲：\n",
    "\n",
    "1. 初级-入门\n",
    "    * 最简单的爬虫，以及解析数据，存储成json  [00_Getting_Started](./00_Getting_Started.ipynb)\n",
    "    * 加cookie和headers，如何获取 [01_Advanced_Request](./01_Advanced_Request.ipynb)\n",
    "    * 批量爬页面\n",
    "* 中级-大量数据\n",
    "    * 代理\n",
    "    * 数据库\n",
    "    * 数据分析 numpy matplot\n",
    "    * 探索式爬取\n",
    "    * 断点续爬\n",
    "* 高级-海量数据\n",
    "    * 分布式存储？\n",
    "    * seleium模拟登陆，获取cookie\n",
    "    * 海量数据分析 vaex 一个开源的 DataFrame 库\n",
    "    * 服务器部署\n",
    "\n"
   ]
  },
  {
   "cell_type": "markdown",
   "metadata": {},
   "source": [
    "## 学习资料：\n",
    "\n",
    "1. [nbdev](https://github.com/fastai/nbdev):fastai开源的探索式编程IDE\n",
    "    * [官方完整的一步一步教程](http://nbdev.fast.ai/tutorial/#Set-up-Repo)\n",
    "    * [用模板创建](https://github.com/fastai/nbdev_template/generate)一个github项目 \n",
    "    * 修改setting.ini 所有配置都在这里\n",
    "    * nbdev_build_lib 生成.py的文件 [其他命令](http://nbdev.fast.ai/cli/)\n",
    "    * nbdev_build_docs 生成文档所需文件\n",
    "* [Anaconda](https://www.anaconda.com/distribution/) 打包了用Python进行数据分析需要的一切环境\n",
    "* [Jupyter](https://jupyter.org/) Notebook 基于Web的交互式计算环境\n",
    "    * Enter/双击: 进入编辑模式\n",
    "    * Esc: 退出编辑模式\n",
    "    * 命令行/非编辑模式\n",
    "        * D,D: 删除选中单元格\n",
    "        * A/B: 上方/下方插入新代码块\n",
    "        * H: 显示快捷键\n",
    "        * O: 选择单元格的输出\n",
    "    * 编辑模式\n",
    "        * ⇧↩: 运行代码块, 并选择下面的代码块\n",
    "        * ⇧M: 合并选中单元格\n",
    "* [markdown](https://www.runoob.com/markdown/md-tutorial.html)一种轻量级标记语言，可以便捷的为这里的文字添加样式\n",
    "\n"
   ]
  },
  {
   "cell_type": "markdown",
   "metadata": {},
   "source": [
    "## 发布\n",
    "> 将文件打包，上传到github"
   ]
  },
  {
   "cell_type": "code",
   "execution_count": null,
   "metadata": {},
   "outputs": [],
   "source": [
    "# hide\n",
    "!pip install nbdev -U\n",
    "!nbdev_install_git_hooks"
   ]
  },
  {
   "cell_type": "code",
   "execution_count": null,
   "metadata": {},
   "outputs": [],
   "source": [
    "# hide\n",
    "!nbdev_build_lib\n",
    "!nbdev_build_docs\n",
    "!nbdev_test_nbs"
   ]
  },
  {
   "cell_type": "code",
   "execution_count": null,
   "metadata": {},
   "outputs": [
    {
     "name": "stdout",
     "output_type": "stream",
     "text": [
      "On branch master\r\n",
      "Your branch is up to date with 'origin/master'.\r\n",
      "\r\n",
      "Changes not staged for commit:\r\n",
      "  (use \"git add <file>...\" to update what will be committed)\r\n",
      "  (use \"git checkout -- <file>...\" to discard changes in working directory)\r\n",
      "\r\n",
      "\t\u001b[31mmodified:   00_Getting_Started.ipynb\u001b[m\r\n",
      "\t\u001b[31mmodified:   01_Advanced_Request.ipynb\u001b[m\r\n",
      "\t\u001b[31mmodified:   data/01_douban.json\u001b[m\r\n",
      "\t\u001b[31mmodified:   index.ipynb\u001b[m\r\n",
      "\r\n",
      "no changes added to commit (use \"git add\" and/or \"git commit -a\")\r\n"
     ]
    }
   ],
   "source": [
    "# hide\n",
    "!git status"
   ]
  },
  {
   "cell_type": "code",
   "execution_count": null,
   "metadata": {},
   "outputs": [
    {
     "name": "stdout",
     "output_type": "stream",
     "text": [
      "[master 0f51b3f] update get_next_page_url\r\n",
      " 2 files changed, 108 insertions(+), 62 deletions(-)\r\n"
     ]
    }
   ],
   "source": [
    "# hide\n",
    "# 除了变化的文件，新增的文件也加进去\n",
    "!git add -A\n",
    "# add变化的文件和commit合成一条\n",
    "!git commit -m \"update get_next_page_url\""
   ]
  },
  {
   "cell_type": "code",
   "execution_count": null,
   "metadata": {},
   "outputs": [
    {
     "name": "stdout",
     "output_type": "stream",
     "text": [
      "Already up to date.\n",
      "Enumerating objects: 13, done.\n",
      "Counting objects: 100% (13/13), done.\n",
      "Delta compression using up to 4 threads\n",
      "Compressing objects: 100% (7/7), done.\n",
      "Writing objects: 100% (7/7), 10.68 KiB | 2.67 MiB/s, done.\n",
      "Total 7 (delta 5), reused 0 (delta 0)\n",
      "remote: Resolving deltas: 100% (5/5), completed with 5 local objects.\u001b[K\n",
      "To https://github.com/neo4dev/crawler_from_scratch.git\n",
      "   97f3a36..5d22e4e  master -> master\n"
     ]
    }
   ],
   "source": [
    "# hide\n",
    "!git pull\n",
    "# 第一次push需要用户名密码，可能需要在terminal输入\n",
    "# 因为国内push总超时，这是用shadowsocks代理的方法\n",
    "!git config --global http.https://github.com.proxy socks5://127.0.0.1:1086\n",
    "!git config --global https.https://github.com.proxy socks5://127.0.0.1:1086\n",
    "!git push"
   ]
  },
  {
   "cell_type": "code",
   "execution_count": null,
   "metadata": {},
   "outputs": [],
   "source": []
  }
 ],
 "metadata": {
  "kernelspec": {
   "display_name": "Python 3",
   "language": "python",
   "name": "python3"
  }
 },
 "nbformat": 4,
 "nbformat_minor": 2
}
