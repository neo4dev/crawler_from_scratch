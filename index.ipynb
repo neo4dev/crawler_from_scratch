{
 "cells": [
  {
   "cell_type": "markdown",
   "metadata": {},
   "source": [
    "# 从零学习爬虫 Crawler from scratch\n",
    "\n",
    "> 运用Jupyter Notebook 演示爬虫是如何运作的"
   ]
  },
  {
   "cell_type": "markdown",
   "metadata": {},
   "source": [
    "## 学习准备\n",
    "\n",
    "1. 具备1年代码经验，熟悉python\n",
    "* 了解HTML，以及网络传输的基础知识\n",
    "* 以一个全新的心态面对这个学习过程\n",
    "    * 一定能学会，因为我自己也只是个PM\n",
    "    * jupyter notebook 特有的交互式展示方式，很好的还原了爬虫运行的每个环节，一看就懂\n"
   ]
  },
  {
   "cell_type": "markdown",
   "metadata": {},
   "source": [
    "## 学习大纲：\n",
    "\n",
    "1. 初级-入门\n",
    "    * 最简单的爬虫，以及解析数据，存储成json\n",
    "    * 加cookie和headers，如何获取\n",
    "    * 批量爬页面\n",
    "* 中级-大量数据\n",
    "    * 代理\n",
    "    * 数据库\n",
    "    * 数据分析 numpy matplot\n",
    "* 高级-海量数据\n",
    "    * 分布式\n"
   ]
  },
  {
   "cell_type": "markdown",
   "metadata": {},
   "source": [
    "## 学习资料：\n",
    "\n",
    "1. [nbdev](https://github.com/fastai/nbdev):fastai开源的探索式编程IDE\n",
    "    * [用模板创建](https://github.com/fastai/nbdev_template/generate)一个github项目 \n",
    "    * nbdev_build_lib 生成发布环境需要的文件\n",
    "* [Anaconda](https://www.anaconda.com/distribution/) 打包了用Python进行数据分析需要的一切环境\n",
    "* [Jupyter](https://jupyter.org/) Notebook 基于Web的交互式计算环境\n",
    "    * Enter/双击: 进入编辑模式\n",
    "    * Esc: 退出编辑模式\n",
    "    * 命令行/非编辑模式\n",
    "        * D,D: 删除选中单元格\n",
    "        * A/B: 上方/下方插入新代码块\n",
    "        * H: 显示快捷键\n",
    "        * O: 选择单元格的输出\n",
    "    * 编辑模式\n",
    "        * ⇧↩: 运行代码块, 并选择下面的代码块\n",
    "        * ⇧M: 合并选中单元格\n",
    "* [markdown](https://www.runoob.com/markdown/md-tutorial.html)一种轻量级标记语言，可以便捷的为这里的文字添加样式\n",
    "\n"
   ]
  },
  {
   "cell_type": "code",
   "execution_count": null,
   "metadata": {},
   "outputs": [],
   "source": [
    "\n",
    "\n"
   ]
  },
  {
   "cell_type": "code",
   "execution_count": null,
   "metadata": {},
   "outputs": [],
   "source": []
  },
  {
   "cell_type": "code",
   "execution_count": 4,
   "metadata": {
    "scrolled": true
   },
   "outputs": [
    {
     "name": "stdout",
     "output_type": "stream",
     "text": [
      "Converted 00_Getting_Started.ipynb.\r\n",
      "Converted index.ipynb.\r\n"
     ]
    }
   ],
   "source": [
    "# hide\n",
    "# 用nbdev转化&输出文件\n",
    "!nbdev_build_lib"
   ]
  },
  {
   "cell_type": "code",
   "execution_count": 10,
   "metadata": {
    "collapsed": true
   },
   "outputs": [
    {
     "name": "stdout",
     "output_type": "stream",
     "text": [
      "On branch master\r\n",
      "Your branch is up to date with 'origin/master'.\r\n",
      "\r\n",
      "Changes to be committed:\r\n",
      "  (use \"git reset HEAD <file>...\" to unstage)\r\n",
      "\r\n",
      "\t\u001b[32mrenamed:    00_core.ipynb -> 00_Getting_Started.ipynb\u001b[m\r\n",
      "\t\u001b[32mnew file:   Makefile\u001b[m\r\n",
      "\t\u001b[32mnew file:   crawler_from_scratch/__init__.py\u001b[m\r\n",
      "\t\u001b[32mnew file:   crawler_from_scratch/_nbdev.py\u001b[m\r\n",
      "\t\u001b[32mnew file:   crawler_from_scratch/core.py\u001b[m\r\n",
      "\t\u001b[32mnew file:   docs/_config.yml\u001b[m\r\n",
      "\t\u001b[32mnew file:   docs/_data/topnav.yml\u001b[m\r\n",
      "\t\u001b[32mmodified:   index.ipynb\u001b[m\r\n",
      "\t\u001b[32mmodified:   settings.ini\u001b[m\r\n",
      "\r\n",
      "Changes not staged for commit:\r\n",
      "  (use \"git add <file>...\" to update what will be committed)\r\n",
      "  (use \"git checkout -- <file>...\" to discard changes in working directory)\r\n",
      "\r\n",
      "\t\u001b[31mmodified:   index.ipynb\u001b[m\r\n",
      "\r\n"
     ]
    }
   ],
   "source": [
    "!git status"
   ]
  },
  {
   "cell_type": "code",
   "execution_count": 7,
   "metadata": {},
   "outputs": [],
   "source": [
    "!git add --all"
   ]
  },
  {
   "cell_type": "code",
   "execution_count": 11,
   "metadata": {},
   "outputs": [
    {
     "name": "stdout",
     "output_type": "stream",
     "text": [
      "[master 2924173] Upadate 1: write the summary of this project\r\n",
      " 9 files changed, 275 insertions(+), 34 deletions(-)\r\n",
      " rename 00_core.ipynb => 00_Getting_Started.ipynb (73%)\r\n",
      " create mode 100644 Makefile\r\n",
      " create mode 100644 crawler_from_scratch/__init__.py\r\n",
      " create mode 100644 crawler_from_scratch/_nbdev.py\r\n",
      " create mode 100644 crawler_from_scratch/core.py\r\n",
      " create mode 100644 docs/_config.yml\r\n",
      " create mode 100644 docs/_data/topnav.yml\r\n"
     ]
    }
   ],
   "source": [
    "!git commit -m \"Upadate 1: write the summary of this project\""
   ]
  },
  {
   "cell_type": "code",
   "execution_count": null,
   "metadata": {},
   "outputs": [],
   "source": []
  },
  {
   "cell_type": "code",
   "execution_count": null,
   "metadata": {},
   "outputs": [],
   "source": []
  },
  {
   "cell_type": "markdown",
   "metadata": {},
   "source": [
    "## Install"
   ]
  },
  {
   "cell_type": "markdown",
   "metadata": {},
   "source": [
    "`pip install your_project_name`"
   ]
  },
  {
   "cell_type": "markdown",
   "metadata": {},
   "source": [
    "## How to use"
   ]
  },
  {
   "cell_type": "markdown",
   "metadata": {},
   "source": [
    "Fill me in please! Don't forget code examples:"
   ]
  },
  {
   "cell_type": "code",
   "execution_count": null,
   "metadata": {},
   "outputs": [],
   "source": []
  }
 ],
 "metadata": {
  "kernelspec": {
   "display_name": "Python 3",
   "language": "python",
   "name": "python3"
  },
  "language_info": {
   "codemirror_mode": {
    "name": "ipython",
    "version": 3
   },
   "file_extension": ".py",
   "mimetype": "text/x-python",
   "name": "python",
   "nbconvert_exporter": "python",
   "pygments_lexer": "ipython3",
   "version": "3.7.4"
  }
 },
 "nbformat": 4,
 "nbformat_minor": 2
}
