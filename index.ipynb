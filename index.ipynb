{
 "cells": [
  {
   "cell_type": "markdown",
   "metadata": {},
   "source": [
    "# 从零学习爬虫 Crawler from scratch\n",
    "\n",
    "> 运用Jupyter Notebook 演示爬虫是如何运作的"
   ]
  },
  {
   "cell_type": "markdown",
   "metadata": {},
   "source": [
    "## 学习准备\n",
    "\n",
    "1. 具备1年代码经验，熟悉python\n",
    "* 了解HTML，以及网络传输的基础知识\n",
    "* 以一个全新的心态面对这个学习过程\n",
    "    * 一定能学会，因为我自己也只是个PM\n",
    "    * jupyter notebook 特有的交互式展示方式，很好的还原了爬虫运行的每个环节，一看就懂\n"
   ]
  },
  {
   "cell_type": "markdown",
   "metadata": {},
   "source": [
    "## 学习大纲：\n",
    "\n",
    "1. 初级-入门\n",
    "    * 最简单的爬虫，以及解析数据，存储成json  [00_Getting_Started](./00_Getting_Started.ipynb)\n",
    "    * 加cookie和headers，如何获取 [01_Advanced_Request](./01_Advanced_Request.ipynb)\n",
    "    * 批量爬页面\n",
    "* 中级-大量数据\n",
    "    * 代理\n",
    "    * 数据库\n",
    "    * 数据分析 numpy matplot\n",
    "    * 探索式爬取\n",
    "    * 断点续爬\n",
    "* 高级-海量数据\n",
    "    * 分布式存储？\n",
    "    * seleium模拟登陆，获取cookie\n",
    "    * 海量数据分析 vaex 一个开源的 DataFrame 库\n",
    "    * 服务器部署\n",
    "\n"
   ]
  },
  {
   "cell_type": "markdown",
   "metadata": {},
   "source": [
    "## 学习资料：\n",
    "\n",
    "1. [nbdev](https://github.com/fastai/nbdev):fastai开源的探索式编程IDE\n",
    "    * [官方完整的一步一步教程](http://nbdev.fast.ai/tutorial/#Set-up-Repo)\n",
    "    * [用模板创建](https://github.com/fastai/nbdev_template/generate)一个github项目 \n",
    "    * 修改setting.ini 所有配置都在这里\n",
    "    * nbdev_build_lib 生成.py的文件 [其他命令](http://nbdev.fast.ai/cli/)\n",
    "    * nbdev_build_docs 生成文档所需文件\n",
    "* [Anaconda](https://www.anaconda.com/distribution/) 打包了用Python进行数据分析需要的一切环境\n",
    "* [Jupyter](https://jupyter.org/) Notebook 基于Web的交互式计算环境\n",
    "    * Enter/双击: 进入编辑模式\n",
    "    * Esc: 退出编辑模式\n",
    "    * 命令行/非编辑模式\n",
    "        * D,D: 删除选中单元格\n",
    "        * A/B: 上方/下方插入新代码块\n",
    "        * H: 显示快捷键\n",
    "        * O: 选择单元格的输出\n",
    "    * 编辑模式\n",
    "        * ⇧↩: 运行代码块, 并选择下面的代码块\n",
    "        * ⇧M: 合并选中单元格\n",
    "* [markdown](https://www.runoob.com/markdown/md-tutorial.html)一种轻量级标记语言，可以便捷的为这里的文字添加样式\n",
    "\n"
   ]
  },
  {
   "cell_type": "markdown",
   "metadata": {},
   "source": [
    "## 发布\n",
    "> 将文件打包，上传到github"
   ]
  },
  {
   "cell_type": "code",
   "execution_count": null,
   "metadata": {},
   "outputs": [
    {
     "name": "stdout",
     "output_type": "stream",
     "text": [
      "Collecting nbdev\n",
      "  Using cached https://files.pythonhosted.org/packages/c4/7a/a3a3ec1018cf8d054e92c0856c2aea4232bcc5147172b88170b2467d6f33/nbdev-0.2.12-py3-none-any.whl\n",
      "Collecting nbconvert>=5.6.1 (from nbdev)\n",
      "\u001b[?25l  Downloading https://files.pythonhosted.org/packages/79/6c/05a569e9f703d18aacb89b7ad6075b404e8a4afde2c26b73ca77bb644b14/nbconvert-5.6.1-py2.py3-none-any.whl (455kB)\n",
      "\u001b[K     |████████████████████████████████| 460kB 16kB/s eta 0:00:016\n",
      "\u001b[?25hRequirement already satisfied, skipping upgrade: nbformat>=4.4.0 in /opt/anaconda3/lib/python3.7/site-packages (from nbdev) (4.4.0)\n",
      "Requirement already satisfied, skipping upgrade: pyyaml in /opt/anaconda3/lib/python3.7/site-packages (from nbdev) (5.1.2)\n",
      "Requirement already satisfied, skipping upgrade: fastscript in /opt/anaconda3/lib/python3.7/site-packages (from nbdev) (0.1.4)\n",
      "Requirement already satisfied, skipping upgrade: packaging in /opt/anaconda3/lib/python3.7/site-packages (from nbdev) (19.2)\n",
      "Requirement already satisfied, skipping upgrade: traitlets>=4.2 in /opt/anaconda3/lib/python3.7/site-packages (from nbconvert>=5.6.1->nbdev) (4.3.3)\n",
      "Requirement already satisfied, skipping upgrade: defusedxml in /opt/anaconda3/lib/python3.7/site-packages (from nbconvert>=5.6.1->nbdev) (0.6.0)\n",
      "Requirement already satisfied, skipping upgrade: bleach in /opt/anaconda3/lib/python3.7/site-packages (from nbconvert>=5.6.1->nbdev) (3.1.0)\n",
      "Requirement already satisfied, skipping upgrade: testpath in /opt/anaconda3/lib/python3.7/site-packages (from nbconvert>=5.6.1->nbdev) (0.4.2)\n",
      "Requirement already satisfied, skipping upgrade: pygments in /opt/anaconda3/lib/python3.7/site-packages (from nbconvert>=5.6.1->nbdev) (2.4.2)\n",
      "Requirement already satisfied, skipping upgrade: jinja2>=2.4 in /opt/anaconda3/lib/python3.7/site-packages (from nbconvert>=5.6.1->nbdev) (2.10.3)\n",
      "Requirement already satisfied, skipping upgrade: entrypoints>=0.2.2 in /opt/anaconda3/lib/python3.7/site-packages (from nbconvert>=5.6.1->nbdev) (0.3)\n",
      "Requirement already satisfied, skipping upgrade: pandocfilters>=1.4.1 in /opt/anaconda3/lib/python3.7/site-packages (from nbconvert>=5.6.1->nbdev) (1.4.2)\n",
      "Requirement already satisfied, skipping upgrade: jupyter-core in /opt/anaconda3/lib/python3.7/site-packages (from nbconvert>=5.6.1->nbdev) (4.5.0)\n",
      "Requirement already satisfied, skipping upgrade: mistune<2,>=0.8.1 in /opt/anaconda3/lib/python3.7/site-packages (from nbconvert>=5.6.1->nbdev) (0.8.4)\n",
      "Requirement already satisfied, skipping upgrade: jsonschema!=2.5.0,>=2.4 in /opt/anaconda3/lib/python3.7/site-packages (from nbformat>=4.4.0->nbdev) (3.0.2)\n",
      "Requirement already satisfied, skipping upgrade: ipython-genutils in /opt/anaconda3/lib/python3.7/site-packages (from nbformat>=4.4.0->nbdev) (0.2.0)\n",
      "Requirement already satisfied, skipping upgrade: six in /opt/anaconda3/lib/python3.7/site-packages (from packaging->nbdev) (1.12.0)\n",
      "Requirement already satisfied, skipping upgrade: pyparsing>=2.0.2 in /opt/anaconda3/lib/python3.7/site-packages (from packaging->nbdev) (2.4.2)\n",
      "Requirement already satisfied, skipping upgrade: decorator in /opt/anaconda3/lib/python3.7/site-packages (from traitlets>=4.2->nbconvert>=5.6.1->nbdev) (4.4.0)\n",
      "Requirement already satisfied, skipping upgrade: webencodings in /opt/anaconda3/lib/python3.7/site-packages (from bleach->nbconvert>=5.6.1->nbdev) (0.5.1)\n",
      "Requirement already satisfied, skipping upgrade: MarkupSafe>=0.23 in /opt/anaconda3/lib/python3.7/site-packages (from jinja2>=2.4->nbconvert>=5.6.1->nbdev) (1.1.1)\n",
      "Requirement already satisfied, skipping upgrade: pyrsistent>=0.14.0 in /opt/anaconda3/lib/python3.7/site-packages (from jsonschema!=2.5.0,>=2.4->nbformat>=4.4.0->nbdev) (0.15.4)\n",
      "Requirement already satisfied, skipping upgrade: setuptools in /opt/anaconda3/lib/python3.7/site-packages (from jsonschema!=2.5.0,>=2.4->nbformat>=4.4.0->nbdev) (41.4.0)\n",
      "Requirement already satisfied, skipping upgrade: attrs>=17.4.0 in /opt/anaconda3/lib/python3.7/site-packages (from jsonschema!=2.5.0,>=2.4->nbformat>=4.4.0->nbdev) (19.2.0)\n",
      "\u001b[31mERROR: spyder 3.3.6 requires pyqt5<5.13; python_version >= \"3\", which is not installed.\u001b[0m\n",
      "\u001b[31mERROR: spyder 3.3.6 requires pyqtwebengine<5.13; python_version >= \"3\", which is not installed.\u001b[0m\n",
      "Installing collected packages: nbconvert, nbdev\n",
      "  Found existing installation: nbconvert 5.6.0\n",
      "    Uninstalling nbconvert-5.6.0:\n",
      "      Successfully uninstalled nbconvert-5.6.0\n",
      "  Found existing installation: nbdev 0.2.9\n",
      "    Uninstalling nbdev-0.2.9:\n",
      "      Successfully uninstalled nbdev-0.2.9\n",
      "Successfully installed nbconvert-5.6.1 nbdev-0.2.12\n"
     ]
    }
   ],
   "source": [
    "!pip install nbdev -U"
   ]
  },
  {
   "cell_type": "code",
   "execution_count": null,
   "metadata": {},
   "outputs": [
    {
     "name": "stdout",
     "output_type": "stream",
     "text": [
      "Executing: git config --local include.path ../.gitconfig\n",
      "Success: hooks are installed and repo's .gitconfig is now trusted\n"
     ]
    }
   ],
   "source": [
    "!nbdev_install_git_hooks"
   ]
  },
  {
   "cell_type": "code",
   "execution_count": null,
   "metadata": {},
   "outputs": [
    {
     "name": "stdout",
     "output_type": "stream",
     "text": [
      "Converted 00_Getting_Started.ipynb.\n",
      "Converted 01_Advanced_Request.ipynb.\n",
      "Converted 02_auto_crawler.ipynb.\n",
      "Converted index.ipynb.\n"
     ]
    }
   ],
   "source": [
    "!nbdev_build_lib\n",
    "# !nbdev_build_docs"
   ]
  },
  {
   "cell_type": "code",
   "execution_count": null,
   "metadata": {},
   "outputs": [
    {
     "name": "stdout",
     "output_type": "stream",
     "text": [
      "On branch master\r\n",
      "Your branch is ahead of 'origin/master' by 2 commits.\r\n",
      "  (use \"git push\" to publish your local commits)\r\n",
      "\r\n",
      "Changes to be committed:\r\n",
      "  (use \"git reset HEAD <file>...\" to unstage)\r\n",
      "\r\n",
      "\t\u001b[32mnew file:   crawler_from_scratch/auto.py\u001b[m\r\n",
      "\t\u001b[32mnew file:   crawler_from_scratch/start.py\u001b[m\r\n",
      "\r\n"
     ]
    }
   ],
   "source": [
    "!git status"
   ]
  },
  {
   "cell_type": "code",
   "execution_count": null,
   "metadata": {},
   "outputs": [],
   "source": [
    "# 除了变化的文件，新增的文件也加进去\n",
    "!git add -A"
   ]
  },
  {
   "cell_type": "code",
   "execution_count": null,
   "metadata": {},
   "outputs": [
    {
     "name": "stdout",
     "output_type": "stream",
     "text": [
      "[master 1b2b284] update build lib\n",
      " 3 files changed, 72 insertions(+), 12 deletions(-)\n",
      " create mode 100644 crawler_from_scratch/auto.py\n",
      " create mode 100644 crawler_from_scratch/start.py\n"
     ]
    }
   ],
   "source": [
    "# add变化的文件和commit合成一条\n",
    "!git commit -a -m \"update build lib\""
   ]
  },
  {
   "cell_type": "code",
   "execution_count": null,
   "metadata": {},
   "outputs": [
    {
     "name": "stdout",
     "output_type": "stream",
     "text": [
      "Enumerating objects: 18, done.\n",
      "Counting objects: 100% (18/18), done.\n",
      "Delta compression using up to 4 threads\n",
      "Compressing objects: 100% (14/14), done.\n",
      "Writing objects: 100% (14/14), 3.36 KiB | 3.36 MiB/s, done.\n",
      "Total 14 (delta 8), reused 0 (delta 0)\n",
      "remote: Resolving deltas: 100% (8/8), completed with 3 local objects.\u001b[K\n",
      "To https://github.com/neo4dev/crawler_from_scratch.git\n",
      "   ee9ef9d..1b2b284  master -> master\n"
     ]
    }
   ],
   "source": [
    "# 第一次push需要用户名密码，可能需要在terminal输入\n",
    "# 因为国内push总超时，这是用shadowsocks代理的方法\n",
    "!git config --global http.https://github.com.proxy socks5://127.0.0.1:1086\n",
    "!git config --global https.https://github.com.proxy socks5://127.0.0.1:1086\n",
    "!git push"
   ]
  },
  {
   "cell_type": "code",
   "execution_count": null,
   "metadata": {},
   "outputs": [
    {
     "name": "stdout",
     "output_type": "stream",
     "text": [
      "remote: Enumerating objects: 10, done.\u001b[K\n",
      "remote: Counting objects: 100% (10/10), done.\u001b[K\n",
      "remote: Compressing objects: 100% (6/6), done.\u001b[K\n",
      "remote: Total 7 (delta 4), reused 0 (delta 0), pack-reused 0\u001b[K\n",
      "Unpacking objects: 100% (7/7), done.\n",
      "From https://github.com/neo4dev/crawler_from_scratch\n",
      "   1e2fc73..67a8969  master     -> origin/master\n",
      " * [new branch]      dependabot/bundler/docs/nokogiri-1.10.8 -> origin/dependabot/bundler/docs/nokogiri-1.10.8\n",
      "hint: Waiting for your editor to close the file... \u001b7\u001b[?47h\u001b[?1h\u001b=\u001b[?2004h\u001b[1;24r\u001b[?12h\u001b[?12l\u001b[22;2t\u001b[22;1t\u001b[29m\u001b[m\u001b[H\u001b[2J\u001b[?25l\u001b[24;1H\"~/crawler_from_scratch/.git/MERGE_MSG\" 7L, 300C\u001b[2;1H▽\u001b[6n\u001b[2;1H  \u001b[1;1H\u001b[>c\u001b]10;?\u0007\u001b]11;?\u0007\u001b[1;1HMerge branch 'master' of https://github.com/neo4dev/crawler_from_scratch\n",
      "\n",
      "# Please enter a commit message to explain why this merge is necessary,\n",
      "# especially if it merges an updated upstream into a topic branch.\n",
      "#\n",
      "# Lines starting with '#' will be ignored, and an empty message aborts\n",
      "# the commit.\n",
      "\u001b[1m\u001b[34m~                                                                               \u001b[9;1H~                                                                               \u001b[10;1H~                                                                               \u001b[11;1H~                                                                               \u001b[12;1H~                                                                               \u001b[13;1H~                                                                               \u001b[14;1H~                                                                               \u001b[15;1H~                                                                               \u001b[16;1H~                                                                               \u001b[17;1H~                                                                               \u001b[18;1H~                                                                               \u001b[19;1H~                                                                               \u001b[20;1H~                                                                               \u001b[21;1H~                                                                               \u001b[22;1H~                                                                               \u001b[23;1H~                                                                               \u001b[1;1H\u001b[?25h\u001b[?25l\u001b[m\u001b[24;1HType  :qa  and press <Enter> to exit Vim\u001b[24;41H\u001b[K\u0007\u001b[1;1H\u001b[?25h"
     ]
    }
   ],
   "source": [
    "!git pull"
   ]
  },
  {
   "cell_type": "code",
   "execution_count": null,
   "metadata": {},
   "outputs": [
    {
     "name": "stdout",
     "output_type": "stream",
     "text": [
      "testing: /Users/Neo/crawler_from_scratch/00_Getting_Started.ipynb\n",
      "testing: /Users/Neo/crawler_from_scratch/01_Advanced_Request.ipynb\n",
      "testing: /Users/Neo/crawler_from_scratch/02_auto_crawler.ipynb\n",
      "testing: /Users/Neo/crawler_from_scratch/index.ipynb\n",
      "Error in /Users/Neo/crawler_from_scratch/00_Getting_Started.ipynb:\n",
      "An error occurred while executing the following cell:\n",
      "------------------\n",
      "with open('../data/00_links.txt', 'w') as f:\n",
      "    for a in a_htmls:\n",
      "        f.write(a['href']+'\\n')\n",
      "------------------\n",
      "\n",
      "\u001b[0;31m---------------------------------------------------------------------------\u001b[0m\n",
      "\u001b[0;31mFileNotFoundError\u001b[0m                         Traceback (most recent call last)\n",
      "\u001b[0;32m<ipython-input-8-c4b86b1632ef>\u001b[0m in \u001b[0;36m<module>\u001b[0;34m\u001b[0m\n",
      "\u001b[0;32m----> 1\u001b[0;31m \u001b[0;32mwith\u001b[0m \u001b[0mopen\u001b[0m\u001b[0;34m(\u001b[0m\u001b[0;34m'../data/00_links.txt'\u001b[0m\u001b[0;34m,\u001b[0m \u001b[0;34m'w'\u001b[0m\u001b[0;34m)\u001b[0m \u001b[0;32mas\u001b[0m \u001b[0mf\u001b[0m\u001b[0;34m:\u001b[0m\u001b[0;34m\u001b[0m\u001b[0;34m\u001b[0m\u001b[0m\n",
      "\u001b[0m\u001b[1;32m      2\u001b[0m     \u001b[0;32mfor\u001b[0m \u001b[0ma\u001b[0m \u001b[0;32min\u001b[0m \u001b[0ma_htmls\u001b[0m\u001b[0;34m:\u001b[0m\u001b[0;34m\u001b[0m\u001b[0;34m\u001b[0m\u001b[0m\n",
      "\u001b[1;32m      3\u001b[0m         \u001b[0mf\u001b[0m\u001b[0;34m.\u001b[0m\u001b[0mwrite\u001b[0m\u001b[0;34m(\u001b[0m\u001b[0ma\u001b[0m\u001b[0;34m[\u001b[0m\u001b[0;34m'href'\u001b[0m\u001b[0;34m]\u001b[0m\u001b[0;34m+\u001b[0m\u001b[0;34m'\\n'\u001b[0m\u001b[0;34m)\u001b[0m\u001b[0;34m\u001b[0m\u001b[0;34m\u001b[0m\u001b[0m\n",
      "\n",
      "\u001b[0;31mFileNotFoundError\u001b[0m: [Errno 2] No such file or directory: '../data/00_links.txt'\n",
      "FileNotFoundError: [Errno 2] No such file or directory: '../data/00_links.txt'\n",
      "\n",
      "Error in /Users/Neo/crawler_from_scratch/02_auto_crawler.ipynb:\n",
      "An error occurred while executing the following cell:\n",
      "------------------\n",
      "test_eq(1+3,2)\n",
      "------------------\n",
      "\n",
      "\u001b[0;31m---------------------------------------------------------------------------\u001b[0m\n",
      "\u001b[0;31mAssertionError\u001b[0m                            Traceback (most recent call last)\n",
      "\u001b[0;32m<ipython-input-5-a9ac75820a06>\u001b[0m in \u001b[0;36m<module>\u001b[0;34m\u001b[0m\n",
      "\u001b[0;32m----> 1\u001b[0;31m \u001b[0mtest_eq\u001b[0m\u001b[0;34m(\u001b[0m\u001b[0;36m1\u001b[0m\u001b[0;34m+\u001b[0m\u001b[0;36m3\u001b[0m\u001b[0;34m,\u001b[0m\u001b[0;36m2\u001b[0m\u001b[0;34m)\u001b[0m\u001b[0;34m\u001b[0m\u001b[0;34m\u001b[0m\u001b[0m\n",
      "\u001b[0m\n",
      "\u001b[0;32m/opt/anaconda3/lib/python3.7/site-packages/nbdev/imports.py\u001b[0m in \u001b[0;36mtest_eq\u001b[0;34m(a, b)\u001b[0m\n",
      "\u001b[1;32m     10\u001b[0m \u001b[0;32mfrom\u001b[0m \u001b[0mbase64\u001b[0m \u001b[0;32mimport\u001b[0m \u001b[0mb64decode\u001b[0m\u001b[0;34m,\u001b[0m\u001b[0mb64encode\u001b[0m\u001b[0;34m\u001b[0m\u001b[0;34m\u001b[0m\u001b[0m\n",
      "\u001b[1;32m     11\u001b[0m \u001b[0;34m\u001b[0m\u001b[0m\n",
      "\u001b[0;32m---> 12\u001b[0;31m \u001b[0;32mdef\u001b[0m \u001b[0mtest_eq\u001b[0m\u001b[0;34m(\u001b[0m\u001b[0ma\u001b[0m\u001b[0;34m,\u001b[0m\u001b[0mb\u001b[0m\u001b[0;34m)\u001b[0m\u001b[0;34m:\u001b[0m \u001b[0;32massert\u001b[0m \u001b[0ma\u001b[0m\u001b[0;34m==\u001b[0m\u001b[0mb\u001b[0m\u001b[0;34m,\u001b[0m \u001b[0;34mf'{a}, {b}'\u001b[0m\u001b[0;34m\u001b[0m\u001b[0;34m\u001b[0m\u001b[0m\n",
      "\u001b[0m\u001b[1;32m     13\u001b[0m \u001b[0;34m\u001b[0m\u001b[0m\n",
      "\u001b[1;32m     14\u001b[0m \u001b[0;32mdef\u001b[0m \u001b[0msave_config_file\u001b[0m\u001b[0;34m(\u001b[0m\u001b[0mfile\u001b[0m\u001b[0;34m,\u001b[0m \u001b[0md\u001b[0m\u001b[0;34m)\u001b[0m\u001b[0;34m:\u001b[0m\u001b[0;34m\u001b[0m\u001b[0;34m\u001b[0m\u001b[0m\n",
      "\n",
      "\u001b[0;31mAssertionError\u001b[0m: 4, 2\n",
      "AssertionError: 4, 2\n",
      "\n",
      "Error in /Users/Neo/crawler_from_scratch/01_Advanced_Request.ipynb:\n",
      "An error occurred while executing the following cell:\n",
      "------------------\n",
      "with open('../data/01_douban.json', 'w') as f:\n",
      "    json.dump(contents,f)\n",
      "------------------\n",
      "\n",
      "\u001b[0;31m---------------------------------------------------------------------------\u001b[0m\n",
      "\u001b[0;31mFileNotFoundError\u001b[0m                         Traceback (most recent call last)\n",
      "\u001b[0;32m<ipython-input-17-c19fa262c45e>\u001b[0m in \u001b[0;36m<module>\u001b[0;34m\u001b[0m\n",
      "\u001b[0;32m----> 1\u001b[0;31m \u001b[0;32mwith\u001b[0m \u001b[0mopen\u001b[0m\u001b[0;34m(\u001b[0m\u001b[0;34m'../data/01_douban.json'\u001b[0m\u001b[0;34m,\u001b[0m \u001b[0;34m'w'\u001b[0m\u001b[0;34m)\u001b[0m \u001b[0;32mas\u001b[0m \u001b[0mf\u001b[0m\u001b[0;34m:\u001b[0m\u001b[0;34m\u001b[0m\u001b[0;34m\u001b[0m\u001b[0m\n",
      "\u001b[0m\u001b[1;32m      2\u001b[0m     \u001b[0mjson\u001b[0m\u001b[0;34m.\u001b[0m\u001b[0mdump\u001b[0m\u001b[0;34m(\u001b[0m\u001b[0mcontents\u001b[0m\u001b[0;34m,\u001b[0m\u001b[0mf\u001b[0m\u001b[0;34m)\u001b[0m\u001b[0;34m\u001b[0m\u001b[0;34m\u001b[0m\u001b[0m\n",
      "\n",
      "\u001b[0;31mFileNotFoundError\u001b[0m: [Errno 2] No such file or directory: '../data/01_douban.json'\n",
      "FileNotFoundError: [Errno 2] No such file or directory: '../data/01_douban.json'\n",
      "\n",
      "Traceback (most recent call last):\n",
      "  File \"/opt/anaconda3/bin/nbdev_test_nbs\", line 10, in <module>\n",
      "    sys.exit(nbdev_test_nbs())\n",
      "  File \"/opt/anaconda3/lib/python3.7/site-packages/fastscript/core.py\", line 73, in _f\n",
      "    func(**args.__dict__)\n",
      "  File \"/opt/anaconda3/lib/python3.7/site-packages/nbdev/cli.py\", line 70, in nbdev_test_nbs\n",
      "    raise Exception(msg + '\\n'.join([f.name for p,f in zip(passed,files) if not p]))\n",
      "Exception: The following notebooks failed:\n",
      "00_Getting_Started.ipynb\n",
      "01_Advanced_Request.ipynb\n",
      "02_auto_crawler.ipynb\n"
     ]
    }
   ],
   "source": [
    "!nbdev_test_nbs"
   ]
  },
  {
   "cell_type": "code",
   "execution_count": null,
   "metadata": {},
   "outputs": [],
   "source": []
  }
 ],
 "metadata": {
  "kernelspec": {
   "display_name": "Python 3",
   "language": "python",
   "name": "python3"
  }
 },
 "nbformat": 4,
 "nbformat_minor": 2
}
