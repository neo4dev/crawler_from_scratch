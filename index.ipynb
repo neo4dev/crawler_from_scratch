{
 "cells": [
  {
   "cell_type": "markdown",
   "metadata": {},
   "source": [
    "# 从零学习爬虫 Crawler from scratch\n",
    "\n",
    "> 运用Jupyter Notebook 演示爬虫是如何运作的"
   ]
  },
  {
   "cell_type": "markdown",
   "metadata": {},
   "source": [
    "## 学习准备\n",
    "\n",
    "1. 具备1年代码经验，熟悉python\n",
    "* 了解HTML，以及网络传输的基础知识\n",
    "* 以一个全新的心态面对这个学习过程\n",
    "    * 一定能学会，因为我自己也只是个PM\n",
    "    * jupyter notebook 特有的交互式展示方式，很好的还原了爬虫运行的每个环节，一看就懂\n"
   ]
  },
  {
   "cell_type": "markdown",
   "metadata": {},
   "source": [
    "## 学习大纲：\n",
    "\n",
    "1. 初级-入门\n",
    "    * 最简单的爬虫，以及解析数据，存储成json\n",
    "    * 加cookie和headers，如何获取\n",
    "    * 批量爬页面\n",
    "* 中级-大量数据\n",
    "    * 代理\n",
    "    * 数据库\n",
    "    * 数据分析 numpy matplot\n",
    "* 高级-海量数据\n",
    "    * 分布式\n"
   ]
  },
  {
   "cell_type": "markdown",
   "metadata": {},
   "source": [
    "## 学习资料：\n",
    "\n",
    "1. [nbdev](https://github.com/fastai/nbdev):fastai开源的探索式编程IDE\n",
    "    * [用模板创建](https://github.com/fastai/nbdev_template/generate)一个github项目 \n",
    "    * nbdev_build_lib 生成发布环境需要的文件\n",
    "* [Anaconda](https://www.anaconda.com/distribution/) 打包了用Python进行数据分析需要的一切环境\n",
    "* [Jupyter](https://jupyter.org/) Notebook 基于Web的交互式计算环境\n",
    "    * Enter/双击: 进入编辑模式\n",
    "    * Esc: 退出编辑模式\n",
    "    * 命令行/非编辑模式\n",
    "        * D,D: 删除选中单元格\n",
    "        * A/B: 上方/下方插入新代码块\n",
    "        * H: 显示快捷键\n",
    "        * O: 选择单元格的输出\n",
    "    * 编辑模式\n",
    "        * ⇧↩: 运行代码块, 并选择下面的代码块\n",
    "        * ⇧M: 合并选中单元格\n",
    "* [markdown](https://www.runoob.com/markdown/md-tutorial.html)一种轻量级标记语言，可以便捷的为这里的文字添加样式\n",
    "\n"
   ]
  },
  {
   "cell_type": "code",
   "execution_count": null,
   "metadata": {},
   "outputs": [],
   "source": [
    "\n",
    "\n"
   ]
  },
  {
   "cell_type": "code",
   "execution_count": null,
   "metadata": {},
   "outputs": [],
   "source": []
  },
  {
   "cell_type": "code",
   "execution_count": 4,
   "metadata": {
    "scrolled": true
   },
   "outputs": [
    {
     "name": "stdout",
     "output_type": "stream",
     "text": [
      "Converted 00_Getting_Started.ipynb.\r\n",
      "Converted index.ipynb.\r\n"
     ]
    }
   ],
   "source": [
    "# hide\n",
    "# 用nbdev转化&输出文件\n",
    "!nbdev_build_lib"
   ]
  },
  {
   "cell_type": "code",
   "execution_count": 1,
   "metadata": {
    "collapsed": true
   },
   "outputs": [
    {
     "name": "stdout",
     "output_type": "stream",
     "text": [
      "On branch master\r\n",
      "Your branch is ahead of 'origin/master' by 2 commits.\r\n",
      "  (use \"git push\" to publish your local commits)\r\n",
      "\r\n",
      "Changes to be committed:\r\n",
      "  (use \"git reset HEAD <file>...\" to unstage)\r\n",
      "\r\n",
      "\t\u001b[32mmodified:   index.ipynb\u001b[m\r\n",
      "\r\n",
      "Changes not staged for commit:\r\n",
      "  (use \"git add <file>...\" to update what will be committed)\r\n",
      "  (use \"git checkout -- <file>...\" to discard changes in working directory)\r\n",
      "\r\n",
      "\t\u001b[31mmodified:   index.ipynb\u001b[m\r\n",
      "\r\n"
     ]
    }
   ],
   "source": [
    "!git status\n",
    "# !git commit -m \"Upadate 1: write the summary of this project\""
   ]
  },
  {
   "cell_type": "code",
   "execution_count": 12,
   "metadata": {
    "scrolled": false
   },
   "outputs": [
    {
     "name": "stdout",
     "output_type": "stream",
     "text": [
      "[master 4d86f70] add files\r\n",
      " 1 file changed, 66 insertions(+), 17 deletions(-)\r\n"
     ]
    }
   ],
   "source": [
    "!git commit -a -m \"add files\""
   ]
  },
  {
   "cell_type": "code",
   "execution_count": 2,
   "metadata": {
    "scrolled": false
   },
   "outputs": [
    {
     "name": "stdout",
     "output_type": "stream",
     "text": [
      "fatal: unable to access 'https://github.com/neo4dev/crawler_from_scratch.git/': Failed to connect to github.com port 443: Operation timed out\r\n"
     ]
    }
   ],
   "source": [
    "!git push origin master"
   ]
  },
  {
   "cell_type": "code",
   "execution_count": 7,
   "metadata": {},
   "outputs": [
    {
     "name": "stdout",
     "output_type": "stream",
     "text": [
      "PING github.com (13.250.177.223): 56 data bytes\n",
      "Request timeout for icmp_seq 0\n",
      "Request timeout for icmp_seq 1\n",
      "Request timeout for icmp_seq 2\n",
      "Request timeout for icmp_seq 3\n",
      "Request timeout for icmp_seq 4\n",
      "Request timeout for icmp_seq 5\n",
      "Request timeout for icmp_seq 6\n",
      "Request timeout for icmp_seq 7\n",
      "^C\n",
      "\n",
      "--- github.com ping statistics ---\n",
      "9 packets transmitted, 0 packets received, 100.0% packet loss\n"
     ]
    }
   ],
   "source": [
    "!ping github.com\n"
   ]
  },
  {
   "cell_type": "code",
   "execution_count": 16,
   "metadata": {},
   "outputs": [
    {
     "name": "stdout",
     "output_type": "stream",
     "text": [
      "Everything up-to-date\r\n"
     ]
    }
   ],
   "source": [
    "# !export ALL_PROXY=socks5://127.0.0.1:1080\n",
    "# !export all_proxy=socks5://127.0.0.1:1086\n",
    "# !export http_proxy=http://127.0.0.1:1086\n",
    "\n",
    "\n",
    "!git config --global http.https://github.com.proxy socks5://127.0.0.1:1086\n",
    "!git config --global https.https://github.com.proxy socks5://127.0.0.1:1086\n",
    "\n",
    "# !ping github.com\n",
    "!git push\n"
   ]
  },
  {
   "cell_type": "code",
   "execution_count": null,
   "metadata": {},
   "outputs": [],
   "source": []
  },
  {
   "cell_type": "code",
   "execution_count": null,
   "metadata": {},
   "outputs": [],
   "source": []
  },
  {
   "cell_type": "markdown",
   "metadata": {},
   "source": [
    "## Install"
   ]
  },
  {
   "cell_type": "markdown",
   "metadata": {},
   "source": [
    "`pip install your_project_name`"
   ]
  },
  {
   "cell_type": "markdown",
   "metadata": {},
   "source": [
    "## How to use"
   ]
  },
  {
   "cell_type": "markdown",
   "metadata": {},
   "source": [
    "Fill me in please! Don't forget code examples:"
   ]
  },
  {
   "cell_type": "code",
   "execution_count": null,
   "metadata": {},
   "outputs": [],
   "source": []
  }
 ],
 "metadata": {
  "kernelspec": {
   "display_name": "Python 3",
   "language": "python",
   "name": "python3"
  },
  "language_info": {
   "codemirror_mode": {
    "name": "ipython",
    "version": 3
   },
   "file_extension": ".py",
   "mimetype": "text/x-python",
   "name": "python",
   "nbconvert_exporter": "python",
   "pygments_lexer": "ipython3",
   "version": "3.7.4"
  }
 },
 "nbformat": 4,
 "nbformat_minor": 2
}
