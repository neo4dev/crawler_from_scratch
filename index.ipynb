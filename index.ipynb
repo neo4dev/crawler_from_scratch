{
 "cells": [
  {
   "cell_type": "markdown",
   "metadata": {},
   "source": [
    "# 从零学习爬虫 Crawler from scratch\n",
    "\n",
    "> 运用Jupyter Notebook 演示爬虫是如何运作的"
   ]
  },
  {
   "cell_type": "markdown",
   "metadata": {},
   "source": [
    "## 如何使用\n",
    "1. 下载本教程 `git clone https://github.com/neo4dev/crawler_from_scratch.git`\n",
    "* [下载并安装Anaconda](https://www.anaconda.com/distribution/#download-section) （包含了Jupyter Notebook以及运行代码所需要的常用库）\n",
    "* 命令行中启动 Jupyter Notebook `jupyter notebook`"
   ]
  },
  {
   "cell_type": "markdown",
   "metadata": {},
   "source": [
    "## 学习准备\n",
    "\n",
    "1. 具备1年代码经验，熟悉python\n",
    "* 了解HTML，以及网络传输的基础知识\n",
    "* 以一个全新的心态面对这个学习过程\n",
    "    * 一定能学会，因为我自己也只是个PM\n",
    "    * jupyter notebook 特有的交互式展示方式，很好的还原了爬虫运行的每个环节，一看就懂\n"
   ]
  },
  {
   "cell_type": "markdown",
   "metadata": {},
   "source": [
    "## 学习大纲：\n",
    "\n",
    "1. 初级-入门（Requests + BeautifulSoup）\n",
    "    * [00_Getting_Started](./00_Getting_Started.ipynb)：最简单的爬虫，以及解析数据，存储成json  \n",
    "    * [01_Advanced_Request](./01_Advanced_Request.ipynb)：访问被拒？加cookie和headers，以及如何自动识别要爬取的内容 \n",
    "    * [02_Crawler_Sample](./02_Crawler_Sample.ipynb)：批量爬页面，完整实现bilibili搜索结果的爬取\n",
    "* 中级-大量数据（Proxy + Redis + Pandas）\n",
    "    * [11_Proxy_Request](./11_Proxy_Request.ipynb)：批量爬取免费代理，自动切换健康的代理\n",
    "    * [11a_IP_Pool](./11a_IP_Pool.ipynb)：批量爬取免费代理，自动切换健康的代理\n",
    "    * [12_Database](./12_Database.ipynb)：数据库 Redis，支持高性能数据读写 \n",
    "    * [13_Data_Analysis](./13_Data_Analysis.ipynb)数据分析 pandas\n",
    "    * sample:爬豆瓣读书\n",
    "* 高级-海量数据\n",
    "    * [21_Scrapy](./21_Scrapy.ipynb):探索式爬取,断点续爬\n",
    "    * [24_MongoDB](./24_MongoDB.ipynb):分布式存储\n",
    "    * Vaex:海量数据分析(一个开源的 DataFrame 库)\n",
    "    * 云端爬虫：服务器部署\n",
    "    * sample:爬人人都是产品经理全站\n",
    "* 终极-人工智能爬虫\n",
    "    * [21_Selenium](./21_Selenium.ipynb)APP爬虫：selenium模拟登陆，获取cookie，访问tiktok\n",
    "    * 自动判断request还是selenium，自动识别所需内容的breakpoint，自动优化爬取速度\n",
    "    * 网页数据自动生成api\n",
    "    * [Airtest](http://airtest.netease.com/) 任何肉眼可见的都能爬取 \n",
    "    * sample:爬tiktok或者拼多多\n",
    "    * 追踪项目，及时补充更新\n",
    "* 道德&法律\n",
    "    * 爬虫的尺度\n",
    "    * 法律风险\n"
   ]
  },
  {
   "cell_type": "markdown",
   "metadata": {},
   "source": [
    "## 学习资料：\n",
    "\n",
    "1. [nbdev](https://github.com/fastai/nbdev):fastai开源的探索式编程IDE\n",
    "    * [官方完整的一步一步教程](http://nbdev.fast.ai/tutorial/#Set-up-Repo)\n",
    "    * [用模板创建](https://github.com/fastai/nbdev_template/generate)一个github项目 \n",
    "    * 修改setting.ini 所有配置都在这里\n",
    "    * nbdev_build_lib 生成.py的文件 [其他命令](http://nbdev.fast.ai/cli/)\n",
    "    * nbdev_build_docs 生成文档所需文件\n",
    "* [Anaconda](https://www.anaconda.com/distribution/) 打包了用Python进行数据分析需要的一切环境、\n",
    "    * 通过Navigator访问\n",
    "    * 通过conda更新\n",
    "* [Jupyter](https://jupyter.org/) Notebook 基于Web的交互式计算环境\n",
    "    * Enter/双击: 进入编辑模式\n",
    "    * Esc: 退出编辑模式\n",
    "    * 命令行/非编辑模式\n",
    "        * D,D: 删除选中单元格\n",
    "        * A/B: 上方/下方插入新代码块\n",
    "        * H: 显示快捷键\n",
    "        * O: 选择单元格的输出\n",
    "    * 编辑模式\n",
    "        * ⇧↩: 运行代码块, 并选择下面的代码块\n",
    "        * ⇧M: 合并选中单元格\n",
    "* [markdown](https://www.runoob.com/markdown/md-tutorial.html)一种轻量级标记语言，可以便捷的为这里的文字添加样式\n",
    "\n"
   ]
  },
  {
   "cell_type": "markdown",
   "metadata": {},
   "source": [
    "## 其他教程\n",
    "* https://github.com/wistbean/learn_python3_spider\n",
    "* https://github.com/Kr1s77/Python-crawler-tutorial-starts-from-zero\n"
   ]
  },
  {
   "cell_type": "code",
   "execution_count": null,
   "metadata": {},
   "outputs": [],
   "source": []
  }
 ],
 "metadata": {
  "kernelspec": {
   "display_name": "Python 3",
   "language": "python",
   "name": "python3"
  }
 },
 "nbformat": 4,
 "nbformat_minor": 4
}
